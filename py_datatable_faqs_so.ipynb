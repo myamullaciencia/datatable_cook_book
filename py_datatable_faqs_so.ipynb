{
 "cells": [
  {
   "cell_type": "markdown",
   "metadata": {},
   "source": [
    "# py_datatable Q & A Notebook"
   ]
  },
  {
   "cell_type": "code",
   "execution_count": 389,
   "metadata": {},
   "outputs": [
    {
     "data": {
      "text/html": [
       "<style type='text/css'>\n",
       ".datatable table.frame { margin-bottom: 0; }\n",
       ".datatable table.frame thead { border-bottom: none; }\n",
       ".datatable table.frame tr.coltypes td {  color: #FFFFFF;  line-height: 6px;  padding: 0 0.5em;}\n",
       ".datatable .boolean { background: #DDDD99; }\n",
       ".datatable .object  { background: #565656; }\n",
       ".datatable .integer { background: #5D9E5D; }\n",
       ".datatable .float   { background: #4040CC; }\n",
       ".datatable .string  { background: #CC4040; }\n",
       ".datatable .row_index {  background: var(--jp-border-color3);  border-right: 1px solid var(--jp-border-color0);  color: var(--jp-ui-font-color3);  font-size: 9px;}\n",
       ".datatable .frame tr.coltypes .row_index {  background: var(--jp-border-color0);}\n",
       ".datatable th:nth-child(2) { padding-left: 12px; }\n",
       ".datatable .hellipsis {  color: var(--jp-cell-editor-border-color);}\n",
       ".datatable .vellipsis {  background: var(--jp-layout-color0);  color: var(--jp-cell-editor-border-color);}\n",
       ".datatable .na {  color: var(--jp-cell-editor-border-color);  font-size: 80%;}\n",
       ".datatable .footer { font-size: 9px; }\n",
       ".datatable .frame_dimensions {  background: var(--jp-border-color3);  border-top: 1px solid var(--jp-border-color0);  color: var(--jp-ui-font-color3);  display: inline-block;  opacity: 0.6;  padding: 1px 10px 1px 5px;}\n",
       "</style>\n"
      ],
      "text/plain": [
       "<IPython.core.display.HTML object>"
      ]
     },
     "metadata": {},
     "output_type": "display_data"
    }
   ],
   "source": [
    "# Importing the necessary libraries\n",
    "import datatable as dt\n",
    "from datatable import f,by,count,sum,update,sort\n",
    "dt.init_styles()\n",
    "dt.options.display.head_nrows=4\n",
    "dt.options.display.tail_nrows=4"
   ]
  },
  {
   "cell_type": "markdown",
   "metadata": {},
   "source": [
    "## 1. Data Manipulations"
   ]
  },
  {
   "cell_type": "markdown",
   "metadata": {},
   "source": [
    "### 1. 1 How to sort a datatable frame in descending order.?"
   ]
  },
  {
   "cell_type": "markdown",
   "metadata": {},
   "source": [
    "We have created a sample dataframe with two columns such as product(character type) and totals(numeric type) using a frame object from dt and assigned it to a variable called X."
   ]
  },
  {
   "cell_type": "code",
   "execution_count": null,
   "metadata": {},
   "outputs": [],
   "source": [
    "X = dt.Frame(product=[\"apples\", \"spam\", \"goo\", \"bobcat\", \"gold\"], \n",
    "                 totals=[5.4, 2.777, 0.1, 2.9, 11.1])"
   ]
  },
  {
   "cell_type": "code",
   "execution_count": null,
   "metadata": {},
   "outputs": [],
   "source": [
    "X"
   ]
  },
  {
   "cell_type": "markdown",
   "metadata": {},
   "source": [
    "As you might have already know about the datatable syntax as below \n",
    "\n",
    "\n",
    "\n",
    "                                        DT[I,J,BY|SORT|JOIN]\n",
    "                                        \n",
    "                                       \n",
    "                                       \n",
    "                                       \n",
    "                                       \n",
    "For now look at the sort function, it takes eigther a single column or multiple columns in, and it would be applicable for character and numeric type fields\n",
    "\n",
    "\n",
    "1. In below code chunk case-1 we have passed a column totals in sort so that it arranges the data frame in ascending order considering the column(total).\n",
    "\n",
    "2. In code chunk case-2 the same column is given with appending a symbol(-) so that it arranges the data frame in descending order considering the column(total).\n",
    "\n",
    "3. In code chunk case - 3 we are trying to arrange the dataframe in ascending order of the products column"
   ]
  },
  {
   "cell_type": "code",
   "execution_count": null,
   "metadata": {},
   "outputs": [],
   "source": [
    "# case - 1\n",
    "X[:,:,sort(f.totals)]"
   ]
  },
  {
   "cell_type": "code",
   "execution_count": null,
   "metadata": {},
   "outputs": [],
   "source": [
    "# case - 2 \n",
    "X[:,:,sort(-f.totals)]"
   ]
  },
  {
   "cell_type": "code",
   "execution_count": null,
   "metadata": {},
   "outputs": [],
   "source": [
    "# case - 3\n",
    "X[:,:,sort(f.product)]"
   ]
  },
  {
   "cell_type": "markdown",
   "metadata": {},
   "source": [
    "Let us create a one more dataframe with repeated values of products as below"
   ]
  },
  {
   "cell_type": "code",
   "execution_count": null,
   "metadata": {},
   "outputs": [],
   "source": [
    "X = dt.Frame(products=['apples','spam','apples','gold','spam'],\n",
    "             totals=[20,40,35,10,5])"
   ]
  },
  {
   "cell_type": "markdown",
   "metadata": {},
   "source": [
    "We are now summing off the totals per each category of products and arrange it in descending order of newly created column tot_sum"
   ]
  },
  {
   "cell_type": "code",
   "execution_count": null,
   "metadata": {},
   "outputs": [],
   "source": [
    "X[:,{'tot_sum':sum(f.totals)},by(f.products)\n",
    " ][:,:,sort(-f.tot_sum)\n",
    "  ]"
   ]
  },
  {
   "cell_type": "markdown",
   "metadata": {},
   "source": [
    "### 1.2 How to count the number of instances for each category using group by in pydatadable?"
   ]
  },
  {
   "cell_type": "markdown",
   "metadata": {},
   "source": [
    "Here is our basic syntax representation of datatable frame- \n",
    "\n",
    "\n",
    "                                        DT[I,J,BY|SORT|JOIN]"
   ]
  },
  {
   "cell_type": "markdown",
   "metadata": {},
   "source": [
    "A sample dataframe created with the column name **languages** and would like to count how many of students are interested in learning each language category using aggregations such as by along with count,min,max,mean etc etc..\n",
    "\n",
    "Yes, its correct we should use a function called **count** to caluclate the number of observations and let us see how it works below. "
   ]
  },
  {
   "cell_type": "code",
   "execution_count": null,
   "metadata": {},
   "outputs": [],
   "source": [
    "prog_lang_dt = dt.Frame(languages= ['html', 'R', 'R', 'html', 'R', 'javascript',\n",
    "                                    'R', 'javascript', 'html'])"
   ]
  },
  {
   "cell_type": "code",
   "execution_count": null,
   "metadata": {},
   "outputs": [],
   "source": [
    "prog_lang_dt"
   ]
  },
  {
   "cell_type": "code",
   "execution_count": null,
   "metadata": {},
   "outputs": [],
   "source": [
    "prog_lang_dt[:,count(),by(f.languages)]"
   ]
  },
  {
   "cell_type": "markdown",
   "metadata": {},
   "source": [
    "If we would like like to rename a count column as total it can be done as follows,"
   ]
  },
  {
   "cell_type": "code",
   "execution_count": null,
   "metadata": {},
   "outputs": [],
   "source": [
    "prog_lang_dt[:,{'total':count()},by(f.languages)]"
   ]
  },
  {
   "cell_type": "markdown",
   "metadata": {},
   "source": [
    "**count** can also take a column name as argument and report how many of non-missing entries in that specific column. for this example we will create a new dataframe as Y."
   ]
  },
  {
   "cell_type": "code",
   "execution_count": null,
   "metadata": {},
   "outputs": [],
   "source": [
    "data = \"\"\"\n",
    "       id|charges|payment_method\n",
    "       634-VHG|28|Cheque\n",
    "       365-DQC|33.5|Credit card\n",
    "       264-PPR|631|--\n",
    "       845-AJO|42.3|\n",
    "       789-KPO|56.9|Bank Transfer\n",
    "       \"\"\""
   ]
  },
  {
   "cell_type": "code",
   "execution_count": null,
   "metadata": {},
   "outputs": [],
   "source": [
    "# read the data\n",
    "Y = dt.fread(data, na_strings=['--', ''])"
   ]
  },
  {
   "cell_type": "code",
   "execution_count": null,
   "metadata": {},
   "outputs": [],
   "source": [
    "Y[:,count(f.payment_method)]"
   ]
  },
  {
   "cell_type": "markdown",
   "metadata": {},
   "source": [
    "Here its simpy shows the count of payment methods are 3 and the remaining 2 observations are ignored"
   ]
  },
  {
   "cell_type": "markdown",
   "metadata": {},
   "source": [
    "### 1.3 How to type cast a dataframe column in pydatatable?"
   ]
  },
  {
   "cell_type": "markdown",
   "metadata": {},
   "source": [
    "We will create a dataframe with four columns such as cust_id,sales,profit_perc, and default"
   ]
  },
  {
   "cell_type": "code",
   "execution_count": null,
   "metadata": {},
   "outputs": [],
   "source": [
    "sales_DT = dt.Frame(\n",
    "\n",
    "    {\"cust_id\":[893232.43],\n",
    "     \n",
    "     \"sales\":[1234532],\n",
    "     \n",
    "     \"profit_perc\":['10.43'],\n",
    "     \n",
    "     \"default\":[1]\n",
    "    }\n",
    ")"
   ]
  },
  {
   "cell_type": "markdown",
   "metadata": {},
   "source": [
    "Check the each column datatype as below - "
   ]
  },
  {
   "cell_type": "code",
   "execution_count": null,
   "metadata": {},
   "outputs": [],
   "source": [
    "sales_DT.stypes"
   ]
  },
  {
   "cell_type": "markdown",
   "metadata": {},
   "source": [
    "Here are some key points:\n",
    "\n",
    "-  cust_id is a type of float but in general customer id should be eigther integer or string type\n",
    "\n",
    "-  sales is a type of int, it should not always be an integer and it may also be in float types\n",
    "\n",
    "-  profict_perc is a type of string, here it should be a float type\n",
    "\n",
    "-  default is a type of int and it should be a bool"
   ]
  },
  {
   "cell_type": "markdown",
   "metadata": {},
   "source": [
    "**Note** : We have a syntax to be followed when we are to converting a column datatype from one to another as below"
   ]
  },
  {
   "cell_type": "markdown",
   "metadata": {},
   "source": [
    "                           DT['Column_name']= new data type (int,floar,str,bool)"
   ]
  },
  {
   "cell_type": "markdown",
   "metadata": {},
   "source": [
    "First, we will now try to apply the above formula on conveting a column type from float(**cust_id**) to integer "
   ]
  },
  {
   "cell_type": "code",
   "execution_count": null,
   "metadata": {},
   "outputs": [],
   "source": [
    "sales_DT['cust_id'] = int"
   ]
  },
  {
   "cell_type": "markdown",
   "metadata": {},
   "source": [
    "Here, let us verify the same whether it has become an integer type or not ?"
   ]
  },
  {
   "cell_type": "code",
   "execution_count": null,
   "metadata": {},
   "outputs": [],
   "source": [
    "sales_DT.stypes"
   ]
  },
  {
   "cell_type": "markdown",
   "metadata": {},
   "source": [
    "Yes, it is converted. similarily we can convert a type from int(**sales**) to float and check."
   ]
  },
  {
   "cell_type": "code",
   "execution_count": null,
   "metadata": {},
   "outputs": [],
   "source": [
    "sales_DT['sales'] = float"
   ]
  },
  {
   "cell_type": "markdown",
   "metadata": {},
   "source": [
    "We have a column default with int type and we can have it as bool type."
   ]
  },
  {
   "cell_type": "code",
   "execution_count": null,
   "metadata": {},
   "outputs": [],
   "source": [
    "sales_DT['default'] = bool"
   ]
  },
  {
   "cell_type": "code",
   "execution_count": null,
   "metadata": {},
   "outputs": [],
   "source": [
    "sales_DT.stypes"
   ]
  },
  {
   "cell_type": "markdown",
   "metadata": {},
   "source": [
    "So far we have seen the convertions from \n",
    "\n",
    "- int to float\n",
    "- float to int \n",
    "- int to str \n",
    "- float to string \n",
    "- int to bool\n",
    "- etc etc "
   ]
  },
  {
   "cell_type": "code",
   "execution_count": null,
   "metadata": {},
   "outputs": [],
   "source": [
    "sales_DT"
   ]
  },
  {
   "cell_type": "markdown",
   "metadata": {},
   "source": [
    "That is OK, you have noticed or tried converting a column from string to any other types **(int,float,bool)**"
   ]
  },
  {
   "cell_type": "code",
   "execution_count": null,
   "metadata": {},
   "outputs": [],
   "source": [
    "sales_DT['profit_perc'] = float"
   ]
  },
  {
   "cell_type": "markdown",
   "metadata": {},
   "source": [
    "**Note** : String to other type converions are not yet implemented in datatable versions till 0.10.1 and they would be surely implemented in the upcoming versions."
   ]
  },
  {
   "cell_type": "markdown",
   "metadata": {},
   "source": [
    "### 1.4 How to select columns based on their data types?"
   ]
  },
  {
   "cell_type": "markdown",
   "metadata": {},
   "source": [
    "We will import a data from a specified URL source for this example as-"
   ]
  },
  {
   "cell_type": "code",
   "execution_count": null,
   "metadata": {},
   "outputs": [],
   "source": [
    "spotify_songs_dt = dt.fread('https://raw.githubusercontent.com/rfordatascience/tidytuesday/master/data/2020/2020-01-21/spotify_songs.csv')"
   ]
  },
  {
   "cell_type": "markdown",
   "metadata": {},
   "source": [
    "Datafram dimensions(rows,columns) can be checked as below"
   ]
  },
  {
   "cell_type": "code",
   "execution_count": null,
   "metadata": {},
   "outputs": [],
   "source": [
    "spotify_songs_dt.shape"
   ]
  },
  {
   "cell_type": "markdown",
   "metadata": {},
   "source": [
    "Spotify dataframe has come with about 32K observations and 23 columns and the columns types can be viewed as"
   ]
  },
  {
   "cell_type": "code",
   "execution_count": null,
   "metadata": {},
   "outputs": [],
   "source": [
    "spotify_songs_dt.stypes"
   ]
  },
  {
   "cell_type": "markdown",
   "metadata": {},
   "source": [
    "We would just like to take a look at the fields which are an any  type of ( int or string or bool or float ) etc etc. let us understand how it can be achived in py-datatable. we are already familiarized with datatable I,J sytax style as below. In J would always be made use to select the columns based  on given names or indices etc etc.. The required datatypes should be entered in the J expression so that it will display the respective observations."
   ]
  },
  {
   "cell_type": "markdown",
   "metadata": {},
   "source": [
    "                                DT[:,J]"
   ]
  },
  {
   "cell_type": "markdown",
   "metadata": {},
   "source": [
    "Well, In a first attempt let us retrive the observations for all the interger columns as - "
   ]
  },
  {
   "cell_type": "code",
   "execution_count": null,
   "metadata": {},
   "outputs": [],
   "source": [
    "spotify_songs_dt[:,dt.int32]"
   ]
  },
  {
   "cell_type": "markdown",
   "metadata": {},
   "source": [
    "In a second attempt, we would like to see both float and bool type columns, and the below is the solution for it."
   ]
  },
  {
   "cell_type": "code",
   "execution_count": null,
   "metadata": {},
   "outputs": [],
   "source": [
    "spotify_songs_dt[:,[dt.float64,dt.bool8]]"
   ]
  },
  {
   "cell_type": "markdown",
   "metadata": {},
   "source": [
    "So here we have learnt that if more than one type of columns are required to be selected the types should be passed in J expression using a list i.e [dt.int32,dt.str32,dt.bool8] \n",
    "\n",
    "**Note** : In above two cases we have limited the output observations for 5 only. "
   ]
  },
  {
   "cell_type": "markdown",
   "metadata": {},
   "source": [
    "### 1.5 How do deselect columns from dataframe?"
   ]
  },
  {
   "cell_type": "markdown",
   "metadata": {},
   "source": [
    "Deselecting the columns from dataframe is as important as selecting the columns. Deselection of columns can be done in J position itself specifying a function called **removed** along with the f expressions. let us look at the syntax first."
   ]
  },
  {
   "cell_type": "markdown",
   "metadata": {},
   "source": [
    "                DT[:,f[:].remove(cols to be kept a side)]"
   ]
  },
  {
   "cell_type": "markdown",
   "metadata": {},
   "source": [
    "Here is our first example - deselect a column track_id from the spotify dataframe."
   ]
  },
  {
   "cell_type": "code",
   "execution_count": null,
   "metadata": {},
   "outputs": [],
   "source": [
    "spotify_songs_dt[:,f[:].remove(f.track_id)]"
   ]
  },
  {
   "cell_type": "markdown",
   "metadata": {},
   "source": [
    "In a second case - deselect these four columns(track_album_id,track_album_name,playlist_name,playlist_genre) from spotify dataframe - "
   ]
  },
  {
   "cell_type": "code",
   "execution_count": null,
   "metadata": {},
   "outputs": [],
   "source": [
    "spotify_songs_dt[:,f[:].remove([f.track_album_id,f.track_album_name,f.playlist_name,f.playlist_genre])]"
   ]
  },
  {
   "cell_type": "markdown",
   "metadata": {},
   "source": [
    "Here we have given a column names in a list and let us understand the anotomy of this syntax. \n",
    "\n",
    "- f[:]: it selects all the columns\n",
    "\n",
    "- f[:].remove([f.x,f.y,f.z]) will deselect these three columns from others\n",
    "\n"
   ]
  },
  {
   "cell_type": "markdown",
   "metadata": {},
   "source": [
    "What if our requirement is based on a type of column, of course it can also be achived with the same syntax as follows. and here we are deselecting all the string type columns from spotify dataframe."
   ]
  },
  {
   "cell_type": "code",
   "execution_count": null,
   "metadata": {},
   "outputs": [],
   "source": [
    "spotify_songs_dt[:,f[:].remove(f[dt.str32])]"
   ]
  },
  {
   "cell_type": "markdown",
   "metadata": {},
   "source": [
    "### 1.6 How to remove a list of columns from dataframe?"
   ]
  },
  {
   "cell_type": "markdown",
   "metadata": {},
   "source": [
    "We already learnt how to deselect a list of columns, but here we are now going to see how to remove a list of columns from dataframe. and the below is the sytax for it."
   ]
  },
  {
   "cell_type": "markdown",
   "metadata": {},
   "source": [
    "            del DT[:,columns to be removed]"
   ]
  },
  {
   "cell_type": "markdown",
   "metadata": {},
   "source": [
    "Let us create a sample dataframe as - "
   ]
  },
  {
   "cell_type": "code",
   "execution_count": null,
   "metadata": {},
   "outputs": [],
   "source": [
    "comidas_gen_dt = dt.Frame({\n",
    "    'country':list('ABCDE'),\n",
    "    'id':[1,2,3,4,5],\n",
    "    'egg':[10,20,30,5,40],\n",
    "    'veg':[30,40,10,3,5],\n",
    "    'fork':[5,10,2,1,9],\n",
    "    'beef':[90,50,20,None,4]})"
   ]
  },
  {
   "cell_type": "code",
   "execution_count": null,
   "metadata": {},
   "outputs": [],
   "source": [
    "comidas_gen_dt"
   ]
  },
  {
   "cell_type": "markdown",
   "metadata": {},
   "source": [
    "I would like to remove a column id from this dataframe following the above syntax - "
   ]
  },
  {
   "cell_type": "code",
   "execution_count": null,
   "metadata": {},
   "outputs": [],
   "source": [
    "del comidas_gen_dt[:,\"id\"]"
   ]
  },
  {
   "cell_type": "code",
   "execution_count": null,
   "metadata": {},
   "outputs": [],
   "source": [
    "comidas_gen_dt"
   ]
  },
  {
   "cell_type": "markdown",
   "metadata": {},
   "source": [
    "we noticed that the column id is no more existed in comidas dataframe, and if we want to remove more than one column their names should be passed in a list type as below-"
   ]
  },
  {
   "cell_type": "code",
   "execution_count": null,
   "metadata": {},
   "outputs": [],
   "source": [
    "del comidas_gen_dt[:,[\"veg\",\"beef\"]]"
   ]
  },
  {
   "cell_type": "code",
   "execution_count": null,
   "metadata": {},
   "outputs": [],
   "source": [
    "comidas_gen_dt"
   ]
  },
  {
   "cell_type": "markdown",
   "metadata": {},
   "source": [
    "We are just left with 3 columns and i'm making a copy of this dataframe as - "
   ]
  },
  {
   "cell_type": "code",
   "execution_count": null,
   "metadata": {},
   "outputs": [],
   "source": [
    "DT_comidas = comidas_gen_dt.copy()"
   ]
  },
  {
   "cell_type": "markdown",
   "metadata": {},
   "source": [
    "DT_comidas is an independent from the comidas_gen_dt dataframe, means whatever the changes we make on comidas_get_dt those will not be replicated on DT_comidas and let us see how it is worked out."
   ]
  },
  {
   "cell_type": "markdown",
   "metadata": {},
   "source": [
    "From dataframe comidas_gen_gt we are going to remove a column fork as - "
   ]
  },
  {
   "cell_type": "code",
   "execution_count": null,
   "metadata": {},
   "outputs": [],
   "source": [
    "del comidas_gen_dt[:,\"fork\"]"
   ]
  },
  {
   "cell_type": "code",
   "execution_count": null,
   "metadata": {},
   "outputs": [],
   "source": [
    "comidas_gen_dt"
   ]
  },
  {
   "cell_type": "code",
   "execution_count": null,
   "metadata": {},
   "outputs": [],
   "source": [
    "DT_comidas"
   ]
  },
  {
   "cell_type": "markdown",
   "metadata": {},
   "source": [
    "Fork column is still available in DT_comidas and it is removed from comidas_gen_dt."
   ]
  },
  {
   "cell_type": "markdown",
   "metadata": {},
   "source": [
    "### 1.7 How to filter NA's from dataframe ?"
   ]
  },
  {
   "cell_type": "code",
   "execution_count": null,
   "metadata": {},
   "outputs": [],
   "source": [
    "datos = \"\"\"\n",
    "       id|charges|payment_method\n",
    "       634-VHG|28|Cheque\n",
    "       365-DQC|33.5|Credit card\n",
    "       264-PPR|631|--\n",
    "       845-AJO|42.3|--\n",
    "       769-LPO|56.9|Gpay\n",
    "       529-GPO|56.9|--\n",
    "       903-QPO|--|--\n",
    "       234-CPO|89.9|Bank Transfer\n",
    "       102-PPO|26.9|Cash\n",
    "       303-LPO|16.9|--\n",
    "       692-CPO|--|PhonePay\n",
    "       \"\"\""
   ]
  },
  {
   "cell_type": "code",
   "execution_count": null,
   "metadata": {},
   "outputs": [],
   "source": [
    "payments_dt = dt.fread(datos,na_strings=[\"--\"])"
   ]
  },
  {
   "cell_type": "markdown",
   "metadata": {},
   "source": [
    "We will have a sample dataframe for this case as below."
   ]
  },
  {
   "cell_type": "code",
   "execution_count": null,
   "metadata": {},
   "outputs": [],
   "source": [
    "payments_dt"
   ]
  },
  {
   "cell_type": "markdown",
   "metadata": {},
   "source": [
    "We have a function called **countna** from datatable, on applying it on dataframe it will count how many of NA's are in each column and returns a dataframe as below."
   ]
  },
  {
   "cell_type": "code",
   "execution_count": null,
   "metadata": {},
   "outputs": [],
   "source": [
    "payments_dt.countna()"
   ]
  },
  {
   "cell_type": "markdown",
   "metadata": {},
   "source": [
    "Here we have 2 NA's in charges column and 5 NA's in payment method."
   ]
  },
  {
   "cell_type": "markdown",
   "metadata": {},
   "source": [
    "As per the Datatable sytax we have a filter option I position as,"
   ]
  },
  {
   "cell_type": "markdown",
   "metadata": {},
   "source": [
    "                           DT[I,:]"
   ]
  },
  {
   "cell_type": "markdown",
   "metadata": {},
   "source": [
    "We can now call a function called **isna** from datatable, pass a column name whose NA's should be checked. For example we would like to filter NAs for a column charges as follows - "
   ]
  },
  {
   "cell_type": "code",
   "execution_count": null,
   "metadata": {},
   "outputs": [],
   "source": [
    "payments_dt[dt.isna(f.charges),:]"
   ]
  },
  {
   "cell_type": "markdown",
   "metadata": {},
   "source": [
    "What if we would like to not to include NA's observations per a column charges, and it can be done as follows- here we have just append that isna function with a symbol (~)."
   ]
  },
  {
   "cell_type": "code",
   "execution_count": null,
   "metadata": {},
   "outputs": [],
   "source": [
    "payments_dt[~dt.isna(f.charges),:]"
   ]
  },
  {
   "cell_type": "markdown",
   "metadata": {},
   "source": [
    "We could also use the **isna** in by position to count how many of observations are having NA's per in specified column."
   ]
  },
  {
   "cell_type": "code",
   "execution_count": null,
   "metadata": {},
   "outputs": [],
   "source": [
    "payments_dt[:,count(),by(dt.isna(f.payment_method))]"
   ]
  },
  {
   "cell_type": "markdown",
   "metadata": {},
   "source": [
    "We have observed that there are 5 NA's and 6 observations are having the values."
   ]
  },
  {
   "cell_type": "markdown",
   "metadata": {},
   "source": [
    "There are some cases where we have to see two or more observations are together having the NA's. for example we can check for NA's across payment method and charges as below. we have made use of some logical operations and will be discussed when a case comes in. for now you can just remember this syntax."
   ]
  },
  {
   "cell_type": "code",
   "execution_count": null,
   "metadata": {},
   "outputs": [],
   "source": [
    "payments_dt[:,count(),by((dt.isna(f.payment_method)) & (dt.isna(f.charges)))]"
   ]
  },
  {
   "cell_type": "markdown",
   "metadata": {},
   "source": [
    "Here we can see that there is only one observation having NA's for both of these columns."
   ]
  },
  {
   "cell_type": "markdown",
   "metadata": {},
   "source": [
    "### 1.8 How to modify or update column values on a condition?"
   ]
  },
  {
   "cell_type": "markdown",
   "metadata": {},
   "source": [
    "We are often required to modify the values of a column and it can be done following the below syntax -"
   ]
  },
  {
   "cell_type": "markdown",
   "metadata": {},
   "source": [
    "        DT[I-specify filter condition, J-Specify column name] = New value"
   ]
  },
  {
   "cell_type": "markdown",
   "metadata": {},
   "source": [
    "Assume we have a typo error in id columm for this observation **\"102-PPO\"**, and we want to change to to **103-PPO** - "
   ]
  },
  {
   "cell_type": "code",
   "execution_count": null,
   "metadata": {},
   "outputs": [],
   "source": [
    "payments_dt[f.id==\"102-PPO\",f.id]=\"103-PPO\""
   ]
  },
  {
   "cell_type": "markdown",
   "metadata": {},
   "source": [
    "and it can be viewed with a updated value."
   ]
  },
  {
   "cell_type": "code",
   "execution_count": null,
   "metadata": {},
   "outputs": [],
   "source": [
    "payments_dt"
   ]
  },
  {
   "cell_type": "markdown",
   "metadata": {},
   "source": [
    "We are now going to fill in NA's with a specific value in charges column as below. "
   ]
  },
  {
   "cell_type": "code",
   "execution_count": null,
   "metadata": {},
   "outputs": [],
   "source": [
    "payments_dt[dt.isna(f.charges),f.charges]=20.45"
   ]
  },
  {
   "cell_type": "code",
   "execution_count": null,
   "metadata": {},
   "outputs": [],
   "source": [
    "payments_dt"
   ]
  },
  {
   "cell_type": "markdown",
   "metadata": {},
   "source": [
    "### 1.9 How to add a new column to a dataframe ?"
   ]
  },
  {
   "cell_type": "markdown",
   "metadata": {},
   "source": [
    "We add on some new columns to the dataframe as on when required, it can be achieved in two ways in py-datable.\n",
    "\n",
    "1. a default value will be assigned to a newly created column\n",
    "\n",
    "2. bindind a new dataframe columns to the existing dataframe."
   ]
  },
  {
   "cell_type": "markdown",
   "metadata": {},
   "source": [
    "Case 1: a new column **default** created with all True values"
   ]
  },
  {
   "cell_type": "code",
   "execution_count": null,
   "metadata": {},
   "outputs": [],
   "source": [
    "payments_dt['default'] = True"
   ]
  },
  {
   "cell_type": "code",
   "execution_count": null,
   "metadata": {},
   "outputs": [],
   "source": [
    "payments_dt"
   ]
  },
  {
   "cell_type": "markdown",
   "metadata": {},
   "source": [
    "Case 2: we are going to bind the two dataframe columns as below"
   ]
  },
  {
   "cell_type": "code",
   "execution_count": null,
   "metadata": {},
   "outputs": [],
   "source": [
    "payment_default = dt.Frame(defalut_col=[True,False,True,False,True,False,False,True,False,False,True])"
   ]
  },
  {
   "cell_type": "code",
   "execution_count": null,
   "metadata": {},
   "outputs": [],
   "source": [
    "payments_new_dt = dt.cbind(payments_dt,payment_default)"
   ]
  },
  {
   "cell_type": "code",
   "execution_count": null,
   "metadata": {},
   "outputs": [],
   "source": [
    "payments_new_dt"
   ]
  },
  {
   "cell_type": "markdown",
   "metadata": {},
   "source": [
    "Case 3: We are trying to bind two dataframes which are having unequal number of observations."
   ]
  },
  {
   "cell_type": "code",
   "execution_count": null,
   "metadata": {},
   "outputs": [],
   "source": [
    "payment_default_1 = dt.Frame(defalut_col=[True,False,True,False,True,False,False,True,False,False])"
   ]
  },
  {
   "cell_type": "code",
   "execution_count": null,
   "metadata": {},
   "outputs": [],
   "source": [
    "payment_default_1.shape"
   ]
  },
  {
   "cell_type": "code",
   "execution_count": null,
   "metadata": {},
   "outputs": [],
   "source": [
    "dt.cbind(payments_dt,payment_default_1)"
   ]
  },
  {
   "cell_type": "code",
   "execution_count": null,
   "metadata": {},
   "outputs": [],
   "source": [
    "dt.cbind(payments_dt,payment_default_1,force=True)"
   ]
  },
  {
   "cell_type": "markdown",
   "metadata": {},
   "source": [
    "**Note** : It is recommended that both dataframes should have the equal number of observations, however if they are not equally sized an extra option **force** should be passed in with an option **True**, so that the targeted observations are filled with NA's"
   ]
  },
  {
   "cell_type": "markdown",
   "metadata": {},
   "source": [
    "### 1.10 How to add new observations to dataframe ?"
   ]
  },
  {
   "cell_type": "code",
   "execution_count": null,
   "metadata": {},
   "outputs": [],
   "source": [
    "# a dictionary with 5 key values\n",
    "new_obs = {\n",
    "    \n",
    "    'id' : ['123-AMS','923-CIQ','100-ICIC'],\n",
    "    'charges': [45.3,90.3,21.9],\n",
    "    'payment_method': ['Gpay','Cheque','Ppay'],\n",
    "    'default' : [False,False,False],\n",
    "    'def_col':[False,True,False]\n",
    "    \n",
    "}"
   ]
  },
  {
   "cell_type": "code",
   "execution_count": null,
   "metadata": {},
   "outputs": [],
   "source": [
    "# new dataframe created\n",
    "payment_extra_dt = dt.Frame(new_obs)"
   ]
  },
  {
   "cell_type": "code",
   "execution_count": null,
   "metadata": {},
   "outputs": [],
   "source": [
    "payment_extra_dt"
   ]
  },
  {
   "cell_type": "markdown",
   "metadata": {},
   "source": [
    "We are now going to bind the rows of these two dataframes, here notice that the col **def_col** not existed in payments_new_dt, and let us see how this can be handled  below."
   ]
  },
  {
   "cell_type": "code",
   "execution_count": null,
   "metadata": {},
   "outputs": [],
   "source": [
    "dt.rbind(payments_new_dt,payment_extra_dt)"
   ]
  },
  {
   "cell_type": "code",
   "execution_count": null,
   "metadata": {},
   "outputs": [],
   "source": [
    "dt.rbind(payments_new_dt,payment_extra_dt,force=True)"
   ]
  },
  {
   "cell_type": "markdown",
   "metadata": {},
   "source": [
    "**Note** : It is recommended that both dataframes should have the same columns, however if they are not same an extra option **force** should be passed in with an option **True** so that the column values will be filled in with NA's."
   ]
  },
  {
   "cell_type": "markdown",
   "metadata": {},
   "source": [
    "### 1.11 How to rename column names of dataframe?"
   ]
  },
  {
   "cell_type": "markdown",
   "metadata": {},
   "source": [
    "There are couple of typo errors in column names such as in the below dataframe we have a column **defalut_col** which have a spelling mistake and it should be renamed to **default_col**."
   ]
  },
  {
   "cell_type": "code",
   "execution_count": null,
   "metadata": {},
   "outputs": [],
   "source": [
    "payments_new_dt"
   ]
  },
  {
   "cell_type": "code",
   "execution_count": null,
   "metadata": {},
   "outputs": [],
   "source": [
    "# list out the DT column names\n",
    "payments_new_dt.names"
   ]
  },
  {
   "cell_type": "code",
   "execution_count": null,
   "metadata": {},
   "outputs": [],
   "source": [
    "# Change the column names using a dict {'old_col':'new_col'}\n",
    "payments_new_dt.names = {'defalut_col':'default_col'}"
   ]
  },
  {
   "cell_type": "code",
   "execution_count": null,
   "metadata": {},
   "outputs": [],
   "source": [
    "payments_new_dt"
   ]
  },
  {
   "cell_type": "markdown",
   "metadata": {},
   "source": [
    "### 1.12 How to find unique values by group in dataframe?"
   ]
  },
  {
   "cell_type": "code",
   "execution_count": null,
   "metadata": {},
   "outputs": [],
   "source": [
    "DT_ventas = dt.Frame({'c_id':[1,2,1,2,3,2,4,2,4,5],\n",
    "                      'cust_life_cycle':['Lead','Active','Lead','Active','Inactive','Lead','Active','Lead','Inactive','Lead']\n",
    "                     })"
   ]
  },
  {
   "cell_type": "code",
   "execution_count": null,
   "metadata": {},
   "outputs": [],
   "source": [
    "DT_ventas"
   ]
  },
  {
   "cell_type": "code",
   "execution_count": null,
   "metadata": {},
   "outputs": [],
   "source": [
    "DT_ventas[:,count(),by(f.cust_life_cycle,f.c_id)\n",
    "         ][:,{'unique_cids':count()},by(f.cust_life_cycle)]"
   ]
  },
  {
   "cell_type": "markdown",
   "metadata": {},
   "source": [
    "### 1.13 How to filter observations for the multiple values passed in the I expression of pydatatable frame?"
   ]
  },
  {
   "cell_type": "code",
   "execution_count": 387,
   "metadata": {},
   "outputs": [],
   "source": [
    "DT_films = dt.Frame({'film':['Don','Warriors','Dragon','Chicago','Lion','Don','Chicago','Warriors'],\n",
    "                     'gross':[400,500,600,100,200,300,900,1000]\n",
    "                    })"
   ]
  },
  {
   "cell_type": "code",
   "execution_count": 388,
   "metadata": {},
   "outputs": [
    {
     "data": {
      "text/html": [
       "<div class='datatable'>\n",
       "  <table class='frame'>\n",
       "  <thead>\n",
       "    <tr class='colnames'><td class='row_index'></td><th>film</th><th>gross</th></tr>\n",
       "    <tr class='coltypes'><td class='row_index'></td><td class='string' title='str32'>&#x25AA;&#x25AA;&#x25AA;&#x25AA;</td><td class='integer' title='int32'>&#x25AA;&#x25AA;&#x25AA;&#x25AA;</td></tr>\n",
       "  </thead>\n",
       "  <tbody>\n",
       "    <tr><td class='row_index'>0</td><td>Don</td><td>400</td></tr>\n",
       "    <tr><td class='row_index'>1</td><td>Warriors</td><td>500</td></tr>\n",
       "    <tr><td class='row_index'>2</td><td>Dragon</td><td>600</td></tr>\n",
       "    <tr><td class='row_index'>3</td><td>Chicago</td><td>100</td></tr>\n",
       "    <tr><td class='row_index'>4</td><td>Lion</td><td>200</td></tr>\n",
       "    <tr><td class='row_index'>5</td><td>Don</td><td>300</td></tr>\n",
       "    <tr><td class='row_index'>6</td><td>Chicago</td><td>900</td></tr>\n",
       "    <tr><td class='row_index'>7</td><td>Warriors</td><td>1000</td></tr>\n",
       "  </tbody>\n",
       "  </table>\n",
       "  <div class='footer'>\n",
       "    <div class='frame_dimensions'>8 rows &times; 2 columns</div>\n",
       "  </div>\n",
       "</div>\n"
      ],
      "text/plain": [
       "<Frame [8 rows x 2 cols]>"
      ]
     },
     "execution_count": 388,
     "metadata": {},
     "output_type": "execute_result"
    }
   ],
   "source": [
    "DT_films"
   ]
  },
  {
   "cell_type": "code",
   "execution_count": 390,
   "metadata": {},
   "outputs": [
    {
     "data": {
      "text/html": [
       "<div class='datatable'>\n",
       "  <table class='frame'>\n",
       "  <thead>\n",
       "    <tr class='colnames'><td class='row_index'></td><th>film</th><th>gross</th></tr>\n",
       "    <tr class='coltypes'><td class='row_index'></td><td class='string' title='str32'>&#x25AA;&#x25AA;&#x25AA;&#x25AA;</td><td class='integer' title='int32'>&#x25AA;&#x25AA;&#x25AA;&#x25AA;</td></tr>\n",
       "  </thead>\n",
       "  <tbody>\n",
       "    <tr><td class='row_index'>0</td><td>Don</td><td>400</td></tr>\n",
       "    <tr><td class='row_index'>1</td><td>Chicago</td><td>100</td></tr>\n",
       "    <tr><td class='row_index'>2</td><td>Don</td><td>300</td></tr>\n",
       "    <tr><td class='row_index'>3</td><td>Chicago</td><td>900</td></tr>\n",
       "  </tbody>\n",
       "  </table>\n",
       "  <div class='footer'>\n",
       "    <div class='frame_dimensions'>4 rows &times; 2 columns</div>\n",
       "  </div>\n",
       "</div>\n"
      ],
      "text/plain": [
       "<Frame [4 rows x 2 cols]>"
      ]
     },
     "execution_count": 390,
     "metadata": {},
     "output_type": "execute_result"
    }
   ],
   "source": [
    "DT_films[((f.film==\"Don\") | (f.film==\"Chicago\")),:]"
   ]
  },
  {
   "cell_type": "code",
   "execution_count": 398,
   "metadata": {},
   "outputs": [],
   "source": [
    "# Loading libraries\n",
    "import functools\n",
    "import operator"
   ]
  },
  {
   "cell_type": "code",
   "execution_count": 392,
   "metadata": {},
   "outputs": [],
   "source": [
    "films = ['Lion', 'Chicago', 'Don']"
   ]
  },
  {
   "cell_type": "code",
   "execution_count": 394,
   "metadata": {},
   "outputs": [],
   "source": [
    "filter_cond = functools.reduce(operator.or_, (f.film == item for item in films))"
   ]
  },
  {
   "cell_type": "code",
   "execution_count": 397,
   "metadata": {},
   "outputs": [
    {
     "data": {
      "text/html": [
       "<div class='datatable'>\n",
       "  <table class='frame'>\n",
       "  <thead>\n",
       "    <tr class='colnames'><td class='row_index'></td><th>film</th><th>gross</th></tr>\n",
       "    <tr class='coltypes'><td class='row_index'></td><td class='string' title='str32'>&#x25AA;&#x25AA;&#x25AA;&#x25AA;</td><td class='integer' title='int32'>&#x25AA;&#x25AA;&#x25AA;&#x25AA;</td></tr>\n",
       "  </thead>\n",
       "  <tbody>\n",
       "    <tr><td class='row_index'>0</td><td>Don</td><td>400</td></tr>\n",
       "    <tr><td class='row_index'>1</td><td>Chicago</td><td>100</td></tr>\n",
       "    <tr><td class='row_index'>2</td><td>Lion</td><td>200</td></tr>\n",
       "    <tr><td class='row_index'>3</td><td>Don</td><td>300</td></tr>\n",
       "    <tr><td class='row_index'>4</td><td>Chicago</td><td>900</td></tr>\n",
       "  </tbody>\n",
       "  </table>\n",
       "  <div class='footer'>\n",
       "    <div class='frame_dimensions'>5 rows &times; 2 columns</div>\n",
       "  </div>\n",
       "</div>\n"
      ],
      "text/plain": [
       "<Frame [5 rows x 2 cols]>"
      ]
     },
     "execution_count": 397,
     "metadata": {},
     "output_type": "execute_result"
    }
   ],
   "source": [
    "DT_films[filter_cond,:]"
   ]
  },
  {
   "cell_type": "code",
   "execution_count": null,
   "metadata": {},
   "outputs": [],
   "source": []
  }
 ],
 "metadata": {
  "kernelspec": {
   "display_name": "Python 3",
   "language": "python",
   "name": "python3"
  },
  "language_info": {
   "codemirror_mode": {
    "name": "ipython",
    "version": 3
   },
   "file_extension": ".py",
   "mimetype": "text/x-python",
   "name": "python",
   "nbconvert_exporter": "python",
   "pygments_lexer": "ipython3",
   "version": "3.8.3"
  }
 },
 "nbformat": 4,
 "nbformat_minor": 4
}
