{
 "cells": [
  {
   "cell_type": "markdown",
   "metadata": {},
   "source": [
    "# Py: Exercise - Count words"
   ]
  },
  {
   "cell_type": "markdown",
   "metadata": {},
   "source": [
    "We want you to write a function that accepts a string and returns a mapping (a dictionary or dictionary-like structure) that has words as the keys and the number of times each word was seen as the values.\n",
    "\n",
    "1. As a bonus, make sure the function works well with mixed case words\n",
    "\n",
    "2. For even more of a bonus try to get the function to ignore punctuation outside of words."
   ]
  },
  {
   "cell_type": "code",
   "execution_count": 40,
   "metadata": {},
   "outputs": [],
   "source": [
    "# Import libraries\n",
    "import re\n",
    "from collections import Counter"
   ]
  },
  {
   "cell_type": "code",
   "execution_count": 19,
   "metadata": {},
   "outputs": [],
   "source": [
    "# case 1\n",
    "def count_words_case_1(text):\n",
    "    text_split = re.split(r'\\s',text)\n",
    "    word_counts={}\n",
    "    for w in text_split:\n",
    "        if w in word_counts:\n",
    "            word_counts[w]+=1\n",
    "        else:\n",
    "            word_counts[w]=1\n",
    "    return word_counts"
   ]
  },
  {
   "cell_type": "code",
   "execution_count": 11,
   "metadata": {},
   "outputs": [
    {
     "data": {
      "text/plain": [
       "{'real': 2, 'python': 1, 'course': 2, 'is': 1}"
      ]
     },
     "execution_count": 11,
     "metadata": {},
     "output_type": "execute_result"
    }
   ],
   "source": [
    "count_words_case_1('real python course is a real course')"
   ]
  },
  {
   "cell_type": "code",
   "execution_count": 16,
   "metadata": {},
   "outputs": [],
   "source": [
    "# case 2\n",
    "def count_words_case_2(text):\n",
    "    text_split = re.split(r'\\s',text)\n",
    "    word_counts={}\n",
    "    for w in text_split:\n",
    "        word_counts.setdefault(w,0)\n",
    "        word_counts[w] +=1\n",
    "    return word_counts"
   ]
  },
  {
   "cell_type": "code",
   "execution_count": 18,
   "metadata": {},
   "outputs": [
    {
     "data": {
      "text/plain": [
       "{'pydatatable': 2,\n",
       " 'is': 2,\n",
       " 'a': 1,\n",
       " 'great': 1,\n",
       " 'data': 1,\n",
       " 'manipulation': 1,\n",
       " 'tool,': 1,\n",
       " 'built': 1,\n",
       " 'based': 1,\n",
       " 'on': 1,\n",
       " 'r': 1,\n",
       " 'datatable': 1}"
      ]
     },
     "execution_count": 18,
     "metadata": {},
     "output_type": "execute_result"
    }
   ],
   "source": [
    "count_words_case_2('pydatatable is a great data manipulation tool, pydatatable is built based on r datatable')"
   ]
  },
  {
   "cell_type": "code",
   "execution_count": 23,
   "metadata": {},
   "outputs": [],
   "source": [
    "# case 3\n",
    "def count_words_case_3(text):\n",
    "    text_split = re.split(r'\\s',text)\n",
    "    return dict(Counter(text_split))"
   ]
  },
  {
   "cell_type": "code",
   "execution_count": 24,
   "metadata": {},
   "outputs": [
    {
     "data": {
      "text/plain": [
       "{'Python': 1,\n",
       " 'and': 1,\n",
       " 'R': 1,\n",
       " 'are': 2,\n",
       " 'great': 1,\n",
       " 'tools': 3,\n",
       " 'for': 1,\n",
       " 'data': 1,\n",
       " 'science,': 1,\n",
       " 'always': 1}"
      ]
     },
     "execution_count": 24,
     "metadata": {},
     "output_type": "execute_result"
    }
   ],
   "source": [
    "count_words_case_3('Python and R are great tools for data science, tools are always tools')"
   ]
  },
  {
   "cell_type": "code",
   "execution_count": 26,
   "metadata": {},
   "outputs": [],
   "source": [
    "# case 4\n",
    "def count_words_case_4(text):\n",
    "    text_split = re.split(r'\\s',text)\n",
    "    text_small = [ word.lower() for word in text_split]\n",
    "    return Counter(text_small)"
   ]
  },
  {
   "cell_type": "code",
   "execution_count": 29,
   "metadata": {},
   "outputs": [
    {
     "data": {
      "text/plain": [
       "Counter({'python': 2, 'r': 2, 'java': 1})"
      ]
     },
     "execution_count": 29,
     "metadata": {},
     "output_type": "execute_result"
    }
   ],
   "source": [
    "count_words_case_4('Python R python r JAVA')"
   ]
  },
  {
   "cell_type": "code",
   "execution_count": 30,
   "metadata": {},
   "outputs": [],
   "source": [
    "# case 5\n",
    "def count_words_case_5(text):\n",
    "    text_split = re.findall(r'\\b[\\w\\-]+\\b',text.lower())\n",
    "    return Counter(text_split)"
   ]
  },
  {
   "cell_type": "code",
   "execution_count": 35,
   "metadata": {},
   "outputs": [
    {
     "data": {
      "text/plain": [
       "Counter({'dear': 1,\n",
       "         'students': 1,\n",
       "         'py-data': 1,\n",
       "         'us': 1,\n",
       "         'will': 1,\n",
       "         'be': 1,\n",
       "         'hosted': 1,\n",
       "         'on-line': 1,\n",
       "         'in': 1,\n",
       "         '2020': 1})"
      ]
     },
     "execution_count": 35,
     "metadata": {},
     "output_type": "execute_result"
    }
   ],
   "source": [
    "count_words_case_5('Dear Students,py-data US will be hosted on-line in 2020')"
   ]
  }
 ],
 "metadata": {
  "kernelspec": {
   "display_name": "Python 3",
   "language": "python",
   "name": "python3"
  },
  "language_info": {
   "codemirror_mode": {
    "name": "ipython",
    "version": 3
   },
   "file_extension": ".py",
   "mimetype": "text/x-python",
   "name": "python",
   "nbconvert_exporter": "python",
   "pygments_lexer": "ipython3",
   "version": "3.8.3"
  }
 },
 "nbformat": 4,
 "nbformat_minor": 4
}
