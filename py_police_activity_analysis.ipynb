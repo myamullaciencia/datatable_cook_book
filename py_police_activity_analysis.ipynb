{
 "cells": [
  {
   "cell_type": "code",
   "execution_count": 7,
   "metadata": {},
   "outputs": [],
   "source": [
    "# Importing libraries\n",
    "import datatable as dt\n",
    "import pandas as pd\n",
    "import altair as alt\n",
    "from datatable import f,by,count,update,sort,join"
   ]
  },
  {
   "cell_type": "code",
   "execution_count": 8,
   "metadata": {},
   "outputs": [
    {
     "data": {
      "text/html": [
       "<style type='text/css'>\n",
       ".datatable table.frame { margin-bottom: 0; }\n",
       ".datatable table.frame thead { border-bottom: none; }\n",
       ".datatable table.frame tr.coltypes td {  color: #FFFFFF;  line-height: 6px;  padding: 0 0.5em;}\n",
       ".datatable .boolean { background: #DDDD99; }\n",
       ".datatable .object  { background: #565656; }\n",
       ".datatable .integer { background: #5D9E5D; }\n",
       ".datatable .float   { background: #4040CC; }\n",
       ".datatable .string  { background: #CC4040; }\n",
       ".datatable .row_index {  background: var(--jp-border-color3);  border-right: 1px solid var(--jp-border-color0);  color: var(--jp-ui-font-color3);  font-size: 9px;}\n",
       ".datatable .frame tr.coltypes .row_index {  background: var(--jp-border-color0);}\n",
       ".datatable th:nth-child(2) { padding-left: 12px; }\n",
       ".datatable .hellipsis {  color: var(--jp-cell-editor-border-color);}\n",
       ".datatable .vellipsis {  background: var(--jp-layout-color0);  color: var(--jp-cell-editor-border-color);}\n",
       ".datatable .na {  color: var(--jp-cell-editor-border-color);  font-size: 80%;}\n",
       ".datatable .footer { font-size: 9px; }\n",
       ".datatable .frame_dimensions {  background: var(--jp-border-color3);  border-top: 1px solid var(--jp-border-color0);  color: var(--jp-ui-font-color3);  display: inline-block;  opacity: 0.6;  padding: 1px 10px 1px 5px;}\n",
       "</style>\n"
      ],
      "text/plain": [
       "<IPython.core.display.HTML object>"
      ]
     },
     "metadata": {},
     "output_type": "display_data"
    }
   ],
   "source": [
    "dt.init_styles()\n",
    "dt.options.display.head_nrows=4\n",
    "dt.options.display.tail_nrows=4"
   ]
  },
  {
   "cell_type": "code",
   "execution_count": 9,
   "metadata": {},
   "outputs": [],
   "source": [
    "policia_dt = dt.fread('https://assets.datacamp.com/production/repositories/1497/datasets/62bd9feef451860db02d26553613a299721882e8/police.csv',na_strings=[\"\"])"
   ]
  },
  {
   "cell_type": "code",
   "execution_count": 10,
   "metadata": {},
   "outputs": [],
   "source": [
    "weather_dt = dt.fread('https://assets.datacamp.com/production/repositories/1497/datasets/02f3fb2d4416d3f6626e1117688e0386784e8e55/weather.csv',na_strings=[\"\"])"
   ]
  },
  {
   "cell_type": "code",
   "execution_count": 11,
   "metadata": {},
   "outputs": [
    {
     "data": {
      "text/html": [
       "<div class='datatable'>\n",
       "  <table class='frame'>\n",
       "  <thead>\n",
       "    <tr class='colnames'><td class='row_index'></td><th>state</th><th>stop_date</th><th>stop_time</th><th>county_name</th><th>driver_gender</th><th>driver_race</th><th>violation_raw</th><th>violation</th><th>search_conducted</th><th>search_type</th><th>stop_outcome</th><th>is_arrested</th><th>stop_duration</th><th>drugs_related_stop</th><th>district</th></tr>\n",
       "    <tr class='coltypes'><td class='row_index'></td><td class='string' title='str32'>&#x25AA;&#x25AA;&#x25AA;&#x25AA;</td><td class='string' title='str32'>&#x25AA;&#x25AA;&#x25AA;&#x25AA;</td><td class='string' title='str32'>&#x25AA;&#x25AA;&#x25AA;&#x25AA;</td><td class='boolean' title='bool8'>&#x25AA;</td><td class='string' title='str32'>&#x25AA;&#x25AA;&#x25AA;&#x25AA;</td><td class='string' title='str32'>&#x25AA;&#x25AA;&#x25AA;&#x25AA;</td><td class='string' title='str32'>&#x25AA;&#x25AA;&#x25AA;&#x25AA;</td><td class='string' title='str32'>&#x25AA;&#x25AA;&#x25AA;&#x25AA;</td><td class='boolean' title='bool8'>&#x25AA;</td><td class='string' title='str32'>&#x25AA;&#x25AA;&#x25AA;&#x25AA;</td><td class='string' title='str32'>&#x25AA;&#x25AA;&#x25AA;&#x25AA;</td><td class='boolean' title='bool8'>&#x25AA;</td><td class='string' title='str32'>&#x25AA;&#x25AA;&#x25AA;&#x25AA;</td><td class='boolean' title='bool8'>&#x25AA;</td><td class='string' title='str32'>&#x25AA;&#x25AA;&#x25AA;&#x25AA;</td></tr>\n",
       "  </thead>\n",
       "  <tbody>\n",
       "    <tr><td class='row_index'>0</td><td>RI</td><td>2005-01-04</td><td>12:55</td><td><span class=na>NA</span></td><td>M</td><td>White</td><td>Equipment/Inspection Violation</td><td>Equipment</td><td>0</td><td><span class=na>NA</span></td><td>Citation</td><td>0</td><td>0-15 Min</td><td>0</td><td>Zone X4</td></tr>\n",
       "    <tr><td class='row_index'>1</td><td>RI</td><td>2005-01-23</td><td>23:15</td><td><span class=na>NA</span></td><td>M</td><td>White</td><td>Speeding</td><td>Speeding</td><td>0</td><td><span class=na>NA</span></td><td>Citation</td><td>0</td><td>0-15 Min</td><td>0</td><td>Zone K3</td></tr>\n",
       "    <tr><td class='row_index'>2</td><td>RI</td><td>2005-02-17</td><td>04:15</td><td><span class=na>NA</span></td><td>M</td><td>White</td><td>Speeding</td><td>Speeding</td><td>0</td><td><span class=na>NA</span></td><td>Citation</td><td>0</td><td>0-15 Min</td><td>0</td><td>Zone X4</td></tr>\n",
       "    <tr><td class='row_index'>3</td><td>RI</td><td>2005-02-20</td><td>17:15</td><td><span class=na>NA</span></td><td>M</td><td>White</td><td>Call for Service</td><td>Other</td><td>0</td><td><span class=na>NA</span></td><td>Arrest Driver</td><td>1</td><td>16-30 Min</td><td>0</td><td>Zone X1</td></tr>\n",
       "    <tr><td class='row_index'>&#x22EE;</td><td class='hellipsis'>&#x22EE;</td><td class='hellipsis'>&#x22EE;</td><td class='hellipsis'>&#x22EE;</td><td class='hellipsis'>&#x22EE;</td><td class='hellipsis'>&#x22EE;</td><td class='hellipsis'>&#x22EE;</td><td class='hellipsis'>&#x22EE;</td><td class='hellipsis'>&#x22EE;</td><td class='hellipsis'>&#x22EE;</td><td class='hellipsis'>&#x22EE;</td><td class='hellipsis'>&#x22EE;</td><td class='hellipsis'>&#x22EE;</td><td class='hellipsis'>&#x22EE;</td><td class='hellipsis'>&#x22EE;</td><td class='hellipsis'>&#x22EE;</td></tr>\n",
       "    <tr><td class='row_index'>91,737</td><td>RI</td><td>2015-12-31</td><td>21:59</td><td><span class=na>NA</span></td><td>F</td><td>White</td><td>Speeding</td><td>Speeding</td><td>0</td><td><span class=na>NA</span></td><td>Citation</td><td>0</td><td>0-15 Min</td><td>0</td><td>Zone K3</td></tr>\n",
       "    <tr><td class='row_index'>91,738</td><td>RI</td><td>2015-12-31</td><td>22:04</td><td><span class=na>NA</span></td><td>M</td><td>White</td><td>Other Traffic Violation</td><td>Moving violation</td><td>0</td><td><span class=na>NA</span></td><td>Citation</td><td>0</td><td>0-15 Min</td><td>0</td><td>Zone X3</td></tr>\n",
       "    <tr><td class='row_index'>91,739</td><td>RI</td><td>2015-12-31</td><td>22:09</td><td><span class=na>NA</span></td><td>F</td><td>Hispanic</td><td>Equipment/Inspection Violation</td><td>Equipment</td><td>0</td><td><span class=na>NA</span></td><td>Warning</td><td>0</td><td>0-15 Min</td><td>0</td><td>Zone K3</td></tr>\n",
       "    <tr><td class='row_index'>91,740</td><td>RI</td><td>2015-12-31</td><td>22:47</td><td><span class=na>NA</span></td><td>M</td><td>White</td><td>Registration Violation</td><td>Registration/plates</td><td>0</td><td><span class=na>NA</span></td><td>Citation</td><td>0</td><td>0-15 Min</td><td>0</td><td>Zone X4</td></tr>\n",
       "  </tbody>\n",
       "  </table>\n",
       "  <div class='footer'>\n",
       "    <div class='frame_dimensions'>91,741 rows &times; 15 columns</div>\n",
       "  </div>\n",
       "</div>\n"
      ],
      "text/plain": [
       "<Frame [91741 rows x 15 cols]>"
      ]
     },
     "execution_count": 11,
     "metadata": {},
     "output_type": "execute_result"
    }
   ],
   "source": [
    "policia_dt"
   ]
  },
  {
   "cell_type": "code",
   "execution_count": 12,
   "metadata": {},
   "outputs": [
    {
     "data": {
      "text/html": [
       "<div class='datatable'>\n",
       "  <table class='frame'>\n",
       "  <thead>\n",
       "    <tr class='colnames'><td class='row_index'></td><th>STATION</th><th>DATE</th><th>TAVG</th><th>TMIN</th><th>TMAX</th><th>AWND</th><th>WSF2</th><th>WT01</th><th>WT02</th><th>WT03</th><th class='vellipsis'>&hellip;</th><th>WT17</th><th>WT18</th><th>WT19</th><th>WT21</th><th>WT22</th></tr>\n",
       "    <tr class='coltypes'><td class='row_index'></td><td class='string' title='str32'>&#x25AA;&#x25AA;&#x25AA;&#x25AA;</td><td class='string' title='str32'>&#x25AA;&#x25AA;&#x25AA;&#x25AA;</td><td class='float' title='float64'>&#x25AA;&#x25AA;&#x25AA;&#x25AA;&#x25AA;&#x25AA;&#x25AA;&#x25AA;</td><td class='integer' title='int32'>&#x25AA;&#x25AA;&#x25AA;&#x25AA;</td><td class='integer' title='int32'>&#x25AA;&#x25AA;&#x25AA;&#x25AA;</td><td class='float' title='float64'>&#x25AA;&#x25AA;&#x25AA;&#x25AA;&#x25AA;&#x25AA;&#x25AA;&#x25AA;</td><td class='float' title='float64'>&#x25AA;&#x25AA;&#x25AA;&#x25AA;&#x25AA;&#x25AA;&#x25AA;&#x25AA;</td><td class='float' title='float64'>&#x25AA;&#x25AA;&#x25AA;&#x25AA;&#x25AA;&#x25AA;&#x25AA;&#x25AA;</td><td class='float' title='float64'>&#x25AA;&#x25AA;&#x25AA;&#x25AA;&#x25AA;&#x25AA;&#x25AA;&#x25AA;</td><td class='float' title='float64'>&#x25AA;&#x25AA;&#x25AA;&#x25AA;&#x25AA;&#x25AA;&#x25AA;&#x25AA;</td><td></td><td class='float' title='float64'>&#x25AA;&#x25AA;&#x25AA;&#x25AA;&#x25AA;&#x25AA;&#x25AA;&#x25AA;</td><td class='float' title='float64'>&#x25AA;&#x25AA;&#x25AA;&#x25AA;&#x25AA;&#x25AA;&#x25AA;&#x25AA;</td><td class='float' title='float64'>&#x25AA;&#x25AA;&#x25AA;&#x25AA;&#x25AA;&#x25AA;&#x25AA;&#x25AA;</td><td class='float' title='float64'>&#x25AA;&#x25AA;&#x25AA;&#x25AA;&#x25AA;&#x25AA;&#x25AA;&#x25AA;</td><td class='float' title='float64'>&#x25AA;&#x25AA;&#x25AA;&#x25AA;&#x25AA;&#x25AA;&#x25AA;&#x25AA;</td></tr>\n",
       "  </thead>\n",
       "  <tbody>\n",
       "    <tr><td class='row_index'>0</td><td>USW00014765</td><td>2005-01-01</td><td>44</td><td>35</td><td>53</td><td>8.95</td><td>25.1</td><td>1</td><td><span class=na>NA</span></td><td><span class=na>NA</span></td><td class=vellipsis>&hellip;</td><td><span class=na>NA</span></td><td><span class=na>NA</span></td><td><span class=na>NA</span></td><td><span class=na>NA</span></td><td><span class=na>NA</span></td></tr>\n",
       "    <tr><td class='row_index'>1</td><td>USW00014765</td><td>2005-01-02</td><td>36</td><td>28</td><td>44</td><td>9.4</td><td>14.1</td><td><span class=na>NA</span></td><td><span class=na>NA</span></td><td><span class=na>NA</span></td><td class=vellipsis>&hellip;</td><td><span class=na>NA</span></td><td>1</td><td><span class=na>NA</span></td><td><span class=na>NA</span></td><td><span class=na>NA</span></td></tr>\n",
       "    <tr><td class='row_index'>2</td><td>USW00014765</td><td>2005-01-03</td><td>49</td><td>44</td><td>53</td><td>6.93</td><td>17</td><td>1</td><td><span class=na>NA</span></td><td><span class=na>NA</span></td><td class=vellipsis>&hellip;</td><td><span class=na>NA</span></td><td><span class=na>NA</span></td><td><span class=na>NA</span></td><td><span class=na>NA</span></td><td><span class=na>NA</span></td></tr>\n",
       "    <tr><td class='row_index'>3</td><td>USW00014765</td><td>2005-01-04</td><td>42</td><td>39</td><td>45</td><td>6.93</td><td>16.1</td><td>1</td><td><span class=na>NA</span></td><td><span class=na>NA</span></td><td class=vellipsis>&hellip;</td><td><span class=na>NA</span></td><td><span class=na>NA</span></td><td><span class=na>NA</span></td><td><span class=na>NA</span></td><td><span class=na>NA</span></td></tr>\n",
       "    <tr><td class='row_index'>&#x22EE;</td><td class='hellipsis'>&#x22EE;</td><td class='hellipsis'>&#x22EE;</td><td class='hellipsis'>&#x22EE;</td><td class='hellipsis'>&#x22EE;</td><td class='hellipsis'>&#x22EE;</td><td class='hellipsis'>&#x22EE;</td><td class='hellipsis'>&#x22EE;</td><td class='hellipsis'>&#x22EE;</td><td class='hellipsis'>&#x22EE;</td><td class='hellipsis'>&#x22EE;</td><td class='hellipsis'>&#x22F1;</td><td class='hellipsis'>&#x22EE;</td><td class='hellipsis'>&#x22EE;</td><td class='hellipsis'>&#x22EE;</td><td class='hellipsis'>&#x22EE;</td><td class='hellipsis'>&#x22EE;</td></tr>\n",
       "    <tr><td class='row_index'>4013</td><td>USW00014765</td><td>2015-12-28</td><td>40</td><td>30</td><td>44</td><td>12.3</td><td>23</td><td><span class=na>NA</span></td><td><span class=na>NA</span></td><td><span class=na>NA</span></td><td class=vellipsis>&hellip;</td><td><span class=na>NA</span></td><td><span class=na>NA</span></td><td><span class=na>NA</span></td><td><span class=na>NA</span></td><td><span class=na>NA</span></td></tr>\n",
       "    <tr><td class='row_index'>4014</td><td>USW00014765</td><td>2015-12-29</td><td>33</td><td>28</td><td>40</td><td>12.53</td><td>18.1</td><td>1</td><td><span class=na>NA</span></td><td><span class=na>NA</span></td><td class=vellipsis>&hellip;</td><td><span class=na>NA</span></td><td><span class=na>NA</span></td><td><span class=na>NA</span></td><td><span class=na>NA</span></td><td><span class=na>NA</span></td></tr>\n",
       "    <tr><td class='row_index'>4015</td><td>USW00014765</td><td>2015-12-30</td><td>30</td><td>27</td><td>35</td><td>6.93</td><td>15</td><td>1</td><td><span class=na>NA</span></td><td><span class=na>NA</span></td><td class=vellipsis>&hellip;</td><td><span class=na>NA</span></td><td><span class=na>NA</span></td><td><span class=na>NA</span></td><td><span class=na>NA</span></td><td><span class=na>NA</span></td></tr>\n",
       "    <tr><td class='row_index'>4016</td><td>USW00014765</td><td>2015-12-31</td><td>39</td><td>35</td><td>50</td><td>8.05</td><td>18.1</td><td>1</td><td><span class=na>NA</span></td><td><span class=na>NA</span></td><td class=vellipsis>&hellip;</td><td><span class=na>NA</span></td><td><span class=na>NA</span></td><td><span class=na>NA</span></td><td><span class=na>NA</span></td><td><span class=na>NA</span></td></tr>\n",
       "  </tbody>\n",
       "  </table>\n",
       "  <div class='footer'>\n",
       "    <div class='frame_dimensions'>4017 rows &times; 27 columns</div>\n",
       "  </div>\n",
       "</div>\n"
      ],
      "text/plain": [
       "<Frame [4017 rows x 27 cols]>"
      ]
     },
     "execution_count": 12,
     "metadata": {},
     "output_type": "execute_result"
    }
   ],
   "source": [
    "weather_dt"
   ]
  },
  {
   "cell_type": "code",
   "execution_count": 13,
   "metadata": {},
   "outputs": [
    {
     "data": {
      "text/html": [
       "<div class='datatable'>\n",
       "  <table class='frame'>\n",
       "  <thead>\n",
       "    <tr class='colnames'><td class='row_index'></td><th>state</th><th>stop_date</th><th>stop_time</th><th>county_name</th><th>driver_gender</th><th>driver_race</th><th>violation_raw</th><th>violation</th><th>search_conducted</th><th>search_type</th><th>stop_outcome</th><th>is_arrested</th><th>stop_duration</th><th>drugs_related_stop</th><th>district</th></tr>\n",
       "    <tr class='coltypes'><td class='row_index'></td><td class='integer' title='int64'>&#x25AA;&#x25AA;&#x25AA;&#x25AA;&#x25AA;&#x25AA;&#x25AA;&#x25AA;</td><td class='integer' title='int64'>&#x25AA;&#x25AA;&#x25AA;&#x25AA;&#x25AA;&#x25AA;&#x25AA;&#x25AA;</td><td class='integer' title='int64'>&#x25AA;&#x25AA;&#x25AA;&#x25AA;&#x25AA;&#x25AA;&#x25AA;&#x25AA;</td><td class='integer' title='int64'>&#x25AA;&#x25AA;&#x25AA;&#x25AA;&#x25AA;&#x25AA;&#x25AA;&#x25AA;</td><td class='integer' title='int64'>&#x25AA;&#x25AA;&#x25AA;&#x25AA;&#x25AA;&#x25AA;&#x25AA;&#x25AA;</td><td class='integer' title='int64'>&#x25AA;&#x25AA;&#x25AA;&#x25AA;&#x25AA;&#x25AA;&#x25AA;&#x25AA;</td><td class='integer' title='int64'>&#x25AA;&#x25AA;&#x25AA;&#x25AA;&#x25AA;&#x25AA;&#x25AA;&#x25AA;</td><td class='integer' title='int64'>&#x25AA;&#x25AA;&#x25AA;&#x25AA;&#x25AA;&#x25AA;&#x25AA;&#x25AA;</td><td class='integer' title='int64'>&#x25AA;&#x25AA;&#x25AA;&#x25AA;&#x25AA;&#x25AA;&#x25AA;&#x25AA;</td><td class='integer' title='int64'>&#x25AA;&#x25AA;&#x25AA;&#x25AA;&#x25AA;&#x25AA;&#x25AA;&#x25AA;</td><td class='integer' title='int64'>&#x25AA;&#x25AA;&#x25AA;&#x25AA;&#x25AA;&#x25AA;&#x25AA;&#x25AA;</td><td class='integer' title='int64'>&#x25AA;&#x25AA;&#x25AA;&#x25AA;&#x25AA;&#x25AA;&#x25AA;&#x25AA;</td><td class='integer' title='int64'>&#x25AA;&#x25AA;&#x25AA;&#x25AA;&#x25AA;&#x25AA;&#x25AA;&#x25AA;</td><td class='integer' title='int64'>&#x25AA;&#x25AA;&#x25AA;&#x25AA;&#x25AA;&#x25AA;&#x25AA;&#x25AA;</td><td class='integer' title='int64'>&#x25AA;&#x25AA;&#x25AA;&#x25AA;&#x25AA;&#x25AA;&#x25AA;&#x25AA;</td></tr>\n",
       "  </thead>\n",
       "  <tbody>\n",
       "    <tr><td class='row_index'>0</td><td>0</td><td>0</td><td>0</td><td>91741</td><td>5205</td><td>5202</td><td>5202</td><td>5202</td><td>0</td><td>88434</td><td>5202</td><td>5202</td><td>5202</td><td>0</td><td>0</td></tr>\n",
       "  </tbody>\n",
       "  </table>\n",
       "  <div class='footer'>\n",
       "    <div class='frame_dimensions'>1 row &times; 15 columns</div>\n",
       "  </div>\n",
       "</div>\n"
      ],
      "text/plain": [
       "<Frame [1 row x 15 cols]>"
      ]
     },
     "execution_count": 13,
     "metadata": {},
     "output_type": "execute_result"
    }
   ],
   "source": [
    "# count the number of missing values\n",
    "policia_dt.countna()"
   ]
  },
  {
   "cell_type": "code",
   "execution_count": 14,
   "metadata": {},
   "outputs": [],
   "source": [
    "del policia_dt[:,['county_name', 'state']]"
   ]
  },
  {
   "cell_type": "code",
   "execution_count": 15,
   "metadata": {},
   "outputs": [
    {
     "data": {
      "text/html": [
       "<div class='datatable'>\n",
       "  <table class='frame'>\n",
       "  <thead>\n",
       "    <tr class='colnames'><td class='row_index'></td><th>stop_date</th><th>stop_time</th><th>driver_gender</th><th>driver_race</th><th>violation_raw</th><th>violation</th><th>search_conducted</th><th>search_type</th><th>stop_outcome</th><th>is_arrested</th><th>stop_duration</th><th>drugs_related_stop</th><th>district</th></tr>\n",
       "    <tr class='coltypes'><td class='row_index'></td><td class='string' title='str32'>&#x25AA;&#x25AA;&#x25AA;&#x25AA;</td><td class='string' title='str32'>&#x25AA;&#x25AA;&#x25AA;&#x25AA;</td><td class='string' title='str32'>&#x25AA;&#x25AA;&#x25AA;&#x25AA;</td><td class='string' title='str32'>&#x25AA;&#x25AA;&#x25AA;&#x25AA;</td><td class='string' title='str32'>&#x25AA;&#x25AA;&#x25AA;&#x25AA;</td><td class='string' title='str32'>&#x25AA;&#x25AA;&#x25AA;&#x25AA;</td><td class='boolean' title='bool8'>&#x25AA;</td><td class='string' title='str32'>&#x25AA;&#x25AA;&#x25AA;&#x25AA;</td><td class='string' title='str32'>&#x25AA;&#x25AA;&#x25AA;&#x25AA;</td><td class='boolean' title='bool8'>&#x25AA;</td><td class='string' title='str32'>&#x25AA;&#x25AA;&#x25AA;&#x25AA;</td><td class='boolean' title='bool8'>&#x25AA;</td><td class='string' title='str32'>&#x25AA;&#x25AA;&#x25AA;&#x25AA;</td></tr>\n",
       "  </thead>\n",
       "  <tbody>\n",
       "    <tr><td class='row_index'>0</td><td>2005-01-04</td><td>12:55</td><td>M</td><td>White</td><td>Equipment/Inspection Violation</td><td>Equipment</td><td>0</td><td><span class=na>NA</span></td><td>Citation</td><td>0</td><td>0-15 Min</td><td>0</td><td>Zone X4</td></tr>\n",
       "    <tr><td class='row_index'>1</td><td>2005-01-23</td><td>23:15</td><td>M</td><td>White</td><td>Speeding</td><td>Speeding</td><td>0</td><td><span class=na>NA</span></td><td>Citation</td><td>0</td><td>0-15 Min</td><td>0</td><td>Zone K3</td></tr>\n",
       "    <tr><td class='row_index'>2</td><td>2005-02-17</td><td>04:15</td><td>M</td><td>White</td><td>Speeding</td><td>Speeding</td><td>0</td><td><span class=na>NA</span></td><td>Citation</td><td>0</td><td>0-15 Min</td><td>0</td><td>Zone X4</td></tr>\n",
       "    <tr><td class='row_index'>3</td><td>2005-02-20</td><td>17:15</td><td>M</td><td>White</td><td>Call for Service</td><td>Other</td><td>0</td><td><span class=na>NA</span></td><td>Arrest Driver</td><td>1</td><td>16-30 Min</td><td>0</td><td>Zone X1</td></tr>\n",
       "    <tr><td class='row_index'>&#x22EE;</td><td class='hellipsis'>&#x22EE;</td><td class='hellipsis'>&#x22EE;</td><td class='hellipsis'>&#x22EE;</td><td class='hellipsis'>&#x22EE;</td><td class='hellipsis'>&#x22EE;</td><td class='hellipsis'>&#x22EE;</td><td class='hellipsis'>&#x22EE;</td><td class='hellipsis'>&#x22EE;</td><td class='hellipsis'>&#x22EE;</td><td class='hellipsis'>&#x22EE;</td><td class='hellipsis'>&#x22EE;</td><td class='hellipsis'>&#x22EE;</td><td class='hellipsis'>&#x22EE;</td></tr>\n",
       "    <tr><td class='row_index'>91,737</td><td>2015-12-31</td><td>21:59</td><td>F</td><td>White</td><td>Speeding</td><td>Speeding</td><td>0</td><td><span class=na>NA</span></td><td>Citation</td><td>0</td><td>0-15 Min</td><td>0</td><td>Zone K3</td></tr>\n",
       "    <tr><td class='row_index'>91,738</td><td>2015-12-31</td><td>22:04</td><td>M</td><td>White</td><td>Other Traffic Violation</td><td>Moving violation</td><td>0</td><td><span class=na>NA</span></td><td>Citation</td><td>0</td><td>0-15 Min</td><td>0</td><td>Zone X3</td></tr>\n",
       "    <tr><td class='row_index'>91,739</td><td>2015-12-31</td><td>22:09</td><td>F</td><td>Hispanic</td><td>Equipment/Inspection Violation</td><td>Equipment</td><td>0</td><td><span class=na>NA</span></td><td>Warning</td><td>0</td><td>0-15 Min</td><td>0</td><td>Zone K3</td></tr>\n",
       "    <tr><td class='row_index'>91,740</td><td>2015-12-31</td><td>22:47</td><td>M</td><td>White</td><td>Registration Violation</td><td>Registration/plates</td><td>0</td><td><span class=na>NA</span></td><td>Citation</td><td>0</td><td>0-15 Min</td><td>0</td><td>Zone X4</td></tr>\n",
       "  </tbody>\n",
       "  </table>\n",
       "  <div class='footer'>\n",
       "    <div class='frame_dimensions'>91,741 rows &times; 13 columns</div>\n",
       "  </div>\n",
       "</div>\n"
      ],
      "text/plain": [
       "<Frame [91741 rows x 13 cols]>"
      ]
     },
     "execution_count": 15,
     "metadata": {},
     "output_type": "execute_result"
    }
   ],
   "source": [
    "policia_dt"
   ]
  },
  {
   "cell_type": "code",
   "execution_count": 17,
   "metadata": {},
   "outputs": [
    {
     "data": {
      "text/html": [
       "<div class='datatable'>\n",
       "  <table class='frame'>\n",
       "  <thead>\n",
       "    <tr class='colnames'><td class='row_index'></td><th>driver_gender</th><th>count</th></tr>\n",
       "    <tr class='coltypes'><td class='row_index'></td><td class='string' title='str32'>&#x25AA;&#x25AA;&#x25AA;&#x25AA;</td><td class='integer' title='int64'>&#x25AA;&#x25AA;&#x25AA;&#x25AA;&#x25AA;&#x25AA;&#x25AA;&#x25AA;</td></tr>\n",
       "  </thead>\n",
       "  <tbody>\n",
       "    <tr><td class='row_index'>0</td><td><span class=na>NA</span></td><td>5205</td></tr>\n",
       "    <tr><td class='row_index'>1</td><td>F</td><td>23774</td></tr>\n",
       "    <tr><td class='row_index'>2</td><td>M</td><td>62762</td></tr>\n",
       "  </tbody>\n",
       "  </table>\n",
       "  <div class='footer'>\n",
       "    <div class='frame_dimensions'>3 rows &times; 2 columns</div>\n",
       "  </div>\n",
       "</div>\n"
      ],
      "text/plain": [
       "<Frame [3 rows x 2 cols]>"
      ]
     },
     "execution_count": 17,
     "metadata": {},
     "output_type": "execute_result"
    }
   ],
   "source": [
    "policia_dt[:,count(),by(f.driver_gender)]"
   ]
  },
  {
   "cell_type": "code",
   "execution_count": 18,
   "metadata": {},
   "outputs": [],
   "source": [
    "policia_tidy_dt = policia_dt[~dt.isna(f.driver_gender),:]"
   ]
  },
  {
   "cell_type": "code",
   "execution_count": 19,
   "metadata": {},
   "outputs": [],
   "source": [
    "policia_tidy_df = policia_tidy_dt.to_pandas()"
   ]
  },
  {
   "cell_type": "code",
   "execution_count": 20,
   "metadata": {},
   "outputs": [
    {
     "name": "stdout",
     "output_type": "stream",
     "text": [
      "<class 'pandas.core.frame.DataFrame'>\n",
      "RangeIndex: 86536 entries, 0 to 86535\n",
      "Data columns (total 13 columns):\n",
      " #   Column              Non-Null Count  Dtype \n",
      "---  ------              --------------  ----- \n",
      " 0   stop_date           86536 non-null  object\n",
      " 1   stop_time           86536 non-null  object\n",
      " 2   driver_gender       86536 non-null  object\n",
      " 3   driver_race         86536 non-null  object\n",
      " 4   violation_raw       86536 non-null  object\n",
      " 5   violation           86536 non-null  object\n",
      " 6   search_conducted    86536 non-null  bool  \n",
      " 7   search_type         3307 non-null   object\n",
      " 8   stop_outcome        86536 non-null  object\n",
      " 9   is_arrested         86536 non-null  bool  \n",
      " 10  stop_duration       86536 non-null  object\n",
      " 11  drugs_related_stop  86536 non-null  bool  \n",
      " 12  district            86536 non-null  object\n",
      "dtypes: bool(3), object(10)\n",
      "memory usage: 6.8+ MB\n"
     ]
    }
   ],
   "source": [
    "policia_tidy_df.info()"
   ]
  },
  {
   "cell_type": "code",
   "execution_count": 21,
   "metadata": {},
   "outputs": [
    {
     "data": {
      "text/html": [
       "<div>\n",
       "<style scoped>\n",
       "    .dataframe tbody tr th:only-of-type {\n",
       "        vertical-align: middle;\n",
       "    }\n",
       "\n",
       "    .dataframe tbody tr th {\n",
       "        vertical-align: top;\n",
       "    }\n",
       "\n",
       "    .dataframe thead th {\n",
       "        text-align: right;\n",
       "    }\n",
       "</style>\n",
       "<table border=\"1\" class=\"dataframe\">\n",
       "  <thead>\n",
       "    <tr style=\"text-align: right;\">\n",
       "      <th></th>\n",
       "      <th>stop_date</th>\n",
       "      <th>stop_time</th>\n",
       "      <th>driver_gender</th>\n",
       "      <th>driver_race</th>\n",
       "      <th>violation_raw</th>\n",
       "      <th>violation</th>\n",
       "      <th>search_conducted</th>\n",
       "      <th>search_type</th>\n",
       "      <th>stop_outcome</th>\n",
       "      <th>is_arrested</th>\n",
       "      <th>stop_duration</th>\n",
       "      <th>drugs_related_stop</th>\n",
       "      <th>district</th>\n",
       "    </tr>\n",
       "  </thead>\n",
       "  <tbody>\n",
       "    <tr>\n",
       "      <th>0</th>\n",
       "      <td>2005-01-04</td>\n",
       "      <td>12:55</td>\n",
       "      <td>M</td>\n",
       "      <td>White</td>\n",
       "      <td>Equipment/Inspection Violation</td>\n",
       "      <td>Equipment</td>\n",
       "      <td>False</td>\n",
       "      <td>NaN</td>\n",
       "      <td>Citation</td>\n",
       "      <td>False</td>\n",
       "      <td>0-15 Min</td>\n",
       "      <td>False</td>\n",
       "      <td>Zone X4</td>\n",
       "    </tr>\n",
       "    <tr>\n",
       "      <th>1</th>\n",
       "      <td>2005-01-23</td>\n",
       "      <td>23:15</td>\n",
       "      <td>M</td>\n",
       "      <td>White</td>\n",
       "      <td>Speeding</td>\n",
       "      <td>Speeding</td>\n",
       "      <td>False</td>\n",
       "      <td>NaN</td>\n",
       "      <td>Citation</td>\n",
       "      <td>False</td>\n",
       "      <td>0-15 Min</td>\n",
       "      <td>False</td>\n",
       "      <td>Zone K3</td>\n",
       "    </tr>\n",
       "    <tr>\n",
       "      <th>2</th>\n",
       "      <td>2005-02-17</td>\n",
       "      <td>04:15</td>\n",
       "      <td>M</td>\n",
       "      <td>White</td>\n",
       "      <td>Speeding</td>\n",
       "      <td>Speeding</td>\n",
       "      <td>False</td>\n",
       "      <td>NaN</td>\n",
       "      <td>Citation</td>\n",
       "      <td>False</td>\n",
       "      <td>0-15 Min</td>\n",
       "      <td>False</td>\n",
       "      <td>Zone X4</td>\n",
       "    </tr>\n",
       "    <tr>\n",
       "      <th>3</th>\n",
       "      <td>2005-02-20</td>\n",
       "      <td>17:15</td>\n",
       "      <td>M</td>\n",
       "      <td>White</td>\n",
       "      <td>Call for Service</td>\n",
       "      <td>Other</td>\n",
       "      <td>False</td>\n",
       "      <td>NaN</td>\n",
       "      <td>Arrest Driver</td>\n",
       "      <td>True</td>\n",
       "      <td>16-30 Min</td>\n",
       "      <td>False</td>\n",
       "      <td>Zone X1</td>\n",
       "    </tr>\n",
       "    <tr>\n",
       "      <th>4</th>\n",
       "      <td>2005-02-24</td>\n",
       "      <td>01:20</td>\n",
       "      <td>F</td>\n",
       "      <td>White</td>\n",
       "      <td>Speeding</td>\n",
       "      <td>Speeding</td>\n",
       "      <td>False</td>\n",
       "      <td>NaN</td>\n",
       "      <td>Citation</td>\n",
       "      <td>False</td>\n",
       "      <td>0-15 Min</td>\n",
       "      <td>False</td>\n",
       "      <td>Zone X3</td>\n",
       "    </tr>\n",
       "    <tr>\n",
       "      <th>...</th>\n",
       "      <td>...</td>\n",
       "      <td>...</td>\n",
       "      <td>...</td>\n",
       "      <td>...</td>\n",
       "      <td>...</td>\n",
       "      <td>...</td>\n",
       "      <td>...</td>\n",
       "      <td>...</td>\n",
       "      <td>...</td>\n",
       "      <td>...</td>\n",
       "      <td>...</td>\n",
       "      <td>...</td>\n",
       "      <td>...</td>\n",
       "    </tr>\n",
       "    <tr>\n",
       "      <th>86531</th>\n",
       "      <td>2015-12-31</td>\n",
       "      <td>21:21</td>\n",
       "      <td>F</td>\n",
       "      <td>Black</td>\n",
       "      <td>Other Traffic Violation</td>\n",
       "      <td>Moving violation</td>\n",
       "      <td>False</td>\n",
       "      <td>NaN</td>\n",
       "      <td>Citation</td>\n",
       "      <td>False</td>\n",
       "      <td>0-15 Min</td>\n",
       "      <td>False</td>\n",
       "      <td>Zone K2</td>\n",
       "    </tr>\n",
       "    <tr>\n",
       "      <th>86532</th>\n",
       "      <td>2015-12-31</td>\n",
       "      <td>21:59</td>\n",
       "      <td>F</td>\n",
       "      <td>White</td>\n",
       "      <td>Speeding</td>\n",
       "      <td>Speeding</td>\n",
       "      <td>False</td>\n",
       "      <td>NaN</td>\n",
       "      <td>Citation</td>\n",
       "      <td>False</td>\n",
       "      <td>0-15 Min</td>\n",
       "      <td>False</td>\n",
       "      <td>Zone K3</td>\n",
       "    </tr>\n",
       "    <tr>\n",
       "      <th>86533</th>\n",
       "      <td>2015-12-31</td>\n",
       "      <td>22:04</td>\n",
       "      <td>M</td>\n",
       "      <td>White</td>\n",
       "      <td>Other Traffic Violation</td>\n",
       "      <td>Moving violation</td>\n",
       "      <td>False</td>\n",
       "      <td>NaN</td>\n",
       "      <td>Citation</td>\n",
       "      <td>False</td>\n",
       "      <td>0-15 Min</td>\n",
       "      <td>False</td>\n",
       "      <td>Zone X3</td>\n",
       "    </tr>\n",
       "    <tr>\n",
       "      <th>86534</th>\n",
       "      <td>2015-12-31</td>\n",
       "      <td>22:09</td>\n",
       "      <td>F</td>\n",
       "      <td>Hispanic</td>\n",
       "      <td>Equipment/Inspection Violation</td>\n",
       "      <td>Equipment</td>\n",
       "      <td>False</td>\n",
       "      <td>NaN</td>\n",
       "      <td>Warning</td>\n",
       "      <td>False</td>\n",
       "      <td>0-15 Min</td>\n",
       "      <td>False</td>\n",
       "      <td>Zone K3</td>\n",
       "    </tr>\n",
       "    <tr>\n",
       "      <th>86535</th>\n",
       "      <td>2015-12-31</td>\n",
       "      <td>22:47</td>\n",
       "      <td>M</td>\n",
       "      <td>White</td>\n",
       "      <td>Registration Violation</td>\n",
       "      <td>Registration/plates</td>\n",
       "      <td>False</td>\n",
       "      <td>NaN</td>\n",
       "      <td>Citation</td>\n",
       "      <td>False</td>\n",
       "      <td>0-15 Min</td>\n",
       "      <td>False</td>\n",
       "      <td>Zone X4</td>\n",
       "    </tr>\n",
       "  </tbody>\n",
       "</table>\n",
       "<p>86536 rows × 13 columns</p>\n",
       "</div>"
      ],
      "text/plain": [
       "        stop_date stop_time driver_gender driver_race  \\\n",
       "0      2005-01-04     12:55             M       White   \n",
       "1      2005-01-23     23:15             M       White   \n",
       "2      2005-02-17     04:15             M       White   \n",
       "3      2005-02-20     17:15             M       White   \n",
       "4      2005-02-24     01:20             F       White   \n",
       "...           ...       ...           ...         ...   \n",
       "86531  2015-12-31     21:21             F       Black   \n",
       "86532  2015-12-31     21:59             F       White   \n",
       "86533  2015-12-31     22:04             M       White   \n",
       "86534  2015-12-31     22:09             F    Hispanic   \n",
       "86535  2015-12-31     22:47             M       White   \n",
       "\n",
       "                        violation_raw            violation  search_conducted  \\\n",
       "0      Equipment/Inspection Violation            Equipment             False   \n",
       "1                            Speeding             Speeding             False   \n",
       "2                            Speeding             Speeding             False   \n",
       "3                    Call for Service                Other             False   \n",
       "4                            Speeding             Speeding             False   \n",
       "...                               ...                  ...               ...   \n",
       "86531         Other Traffic Violation     Moving violation             False   \n",
       "86532                        Speeding             Speeding             False   \n",
       "86533         Other Traffic Violation     Moving violation             False   \n",
       "86534  Equipment/Inspection Violation            Equipment             False   \n",
       "86535          Registration Violation  Registration/plates             False   \n",
       "\n",
       "      search_type   stop_outcome  is_arrested stop_duration  \\\n",
       "0             NaN       Citation        False      0-15 Min   \n",
       "1             NaN       Citation        False      0-15 Min   \n",
       "2             NaN       Citation        False      0-15 Min   \n",
       "3             NaN  Arrest Driver         True     16-30 Min   \n",
       "4             NaN       Citation        False      0-15 Min   \n",
       "...           ...            ...          ...           ...   \n",
       "86531         NaN       Citation        False      0-15 Min   \n",
       "86532         NaN       Citation        False      0-15 Min   \n",
       "86533         NaN       Citation        False      0-15 Min   \n",
       "86534         NaN        Warning        False      0-15 Min   \n",
       "86535         NaN       Citation        False      0-15 Min   \n",
       "\n",
       "       drugs_related_stop district  \n",
       "0                   False  Zone X4  \n",
       "1                   False  Zone K3  \n",
       "2                   False  Zone X4  \n",
       "3                   False  Zone X1  \n",
       "4                   False  Zone X3  \n",
       "...                   ...      ...  \n",
       "86531               False  Zone K2  \n",
       "86532               False  Zone K3  \n",
       "86533               False  Zone X3  \n",
       "86534               False  Zone K3  \n",
       "86535               False  Zone X4  \n",
       "\n",
       "[86536 rows x 13 columns]"
      ]
     },
     "execution_count": 21,
     "metadata": {},
     "output_type": "execute_result"
    }
   ],
   "source": [
    "policia_tidy_df"
   ]
  },
  {
   "cell_type": "code",
   "execution_count": 23,
   "metadata": {},
   "outputs": [
    {
     "data": {
      "text/html": [
       "<div class='datatable'>\n",
       "  <table class='frame'>\n",
       "  <thead>\n",
       "    <tr class='colnames'><td class='row_index'></td><th>violation</th><th>count</th><th>prop</th></tr>\n",
       "    <tr class='coltypes'><td class='row_index'></td><td class='string' title='str32'>&#x25AA;&#x25AA;&#x25AA;&#x25AA;</td><td class='integer' title='int64'>&#x25AA;&#x25AA;&#x25AA;&#x25AA;&#x25AA;&#x25AA;&#x25AA;&#x25AA;</td><td class='float' title='float64'>&#x25AA;&#x25AA;&#x25AA;&#x25AA;&#x25AA;&#x25AA;&#x25AA;&#x25AA;</td></tr>\n",
       "  </thead>\n",
       "  <tbody>\n",
       "    <tr><td class='row_index'>0</td><td>Speeding</td><td>48423</td><td>0.559571</td></tr>\n",
       "    <tr><td class='row_index'>1</td><td>Moving violation</td><td>16224</td><td>0.187483</td></tr>\n",
       "    <tr><td class='row_index'>2</td><td>Equipment</td><td>10921</td><td>0.126202</td></tr>\n",
       "    <tr><td class='row_index'>3</td><td>Other</td><td>4409</td><td>0.0509499</td></tr>\n",
       "    <tr><td class='row_index'>4</td><td>Registration/plates</td><td>3703</td><td>0.0427914</td></tr>\n",
       "    <tr><td class='row_index'>5</td><td>Seat belt</td><td>2856</td><td>0.0330036</td></tr>\n",
       "  </tbody>\n",
       "  </table>\n",
       "  <div class='footer'>\n",
       "    <div class='frame_dimensions'>6 rows &times; 3 columns</div>\n",
       "  </div>\n",
       "</div>\n"
      ],
      "text/plain": [
       "<Frame [6 rows x 3 cols]>"
      ]
     },
     "execution_count": 23,
     "metadata": {},
     "output_type": "execute_result"
    }
   ],
   "source": [
    "policia_tidy_dt[:,count(),by(f.violation)\n",
    "               ][:,f[:].extend({'grand_tot':dt.sum(f.count)})\n",
    "                ][:,f[:].extend({'prop':f.count/f.grand_tot})\n",
    "                 ][:,f[:].remove(f.grand_tot),sort(-f.prop)\n",
    "                  ]"
   ]
  },
  {
   "cell_type": "code",
   "execution_count": 24,
   "metadata": {},
   "outputs": [
    {
     "data": {
      "text/html": [
       "<div class='datatable'>\n",
       "  <table class='frame'>\n",
       "  <thead>\n",
       "    <tr class='colnames'><td class='row_index'></td><th>driver_gender</th><th>violation</th><th>count</th><th>group_tot</th><th>prop</th></tr>\n",
       "    <tr class='coltypes'><td class='row_index'></td><td class='string' title='str32'>&#x25AA;&#x25AA;&#x25AA;&#x25AA;</td><td class='string' title='str32'>&#x25AA;&#x25AA;&#x25AA;&#x25AA;</td><td class='integer' title='int64'>&#x25AA;&#x25AA;&#x25AA;&#x25AA;&#x25AA;&#x25AA;&#x25AA;&#x25AA;</td><td class='integer' title='int64'>&#x25AA;&#x25AA;&#x25AA;&#x25AA;&#x25AA;&#x25AA;&#x25AA;&#x25AA;</td><td class='float' title='float64'>&#x25AA;&#x25AA;&#x25AA;&#x25AA;&#x25AA;&#x25AA;&#x25AA;&#x25AA;</td></tr>\n",
       "  </thead>\n",
       "  <tbody>\n",
       "    <tr><td class='row_index'>0</td><td>F</td><td>Equipment</td><td>2501</td><td>23774</td><td>0.105199</td></tr>\n",
       "    <tr><td class='row_index'>1</td><td>F</td><td>Moving violation</td><td>3286</td><td>23774</td><td>0.138218</td></tr>\n",
       "    <tr><td class='row_index'>2</td><td>F</td><td>Other</td><td>707</td><td>23774</td><td>0.0297384</td></tr>\n",
       "    <tr><td class='row_index'>3</td><td>F</td><td>Registration/plates</td><td>1056</td><td>23774</td><td>0.0444183</td></tr>\n",
       "    <tr><td class='row_index'>4</td><td>F</td><td>Seat belt</td><td>578</td><td>23774</td><td>0.0243123</td></tr>\n",
       "    <tr><td class='row_index'>5</td><td>F</td><td>Speeding</td><td>15646</td><td>23774</td><td>0.658114</td></tr>\n",
       "    <tr><td class='row_index'>6</td><td>M</td><td>Equipment</td><td>8420</td><td>62762</td><td>0.134158</td></tr>\n",
       "    <tr><td class='row_index'>7</td><td>M</td><td>Moving violation</td><td>12938</td><td>62762</td><td>0.206144</td></tr>\n",
       "    <tr><td class='row_index'>8</td><td>M</td><td>Other</td><td>3702</td><td>62762</td><td>0.0589847</td></tr>\n",
       "    <tr><td class='row_index'>9</td><td>M</td><td>Registration/plates</td><td>2647</td><td>62762</td><td>0.0421752</td></tr>\n",
       "    <tr><td class='row_index'>10</td><td>M</td><td>Seat belt</td><td>2278</td><td>62762</td><td>0.0362958</td></tr>\n",
       "    <tr><td class='row_index'>11</td><td>M</td><td>Speeding</td><td>32777</td><td>62762</td><td>0.522243</td></tr>\n",
       "  </tbody>\n",
       "  </table>\n",
       "  <div class='footer'>\n",
       "    <div class='frame_dimensions'>12 rows &times; 5 columns</div>\n",
       "  </div>\n",
       "</div>\n"
      ],
      "text/plain": [
       "<Frame [12 rows x 5 cols]>"
      ]
     },
     "execution_count": 24,
     "metadata": {},
     "output_type": "execute_result"
    }
   ],
   "source": [
    "policia_tidy_dt[:,count(),by(f.driver_gender,f.violation)\n",
    "               ][:,f[:].extend({'group_tot':dt.sum(f.count)}),by(f.driver_gender)\n",
    "                ][:,f[:].extend({'prop':f.count/f.group_tot})\n",
    "                 ][:,f[:].remove(f[1])]"
   ]
  },
  {
   "cell_type": "code",
   "execution_count": 25,
   "metadata": {},
   "outputs": [
    {
     "data": {
      "text/html": [
       "<div class='datatable'>\n",
       "  <table class='frame'>\n",
       "  <thead>\n",
       "    <tr class='colnames'><td class='row_index'></td><th>driver_gender</th><th>stop_outcome</th><th>count</th><th>group_total</th><th>prop</th></tr>\n",
       "    <tr class='coltypes'><td class='row_index'></td><td class='string' title='str32'>&#x25AA;&#x25AA;&#x25AA;&#x25AA;</td><td class='string' title='str32'>&#x25AA;&#x25AA;&#x25AA;&#x25AA;</td><td class='integer' title='int64'>&#x25AA;&#x25AA;&#x25AA;&#x25AA;&#x25AA;&#x25AA;&#x25AA;&#x25AA;</td><td class='integer' title='int64'>&#x25AA;&#x25AA;&#x25AA;&#x25AA;&#x25AA;&#x25AA;&#x25AA;&#x25AA;</td><td class='float' title='float64'>&#x25AA;&#x25AA;&#x25AA;&#x25AA;&#x25AA;&#x25AA;&#x25AA;&#x25AA;</td></tr>\n",
       "  </thead>\n",
       "  <tbody>\n",
       "    <tr><td class='row_index'>0</td><td>F</td><td>Arrest Driver</td><td>90</td><td>15646</td><td>0.00575227</td></tr>\n",
       "    <tr><td class='row_index'>1</td><td>F</td><td>Arrest Passenger</td><td>10</td><td>15646</td><td>0.000639141</td></tr>\n",
       "    <tr><td class='row_index'>2</td><td>F</td><td>Citation</td><td>14898</td><td>15646</td><td>0.952192</td></tr>\n",
       "    <tr><td class='row_index'>3</td><td>F</td><td>N/D</td><td>15</td><td>15646</td><td>0.000958711</td></tr>\n",
       "    <tr><td class='row_index'>4</td><td>F</td><td>No Action</td><td>6</td><td>15646</td><td>0.000383485</td></tr>\n",
       "    <tr><td class='row_index'>5</td><td>F</td><td>Warning</td><td>627</td><td>15646</td><td>0.0400741</td></tr>\n",
       "    <tr><td class='row_index'>6</td><td>M</td><td>Arrest Driver</td><td>521</td><td>32777</td><td>0.0158953</td></tr>\n",
       "    <tr><td class='row_index'>7</td><td>M</td><td>Arrest Passenger</td><td>42</td><td>32777</td><td>0.00128139</td></tr>\n",
       "    <tr><td class='row_index'>8</td><td>M</td><td>Citation</td><td>30961</td><td>32777</td><td>0.944595</td></tr>\n",
       "    <tr><td class='row_index'>9</td><td>M</td><td>N/D</td><td>32</td><td>32777</td><td>0.000976294</td></tr>\n",
       "    <tr><td class='row_index'>10</td><td>M</td><td>No Action</td><td>35</td><td>32777</td><td>0.00106782</td></tr>\n",
       "    <tr><td class='row_index'>11</td><td>M</td><td>Warning</td><td>1186</td><td>32777</td><td>0.0361839</td></tr>\n",
       "  </tbody>\n",
       "  </table>\n",
       "  <div class='footer'>\n",
       "    <div class='frame_dimensions'>12 rows &times; 5 columns</div>\n",
       "  </div>\n",
       "</div>\n"
      ],
      "text/plain": [
       "<Frame [12 rows x 5 cols]>"
      ]
     },
     "execution_count": 25,
     "metadata": {},
     "output_type": "execute_result"
    }
   ],
   "source": [
    "policia_tidy_dt[f.violation==\"Speeding\",:\n",
    "               ][:,count(),by(f.driver_gender,f.stop_outcome)\n",
    "                ][:,f[:].extend({'group_total':dt.sum(f.count)}),by(f.driver_gender)\n",
    "                 ][:,f[:].extend({'prop':f.count/f.group_total})\n",
    "                  ][:,f[:].remove([f[1]])]"
   ]
  },
  {
   "cell_type": "code",
   "execution_count": 26,
   "metadata": {},
   "outputs": [
    {
     "data": {
      "text/html": [
       "<div class='datatable'>\n",
       "  <table class='frame'>\n",
       "  <thead>\n",
       "    <tr class='colnames'><td class='row_index'></td><th>search_conducted</th><th>count</th></tr>\n",
       "    <tr class='coltypes'><td class='row_index'></td><td class='boolean' title='bool8'>&#x25AA;</td><td class='integer' title='int64'>&#x25AA;&#x25AA;&#x25AA;&#x25AA;&#x25AA;&#x25AA;&#x25AA;&#x25AA;</td></tr>\n",
       "  </thead>\n",
       "  <tbody>\n",
       "    <tr><td class='row_index'>0</td><td>0</td><td>83229</td></tr>\n",
       "    <tr><td class='row_index'>1</td><td>1</td><td>3307</td></tr>\n",
       "  </tbody>\n",
       "  </table>\n",
       "  <div class='footer'>\n",
       "    <div class='frame_dimensions'>2 rows &times; 2 columns</div>\n",
       "  </div>\n",
       "</div>\n"
      ],
      "text/plain": [
       "<Frame [2 rows x 2 cols]>"
      ]
     },
     "execution_count": 26,
     "metadata": {},
     "output_type": "execute_result"
    }
   ],
   "source": [
    "policia_tidy_dt[:,count(),by(f.search_conducted)\n",
    "               ]"
   ]
  },
  {
   "cell_type": "code",
   "execution_count": 27,
   "metadata": {},
   "outputs": [
    {
     "data": {
      "text/html": [
       "<div class='datatable'>\n",
       "  <table class='frame'>\n",
       "  <thead>\n",
       "    <tr class='colnames'><td class='row_index'></td><th>driver_gender</th><th>search_conducted</th><th>count</th><th>group_total</th><th>prop</th></tr>\n",
       "    <tr class='coltypes'><td class='row_index'></td><td class='string' title='str32'>&#x25AA;&#x25AA;&#x25AA;&#x25AA;</td><td class='boolean' title='bool8'>&#x25AA;</td><td class='integer' title='int64'>&#x25AA;&#x25AA;&#x25AA;&#x25AA;&#x25AA;&#x25AA;&#x25AA;&#x25AA;</td><td class='integer' title='int64'>&#x25AA;&#x25AA;&#x25AA;&#x25AA;&#x25AA;&#x25AA;&#x25AA;&#x25AA;</td><td class='float' title='float64'>&#x25AA;&#x25AA;&#x25AA;&#x25AA;&#x25AA;&#x25AA;&#x25AA;&#x25AA;</td></tr>\n",
       "  </thead>\n",
       "  <tbody>\n",
       "    <tr><td class='row_index'>0</td><td>F</td><td>0</td><td>23318</td><td>23774</td><td>0.980819</td></tr>\n",
       "    <tr><td class='row_index'>1</td><td>F</td><td>1</td><td>456</td><td>23774</td><td>0.0191806</td></tr>\n",
       "    <tr><td class='row_index'>2</td><td>M</td><td>0</td><td>59911</td><td>62762</td><td>0.954574</td></tr>\n",
       "    <tr><td class='row_index'>3</td><td>M</td><td>1</td><td>2851</td><td>62762</td><td>0.0454256</td></tr>\n",
       "  </tbody>\n",
       "  </table>\n",
       "  <div class='footer'>\n",
       "    <div class='frame_dimensions'>4 rows &times; 5 columns</div>\n",
       "  </div>\n",
       "</div>\n"
      ],
      "text/plain": [
       "<Frame [4 rows x 5 cols]>"
      ]
     },
     "execution_count": 27,
     "metadata": {},
     "output_type": "execute_result"
    }
   ],
   "source": [
    "policia_tidy_dt[:,count(),by(f.driver_gender,f.search_conducted)\n",
    "               ][:,f[:].extend({'group_total':dt.sum(f.count)}),by(f.driver_gender)\n",
    "                ][:,f[:].extend({'prop':f.count/f.group_total})\n",
    "                 ][:,f[:].remove(f[1])]"
   ]
  },
  {
   "cell_type": "code",
   "execution_count": 28,
   "metadata": {},
   "outputs": [
    {
     "data": {
      "text/html": [
       "<div class='datatable'>\n",
       "  <table class='frame'>\n",
       "  <thead>\n",
       "    <tr class='colnames'><td class='row_index'></td><th>search_type</th><th>count</th></tr>\n",
       "    <tr class='coltypes'><td class='row_index'></td><td class='string' title='str32'>&#x25AA;&#x25AA;&#x25AA;&#x25AA;</td><td class='integer' title='int64'>&#x25AA;&#x25AA;&#x25AA;&#x25AA;&#x25AA;&#x25AA;&#x25AA;&#x25AA;</td></tr>\n",
       "  </thead>\n",
       "  <tbody>\n",
       "    <tr><td class='row_index'>0</td><td>Incident to Arrest</td><td>1290</td></tr>\n",
       "    <tr><td class='row_index'>1</td><td>Incident to Arrest,Inventory</td><td>123</td></tr>\n",
       "    <tr><td class='row_index'>2</td><td>Incident to Arrest,Inventory,Probable Cause</td><td>35</td></tr>\n",
       "    <tr><td class='row_index'>3</td><td>Incident to Arrest,Inventory,Protective Frisk</td><td>18</td></tr>\n",
       "    <tr><td class='row_index'>4</td><td>Incident to Arrest,Inventory,Reasonable Suspicion</td><td>4</td></tr>\n",
       "    <tr><td class='row_index'>5</td><td>Incident to Arrest,Probable Cause</td><td>100</td></tr>\n",
       "    <tr><td class='row_index'>6</td><td>Incident to Arrest,Probable Cause,Protective Frisk</td><td>13</td></tr>\n",
       "    <tr><td class='row_index'>7</td><td>Incident to Arrest,Probable Cause,Reasonable Suspi&#133;</td><td>5</td></tr>\n",
       "    <tr><td class='row_index'>8</td><td>Incident to Arrest,Protective Frisk</td><td>33</td></tr>\n",
       "    <tr><td class='row_index'>9</td><td>Incident to Arrest,Protective Frisk,Reasonable Sus&#133;</td><td>2</td></tr>\n",
       "    <tr><td class='row_index'>10</td><td>Incident to Arrest,Reasonable Suspicion</td><td>8</td></tr>\n",
       "    <tr><td class='row_index'>11</td><td>Inventory</td><td>219</td></tr>\n",
       "    <tr><td class='row_index'>12</td><td>Inventory,Probable Cause</td><td>25</td></tr>\n",
       "    <tr><td class='row_index'>13</td><td>Inventory,Probable Cause,Protective Frisk</td><td>1</td></tr>\n",
       "    <tr><td class='row_index'>14</td><td>Inventory,Probable Cause,Reasonable Suspicion</td><td>1</td></tr>\n",
       "    <tr><td class='row_index'>15</td><td>Inventory,Protective Frisk</td><td>12</td></tr>\n",
       "    <tr><td class='row_index'>16</td><td>Inventory,Protective Frisk,Reasonable Suspicion</td><td>1</td></tr>\n",
       "    <tr><td class='row_index'>17</td><td>Inventory,Reasonable Suspicion</td><td>2</td></tr>\n",
       "    <tr><td class='row_index'>18</td><td>Probable Cause</td><td>924</td></tr>\n",
       "    <tr><td class='row_index'>19</td><td>Probable Cause,Protective Frisk</td><td>35</td></tr>\n",
       "    <tr><td class='row_index'>20</td><td>Probable Cause,Protective Frisk,Reasonable Suspici&#133;</td><td>5</td></tr>\n",
       "    <tr><td class='row_index'>21</td><td>Probable Cause,Reasonable Suspicion</td><td>54</td></tr>\n",
       "    <tr><td class='row_index'>22</td><td>Protective Frisk</td><td>164</td></tr>\n",
       "    <tr><td class='row_index'>23</td><td>Protective Frisk,Reasonable Suspicion</td><td>19</td></tr>\n",
       "    <tr><td class='row_index'>24</td><td>Reasonable Suspicion</td><td>214</td></tr>\n",
       "  </tbody>\n",
       "  </table>\n",
       "  <div class='footer'>\n",
       "    <div class='frame_dimensions'>25 rows &times; 2 columns</div>\n",
       "  </div>\n",
       "</div>\n"
      ],
      "text/plain": [
       "<Frame [25 rows x 2 cols]>"
      ]
     },
     "execution_count": 28,
     "metadata": {},
     "output_type": "execute_result"
    }
   ],
   "source": [
    "policia_tidy_dt[~dt.isna(f.search_type),:\n",
    "               ][:,count(),by(f.search_type)\n",
    "                ]"
   ]
  },
  {
   "cell_type": "code",
   "execution_count": 29,
   "metadata": {},
   "outputs": [
    {
     "data": {
      "text/html": [
       "<div class='datatable'>\n",
       "  <table class='frame'>\n",
       "  <thead>\n",
       "    <tr class='colnames'><td class='row_index'></td><th>driver_gender</th><th>count</th></tr>\n",
       "    <tr class='coltypes'><td class='row_index'></td><td class='string' title='str32'>&#x25AA;&#x25AA;&#x25AA;&#x25AA;</td><td class='integer' title='int64'>&#x25AA;&#x25AA;&#x25AA;&#x25AA;&#x25AA;&#x25AA;&#x25AA;&#x25AA;</td></tr>\n",
       "  </thead>\n",
       "  <tbody>\n",
       "    <tr><td class='row_index'>0</td><td>F</td><td>30</td></tr>\n",
       "    <tr><td class='row_index'>1</td><td>M</td><td>246</td></tr>\n",
       "  </tbody>\n",
       "  </table>\n",
       "  <div class='footer'>\n",
       "    <div class='frame_dimensions'>2 rows &times; 2 columns</div>\n",
       "  </div>\n",
       "</div>\n"
      ],
      "text/plain": [
       "<Frame [2 rows x 2 cols]>"
      ]
     },
     "execution_count": 29,
     "metadata": {},
     "output_type": "execute_result"
    }
   ],
   "source": [
    "policia_tidy_dt[dt.f.search_type.re_match(\"[\\w\\s\\W]+Frisk\"),:\n",
    "               ][:,count(),by(f.driver_gender)]"
   ]
  },
  {
   "cell_type": "code",
   "execution_count": 30,
   "metadata": {},
   "outputs": [
    {
     "data": {
      "text/html": [
       "<div class='datatable'>\n",
       "  <table class='frame'>\n",
       "  <thead>\n",
       "    <tr class='colnames'><td class='row_index'></td><th>stop_duration</th><th>count</th></tr>\n",
       "    <tr class='coltypes'><td class='row_index'></td><td class='string' title='str32'>&#x25AA;&#x25AA;&#x25AA;&#x25AA;</td><td class='integer' title='int64'>&#x25AA;&#x25AA;&#x25AA;&#x25AA;&#x25AA;&#x25AA;&#x25AA;&#x25AA;</td></tr>\n",
       "  </thead>\n",
       "  <tbody>\n",
       "    <tr><td class='row_index'>0</td><td>0-15 Min</td><td>69577</td></tr>\n",
       "    <tr><td class='row_index'>1</td><td>16-30 Min</td><td>13740</td></tr>\n",
       "    <tr><td class='row_index'>2</td><td>30+ Min</td><td>3219</td></tr>\n",
       "  </tbody>\n",
       "  </table>\n",
       "  <div class='footer'>\n",
       "    <div class='frame_dimensions'>3 rows &times; 2 columns</div>\n",
       "  </div>\n",
       "</div>\n"
      ],
      "text/plain": [
       "<Frame [3 rows x 2 cols]>"
      ]
     },
     "execution_count": 30,
     "metadata": {},
     "output_type": "execute_result"
    }
   ],
   "source": [
    "policia_tidy_dt[:,count(),by(f.stop_duration)]"
   ]
  },
  {
   "cell_type": "code",
   "execution_count": 35,
   "metadata": {},
   "outputs": [
    {
     "data": {
      "text/html": [
       "<div class='datatable'>\n",
       "  <table class='frame'>\n",
       "  <thead>\n",
       "    <tr class='colnames'><td class='row_index'></td><th>stop_duration</th><th>is_arrested</th><th>count</th><th>group_total</th><th>prop</th></tr>\n",
       "    <tr class='coltypes'><td class='row_index'></td><td class='string' title='str32'>&#x25AA;&#x25AA;&#x25AA;&#x25AA;</td><td class='boolean' title='bool8'>&#x25AA;</td><td class='integer' title='int64'>&#x25AA;&#x25AA;&#x25AA;&#x25AA;&#x25AA;&#x25AA;&#x25AA;&#x25AA;</td><td class='integer' title='int64'>&#x25AA;&#x25AA;&#x25AA;&#x25AA;&#x25AA;&#x25AA;&#x25AA;&#x25AA;</td><td class='float' title='float64'>&#x25AA;&#x25AA;&#x25AA;&#x25AA;&#x25AA;&#x25AA;&#x25AA;&#x25AA;</td></tr>\n",
       "  </thead>\n",
       "  <tbody>\n",
       "    <tr><td class='row_index'>0</td><td>0-15 Min</td><td>0</td><td>68627</td><td>69577</td><td>0.986346</td></tr>\n",
       "    <tr><td class='row_index'>1</td><td>0-15 Min</td><td>1</td><td>950</td><td>69577</td><td>0.0136539</td></tr>\n",
       "    <tr><td class='row_index'>2</td><td>16-30 Min</td><td>0</td><td>12454</td><td>13740</td><td>0.906405</td></tr>\n",
       "    <tr><td class='row_index'>3</td><td>16-30 Min</td><td>1</td><td>1286</td><td>13740</td><td>0.0935953</td></tr>\n",
       "    <tr><td class='row_index'>4</td><td>30+ Min</td><td>0</td><td>2377</td><td>3219</td><td>0.738428</td></tr>\n",
       "    <tr><td class='row_index'>5</td><td>30+ Min</td><td>1</td><td>842</td><td>3219</td><td>0.261572</td></tr>\n",
       "  </tbody>\n",
       "  </table>\n",
       "  <div class='footer'>\n",
       "    <div class='frame_dimensions'>6 rows &times; 5 columns</div>\n",
       "  </div>\n",
       "</div>\n"
      ],
      "text/plain": [
       "<Frame [6 rows x 5 cols]>"
      ]
     },
     "execution_count": 35,
     "metadata": {},
     "output_type": "execute_result"
    }
   ],
   "source": [
    "policia_tidy_dt[:,count(),by(f.stop_duration,f.is_arrested)\n",
    "               ][:,f[:].extend({'group_total':dt.sum(f.count)}),by(f.stop_duration)\n",
    "                ][:,f[:].extend({'prop':f.count/f.group_total})\n",
    "                 ][:,f[:].remove(f[1])]"
   ]
  },
  {
   "cell_type": "code",
   "execution_count": 38,
   "metadata": {},
   "outputs": [
    {
     "data": {
      "text/html": [
       "<div class='datatable'>\n",
       "  <table class='frame'>\n",
       "  <thead>\n",
       "    <tr class='colnames'><td class='row_index'></td><th>driver_race</th><th>is_arrested</th><th>count</th></tr>\n",
       "    <tr class='coltypes'><td class='row_index'></td><td class='string' title='str32'>&#x25AA;&#x25AA;&#x25AA;&#x25AA;</td><td class='boolean' title='bool8'>&#x25AA;</td><td class='integer' title='int64'>&#x25AA;&#x25AA;&#x25AA;&#x25AA;&#x25AA;&#x25AA;&#x25AA;&#x25AA;</td></tr>\n",
       "  </thead>\n",
       "  <tbody>\n",
       "    <tr><td class='row_index'>0</td><td>Asian</td><td>0</td><td>2343</td></tr>\n",
       "    <tr><td class='row_index'>1</td><td>Asian</td><td>1</td><td>46</td></tr>\n",
       "    <tr><td class='row_index'>2</td><td>Black</td><td>0</td><td>11516</td></tr>\n",
       "    <tr><td class='row_index'>3</td><td>Black</td><td>1</td><td>769</td></tr>\n",
       "    <tr><td class='row_index'>4</td><td>Hispanic</td><td>0</td><td>9122</td></tr>\n",
       "    <tr><td class='row_index'>5</td><td>Hispanic</td><td>1</td><td>605</td></tr>\n",
       "    <tr><td class='row_index'>6</td><td>Other</td><td>0</td><td>263</td></tr>\n",
       "    <tr><td class='row_index'>7</td><td>Other</td><td>1</td><td>2</td></tr>\n",
       "    <tr><td class='row_index'>8</td><td>White</td><td>0</td><td>60214</td></tr>\n",
       "    <tr><td class='row_index'>9</td><td>White</td><td>1</td><td>1656</td></tr>\n",
       "  </tbody>\n",
       "  </table>\n",
       "  <div class='footer'>\n",
       "    <div class='frame_dimensions'>10 rows &times; 3 columns</div>\n",
       "  </div>\n",
       "</div>\n"
      ],
      "text/plain": [
       "<Frame [10 rows x 3 cols]>"
      ]
     },
     "execution_count": 38,
     "metadata": {},
     "output_type": "execute_result"
    }
   ],
   "source": [
    "policia_tidy_dt[:,count(),by(f.driver_race,f.is_arrested)]"
   ]
  },
  {
   "cell_type": "code",
   "execution_count": null,
   "metadata": {},
   "outputs": [],
   "source": []
  }
 ],
 "metadata": {
  "kernelspec": {
   "display_name": "Python 3",
   "language": "python",
   "name": "python3"
  },
  "language_info": {
   "codemirror_mode": {
    "name": "ipython",
    "version": 3
   },
   "file_extension": ".py",
   "mimetype": "text/x-python",
   "name": "python",
   "nbconvert_exporter": "python",
   "pygments_lexer": "ipython3",
   "version": "3.8.3"
  }
 },
 "nbformat": 4,
 "nbformat_minor": 4
}
