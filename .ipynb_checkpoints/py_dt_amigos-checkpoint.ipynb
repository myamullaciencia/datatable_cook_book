{
 "cells": [
  {
   "cell_type": "markdown",
   "metadata": {},
   "source": [
    "# Py: Tidy data analysis - Friends"
   ]
  },
  {
   "cell_type": "markdown",
   "metadata": {},
   "source": [
    "Friends is an American television sitcom, created by David Crane and Marta Kauffman, which aired on NBC from September 22, 1994, to May 6, 2004, lasting ten seasons. With an ensemble cast starring Jennifer Aniston, Courteney Cox, Lisa Kudrow, Matt LeBlanc, Matthew Perry and David Schwimmer, the show revolves around six friends in their 20s and 30s who live in Manhattan, New York City. The series was produced by Bright/Kauffman/Crane Productions, in association with Warner Bros. Television. The original executive producers were Kevin S. Bright, Kauffman, and Crane."
   ]
  },
  {
   "cell_type": "code",
   "execution_count": 1,
   "metadata": {},
   "outputs": [
    {
     "data": {
      "text/html": [
       "<style type='text/css'>\n",
       ".datatable table.frame { margin-bottom: 0; }\n",
       ".datatable table.frame thead { border-bottom: none; }\n",
       ".datatable table.frame tr.coltypes td {  color: #FFFFFF;  line-height: 6px;  padding: 0 0.5em;}\n",
       ".datatable .boolean { background: #DDDD99; }\n",
       ".datatable .object  { background: #565656; }\n",
       ".datatable .integer { background: #5D9E5D; }\n",
       ".datatable .float   { background: #4040CC; }\n",
       ".datatable .string  { background: #CC4040; }\n",
       ".datatable .row_index {  background: var(--jp-border-color3);  border-right: 1px solid var(--jp-border-color0);  color: var(--jp-ui-font-color3);  font-size: 9px;}\n",
       ".datatable .frame tr.coltypes .row_index {  background: var(--jp-border-color0);}\n",
       ".datatable th:nth-child(2) { padding-left: 12px; }\n",
       ".datatable .hellipsis {  color: var(--jp-cell-editor-border-color);}\n",
       ".datatable .vellipsis {  background: var(--jp-layout-color0);  color: var(--jp-cell-editor-border-color);}\n",
       ".datatable .na {  color: var(--jp-cell-editor-border-color);  font-size: 80%;}\n",
       ".datatable .footer { font-size: 9px; }\n",
       ".datatable .frame_dimensions {  background: var(--jp-border-color3);  border-top: 1px solid var(--jp-border-color0);  color: var(--jp-ui-font-color3);  display: inline-block;  opacity: 0.6;  padding: 1px 10px 1px 5px;}\n",
       "</style>\n"
      ],
      "text/plain": [
       "<IPython.core.display.HTML object>"
      ]
     },
     "metadata": {},
     "output_type": "display_data"
    }
   ],
   "source": [
    "# Importing libraries\n",
    "import datatable as dt\n",
    "import pandas as pd\n",
    "import altair as alt\n",
    "from datatable import f,by,count,update,sort,join\n",
    "import re"
   ]
  },
  {
   "cell_type": "code",
   "execution_count": 2,
   "metadata": {},
   "outputs": [
    {
     "data": {
      "text/html": [
       "<style type='text/css'>\n",
       ".datatable table.frame { margin-bottom: 0; }\n",
       ".datatable table.frame thead { border-bottom: none; }\n",
       ".datatable table.frame tr.coltypes td {  color: #FFFFFF;  line-height: 6px;  padding: 0 0.5em;}\n",
       ".datatable .boolean { background: #DDDD99; }\n",
       ".datatable .object  { background: #565656; }\n",
       ".datatable .integer { background: #5D9E5D; }\n",
       ".datatable .float   { background: #4040CC; }\n",
       ".datatable .string  { background: #CC4040; }\n",
       ".datatable .row_index {  background: var(--jp-border-color3);  border-right: 1px solid var(--jp-border-color0);  color: var(--jp-ui-font-color3);  font-size: 9px;}\n",
       ".datatable .frame tr.coltypes .row_index {  background: var(--jp-border-color0);}\n",
       ".datatable th:nth-child(2) { padding-left: 12px; }\n",
       ".datatable .hellipsis {  color: var(--jp-cell-editor-border-color);}\n",
       ".datatable .vellipsis {  background: var(--jp-layout-color0);  color: var(--jp-cell-editor-border-color);}\n",
       ".datatable .na {  color: var(--jp-cell-editor-border-color);  font-size: 80%;}\n",
       ".datatable .footer { font-size: 9px; }\n",
       ".datatable .frame_dimensions {  background: var(--jp-border-color3);  border-top: 1px solid var(--jp-border-color0);  color: var(--jp-ui-font-color3);  display: inline-block;  opacity: 0.6;  padding: 1px 10px 1px 5px;}\n",
       "</style>\n"
      ],
      "text/plain": [
       "<IPython.core.display.HTML object>"
      ]
     },
     "metadata": {},
     "output_type": "display_data"
    }
   ],
   "source": [
    "dt.options.display.head_nrows=4\n",
    "dt.options.display.tail_nrows=4\n",
    "dt.init_styles()"
   ]
  },
  {
   "cell_type": "code",
   "execution_count": 3,
   "metadata": {},
   "outputs": [],
   "source": [
    "# Importign data\n",
    "amigos_info_dt = dt.fread('https://raw.githubusercontent.com/rfordatascience/tidytuesday/master/data/2020/2020-09-08/friends_info.csv')\n",
    "amigos_dt = dt.fread('https://raw.githubusercontent.com/rfordatascience/tidytuesday/master/data/2020/2020-09-08/friends.csv')"
   ]
  },
  {
   "cell_type": "code",
   "execution_count": 4,
   "metadata": {},
   "outputs": [
    {
     "data": {
      "text/html": [
       "<div class='datatable'>\n",
       "  <table class='frame'>\n",
       "  <thead>\n",
       "    <tr class='colnames'><td class='row_index'></td><th>season</th><th>episode</th><th>title</th><th>directed_by</th><th>written_by</th><th>air_date</th><th>us_views_millions</th><th>imdb_rating</th></tr>\n",
       "    <tr class='coltypes'><td class='row_index'></td><td class='integer' title='int32'>&#x25AA;&#x25AA;&#x25AA;&#x25AA;</td><td class='integer' title='int32'>&#x25AA;&#x25AA;&#x25AA;&#x25AA;</td><td class='string' title='str32'>&#x25AA;&#x25AA;&#x25AA;&#x25AA;</td><td class='string' title='str32'>&#x25AA;&#x25AA;&#x25AA;&#x25AA;</td><td class='string' title='str32'>&#x25AA;&#x25AA;&#x25AA;&#x25AA;</td><td class='string' title='str32'>&#x25AA;&#x25AA;&#x25AA;&#x25AA;</td><td class='float' title='float64'>&#x25AA;&#x25AA;&#x25AA;&#x25AA;&#x25AA;&#x25AA;&#x25AA;&#x25AA;</td><td class='float' title='float64'>&#x25AA;&#x25AA;&#x25AA;&#x25AA;&#x25AA;&#x25AA;&#x25AA;&#x25AA;</td></tr>\n",
       "  </thead>\n",
       "  <tbody>\n",
       "    <tr><td class='row_index'>0</td><td>1</td><td>1</td><td>The Pilot</td><td>James Burrows</td><td>David Crane &amp; Marta Kauffman</td><td>1994-09-22</td><td>21.5</td><td>8.3</td></tr>\n",
       "    <tr><td class='row_index'>1</td><td>1</td><td>2</td><td>The One with the Sonogram at the End</td><td>James Burrows</td><td>David Crane &amp; Marta Kauffman</td><td>1994-09-29</td><td>20.2</td><td>8.1</td></tr>\n",
       "    <tr><td class='row_index'>2</td><td>1</td><td>3</td><td>The One with the Thumb</td><td>James Burrows</td><td>Jeffrey Astrof &amp; Mike Sikowitz</td><td>1994-10-06</td><td>19.5</td><td>8.2</td></tr>\n",
       "    <tr><td class='row_index'>3</td><td>1</td><td>4</td><td>The One with George Stephanopoulos</td><td>James Burrows</td><td>Alexa Junge</td><td>1994-10-13</td><td>19.7</td><td>8.1</td></tr>\n",
       "    <tr><td class='row_index'>&#x22EE;</td><td class='hellipsis'>&#x22EE;</td><td class='hellipsis'>&#x22EE;</td><td class='hellipsis'>&#x22EE;</td><td class='hellipsis'>&#x22EE;</td><td class='hellipsis'>&#x22EE;</td><td class='hellipsis'>&#x22EE;</td><td class='hellipsis'>&#x22EE;</td><td class='hellipsis'>&#x22EE;</td></tr>\n",
       "    <tr><td class='row_index'>232</td><td>10</td><td>15</td><td>The One Where Estelle Dies</td><td>Gary Halvorson</td><td>Story by : Mark KunerthTeleplay by : David Crane &amp;&#133;</td><td>2004-04-22</td><td>22.64</td><td>8.5</td></tr>\n",
       "    <tr><td class='row_index'>233</td><td>10</td><td>16</td><td>The One with Rachel's Going Away Party</td><td>Gary Halvorson</td><td>Andrew Reich &amp; Ted Cohen</td><td>2004-04-29</td><td>24.51</td><td>8.9</td></tr>\n",
       "    <tr><td class='row_index'>234</td><td>10</td><td>17</td><td>The Last One</td><td>Kevin S. Bright</td><td>Marta Kauffman &amp; David Crane</td><td>2004-05-06</td><td>52.46</td><td>9.7</td></tr>\n",
       "    <tr><td class='row_index'>235</td><td>10</td><td>18</td><td>The Last One</td><td>Kevin S. Bright</td><td>Marta Kauffman &amp; David Crane</td><td>2004-05-06</td><td>52.46</td><td>9.7</td></tr>\n",
       "  </tbody>\n",
       "  </table>\n",
       "  <div class='footer'>\n",
       "    <div class='frame_dimensions'>236 rows &times; 8 columns</div>\n",
       "  </div>\n",
       "</div>\n"
      ],
      "text/plain": [
       "<Frame [236 rows x 8 cols]>"
      ]
     },
     "execution_count": 4,
     "metadata": {},
     "output_type": "execute_result"
    }
   ],
   "source": [
    "# Glance\n",
    "amigos_info_dt"
   ]
  },
  {
   "cell_type": "code",
   "execution_count": 5,
   "metadata": {},
   "outputs": [
    {
     "data": {
      "text/html": [
       "<div class='datatable'>\n",
       "  <table class='frame'>\n",
       "  <thead>\n",
       "    <tr class='colnames'><td class='row_index'></td><th>season</th><th>count</th></tr>\n",
       "    <tr class='coltypes'><td class='row_index'></td><td class='integer' title='int32'>&#x25AA;&#x25AA;&#x25AA;&#x25AA;</td><td class='integer' title='int64'>&#x25AA;&#x25AA;&#x25AA;&#x25AA;&#x25AA;&#x25AA;&#x25AA;&#x25AA;</td></tr>\n",
       "  </thead>\n",
       "  <tbody>\n",
       "    <tr><td class='row_index'>0</td><td>1</td><td>24</td></tr>\n",
       "    <tr><td class='row_index'>1</td><td>2</td><td>24</td></tr>\n",
       "    <tr><td class='row_index'>2</td><td>3</td><td>25</td></tr>\n",
       "    <tr><td class='row_index'>3</td><td>4</td><td>24</td></tr>\n",
       "    <tr><td class='row_index'>4</td><td>5</td><td>24</td></tr>\n",
       "    <tr><td class='row_index'>5</td><td>6</td><td>25</td></tr>\n",
       "    <tr><td class='row_index'>6</td><td>7</td><td>24</td></tr>\n",
       "    <tr><td class='row_index'>7</td><td>8</td><td>24</td></tr>\n",
       "    <tr><td class='row_index'>8</td><td>9</td><td>24</td></tr>\n",
       "    <tr><td class='row_index'>9</td><td>10</td><td>18</td></tr>\n",
       "  </tbody>\n",
       "  </table>\n",
       "  <div class='footer'>\n",
       "    <div class='frame_dimensions'>10 rows &times; 2 columns</div>\n",
       "  </div>\n",
       "</div>\n"
      ],
      "text/plain": [
       "<Frame [10 rows x 2 cols]>"
      ]
     },
     "execution_count": 5,
     "metadata": {},
     "output_type": "execute_result"
    }
   ],
   "source": [
    "# Seasons\n",
    "amigos_info_dt[:,count(),by(f.season)]"
   ]
  },
  {
   "cell_type": "code",
   "execution_count": 6,
   "metadata": {},
   "outputs": [
    {
     "data": {
      "text/html": [
       "<div class='datatable'>\n",
       "  <table class='frame'>\n",
       "  <thead>\n",
       "    <tr class='colnames'><td class='row_index'></td><th>season</th><th>unique_episodes</th></tr>\n",
       "    <tr class='coltypes'><td class='row_index'></td><td class='integer' title='int32'>&#x25AA;&#x25AA;&#x25AA;&#x25AA;</td><td class='integer' title='int64'>&#x25AA;&#x25AA;&#x25AA;&#x25AA;&#x25AA;&#x25AA;&#x25AA;&#x25AA;</td></tr>\n",
       "  </thead>\n",
       "  <tbody>\n",
       "    <tr><td class='row_index'>0</td><td>1</td><td>24</td></tr>\n",
       "    <tr><td class='row_index'>1</td><td>2</td><td>24</td></tr>\n",
       "    <tr><td class='row_index'>2</td><td>3</td><td>25</td></tr>\n",
       "    <tr><td class='row_index'>3</td><td>4</td><td>24</td></tr>\n",
       "    <tr><td class='row_index'>4</td><td>5</td><td>24</td></tr>\n",
       "    <tr><td class='row_index'>5</td><td>6</td><td>25</td></tr>\n",
       "    <tr><td class='row_index'>6</td><td>7</td><td>24</td></tr>\n",
       "    <tr><td class='row_index'>7</td><td>8</td><td>24</td></tr>\n",
       "    <tr><td class='row_index'>8</td><td>9</td><td>24</td></tr>\n",
       "    <tr><td class='row_index'>9</td><td>10</td><td>18</td></tr>\n",
       "  </tbody>\n",
       "  </table>\n",
       "  <div class='footer'>\n",
       "    <div class='frame_dimensions'>10 rows &times; 2 columns</div>\n",
       "  </div>\n",
       "</div>\n"
      ],
      "text/plain": [
       "<Frame [10 rows x 2 cols]>"
      ]
     },
     "execution_count": 6,
     "metadata": {},
     "output_type": "execute_result"
    }
   ],
   "source": [
    "# Unique episodes per a season\n",
    "amigos_info_dt[:,count(),by(f.season,f.episode)\n",
    "              ][:,{'unique_episodes':count()},by(f.season)\n",
    "               ]"
   ]
  },
  {
   "cell_type": "code",
   "execution_count": 7,
   "metadata": {},
   "outputs": [
    {
     "data": {
      "text/html": [
       "<div class='datatable'>\n",
       "  <table class='frame'>\n",
       "  <thead>\n",
       "    <tr class='colnames'><td class='row_index'></td><th>season</th><th>us_views_millions</th><th>imdb_rating</th></tr>\n",
       "    <tr class='coltypes'><td class='row_index'></td><td class='integer' title='int32'>&#x25AA;&#x25AA;&#x25AA;&#x25AA;</td><td class='float' title='float64'>&#x25AA;&#x25AA;&#x25AA;&#x25AA;&#x25AA;&#x25AA;&#x25AA;&#x25AA;</td><td class='float' title='float64'>&#x25AA;&#x25AA;&#x25AA;&#x25AA;&#x25AA;&#x25AA;&#x25AA;&#x25AA;</td></tr>\n",
       "  </thead>\n",
       "  <tbody>\n",
       "    <tr><td class='row_index'>0</td><td>1</td><td>24.7917</td><td>8.31667</td></tr>\n",
       "    <tr><td class='row_index'>1</td><td>2</td><td>31.7208</td><td>8.45833</td></tr>\n",
       "    <tr><td class='row_index'>2</td><td>3</td><td>26.308</td><td>8.408</td></tr>\n",
       "    <tr><td class='row_index'>3</td><td>4</td><td>24.95</td><td>8.475</td></tr>\n",
       "    <tr><td class='row_index'>4</td><td>5</td><td>24.7458</td><td>8.6375</td></tr>\n",
       "    <tr><td class='row_index'>5</td><td>6</td><td>22.616</td><td>8.496</td></tr>\n",
       "    <tr><td class='row_index'>6</td><td>7</td><td>22.0512</td><td>8.4375</td></tr>\n",
       "    <tr><td class='row_index'>7</td><td>8</td><td>26.7204</td><td>8.45</td></tr>\n",
       "    <tr><td class='row_index'>8</td><td>9</td><td>23.9304</td><td>8.30417</td></tr>\n",
       "    <tr><td class='row_index'>9</td><td>10</td><td>26.1294</td><td>8.68889</td></tr>\n",
       "  </tbody>\n",
       "  </table>\n",
       "  <div class='footer'>\n",
       "    <div class='frame_dimensions'>10 rows &times; 3 columns</div>\n",
       "  </div>\n",
       "</div>\n"
      ],
      "text/plain": [
       "<Frame [10 rows x 3 cols]>"
      ]
     },
     "execution_count": 7,
     "metadata": {},
     "output_type": "execute_result"
    }
   ],
   "source": [
    "# average views and ratings per season\n",
    "amigos_info_dt[:,dt.mean(f[-2:]),by(f.season)]"
   ]
  },
  {
   "cell_type": "code",
   "execution_count": 8,
   "metadata": {},
   "outputs": [
    {
     "data": {
      "text/html": [
       "<div class='datatable'>\n",
       "  <table class='frame'>\n",
       "  <thead>\n",
       "    <tr class='colnames'><td class='row_index'></td><th>season</th><th>episode</th><th>title</th><th>directed_by</th><th>written_by</th><th>air_date</th><th>us_views_millions</th><th>imdb_rating</th></tr>\n",
       "    <tr class='coltypes'><td class='row_index'></td><td class='integer' title='int32'>&#x25AA;&#x25AA;&#x25AA;&#x25AA;</td><td class='integer' title='int32'>&#x25AA;&#x25AA;&#x25AA;&#x25AA;</td><td class='string' title='str32'>&#x25AA;&#x25AA;&#x25AA;&#x25AA;</td><td class='string' title='str32'>&#x25AA;&#x25AA;&#x25AA;&#x25AA;</td><td class='string' title='str32'>&#x25AA;&#x25AA;&#x25AA;&#x25AA;</td><td class='string' title='str32'>&#x25AA;&#x25AA;&#x25AA;&#x25AA;</td><td class='float' title='float64'>&#x25AA;&#x25AA;&#x25AA;&#x25AA;&#x25AA;&#x25AA;&#x25AA;&#x25AA;</td><td class='float' title='float64'>&#x25AA;&#x25AA;&#x25AA;&#x25AA;&#x25AA;&#x25AA;&#x25AA;&#x25AA;</td></tr>\n",
       "  </thead>\n",
       "  <tbody>\n",
       "    <tr><td class='row_index'>0</td><td>5</td><td>14</td><td>The One Where Everybody Finds Out</td><td>Michael Lembeck</td><td>Alexa Junge</td><td>1999-02-11</td><td>27.7</td><td>9.7</td></tr>\n",
       "    <tr><td class='row_index'>1</td><td>10</td><td>17</td><td>The Last One</td><td>Kevin S. Bright</td><td>Marta Kauffman &amp; David Crane</td><td>2004-05-06</td><td>52.46</td><td>9.7</td></tr>\n",
       "    <tr><td class='row_index'>2</td><td>10</td><td>18</td><td>The Last One</td><td>Kevin S. Bright</td><td>Marta Kauffman &amp; David Crane</td><td>2004-05-06</td><td>52.46</td><td>9.7</td></tr>\n",
       "  </tbody>\n",
       "  </table>\n",
       "  <div class='footer'>\n",
       "    <div class='frame_dimensions'>3 rows &times; 8 columns</div>\n",
       "  </div>\n",
       "</div>\n"
      ],
      "text/plain": [
       "<Frame [3 rows x 8 cols]>"
      ]
     },
     "execution_count": 8,
     "metadata": {},
     "output_type": "execute_result"
    }
   ],
   "source": [
    "# Highest rating title\n",
    "amigos_info_dt[f.imdb_rating==dt.max(f.imdb_rating),:]"
   ]
  },
  {
   "cell_type": "code",
   "execution_count": 9,
   "metadata": {},
   "outputs": [
    {
     "data": {
      "text/html": [
       "<div class='datatable'>\n",
       "  <table class='frame'>\n",
       "  <thead>\n",
       "    <tr class='colnames'><td class='row_index'></td><th>season</th><th>episode</th><th>title</th><th>directed_by</th><th>written_by</th><th>air_date</th><th>us_views_millions</th><th>imdb_rating</th></tr>\n",
       "    <tr class='coltypes'><td class='row_index'></td><td class='integer' title='int32'>&#x25AA;&#x25AA;&#x25AA;&#x25AA;</td><td class='integer' title='int32'>&#x25AA;&#x25AA;&#x25AA;&#x25AA;</td><td class='string' title='str32'>&#x25AA;&#x25AA;&#x25AA;&#x25AA;</td><td class='string' title='str32'>&#x25AA;&#x25AA;&#x25AA;&#x25AA;</td><td class='string' title='str32'>&#x25AA;&#x25AA;&#x25AA;&#x25AA;</td><td class='string' title='str32'>&#x25AA;&#x25AA;&#x25AA;&#x25AA;</td><td class='float' title='float64'>&#x25AA;&#x25AA;&#x25AA;&#x25AA;&#x25AA;&#x25AA;&#x25AA;&#x25AA;</td><td class='float' title='float64'>&#x25AA;&#x25AA;&#x25AA;&#x25AA;&#x25AA;&#x25AA;&#x25AA;&#x25AA;</td></tr>\n",
       "  </thead>\n",
       "  <tbody>\n",
       "    <tr><td class='row_index'>0</td><td>4</td><td>21</td><td>The One with the Invitation</td><td>Peter Bonerz</td><td>Seth Kurland</td><td>1998-04-23</td><td>21.5</td><td>7.2</td></tr>\n",
       "  </tbody>\n",
       "  </table>\n",
       "  <div class='footer'>\n",
       "    <div class='frame_dimensions'>1 row &times; 8 columns</div>\n",
       "  </div>\n",
       "</div>\n"
      ],
      "text/plain": [
       "<Frame [1 row x 8 cols]>"
      ]
     },
     "execution_count": 9,
     "metadata": {},
     "output_type": "execute_result"
    }
   ],
   "source": [
    "# lowest rating title\n",
    "amigos_info_dt[f.imdb_rating==dt.min(f.imdb_rating),:]"
   ]
  },
  {
   "cell_type": "code",
   "execution_count": 10,
   "metadata": {},
   "outputs": [
    {
     "data": {
      "text/html": [
       "<div class='datatable'>\n",
       "  <table class='frame'>\n",
       "  <thead>\n",
       "    <tr class='colnames'><td class='row_index'></td><th>season</th><th>episode</th><th>title</th><th>directed_by</th><th>written_by</th><th>air_date</th><th>us_views_millions</th><th>imdb_rating</th></tr>\n",
       "    <tr class='coltypes'><td class='row_index'></td><td class='integer' title='int32'>&#x25AA;&#x25AA;&#x25AA;&#x25AA;</td><td class='integer' title='int32'>&#x25AA;&#x25AA;&#x25AA;&#x25AA;</td><td class='string' title='str32'>&#x25AA;&#x25AA;&#x25AA;&#x25AA;</td><td class='string' title='str32'>&#x25AA;&#x25AA;&#x25AA;&#x25AA;</td><td class='string' title='str32'>&#x25AA;&#x25AA;&#x25AA;&#x25AA;</td><td class='string' title='str32'>&#x25AA;&#x25AA;&#x25AA;&#x25AA;</td><td class='float' title='float64'>&#x25AA;&#x25AA;&#x25AA;&#x25AA;&#x25AA;&#x25AA;&#x25AA;&#x25AA;</td><td class='float' title='float64'>&#x25AA;&#x25AA;&#x25AA;&#x25AA;&#x25AA;&#x25AA;&#x25AA;&#x25AA;</td></tr>\n",
       "  </thead>\n",
       "  <tbody>\n",
       "    <tr><td class='row_index'>0</td><td>1</td><td>7</td><td>The One with the Blackout</td><td>James Burrows</td><td>Jeffrey Astrof &amp; Mike Sikowitz</td><td>1994-11-03</td><td>23.5</td><td>9</td></tr>\n",
       "    <tr><td class='row_index'>1</td><td>1</td><td>24</td><td>The One Where Rachel Finds Out</td><td>Kevin S. Bright</td><td>Chris Brown</td><td>1995-05-18</td><td>31.3</td><td>8.9</td></tr>\n",
       "    <tr><td class='row_index'>2</td><td>2</td><td>14</td><td>The One with the Prom Video</td><td>James Burrows</td><td>Alexa Junge</td><td>1996-02-01</td><td>33.6</td><td>9.4</td></tr>\n",
       "    <tr><td class='row_index'>3</td><td>2</td><td>7</td><td>The One Where Ross Finds Out</td><td>Peter Bonerz</td><td>Michael Borkow</td><td>1995-11-09</td><td>30.5</td><td>9</td></tr>\n",
       "    <tr><td class='row_index'>4</td><td>3</td><td>6</td><td>The One with the Flashback</td><td>Peter Bonerz</td><td>David Crane &amp; Marta Kauffman</td><td>1996-10-31</td><td>23.3</td><td>9.1</td></tr>\n",
       "    <tr><td class='row_index'>5</td><td>3</td><td>16</td><td>The One with the Morning After</td><td>James Burrows</td><td>David Crane &amp; Marta Kauffman</td><td>1997-02-20</td><td>28.3</td><td>9.1</td></tr>\n",
       "    <tr><td class='row_index'>6</td><td>4</td><td>12</td><td>The One with the Embryos</td><td>Kevin S. Bright</td><td>Jill Condon &amp; Amy Toomin</td><td>1998-01-15</td><td>27.1</td><td>9.5</td></tr>\n",
       "    <tr><td class='row_index'>7</td><td>4</td><td>24</td><td>The One with Ross' Wedding</td><td>Kevin S. Bright</td><td>Michael BorkowStory by : Jill Condon &amp; Amy ToominT&#133;</td><td>1998-05-07</td><td>31.6</td><td>9.2</td></tr>\n",
       "    <tr><td class='row_index'>8</td><td>5</td><td>14</td><td>The One Where Everybody Finds Out</td><td>Michael Lembeck</td><td>Alexa Junge</td><td>1999-02-11</td><td>27.7</td><td>9.7</td></tr>\n",
       "    <tr><td class='row_index'>9</td><td>5</td><td>8</td><td>The One with All the Thanksgivings</td><td>Kevin S. Bright</td><td>Gregory S. Malins</td><td>1998-11-19</td><td>23.9</td><td>9.2</td></tr>\n",
       "    <tr><td class='row_index'>10</td><td>6</td><td>25</td><td>The One with the Proposal</td><td>Kevin S. Bright</td><td>Shana Goldberg-Meehan &amp; Scott SilveriAndrew Reich &#133;</td><td>2000-05-18</td><td>30.7</td><td>9.3</td></tr>\n",
       "    <tr><td class='row_index'>11</td><td>6</td><td>9</td><td>The One Where Ross Got High</td><td>Kevin S. Bright</td><td>Gregory S. Malins</td><td>1999-11-25</td><td>19.2</td><td>9.2</td></tr>\n",
       "    <tr><td class='row_index'>12</td><td>7</td><td>24</td><td>The One with Monica and Chandler's Wedding</td><td>Kevin S. Bright</td><td>Gregory S. MalinsMarta Kauffman &amp; David Crane</td><td>2001-05-17</td><td>30.05</td><td>9.2</td></tr>\n",
       "    <tr><td class='row_index'>13</td><td>7</td><td>6</td><td>The One with the Nap Partners</td><td>Gary Halvorson</td><td>Brian Buckner &amp; Sebastian Jones</td><td>2000-11-09</td><td>22.01</td><td>8.9</td></tr>\n",
       "    <tr><td class='row_index'>14</td><td>8</td><td>4</td><td>The One with the Videotape</td><td>Kevin S. Bright</td><td>Scott Silveri</td><td>2001-10-18</td><td>25.58</td><td>9.3</td></tr>\n",
       "    <tr><td class='row_index'>15</td><td>8</td><td>9</td><td>The One with the Rumor</td><td>Gary Halvorson</td><td>Shana Goldberg-Meehan</td><td>2001-11-22</td><td>24.24</td><td>9.3</td></tr>\n",
       "    <tr><td class='row_index'>16</td><td>9</td><td>8</td><td>The One with Rachel's Other Sister</td><td>Kevin S. Bright</td><td>Shana Goldberg-Meehan</td><td>2002-11-21</td><td>26.76</td><td>8.8</td></tr>\n",
       "    <tr><td class='row_index'>17</td><td>9</td><td>7</td><td>The One with Ross's Inappropriate Song</td><td>Gary Halvorson</td><td>Robert Carlock</td><td>2002-11-14</td><td>25.35</td><td>8.7</td></tr>\n",
       "    <tr><td class='row_index'>18</td><td>10</td><td>17</td><td>The Last One</td><td>Kevin S. Bright</td><td>Marta Kauffman &amp; David Crane</td><td>2004-05-06</td><td>52.46</td><td>9.7</td></tr>\n",
       "    <tr><td class='row_index'>19</td><td>10</td><td>18</td><td>The Last One</td><td>Kevin S. Bright</td><td>Marta Kauffman &amp; David Crane</td><td>2004-05-06</td><td>52.46</td><td>9.7</td></tr>\n",
       "  </tbody>\n",
       "  </table>\n",
       "  <div class='footer'>\n",
       "    <div class='frame_dimensions'>20 rows &times; 8 columns</div>\n",
       "  </div>\n",
       "</div>\n"
      ],
      "text/plain": [
       "<Frame [20 rows x 8 cols]>"
      ]
     },
     "execution_count": 10,
     "metadata": {},
     "output_type": "execute_result"
    }
   ],
   "source": [
    "# Top 2 titles having higher rating per season\n",
    "amigos_info_dt[:2,:,by(f.season),sort(-f.imdb_rating)]"
   ]
  },
  {
   "cell_type": "code",
   "execution_count": 11,
   "metadata": {},
   "outputs": [
    {
     "data": {
      "text/html": [
       "<div class='datatable'>\n",
       "  <table class='frame'>\n",
       "  <thead>\n",
       "    <tr class='colnames'><td class='row_index'></td><th>season</th><th>episode</th><th>title</th><th>directed_by</th><th>written_by</th><th>air_date</th><th>us_views_millions</th><th>imdb_rating</th></tr>\n",
       "    <tr class='coltypes'><td class='row_index'></td><td class='integer' title='int32'>&#x25AA;&#x25AA;&#x25AA;&#x25AA;</td><td class='integer' title='int32'>&#x25AA;&#x25AA;&#x25AA;&#x25AA;</td><td class='string' title='str32'>&#x25AA;&#x25AA;&#x25AA;&#x25AA;</td><td class='string' title='str32'>&#x25AA;&#x25AA;&#x25AA;&#x25AA;</td><td class='string' title='str32'>&#x25AA;&#x25AA;&#x25AA;&#x25AA;</td><td class='string' title='str32'>&#x25AA;&#x25AA;&#x25AA;&#x25AA;</td><td class='float' title='float64'>&#x25AA;&#x25AA;&#x25AA;&#x25AA;&#x25AA;&#x25AA;&#x25AA;&#x25AA;</td><td class='float' title='float64'>&#x25AA;&#x25AA;&#x25AA;&#x25AA;&#x25AA;&#x25AA;&#x25AA;&#x25AA;</td></tr>\n",
       "  </thead>\n",
       "  <tbody>\n",
       "    <tr><td class='row_index'>0</td><td>10</td><td>17</td><td>The Last One</td><td>Kevin S. Bright</td><td>Marta Kauffman &amp; David Crane</td><td>2004-05-06</td><td>52.46</td><td>9.7</td></tr>\n",
       "    <tr><td class='row_index'>1</td><td>10</td><td>18</td><td>The Last One</td><td>Kevin S. Bright</td><td>Marta Kauffman &amp; David Crane</td><td>2004-05-06</td><td>52.46</td><td>9.7</td></tr>\n",
       "  </tbody>\n",
       "  </table>\n",
       "  <div class='footer'>\n",
       "    <div class='frame_dimensions'>2 rows &times; 8 columns</div>\n",
       "  </div>\n",
       "</div>\n"
      ],
      "text/plain": [
       "<Frame [2 rows x 8 cols]>"
      ]
     },
     "execution_count": 11,
     "metadata": {},
     "output_type": "execute_result"
    }
   ],
   "source": [
    "# find a title info\n",
    "amigos_info_dt[f.title==\"The Last One\",:]"
   ]
  },
  {
   "cell_type": "code",
   "execution_count": 12,
   "metadata": {},
   "outputs": [
    {
     "data": {
      "text/html": [
       "<div class='datatable'>\n",
       "  <table class='frame'>\n",
       "  <thead>\n",
       "    <tr class='colnames'><td class='row_index'></td><th>season</th><th>episode</th><th>title</th><th>directed_by</th><th>written_by</th><th>air_date</th><th>us_views_millions</th><th>imdb_rating</th></tr>\n",
       "    <tr class='coltypes'><td class='row_index'></td><td class='integer' title='int32'>&#x25AA;&#x25AA;&#x25AA;&#x25AA;</td><td class='integer' title='int32'>&#x25AA;&#x25AA;&#x25AA;&#x25AA;</td><td class='string' title='str32'>&#x25AA;&#x25AA;&#x25AA;&#x25AA;</td><td class='string' title='str32'>&#x25AA;&#x25AA;&#x25AA;&#x25AA;</td><td class='string' title='str32'>&#x25AA;&#x25AA;&#x25AA;&#x25AA;</td><td class='string' title='str32'>&#x25AA;&#x25AA;&#x25AA;&#x25AA;</td><td class='float' title='float64'>&#x25AA;&#x25AA;&#x25AA;&#x25AA;&#x25AA;&#x25AA;&#x25AA;&#x25AA;</td><td class='float' title='float64'>&#x25AA;&#x25AA;&#x25AA;&#x25AA;&#x25AA;&#x25AA;&#x25AA;&#x25AA;</td></tr>\n",
       "  </thead>\n",
       "  <tbody>\n",
       "    <tr><td class='row_index'>0</td><td>1</td><td>1</td><td>The Pilot</td><td>James Burrows</td><td>David Crane &amp; Marta Kauffman</td><td>1994-09-22</td><td>21.5</td><td>8.3</td></tr>\n",
       "    <tr><td class='row_index'>1</td><td>1</td><td>2</td><td>The One with the Sonogram at the End</td><td>James Burrows</td><td>David Crane &amp; Marta Kauffman</td><td>1994-09-29</td><td>20.2</td><td>8.1</td></tr>\n",
       "    <tr><td class='row_index'>2</td><td>1</td><td>3</td><td>The One with the Thumb</td><td>James Burrows</td><td>Jeffrey Astrof &amp; Mike Sikowitz</td><td>1994-10-06</td><td>19.5</td><td>8.2</td></tr>\n",
       "    <tr><td class='row_index'>3</td><td>1</td><td>4</td><td>The One with George Stephanopoulos</td><td>James Burrows</td><td>Alexa Junge</td><td>1994-10-13</td><td>19.7</td><td>8.1</td></tr>\n",
       "    <tr><td class='row_index'>&#x22EE;</td><td class='hellipsis'>&#x22EE;</td><td class='hellipsis'>&#x22EE;</td><td class='hellipsis'>&#x22EE;</td><td class='hellipsis'>&#x22EE;</td><td class='hellipsis'>&#x22EE;</td><td class='hellipsis'>&#x22EE;</td><td class='hellipsis'>&#x22EE;</td><td class='hellipsis'>&#x22EE;</td></tr>\n",
       "    <tr><td class='row_index'>231</td><td>10</td><td>14</td><td>The One with Princess Consuela</td><td>Gary Halvorson</td><td>Story by : Robert CarlockTeleplay by : Tracy Reill&#133;</td><td>2004-02-26</td><td>22.83</td><td>8.6</td></tr>\n",
       "    <tr><td class='row_index'>232</td><td>10</td><td>15</td><td>The One Where Estelle Dies</td><td>Gary Halvorson</td><td>Story by : Mark KunerthTeleplay by : David Crane &amp;&#133;</td><td>2004-04-22</td><td>22.64</td><td>8.5</td></tr>\n",
       "    <tr><td class='row_index'>233</td><td>10</td><td>16</td><td>The One with Rachel's Going Away Party</td><td>Gary Halvorson</td><td>Andrew Reich &amp; Ted Cohen</td><td>2004-04-29</td><td>24.51</td><td>8.9</td></tr>\n",
       "    <tr><td class='row_index'>234</td><td>10</td><td>17</td><td>The Last One</td><td>Kevin S. Bright</td><td>Marta Kauffman &amp; David Crane</td><td>2004-05-06</td><td>52.46</td><td>9.7</td></tr>\n",
       "  </tbody>\n",
       "  </table>\n",
       "  <div class='footer'>\n",
       "    <div class='frame_dimensions'>235 rows &times; 8 columns</div>\n",
       "  </div>\n",
       "</div>\n"
      ],
      "text/plain": [
       "<Frame [235 rows x 8 cols]>"
      ]
     },
     "execution_count": 12,
     "metadata": {},
     "output_type": "execute_result"
    }
   ],
   "source": [
    "# select few observations till 235\n",
    "amigos_info_dt[[slice(None,235)],:]"
   ]
  },
  {
   "cell_type": "code",
   "execution_count": 13,
   "metadata": {},
   "outputs": [
    {
     "data": {
      "text/html": [
       "\n",
       "<div id=\"altair-viz-37ce4c990cd94d7982ac9ce8dde55556\"></div>\n",
       "<script type=\"text/javascript\">\n",
       "  (function(spec, embedOpt){\n",
       "    let outputDiv = document.currentScript.previousElementSibling;\n",
       "    if (outputDiv.id !== \"altair-viz-37ce4c990cd94d7982ac9ce8dde55556\") {\n",
       "      outputDiv = document.getElementById(\"altair-viz-37ce4c990cd94d7982ac9ce8dde55556\");\n",
       "    }\n",
       "    const paths = {\n",
       "      \"vega\": \"https://cdn.jsdelivr.net/npm//vega@5?noext\",\n",
       "      \"vega-lib\": \"https://cdn.jsdelivr.net/npm//vega-lib?noext\",\n",
       "      \"vega-lite\": \"https://cdn.jsdelivr.net/npm//vega-lite@4.8.1?noext\",\n",
       "      \"vega-embed\": \"https://cdn.jsdelivr.net/npm//vega-embed@6?noext\",\n",
       "    };\n",
       "\n",
       "    function loadScript(lib) {\n",
       "      return new Promise(function(resolve, reject) {\n",
       "        var s = document.createElement('script');\n",
       "        s.src = paths[lib];\n",
       "        s.async = true;\n",
       "        s.onload = () => resolve(paths[lib]);\n",
       "        s.onerror = () => reject(`Error loading script: ${paths[lib]}`);\n",
       "        document.getElementsByTagName(\"head\")[0].appendChild(s);\n",
       "      });\n",
       "    }\n",
       "\n",
       "    function showError(err) {\n",
       "      outputDiv.innerHTML = `<div class=\"error\" style=\"color:red;\">${err}</div>`;\n",
       "      throw err;\n",
       "    }\n",
       "\n",
       "    function displayChart(vegaEmbed) {\n",
       "      vegaEmbed(outputDiv, spec, embedOpt)\n",
       "        .catch(err => showError(`Javascript Error: ${err.message}<br>This usually means there's a typo in your chart specification. See the javascript console for the full traceback.`));\n",
       "    }\n",
       "\n",
       "    if(typeof define === \"function\" && define.amd) {\n",
       "      requirejs.config({paths});\n",
       "      require([\"vega-embed\"], displayChart, err => showError(`Error loading script: ${err.message}`));\n",
       "    } else if (typeof vegaEmbed === \"function\") {\n",
       "      displayChart(vegaEmbed);\n",
       "    } else {\n",
       "      loadScript(\"vega\")\n",
       "        .then(() => loadScript(\"vega-lite\"))\n",
       "        .then(() => loadScript(\"vega-embed\"))\n",
       "        .catch(showError)\n",
       "        .then(() => displayChart(vegaEmbed));\n",
       "    }\n",
       "  })({\"config\": {\"view\": {\"continuousWidth\": 400, \"continuousHeight\": 300}}, \"data\": {\"name\": \"data-cbf859be854523edea9673dbd0ced70a\"}, \"mark\": \"point\", \"encoding\": {\"x\": {\"type\": \"quantitative\", \"field\": \"episode\"}, \"y\": {\"type\": \"quantitative\", \"field\": \"us_views_millions\"}}, \"title\": \" Episode and views\", \"$schema\": \"https://vega.github.io/schema/vega-lite/v4.8.1.json\", \"datasets\": {\"data-cbf859be854523edea9673dbd0ced70a\": [{\"season\": 1, \"episode\": 1, \"us_views_millions\": 21.5}, {\"season\": 1, \"episode\": 2, \"us_views_millions\": 20.2}, {\"season\": 1, \"episode\": 3, \"us_views_millions\": 19.5}, {\"season\": 1, \"episode\": 4, \"us_views_millions\": 19.7}, {\"season\": 1, \"episode\": 5, \"us_views_millions\": 18.6}, {\"season\": 1, \"episode\": 6, \"us_views_millions\": 18.2}, {\"season\": 1, \"episode\": 7, \"us_views_millions\": 23.5}, {\"season\": 1, \"episode\": 8, \"us_views_millions\": 21.1}, {\"season\": 1, \"episode\": 9, \"us_views_millions\": 23.1}, {\"season\": 1, \"episode\": 10, \"us_views_millions\": 19.9}, {\"season\": 1, \"episode\": 11, \"us_views_millions\": 26.6}, {\"season\": 1, \"episode\": 12, \"us_views_millions\": 24.0}, {\"season\": 1, \"episode\": 13, \"us_views_millions\": 25.8}, {\"season\": 1, \"episode\": 14, \"us_views_millions\": 23.8}, {\"season\": 1, \"episode\": 15, \"us_views_millions\": 24.8}, {\"season\": 1, \"episode\": 16, \"us_views_millions\": 26.1}, {\"season\": 1, \"episode\": 17, \"us_views_millions\": 30.5}, {\"season\": 1, \"episode\": 18, \"us_views_millions\": 30.4}, {\"season\": 1, \"episode\": 19, \"us_views_millions\": 29.4}, {\"season\": 1, \"episode\": 20, \"us_views_millions\": 30.0}, {\"season\": 1, \"episode\": 21, \"us_views_millions\": 28.4}, {\"season\": 1, \"episode\": 22, \"us_views_millions\": 29.9}, {\"season\": 1, \"episode\": 23, \"us_views_millions\": 28.7}, {\"season\": 1, \"episode\": 24, \"us_views_millions\": 31.3}, {\"season\": 2, \"episode\": 1, \"us_views_millions\": 32.1}, {\"season\": 2, \"episode\": 2, \"us_views_millions\": 29.8}, {\"season\": 2, \"episode\": 3, \"us_views_millions\": 30.2}, {\"season\": 2, \"episode\": 4, \"us_views_millions\": 28.1}, {\"season\": 2, \"episode\": 5, \"us_views_millions\": 28.3}, {\"season\": 2, \"episode\": 6, \"us_views_millions\": 30.2}, {\"season\": 2, \"episode\": 7, \"us_views_millions\": 30.5}, {\"season\": 2, \"episode\": 8, \"us_views_millions\": 32.9}, {\"season\": 2, \"episode\": 9, \"us_views_millions\": 27.8}, {\"season\": 2, \"episode\": 10, \"us_views_millions\": 32.2}, {\"season\": 2, \"episode\": 11, \"us_views_millions\": 31.6}, {\"season\": 2, \"episode\": 12, \"us_views_millions\": 52.9}, {\"season\": 2, \"episode\": 13, \"us_views_millions\": 52.9}, {\"season\": 2, \"episode\": 14, \"us_views_millions\": 33.6}, {\"season\": 2, \"episode\": 15, \"us_views_millions\": 32.9}, {\"season\": 2, \"episode\": 16, \"us_views_millions\": 31.1}, {\"season\": 2, \"episode\": 17, \"us_views_millions\": 30.2}, {\"season\": 2, \"episode\": 18, \"us_views_millions\": 30.1}, {\"season\": 2, \"episode\": 19, \"us_views_millions\": 31.2}, {\"season\": 2, \"episode\": 20, \"us_views_millions\": 27.4}, {\"season\": 2, \"episode\": 21, \"us_views_millions\": 24.7}, {\"season\": 2, \"episode\": 22, \"us_views_millions\": 25.5}, {\"season\": 2, \"episode\": 23, \"us_views_millions\": 26.1}, {\"season\": 2, \"episode\": 24, \"us_views_millions\": 29.0}, {\"season\": 3, \"episode\": 1, \"us_views_millions\": 26.8}, {\"season\": 3, \"episode\": 2, \"us_views_millions\": 26.7}, {\"season\": 3, \"episode\": 3, \"us_views_millions\": 25.2}, {\"season\": 3, \"episode\": 4, \"us_views_millions\": 26.1}, {\"season\": 3, \"episode\": 5, \"us_views_millions\": 23.3}, {\"season\": 3, \"episode\": 6, \"us_views_millions\": 23.3}, {\"season\": 3, \"episode\": 7, \"us_views_millions\": 27.4}, {\"season\": 3, \"episode\": 8, \"us_views_millions\": 28.7}, {\"season\": 3, \"episode\": 9, \"us_views_millions\": 29.3}, {\"season\": 3, \"episode\": 10, \"us_views_millions\": 25.1}, {\"season\": 3, \"episode\": 11, \"us_views_millions\": 29.8}, {\"season\": 3, \"episode\": 12, \"us_views_millions\": 29.6}, {\"season\": 3, \"episode\": 13, \"us_views_millions\": 28.0}, {\"season\": 3, \"episode\": 14, \"us_views_millions\": 28.9}, {\"season\": 3, \"episode\": 15, \"us_views_millions\": 27.3}, {\"season\": 3, \"episode\": 16, \"us_views_millions\": 28.3}, {\"season\": 3, \"episode\": 17, \"us_views_millions\": 25.8}, {\"season\": 3, \"episode\": 18, \"us_views_millions\": 28.1}, {\"season\": 3, \"episode\": 19, \"us_views_millions\": 23.7}, {\"season\": 3, \"episode\": 20, \"us_views_millions\": 24.4}, {\"season\": 3, \"episode\": 21, \"us_views_millions\": 23.2}, {\"season\": 3, \"episode\": 22, \"us_views_millions\": 22.6}, {\"season\": 3, \"episode\": 23, \"us_views_millions\": 24.2}, {\"season\": 3, \"episode\": 24, \"us_views_millions\": 23.1}, {\"season\": 3, \"episode\": 25, \"us_views_millions\": 28.8}, {\"season\": 4, \"episode\": 1, \"us_views_millions\": 29.4}, {\"season\": 4, \"episode\": 2, \"us_views_millions\": 25.5}, {\"season\": 4, \"episode\": 3, \"us_views_millions\": 24.0}, {\"season\": 4, \"episode\": 4, \"us_views_millions\": 24.3}, {\"season\": 4, \"episode\": 5, \"us_views_millions\": 24.4}, {\"season\": 4, \"episode\": 6, \"us_views_millions\": 25.7}, {\"season\": 4, \"episode\": 7, \"us_views_millions\": 26.4}, {\"season\": 4, \"episode\": 8, \"us_views_millions\": 26.8}, {\"season\": 4, \"episode\": 9, \"us_views_millions\": 23.9}, {\"season\": 4, \"episode\": 10, \"us_views_millions\": 23.2}, {\"season\": 4, \"episode\": 11, \"us_views_millions\": 23.7}, {\"season\": 4, \"episode\": 12, \"us_views_millions\": 27.1}, {\"season\": 4, \"episode\": 13, \"us_views_millions\": 25.3}, {\"season\": 4, \"episode\": 14, \"us_views_millions\": 25.1}, {\"season\": 4, \"episode\": 15, \"us_views_millions\": 24.4}, {\"season\": 4, \"episode\": 16, \"us_views_millions\": 23.1}, {\"season\": 4, \"episode\": 17, \"us_views_millions\": 23.2}, {\"season\": 4, \"episode\": 18, \"us_views_millions\": 21.7}, {\"season\": 4, \"episode\": 19, \"us_views_millions\": 21.8}, {\"season\": 4, \"episode\": 20, \"us_views_millions\": 21.9}, {\"season\": 4, \"episode\": 21, \"us_views_millions\": 21.5}, {\"season\": 4, \"episode\": 22, \"us_views_millions\": 23.2}, {\"season\": 4, \"episode\": 23, \"us_views_millions\": 31.6}, {\"season\": 4, \"episode\": 24, \"us_views_millions\": 31.6}, {\"season\": 5, \"episode\": 1, \"us_views_millions\": 31.1}, {\"season\": 5, \"episode\": 2, \"us_views_millions\": 25.4}, {\"season\": 5, \"episode\": 3, \"us_views_millions\": 26.8}, {\"season\": 5, \"episode\": 4, \"us_views_millions\": 24.1}, {\"season\": 5, \"episode\": 5, \"us_views_millions\": 25.9}, {\"season\": 5, \"episode\": 6, \"us_views_millions\": 25.0}, {\"season\": 5, \"episode\": 7, \"us_views_millions\": 24.4}, {\"season\": 5, \"episode\": 8, \"us_views_millions\": 23.9}, {\"season\": 5, \"episode\": 9, \"us_views_millions\": 23.0}, {\"season\": 5, \"episode\": 10, \"us_views_millions\": 23.7}, {\"season\": 5, \"episode\": 11, \"us_views_millions\": 27.0}, {\"season\": 5, \"episode\": 12, \"us_views_millions\": 24.8}, {\"season\": 5, \"episode\": 13, \"us_views_millions\": 24.9}, {\"season\": 5, \"episode\": 14, \"us_views_millions\": 27.7}, {\"season\": 5, \"episode\": 15, \"us_views_millions\": 29.3}, {\"season\": 5, \"episode\": 16, \"us_views_millions\": 26.0}, {\"season\": 5, \"episode\": 17, \"us_views_millions\": 24.5}, {\"season\": 5, \"episode\": 18, \"us_views_millions\": 21.9}, {\"season\": 5, \"episode\": 19, \"us_views_millions\": 20.9}, {\"season\": 5, \"episode\": 20, \"us_views_millions\": 19.6}, {\"season\": 5, \"episode\": 21, \"us_views_millions\": 20.9}, {\"season\": 5, \"episode\": 22, \"us_views_millions\": 21.3}, {\"season\": 5, \"episode\": 23, \"us_views_millions\": 25.9}, {\"season\": 5, \"episode\": 24, \"us_views_millions\": 25.9}, {\"season\": 6, \"episode\": 1, \"us_views_millions\": 27.7}, {\"season\": 6, \"episode\": 2, \"us_views_millions\": 22.9}, {\"season\": 6, \"episode\": 3, \"us_views_millions\": 21.6}, {\"season\": 6, \"episode\": 4, \"us_views_millions\": 21.1}, {\"season\": 6, \"episode\": 5, \"us_views_millions\": 22.4}, {\"season\": 6, \"episode\": 6, \"us_views_millions\": 23.6}, {\"season\": 6, \"episode\": 7, \"us_views_millions\": 22.7}, {\"season\": 6, \"episode\": 8, \"us_views_millions\": 22.1}, {\"season\": 6, \"episode\": 9, \"us_views_millions\": 19.2}, {\"season\": 6, \"episode\": 10, \"us_views_millions\": 22.4}, {\"season\": 6, \"episode\": 11, \"us_views_millions\": 22.3}, {\"season\": 6, \"episode\": 12, \"us_views_millions\": 22.3}, {\"season\": 6, \"episode\": 13, \"us_views_millions\": 24.1}, {\"season\": 6, \"episode\": 14, \"us_views_millions\": 23.8}, {\"season\": 6, \"episode\": 15, \"us_views_millions\": 20.7}, {\"season\": 6, \"episode\": 16, \"us_views_millions\": 20.7}, {\"season\": 6, \"episode\": 17, \"us_views_millions\": 22.1}, {\"season\": 6, \"episode\": 18, \"us_views_millions\": 20.5}, {\"season\": 6, \"episode\": 19, \"us_views_millions\": 21.5}, {\"season\": 6, \"episode\": 20, \"us_views_millions\": 18.8}, {\"season\": 6, \"episode\": 21, \"us_views_millions\": 20.6}, {\"season\": 6, \"episode\": 22, \"us_views_millions\": 20.0}, {\"season\": 6, \"episode\": 23, \"us_views_millions\": 20.9}, {\"season\": 6, \"episode\": 24, \"us_views_millions\": 30.7}, {\"season\": 6, \"episode\": 25, \"us_views_millions\": 30.7}, {\"season\": 7, \"episode\": 1, \"us_views_millions\": 25.54}, {\"season\": 7, \"episode\": 2, \"us_views_millions\": 27.93}, {\"season\": 7, \"episode\": 3, \"us_views_millions\": 22.7}, {\"season\": 7, \"episode\": 4, \"us_views_millions\": 22.66}, {\"season\": 7, \"episode\": 5, \"us_views_millions\": 24.43}, {\"season\": 7, \"episode\": 6, \"us_views_millions\": 22.01}, {\"season\": 7, \"episode\": 7, \"us_views_millions\": 23.73}, {\"season\": 7, \"episode\": 8, \"us_views_millions\": 16.57}, {\"season\": 7, \"episode\": 9, \"us_views_millions\": 21.08}, {\"season\": 7, \"episode\": 10, \"us_views_millions\": 23.26}, {\"season\": 7, \"episode\": 11, \"us_views_millions\": 24.37}, {\"season\": 7, \"episode\": 12, \"us_views_millions\": 22.86}, {\"season\": 7, \"episode\": 13, \"us_views_millions\": 22.24}, {\"season\": 7, \"episode\": 14, \"us_views_millions\": 22.4}, {\"season\": 7, \"episode\": 15, \"us_views_millions\": 21.75}, {\"season\": 7, \"episode\": 16, \"us_views_millions\": 21.22}, {\"season\": 7, \"episode\": 17, \"us_views_millions\": 20.84}, {\"season\": 7, \"episode\": 18, \"us_views_millions\": 17.81}, {\"season\": 7, \"episode\": 19, \"us_views_millions\": 16.55}, {\"season\": 7, \"episode\": 20, \"us_views_millions\": 16.3}, {\"season\": 7, \"episode\": 21, \"us_views_millions\": 15.65}, {\"season\": 7, \"episode\": 22, \"us_views_millions\": 17.23}, {\"season\": 7, \"episode\": 23, \"us_views_millions\": 30.05}, {\"season\": 7, \"episode\": 24, \"us_views_millions\": 30.05}, {\"season\": 8, \"episode\": 1, \"us_views_millions\": 31.7}, {\"season\": 8, \"episode\": 2, \"us_views_millions\": 30.04}, {\"season\": 8, \"episode\": 3, \"us_views_millions\": 29.2}, {\"season\": 8, \"episode\": 4, \"us_views_millions\": 25.58}, {\"season\": 8, \"episode\": 5, \"us_views_millions\": 25.64}, {\"season\": 8, \"episode\": 6, \"us_views_millions\": 26.96}, {\"season\": 8, \"episode\": 7, \"us_views_millions\": 24.24}, {\"season\": 8, \"episode\": 8, \"us_views_millions\": 26.54}, {\"season\": 8, \"episode\": 9, \"us_views_millions\": 24.24}, {\"season\": 8, \"episode\": 10, \"us_views_millions\": 22.44}, {\"season\": 8, \"episode\": 11, \"us_views_millions\": 23.85}, {\"season\": 8, \"episode\": 12, \"us_views_millions\": 25.53}, {\"season\": 8, \"episode\": 13, \"us_views_millions\": 29.24}, {\"season\": 8, \"episode\": 14, \"us_views_millions\": 28.64}, {\"season\": 8, \"episode\": 15, \"us_views_millions\": 28.64}, {\"season\": 8, \"episode\": 16, \"us_views_millions\": 27.52}, {\"season\": 8, \"episode\": 17, \"us_views_millions\": 26.3}, {\"season\": 8, \"episode\": 18, \"us_views_millions\": 22.05}, {\"season\": 8, \"episode\": 19, \"us_views_millions\": 22.59}, {\"season\": 8, \"episode\": 20, \"us_views_millions\": 22.24}, {\"season\": 8, \"episode\": 21, \"us_views_millions\": 23.97}, {\"season\": 8, \"episode\": 22, \"us_views_millions\": 24.32}, {\"season\": 8, \"episode\": 23, \"us_views_millions\": 34.91}, {\"season\": 8, \"episode\": 24, \"us_views_millions\": 34.91}, {\"season\": 9, \"episode\": 1, \"us_views_millions\": 34.01}, {\"season\": 9, \"episode\": 2, \"us_views_millions\": 28.93}, {\"season\": 9, \"episode\": 3, \"us_views_millions\": 26.63}, {\"season\": 9, \"episode\": 4, \"us_views_millions\": 25.82}, {\"season\": 9, \"episode\": 5, \"us_views_millions\": 24.46}, {\"season\": 9, \"episode\": 6, \"us_views_millions\": 27.51}, {\"season\": 9, \"episode\": 7, \"us_views_millions\": 25.35}, {\"season\": 9, \"episode\": 8, \"us_views_millions\": 26.76}, {\"season\": 9, \"episode\": 9, \"us_views_millions\": 25.43}, {\"season\": 9, \"episode\": 10, \"us_views_millions\": 22.29}, {\"season\": 9, \"episode\": 11, \"us_views_millions\": 23.67}, {\"season\": 9, \"episode\": 12, \"us_views_millions\": 23.66}, {\"season\": 9, \"episode\": 13, \"us_views_millions\": 25.82}, {\"season\": 9, \"episode\": 14, \"us_views_millions\": 23.37}, {\"season\": 9, \"episode\": 15, \"us_views_millions\": 20.85}, {\"season\": 9, \"episode\": 16, \"us_views_millions\": 19.52}, {\"season\": 9, \"episode\": 17, \"us_views_millions\": 21.0}, {\"season\": 9, \"episode\": 18, \"us_views_millions\": 20.79}, {\"season\": 9, \"episode\": 19, \"us_views_millions\": 18.25}, {\"season\": 9, \"episode\": 20, \"us_views_millions\": 20.71}, {\"season\": 9, \"episode\": 21, \"us_views_millions\": 19.03}, {\"season\": 9, \"episode\": 22, \"us_views_millions\": 19.55}, {\"season\": 9, \"episode\": 23, \"us_views_millions\": 25.46}, {\"season\": 9, \"episode\": 24, \"us_views_millions\": 25.46}, {\"season\": 10, \"episode\": 1, \"us_views_millions\": 24.54}, {\"season\": 10, \"episode\": 2, \"us_views_millions\": 22.38}, {\"season\": 10, \"episode\": 3, \"us_views_millions\": 21.87}, {\"season\": 10, \"episode\": 4, \"us_views_millions\": 18.77}, {\"season\": 10, \"episode\": 5, \"us_views_millions\": 19.37}, {\"season\": 10, \"episode\": 6, \"us_views_millions\": 20.38}, {\"season\": 10, \"episode\": 7, \"us_views_millions\": 20.21}, {\"season\": 10, \"episode\": 8, \"us_views_millions\": 20.66}, {\"season\": 10, \"episode\": 9, \"us_views_millions\": 25.49}, {\"season\": 10, \"episode\": 10, \"us_views_millions\": 26.68}, {\"season\": 10, \"episode\": 11, \"us_views_millions\": 24.91}, {\"season\": 10, \"episode\": 12, \"us_views_millions\": 25.9}, {\"season\": 10, \"episode\": 13, \"us_views_millions\": 24.27}, {\"season\": 10, \"episode\": 14, \"us_views_millions\": 22.83}, {\"season\": 10, \"episode\": 15, \"us_views_millions\": 22.64}, {\"season\": 10, \"episode\": 16, \"us_views_millions\": 24.51}, {\"season\": 10, \"episode\": 17, \"us_views_millions\": 52.46}, {\"season\": 10, \"episode\": 18, \"us_views_millions\": 52.46}]}}, {\"mode\": \"vega-lite\"});\n",
       "</script>"
      ],
      "text/plain": [
       "alt.Chart(...)"
      ]
     },
     "execution_count": 13,
     "metadata": {},
     "output_type": "execute_result"
    }
   ],
   "source": [
    "alt.Chart(amigos_info_dt[:,[f.season,f.episode,f.us_views_millions]].to_pandas()).mark_point().encode(\n",
    "    alt.X('episode'),\n",
    "    alt.Y('us_views_millions')\n",
    ").properties(\n",
    "    title=' Episode and views'\n",
    ")"
   ]
  },
  {
   "cell_type": "code",
   "execution_count": 14,
   "metadata": {},
   "outputs": [],
   "source": [
    "# Average views and rating per directors\n",
    "directors_views_rating = amigos_info_dt[:,dt.mean(f[-2:]),by(f.directed_by)\n",
    "                                       ][:,:,dt.sort(-f.imdb_rating)\n",
    "                                        ]"
   ]
  },
  {
   "cell_type": "code",
   "execution_count": 15,
   "metadata": {},
   "outputs": [],
   "source": [
    "# Top 10 directors who have made more titles\n",
    "directors_dt = amigos_info_dt[:,count(),by(f.directed_by)\n",
    "                             ][:10,:,dt.sort(-f.count)\n",
    "                              ]"
   ]
  },
  {
   "cell_type": "code",
   "execution_count": 16,
   "metadata": {},
   "outputs": [],
   "source": [
    "# setting a key on DT\n",
    "directors_dt.key='directed_by'"
   ]
  },
  {
   "cell_type": "code",
   "execution_count": 17,
   "metadata": {},
   "outputs": [
    {
     "data": {
      "text/html": [
       "<div class='datatable'>\n",
       "  <table class='frame'>\n",
       "  <thead>\n",
       "    <tr class='colnames'><td class='row_index'></td><th>directed_by</th><th>us_views_millions</th><th>imdb_rating</th></tr>\n",
       "    <tr class='coltypes'><td class='row_index'></td><td class='string' title='str32'>&#x25AA;&#x25AA;&#x25AA;&#x25AA;</td><td class='float' title='float64'>&#x25AA;&#x25AA;&#x25AA;&#x25AA;&#x25AA;&#x25AA;&#x25AA;&#x25AA;</td><td class='float' title='float64'>&#x25AA;&#x25AA;&#x25AA;&#x25AA;&#x25AA;&#x25AA;&#x25AA;&#x25AA;</td></tr>\n",
       "  </thead>\n",
       "  <tbody>\n",
       "    <tr><td class='row_index'>0</td><td>Joe Regalbuto</td><td>27</td><td>9.1</td></tr>\n",
       "    <tr><td class='row_index'>1</td><td>Kevin S. Bright</td><td>27.3308</td><td>8.6566</td></tr>\n",
       "    <tr><td class='row_index'>2</td><td>Pamela Fryman</td><td>23.7</td><td>8.65</td></tr>\n",
       "    <tr><td class='row_index'>3</td><td>Andrew Tsao</td><td>26</td><td>8.6</td></tr>\n",
       "    <tr><td class='row_index'>4</td><td>David Schwimmer</td><td>24.435</td><td>8.55</td></tr>\n",
       "    <tr><td class='row_index'>5</td><td>Robby Benson</td><td>27.9333</td><td>8.18333</td></tr>\n",
       "    <tr><td class='row_index'>6</td><td>Arlene Sanford</td><td>18.2</td><td>8.1</td></tr>\n",
       "    <tr><td class='row_index'>7</td><td>Steve Zuckerman</td><td>24.7</td><td>8.1</td></tr>\n",
       "    <tr><td class='row_index'>8</td><td>Thomas Schlamme</td><td>31.9</td><td>8.05</td></tr>\n",
       "    <tr><td class='row_index'>9</td><td>Todd Holland</td><td>21.9</td><td>8</td></tr>\n",
       "  </tbody>\n",
       "  </table>\n",
       "  <div class='footer'>\n",
       "    <div class='frame_dimensions'>10 rows &times; 3 columns</div>\n",
       "  </div>\n",
       "</div>\n"
      ],
      "text/plain": [
       "<Frame [10 rows x 3 cols]>"
      ]
     },
     "execution_count": 17,
     "metadata": {},
     "output_type": "execute_result"
    }
   ],
   "source": [
    "# First 5 and last 5 observations\n",
    "directors_views_rating[[slice(5),slice(25,None)],:]"
   ]
  },
  {
   "cell_type": "code",
   "execution_count": 18,
   "metadata": {},
   "outputs": [],
   "source": [
    "# directors and their avg title rating and total titles\n",
    "directors_views_rating_v1 = directors_views_rating[:,:,dt.join(directors_dt)\n",
    "                                                  ][~dt.isna(f.count),:\n",
    "                                                   ][:,:,dt.sort(-f.count)\n",
    "                                                    ]"
   ]
  },
  {
   "cell_type": "code",
   "execution_count": 19,
   "metadata": {},
   "outputs": [
    {
     "data": {
      "text/html": [
       "<div class='datatable'>\n",
       "  <table class='frame'>\n",
       "  <thead>\n",
       "    <tr class='colnames'><td class='row_index'></td><th>directed_by</th><th>us_views_millions</th><th>imdb_rating</th><th>count</th></tr>\n",
       "    <tr class='coltypes'><td class='row_index'></td><td class='string' title='str32'>&#x25AA;&#x25AA;&#x25AA;&#x25AA;</td><td class='float' title='float64'>&#x25AA;&#x25AA;&#x25AA;&#x25AA;&#x25AA;&#x25AA;&#x25AA;&#x25AA;</td><td class='float' title='float64'>&#x25AA;&#x25AA;&#x25AA;&#x25AA;&#x25AA;&#x25AA;&#x25AA;&#x25AA;</td><td class='integer' title='int64'>&#x25AA;&#x25AA;&#x25AA;&#x25AA;&#x25AA;&#x25AA;&#x25AA;&#x25AA;</td></tr>\n",
       "  </thead>\n",
       "  <tbody>\n",
       "    <tr><td class='row_index'>0</td><td>Gary Halvorson</td><td>22.3561</td><td>8.40185</td><td>54</td></tr>\n",
       "    <tr><td class='row_index'>1</td><td>Kevin S. Bright</td><td>27.3308</td><td>8.6566</td><td>53</td></tr>\n",
       "    <tr><td class='row_index'>2</td><td>Michael Lembeck</td><td>29.1513</td><td>8.52083</td><td>24</td></tr>\n",
       "    <tr><td class='row_index'>3</td><td>James Burrows</td><td>24.78</td><td>8.50667</td><td>15</td></tr>\n",
       "    <tr><td class='row_index'>4</td><td>Gail Mancuso</td><td>25.5214</td><td>8.35714</td><td>14</td></tr>\n",
       "    <tr><td class='row_index'>5</td><td>Peter Bonerz</td><td>25.0167</td><td>8.325</td><td>12</td></tr>\n",
       "    <tr><td class='row_index'>6</td><td>David Schwimmer</td><td>24.435</td><td>8.55</td><td>10</td></tr>\n",
       "    <tr><td class='row_index'>7</td><td>Ben Weiss</td><td>23.788</td><td>8.3</td><td>10</td></tr>\n",
       "    <tr><td class='row_index'>8</td><td>Shelley Jensen</td><td>25.5667</td><td>8.43333</td><td>6</td></tr>\n",
       "    <tr><td class='row_index'>9</td><td>Robby Benson</td><td>27.9333</td><td>8.18333</td><td>6</td></tr>\n",
       "  </tbody>\n",
       "  </table>\n",
       "  <div class='footer'>\n",
       "    <div class='frame_dimensions'>10 rows &times; 4 columns</div>\n",
       "  </div>\n",
       "</div>\n"
      ],
      "text/plain": [
       "<Frame [10 rows x 4 cols]>"
      ]
     },
     "execution_count": 19,
     "metadata": {},
     "output_type": "execute_result"
    }
   ],
   "source": [
    "directors_views_rating_v1"
   ]
  },
  {
   "cell_type": "code",
   "execution_count": 20,
   "metadata": {},
   "outputs": [
    {
     "data": {
      "text/html": [
       "\n",
       "<div id=\"altair-viz-b9722fa62b5e4f869294dc92380c585d\"></div>\n",
       "<script type=\"text/javascript\">\n",
       "  (function(spec, embedOpt){\n",
       "    let outputDiv = document.currentScript.previousElementSibling;\n",
       "    if (outputDiv.id !== \"altair-viz-b9722fa62b5e4f869294dc92380c585d\") {\n",
       "      outputDiv = document.getElementById(\"altair-viz-b9722fa62b5e4f869294dc92380c585d\");\n",
       "    }\n",
       "    const paths = {\n",
       "      \"vega\": \"https://cdn.jsdelivr.net/npm//vega@5?noext\",\n",
       "      \"vega-lib\": \"https://cdn.jsdelivr.net/npm//vega-lib?noext\",\n",
       "      \"vega-lite\": \"https://cdn.jsdelivr.net/npm//vega-lite@4.8.1?noext\",\n",
       "      \"vega-embed\": \"https://cdn.jsdelivr.net/npm//vega-embed@6?noext\",\n",
       "    };\n",
       "\n",
       "    function loadScript(lib) {\n",
       "      return new Promise(function(resolve, reject) {\n",
       "        var s = document.createElement('script');\n",
       "        s.src = paths[lib];\n",
       "        s.async = true;\n",
       "        s.onload = () => resolve(paths[lib]);\n",
       "        s.onerror = () => reject(`Error loading script: ${paths[lib]}`);\n",
       "        document.getElementsByTagName(\"head\")[0].appendChild(s);\n",
       "      });\n",
       "    }\n",
       "\n",
       "    function showError(err) {\n",
       "      outputDiv.innerHTML = `<div class=\"error\" style=\"color:red;\">${err}</div>`;\n",
       "      throw err;\n",
       "    }\n",
       "\n",
       "    function displayChart(vegaEmbed) {\n",
       "      vegaEmbed(outputDiv, spec, embedOpt)\n",
       "        .catch(err => showError(`Javascript Error: ${err.message}<br>This usually means there's a typo in your chart specification. See the javascript console for the full traceback.`));\n",
       "    }\n",
       "\n",
       "    if(typeof define === \"function\" && define.amd) {\n",
       "      requirejs.config({paths});\n",
       "      require([\"vega-embed\"], displayChart, err => showError(`Error loading script: ${err.message}`));\n",
       "    } else if (typeof vegaEmbed === \"function\") {\n",
       "      displayChart(vegaEmbed);\n",
       "    } else {\n",
       "      loadScript(\"vega\")\n",
       "        .then(() => loadScript(\"vega-lite\"))\n",
       "        .then(() => loadScript(\"vega-embed\"))\n",
       "        .catch(showError)\n",
       "        .then(() => displayChart(vegaEmbed));\n",
       "    }\n",
       "  })({\"config\": {\"view\": {\"continuousWidth\": 400, \"continuousHeight\": 300}}, \"data\": {\"name\": \"data-d4ac36c62962e827fee92e7b73200d26\"}, \"mark\": \"bar\", \"encoding\": {\"color\": {\"type\": \"quantitative\", \"field\": \"imdb_rating\"}, \"x\": {\"type\": \"quantitative\", \"field\": \"count\"}, \"y\": {\"type\": \"nominal\", \"field\": \"directed_by\", \"sort\": \"-x\"}}, \"title\": \"Top directors title counts and imdb ratings\", \"$schema\": \"https://vega.github.io/schema/vega-lite/v4.8.1.json\", \"datasets\": {\"data-d4ac36c62962e827fee92e7b73200d26\": [{\"directed_by\": \"Gary Halvorson\", \"us_views_millions\": 22.35611111111111, \"imdb_rating\": 8.401851851851852, \"count\": 54}, {\"directed_by\": \"Kevin S. Bright\", \"us_views_millions\": 27.33075471698114, \"imdb_rating\": 8.656603773584903, \"count\": 53}, {\"directed_by\": \"Michael Lembeck\", \"us_views_millions\": 29.151250000000008, \"imdb_rating\": 8.52083333333333, \"count\": 24}, {\"directed_by\": \"James Burrows\", \"us_views_millions\": 24.780000000000005, \"imdb_rating\": 8.506666666666666, \"count\": 15}, {\"directed_by\": \"Gail Mancuso\", \"us_views_millions\": 25.521428571428565, \"imdb_rating\": 8.357142857142858, \"count\": 14}, {\"directed_by\": \"Peter Bonerz\", \"us_views_millions\": 25.016666666666666, \"imdb_rating\": 8.325000000000001, \"count\": 12}, {\"directed_by\": \"David Schwimmer\", \"us_views_millions\": 24.435000000000002, \"imdb_rating\": 8.55, \"count\": 10}, {\"directed_by\": \"Ben Weiss\", \"us_views_millions\": 23.788, \"imdb_rating\": 8.3, \"count\": 10}, {\"directed_by\": \"Shelley Jensen\", \"us_views_millions\": 25.566666666666666, \"imdb_rating\": 8.433333333333332, \"count\": 6}, {\"directed_by\": \"Robby Benson\", \"us_views_millions\": 27.933333333333334, \"imdb_rating\": 8.183333333333334, \"count\": 6}]}}, {\"mode\": \"vega-lite\"});\n",
       "</script>"
      ],
      "text/plain": [
       "alt.Chart(...)"
      ]
     },
     "execution_count": 20,
     "metadata": {},
     "output_type": "execute_result"
    }
   ],
   "source": [
    "alt.Chart(directors_views_rating_v1.to_pandas()).mark_bar().encode(\n",
    "    alt.Y('directed_by',sort='-x'),\n",
    "    alt.X('count'),\n",
    "    alt.Color('imdb_rating')\n",
    ").properties(\n",
    "    \n",
    "    title='Top directors title counts and imdb ratings'\n",
    ")"
   ]
  },
  {
   "cell_type": "code",
   "execution_count": 21,
   "metadata": {},
   "outputs": [
    {
     "data": {
      "text/html": [
       "\n",
       "<div id=\"altair-viz-32b9fbd54e464830a50628d1e0383b76\"></div>\n",
       "<script type=\"text/javascript\">\n",
       "  (function(spec, embedOpt){\n",
       "    let outputDiv = document.currentScript.previousElementSibling;\n",
       "    if (outputDiv.id !== \"altair-viz-32b9fbd54e464830a50628d1e0383b76\") {\n",
       "      outputDiv = document.getElementById(\"altair-viz-32b9fbd54e464830a50628d1e0383b76\");\n",
       "    }\n",
       "    const paths = {\n",
       "      \"vega\": \"https://cdn.jsdelivr.net/npm//vega@5?noext\",\n",
       "      \"vega-lib\": \"https://cdn.jsdelivr.net/npm//vega-lib?noext\",\n",
       "      \"vega-lite\": \"https://cdn.jsdelivr.net/npm//vega-lite@4.8.1?noext\",\n",
       "      \"vega-embed\": \"https://cdn.jsdelivr.net/npm//vega-embed@6?noext\",\n",
       "    };\n",
       "\n",
       "    function loadScript(lib) {\n",
       "      return new Promise(function(resolve, reject) {\n",
       "        var s = document.createElement('script');\n",
       "        s.src = paths[lib];\n",
       "        s.async = true;\n",
       "        s.onload = () => resolve(paths[lib]);\n",
       "        s.onerror = () => reject(`Error loading script: ${paths[lib]}`);\n",
       "        document.getElementsByTagName(\"head\")[0].appendChild(s);\n",
       "      });\n",
       "    }\n",
       "\n",
       "    function showError(err) {\n",
       "      outputDiv.innerHTML = `<div class=\"error\" style=\"color:red;\">${err}</div>`;\n",
       "      throw err;\n",
       "    }\n",
       "\n",
       "    function displayChart(vegaEmbed) {\n",
       "      vegaEmbed(outputDiv, spec, embedOpt)\n",
       "        .catch(err => showError(`Javascript Error: ${err.message}<br>This usually means there's a typo in your chart specification. See the javascript console for the full traceback.`));\n",
       "    }\n",
       "\n",
       "    if(typeof define === \"function\" && define.amd) {\n",
       "      requirejs.config({paths});\n",
       "      require([\"vega-embed\"], displayChart, err => showError(`Error loading script: ${err.message}`));\n",
       "    } else if (typeof vegaEmbed === \"function\") {\n",
       "      displayChart(vegaEmbed);\n",
       "    } else {\n",
       "      loadScript(\"vega\")\n",
       "        .then(() => loadScript(\"vega-lite\"))\n",
       "        .then(() => loadScript(\"vega-embed\"))\n",
       "        .catch(showError)\n",
       "        .then(() => displayChart(vegaEmbed));\n",
       "    }\n",
       "  })({\"config\": {\"view\": {\"continuousWidth\": 400, \"continuousHeight\": 300}}, \"data\": {\"name\": \"data-d4ac36c62962e827fee92e7b73200d26\"}, \"mark\": \"bar\", \"encoding\": {\"color\": {\"type\": \"quantitative\", \"field\": \"us_views_millions\"}, \"x\": {\"type\": \"quantitative\", \"field\": \"count\"}, \"y\": {\"type\": \"nominal\", \"field\": \"directed_by\", \"sort\": \"-x\"}}, \"title\": \"Top directors title counts and US million views\", \"$schema\": \"https://vega.github.io/schema/vega-lite/v4.8.1.json\", \"datasets\": {\"data-d4ac36c62962e827fee92e7b73200d26\": [{\"directed_by\": \"Gary Halvorson\", \"us_views_millions\": 22.35611111111111, \"imdb_rating\": 8.401851851851852, \"count\": 54}, {\"directed_by\": \"Kevin S. Bright\", \"us_views_millions\": 27.33075471698114, \"imdb_rating\": 8.656603773584903, \"count\": 53}, {\"directed_by\": \"Michael Lembeck\", \"us_views_millions\": 29.151250000000008, \"imdb_rating\": 8.52083333333333, \"count\": 24}, {\"directed_by\": \"James Burrows\", \"us_views_millions\": 24.780000000000005, \"imdb_rating\": 8.506666666666666, \"count\": 15}, {\"directed_by\": \"Gail Mancuso\", \"us_views_millions\": 25.521428571428565, \"imdb_rating\": 8.357142857142858, \"count\": 14}, {\"directed_by\": \"Peter Bonerz\", \"us_views_millions\": 25.016666666666666, \"imdb_rating\": 8.325000000000001, \"count\": 12}, {\"directed_by\": \"David Schwimmer\", \"us_views_millions\": 24.435000000000002, \"imdb_rating\": 8.55, \"count\": 10}, {\"directed_by\": \"Ben Weiss\", \"us_views_millions\": 23.788, \"imdb_rating\": 8.3, \"count\": 10}, {\"directed_by\": \"Shelley Jensen\", \"us_views_millions\": 25.566666666666666, \"imdb_rating\": 8.433333333333332, \"count\": 6}, {\"directed_by\": \"Robby Benson\", \"us_views_millions\": 27.933333333333334, \"imdb_rating\": 8.183333333333334, \"count\": 6}]}}, {\"mode\": \"vega-lite\"});\n",
       "</script>"
      ],
      "text/plain": [
       "alt.Chart(...)"
      ]
     },
     "execution_count": 21,
     "metadata": {},
     "output_type": "execute_result"
    }
   ],
   "source": [
    "alt.Chart(directors_views_rating_v1.to_pandas()).mark_bar().encode(\n",
    "    alt.Y('directed_by',sort='-x'),\n",
    "    alt.X('count'),\n",
    "    alt.Color('us_views_millions')\n",
    ").properties(\n",
    "    \n",
    "    title='Top directors title counts and US million views'\n",
    ")"
   ]
  },
  {
   "cell_type": "code",
   "execution_count": 22,
   "metadata": {},
   "outputs": [],
   "source": [
    "# are the directors and writers same for a title ?\n",
    "amigos_info_dt[:,dt.update(temp=f.directed_by==f.written_by)]"
   ]
  },
  {
   "cell_type": "code",
   "execution_count": 23,
   "metadata": {},
   "outputs": [
    {
     "data": {
      "text/html": [
       "<div class='datatable'>\n",
       "  <table class='frame'>\n",
       "  <thead>\n",
       "    <tr class='colnames'><td class='row_index'></td><th>season</th><th>episode</th><th>title</th><th>directed_by</th><th>written_by</th><th>air_date</th><th>us_views_millions</th><th>imdb_rating</th><th>temp</th></tr>\n",
       "    <tr class='coltypes'><td class='row_index'></td><td class='integer' title='int32'>&#x25AA;&#x25AA;&#x25AA;&#x25AA;</td><td class='integer' title='int32'>&#x25AA;&#x25AA;&#x25AA;&#x25AA;</td><td class='string' title='str32'>&#x25AA;&#x25AA;&#x25AA;&#x25AA;</td><td class='string' title='str32'>&#x25AA;&#x25AA;&#x25AA;&#x25AA;</td><td class='string' title='str32'>&#x25AA;&#x25AA;&#x25AA;&#x25AA;</td><td class='string' title='str32'>&#x25AA;&#x25AA;&#x25AA;&#x25AA;</td><td class='float' title='float64'>&#x25AA;&#x25AA;&#x25AA;&#x25AA;&#x25AA;&#x25AA;&#x25AA;&#x25AA;</td><td class='float' title='float64'>&#x25AA;&#x25AA;&#x25AA;&#x25AA;&#x25AA;&#x25AA;&#x25AA;&#x25AA;</td><td class='boolean' title='bool8'>&#x25AA;</td></tr>\n",
       "  </thead>\n",
       "  <tbody>\n",
       "  </tbody>\n",
       "  </table>\n",
       "  <div class='footer'>\n",
       "    <div class='frame_dimensions'>0 rows &times; 9 columns</div>\n",
       "  </div>\n",
       "</div>\n"
      ],
      "text/plain": [
       "<Frame [0 rows x 9 cols]>"
      ]
     },
     "execution_count": 23,
     "metadata": {},
     "output_type": "execute_result"
    }
   ],
   "source": [
    "# are the directors and writers same for a title ?\n",
    "amigos_info_dt[f.temp==True,:]"
   ]
  },
  {
   "cell_type": "code",
   "execution_count": 24,
   "metadata": {},
   "outputs": [],
   "source": [
    "# remove the temp col\n",
    "del amigos_info_dt[\"temp\"]"
   ]
  },
  {
   "cell_type": "code",
   "execution_count": 25,
   "metadata": {},
   "outputs": [],
   "source": [
    "# split writers column\n",
    "writers_list = [ elemento.split('&') for elemento in amigos_info_dt[:,f.written_by].to_list()[0] ]"
   ]
  },
  {
   "cell_type": "code",
   "execution_count": 26,
   "metadata": {},
   "outputs": [],
   "source": [
    "# create a new DT with writers\n",
    "writers_dt = dt.Frame({'no_of_writers':[len(elem) for elem in writers_list]})"
   ]
  },
  {
   "cell_type": "code",
   "execution_count": 27,
   "metadata": {},
   "outputs": [],
   "source": [
    "# Joining two DTs\n",
    "amigos_info_dt_v1 = dt.cbind(amigos_info_dt,writers_dt)"
   ]
  },
  {
   "cell_type": "code",
   "execution_count": 28,
   "metadata": {},
   "outputs": [
    {
     "data": {
      "text/html": [
       "\n",
       "<div id=\"altair-viz-21d9a8ae8f614604b457e8d46a7f8288\"></div>\n",
       "<script type=\"text/javascript\">\n",
       "  (function(spec, embedOpt){\n",
       "    let outputDiv = document.currentScript.previousElementSibling;\n",
       "    if (outputDiv.id !== \"altair-viz-21d9a8ae8f614604b457e8d46a7f8288\") {\n",
       "      outputDiv = document.getElementById(\"altair-viz-21d9a8ae8f614604b457e8d46a7f8288\");\n",
       "    }\n",
       "    const paths = {\n",
       "      \"vega\": \"https://cdn.jsdelivr.net/npm//vega@5?noext\",\n",
       "      \"vega-lib\": \"https://cdn.jsdelivr.net/npm//vega-lib?noext\",\n",
       "      \"vega-lite\": \"https://cdn.jsdelivr.net/npm//vega-lite@4.8.1?noext\",\n",
       "      \"vega-embed\": \"https://cdn.jsdelivr.net/npm//vega-embed@6?noext\",\n",
       "    };\n",
       "\n",
       "    function loadScript(lib) {\n",
       "      return new Promise(function(resolve, reject) {\n",
       "        var s = document.createElement('script');\n",
       "        s.src = paths[lib];\n",
       "        s.async = true;\n",
       "        s.onload = () => resolve(paths[lib]);\n",
       "        s.onerror = () => reject(`Error loading script: ${paths[lib]}`);\n",
       "        document.getElementsByTagName(\"head\")[0].appendChild(s);\n",
       "      });\n",
       "    }\n",
       "\n",
       "    function showError(err) {\n",
       "      outputDiv.innerHTML = `<div class=\"error\" style=\"color:red;\">${err}</div>`;\n",
       "      throw err;\n",
       "    }\n",
       "\n",
       "    function displayChart(vegaEmbed) {\n",
       "      vegaEmbed(outputDiv, spec, embedOpt)\n",
       "        .catch(err => showError(`Javascript Error: ${err.message}<br>This usually means there's a typo in your chart specification. See the javascript console for the full traceback.`));\n",
       "    }\n",
       "\n",
       "    if(typeof define === \"function\" && define.amd) {\n",
       "      requirejs.config({paths});\n",
       "      require([\"vega-embed\"], displayChart, err => showError(`Error loading script: ${err.message}`));\n",
       "    } else if (typeof vegaEmbed === \"function\") {\n",
       "      displayChart(vegaEmbed);\n",
       "    } else {\n",
       "      loadScript(\"vega\")\n",
       "        .then(() => loadScript(\"vega-lite\"))\n",
       "        .then(() => loadScript(\"vega-embed\"))\n",
       "        .catch(showError)\n",
       "        .then(() => displayChart(vegaEmbed));\n",
       "    }\n",
       "  })({\"config\": {\"view\": {\"continuousWidth\": 400, \"continuousHeight\": 300}}, \"data\": {\"name\": \"data-eba9a01631bf4cbbafbc1d39a033d10a\"}, \"mark\": \"bar\", \"encoding\": {\"x\": {\"type\": \"quantitative\", \"field\": \"count\"}, \"y\": {\"type\": \"ordinal\", \"field\": \"no_of_writers\"}}, \"title\": \"Number of writers in titles\", \"$schema\": \"https://vega.github.io/schema/vega-lite/v4.8.1.json\", \"datasets\": {\"data-eba9a01631bf4cbbafbc1d39a033d10a\": [{\"no_of_writers\": 1, \"count\": 113}, {\"no_of_writers\": 2, \"count\": 104}, {\"no_of_writers\": 3, \"count\": 18}, {\"no_of_writers\": 4, \"count\": 1}]}}, {\"mode\": \"vega-lite\"});\n",
       "</script>"
      ],
      "text/plain": [
       "alt.Chart(...)"
      ]
     },
     "execution_count": 28,
     "metadata": {},
     "output_type": "execute_result"
    }
   ],
   "source": [
    "# No of writers \n",
    "alt.Chart(amigos_info_dt_v1[:,count(),by(f.no_of_writers)].to_pandas()).mark_bar().encode(\n",
    "\n",
    "    alt.X('count'),\n",
    "    alt.Y('no_of_writers:O')\n",
    ").properties(\n",
    "    \n",
    "    title='Number of writers in titles'\n",
    ")"
   ]
  },
  {
   "cell_type": "code",
   "execution_count": 29,
   "metadata": {},
   "outputs": [],
   "source": [
    "amigos_year = dt.Frame({'year':[re.findall(r'[\\d]{4}',fecha)[0] for fecha in amigos_info_dt_v1[:,f.air_date].to_list()[0] ]})"
   ]
  },
  {
   "cell_type": "code",
   "execution_count": 30,
   "metadata": {},
   "outputs": [
    {
     "data": {
      "text/html": [
       "\n",
       "<div id=\"altair-viz-cdd8a3027e0c41ef8045f390e3ed8728\"></div>\n",
       "<script type=\"text/javascript\">\n",
       "  (function(spec, embedOpt){\n",
       "    let outputDiv = document.currentScript.previousElementSibling;\n",
       "    if (outputDiv.id !== \"altair-viz-cdd8a3027e0c41ef8045f390e3ed8728\") {\n",
       "      outputDiv = document.getElementById(\"altair-viz-cdd8a3027e0c41ef8045f390e3ed8728\");\n",
       "    }\n",
       "    const paths = {\n",
       "      \"vega\": \"https://cdn.jsdelivr.net/npm//vega@5?noext\",\n",
       "      \"vega-lib\": \"https://cdn.jsdelivr.net/npm//vega-lib?noext\",\n",
       "      \"vega-lite\": \"https://cdn.jsdelivr.net/npm//vega-lite@4.8.1?noext\",\n",
       "      \"vega-embed\": \"https://cdn.jsdelivr.net/npm//vega-embed@6?noext\",\n",
       "    };\n",
       "\n",
       "    function loadScript(lib) {\n",
       "      return new Promise(function(resolve, reject) {\n",
       "        var s = document.createElement('script');\n",
       "        s.src = paths[lib];\n",
       "        s.async = true;\n",
       "        s.onload = () => resolve(paths[lib]);\n",
       "        s.onerror = () => reject(`Error loading script: ${paths[lib]}`);\n",
       "        document.getElementsByTagName(\"head\")[0].appendChild(s);\n",
       "      });\n",
       "    }\n",
       "\n",
       "    function showError(err) {\n",
       "      outputDiv.innerHTML = `<div class=\"error\" style=\"color:red;\">${err}</div>`;\n",
       "      throw err;\n",
       "    }\n",
       "\n",
       "    function displayChart(vegaEmbed) {\n",
       "      vegaEmbed(outputDiv, spec, embedOpt)\n",
       "        .catch(err => showError(`Javascript Error: ${err.message}<br>This usually means there's a typo in your chart specification. See the javascript console for the full traceback.`));\n",
       "    }\n",
       "\n",
       "    if(typeof define === \"function\" && define.amd) {\n",
       "      requirejs.config({paths});\n",
       "      require([\"vega-embed\"], displayChart, err => showError(`Error loading script: ${err.message}`));\n",
       "    } else if (typeof vegaEmbed === \"function\") {\n",
       "      displayChart(vegaEmbed);\n",
       "    } else {\n",
       "      loadScript(\"vega\")\n",
       "        .then(() => loadScript(\"vega-lite\"))\n",
       "        .then(() => loadScript(\"vega-embed\"))\n",
       "        .catch(showError)\n",
       "        .then(() => displayChart(vegaEmbed));\n",
       "    }\n",
       "  })({\"config\": {\"view\": {\"continuousWidth\": 400, \"continuousHeight\": 300}}, \"data\": {\"name\": \"data-115df91c67da845ceb6211e3288eaa6e\"}, \"mark\": \"line\", \"encoding\": {\"x\": {\"type\": \"nominal\", \"field\": \"year\"}, \"y\": {\"type\": \"quantitative\", \"field\": \"count\"}}, \"$schema\": \"https://vega.github.io/schema/vega-lite/v4.8.1.json\", \"datasets\": {\"data-115df91c67da845ceb6211e3288eaa6e\": [{\"year\": \"1994\", \"count\": 10}, {\"year\": \"1995\", \"count\": 23}, {\"year\": \"1996\", \"count\": 25}, {\"year\": \"1997\", \"count\": 25}, {\"year\": \"1998\", \"count\": 24}, {\"year\": \"1999\", \"count\": 24}, {\"year\": \"2000\", \"count\": 25}, {\"year\": \"2001\", \"count\": 25}, {\"year\": \"2002\", \"count\": 23}, {\"year\": \"2003\", \"count\": 22}, {\"year\": \"2004\", \"count\": 10}]}}, {\"mode\": \"vega-lite\"});\n",
       "</script>"
      ],
      "text/plain": [
       "alt.Chart(...)"
      ]
     },
     "execution_count": 30,
     "metadata": {},
     "output_type": "execute_result"
    }
   ],
   "source": [
    "alt.Chart(amigos_year[:,count(),by(f.year)].to_pandas()).mark_line().encode(alt.X('year'),alt.Y('count'))"
   ]
  },
  {
   "cell_type": "code",
   "execution_count": 31,
   "metadata": {},
   "outputs": [
    {
     "data": {
      "text/html": [
       "<div class='datatable'>\n",
       "  <table class='frame'>\n",
       "  <thead>\n",
       "    <tr class='colnames'><td class='row_index'></td><th>text</th><th>speaker</th><th>season</th><th>episode</th><th>scene</th><th>utterance</th></tr>\n",
       "    <tr class='coltypes'><td class='row_index'></td><td class='string' title='str32'>&#x25AA;&#x25AA;&#x25AA;&#x25AA;</td><td class='string' title='str32'>&#x25AA;&#x25AA;&#x25AA;&#x25AA;</td><td class='integer' title='int32'>&#x25AA;&#x25AA;&#x25AA;&#x25AA;</td><td class='integer' title='int32'>&#x25AA;&#x25AA;&#x25AA;&#x25AA;</td><td class='integer' title='int32'>&#x25AA;&#x25AA;&#x25AA;&#x25AA;</td><td class='integer' title='int32'>&#x25AA;&#x25AA;&#x25AA;&#x25AA;</td></tr>\n",
       "  </thead>\n",
       "  <tbody>\n",
       "    <tr><td class='row_index'>0</td><td>There's nothing to tell! He's just some guy I work&#133;</td><td>Monica Geller</td><td>1</td><td>1</td><td>1</td><td>1</td></tr>\n",
       "    <tr><td class='row_index'>1</td><td>C'mon, you're going out with the guy! There's gott&#133;</td><td>Joey Tribbiani</td><td>1</td><td>1</td><td>1</td><td>2</td></tr>\n",
       "    <tr><td class='row_index'>2</td><td>All right Joey, be nice. So does he have a hump? A&#133;</td><td>Chandler Bing</td><td>1</td><td>1</td><td>1</td><td>3</td></tr>\n",
       "    <tr><td class='row_index'>3</td><td>Wait, does he eat chalk?</td><td>Phoebe Buffay</td><td>1</td><td>1</td><td>1</td><td>4</td></tr>\n",
       "    <tr><td class='row_index'>&#x22EE;</td><td class='hellipsis'>&#x22EE;</td><td class='hellipsis'>&#x22EE;</td><td class='hellipsis'>&#x22EE;</td><td class='hellipsis'>&#x22EE;</td><td class='hellipsis'>&#x22EE;</td><td class='hellipsis'>&#x22EE;</td></tr>\n",
       "    <tr><td class='row_index'>67,369</td><td>Do you guys have to go to the new house right away&#133;</td><td>Rachel Green</td><td>10</td><td>18</td><td>11</td><td>18</td></tr>\n",
       "    <tr><td class='row_index'>67,370</td><td>We got some time.</td><td>Monica Geller</td><td>10</td><td>18</td><td>11</td><td>19</td></tr>\n",
       "    <tr><td class='row_index'>67,371</td><td>Okay, should we get some coffee?</td><td>Rachel Green</td><td>10</td><td>18</td><td>11</td><td>20</td></tr>\n",
       "    <tr><td class='row_index'>67,372</td><td>Sure. Where?</td><td>Chandler Bing</td><td>10</td><td>18</td><td>11</td><td>21</td></tr>\n",
       "  </tbody>\n",
       "  </table>\n",
       "  <div class='footer'>\n",
       "    <div class='frame_dimensions'>67,373 rows &times; 6 columns</div>\n",
       "  </div>\n",
       "</div>\n"
      ],
      "text/plain": [
       "<Frame [67373 rows x 6 cols]>"
      ]
     },
     "execution_count": 31,
     "metadata": {},
     "output_type": "execute_result"
    }
   ],
   "source": [
    "amigos_dt"
   ]
  },
  {
   "cell_type": "code",
   "execution_count": 32,
   "metadata": {},
   "outputs": [],
   "source": [
    "amigos_info_df = amigos_info_dt.to_pandas()"
   ]
  },
  {
   "cell_type": "code",
   "execution_count": 33,
   "metadata": {},
   "outputs": [],
   "source": [
    "amigos_df = amigos_dt.to_pandas()"
   ]
  },
  {
   "cell_type": "code",
   "execution_count": 34,
   "metadata": {},
   "outputs": [],
   "source": [
    "amigos_todo_dt = dt.Frame( amigos_info_df.join(amigos_df.set_index(['season','episode']),\n",
    "                                               on=['season','episode']) \n",
    "                         )"
   ]
  },
  {
   "cell_type": "code",
   "execution_count": 44,
   "metadata": {},
   "outputs": [
    {
     "data": {
      "text/html": [
       "<div class='datatable'>\n",
       "  <table class='frame'>\n",
       "  <thead>\n",
       "    <tr class='colnames'><td class='row_index'></td><th>season</th><th>episode</th><th>title</th><th>directed_by</th><th>written_by</th><th>air_date</th><th>us_views_millions</th><th>imdb_rating</th><th>text</th><th>speaker</th><th>scene</th><th>utterance</th></tr>\n",
       "    <tr class='coltypes'><td class='row_index'></td><td class='integer' title='int32'>&#x25AA;&#x25AA;&#x25AA;&#x25AA;</td><td class='integer' title='int32'>&#x25AA;&#x25AA;&#x25AA;&#x25AA;</td><td class='string' title='str32'>&#x25AA;&#x25AA;&#x25AA;&#x25AA;</td><td class='string' title='str32'>&#x25AA;&#x25AA;&#x25AA;&#x25AA;</td><td class='string' title='str32'>&#x25AA;&#x25AA;&#x25AA;&#x25AA;</td><td class='string' title='str32'>&#x25AA;&#x25AA;&#x25AA;&#x25AA;</td><td class='float' title='float64'>&#x25AA;&#x25AA;&#x25AA;&#x25AA;&#x25AA;&#x25AA;&#x25AA;&#x25AA;</td><td class='float' title='float64'>&#x25AA;&#x25AA;&#x25AA;&#x25AA;&#x25AA;&#x25AA;&#x25AA;&#x25AA;</td><td class='string' title='str32'>&#x25AA;&#x25AA;&#x25AA;&#x25AA;</td><td class='string' title='str32'>&#x25AA;&#x25AA;&#x25AA;&#x25AA;</td><td class='integer' title='int32'>&#x25AA;&#x25AA;&#x25AA;&#x25AA;</td><td class='integer' title='int32'>&#x25AA;&#x25AA;&#x25AA;&#x25AA;</td></tr>\n",
       "  </thead>\n",
       "  <tbody>\n",
       "    <tr><td class='row_index'>0</td><td>1</td><td>1</td><td>The Pilot</td><td>James Burrows</td><td>David Crane &amp; Marta Kauffman</td><td>1994-09-22</td><td>21.5</td><td>8.3</td><td>There's nothing to tell! He's just some guy I work&#133;</td><td>Monica Geller</td><td>1</td><td>1</td></tr>\n",
       "    <tr><td class='row_index'>1</td><td>1</td><td>1</td><td>The Pilot</td><td>James Burrows</td><td>David Crane &amp; Marta Kauffman</td><td>1994-09-22</td><td>21.5</td><td>8.3</td><td>C'mon, you're going out with the guy! There's gott&#133;</td><td>Joey Tribbiani</td><td>1</td><td>2</td></tr>\n",
       "    <tr><td class='row_index'>2</td><td>1</td><td>1</td><td>The Pilot</td><td>James Burrows</td><td>David Crane &amp; Marta Kauffman</td><td>1994-09-22</td><td>21.5</td><td>8.3</td><td>All right Joey, be nice. So does he have a hump? A&#133;</td><td>Chandler Bing</td><td>1</td><td>3</td></tr>\n",
       "    <tr><td class='row_index'>3</td><td>1</td><td>1</td><td>The Pilot</td><td>James Burrows</td><td>David Crane &amp; Marta Kauffman</td><td>1994-09-22</td><td>21.5</td><td>8.3</td><td>Wait, does he eat chalk?</td><td>Phoebe Buffay</td><td>1</td><td>4</td></tr>\n",
       "    <tr><td class='row_index'>&#x22EE;</td><td class='hellipsis'>&#x22EE;</td><td class='hellipsis'>&#x22EE;</td><td class='hellipsis'>&#x22EE;</td><td class='hellipsis'>&#x22EE;</td><td class='hellipsis'>&#x22EE;</td><td class='hellipsis'>&#x22EE;</td><td class='hellipsis'>&#x22EE;</td><td class='hellipsis'>&#x22EE;</td><td class='hellipsis'>&#x22EE;</td><td class='hellipsis'>&#x22EE;</td><td class='hellipsis'>&#x22EE;</td><td class='hellipsis'>&#x22EE;</td></tr>\n",
       "    <tr><td class='row_index'>67,369</td><td>10</td><td>18</td><td>The Last One</td><td>Kevin S. Bright</td><td>Marta Kauffman &amp; David Crane</td><td>2004-05-06</td><td>52.46</td><td>9.7</td><td>Do you guys have to go to the new house right away&#133;</td><td>Rachel Green</td><td>11</td><td>18</td></tr>\n",
       "    <tr><td class='row_index'>67,370</td><td>10</td><td>18</td><td>The Last One</td><td>Kevin S. Bright</td><td>Marta Kauffman &amp; David Crane</td><td>2004-05-06</td><td>52.46</td><td>9.7</td><td>We got some time.</td><td>Monica Geller</td><td>11</td><td>19</td></tr>\n",
       "    <tr><td class='row_index'>67,371</td><td>10</td><td>18</td><td>The Last One</td><td>Kevin S. Bright</td><td>Marta Kauffman &amp; David Crane</td><td>2004-05-06</td><td>52.46</td><td>9.7</td><td>Okay, should we get some coffee?</td><td>Rachel Green</td><td>11</td><td>20</td></tr>\n",
       "    <tr><td class='row_index'>67,372</td><td>10</td><td>18</td><td>The Last One</td><td>Kevin S. Bright</td><td>Marta Kauffman &amp; David Crane</td><td>2004-05-06</td><td>52.46</td><td>9.7</td><td>Sure. Where?</td><td>Chandler Bing</td><td>11</td><td>21</td></tr>\n",
       "  </tbody>\n",
       "  </table>\n",
       "  <div class='footer'>\n",
       "    <div class='frame_dimensions'>67,373 rows &times; 12 columns</div>\n",
       "  </div>\n",
       "</div>\n"
      ],
      "text/plain": [
       "<Frame [67373 rows x 12 cols]>"
      ]
     },
     "execution_count": 44,
     "metadata": {},
     "output_type": "execute_result"
    }
   ],
   "source": [
    "amigos_todo_dt"
   ]
  },
  {
   "cell_type": "code",
   "execution_count": 50,
   "metadata": {},
   "outputs": [
    {
     "data": {
      "text/html": [
       "<div class='datatable'>\n",
       "  <table class='frame'>\n",
       "  <thead>\n",
       "    <tr class='colnames'><td class='row_index'></td><th>season</th><th>episode</th><th>title</th><th>directed_by</th><th>written_by</th><th>air_date</th><th>us_views_millions</th><th>imdb_rating</th><th>text</th><th>speaker</th><th>scene</th><th>utterance</th></tr>\n",
       "    <tr class='coltypes'><td class='row_index'></td><td class='integer' title='int32'>&#x25AA;&#x25AA;&#x25AA;&#x25AA;</td><td class='integer' title='int32'>&#x25AA;&#x25AA;&#x25AA;&#x25AA;</td><td class='string' title='str32'>&#x25AA;&#x25AA;&#x25AA;&#x25AA;</td><td class='string' title='str32'>&#x25AA;&#x25AA;&#x25AA;&#x25AA;</td><td class='string' title='str32'>&#x25AA;&#x25AA;&#x25AA;&#x25AA;</td><td class='string' title='str32'>&#x25AA;&#x25AA;&#x25AA;&#x25AA;</td><td class='float' title='float64'>&#x25AA;&#x25AA;&#x25AA;&#x25AA;&#x25AA;&#x25AA;&#x25AA;&#x25AA;</td><td class='float' title='float64'>&#x25AA;&#x25AA;&#x25AA;&#x25AA;&#x25AA;&#x25AA;&#x25AA;&#x25AA;</td><td class='string' title='str32'>&#x25AA;&#x25AA;&#x25AA;&#x25AA;</td><td class='string' title='str32'>&#x25AA;&#x25AA;&#x25AA;&#x25AA;</td><td class='integer' title='int32'>&#x25AA;&#x25AA;&#x25AA;&#x25AA;</td><td class='integer' title='int32'>&#x25AA;&#x25AA;&#x25AA;&#x25AA;</td></tr>\n",
       "  </thead>\n",
       "  <tbody>\n",
       "    <tr><td class='row_index'>0</td><td>1</td><td>1</td><td>The Pilot</td><td>James Burrows</td><td>David Crane &amp; Marta Kauffman</td><td>1994-09-22</td><td>21.5</td><td>8.3</td><td>There's nothing to tell! He's just some guy I work&#133;</td><td>Monica Geller</td><td>1</td><td>1</td></tr>\n",
       "    <tr><td class='row_index'>1</td><td>1</td><td>1</td><td>The Pilot</td><td>James Burrows</td><td>David Crane &amp; Marta Kauffman</td><td>1994-09-22</td><td>21.5</td><td>8.3</td><td>C'mon, you're going out with the guy! There's gott&#133;</td><td>Joey Tribbiani</td><td>1</td><td>2</td></tr>\n",
       "    <tr><td class='row_index'>2</td><td>1</td><td>1</td><td>The Pilot</td><td>James Burrows</td><td>David Crane &amp; Marta Kauffman</td><td>1994-09-22</td><td>21.5</td><td>8.3</td><td>All right Joey, be nice. So does he have a hump? A&#133;</td><td>Chandler Bing</td><td>1</td><td>3</td></tr>\n",
       "    <tr><td class='row_index'>3</td><td>1</td><td>1</td><td>The Pilot</td><td>James Burrows</td><td>David Crane &amp; Marta Kauffman</td><td>1994-09-22</td><td>21.5</td><td>8.3</td><td>Wait, does he eat chalk?</td><td>Phoebe Buffay</td><td>1</td><td>4</td></tr>\n",
       "    <tr><td class='row_index'>&#x22EE;</td><td class='hellipsis'>&#x22EE;</td><td class='hellipsis'>&#x22EE;</td><td class='hellipsis'>&#x22EE;</td><td class='hellipsis'>&#x22EE;</td><td class='hellipsis'>&#x22EE;</td><td class='hellipsis'>&#x22EE;</td><td class='hellipsis'>&#x22EE;</td><td class='hellipsis'>&#x22EE;</td><td class='hellipsis'>&#x22EE;</td><td class='hellipsis'>&#x22EE;</td><td class='hellipsis'>&#x22EE;</td><td class='hellipsis'>&#x22EE;</td></tr>\n",
       "    <tr><td class='row_index'>67,093</td><td>10</td><td>18</td><td>The Last One</td><td>Kevin S. Bright</td><td>Marta Kauffman &amp; David Crane</td><td>2004-05-06</td><td>52.46</td><td>9.7</td><td>Do you guys have to go to the new house right away&#133;</td><td>Rachel Green</td><td>11</td><td>18</td></tr>\n",
       "    <tr><td class='row_index'>67,094</td><td>10</td><td>18</td><td>The Last One</td><td>Kevin S. Bright</td><td>Marta Kauffman &amp; David Crane</td><td>2004-05-06</td><td>52.46</td><td>9.7</td><td>We got some time.</td><td>Monica Geller</td><td>11</td><td>19</td></tr>\n",
       "    <tr><td class='row_index'>67,095</td><td>10</td><td>18</td><td>The Last One</td><td>Kevin S. Bright</td><td>Marta Kauffman &amp; David Crane</td><td>2004-05-06</td><td>52.46</td><td>9.7</td><td>Okay, should we get some coffee?</td><td>Rachel Green</td><td>11</td><td>20</td></tr>\n",
       "    <tr><td class='row_index'>67,096</td><td>10</td><td>18</td><td>The Last One</td><td>Kevin S. Bright</td><td>Marta Kauffman &amp; David Crane</td><td>2004-05-06</td><td>52.46</td><td>9.7</td><td>Sure. Where?</td><td>Chandler Bing</td><td>11</td><td>21</td></tr>\n",
       "  </tbody>\n",
       "  </table>\n",
       "  <div class='footer'>\n",
       "    <div class='frame_dimensions'>67,097 rows &times; 12 columns</div>\n",
       "  </div>\n",
       "</div>\n"
      ],
      "text/plain": [
       "<Frame [67097 rows x 12 cols]>"
      ]
     },
     "execution_count": 50,
     "metadata": {},
     "output_type": "execute_result"
    }
   ],
   "source": [
    "amigos_todo_dt[~dt.isna(f.speaker),:]"
   ]
  },
  {
   "cell_type": "code",
   "execution_count": null,
   "metadata": {},
   "outputs": [],
   "source": []
  }
 ],
 "metadata": {
  "kernelspec": {
   "display_name": "Python 3",
   "language": "python",
   "name": "python3"
  },
  "language_info": {
   "codemirror_mode": {
    "name": "ipython",
    "version": 3
   },
   "file_extension": ".py",
   "mimetype": "text/x-python",
   "name": "python",
   "nbconvert_exporter": "python",
   "pygments_lexer": "ipython3",
   "version": "3.8.3"
  }
 },
 "nbformat": 4,
 "nbformat_minor": 4
}
