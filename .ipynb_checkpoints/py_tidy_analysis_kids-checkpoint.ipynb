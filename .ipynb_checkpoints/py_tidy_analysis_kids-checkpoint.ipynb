{
 "cells": [
  {
   "cell_type": "markdown",
   "metadata": {},
   "source": [
    "# Py: Tidy analysis on US spends on Kids"
   ]
  },
  {
   "cell_type": "code",
   "execution_count": 1,
   "metadata": {},
   "outputs": [
    {
     "data": {
      "text/html": [
       "<style type='text/css'>\n",
       ".datatable table.frame { margin-bottom: 0; }\n",
       ".datatable table.frame thead { border-bottom: none; }\n",
       ".datatable table.frame tr.coltypes td {  color: #FFFFFF;  line-height: 6px;  padding: 0 0.5em;}\n",
       ".datatable .boolean { background: #DDDD99; }\n",
       ".datatable .object  { background: #565656; }\n",
       ".datatable .integer { background: #5D9E5D; }\n",
       ".datatable .float   { background: #4040CC; }\n",
       ".datatable .string  { background: #CC4040; }\n",
       ".datatable .row_index {  background: var(--jp-border-color3);  border-right: 1px solid var(--jp-border-color0);  color: var(--jp-ui-font-color3);  font-size: 9px;}\n",
       ".datatable .frame tr.coltypes .row_index {  background: var(--jp-border-color0);}\n",
       ".datatable th:nth-child(2) { padding-left: 12px; }\n",
       ".datatable .hellipsis {  color: var(--jp-cell-editor-border-color);}\n",
       ".datatable .vellipsis {  background: var(--jp-layout-color0);  color: var(--jp-cell-editor-border-color);}\n",
       ".datatable .na {  color: var(--jp-cell-editor-border-color);  font-size: 80%;}\n",
       ".datatable .footer { font-size: 9px; }\n",
       ".datatable .frame_dimensions {  background: var(--jp-border-color3);  border-top: 1px solid var(--jp-border-color0);  color: var(--jp-ui-font-color3);  display: inline-block;  opacity: 0.6;  padding: 1px 10px 1px 5px;}\n",
       "</style>\n"
      ],
      "text/plain": [
       "<IPython.core.display.HTML object>"
      ]
     },
     "metadata": {},
     "output_type": "display_data"
    }
   ],
   "source": [
    "import datatable as dt\n",
    "from datatable import f,by,count,update,sort\n",
    "import altair as alt\n",
    "import functools\n",
    "import operator"
   ]
  },
  {
   "cell_type": "code",
   "execution_count": 2,
   "metadata": {},
   "outputs": [
    {
     "data": {
      "text/html": [
       "<style type='text/css'>\n",
       ".datatable table.frame { margin-bottom: 0; }\n",
       ".datatable table.frame thead { border-bottom: none; }\n",
       ".datatable table.frame tr.coltypes td {  color: #FFFFFF;  line-height: 6px;  padding: 0 0.5em;}\n",
       ".datatable .boolean { background: #DDDD99; }\n",
       ".datatable .object  { background: #565656; }\n",
       ".datatable .integer { background: #5D9E5D; }\n",
       ".datatable .float   { background: #4040CC; }\n",
       ".datatable .string  { background: #CC4040; }\n",
       ".datatable .row_index {  background: var(--jp-border-color3);  border-right: 1px solid var(--jp-border-color0);  color: var(--jp-ui-font-color3);  font-size: 9px;}\n",
       ".datatable .frame tr.coltypes .row_index {  background: var(--jp-border-color0);}\n",
       ".datatable th:nth-child(2) { padding-left: 12px; }\n",
       ".datatable .hellipsis {  color: var(--jp-cell-editor-border-color);}\n",
       ".datatable .vellipsis {  background: var(--jp-layout-color0);  color: var(--jp-cell-editor-border-color);}\n",
       ".datatable .na {  color: var(--jp-cell-editor-border-color);  font-size: 80%;}\n",
       ".datatable .footer { font-size: 9px; }\n",
       ".datatable .frame_dimensions {  background: var(--jp-border-color3);  border-top: 1px solid var(--jp-border-color0);  color: var(--jp-ui-font-color3);  display: inline-block;  opacity: 0.6;  padding: 1px 10px 1px 5px;}\n",
       "</style>\n"
      ],
      "text/plain": [
       "<IPython.core.display.HTML object>"
      ]
     },
     "metadata": {},
     "output_type": "display_data"
    }
   ],
   "source": [
    "dt.init_styles()\n",
    "dt.options.display.head_nrows=4\n",
    "dt.options.display.tail_nrows=4"
   ]
  },
  {
   "cell_type": "code",
   "execution_count": 3,
   "metadata": {},
   "outputs": [],
   "source": [
    "us_ninos= dt.fread('https://raw.githubusercontent.com/rfordatascience/tidytuesday/master/data/2020/2020-09-15/kids.csv')"
   ]
  },
  {
   "cell_type": "code",
   "execution_count": 4,
   "metadata": {},
   "outputs": [
    {
     "data": {
      "text/html": [
       "<div class='datatable'>\n",
       "  <table class='frame'>\n",
       "  <thead>\n",
       "    <tr class='colnames'><td class='row_index'></td><th>state</th><th>variable</th><th>year</th><th>raw</th><th>inf_adj</th><th>inf_adj_perchild</th></tr>\n",
       "    <tr class='coltypes'><td class='row_index'></td><td class='string' title='str32'>&#x25AA;&#x25AA;&#x25AA;&#x25AA;</td><td class='string' title='str32'>&#x25AA;&#x25AA;&#x25AA;&#x25AA;</td><td class='integer' title='int32'>&#x25AA;&#x25AA;&#x25AA;&#x25AA;</td><td class='float' title='float64'>&#x25AA;&#x25AA;&#x25AA;&#x25AA;&#x25AA;&#x25AA;&#x25AA;&#x25AA;</td><td class='float' title='float64'>&#x25AA;&#x25AA;&#x25AA;&#x25AA;&#x25AA;&#x25AA;&#x25AA;&#x25AA;</td><td class='float' title='float64'>&#x25AA;&#x25AA;&#x25AA;&#x25AA;&#x25AA;&#x25AA;&#x25AA;&#x25AA;</td></tr>\n",
       "  </thead>\n",
       "  <tbody>\n",
       "    <tr><td class='row_index'>0</td><td>Alabama</td><td>PK12ed</td><td>1997</td><td>3.27197e+06</td><td>4.66531e+06</td><td>3.92945</td></tr>\n",
       "    <tr><td class='row_index'>1</td><td>Alaska</td><td>PK12ed</td><td>1997</td><td>1.04231e+06</td><td>1.48617e+06</td><td>7.54849</td></tr>\n",
       "    <tr><td class='row_index'>2</td><td>Arizona</td><td>PK12ed</td><td>1997</td><td>3.38816e+06</td><td>4.83099e+06</td><td>3.70668</td></tr>\n",
       "    <tr><td class='row_index'>3</td><td>Arkansas</td><td>PK12ed</td><td>1997</td><td>1.96061e+06</td><td>2.79552e+06</td><td>3.89127</td></tr>\n",
       "    <tr><td class='row_index'>&#x22EE;</td><td class='hellipsis'>&#x22EE;</td><td class='hellipsis'>&#x22EE;</td><td class='hellipsis'>&#x22EE;</td><td class='hellipsis'>&#x22EE;</td><td class='hellipsis'>&#x22EE;</td><td class='hellipsis'>&#x22EE;</td></tr>\n",
       "    <tr><td class='row_index'>23,456</td><td>Washington</td><td>parkrec</td><td>2016</td><td>846154</td><td>846154</td><td>0.493163</td></tr>\n",
       "    <tr><td class='row_index'>23,457</td><td>West Virginia</td><td>parkrec</td><td>2016</td><td>164849</td><td>164849</td><td>0.416142</td></tr>\n",
       "    <tr><td class='row_index'>23,458</td><td>Wisconsin</td><td>parkrec</td><td>2016</td><td>533003</td><td>533003</td><td>0.391037</td></tr>\n",
       "    <tr><td class='row_index'>23,459</td><td>Wyoming</td><td>parkrec</td><td>2016</td><td>109375</td><td>109375</td><td>0.750743</td></tr>\n",
       "  </tbody>\n",
       "  </table>\n",
       "  <div class='footer'>\n",
       "    <div class='frame_dimensions'>23,460 rows &times; 6 columns</div>\n",
       "  </div>\n",
       "</div>\n"
      ],
      "text/plain": [
       "<Frame [23460 rows x 6 cols]>"
      ]
     },
     "execution_count": 4,
     "metadata": {},
     "output_type": "execute_result"
    }
   ],
   "source": [
    "us_ninos"
   ]
  },
  {
   "cell_type": "code",
   "execution_count": 5,
   "metadata": {},
   "outputs": [],
   "source": [
    "us_ninos_inflation_tot_dt = us_ninos[:,dt.sum(f[4:]),by(f.variable)\n",
    "                                    ][:,:,dt.sort(-f[1])\n",
    "                                     ]"
   ]
  },
  {
   "cell_type": "code",
   "execution_count": 6,
   "metadata": {},
   "outputs": [
    {
     "data": {
      "text/html": [
       "\n",
       "<div id=\"altair-viz-5bff551a74764e0f85fd5160dc0918bc\"></div>\n",
       "<script type=\"text/javascript\">\n",
       "  (function(spec, embedOpt){\n",
       "    let outputDiv = document.currentScript.previousElementSibling;\n",
       "    if (outputDiv.id !== \"altair-viz-5bff551a74764e0f85fd5160dc0918bc\") {\n",
       "      outputDiv = document.getElementById(\"altair-viz-5bff551a74764e0f85fd5160dc0918bc\");\n",
       "    }\n",
       "    const paths = {\n",
       "      \"vega\": \"https://cdn.jsdelivr.net/npm//vega@5?noext\",\n",
       "      \"vega-lib\": \"https://cdn.jsdelivr.net/npm//vega-lib?noext\",\n",
       "      \"vega-lite\": \"https://cdn.jsdelivr.net/npm//vega-lite@4.8.1?noext\",\n",
       "      \"vega-embed\": \"https://cdn.jsdelivr.net/npm//vega-embed@6?noext\",\n",
       "    };\n",
       "\n",
       "    function loadScript(lib) {\n",
       "      return new Promise(function(resolve, reject) {\n",
       "        var s = document.createElement('script');\n",
       "        s.src = paths[lib];\n",
       "        s.async = true;\n",
       "        s.onload = () => resolve(paths[lib]);\n",
       "        s.onerror = () => reject(`Error loading script: ${paths[lib]}`);\n",
       "        document.getElementsByTagName(\"head\")[0].appendChild(s);\n",
       "      });\n",
       "    }\n",
       "\n",
       "    function showError(err) {\n",
       "      outputDiv.innerHTML = `<div class=\"error\" style=\"color:red;\">${err}</div>`;\n",
       "      throw err;\n",
       "    }\n",
       "\n",
       "    function displayChart(vegaEmbed) {\n",
       "      vegaEmbed(outputDiv, spec, embedOpt)\n",
       "        .catch(err => showError(`Javascript Error: ${err.message}<br>This usually means there's a typo in your chart specification. See the javascript console for the full traceback.`));\n",
       "    }\n",
       "\n",
       "    if(typeof define === \"function\" && define.amd) {\n",
       "      requirejs.config({paths});\n",
       "      require([\"vega-embed\"], displayChart, err => showError(`Error loading script: ${err.message}`));\n",
       "    } else if (typeof vegaEmbed === \"function\") {\n",
       "      displayChart(vegaEmbed);\n",
       "    } else {\n",
       "      loadScript(\"vega\")\n",
       "        .then(() => loadScript(\"vega-lite\"))\n",
       "        .then(() => loadScript(\"vega-embed\"))\n",
       "        .catch(showError)\n",
       "        .then(() => displayChart(vegaEmbed));\n",
       "    }\n",
       "  })({\"config\": {\"view\": {\"continuousWidth\": 400, \"continuousHeight\": 300}}, \"data\": {\"name\": \"data-d3731330787d26c625abee18d22d0f93\"}, \"mark\": \"bar\", \"encoding\": {\"x\": {\"type\": \"quantitative\", \"field\": \"inf_adj\"}, \"y\": {\"type\": \"nominal\", \"field\": \"variable\", \"sort\": \"-x\"}}, \"title\": \"Total Inflation per each category\", \"$schema\": \"https://vega.github.io/schema/vega-lite/v4.8.1.json\", \"datasets\": {\"data-d3731330787d26c625abee18d22d0f93\": [{\"variable\": \"PK12ed\", \"inf_adj\": 9809396655.1875, \"inf_adj_perchild\": 6596.284218788147}, {\"variable\": \"other_health\", \"inf_adj\": 6749282750.1875, \"inf_adj_perchild\": 4580.336372852325}, {\"variable\": \"highered\", \"inf_adj\": 2168838701.84375, \"inf_adj_perchild\": 1433.282522648573}, {\"variable\": \"Medicaid_CHIP\", \"inf_adj\": 2067285459.671875, \"inf_adj_perchild\": 1413.3299764692783}, {\"variable\": \"othercashserv\", \"inf_adj\": 1941786610.421875, \"inf_adj_perchild\": 1336.556784182787}, {\"variable\": \"pubhealth\", \"inf_adj\": 1599913289.0976562, \"inf_adj_perchild\": 1060.528158813715}, {\"variable\": \"fedEITC\", \"inf_adj\": 1127157597.7695312, \"inf_adj_perchild\": 705.524545520544}, {\"variable\": \"unemp\", \"inf_adj\": 1108421837.9023438, \"inf_adj_perchild\": 710.0538564696908}, {\"variable\": \"HCD\", \"inf_adj\": 789296099.3007812, \"inf_adj_perchild\": 559.6873182877898}, {\"variable\": \"parkrec\", \"inf_adj\": 578958673.3417969, \"inf_adj_perchild\": 397.94792751967907}, {\"variable\": \"CTC\", \"inf_adj\": 575089289.3066406, \"inf_adj_perchild\": 394.5869848281145}, {\"variable\": \"edsubs\", \"inf_adj\": 458973980.60302734, \"inf_adj_perchild\": 294.06501389853656}, {\"variable\": \"SNAP\", \"inf_adj\": 426967059.2236328, \"inf_adj_perchild\": 274.9258075430989}, {\"variable\": \"pell\", \"inf_adj\": 413965112.609375, \"inf_adj_perchild\": 260.6434485986829}, {\"variable\": \"socsec\", \"inf_adj\": 400433156.68359375, \"inf_adj_perchild\": 275.695166811347}, {\"variable\": \"edservs\", \"inf_adj\": 309401391.9707031, \"inf_adj_perchild\": 253.85616876604035}, {\"variable\": \"TANFbasic\", \"inf_adj\": 250956803.26611328, \"inf_adj_perchild\": 144.5944406017661}, {\"variable\": \"wcomp\", \"inf_adj\": 250510164.36749268, \"inf_adj_perchild\": 182.06936238072376}, {\"variable\": \"addCC\", \"inf_adj\": 227325771.93164062, \"inf_adj_perchild\": 137.6532343029976}, {\"variable\": \"lib\", \"inf_adj\": 198415412.07421875, \"inf_adj_perchild\": 134.59969916567206}, {\"variable\": \"fedSSI\", \"inf_adj\": 158976487.46923828, \"inf_adj_perchild\": 102.9743727594614}, {\"variable\": \"HeadStartPriv\", \"inf_adj\": 106519433.1538086, \"inf_adj_perchild\": 75.51650669798255}, {\"variable\": \"stateEITC\", \"inf_adj\": 48610546.24194336, \"inf_adj_perchild\": 35.64983012294397}]}}, {\"mode\": \"vega-lite\"});\n",
       "</script>"
      ],
      "text/plain": [
       "alt.Chart(...)"
      ]
     },
     "execution_count": 6,
     "metadata": {},
     "output_type": "execute_result"
    }
   ],
   "source": [
    "alt.Chart(us_ninos_inflation_tot_dt.to_pandas()).mark_bar().encode(\n",
    "    alt.Y('variable',sort='-x'),\n",
    "    alt.X('inf_adj')\n",
    ").properties(\n",
    "\n",
    "    title='Total Inflation per each category'\n",
    ")"
   ]
  },
  {
   "cell_type": "code",
   "execution_count": 7,
   "metadata": {},
   "outputs": [
    {
     "data": {
      "text/html": [
       "\n",
       "<div id=\"altair-viz-7d117f42d64b4d22ae41234f8376dfa2\"></div>\n",
       "<script type=\"text/javascript\">\n",
       "  (function(spec, embedOpt){\n",
       "    let outputDiv = document.currentScript.previousElementSibling;\n",
       "    if (outputDiv.id !== \"altair-viz-7d117f42d64b4d22ae41234f8376dfa2\") {\n",
       "      outputDiv = document.getElementById(\"altair-viz-7d117f42d64b4d22ae41234f8376dfa2\");\n",
       "    }\n",
       "    const paths = {\n",
       "      \"vega\": \"https://cdn.jsdelivr.net/npm//vega@5?noext\",\n",
       "      \"vega-lib\": \"https://cdn.jsdelivr.net/npm//vega-lib?noext\",\n",
       "      \"vega-lite\": \"https://cdn.jsdelivr.net/npm//vega-lite@4.8.1?noext\",\n",
       "      \"vega-embed\": \"https://cdn.jsdelivr.net/npm//vega-embed@6?noext\",\n",
       "    };\n",
       "\n",
       "    function loadScript(lib) {\n",
       "      return new Promise(function(resolve, reject) {\n",
       "        var s = document.createElement('script');\n",
       "        s.src = paths[lib];\n",
       "        s.async = true;\n",
       "        s.onload = () => resolve(paths[lib]);\n",
       "        s.onerror = () => reject(`Error loading script: ${paths[lib]}`);\n",
       "        document.getElementsByTagName(\"head\")[0].appendChild(s);\n",
       "      });\n",
       "    }\n",
       "\n",
       "    function showError(err) {\n",
       "      outputDiv.innerHTML = `<div class=\"error\" style=\"color:red;\">${err}</div>`;\n",
       "      throw err;\n",
       "    }\n",
       "\n",
       "    function displayChart(vegaEmbed) {\n",
       "      vegaEmbed(outputDiv, spec, embedOpt)\n",
       "        .catch(err => showError(`Javascript Error: ${err.message}<br>This usually means there's a typo in your chart specification. See the javascript console for the full traceback.`));\n",
       "    }\n",
       "\n",
       "    if(typeof define === \"function\" && define.amd) {\n",
       "      requirejs.config({paths});\n",
       "      require([\"vega-embed\"], displayChart, err => showError(`Error loading script: ${err.message}`));\n",
       "    } else if (typeof vegaEmbed === \"function\") {\n",
       "      displayChart(vegaEmbed);\n",
       "    } else {\n",
       "      loadScript(\"vega\")\n",
       "        .then(() => loadScript(\"vega-lite\"))\n",
       "        .then(() => loadScript(\"vega-embed\"))\n",
       "        .catch(showError)\n",
       "        .then(() => displayChart(vegaEmbed));\n",
       "    }\n",
       "  })({\"config\": {\"view\": {\"continuousWidth\": 400, \"continuousHeight\": 300}}, \"data\": {\"name\": \"data-d3731330787d26c625abee18d22d0f93\"}, \"mark\": \"bar\", \"encoding\": {\"x\": {\"type\": \"quantitative\", \"field\": \"inf_adj_perchild\"}, \"y\": {\"type\": \"nominal\", \"field\": \"variable\", \"sort\": \"-x\"}}, \"selection\": {\"selector001\": {\"type\": \"interval\", \"bind\": \"scales\", \"encodings\": [\"x\", \"y\"]}}, \"title\": \"Total Inflation per each category\", \"$schema\": \"https://vega.github.io/schema/vega-lite/v4.8.1.json\", \"datasets\": {\"data-d3731330787d26c625abee18d22d0f93\": [{\"variable\": \"PK12ed\", \"inf_adj\": 9809396655.1875, \"inf_adj_perchild\": 6596.284218788147}, {\"variable\": \"other_health\", \"inf_adj\": 6749282750.1875, \"inf_adj_perchild\": 4580.336372852325}, {\"variable\": \"highered\", \"inf_adj\": 2168838701.84375, \"inf_adj_perchild\": 1433.282522648573}, {\"variable\": \"Medicaid_CHIP\", \"inf_adj\": 2067285459.671875, \"inf_adj_perchild\": 1413.3299764692783}, {\"variable\": \"othercashserv\", \"inf_adj\": 1941786610.421875, \"inf_adj_perchild\": 1336.556784182787}, {\"variable\": \"pubhealth\", \"inf_adj\": 1599913289.0976562, \"inf_adj_perchild\": 1060.528158813715}, {\"variable\": \"fedEITC\", \"inf_adj\": 1127157597.7695312, \"inf_adj_perchild\": 705.524545520544}, {\"variable\": \"unemp\", \"inf_adj\": 1108421837.9023438, \"inf_adj_perchild\": 710.0538564696908}, {\"variable\": \"HCD\", \"inf_adj\": 789296099.3007812, \"inf_adj_perchild\": 559.6873182877898}, {\"variable\": \"parkrec\", \"inf_adj\": 578958673.3417969, \"inf_adj_perchild\": 397.94792751967907}, {\"variable\": \"CTC\", \"inf_adj\": 575089289.3066406, \"inf_adj_perchild\": 394.5869848281145}, {\"variable\": \"edsubs\", \"inf_adj\": 458973980.60302734, \"inf_adj_perchild\": 294.06501389853656}, {\"variable\": \"SNAP\", \"inf_adj\": 426967059.2236328, \"inf_adj_perchild\": 274.9258075430989}, {\"variable\": \"pell\", \"inf_adj\": 413965112.609375, \"inf_adj_perchild\": 260.6434485986829}, {\"variable\": \"socsec\", \"inf_adj\": 400433156.68359375, \"inf_adj_perchild\": 275.695166811347}, {\"variable\": \"edservs\", \"inf_adj\": 309401391.9707031, \"inf_adj_perchild\": 253.85616876604035}, {\"variable\": \"TANFbasic\", \"inf_adj\": 250956803.26611328, \"inf_adj_perchild\": 144.5944406017661}, {\"variable\": \"wcomp\", \"inf_adj\": 250510164.36749268, \"inf_adj_perchild\": 182.06936238072376}, {\"variable\": \"addCC\", \"inf_adj\": 227325771.93164062, \"inf_adj_perchild\": 137.6532343029976}, {\"variable\": \"lib\", \"inf_adj\": 198415412.07421875, \"inf_adj_perchild\": 134.59969916567206}, {\"variable\": \"fedSSI\", \"inf_adj\": 158976487.46923828, \"inf_adj_perchild\": 102.9743727594614}, {\"variable\": \"HeadStartPriv\", \"inf_adj\": 106519433.1538086, \"inf_adj_perchild\": 75.51650669798255}, {\"variable\": \"stateEITC\", \"inf_adj\": 48610546.24194336, \"inf_adj_perchild\": 35.64983012294397}]}}, {\"mode\": \"vega-lite\"});\n",
       "</script>"
      ],
      "text/plain": [
       "alt.Chart(...)"
      ]
     },
     "execution_count": 7,
     "metadata": {},
     "output_type": "execute_result"
    }
   ],
   "source": [
    "alt.Chart(us_ninos_inflation_tot_dt.to_pandas()).mark_bar().encode(\n",
    "    alt.Y('variable',sort='-x'),\n",
    "    alt.X('inf_adj_perchild')\n",
    ").properties(\n",
    "\n",
    "    title='Total Inflation per each category'\n",
    ").interactive()"
   ]
  },
  {
   "cell_type": "code",
   "execution_count": 8,
   "metadata": {},
   "outputs": [
    {
     "data": {
      "text/html": [
       "<div class='datatable'>\n",
       "  <table class='frame'>\n",
       "  <thead>\n",
       "    <tr class='colnames'><td class='row_index'></td><th>variable</th><th>inf_adj</th><th>inf_adj_perchild</th></tr>\n",
       "    <tr class='coltypes'><td class='row_index'></td><td class='string' title='str32'>&#x25AA;&#x25AA;&#x25AA;&#x25AA;</td><td class='float' title='float64'>&#x25AA;&#x25AA;&#x25AA;&#x25AA;&#x25AA;&#x25AA;&#x25AA;&#x25AA;</td><td class='float' title='float64'>&#x25AA;&#x25AA;&#x25AA;&#x25AA;&#x25AA;&#x25AA;&#x25AA;&#x25AA;</td></tr>\n",
       "  </thead>\n",
       "  <tbody>\n",
       "    <tr><td class='row_index'>0</td><td>PK12ed</td><td>9.8094e+09</td><td>6596.28</td></tr>\n",
       "    <tr><td class='row_index'>1</td><td>other_health</td><td>6.74928e+09</td><td>4580.34</td></tr>\n",
       "    <tr><td class='row_index'>2</td><td>highered</td><td>2.16884e+09</td><td>1433.28</td></tr>\n",
       "    <tr><td class='row_index'>3</td><td>Medicaid_CHIP</td><td>2.06729e+09</td><td>1413.33</td></tr>\n",
       "    <tr><td class='row_index'>4</td><td>othercashserv</td><td>1.94179e+09</td><td>1336.56</td></tr>\n",
       "    <tr><td class='row_index'>5</td><td>pubhealth</td><td>1.59991e+09</td><td>1060.53</td></tr>\n",
       "    <tr><td class='row_index'>6</td><td>fedEITC</td><td>1.12716e+09</td><td>705.525</td></tr>\n",
       "    <tr><td class='row_index'>7</td><td>unemp</td><td>1.10842e+09</td><td>710.054</td></tr>\n",
       "    <tr><td class='row_index'>8</td><td>HCD</td><td>7.89296e+08</td><td>559.687</td></tr>\n",
       "    <tr><td class='row_index'>9</td><td>parkrec</td><td>5.78959e+08</td><td>397.948</td></tr>\n",
       "    <tr><td class='row_index'>10</td><td>CTC</td><td>5.75089e+08</td><td>394.587</td></tr>\n",
       "    <tr><td class='row_index'>11</td><td>edsubs</td><td>4.58974e+08</td><td>294.065</td></tr>\n",
       "    <tr><td class='row_index'>12</td><td>SNAP</td><td>4.26967e+08</td><td>274.926</td></tr>\n",
       "    <tr><td class='row_index'>13</td><td>pell</td><td>4.13965e+08</td><td>260.643</td></tr>\n",
       "    <tr><td class='row_index'>14</td><td>socsec</td><td>4.00433e+08</td><td>275.695</td></tr>\n",
       "    <tr><td class='row_index'>15</td><td>edservs</td><td>3.09401e+08</td><td>253.856</td></tr>\n",
       "    <tr><td class='row_index'>16</td><td>TANFbasic</td><td>2.50957e+08</td><td>144.594</td></tr>\n",
       "    <tr><td class='row_index'>17</td><td>wcomp</td><td>2.5051e+08</td><td>182.069</td></tr>\n",
       "    <tr><td class='row_index'>18</td><td>addCC</td><td>2.27326e+08</td><td>137.653</td></tr>\n",
       "    <tr><td class='row_index'>19</td><td>lib</td><td>1.98415e+08</td><td>134.6</td></tr>\n",
       "    <tr><td class='row_index'>20</td><td>fedSSI</td><td>1.58976e+08</td><td>102.974</td></tr>\n",
       "    <tr><td class='row_index'>21</td><td>HeadStartPriv</td><td>1.06519e+08</td><td>75.5165</td></tr>\n",
       "    <tr><td class='row_index'>22</td><td>stateEITC</td><td>4.86105e+07</td><td>35.6498</td></tr>\n",
       "  </tbody>\n",
       "  </table>\n",
       "  <div class='footer'>\n",
       "    <div class='frame_dimensions'>23 rows &times; 3 columns</div>\n",
       "  </div>\n",
       "</div>\n"
      ],
      "text/plain": [
       "<Frame [23 rows x 3 cols]>"
      ]
     },
     "execution_count": 8,
     "metadata": {},
     "output_type": "execute_result"
    }
   ],
   "source": [
    "us_ninos_inflation_tot_dt"
   ]
  },
  {
   "cell_type": "code",
   "execution_count": 9,
   "metadata": {},
   "outputs": [],
   "source": [
    "us_ninos_inflation_per_year = us_ninos[:,dt.sum(f[4:]),by(f.year)]"
   ]
  },
  {
   "cell_type": "code",
   "execution_count": 10,
   "metadata": {},
   "outputs": [],
   "source": [
    "vis_us_year_inf_adj = alt.Chart(us_ninos_inflation_per_year.to_pandas()).mark_line().encode(\n",
    "    alt.X('year:O'),\n",
    "    alt.Y('inf_adj')\n",
    ").properties(title='Inflation per year')"
   ]
  },
  {
   "cell_type": "code",
   "execution_count": 11,
   "metadata": {},
   "outputs": [],
   "source": [
    "vis_us_year_inf_child = alt.Chart(us_ninos_inflation_per_year.to_pandas()).mark_line().encode(\n",
    "    alt.X('year:O'),\n",
    "    alt.Y('inf_adj_perchild')\n",
    ").properties(title='Inflation_child per year')"
   ]
  },
  {
   "cell_type": "code",
   "execution_count": 12,
   "metadata": {},
   "outputs": [
    {
     "data": {
      "text/html": [
       "\n",
       "<div id=\"altair-viz-92f92a336b4b42ee90f29cb73ab99b03\"></div>\n",
       "<script type=\"text/javascript\">\n",
       "  (function(spec, embedOpt){\n",
       "    let outputDiv = document.currentScript.previousElementSibling;\n",
       "    if (outputDiv.id !== \"altair-viz-92f92a336b4b42ee90f29cb73ab99b03\") {\n",
       "      outputDiv = document.getElementById(\"altair-viz-92f92a336b4b42ee90f29cb73ab99b03\");\n",
       "    }\n",
       "    const paths = {\n",
       "      \"vega\": \"https://cdn.jsdelivr.net/npm//vega@5?noext\",\n",
       "      \"vega-lib\": \"https://cdn.jsdelivr.net/npm//vega-lib?noext\",\n",
       "      \"vega-lite\": \"https://cdn.jsdelivr.net/npm//vega-lite@4.8.1?noext\",\n",
       "      \"vega-embed\": \"https://cdn.jsdelivr.net/npm//vega-embed@6?noext\",\n",
       "    };\n",
       "\n",
       "    function loadScript(lib) {\n",
       "      return new Promise(function(resolve, reject) {\n",
       "        var s = document.createElement('script');\n",
       "        s.src = paths[lib];\n",
       "        s.async = true;\n",
       "        s.onload = () => resolve(paths[lib]);\n",
       "        s.onerror = () => reject(`Error loading script: ${paths[lib]}`);\n",
       "        document.getElementsByTagName(\"head\")[0].appendChild(s);\n",
       "      });\n",
       "    }\n",
       "\n",
       "    function showError(err) {\n",
       "      outputDiv.innerHTML = `<div class=\"error\" style=\"color:red;\">${err}</div>`;\n",
       "      throw err;\n",
       "    }\n",
       "\n",
       "    function displayChart(vegaEmbed) {\n",
       "      vegaEmbed(outputDiv, spec, embedOpt)\n",
       "        .catch(err => showError(`Javascript Error: ${err.message}<br>This usually means there's a typo in your chart specification. See the javascript console for the full traceback.`));\n",
       "    }\n",
       "\n",
       "    if(typeof define === \"function\" && define.amd) {\n",
       "      requirejs.config({paths});\n",
       "      require([\"vega-embed\"], displayChart, err => showError(`Error loading script: ${err.message}`));\n",
       "    } else if (typeof vegaEmbed === \"function\") {\n",
       "      displayChart(vegaEmbed);\n",
       "    } else {\n",
       "      loadScript(\"vega\")\n",
       "        .then(() => loadScript(\"vega-lite\"))\n",
       "        .then(() => loadScript(\"vega-embed\"))\n",
       "        .catch(showError)\n",
       "        .then(() => displayChart(vegaEmbed));\n",
       "    }\n",
       "  })({\"config\": {\"view\": {\"continuousWidth\": 400, \"continuousHeight\": 300}}, \"hconcat\": [{\"data\": {\"name\": \"data-d50bfd4dd0a2d47381da10c9f44d671e\"}, \"mark\": \"line\", \"encoding\": {\"x\": {\"type\": \"ordinal\", \"field\": \"year\"}, \"y\": {\"type\": \"quantitative\", \"field\": \"inf_adj\"}}, \"title\": \"Inflation per year\"}, {\"data\": {\"name\": \"data-d50bfd4dd0a2d47381da10c9f44d671e\"}, \"mark\": \"line\", \"encoding\": {\"x\": {\"type\": \"ordinal\", \"field\": \"year\"}, \"y\": {\"type\": \"quantitative\", \"field\": \"inf_adj_perchild\"}}, \"title\": \"Inflation_child per year\"}], \"$schema\": \"https://vega.github.io/schema/vega-lite/v4.8.1.json\", \"datasets\": {\"data-d50bfd4dd0a2d47381da10c9f44d671e\": [{\"year\": 1997, \"inf_adj\": 814869335.0570679, \"inf_adj_perchild\": 555.9337656168718}, {\"year\": 1998, \"inf_adj\": 1131590909.5494385, \"inf_adj_perchild\": 768.4615762197063}, {\"year\": 1999, \"inf_adj\": 1183119568.2876892, \"inf_adj_perchild\": 798.3790114279691}, {\"year\": 2000, \"inf_adj\": 1237016602.7580566, \"inf_adj_perchild\": 831.6201182611694}, {\"year\": 2001, \"inf_adj\": 1322609699.477417, \"inf_adj_perchild\": 887.1405590116628}, {\"year\": 2002, \"inf_adj\": 1414185004.923767, \"inf_adj_perchild\": 946.5674781000416}, {\"year\": 2003, \"inf_adj\": 1475180545.8170166, \"inf_adj_perchild\": 986.8079570479458}, {\"year\": 2004, \"inf_adj\": 1536854151.8753662, \"inf_adj_perchild\": 1027.3784764182055}, {\"year\": 2005, \"inf_adj\": 1550387859.848755, \"inf_adj_perchild\": 1037.0650649061427}, {\"year\": 2006, \"inf_adj\": 1556939595.2320557, \"inf_adj_perchild\": 1041.791391005856}, {\"year\": 2007, \"inf_adj\": 1596082581.6254883, \"inf_adj_perchild\": 1064.769885449903}, {\"year\": 2008, \"inf_adj\": 1667656467.295288, \"inf_adj_perchild\": 1118.5014028525911}, {\"year\": 2009, \"inf_adj\": 1806598150.0459595, \"inf_adj_perchild\": 1213.1770238216268}, {\"year\": 2010, \"inf_adj\": 1931252831.925171, \"inf_adj_perchild\": 1301.53637077054}, {\"year\": 2011, \"inf_adj\": 1927634550.099762, \"inf_adj_perchild\": 1293.5157410555985}, {\"year\": 2012, \"inf_adj\": 1895321575.1448975, \"inf_adj_perchild\": 1283.4953765904065}, {\"year\": 2013, \"inf_adj\": 1886565000.6679688, \"inf_adj_perchild\": 1275.2592922621407}, {\"year\": 2014, \"inf_adj\": 1892487515.498169, \"inf_adj_perchild\": 1283.018517952878}, {\"year\": 2015, \"inf_adj\": 1956846699.3023682, \"inf_adj_perchild\": 1309.890341572347}, {\"year\": 2016, \"inf_adj\": 1983283639.194336, \"inf_adj_perchild\": 1336.052367686294}]}}, {\"mode\": \"vega-lite\"});\n",
       "</script>"
      ],
      "text/plain": [
       "alt.HConcatChart(...)"
      ]
     },
     "execution_count": 12,
     "metadata": {},
     "output_type": "execute_result"
    }
   ],
   "source": [
    "# VIS 1\n",
    "vis_us_year_inf_adj | vis_us_year_inf_child"
   ]
  },
  {
   "cell_type": "code",
   "execution_count": 13,
   "metadata": {},
   "outputs": [],
   "source": [
    "us_ninos_inflation_per_country = us_ninos[:,dt.sum(f[4:]),by(f.state)]"
   ]
  },
  {
   "cell_type": "code",
   "execution_count": 14,
   "metadata": {},
   "outputs": [
    {
     "data": {
      "text/html": [
       "\n",
       "<div id=\"altair-viz-730f1158c7574d72865d6ed91e92966e\"></div>\n",
       "<script type=\"text/javascript\">\n",
       "  (function(spec, embedOpt){\n",
       "    let outputDiv = document.currentScript.previousElementSibling;\n",
       "    if (outputDiv.id !== \"altair-viz-730f1158c7574d72865d6ed91e92966e\") {\n",
       "      outputDiv = document.getElementById(\"altair-viz-730f1158c7574d72865d6ed91e92966e\");\n",
       "    }\n",
       "    const paths = {\n",
       "      \"vega\": \"https://cdn.jsdelivr.net/npm//vega@5?noext\",\n",
       "      \"vega-lib\": \"https://cdn.jsdelivr.net/npm//vega-lib?noext\",\n",
       "      \"vega-lite\": \"https://cdn.jsdelivr.net/npm//vega-lite@4.8.1?noext\",\n",
       "      \"vega-embed\": \"https://cdn.jsdelivr.net/npm//vega-embed@6?noext\",\n",
       "    };\n",
       "\n",
       "    function loadScript(lib) {\n",
       "      return new Promise(function(resolve, reject) {\n",
       "        var s = document.createElement('script');\n",
       "        s.src = paths[lib];\n",
       "        s.async = true;\n",
       "        s.onload = () => resolve(paths[lib]);\n",
       "        s.onerror = () => reject(`Error loading script: ${paths[lib]}`);\n",
       "        document.getElementsByTagName(\"head\")[0].appendChild(s);\n",
       "      });\n",
       "    }\n",
       "\n",
       "    function showError(err) {\n",
       "      outputDiv.innerHTML = `<div class=\"error\" style=\"color:red;\">${err}</div>`;\n",
       "      throw err;\n",
       "    }\n",
       "\n",
       "    function displayChart(vegaEmbed) {\n",
       "      vegaEmbed(outputDiv, spec, embedOpt)\n",
       "        .catch(err => showError(`Javascript Error: ${err.message}<br>This usually means there's a typo in your chart specification. See the javascript console for the full traceback.`));\n",
       "    }\n",
       "\n",
       "    if(typeof define === \"function\" && define.amd) {\n",
       "      requirejs.config({paths});\n",
       "      require([\"vega-embed\"], displayChart, err => showError(`Error loading script: ${err.message}`));\n",
       "    } else if (typeof vegaEmbed === \"function\") {\n",
       "      displayChart(vegaEmbed);\n",
       "    } else {\n",
       "      loadScript(\"vega\")\n",
       "        .then(() => loadScript(\"vega-lite\"))\n",
       "        .then(() => loadScript(\"vega-embed\"))\n",
       "        .catch(showError)\n",
       "        .then(() => displayChart(vegaEmbed));\n",
       "    }\n",
       "  })({\"config\": {\"view\": {\"continuousWidth\": 400, \"continuousHeight\": 300}}, \"data\": {\"name\": \"data-3d1e3c802061ccf5b93076017900e76c\"}, \"mark\": \"bar\", \"encoding\": {\"x\": {\"type\": \"ordinal\", \"field\": \"state\", \"sort\": \"-y\"}, \"y\": {\"type\": \"quantitative\", \"field\": \"inf_adj\"}}, \"title\": \"Total Inflation per country\", \"$schema\": \"https://vega.github.io/schema/vega-lite/v4.8.1.json\", \"datasets\": {\"data-3d1e3c802061ccf5b93076017900e76c\": [{\"state\": \"Alabama\", \"inf_adj\": 481298955.3886719, \"inf_adj_perchild\": 406.34106756560504}, {\"state\": \"Alaska\", \"inf_adj\": 106739270.97827148, \"inf_adj_perchild\": 541.4378591515124}, {\"state\": \"Arizona\", \"inf_adj\": 495236565.8808594, \"inf_adj_perchild\": 304.6601226264611}, {\"state\": \"Arkansas\", \"inf_adj\": 276544765.0244446, \"inf_adj_perchild\": 375.1043554719072}, {\"state\": \"California\", \"inf_adj\": 4197334570.25, \"inf_adj_perchild\": 428.89100137911737}, {\"state\": \"Colorado\", \"inf_adj\": 422828680.5996094, \"inf_adj_perchild\": 337.95860233157873}, {\"state\": \"Connecticut\", \"inf_adj\": 409951911.4238281, \"inf_adj_perchild\": 474.94910342246294}, {\"state\": \"Delaware\", \"inf_adj\": 95563713.99365234, \"inf_adj_perchild\": 446.1438321135938}, {\"state\": \"District of Columbia\", \"inf_adj\": 118029726.2265625, \"inf_adj_perchild\": 991.075021058321}, {\"state\": \"Florida\", \"inf_adj\": 1545072598.4375, \"inf_adj_perchild\": 371.4128810400143}, {\"state\": \"Georgia\", \"inf_adj\": 878590525.2304688, \"inf_adj_perchild\": 350.09841702505946}, {\"state\": \"Hawaii\", \"inf_adj\": 135997077.55371094, \"inf_adj_perchild\": 427.2176098097116}, {\"state\": \"Idaho\", \"inf_adj\": 128430694.07666016, \"inf_adj_perchild\": 299.2625891715288}, {\"state\": \"Illinois\", \"inf_adj\": 1264807278.4326172, \"inf_adj_perchild\": 382.4967221347615}, {\"state\": \"Indiana\", \"inf_adj\": 592511203.390625, \"inf_adj_perchild\": 352.97008738690056}, {\"state\": \"Iowa\", \"inf_adj\": 317897828.45440674, \"inf_adj_perchild\": 412.70409930177266}, {\"state\": \"Kansas\", \"inf_adj\": 265810223.5114746, \"inf_adj_perchild\": 351.3588627879508}, {\"state\": \"Kentucky\", \"inf_adj\": 423038789.828125, \"inf_adj_perchild\": 396.1976893506944}, {\"state\": \"Louisiana\", \"inf_adj\": 505055684.56640625, \"inf_adj_perchild\": 417.95477280020714}, {\"state\": \"Maine\", \"inf_adj\": 144826097.12182617, \"inf_adj_perchild\": 485.6170130292885}, {\"state\": \"Maryland\", \"inf_adj\": 575425859.4804688, \"inf_adj_perchild\": 400.751995626837}, {\"state\": \"Massachusetts\", \"inf_adj\": 758797580.4648438, \"inf_adj_perchild\": 494.92976700142026}, {\"state\": \"Michigan\", \"inf_adj\": 1034281555.4658203, \"inf_adj_perchild\": 403.94774317229167}, {\"state\": \"Minnesota\", \"inf_adj\": 604619767.0351562, \"inf_adj_perchild\": 445.6416551079601}, {\"state\": \"Mississippi\", \"inf_adj\": 329637154.5683594, \"inf_adj_perchild\": 413.8393739685416}, {\"state\": \"Missouri\", \"inf_adj\": 534147002.76953125, \"inf_adj_perchild\": 356.56912918388844}, {\"state\": \"Montana\", \"inf_adj\": 86730717.18457031, \"inf_adj_perchild\": 363.5944345071912}, {\"state\": \"Nebraska\", \"inf_adj\": 172979854.0230713, \"inf_adj_perchild\": 358.0174533686368}, {\"state\": \"Nevada\", \"inf_adj\": 203439680.6953125, \"inf_adj_perchild\": 315.3833984620869}, {\"state\": \"New Hampshire\", \"inf_adj\": 108643356.64941406, \"inf_adj_perchild\": 351.1766763292253}, {\"state\": \"New Jersey\", \"inf_adj\": 1015759634.7890625, \"inf_adj_perchild\": 466.910246592015}, {\"state\": \"New Mexico\", \"inf_adj\": 230371028.01513672, \"inf_adj_perchild\": 429.59052776312456}, {\"state\": \"New York\", \"inf_adj\": 2944091658.2734375, \"inf_adj_perchild\": 628.3213295978494}, {\"state\": \"North Carolina\", \"inf_adj\": 914635885.1875, \"inf_adj_perchild\": 399.01743897236884}, {\"state\": \"North Dakota\", \"inf_adj\": 65870176.76269531, \"inf_adj_perchild\": 392.50930124521255}, {\"state\": \"Ohio\", \"inf_adj\": 1239763698.484375, \"inf_adj_perchild\": 424.3093174640089}, {\"state\": \"Oklahoma\", \"inf_adj\": 327867467.11328125, \"inf_adj_perchild\": 338.22377871721983}, {\"state\": \"Oregon\", \"inf_adj\": 399571273.46484375, \"inf_adj_perchild\": 440.94514704775065}, {\"state\": \"Pennsylvania\", \"inf_adj\": 1360517747.234375, \"inf_adj_perchild\": 454.9035467021167}, {\"state\": \"Rhode Island\", \"inf_adj\": 122587297.78527832, \"inf_adj_perchild\": 496.227883012034}, {\"state\": \"South Carolina\", \"inf_adj\": 477475875.6953125, \"inf_adj_perchild\": 426.2702285647392}, {\"state\": \"South Dakota\", \"inf_adj\": 62613875.81518555, \"inf_adj_perchild\": 291.36337969917804}, {\"state\": \"Tennessee\", \"inf_adj\": 574230166.7050781, \"inf_adj_perchild\": 372.3357979338616}, {\"state\": \"Texas\", \"inf_adj\": 2228711234.09317, \"inf_adj_perchild\": 321.25995123125176}, {\"state\": \"Utah\", \"inf_adj\": 230169680.19335938, \"inf_adj_perchild\": 266.890722874552}, {\"state\": \"Vermont\", \"inf_adj\": 73840675.68652344, \"inf_adj_perchild\": 519.3902414105833}, {\"state\": \"Virginia\", \"inf_adj\": 707442464.4596558, \"inf_adj_perchild\": 367.2340381803806}, {\"state\": \"Washington\", \"inf_adj\": 725334028.3554688, \"inf_adj_perchild\": 441.0427366197109}, {\"state\": \"West Virginia\", \"inf_adj\": 191182506.7421875, \"inf_adj_perchild\": 461.4564363732934}, {\"state\": \"Wisconsin\", \"inf_adj\": 582684856.8690186, \"inf_adj_perchild\": 411.09870460571256}, {\"state\": \"Wyoming\", \"inf_adj\": 77492363.19482422, \"inf_adj_perchild\": 553.3576277364045}]}}, {\"mode\": \"vega-lite\"});\n",
       "</script>"
      ],
      "text/plain": [
       "alt.Chart(...)"
      ]
     },
     "execution_count": 14,
     "metadata": {},
     "output_type": "execute_result"
    }
   ],
   "source": [
    "alt.Chart(us_ninos_inflation_per_country.to_pandas()).mark_bar().encode(\n",
    "    alt.X('state:O',sort='-y'),\n",
    "    alt.Y('inf_adj')\n",
    ").properties(\n",
    "    \n",
    "    title='Total Inflation per country'\n",
    "\n",
    ")"
   ]
  },
  {
   "cell_type": "code",
   "execution_count": 15,
   "metadata": {},
   "outputs": [
    {
     "data": {
      "text/html": [
       "\n",
       "<div id=\"altair-viz-305f9a79b8414a06aaf92e6ef79175cc\"></div>\n",
       "<script type=\"text/javascript\">\n",
       "  (function(spec, embedOpt){\n",
       "    let outputDiv = document.currentScript.previousElementSibling;\n",
       "    if (outputDiv.id !== \"altair-viz-305f9a79b8414a06aaf92e6ef79175cc\") {\n",
       "      outputDiv = document.getElementById(\"altair-viz-305f9a79b8414a06aaf92e6ef79175cc\");\n",
       "    }\n",
       "    const paths = {\n",
       "      \"vega\": \"https://cdn.jsdelivr.net/npm//vega@5?noext\",\n",
       "      \"vega-lib\": \"https://cdn.jsdelivr.net/npm//vega-lib?noext\",\n",
       "      \"vega-lite\": \"https://cdn.jsdelivr.net/npm//vega-lite@4.8.1?noext\",\n",
       "      \"vega-embed\": \"https://cdn.jsdelivr.net/npm//vega-embed@6?noext\",\n",
       "    };\n",
       "\n",
       "    function loadScript(lib) {\n",
       "      return new Promise(function(resolve, reject) {\n",
       "        var s = document.createElement('script');\n",
       "        s.src = paths[lib];\n",
       "        s.async = true;\n",
       "        s.onload = () => resolve(paths[lib]);\n",
       "        s.onerror = () => reject(`Error loading script: ${paths[lib]}`);\n",
       "        document.getElementsByTagName(\"head\")[0].appendChild(s);\n",
       "      });\n",
       "    }\n",
       "\n",
       "    function showError(err) {\n",
       "      outputDiv.innerHTML = `<div class=\"error\" style=\"color:red;\">${err}</div>`;\n",
       "      throw err;\n",
       "    }\n",
       "\n",
       "    function displayChart(vegaEmbed) {\n",
       "      vegaEmbed(outputDiv, spec, embedOpt)\n",
       "        .catch(err => showError(`Javascript Error: ${err.message}<br>This usually means there's a typo in your chart specification. See the javascript console for the full traceback.`));\n",
       "    }\n",
       "\n",
       "    if(typeof define === \"function\" && define.amd) {\n",
       "      requirejs.config({paths});\n",
       "      require([\"vega-embed\"], displayChart, err => showError(`Error loading script: ${err.message}`));\n",
       "    } else if (typeof vegaEmbed === \"function\") {\n",
       "      displayChart(vegaEmbed);\n",
       "    } else {\n",
       "      loadScript(\"vega\")\n",
       "        .then(() => loadScript(\"vega-lite\"))\n",
       "        .then(() => loadScript(\"vega-embed\"))\n",
       "        .catch(showError)\n",
       "        .then(() => displayChart(vegaEmbed));\n",
       "    }\n",
       "  })({\"config\": {\"view\": {\"continuousWidth\": 400, \"continuousHeight\": 300}}, \"data\": {\"name\": \"data-3d1e3c802061ccf5b93076017900e76c\"}, \"mark\": \"bar\", \"encoding\": {\"x\": {\"type\": \"ordinal\", \"field\": \"state\", \"sort\": \"-y\"}, \"y\": {\"type\": \"quantitative\", \"field\": \"inf_adj_perchild\"}}, \"title\": \"Total Inflation per child across countries\", \"$schema\": \"https://vega.github.io/schema/vega-lite/v4.8.1.json\", \"datasets\": {\"data-3d1e3c802061ccf5b93076017900e76c\": [{\"state\": \"Alabama\", \"inf_adj\": 481298955.3886719, \"inf_adj_perchild\": 406.34106756560504}, {\"state\": \"Alaska\", \"inf_adj\": 106739270.97827148, \"inf_adj_perchild\": 541.4378591515124}, {\"state\": \"Arizona\", \"inf_adj\": 495236565.8808594, \"inf_adj_perchild\": 304.6601226264611}, {\"state\": \"Arkansas\", \"inf_adj\": 276544765.0244446, \"inf_adj_perchild\": 375.1043554719072}, {\"state\": \"California\", \"inf_adj\": 4197334570.25, \"inf_adj_perchild\": 428.89100137911737}, {\"state\": \"Colorado\", \"inf_adj\": 422828680.5996094, \"inf_adj_perchild\": 337.95860233157873}, {\"state\": \"Connecticut\", \"inf_adj\": 409951911.4238281, \"inf_adj_perchild\": 474.94910342246294}, {\"state\": \"Delaware\", \"inf_adj\": 95563713.99365234, \"inf_adj_perchild\": 446.1438321135938}, {\"state\": \"District of Columbia\", \"inf_adj\": 118029726.2265625, \"inf_adj_perchild\": 991.075021058321}, {\"state\": \"Florida\", \"inf_adj\": 1545072598.4375, \"inf_adj_perchild\": 371.4128810400143}, {\"state\": \"Georgia\", \"inf_adj\": 878590525.2304688, \"inf_adj_perchild\": 350.09841702505946}, {\"state\": \"Hawaii\", \"inf_adj\": 135997077.55371094, \"inf_adj_perchild\": 427.2176098097116}, {\"state\": \"Idaho\", \"inf_adj\": 128430694.07666016, \"inf_adj_perchild\": 299.2625891715288}, {\"state\": \"Illinois\", \"inf_adj\": 1264807278.4326172, \"inf_adj_perchild\": 382.4967221347615}, {\"state\": \"Indiana\", \"inf_adj\": 592511203.390625, \"inf_adj_perchild\": 352.97008738690056}, {\"state\": \"Iowa\", \"inf_adj\": 317897828.45440674, \"inf_adj_perchild\": 412.70409930177266}, {\"state\": \"Kansas\", \"inf_adj\": 265810223.5114746, \"inf_adj_perchild\": 351.3588627879508}, {\"state\": \"Kentucky\", \"inf_adj\": 423038789.828125, \"inf_adj_perchild\": 396.1976893506944}, {\"state\": \"Louisiana\", \"inf_adj\": 505055684.56640625, \"inf_adj_perchild\": 417.95477280020714}, {\"state\": \"Maine\", \"inf_adj\": 144826097.12182617, \"inf_adj_perchild\": 485.6170130292885}, {\"state\": \"Maryland\", \"inf_adj\": 575425859.4804688, \"inf_adj_perchild\": 400.751995626837}, {\"state\": \"Massachusetts\", \"inf_adj\": 758797580.4648438, \"inf_adj_perchild\": 494.92976700142026}, {\"state\": \"Michigan\", \"inf_adj\": 1034281555.4658203, \"inf_adj_perchild\": 403.94774317229167}, {\"state\": \"Minnesota\", \"inf_adj\": 604619767.0351562, \"inf_adj_perchild\": 445.6416551079601}, {\"state\": \"Mississippi\", \"inf_adj\": 329637154.5683594, \"inf_adj_perchild\": 413.8393739685416}, {\"state\": \"Missouri\", \"inf_adj\": 534147002.76953125, \"inf_adj_perchild\": 356.56912918388844}, {\"state\": \"Montana\", \"inf_adj\": 86730717.18457031, \"inf_adj_perchild\": 363.5944345071912}, {\"state\": \"Nebraska\", \"inf_adj\": 172979854.0230713, \"inf_adj_perchild\": 358.0174533686368}, {\"state\": \"Nevada\", \"inf_adj\": 203439680.6953125, \"inf_adj_perchild\": 315.3833984620869}, {\"state\": \"New Hampshire\", \"inf_adj\": 108643356.64941406, \"inf_adj_perchild\": 351.1766763292253}, {\"state\": \"New Jersey\", \"inf_adj\": 1015759634.7890625, \"inf_adj_perchild\": 466.910246592015}, {\"state\": \"New Mexico\", \"inf_adj\": 230371028.01513672, \"inf_adj_perchild\": 429.59052776312456}, {\"state\": \"New York\", \"inf_adj\": 2944091658.2734375, \"inf_adj_perchild\": 628.3213295978494}, {\"state\": \"North Carolina\", \"inf_adj\": 914635885.1875, \"inf_adj_perchild\": 399.01743897236884}, {\"state\": \"North Dakota\", \"inf_adj\": 65870176.76269531, \"inf_adj_perchild\": 392.50930124521255}, {\"state\": \"Ohio\", \"inf_adj\": 1239763698.484375, \"inf_adj_perchild\": 424.3093174640089}, {\"state\": \"Oklahoma\", \"inf_adj\": 327867467.11328125, \"inf_adj_perchild\": 338.22377871721983}, {\"state\": \"Oregon\", \"inf_adj\": 399571273.46484375, \"inf_adj_perchild\": 440.94514704775065}, {\"state\": \"Pennsylvania\", \"inf_adj\": 1360517747.234375, \"inf_adj_perchild\": 454.9035467021167}, {\"state\": \"Rhode Island\", \"inf_adj\": 122587297.78527832, \"inf_adj_perchild\": 496.227883012034}, {\"state\": \"South Carolina\", \"inf_adj\": 477475875.6953125, \"inf_adj_perchild\": 426.2702285647392}, {\"state\": \"South Dakota\", \"inf_adj\": 62613875.81518555, \"inf_adj_perchild\": 291.36337969917804}, {\"state\": \"Tennessee\", \"inf_adj\": 574230166.7050781, \"inf_adj_perchild\": 372.3357979338616}, {\"state\": \"Texas\", \"inf_adj\": 2228711234.09317, \"inf_adj_perchild\": 321.25995123125176}, {\"state\": \"Utah\", \"inf_adj\": 230169680.19335938, \"inf_adj_perchild\": 266.890722874552}, {\"state\": \"Vermont\", \"inf_adj\": 73840675.68652344, \"inf_adj_perchild\": 519.3902414105833}, {\"state\": \"Virginia\", \"inf_adj\": 707442464.4596558, \"inf_adj_perchild\": 367.2340381803806}, {\"state\": \"Washington\", \"inf_adj\": 725334028.3554688, \"inf_adj_perchild\": 441.0427366197109}, {\"state\": \"West Virginia\", \"inf_adj\": 191182506.7421875, \"inf_adj_perchild\": 461.4564363732934}, {\"state\": \"Wisconsin\", \"inf_adj\": 582684856.8690186, \"inf_adj_perchild\": 411.09870460571256}, {\"state\": \"Wyoming\", \"inf_adj\": 77492363.19482422, \"inf_adj_perchild\": 553.3576277364045}]}}, {\"mode\": \"vega-lite\"});\n",
       "</script>"
      ],
      "text/plain": [
       "alt.Chart(...)"
      ]
     },
     "execution_count": 15,
     "metadata": {},
     "output_type": "execute_result"
    }
   ],
   "source": [
    "alt.Chart(us_ninos_inflation_per_country.to_pandas()).mark_bar().encode(\n",
    "    alt.X('state:O',sort='-y'),\n",
    "    alt.Y('inf_adj_perchild')\n",
    ").properties(\n",
    "    \n",
    "    title='Total Inflation per child across countries'\n",
    "\n",
    ")"
   ]
  },
  {
   "cell_type": "code",
   "execution_count": 16,
   "metadata": {},
   "outputs": [
    {
     "data": {
      "text/html": [
       "<div class='datatable'>\n",
       "  <table class='frame'>\n",
       "  <thead>\n",
       "    <tr class='colnames'><td class='row_index'></td><th>state</th><th>variable</th><th>year</th><th>raw</th><th>inf_adj</th><th>inf_adj_perchild</th></tr>\n",
       "    <tr class='coltypes'><td class='row_index'></td><td class='string' title='str32'>&#x25AA;&#x25AA;&#x25AA;&#x25AA;</td><td class='string' title='str32'>&#x25AA;&#x25AA;&#x25AA;&#x25AA;</td><td class='integer' title='int32'>&#x25AA;&#x25AA;&#x25AA;&#x25AA;</td><td class='float' title='float64'>&#x25AA;&#x25AA;&#x25AA;&#x25AA;&#x25AA;&#x25AA;&#x25AA;&#x25AA;</td><td class='float' title='float64'>&#x25AA;&#x25AA;&#x25AA;&#x25AA;&#x25AA;&#x25AA;&#x25AA;&#x25AA;</td><td class='float' title='float64'>&#x25AA;&#x25AA;&#x25AA;&#x25AA;&#x25AA;&#x25AA;&#x25AA;&#x25AA;</td></tr>\n",
       "  </thead>\n",
       "  <tbody>\n",
       "    <tr><td class='row_index'>0</td><td>Alabama</td><td>PK12ed</td><td>1997</td><td>3.27197e+06</td><td>4.66531e+06</td><td>3.92945</td></tr>\n",
       "    <tr><td class='row_index'>1</td><td>Alaska</td><td>PK12ed</td><td>1997</td><td>1.04231e+06</td><td>1.48617e+06</td><td>7.54849</td></tr>\n",
       "    <tr><td class='row_index'>2</td><td>Arizona</td><td>PK12ed</td><td>1997</td><td>3.38816e+06</td><td>4.83099e+06</td><td>3.70668</td></tr>\n",
       "    <tr><td class='row_index'>3</td><td>Arkansas</td><td>PK12ed</td><td>1997</td><td>1.96061e+06</td><td>2.79552e+06</td><td>3.89127</td></tr>\n",
       "    <tr><td class='row_index'>&#x22EE;</td><td class='hellipsis'>&#x22EE;</td><td class='hellipsis'>&#x22EE;</td><td class='hellipsis'>&#x22EE;</td><td class='hellipsis'>&#x22EE;</td><td class='hellipsis'>&#x22EE;</td><td class='hellipsis'>&#x22EE;</td></tr>\n",
       "    <tr><td class='row_index'>23,456</td><td>Washington</td><td>parkrec</td><td>2016</td><td>846154</td><td>846154</td><td>0.493163</td></tr>\n",
       "    <tr><td class='row_index'>23,457</td><td>West Virginia</td><td>parkrec</td><td>2016</td><td>164849</td><td>164849</td><td>0.416142</td></tr>\n",
       "    <tr><td class='row_index'>23,458</td><td>Wisconsin</td><td>parkrec</td><td>2016</td><td>533003</td><td>533003</td><td>0.391037</td></tr>\n",
       "    <tr><td class='row_index'>23,459</td><td>Wyoming</td><td>parkrec</td><td>2016</td><td>109375</td><td>109375</td><td>0.750743</td></tr>\n",
       "  </tbody>\n",
       "  </table>\n",
       "  <div class='footer'>\n",
       "    <div class='frame_dimensions'>23,460 rows &times; 6 columns</div>\n",
       "  </div>\n",
       "</div>\n"
      ],
      "text/plain": [
       "<Frame [23460 rows x 6 cols]>"
      ]
     },
     "execution_count": 16,
     "metadata": {},
     "output_type": "execute_result"
    }
   ],
   "source": [
    "us_ninos"
   ]
  },
  {
   "cell_type": "code",
   "execution_count": 17,
   "metadata": {},
   "outputs": [],
   "source": [
    "us_top_vars = us_ninos_inflation_tot_dt[:6,f.variable].to_list()[0]"
   ]
  },
  {
   "cell_type": "code",
   "execution_count": 18,
   "metadata": {},
   "outputs": [],
   "source": [
    "us_top_vars_filter = functools.reduce(operator.or_,(f.variable==var for var in us_top_vars))"
   ]
  },
  {
   "cell_type": "code",
   "execution_count": 19,
   "metadata": {},
   "outputs": [],
   "source": [
    "us_ninos_top_vars_dt = us_ninos[us_top_vars_filter,f[:].remove(f.raw)]"
   ]
  },
  {
   "cell_type": "code",
   "execution_count": 20,
   "metadata": {},
   "outputs": [
    {
     "data": {
      "text/html": [
       "<div class='datatable'>\n",
       "  <table class='frame'>\n",
       "  <thead>\n",
       "    <tr class='colnames'><td class='row_index'></td><th>state</th><th>variable</th><th>year</th><th>inf_adj</th><th>inf_adj_perchild</th></tr>\n",
       "    <tr class='coltypes'><td class='row_index'></td><td class='string' title='str32'>&#x25AA;&#x25AA;&#x25AA;&#x25AA;</td><td class='string' title='str32'>&#x25AA;&#x25AA;&#x25AA;&#x25AA;</td><td class='integer' title='int32'>&#x25AA;&#x25AA;&#x25AA;&#x25AA;</td><td class='float' title='float64'>&#x25AA;&#x25AA;&#x25AA;&#x25AA;&#x25AA;&#x25AA;&#x25AA;&#x25AA;</td><td class='float' title='float64'>&#x25AA;&#x25AA;&#x25AA;&#x25AA;&#x25AA;&#x25AA;&#x25AA;&#x25AA;</td></tr>\n",
       "  </thead>\n",
       "  <tbody>\n",
       "    <tr><td class='row_index'>0</td><td>Alabama</td><td>PK12ed</td><td>1997</td><td>4.66531e+06</td><td>3.92945</td></tr>\n",
       "    <tr><td class='row_index'>1</td><td>Alaska</td><td>PK12ed</td><td>1997</td><td>1.48617e+06</td><td>7.54849</td></tr>\n",
       "    <tr><td class='row_index'>2</td><td>Arizona</td><td>PK12ed</td><td>1997</td><td>4.83099e+06</td><td>3.70668</td></tr>\n",
       "    <tr><td class='row_index'>3</td><td>Arkansas</td><td>PK12ed</td><td>1997</td><td>2.79552e+06</td><td>3.89127</td></tr>\n",
       "    <tr><td class='row_index'>&#x22EE;</td><td class='hellipsis'>&#x22EE;</td><td class='hellipsis'>&#x22EE;</td><td class='hellipsis'>&#x22EE;</td><td class='hellipsis'>&#x22EE;</td><td class='hellipsis'>&#x22EE;</td></tr>\n",
       "    <tr><td class='row_index'>6116</td><td>Washington</td><td>other_health</td><td>2016</td><td>1.15616e+07</td><td>6.73844</td></tr>\n",
       "    <tr><td class='row_index'>6117</td><td>West Virginia</td><td>other_health</td><td>2016</td><td>3.4359e+06</td><td>8.67354</td></tr>\n",
       "    <tr><td class='row_index'>6118</td><td>Wisconsin</td><td>other_health</td><td>2016</td><td>9.47995e+06</td><td>6.95495</td></tr>\n",
       "    <tr><td class='row_index'>6119</td><td>Wyoming</td><td>other_health</td><td>2016</td><td>1.6047e+06</td><td>11.0146</td></tr>\n",
       "  </tbody>\n",
       "  </table>\n",
       "  <div class='footer'>\n",
       "    <div class='frame_dimensions'>6120 rows &times; 5 columns</div>\n",
       "  </div>\n",
       "</div>\n"
      ],
      "text/plain": [
       "<Frame [6120 rows x 5 cols]>"
      ]
     },
     "execution_count": 20,
     "metadata": {},
     "output_type": "execute_result"
    }
   ],
   "source": [
    "us_ninos_top_vars_dt"
   ]
  },
  {
   "cell_type": "code",
   "execution_count": 21,
   "metadata": {},
   "outputs": [
    {
     "data": {
      "text/html": [
       "<div class='datatable'>\n",
       "  <table class='frame'>\n",
       "  <thead>\n",
       "    <tr class='colnames'><td class='row_index'></td><th>state</th><th>variable</th><th>year</th><th>raw</th><th>inf_adj</th><th>inf_adj_perchild</th></tr>\n",
       "    <tr class='coltypes'><td class='row_index'></td><td class='string' title='str32'>&#x25AA;&#x25AA;&#x25AA;&#x25AA;</td><td class='string' title='str32'>&#x25AA;&#x25AA;&#x25AA;&#x25AA;</td><td class='integer' title='int32'>&#x25AA;&#x25AA;&#x25AA;&#x25AA;</td><td class='float' title='float64'>&#x25AA;&#x25AA;&#x25AA;&#x25AA;&#x25AA;&#x25AA;&#x25AA;&#x25AA;</td><td class='float' title='float64'>&#x25AA;&#x25AA;&#x25AA;&#x25AA;&#x25AA;&#x25AA;&#x25AA;&#x25AA;</td><td class='float' title='float64'>&#x25AA;&#x25AA;&#x25AA;&#x25AA;&#x25AA;&#x25AA;&#x25AA;&#x25AA;</td></tr>\n",
       "  </thead>\n",
       "  <tbody>\n",
       "    <tr><td class='row_index'>0</td><td>Alabama</td><td>edsubs</td><td>1997</td><td>107733</td><td>153610</td><td>0.129381</td></tr>\n",
       "    <tr><td class='row_index'>1</td><td>Alaska</td><td>edsubs</td><td>1997</td><td>5550</td><td>7913.42</td><td>0.0401935</td></tr>\n",
       "    <tr><td class='row_index'>2</td><td>Arizona</td><td>edsubs</td><td>1997</td><td>111735</td><td>159316</td><td>0.122239</td></tr>\n",
       "    <tr><td class='row_index'>3</td><td>Arkansas</td><td>edsubs</td><td>1997</td><td>62447</td><td>89039.5</td><td>0.12394</td></tr>\n",
       "    <tr><td class='row_index'>&#x22EE;</td><td class='hellipsis'>&#x22EE;</td><td class='hellipsis'>&#x22EE;</td><td class='hellipsis'>&#x22EE;</td><td class='hellipsis'>&#x22EE;</td><td class='hellipsis'>&#x22EE;</td><td class='hellipsis'>&#x22EE;</td></tr>\n",
       "    <tr><td class='row_index'>17,336</td><td>Washington</td><td>parkrec</td><td>2016</td><td>846154</td><td>846154</td><td>0.493163</td></tr>\n",
       "    <tr><td class='row_index'>17,337</td><td>West Virginia</td><td>parkrec</td><td>2016</td><td>164849</td><td>164849</td><td>0.416142</td></tr>\n",
       "    <tr><td class='row_index'>17,338</td><td>Wisconsin</td><td>parkrec</td><td>2016</td><td>533003</td><td>533003</td><td>0.391037</td></tr>\n",
       "    <tr><td class='row_index'>17,339</td><td>Wyoming</td><td>parkrec</td><td>2016</td><td>109375</td><td>109375</td><td>0.750743</td></tr>\n",
       "  </tbody>\n",
       "  </table>\n",
       "  <div class='footer'>\n",
       "    <div class='frame_dimensions'>17,340 rows &times; 6 columns</div>\n",
       "  </div>\n",
       "</div>\n"
      ],
      "text/plain": [
       "<Frame [17340 rows x 6 cols]>"
      ]
     },
     "execution_count": 21,
     "metadata": {},
     "output_type": "execute_result"
    }
   ],
   "source": [
    "us_ninos[functools.reduce(operator.and_,(f.variable != var for var in us_top_vars)),:]"
   ]
  },
  {
   "cell_type": "code",
   "execution_count": null,
   "metadata": {},
   "outputs": [],
   "source": []
  }
 ],
 "metadata": {
  "kernelspec": {
   "display_name": "Python 3",
   "language": "python",
   "name": "python3"
  },
  "language_info": {
   "codemirror_mode": {
    "name": "ipython",
    "version": 3
   },
   "file_extension": ".py",
   "mimetype": "text/x-python",
   "name": "python",
   "nbconvert_exporter": "python",
   "pygments_lexer": "ipython3",
   "version": "3.8.3"
  }
 },
 "nbformat": 4,
 "nbformat_minor": 4
}
