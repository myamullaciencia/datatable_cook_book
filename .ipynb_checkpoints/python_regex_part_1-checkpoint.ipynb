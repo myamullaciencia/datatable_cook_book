{
  "nbformat": 4,
  "nbformat_minor": 0,
  "metadata": {
    "colab": {
      "name": "python_regex_part_1.ipynb",
      "provenance": [],
      "collapsed_sections": [
        "FnkGi19fLd9A",
        "3LJli1klOqgj"
      ]
    },
    "kernelspec": {
      "name": "python3",
      "display_name": "Python 3"
    }
  },
  "cells": [
    {
      "cell_type": "markdown",
      "metadata": {
        "id": "FvJbRVP6Wy9O",
        "colab_type": "text"
      },
      "source": [
        "# 1. Regex tutorial part - 1"
      ]
    },
    {
      "cell_type": "code",
      "metadata": {
        "id": "V7levsveKg8v",
        "colab_type": "code",
        "colab": {}
      },
      "source": [
        "import re"
      ],
      "execution_count": 3,
      "outputs": []
    },
    {
      "cell_type": "code",
      "metadata": {
        "id": "JCk5V0gpK1rs",
        "colab_type": "code",
        "colab": {}
      },
      "source": [
        "letra = 'espanolesun345'"
      ],
      "execution_count": 4,
      "outputs": []
    },
    {
      "cell_type": "code",
      "metadata": {
        "id": "f47jhNH7K6dN",
        "colab_type": "code",
        "colab": {
          "base_uri": "https://localhost:8080/",
          "height": 34
        },
        "outputId": "3efec6e2-8d8b-4d51-8c08-87eac5d4f1c2"
      },
      "source": [
        "'espanol' in letra"
      ],
      "execution_count": 5,
      "outputs": [
        {
          "output_type": "execute_result",
          "data": {
            "text/plain": [
              "True"
            ]
          },
          "metadata": {
            "tags": []
          },
          "execution_count": 5
        }
      ]
    },
    {
      "cell_type": "code",
      "metadata": {
        "id": "tUGaYHYGLAHJ",
        "colab_type": "code",
        "colab": {
          "base_uri": "https://localhost:8080/",
          "height": 34
        },
        "outputId": "00ed9238-28ef-4ccb-c94e-0bdb95131c76"
      },
      "source": [
        "letra.find('345')"
      ],
      "execution_count": 6,
      "outputs": [
        {
          "output_type": "execute_result",
          "data": {
            "text/plain": [
              "11"
            ]
          },
          "metadata": {
            "tags": []
          },
          "execution_count": 6
        }
      ]
    },
    {
      "cell_type": "markdown",
      "metadata": {
        "id": "FnkGi19fLd9A",
        "colab_type": "text"
      },
      "source": [
        "### 1 . Introduction"
      ]
    },
    {
      "cell_type": "code",
      "metadata": {
        "id": "JH3d8vUILKk8",
        "colab_type": "code",
        "colab": {
          "base_uri": "https://localhost:8080/",
          "height": 34
        },
        "outputId": "221bb440-5cc1-40eb-bf5f-9a89edec55cd"
      },
      "source": [
        "re.search(r'\\s[\\w]{2}\\s','espanol es lenguage de 5 22 3 ')"
      ],
      "execution_count": 7,
      "outputs": [
        {
          "output_type": "execute_result",
          "data": {
            "text/plain": [
              "<_sre.SRE_Match object; span=(7, 11), match=' es '>"
            ]
          },
          "metadata": {
            "tags": []
          },
          "execution_count": 7
        }
      ]
    },
    {
      "cell_type": "code",
      "metadata": {
        "id": "nbqxvz5pMtza",
        "colab_type": "code",
        "colab": {}
      },
      "source": [
        "text = 'La india esta en 209 posicion en covid 2019  covriance  violencia y hay poblacion de 5000 mil hoy' "
      ],
      "execution_count": 8,
      "outputs": []
    },
    {
      "cell_type": "code",
      "metadata": {
        "id": "q_LD8C8GM8lI",
        "colab_type": "code",
        "colab": {
          "base_uri": "https://localhost:8080/",
          "height": 34
        },
        "outputId": "930fd83f-3034-496f-e45c-15a2e9ca89b1"
      },
      "source": [
        "re.search(r'[0-9]{4}',text)"
      ],
      "execution_count": 9,
      "outputs": [
        {
          "output_type": "execute_result",
          "data": {
            "text/plain": [
              "<_sre.SRE_Match object; span=(39, 43), match='2019'>"
            ]
          },
          "metadata": {
            "tags": []
          },
          "execution_count": 9
        }
      ]
    },
    {
      "cell_type": "code",
      "metadata": {
        "id": "cqbZJesAN_To",
        "colab_type": "code",
        "colab": {
          "base_uri": "https://localhost:8080/",
          "height": 34
        },
        "outputId": "c4dfd32a-5401-42b0-9f9a-5fa5a7d4e198"
      },
      "source": [
        "re.search(r'[0-9].\\s',text)"
      ],
      "execution_count": 10,
      "outputs": [
        {
          "output_type": "execute_result",
          "data": {
            "text/plain": [
              "<_sre.SRE_Match object; span=(18, 21), match='09 '>"
            ]
          },
          "metadata": {
            "tags": []
          },
          "execution_count": 10
        }
      ]
    },
    {
      "cell_type": "markdown",
      "metadata": {
        "id": "3LJli1klOqgj",
        "colab_type": "text"
      },
      "source": [
        "### 2. Meta characters"
      ]
    },
    {
      "cell_type": "markdown",
      "metadata": {
        "id": "AOTzNpgvO18i",
        "colab_type": "text"
      },
      "source": [
        "###### 1. dot\n",
        "\n",
        "**matches any single character except new line**"
      ]
    },
    {
      "cell_type": "code",
      "metadata": {
        "id": "-HiZRM_ZPITT",
        "colab_type": "code",
        "colab": {
          "base_uri": "https://localhost:8080/",
          "height": 34
        },
        "outputId": "63be5a29-f576-4c53-fef0-09033700f270"
      },
      "source": [
        "re.findall(r'h.y',text)"
      ],
      "execution_count": 67,
      "outputs": [
        {
          "output_type": "execute_result",
          "data": {
            "text/plain": [
              "['hay', 'hoy']"
            ]
          },
          "metadata": {
            "tags": []
          },
          "execution_count": 67
        }
      ]
    },
    {
      "cell_type": "markdown",
      "metadata": {
        "id": "Dq7GSg-YPF7i",
        "colab_type": "text"
      },
      "source": [
        "###### 2. Anchor(^)\n",
        "\n",
        "**It matches at the start of string**"
      ]
    },
    {
      "cell_type": "code",
      "metadata": {
        "id": "_LueZxGkPmrG",
        "colab_type": "code",
        "colab": {
          "base_uri": "https://localhost:8080/",
          "height": 34
        },
        "outputId": "c5504ceb-1166-4f19-c172-1af80dfbe576"
      },
      "source": [
        "re.findall(r'^L[\\w]+',text)"
      ],
      "execution_count": 68,
      "outputs": [
        {
          "output_type": "execute_result",
          "data": {
            "text/plain": [
              "['La']"
            ]
          },
          "metadata": {
            "tags": []
          },
          "execution_count": 68
        }
      ]
    },
    {
      "cell_type": "code",
      "metadata": {
        "id": "uaIiiDxnPw_6",
        "colab_type": "code",
        "colab": {
          "base_uri": "https://localhost:8080/",
          "height": 35
        },
        "outputId": "30131666-2ea3-4a13-a6b4-30d3b3a7393e"
      },
      "source": [
        "text[0:2]"
      ],
      "execution_count": 69,
      "outputs": [
        {
          "output_type": "execute_result",
          "data": {
            "application/vnd.google.colaboratory.intrinsic+json": {
              "type": "string"
            },
            "text/plain": [
              "'La'"
            ]
          },
          "metadata": {
            "tags": []
          },
          "execution_count": 69
        }
      ]
    },
    {
      "cell_type": "markdown",
      "metadata": {
        "id": "cjiIJZJIP1Vj",
        "colab_type": "text"
      },
      "source": [
        "###### 3. Anchor ($)\n",
        "\n",
        "**It matches at the end of string**"
      ]
    },
    {
      "cell_type": "code",
      "metadata": {
        "id": "cqtkhpj4QFhd",
        "colab_type": "code",
        "colab": {
          "base_uri": "https://localhost:8080/",
          "height": 34
        },
        "outputId": "04c3c0cb-1204-4a40-fc8d-9f82005d7ee5"
      },
      "source": [
        "re.findall(r'[a-z]{3}$',text)"
      ],
      "execution_count": 70,
      "outputs": [
        {
          "output_type": "execute_result",
          "data": {
            "text/plain": [
              "['hoy']"
            ]
          },
          "metadata": {
            "tags": []
          },
          "execution_count": 70
        }
      ]
    },
    {
      "cell_type": "markdown",
      "metadata": {
        "id": "SQ0Zw82LQ9kb",
        "colab_type": "text"
      },
      "source": [
        "###### 4. Repetitions(*)\n",
        "\n",
        "**Matches zero or more repeats**"
      ]
    },
    {
      "cell_type": "code",
      "metadata": {
        "id": "uf1rQCOFRMBr",
        "colab_type": "code",
        "colab": {
          "base_uri": "https://localhost:8080/",
          "height": 34
        },
        "outputId": "2e4eb3c5-8999-4947-ae74-3809da8d5df6"
      },
      "source": [
        "re.findall(r'\\s[\\d]*\\s',text)"
      ],
      "execution_count": 71,
      "outputs": [
        {
          "output_type": "execute_result",
          "data": {
            "text/plain": [
              "[' 209 ', ' 2019 ', '  ', ' 5000 ']"
            ]
          },
          "metadata": {
            "tags": []
          },
          "execution_count": 71
        }
      ]
    },
    {
      "cell_type": "markdown",
      "metadata": {
        "id": "yCEpdU5iRyXg",
        "colab_type": "text"
      },
      "source": [
        "###### 5. Repititions(+)\n",
        "\n",
        "**One or more repeats**"
      ]
    },
    {
      "cell_type": "code",
      "metadata": {
        "id": "dsFbS-j7R7Qb",
        "colab_type": "code",
        "colab": {
          "base_uri": "https://localhost:8080/",
          "height": 34
        },
        "outputId": "7665091c-45eb-4708-b953-b2ae67cc517a"
      },
      "source": [
        "re.findall(r'cov+',text)"
      ],
      "execution_count": 72,
      "outputs": [
        {
          "output_type": "execute_result",
          "data": {
            "text/plain": [
              "['cov', 'cov']"
            ]
          },
          "metadata": {
            "tags": []
          },
          "execution_count": 72
        }
      ]
    },
    {
      "cell_type": "markdown",
      "metadata": {
        "id": "_dmmnWJmR59m",
        "colab_type": "text"
      },
      "source": [
        "###### 6. Any(?)\n",
        "\n",
        "\n",
        "\n",
        "1.   Matches zero or one repetition\n",
        "2.   Specifies the non-greedy versions of *, +, and ?\n",
        "3.   Introduces a lookahead or lookbehind assertion\n",
        "4.   Creates a named group\n"
      ]
    },
    {
      "cell_type": "code",
      "metadata": {
        "id": "afg2o_-RUElZ",
        "colab_type": "code",
        "colab": {
          "base_uri": "https://localhost:8080/",
          "height": 34
        },
        "outputId": "5c24bd1d-e076-4b7e-a8c8-1f40ebaad699"
      },
      "source": [
        "re.findall(r'20[1]?9',text)"
      ],
      "execution_count": 73,
      "outputs": [
        {
          "output_type": "execute_result",
          "data": {
            "text/plain": [
              "['209', '2019']"
            ]
          },
          "metadata": {
            "tags": []
          },
          "execution_count": 73
        }
      ]
    },
    {
      "cell_type": "markdown",
      "metadata": {
        "id": "tXYdSGcUVr0h",
        "colab_type": "text"
      },
      "source": [
        "###### 7. Repeats ({})\n",
        "\n",
        "**Matches an explicitly specified number of repetitions**"
      ]
    },
    {
      "cell_type": "code",
      "metadata": {
        "id": "hKLdYwvxV1vU",
        "colab_type": "code",
        "colab": {
          "base_uri": "https://localhost:8080/",
          "height": 34
        },
        "outputId": "3c850a24-3280-43c2-9191-c41f2fe6c8c9"
      },
      "source": [
        "re.findall(r'[\\d]{3,4}',text)"
      ],
      "execution_count": 74,
      "outputs": [
        {
          "output_type": "execute_result",
          "data": {
            "text/plain": [
              "['209', '2019', '5000']"
            ]
          },
          "metadata": {
            "tags": []
          },
          "execution_count": 74
        }
      ]
    },
    {
      "cell_type": "code",
      "metadata": {
        "id": "1ONkECyYWAAp",
        "colab_type": "code",
        "colab": {
          "base_uri": "https://localhost:8080/",
          "height": 34
        },
        "outputId": "fdb2b570-52c5-4b4a-a367-d641c25601fd"
      },
      "source": [
        "re.findall(r'[\\w]{5}',text)"
      ],
      "execution_count": 75,
      "outputs": [
        {
          "output_type": "execute_result",
          "data": {
            "text/plain": [
              "['india', 'posic', 'covid', 'covri', 'viole', 'pobla']"
            ]
          },
          "metadata": {
            "tags": []
          },
          "execution_count": 75
        }
      ]
    },
    {
      "cell_type": "code",
      "metadata": {
        "id": "h3roiPnBWZry",
        "colab_type": "code",
        "colab": {}
      },
      "source": [
        ""
      ],
      "execution_count": 75,
      "outputs": []
    },
    {
      "cell_type": "markdown",
      "metadata": {
        "id": "1j3hiA7MWf5G",
        "colab_type": "text"
      },
      "source": [
        "###### 8. Metacharacter(\\\\)\n",
        "\n",
        "1. Escapes a metacharacter of its special meaning\n",
        "2. Introduces a special character class\n",
        "3. Introduces a grouping backreference"
      ]
    },
    {
      "cell_type": "code",
      "metadata": {
        "id": "kGefIc2UWnzD",
        "colab_type": "code",
        "colab": {
          "base_uri": "https://localhost:8080/",
          "height": 34
        },
        "outputId": "fb4e2182-cba2-4db2-a358-4329909902d1"
      },
      "source": [
        "re.findall(r'\\s[\\d]{2}',text)"
      ],
      "execution_count": 76,
      "outputs": [
        {
          "output_type": "execute_result",
          "data": {
            "text/plain": [
              "[' 20', ' 20', ' 50']"
            ]
          },
          "metadata": {
            "tags": []
          },
          "execution_count": 76
        }
      ]
    },
    {
      "cell_type": "markdown",
      "metadata": {
        "id": "3k1tQLCfW-zC",
        "colab_type": "text"
      },
      "source": [
        "###### 9. Specifies a character class []\n"
      ]
    },
    {
      "cell_type": "code",
      "metadata": {
        "id": "USt9mVlGXGBt",
        "colab_type": "code",
        "colab": {
          "base_uri": "https://localhost:8080/",
          "height": 34
        },
        "outputId": "33ce5ad8-b082-4cdf-da12-9cb3f75cdb48"
      },
      "source": [
        "re.findall(r'[cov][\\w]+',text)"
      ],
      "execution_count": 77,
      "outputs": [
        {
          "output_type": "execute_result",
          "data": {
            "text/plain": [
              "['osicion', 'covid', 'covriance', 'violencia', 'oblacion', 'oy']"
            ]
          },
          "metadata": {
            "tags": []
          },
          "execution_count": 77
        }
      ]
    },
    {
      "cell_type": "markdown",
      "metadata": {
        "id": "AqM0dY1EXxbR",
        "colab_type": "text"
      },
      "source": [
        "###### 10. Creates a group"
      ]
    },
    {
      "cell_type": "code",
      "metadata": {
        "id": "-GWXe1TIX3_8",
        "colab_type": "code",
        "colab": {
          "base_uri": "https://localhost:8080/",
          "height": 34
        },
        "outputId": "d6233d75-346f-420b-b276-3387d43f4374"
      },
      "source": [
        "re.findall(r'(cov|ho)',text)"
      ],
      "execution_count": 78,
      "outputs": [
        {
          "output_type": "execute_result",
          "data": {
            "text/plain": [
              "['cov', 'cov', 'ho']"
            ]
          },
          "metadata": {
            "tags": []
          },
          "execution_count": 78
        }
      ]
    },
    {
      "cell_type": "markdown",
      "metadata": {
        "id": "wAg3t563YU05",
        "colab_type": "text"
      },
      "source": [
        "### 3. Examples"
      ]
    },
    {
      "cell_type": "code",
      "metadata": {
        "id": "gQ5E00axYYCd",
        "colab_type": "code",
        "colab": {
          "base_uri": "https://localhost:8080/",
          "height": 34
        },
        "outputId": "6b0b9882-97c2-48f5-e065-ee995dcdee63"
      },
      "source": [
        "re.findall(r'cov[aeiou]','covariance')"
      ],
      "execution_count": 23,
      "outputs": [
        {
          "output_type": "execute_result",
          "data": {
            "text/plain": [
              "['cova']"
            ]
          },
          "metadata": {
            "tags": []
          },
          "execution_count": 23
        }
      ]
    },
    {
      "cell_type": "code",
      "metadata": {
        "id": "txTlNd3eYy6r",
        "colab_type": "code",
        "colab": {
          "base_uri": "https://localhost:8080/",
          "height": 34
        },
        "outputId": "2c47aa56-69e7-48dd-ef52-c899a561ca97"
      },
      "source": [
        "re.findall(r'[0-9a-fA-F]','10 A B C X')"
      ],
      "execution_count": 24,
      "outputs": [
        {
          "output_type": "execute_result",
          "data": {
            "text/plain": [
              "['1', '0', 'A', 'B', 'C']"
            ]
          },
          "metadata": {
            "tags": []
          },
          "execution_count": 24
        }
      ]
    },
    {
      "cell_type": "code",
      "metadata": {
        "id": "ORwCP4PuZgaD",
        "colab_type": "code",
        "colab": {
          "base_uri": "https://localhost:8080/",
          "height": 34
        },
        "outputId": "7ab60805-ccea-4501-87fe-f6f926b74f40"
      },
      "source": [
        "re.findall('[^0-9]','2020como')"
      ],
      "execution_count": 25,
      "outputs": [
        {
          "output_type": "execute_result",
          "data": {
            "text/plain": [
              "['c', 'o', 'm', 'o']"
            ]
          },
          "metadata": {
            "tags": []
          },
          "execution_count": 25
        }
      ]
    },
    {
      "cell_type": "code",
      "metadata": {
        "id": "o3SJ9rvxaKdn",
        "colab_type": "code",
        "colab": {
          "base_uri": "https://localhost:8080/",
          "height": 34
        },
        "outputId": "594fdd67-c53d-4085-9c48-3a6d66319394"
      },
      "source": [
        "re.findall(r'[\\-123]','mall-123')"
      ],
      "execution_count": 26,
      "outputs": [
        {
          "output_type": "execute_result",
          "data": {
            "text/plain": [
              "['-', '1', '2', '3']"
            ]
          },
          "metadata": {
            "tags": []
          },
          "execution_count": 26
        }
      ]
    },
    {
      "cell_type": "code",
      "metadata": {
        "id": "hm5Uu4pSdpV3",
        "colab_type": "code",
        "colab": {
          "base_uri": "https://localhost:8080/",
          "height": 34
        },
        "outputId": "8fc71e03-945f-4dfd-9ab4-ac277ee2080f"
      },
      "source": [
        "re.search(r'[\\-c]','ma-c')"
      ],
      "execution_count": 27,
      "outputs": [
        {
          "output_type": "execute_result",
          "data": {
            "text/plain": [
              "<_sre.SRE_Match object; span=(2, 3), match='-'>"
            ]
          },
          "metadata": {
            "tags": []
          },
          "execution_count": 27
        }
      ]
    },
    {
      "cell_type": "code",
      "metadata": {
        "id": "xpkqNGahd-K2",
        "colab_type": "code",
        "colab": {
          "base_uri": "https://localhost:8080/",
          "height": 34
        },
        "outputId": "37a5e19f-ae95-43c0-c06e-7138523c1d04"
      },
      "source": [
        "re.findall(r'123\\]','mallesh 123]')"
      ],
      "execution_count": 28,
      "outputs": [
        {
          "output_type": "execute_result",
          "data": {
            "text/plain": [
              "['123]']"
            ]
          },
          "metadata": {
            "tags": []
          },
          "execution_count": 28
        }
      ]
    },
    {
      "cell_type": "code",
      "metadata": {
        "id": "xEYdIbhHeQ4o",
        "colab_type": "code",
        "colab": {
          "base_uri": "https://localhost:8080/",
          "height": 34
        },
        "outputId": "956f078b-d9a8-4dfa-b529-e9ca46f3ea6a"
      },
      "source": [
        "re.findall(r'h.y','hoy o hay')"
      ],
      "execution_count": 29,
      "outputs": [
        {
          "output_type": "execute_result",
          "data": {
            "text/plain": [
              "['hoy', 'hay']"
            ]
          },
          "metadata": {
            "tags": []
          },
          "execution_count": 29
        }
      ]
    },
    {
      "cell_type": "code",
      "metadata": {
        "id": "RqtMS49AelWt",
        "colab_type": "code",
        "colab": {
          "base_uri": "https://localhost:8080/",
          "height": 34
        },
        "outputId": "396098a2-b83e-40dc-b724-933e6d8d03cb"
      },
      "source": [
        "re.findall(r'h.y','h\\ny')"
      ],
      "execution_count": 30,
      "outputs": [
        {
          "output_type": "execute_result",
          "data": {
            "text/plain": [
              "[]"
            ]
          },
          "metadata": {
            "tags": []
          },
          "execution_count": 30
        }
      ]
    },
    {
      "cell_type": "code",
      "metadata": {
        "id": "kvW4zOVnexba",
        "colab_type": "code",
        "colab": {
          "base_uri": "https://localhost:8080/",
          "height": 34
        },
        "outputId": "75429ff4-ce50-4fbc-ba7c-ccab691aed90"
      },
      "source": [
        "re.search(r'[\\w]','$%@#a*&')"
      ],
      "execution_count": 31,
      "outputs": [
        {
          "output_type": "execute_result",
          "data": {
            "text/plain": [
              "<_sre.SRE_Match object; span=(4, 5), match='a'>"
            ]
          },
          "metadata": {
            "tags": []
          },
          "execution_count": 31
        }
      ]
    },
    {
      "cell_type": "code",
      "metadata": {
        "id": "nWFOxoizfUNm",
        "colab_type": "code",
        "colab": {
          "base_uri": "https://localhost:8080/",
          "height": 34
        },
        "outputId": "03c5100e-7588-4e65-c56a-6fa04e0abd2a"
      },
      "source": [
        "re.search(r'[\\W]','$%@#a*&')"
      ],
      "execution_count": 32,
      "outputs": [
        {
          "output_type": "execute_result",
          "data": {
            "text/plain": [
              "<_sre.SRE_Match object; span=(0, 1), match='$'>"
            ]
          },
          "metadata": {
            "tags": []
          },
          "execution_count": 32
        }
      ]
    },
    {
      "cell_type": "code",
      "metadata": {
        "id": "7TsAyuL-fXzE",
        "colab_type": "code",
        "colab": {
          "base_uri": "https://localhost:8080/",
          "height": 34
        },
        "outputId": "5144ca6f-14c2-4797-8456-a6cfa0f84eb5"
      },
      "source": [
        "re.findall(r'[\\W]','$%@#a*&')"
      ],
      "execution_count": 33,
      "outputs": [
        {
          "output_type": "execute_result",
          "data": {
            "text/plain": [
              "['$', '%', '@', '#', '*', '&']"
            ]
          },
          "metadata": {
            "tags": []
          },
          "execution_count": 33
        }
      ]
    },
    {
      "cell_type": "code",
      "metadata": {
        "id": "twcAliyZffUe",
        "colab_type": "code",
        "colab": {
          "base_uri": "https://localhost:8080/",
          "height": 34
        },
        "outputId": "993d529c-0c21-4ad4-ffe7-85f15dc6873f"
      },
      "source": [
        "re.findall(r'\\d{3}',text)"
      ],
      "execution_count": 34,
      "outputs": [
        {
          "output_type": "execute_result",
          "data": {
            "text/plain": [
              "['209', '201', '500']"
            ]
          },
          "metadata": {
            "tags": []
          },
          "execution_count": 34
        }
      ]
    },
    {
      "cell_type": "code",
      "metadata": {
        "id": "hNmctXByfyTD",
        "colab_type": "code",
        "colab": {
          "base_uri": "https://localhost:8080/",
          "height": 34
        },
        "outputId": "1f818301-cae4-4b62-a0b2-ff306ce4e877"
      },
      "source": [
        "re.search(r'\\D{2}','20 viente')"
      ],
      "execution_count": 35,
      "outputs": [
        {
          "output_type": "execute_result",
          "data": {
            "text/plain": [
              "<_sre.SRE_Match object; span=(2, 4), match=' v'>"
            ]
          },
          "metadata": {
            "tags": []
          },
          "execution_count": 35
        }
      ]
    },
    {
      "cell_type": "code",
      "metadata": {
        "id": "DC4mE_Oof8vn",
        "colab_type": "code",
        "colab": {
          "base_uri": "https://localhost:8080/",
          "height": 34
        },
        "outputId": "545c140e-197b-4664-849a-7b1f7e53b8c7"
      },
      "source": [
        "re.findall(r'\\s{2}','espanol como')"
      ],
      "execution_count": 36,
      "outputs": [
        {
          "output_type": "execute_result",
          "data": {
            "text/plain": [
              "[]"
            ]
          },
          "metadata": {
            "tags": []
          },
          "execution_count": 36
        }
      ]
    },
    {
      "cell_type": "code",
      "metadata": {
        "id": "9_QTGDWAgtA-",
        "colab_type": "code",
        "colab": {
          "base_uri": "https://localhost:8080/",
          "height": 34
        },
        "outputId": "2742f7a6-061c-4bb4-d823-64dc07b09407"
      },
      "source": [
        "re.findall(r'h\\.y','h.y')"
      ],
      "execution_count": 37,
      "outputs": [
        {
          "output_type": "execute_result",
          "data": {
            "text/plain": [
              "['h.y']"
            ]
          },
          "metadata": {
            "tags": []
          },
          "execution_count": 37
        }
      ]
    },
    {
      "cell_type": "code",
      "metadata": {
        "id": "CgBbg-oykI7o",
        "colab_type": "code",
        "colab": {
          "base_uri": "https://localhost:8080/",
          "height": 34
        },
        "outputId": "af0c1adf-a19b-49cd-c34d-7822f9fdbff6"
      },
      "source": [
        "re.search(r'word\\b','do you have words to speak word')"
      ],
      "execution_count": 38,
      "outputs": [
        {
          "output_type": "execute_result",
          "data": {
            "text/plain": [
              "<_sre.SRE_Match object; span=(27, 31), match='word'>"
            ]
          },
          "metadata": {
            "tags": []
          },
          "execution_count": 38
        }
      ]
    },
    {
      "cell_type": "code",
      "metadata": {
        "id": "38U1mxFykXmo",
        "colab_type": "code",
        "colab": {
          "base_uri": "https://localhost:8080/",
          "height": 34
        },
        "outputId": "c7d746a1-7c0f-4776-bbe4-246d032d1fdb"
      },
      "source": [
        "re.findall(r'word\\b','do you have word to speak words')"
      ],
      "execution_count": 39,
      "outputs": [
        {
          "output_type": "execute_result",
          "data": {
            "text/plain": [
              "['word']"
            ]
          },
          "metadata": {
            "tags": []
          },
          "execution_count": 39
        }
      ]
    },
    {
      "cell_type": "code",
      "metadata": {
        "id": "IqNSp1k9kuKu",
        "colab_type": "code",
        "colab": {
          "base_uri": "https://localhost:8080/",
          "height": 34
        },
        "outputId": "7c64f4b9-52bc-445c-affa-2ee110eed8d5"
      },
      "source": [
        "re.findall(r'\\bword\\b','do you have word to speak words')"
      ],
      "execution_count": 40,
      "outputs": [
        {
          "output_type": "execute_result",
          "data": {
            "text/plain": [
              "['word']"
            ]
          },
          "metadata": {
            "tags": []
          },
          "execution_count": 40
        }
      ]
    },
    {
      "cell_type": "code",
      "metadata": {
        "id": "2oEaM-0klJCA",
        "colab_type": "code",
        "colab": {
          "base_uri": "https://localhost:8080/",
          "height": 34
        },
        "outputId": "3817c5a3-0107-4980-cfc0-0ebf46f24ebe"
      },
      "source": [
        "re.search(r'\\Bzip\\B','EEzipRR')"
      ],
      "execution_count": 41,
      "outputs": [
        {
          "output_type": "execute_result",
          "data": {
            "text/plain": [
              "<_sre.SRE_Match object; span=(2, 5), match='zip'>"
            ]
          },
          "metadata": {
            "tags": []
          },
          "execution_count": 41
        }
      ]
    },
    {
      "cell_type": "code",
      "metadata": {
        "id": "WjUkzjaLm9Ad",
        "colab_type": "code",
        "colab": {
          "base_uri": "https://localhost:8080/",
          "height": 34
        },
        "outputId": "d3a4715d-5da6-4c75-d995-22b875330958"
      },
      "source": [
        "re.search(r'(yup)*','yup yup hurr')"
      ],
      "execution_count": 42,
      "outputs": [
        {
          "output_type": "execute_result",
          "data": {
            "text/plain": [
              "<_sre.SRE_Match object; span=(0, 3), match='yup'>"
            ]
          },
          "metadata": {
            "tags": []
          },
          "execution_count": 42
        }
      ]
    },
    {
      "cell_type": "code",
      "metadata": {
        "id": "C_AynbGMnci6",
        "colab_type": "code",
        "colab": {
          "base_uri": "https://localhost:8080/",
          "height": 34
        },
        "outputId": "56a787b2-b3b2-49c3-8b16-d467cfa2d2b8"
      },
      "source": [
        "re.search(r'[0-9]-*[0-9]','2-3')"
      ],
      "execution_count": 43,
      "outputs": [
        {
          "output_type": "execute_result",
          "data": {
            "text/plain": [
              "<_sre.SRE_Match object; span=(0, 3), match='2-3'>"
            ]
          },
          "metadata": {
            "tags": []
          },
          "execution_count": 43
        }
      ]
    },
    {
      "cell_type": "code",
      "metadata": {
        "id": "VyPTOB0MoY1l",
        "colab_type": "code",
        "colab": {
          "base_uri": "https://localhost:8080/",
          "height": 34
        },
        "outputId": "b2e53950-db74-40b9-9c94-b365692f9918"
      },
      "source": [
        "re.search('foo\\.*bar', 'foo.bar')"
      ],
      "execution_count": 44,
      "outputs": [
        {
          "output_type": "execute_result",
          "data": {
            "text/plain": [
              "<_sre.SRE_Match object; span=(0, 7), match='foo.bar'>"
            ]
          },
          "metadata": {
            "tags": []
          },
          "execution_count": 44
        }
      ]
    },
    {
      "cell_type": "code",
      "metadata": {
        "id": "PwWxfdLrobOr",
        "colab_type": "code",
        "colab": {
          "base_uri": "https://localhost:8080/",
          "height": 34
        },
        "outputId": "a2617bbe-3df1-438c-f7f3-01f2ebaf9ec9"
      },
      "source": [
        "re.search('foo\\.?bar','foo.bar')"
      ],
      "execution_count": 45,
      "outputs": [
        {
          "output_type": "execute_result",
          "data": {
            "text/plain": [
              "<_sre.SRE_Match object; span=(0, 7), match='foo.bar'>"
            ]
          },
          "metadata": {
            "tags": []
          },
          "execution_count": 45
        }
      ]
    },
    {
      "cell_type": "code",
      "metadata": {
        "id": "-crMOQeWrlmR",
        "colab_type": "code",
        "colab": {
          "base_uri": "https://localhost:8080/",
          "height": 34
        },
        "outputId": "924a258b-2a46-478a-a414-a0a8f3ea951f"
      },
      "source": [
        "re.search('a{3,5}?', 'aaaaaaaa')"
      ],
      "execution_count": 46,
      "outputs": [
        {
          "output_type": "execute_result",
          "data": {
            "text/plain": [
              "<_sre.SRE_Match object; span=(0, 3), match='aaa'>"
            ]
          },
          "metadata": {
            "tags": []
          },
          "execution_count": 46
        }
      ]
    },
    {
      "cell_type": "code",
      "metadata": {
        "id": "FsJgCMVDs3Ci",
        "colab_type": "code",
        "colab": {
          "base_uri": "https://localhost:8080/",
          "height": 34
        },
        "outputId": "8e62eece-c1a5-428d-fdc4-61b01d488aba"
      },
      "source": [
        "re.findall('a{3,5}?','aaaaaaaa')"
      ],
      "execution_count": 47,
      "outputs": [
        {
          "output_type": "execute_result",
          "data": {
            "text/plain": [
              "['aaa', 'aaa']"
            ]
          },
          "metadata": {
            "tags": []
          },
          "execution_count": 47
        }
      ]
    },
    {
      "cell_type": "code",
      "metadata": {
        "id": "SgUXjJi7tAoF",
        "colab_type": "code",
        "colab": {
          "base_uri": "https://localhost:8080/",
          "height": 34
        },
        "outputId": "39d88a6b-3c5d-4758-f718-f735283b8c6e"
      },
      "source": [
        "re.findall(r'(covid)+','covid covid 2019 es una pandemica')"
      ],
      "execution_count": 48,
      "outputs": [
        {
          "output_type": "execute_result",
          "data": {
            "text/plain": [
              "['covid', 'covid']"
            ]
          },
          "metadata": {
            "tags": []
          },
          "execution_count": 48
        }
      ]
    },
    {
      "cell_type": "code",
      "metadata": {
        "id": "-LXdkkSptrEM",
        "colab_type": "code",
        "colab": {
          "base_uri": "https://localhost:8080/",
          "height": 34
        },
        "outputId": "1a83d90a-c218-4e9e-a3f0-ef275b3d5285"
      },
      "source": [
        "re.findall(r'covid','covid covid 2019 es una pandemica')"
      ],
      "execution_count": 49,
      "outputs": [
        {
          "output_type": "execute_result",
          "data": {
            "text/plain": [
              "['covid', 'covid']"
            ]
          },
          "metadata": {
            "tags": []
          },
          "execution_count": 49
        }
      ]
    },
    {
      "cell_type": "code",
      "metadata": {
        "id": "rUP1hHbpt8K9",
        "colab_type": "code",
        "colab": {
          "base_uri": "https://localhost:8080/",
          "height": 34
        },
        "outputId": "085352af-b08e-45ba-b1e6-ac0ab0d37c54"
      },
      "source": [
        "re.findall(r'cov+','covvvvvvvvriance')"
      ],
      "execution_count": 50,
      "outputs": [
        {
          "output_type": "execute_result",
          "data": {
            "text/plain": [
              "['covvvvvvvv']"
            ]
          },
          "metadata": {
            "tags": []
          },
          "execution_count": 50
        }
      ]
    },
    {
      "cell_type": "code",
      "metadata": {
        "id": "svoZ1_MguFCy",
        "colab_type": "code",
        "colab": {
          "base_uri": "https://localhost:8080/",
          "height": 34
        },
        "outputId": "714939c1-53f9-4aed-845b-214bd94fa1fe"
      },
      "source": [
        "re.findall(r'(cov)+','covcovcov')"
      ],
      "execution_count": 51,
      "outputs": [
        {
          "output_type": "execute_result",
          "data": {
            "text/plain": [
              "['cov']"
            ]
          },
          "metadata": {
            "tags": []
          },
          "execution_count": 51
        }
      ]
    },
    {
      "cell_type": "code",
      "metadata": {
        "id": "f8N2HQpZujJw",
        "colab_type": "code",
        "colab": {
          "base_uri": "https://localhost:8080/",
          "height": 34
        },
        "outputId": "b813c11a-5dda-492e-e252-fa1c8bc1dd98"
      },
      "source": [
        "re.search(r'foo(bar)?','foo')"
      ],
      "execution_count": 52,
      "outputs": [
        {
          "output_type": "execute_result",
          "data": {
            "text/plain": [
              "<_sre.SRE_Match object; span=(0, 3), match='foo'>"
            ]
          },
          "metadata": {
            "tags": []
          },
          "execution_count": 52
        }
      ]
    },
    {
      "cell_type": "code",
      "metadata": {
        "id": "2vuG1Klvunqs",
        "colab_type": "code",
        "colab": {
          "base_uri": "https://localhost:8080/",
          "height": 34
        },
        "outputId": "2e0a8cd1-057b-4728-b707-4e2f2b95f4af"
      },
      "source": [
        "re.search(r'(foo(bar)?)+','foofoobarbarfoobarfoobar')"
      ],
      "execution_count": 53,
      "outputs": [
        {
          "output_type": "execute_result",
          "data": {
            "text/plain": [
              "<_sre.SRE_Match object; span=(0, 9), match='foofoobar'>"
            ]
          },
          "metadata": {
            "tags": []
          },
          "execution_count": 53
        }
      ]
    },
    {
      "cell_type": "code",
      "metadata": {
        "id": "CjYfETYvvIqj",
        "colab_type": "code",
        "colab": {
          "base_uri": "https://localhost:8080/",
          "height": 34
        },
        "outputId": "96b2431d-03e5-476c-8ffa-1d83b9c75f6b"
      },
      "source": [
        "re.findall(r'(\\d\\d\\d)?','23')"
      ],
      "execution_count": 54,
      "outputs": [
        {
          "output_type": "execute_result",
          "data": {
            "text/plain": [
              "['', '', '']"
            ]
          },
          "metadata": {
            "tags": []
          },
          "execution_count": 54
        }
      ]
    },
    {
      "cell_type": "code",
      "metadata": {
        "id": "UMMSrmkiwZzI",
        "colab_type": "code",
        "colab": {}
      },
      "source": [
        "regex = r'(\\w+),(\\d+),\\2'"
      ],
      "execution_count": 55,
      "outputs": []
    },
    {
      "cell_type": "code",
      "metadata": {
        "id": "2cLLHCgLwbzq",
        "colab_type": "code",
        "colab": {}
      },
      "source": [
        "m = re.search(regex,'foo,1,1,foo')"
      ],
      "execution_count": 56,
      "outputs": []
    },
    {
      "cell_type": "markdown",
      "metadata": {
        "id": "pB84vpGg0cFB",
        "colab_type": "text"
      },
      "source": [
        "### 5. Lookahead and Lookbehinds"
      ]
    },
    {
      "cell_type": "code",
      "metadata": {
        "id": "D8znbg4n0gI8",
        "colab_type": "code",
        "colab": {}
      },
      "source": [
        "# look aheads\n",
        "rgx_positive_ahead = r'espanol(?=[\\#]{2})'\n",
        "rgx_negative_ahead = r'espanol(?![\\#]{2})'"
      ],
      "execution_count": 57,
      "outputs": []
    },
    {
      "cell_type": "code",
      "metadata": {
        "id": "qL2p5U2Q0o4s",
        "colab_type": "code",
        "colab": {
          "base_uri": "https://localhost:8080/",
          "height": 34
        },
        "outputId": "f839e569-5f79-4958-f1ba-e36feef01a0d"
      },
      "source": [
        "re.search(rgx_positive_ahead,'espanol##')"
      ],
      "execution_count": 58,
      "outputs": [
        {
          "output_type": "execute_result",
          "data": {
            "text/plain": [
              "<_sre.SRE_Match object; span=(0, 7), match='espanol'>"
            ]
          },
          "metadata": {
            "tags": []
          },
          "execution_count": 58
        }
      ]
    },
    {
      "cell_type": "code",
      "metadata": {
        "id": "GUn9NuUm02oF",
        "colab_type": "code",
        "colab": {
          "base_uri": "https://localhost:8080/",
          "height": 34
        },
        "outputId": "f045c663-1626-433c-b707-a798eff63393"
      },
      "source": [
        "re.search(rgx_negative_ahead,'espanol')"
      ],
      "execution_count": 59,
      "outputs": [
        {
          "output_type": "execute_result",
          "data": {
            "text/plain": [
              "<_sre.SRE_Match object; span=(0, 7), match='espanol'>"
            ]
          },
          "metadata": {
            "tags": []
          },
          "execution_count": 59
        }
      ]
    },
    {
      "cell_type": "code",
      "metadata": {
        "id": "2fl_H0gT1XAw",
        "colab_type": "code",
        "colab": {}
      },
      "source": [
        "# look behinds\n",
        "rgx_positive_behind = r'(?<=[\\#])[\\w]+'\n",
        "rgx_negative_behind = r'(?<![\\#]{1})\\d+'"
      ],
      "execution_count": 60,
      "outputs": []
    },
    {
      "cell_type": "code",
      "metadata": {
        "id": "H1SF02ri1ykh",
        "colab_type": "code",
        "colab": {
          "base_uri": "https://localhost:8080/",
          "height": 34
        },
        "outputId": "906fd1cd-3fec-489d-91ec-eaba0a7073ff"
      },
      "source": [
        "re.search(rgx_positive_behind,'#myamulla')"
      ],
      "execution_count": 61,
      "outputs": [
        {
          "output_type": "execute_result",
          "data": {
            "text/plain": [
              "<_sre.SRE_Match object; span=(1, 9), match='myamulla'>"
            ]
          },
          "metadata": {
            "tags": []
          },
          "execution_count": 61
        }
      ]
    },
    {
      "cell_type": "code",
      "metadata": {
        "id": "pbWd65XN146A",
        "colab_type": "code",
        "colab": {
          "base_uri": "https://localhost:8080/",
          "height": 34
        },
        "outputId": "de55a673-90f3-421b-b86a-994f06ba6ebe"
      },
      "source": [
        "re.findall(rgx_negative_behind,'####4#4#5#95')"
      ],
      "execution_count": 62,
      "outputs": [
        {
          "output_type": "execute_result",
          "data": {
            "text/plain": [
              "['5']"
            ]
          },
          "metadata": {
            "tags": []
          },
          "execution_count": 62
        }
      ]
    },
    {
      "cell_type": "code",
      "metadata": {
        "id": "3RddUVWx27mC",
        "colab_type": "code",
        "colab": {
          "base_uri": "https://localhost:8080/",
          "height": 34
        },
        "outputId": "564da814-e695-440a-a947-2975b6903922"
      },
      "source": [
        "# pos ahead\n",
        "re.search(r'espanol(?=spanish)','espanolspanish')"
      ],
      "execution_count": 63,
      "outputs": [
        {
          "output_type": "execute_result",
          "data": {
            "text/plain": [
              "<_sre.SRE_Match object; span=(0, 7), match='espanol'>"
            ]
          },
          "metadata": {
            "tags": []
          },
          "execution_count": 63
        }
      ]
    },
    {
      "cell_type": "code",
      "metadata": {
        "id": "MQPPDAMc3FRD",
        "colab_type": "code",
        "colab": {
          "base_uri": "https://localhost:8080/",
          "height": 34
        },
        "outputId": "96511dc2-7146-4908-f90f-595d8bca793b"
      },
      "source": [
        "# neg ahead\n",
        "re.search(r'espanol(?!english)','espanolspanish')"
      ],
      "execution_count": 64,
      "outputs": [
        {
          "output_type": "execute_result",
          "data": {
            "text/plain": [
              "<_sre.SRE_Match object; span=(0, 7), match='espanol'>"
            ]
          },
          "metadata": {
            "tags": []
          },
          "execution_count": 64
        }
      ]
    },
    {
      "cell_type": "code",
      "metadata": {
        "id": "vFKj0UJQ30vu",
        "colab_type": "code",
        "colab": {
          "base_uri": "https://localhost:8080/",
          "height": 34
        },
        "outputId": "181ad6c5-2424-4dfa-8b06-b4009c1db0b8"
      },
      "source": [
        "# pos behind\n",
        "re.search(r'(?<=Mr\\.)[\\w]+','Mr.Mallesham')"
      ],
      "execution_count": 65,
      "outputs": [
        {
          "output_type": "execute_result",
          "data": {
            "text/plain": [
              "<_sre.SRE_Match object; span=(3, 12), match='Mallesham'>"
            ]
          },
          "metadata": {
            "tags": []
          },
          "execution_count": 65
        }
      ]
    },
    {
      "cell_type": "code",
      "metadata": {
        "id": "3ygHgPIM4Nbr",
        "colab_type": "code",
        "colab": {
          "base_uri": "https://localhost:8080/",
          "height": 34
        },
        "outputId": "cce5f417-5717-4d55-9dc0-61bf22109ec7"
      },
      "source": [
        "# neg behind\n",
        "re.search('(?<!Sr\\.)bar', 'Srta.bar')"
      ],
      "execution_count": 66,
      "outputs": [
        {
          "output_type": "execute_result",
          "data": {
            "text/plain": [
              "<_sre.SRE_Match object; span=(5, 8), match='bar'>"
            ]
          },
          "metadata": {
            "tags": []
          },
          "execution_count": 66
        }
      ]
    }
  ]
}