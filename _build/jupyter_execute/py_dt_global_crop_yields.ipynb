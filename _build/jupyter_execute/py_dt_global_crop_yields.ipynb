{
 "cells": [
  {
   "cell_type": "markdown",
   "metadata": {},
   "source": [
    "# Py : Tidy data analysis - Global Crop Yields"
   ]
  },
  {
   "cell_type": "markdown",
   "metadata": {},
   "source": [
    "**Introduction** :\n",
    "\n",
    "Our data on agricultural yields across crop types and by country are much more extensive from 1960 onwards. The UN Food and Agricultural Organization (FAO) publish yield estimates across a range of crop commodities by country over this period. The FAO report yield values as the national average for any given year; this is calculated by diving total crop output (in kilograms or tonnes) by the area of land used to grow a given crop (in hectares). There are likely to be certain regional and seasonal differences in yield within a given country, however, reported average yields still provide a useful indication of changes in productivity over time and geographical region."
   ]
  },
  {
   "cell_type": "code",
   "execution_count": 1,
   "metadata": {},
   "outputs": [
    {
     "data": {
      "text/html": [
       "<style type='text/css'>\n",
       ".datatable table.frame { margin-bottom: 0; }\n",
       ".datatable table.frame thead { border-bottom: none; }\n",
       ".datatable table.frame tr.coltypes td {  color: #FFFFFF;  line-height: 6px;  padding: 0 0.5em;}\n",
       ".datatable .boolean { background: #DDDD99; }\n",
       ".datatable .object  { background: #565656; }\n",
       ".datatable .integer { background: #5D9E5D; }\n",
       ".datatable .float   { background: #4040CC; }\n",
       ".datatable .string  { background: #CC4040; }\n",
       ".datatable .row_index {  background: var(--jp-border-color3);  border-right: 1px solid var(--jp-border-color0);  color: var(--jp-ui-font-color3);  font-size: 9px;}\n",
       ".datatable .frame tr.coltypes .row_index {  background: var(--jp-border-color0);}\n",
       ".datatable th:nth-child(2) { padding-left: 12px; }\n",
       ".datatable .hellipsis {  color: var(--jp-cell-editor-border-color);}\n",
       ".datatable .vellipsis {  background: var(--jp-layout-color0);  color: var(--jp-cell-editor-border-color);}\n",
       ".datatable .na {  color: var(--jp-cell-editor-border-color);  font-size: 80%;}\n",
       ".datatable .footer { font-size: 9px; }\n",
       ".datatable .frame_dimensions {  background: var(--jp-border-color3);  border-top: 1px solid var(--jp-border-color0);  color: var(--jp-ui-font-color3);  display: inline-block;  opacity: 0.6;  padding: 1px 10px 1px 5px;}\n",
       "</style>\n"
      ],
      "text/plain": [
       "<IPython.core.display.HTML object>"
      ]
     },
     "metadata": {},
     "output_type": "display_data"
    }
   ],
   "source": [
    "# Importing libraries\n",
    "import datatable as dt\n",
    "import pandas as pd\n",
    "import altair as alt\n",
    "from datatable import f,by,count,update,sort,join\n",
    "import re\n",
    "from itertools import repeat\n",
    "from itertools import chain"
   ]
  },
  {
   "cell_type": "code",
   "execution_count": 2,
   "metadata": {},
   "outputs": [
    {
     "data": {
      "text/html": [
       "<style type='text/css'>\n",
       ".datatable table.frame { margin-bottom: 0; }\n",
       ".datatable table.frame thead { border-bottom: none; }\n",
       ".datatable table.frame tr.coltypes td {  color: #FFFFFF;  line-height: 6px;  padding: 0 0.5em;}\n",
       ".datatable .boolean { background: #DDDD99; }\n",
       ".datatable .object  { background: #565656; }\n",
       ".datatable .integer { background: #5D9E5D; }\n",
       ".datatable .float   { background: #4040CC; }\n",
       ".datatable .string  { background: #CC4040; }\n",
       ".datatable .row_index {  background: var(--jp-border-color3);  border-right: 1px solid var(--jp-border-color0);  color: var(--jp-ui-font-color3);  font-size: 9px;}\n",
       ".datatable .frame tr.coltypes .row_index {  background: var(--jp-border-color0);}\n",
       ".datatable th:nth-child(2) { padding-left: 12px; }\n",
       ".datatable .hellipsis {  color: var(--jp-cell-editor-border-color);}\n",
       ".datatable .vellipsis {  background: var(--jp-layout-color0);  color: var(--jp-cell-editor-border-color);}\n",
       ".datatable .na {  color: var(--jp-cell-editor-border-color);  font-size: 80%;}\n",
       ".datatable .footer { font-size: 9px; }\n",
       ".datatable .frame_dimensions {  background: var(--jp-border-color3);  border-top: 1px solid var(--jp-border-color0);  color: var(--jp-ui-font-color3);  display: inline-block;  opacity: 0.6;  padding: 1px 10px 1px 5px;}\n",
       "</style>\n"
      ],
      "text/plain": [
       "<IPython.core.display.HTML object>"
      ]
     },
     "metadata": {},
     "output_type": "display_data"
    }
   ],
   "source": [
    "# Datatable options are set to display limit number of rows and datatable frame columns colors are maintained\n",
    "dt.init_styles()\n",
    "dt.options.display.head_nrows=4\n",
    "dt.options.display.tail_nrows=4"
   ]
  },
  {
   "cell_type": "code",
   "execution_count": 3,
   "metadata": {},
   "outputs": [],
   "source": [
    "crop_yields_global_dt = dt.fread('https://raw.githubusercontent.com/rfordatascience/tidytuesday/master/data/2020/2020-09-01/key_crop_yields.csv')"
   ]
  },
  {
   "cell_type": "code",
   "execution_count": 4,
   "metadata": {},
   "outputs": [],
   "source": [
    "crop_fields = crop_yields_global_dt.names"
   ]
  },
  {
   "cell_type": "code",
   "execution_count": 5,
   "metadata": {},
   "outputs": [],
   "source": [
    "crop_fields_clean = [re.sub('\\s{1,}\\([\\w\\s]+\\)','',col).lower() for col in crop_fields ]"
   ]
  },
  {
   "cell_type": "code",
   "execution_count": 6,
   "metadata": {},
   "outputs": [],
   "source": [
    "crop_fields_clean_1 = [ re.sub('\\s','_',col) for col in crop_fields_clean ]"
   ]
  },
  {
   "cell_type": "code",
   "execution_count": 7,
   "metadata": {},
   "outputs": [],
   "source": [
    "crop_yields_global_dt.names = crop_fields_clean_1"
   ]
  },
  {
   "cell_type": "code",
   "execution_count": 8,
   "metadata": {},
   "outputs": [
    {
     "data": {
      "text/html": [
       "<div class='datatable'>\n",
       "  <table class='frame'>\n",
       "  <thead>\n",
       "    <tr class='colnames'><td class='row_index'></td><th>entity</th><th>code</th><th>year</th><th>wheat</th><th>rice</th><th>maize</th><th>soybeans</th><th>potatoes</th><th>beans</th><th>peas</th><th>cassava</th><th>barley</th><th>cocoa_beans</th><th>bananas</th></tr>\n",
       "    <tr class='coltypes'><td class='row_index'></td><td class='string' title='str32'>&#x25AA;&#x25AA;&#x25AA;&#x25AA;</td><td class='string' title='str32'>&#x25AA;&#x25AA;&#x25AA;&#x25AA;</td><td class='integer' title='int32'>&#x25AA;&#x25AA;&#x25AA;&#x25AA;</td><td class='float' title='float64'>&#x25AA;&#x25AA;&#x25AA;&#x25AA;&#x25AA;&#x25AA;&#x25AA;&#x25AA;</td><td class='float' title='float64'>&#x25AA;&#x25AA;&#x25AA;&#x25AA;&#x25AA;&#x25AA;&#x25AA;&#x25AA;</td><td class='float' title='float64'>&#x25AA;&#x25AA;&#x25AA;&#x25AA;&#x25AA;&#x25AA;&#x25AA;&#x25AA;</td><td class='float' title='float64'>&#x25AA;&#x25AA;&#x25AA;&#x25AA;&#x25AA;&#x25AA;&#x25AA;&#x25AA;</td><td class='float' title='float64'>&#x25AA;&#x25AA;&#x25AA;&#x25AA;&#x25AA;&#x25AA;&#x25AA;&#x25AA;</td><td class='float' title='float64'>&#x25AA;&#x25AA;&#x25AA;&#x25AA;&#x25AA;&#x25AA;&#x25AA;&#x25AA;</td><td class='float' title='float64'>&#x25AA;&#x25AA;&#x25AA;&#x25AA;&#x25AA;&#x25AA;&#x25AA;&#x25AA;</td><td class='float' title='float64'>&#x25AA;&#x25AA;&#x25AA;&#x25AA;&#x25AA;&#x25AA;&#x25AA;&#x25AA;</td><td class='float' title='float64'>&#x25AA;&#x25AA;&#x25AA;&#x25AA;&#x25AA;&#x25AA;&#x25AA;&#x25AA;</td><td class='float' title='float64'>&#x25AA;&#x25AA;&#x25AA;&#x25AA;&#x25AA;&#x25AA;&#x25AA;&#x25AA;</td><td class='float' title='float64'>&#x25AA;&#x25AA;&#x25AA;&#x25AA;&#x25AA;&#x25AA;&#x25AA;&#x25AA;</td></tr>\n",
       "  </thead>\n",
       "  <tbody>\n",
       "    <tr><td class='row_index'>0</td><td>Afghanistan</td><td>AFG</td><td>1961</td><td>1.022</td><td>1.519</td><td>1.4</td><td><span class=na>NA</span></td><td>8.6667</td><td><span class=na>NA</span></td><td><span class=na>NA</span></td><td><span class=na>NA</span></td><td>1.08</td><td><span class=na>NA</span></td><td><span class=na>NA</span></td></tr>\n",
       "    <tr><td class='row_index'>1</td><td>Afghanistan</td><td>AFG</td><td>1962</td><td>0.9735</td><td>1.519</td><td>1.4</td><td><span class=na>NA</span></td><td>7.6667</td><td><span class=na>NA</span></td><td><span class=na>NA</span></td><td><span class=na>NA</span></td><td>1.08</td><td><span class=na>NA</span></td><td><span class=na>NA</span></td></tr>\n",
       "    <tr><td class='row_index'>2</td><td>Afghanistan</td><td>AFG</td><td>1963</td><td>0.8317</td><td>1.519</td><td>1.426</td><td><span class=na>NA</span></td><td>8.1333</td><td><span class=na>NA</span></td><td><span class=na>NA</span></td><td><span class=na>NA</span></td><td>1.08</td><td><span class=na>NA</span></td><td><span class=na>NA</span></td></tr>\n",
       "    <tr><td class='row_index'>3</td><td>Afghanistan</td><td>AFG</td><td>1964</td><td>0.951</td><td>1.7273</td><td>1.4257</td><td><span class=na>NA</span></td><td>8.6</td><td><span class=na>NA</span></td><td><span class=na>NA</span></td><td><span class=na>NA</span></td><td>1.0857</td><td><span class=na>NA</span></td><td><span class=na>NA</span></td></tr>\n",
       "    <tr><td class='row_index'>&#x22EE;</td><td class='hellipsis'>&#x22EE;</td><td class='hellipsis'>&#x22EE;</td><td class='hellipsis'>&#x22EE;</td><td class='hellipsis'>&#x22EE;</td><td class='hellipsis'>&#x22EE;</td><td class='hellipsis'>&#x22EE;</td><td class='hellipsis'>&#x22EE;</td><td class='hellipsis'>&#x22EE;</td><td class='hellipsis'>&#x22EE;</td><td class='hellipsis'>&#x22EE;</td><td class='hellipsis'>&#x22EE;</td><td class='hellipsis'>&#x22EE;</td><td class='hellipsis'>&#x22EE;</td><td class='hellipsis'>&#x22EE;</td></tr>\n",
       "    <tr><td class='row_index'>13,071</td><td>Zimbabwe</td><td>ZWE</td><td>2015</td><td>2.0486</td><td>2.2689</td><td>0.5803</td><td>0.9459</td><td>16.936</td><td>0.4145</td><td><span class=na>NA</span></td><td>4.6818</td><td>5.462</td><td><span class=na>NA</span></td><td>7.1862</td></tr>\n",
       "    <tr><td class='row_index'>13,072</td><td>Zimbabwe</td><td>ZWE</td><td>2016</td><td>1.9013</td><td>2.2671</td><td>0.4405</td><td>1.1958</td><td>17.0007</td><td>0.3574</td><td><span class=na>NA</span></td><td>4.7117</td><td>5.4727</td><td><span class=na>NA</span></td><td>7.4281</td></tr>\n",
       "    <tr><td class='row_index'>13,073</td><td>Zimbabwe</td><td>ZWE</td><td>2017</td><td>1.7542</td><td>2.2656</td><td>0.5589</td><td>1.5139</td><td>17.0545</td><td>0.5316</td><td><span class=na>NA</span></td><td>4.742</td><td>5.4811</td><td><span class=na>NA</span></td><td>7.6618</td></tr>\n",
       "    <tr><td class='row_index'>13,074</td><td>Zimbabwe</td><td>ZWE</td><td>2018</td><td>2.001</td><td>2.2641</td><td>0.6131</td><td>1.5</td><td>17.1083</td><td>0.4773</td><td><span class=na>NA</span></td><td>4.7705</td><td>5.4894</td><td><span class=na>NA</span></td><td>7.8955</td></tr>\n",
       "  </tbody>\n",
       "  </table>\n",
       "  <div class='footer'>\n",
       "    <div class='frame_dimensions'>13,075 rows &times; 14 columns</div>\n",
       "  </div>\n",
       "</div>\n"
      ],
      "text/plain": [
       "<Frame [13075 rows x 14 cols]>"
      ]
     },
     "execution_count": 8,
     "metadata": {},
     "output_type": "execute_result"
    }
   ],
   "source": [
    "crop_yields_global_dt"
   ]
  },
  {
   "cell_type": "code",
   "execution_count": 9,
   "metadata": {},
   "outputs": [],
   "source": [
    "crop_yields_global_dt_v1 = crop_yields_global_dt[:,dt.sum(f[3:]),by(f.entity)]"
   ]
  },
  {
   "cell_type": "code",
   "execution_count": 10,
   "metadata": {},
   "outputs": [
    {
     "data": {
      "text/html": [
       "<div class='datatable'>\n",
       "  <table class='frame'>\n",
       "  <thead>\n",
       "    <tr class='colnames'><td class='row_index'></td><th>entity</th><th>wheat</th><th>rice</th><th>maize</th><th>soybeans</th><th>potatoes</th><th>beans</th><th>peas</th><th>cassava</th><th>barley</th><th>cocoa_beans</th><th>bananas</th></tr>\n",
       "    <tr class='coltypes'><td class='row_index'></td><td class='string' title='str32'>&#x25AA;&#x25AA;&#x25AA;&#x25AA;</td><td class='float' title='float64'>&#x25AA;&#x25AA;&#x25AA;&#x25AA;&#x25AA;&#x25AA;&#x25AA;&#x25AA;</td><td class='float' title='float64'>&#x25AA;&#x25AA;&#x25AA;&#x25AA;&#x25AA;&#x25AA;&#x25AA;&#x25AA;</td><td class='float' title='float64'>&#x25AA;&#x25AA;&#x25AA;&#x25AA;&#x25AA;&#x25AA;&#x25AA;&#x25AA;</td><td class='float' title='float64'>&#x25AA;&#x25AA;&#x25AA;&#x25AA;&#x25AA;&#x25AA;&#x25AA;&#x25AA;</td><td class='float' title='float64'>&#x25AA;&#x25AA;&#x25AA;&#x25AA;&#x25AA;&#x25AA;&#x25AA;&#x25AA;</td><td class='float' title='float64'>&#x25AA;&#x25AA;&#x25AA;&#x25AA;&#x25AA;&#x25AA;&#x25AA;&#x25AA;</td><td class='float' title='float64'>&#x25AA;&#x25AA;&#x25AA;&#x25AA;&#x25AA;&#x25AA;&#x25AA;&#x25AA;</td><td class='float' title='float64'>&#x25AA;&#x25AA;&#x25AA;&#x25AA;&#x25AA;&#x25AA;&#x25AA;&#x25AA;</td><td class='float' title='float64'>&#x25AA;&#x25AA;&#x25AA;&#x25AA;&#x25AA;&#x25AA;&#x25AA;&#x25AA;</td><td class='float' title='float64'>&#x25AA;&#x25AA;&#x25AA;&#x25AA;&#x25AA;&#x25AA;&#x25AA;&#x25AA;</td><td class='float' title='float64'>&#x25AA;&#x25AA;&#x25AA;&#x25AA;&#x25AA;&#x25AA;&#x25AA;&#x25AA;</td></tr>\n",
       "  </thead>\n",
       "  <tbody>\n",
       "    <tr><td class='row_index'>0</td><td>Afghanistan</td><td>75.5326</td><td>130.375</td><td>99.0582</td><td>0</td><td>798.419</td><td>0</td><td>0</td><td>0</td><td>68.6434</td><td>0</td><td>0</td></tr>\n",
       "    <tr><td class='row_index'>1</td><td>Africa</td><td>93.7614</td><td>120.211</td><td>89.3943</td><td>48.2091</td><td>612.213</td><td>40.3014</td><td>41.4261</td><td>446.23</td><td>57.3945</td><td>22.3873</td><td>434.42</td></tr>\n",
       "    <tr><td class='row_index'>2</td><td>Albania</td><td>155.867</td><td>102.656</td><td>213.741</td><td>58.053</td><td>693.955</td><td>63.3469</td><td>0</td><td>0</td><td>114.002</td><td>0</td><td>0</td></tr>\n",
       "    <tr><td class='row_index'>3</td><td>Algeria</td><td>54.7813</td><td>131.243</td><td>116.327</td><td>0</td><td>804.96</td><td>33.9203</td><td>29.9066</td><td>0</td><td>51.2693</td><td>0</td><td>419.036</td></tr>\n",
       "    <tr><td class='row_index'>&#x22EE;</td><td class='hellipsis'>&#x22EE;</td><td class='hellipsis'>&#x22EE;</td><td class='hellipsis'>&#x22EE;</td><td class='hellipsis'>&#x22EE;</td><td class='hellipsis'>&#x22EE;</td><td class='hellipsis'>&#x22EE;</td><td class='hellipsis'>&#x22EE;</td><td class='hellipsis'>&#x22EE;</td><td class='hellipsis'>&#x22EE;</td><td class='hellipsis'>&#x22EE;</td><td class='hellipsis'>&#x22EE;</td><td class='hellipsis'>&#x22EE;</td></tr>\n",
       "    <tr><td class='row_index'>245</td><td>Yemen</td><td>79.2362</td><td>0</td><td>91.706</td><td>0</td><td>701.702</td><td>63.8295</td><td>47.5026</td><td>0</td><td>55.6646</td><td>0</td><td>400.344</td></tr>\n",
       "    <tr><td class='row_index'>246</td><td>Yugoslavia</td><td>92.4004</td><td>131.491</td><td>112.283</td><td>52.3622</td><td>268.784</td><td>26.4929</td><td>34.7345</td><td>0</td><td>65.3341</td><td>0</td><td>0</td></tr>\n",
       "    <tr><td class='row_index'>247</td><td>Zambia</td><td>257.897</td><td>53.477</td><td>97.0596</td><td>61.2669</td><td>634.596</td><td>0</td><td>0</td><td>349.942</td><td>34.3003</td><td>0</td><td>193.076</td></tr>\n",
       "    <tr><td class='row_index'>248</td><td>Zimbabwe</td><td>230.081</td><td>100.996</td><td>69.2479</td><td>93.7791</td><td>883.574</td><td>33.2357</td><td>0</td><td>220.337</td><td>280.046</td><td>0</td><td>303.048</td></tr>\n",
       "  </tbody>\n",
       "  </table>\n",
       "  <div class='footer'>\n",
       "    <div class='frame_dimensions'>249 rows &times; 12 columns</div>\n",
       "  </div>\n",
       "</div>\n"
      ],
      "text/plain": [
       "<Frame [249 rows x 12 cols]>"
      ]
     },
     "execution_count": 10,
     "metadata": {},
     "output_type": "execute_result"
    }
   ],
   "source": [
    "crop_yields_global_dt_v1"
   ]
  },
  {
   "cell_type": "code",
   "execution_count": 11,
   "metadata": {},
   "outputs": [
    {
     "data": {
      "text/plain": [
       "['wheat',\n",
       " 'rice',\n",
       " 'maize',\n",
       " 'soybeans',\n",
       " 'potatoes',\n",
       " 'beans',\n",
       " 'peas',\n",
       " 'cassava',\n",
       " 'barley',\n",
       " 'cocoa_beans',\n",
       " 'bananas']"
      ]
     },
     "execution_count": 11,
     "metadata": {},
     "output_type": "execute_result"
    }
   ],
   "source": [
    "crop_fields_clean_1[3:]"
   ]
  },
  {
   "cell_type": "code",
   "execution_count": 12,
   "metadata": {},
   "outputs": [],
   "source": [
    "def pydt_reshape_wide_to_long(DT,*measure_vars,var_name=None,val_name=None):\n",
    "    \"\"\"reshaping datatable from wide columns to long \"\"\"\n",
    "    dt_cols=[*measure_vars]\n",
    "    measure_col_dict = DT[:,[*measure_vars]].to_dict()\n",
    "    variables_dict={'variable':[],'value':[]}\n",
    "    for k,v in measure_col_dict.items():\n",
    "        variables_dict['variable'].extend(repeat(k,len(v)))\n",
    "        variables_dict['value'].extend(v)\n",
    "    wide_to_long_dt = dt.Frame(variables_dict)\n",
    "    removed_cols_dt = DT[:,f[:].remove([ f[col] for col in dt_cols])].to_dict()\n",
    "    non_measures_dt = dt.Frame({k:list(chain.from_iterable(list(repeat(v,len(dt_cols))))) for k,v in removed_cols_dt.items()})\n",
    "    \n",
    "    if var_name and val_name is not None:\n",
    "        wide_to_long_dt.names={'variable':var_name,'value':val_name}\n",
    "        \n",
    "    wide_to_long_prep_dt=dt.cbind(non_measures_dt,wide_to_long_dt)\n",
    "        \n",
    "    return wide_to_long_prep_dt"
   ]
  },
  {
   "cell_type": "code",
   "execution_count": 13,
   "metadata": {},
   "outputs": [],
   "source": [
    "crop_yields_tidy =pydt_reshape_wide_to_long(crop_yields_global_dt_v1,'wheat',\n",
    " 'rice',\n",
    " 'maize',\n",
    " 'soybeans',\n",
    " 'potatoes',\n",
    " 'beans',\n",
    " 'peas',\n",
    " 'cassava',\n",
    " 'barley',\n",
    " 'cocoa_beans',\n",
    " 'bananas',\n",
    "var_name='crop',val_name='crop_yield')"
   ]
  },
  {
   "cell_type": "code",
   "execution_count": 14,
   "metadata": {},
   "outputs": [
    {
     "data": {
      "text/html": [
       "<div class='datatable'>\n",
       "  <table class='frame'>\n",
       "  <thead>\n",
       "    <tr class='colnames'><td class='row_index'></td><th>crop</th><th>crop_yield</th></tr>\n",
       "    <tr class='coltypes'><td class='row_index'></td><td class='string' title='str32'>&#x25AA;&#x25AA;&#x25AA;&#x25AA;</td><td class='float' title='float64'>&#x25AA;&#x25AA;&#x25AA;&#x25AA;&#x25AA;&#x25AA;&#x25AA;&#x25AA;</td></tr>\n",
       "  </thead>\n",
       "  <tbody>\n",
       "    <tr><td class='row_index'>0</td><td>bananas</td><td>135429</td></tr>\n",
       "    <tr><td class='row_index'>1</td><td>barley</td><td>15028.4</td></tr>\n",
       "    <tr><td class='row_index'>2</td><td>beans</td><td>8699.05</td></tr>\n",
       "    <tr><td class='row_index'>3</td><td>cassava</td><td>67169.6</td></tr>\n",
       "    <tr><td class='row_index'>4</td><td>cocoa_beans</td><td>1818.91</td></tr>\n",
       "    <tr><td class='row_index'>5</td><td>maize</td><td>32585.9</td></tr>\n",
       "    <tr><td class='row_index'>6</td><td>peas</td><td>9225.41</td></tr>\n",
       "    <tr><td class='row_index'>7</td><td>potatoes</td><td>154224</td></tr>\n",
       "    <tr><td class='row_index'>8</td><td>rice</td><td>26783.3</td></tr>\n",
       "    <tr><td class='row_index'>9</td><td>soybeans</td><td>8634.52</td></tr>\n",
       "    <tr><td class='row_index'>10</td><td>wheat</td><td>19725.2</td></tr>\n",
       "  </tbody>\n",
       "  </table>\n",
       "  <div class='footer'>\n",
       "    <div class='frame_dimensions'>11 rows &times; 2 columns</div>\n",
       "  </div>\n",
       "</div>\n"
      ],
      "text/plain": [
       "<Frame [11 rows x 2 cols]>"
      ]
     },
     "execution_count": 14,
     "metadata": {},
     "output_type": "execute_result"
    }
   ],
   "source": [
    "crop_yields_tidy[:,dt.sum(f.crop_yield),by(f.crop)]"
   ]
  },
  {
   "cell_type": "code",
   "execution_count": null,
   "metadata": {},
   "outputs": [],
   "source": []
  }
 ],
 "metadata": {
  "kernelspec": {
   "display_name": "Python 3",
   "language": "python",
   "name": "python3"
  },
  "language_info": {
   "codemirror_mode": {
    "name": "ipython",
    "version": 3
   },
   "file_extension": ".py",
   "mimetype": "text/x-python",
   "name": "python",
   "nbconvert_exporter": "python",
   "pygments_lexer": "ipython3",
   "version": "3.8.3"
  }
 },
 "nbformat": 4,
 "nbformat_minor": 4
}