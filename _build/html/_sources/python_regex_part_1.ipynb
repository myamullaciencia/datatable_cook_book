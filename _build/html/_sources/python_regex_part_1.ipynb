{
 "cells": [
  {
   "cell_type": "markdown",
   "metadata": {
    "colab_type": "text",
    "id": "FvJbRVP6Wy9O"
   },
   "source": [
    "# Python Regular expressions- Intermediate level"
   ]
  },
  {
   "cell_type": "markdown",
   "metadata": {
    "colab_type": "text",
    "id": "FnkGi19fLd9A"
   },
   "source": [
    "### 1 . Introduction"
   ]
  },
  {
   "cell_type": "code",
   "execution_count": 105,
   "metadata": {},
   "outputs": [],
   "source": [
    "import re"
   ]
  },
  {
   "cell_type": "code",
   "execution_count": 106,
   "metadata": {},
   "outputs": [],
   "source": [
    "letra = 'espanolesun345'"
   ]
  },
  {
   "cell_type": "code",
   "execution_count": 107,
   "metadata": {},
   "outputs": [
    {
     "data": {
      "text/plain": [
       "True"
      ]
     },
     "execution_count": 107,
     "metadata": {},
     "output_type": "execute_result"
    }
   ],
   "source": [
    "'espanol' in letra"
   ]
  },
  {
   "cell_type": "code",
   "execution_count": 108,
   "metadata": {
    "colab": {
     "base_uri": "https://localhost:8080/",
     "height": 34
    },
    "colab_type": "code",
    "id": "JH3d8vUILKk8",
    "outputId": "221bb440-5cc1-40eb-bf5f-9a89edec55cd"
   },
   "outputs": [
    {
     "data": {
      "text/plain": [
       "<re.Match object; span=(7, 11), match=' es '>"
      ]
     },
     "execution_count": 108,
     "metadata": {},
     "output_type": "execute_result"
    }
   ],
   "source": [
    "re.search(r'\\s[\\w]{2}\\s','espanol es lenguage de 5 22 3 ')"
   ]
  },
  {
   "cell_type": "code",
   "execution_count": 109,
   "metadata": {
    "colab": {},
    "colab_type": "code",
    "id": "nbqxvz5pMtza"
   },
   "outputs": [],
   "source": [
    "text = 'La india esta en el segundo posicion en covid 2019  covriance  violencia y hay poblacion de 5000 mil hoy' "
   ]
  },
  {
   "cell_type": "code",
   "execution_count": 110,
   "metadata": {
    "colab": {
     "base_uri": "https://localhost:8080/",
     "height": 34
    },
    "colab_type": "code",
    "id": "q_LD8C8GM8lI",
    "outputId": "930fd83f-3034-496f-e45c-15a2e9ca89b1"
   },
   "outputs": [
    {
     "data": {
      "text/plain": [
       "<re.Match object; span=(46, 50), match='2019'>"
      ]
     },
     "execution_count": 110,
     "metadata": {},
     "output_type": "execute_result"
    }
   ],
   "source": [
    "re.search(r'[0-9]{4}',text)"
   ]
  },
  {
   "cell_type": "code",
   "execution_count": 111,
   "metadata": {
    "colab": {
     "base_uri": "https://localhost:8080/",
     "height": 34
    },
    "colab_type": "code",
    "id": "cqbZJesAN_To",
    "outputId": "c4dfd32a-5401-42b0-9f9a-5fa5a7d4e198"
   },
   "outputs": [
    {
     "data": {
      "text/plain": [
       "<re.Match object; span=(48, 51), match='19 '>"
      ]
     },
     "execution_count": 111,
     "metadata": {},
     "output_type": "execute_result"
    }
   ],
   "source": [
    "re.search(r'[0-9].\\s',text)"
   ]
  },
  {
   "cell_type": "markdown",
   "metadata": {
    "colab_type": "text",
    "id": "3LJli1klOqgj"
   },
   "source": [
    "### 2. Meta characters"
   ]
  },
  {
   "cell_type": "markdown",
   "metadata": {
    "colab_type": "text",
    "id": "AOTzNpgvO18i"
   },
   "source": [
    "###### 1. dot\n",
    "\n",
    "**matches any single character except new line**"
   ]
  },
  {
   "cell_type": "code",
   "execution_count": 112,
   "metadata": {
    "colab": {
     "base_uri": "https://localhost:8080/",
     "height": 34
    },
    "colab_type": "code",
    "id": "-HiZRM_ZPITT",
    "outputId": "63be5a29-f576-4c53-fef0-09033700f270"
   },
   "outputs": [
    {
     "data": {
      "text/plain": [
       "['hay', 'hoy']"
      ]
     },
     "execution_count": 112,
     "metadata": {},
     "output_type": "execute_result"
    }
   ],
   "source": [
    "re.findall(r'h.y',text)"
   ]
  },
  {
   "cell_type": "markdown",
   "metadata": {
    "colab_type": "text",
    "id": "Dq7GSg-YPF7i"
   },
   "source": [
    "###### 2. Anchor(^)\n",
    "\n",
    "**It matches at the start of string**"
   ]
  },
  {
   "cell_type": "code",
   "execution_count": 113,
   "metadata": {
    "colab": {
     "base_uri": "https://localhost:8080/",
     "height": 34
    },
    "colab_type": "code",
    "id": "_LueZxGkPmrG",
    "outputId": "c5504ceb-1166-4f19-c172-1af80dfbe576"
   },
   "outputs": [
    {
     "data": {
      "text/plain": [
       "['La']"
      ]
     },
     "execution_count": 113,
     "metadata": {},
     "output_type": "execute_result"
    }
   ],
   "source": [
    "re.findall(r'^L[\\w]+',text)"
   ]
  },
  {
   "cell_type": "code",
   "execution_count": 114,
   "metadata": {
    "colab": {
     "base_uri": "https://localhost:8080/",
     "height": 35
    },
    "colab_type": "code",
    "id": "uaIiiDxnPw_6",
    "outputId": "30131666-2ea3-4a13-a6b4-30d3b3a7393e"
   },
   "outputs": [
    {
     "data": {
      "text/plain": [
       "'La'"
      ]
     },
     "execution_count": 114,
     "metadata": {},
     "output_type": "execute_result"
    }
   ],
   "source": [
    "text[0:2]"
   ]
  },
  {
   "cell_type": "markdown",
   "metadata": {
    "colab_type": "text",
    "id": "cjiIJZJIP1Vj"
   },
   "source": [
    "###### 3. Anchor ($)\n",
    "\n",
    "**It matches at the end of string**"
   ]
  },
  {
   "cell_type": "code",
   "execution_count": 115,
   "metadata": {
    "colab": {
     "base_uri": "https://localhost:8080/",
     "height": 34
    },
    "colab_type": "code",
    "id": "cqtkhpj4QFhd",
    "outputId": "04c3c0cb-1204-4a40-fc8d-9f82005d7ee5"
   },
   "outputs": [
    {
     "data": {
      "text/plain": [
       "['hoy']"
      ]
     },
     "execution_count": 115,
     "metadata": {},
     "output_type": "execute_result"
    }
   ],
   "source": [
    "re.findall(r'[a-z]{3}$',text)"
   ]
  },
  {
   "cell_type": "markdown",
   "metadata": {
    "colab_type": "text",
    "id": "SQ0Zw82LQ9kb"
   },
   "source": [
    "###### 4. Repetitions(*)\n",
    "\n",
    "**Matches zero or more repeats**"
   ]
  },
  {
   "cell_type": "code",
   "execution_count": 116,
   "metadata": {
    "colab": {
     "base_uri": "https://localhost:8080/",
     "height": 34
    },
    "colab_type": "code",
    "id": "uf1rQCOFRMBr",
    "outputId": "2e4eb3c5-8999-4947-ae74-3809da8d5df6"
   },
   "outputs": [
    {
     "data": {
      "text/plain": [
       "[' 2019 ', '  ', ' 5000 ']"
      ]
     },
     "execution_count": 116,
     "metadata": {},
     "output_type": "execute_result"
    }
   ],
   "source": [
    "re.findall(r'\\s[\\d]*\\s',text)"
   ]
  },
  {
   "cell_type": "markdown",
   "metadata": {
    "colab_type": "text",
    "id": "yCEpdU5iRyXg"
   },
   "source": [
    "###### 5. Repititions(+)\n",
    "\n",
    "**One or more repeats**"
   ]
  },
  {
   "cell_type": "code",
   "execution_count": 117,
   "metadata": {
    "colab": {
     "base_uri": "https://localhost:8080/",
     "height": 34
    },
    "colab_type": "code",
    "id": "dsFbS-j7R7Qb",
    "outputId": "7665091c-45eb-4708-b953-b2ae67cc517a"
   },
   "outputs": [
    {
     "data": {
      "text/plain": [
       "['cov', 'cov']"
      ]
     },
     "execution_count": 117,
     "metadata": {},
     "output_type": "execute_result"
    }
   ],
   "source": [
    "re.findall(r'cov+',text)"
   ]
  },
  {
   "cell_type": "markdown",
   "metadata": {
    "colab_type": "text",
    "id": "_dmmnWJmR59m"
   },
   "source": [
    "###### 6. Any(?)\n",
    "\n",
    "\n",
    "\n",
    "1.   Matches zero or one repetition\n",
    "2.   Specifies the non-greedy versions of *, +, and ?\n",
    "3.   Introduces a lookahead or lookbehind assertion\n",
    "4.   Creates a named group\n"
   ]
  },
  {
   "cell_type": "code",
   "execution_count": 118,
   "metadata": {
    "colab": {
     "base_uri": "https://localhost:8080/",
     "height": 34
    },
    "colab_type": "code",
    "id": "afg2o_-RUElZ",
    "outputId": "5c24bd1d-e076-4b7e-a8c8-1f40ebaad699"
   },
   "outputs": [
    {
     "data": {
      "text/plain": [
       "['2019']"
      ]
     },
     "execution_count": 118,
     "metadata": {},
     "output_type": "execute_result"
    }
   ],
   "source": [
    "re.findall(r'20[1]?9',text)"
   ]
  },
  {
   "cell_type": "markdown",
   "metadata": {
    "colab_type": "text",
    "id": "tXYdSGcUVr0h"
   },
   "source": [
    "###### 7. Repeats ({})\n",
    "\n",
    "**Matches an explicitly specified number of repetitions**"
   ]
  },
  {
   "cell_type": "code",
   "execution_count": 119,
   "metadata": {
    "colab": {
     "base_uri": "https://localhost:8080/",
     "height": 34
    },
    "colab_type": "code",
    "id": "hKLdYwvxV1vU",
    "outputId": "3c850a24-3280-43c2-9191-c41f2fe6c8c9"
   },
   "outputs": [
    {
     "data": {
      "text/plain": [
       "['2019', '5000']"
      ]
     },
     "execution_count": 119,
     "metadata": {},
     "output_type": "execute_result"
    }
   ],
   "source": [
    "re.findall(r'[\\d]{3,4}',text)"
   ]
  },
  {
   "cell_type": "code",
   "execution_count": 120,
   "metadata": {
    "colab": {
     "base_uri": "https://localhost:8080/",
     "height": 34
    },
    "colab_type": "code",
    "id": "1ONkECyYWAAp",
    "outputId": "fdb2b570-52c5-4b4a-a367-d641c25601fd"
   },
   "outputs": [
    {
     "data": {
      "text/plain": [
       "['india', 'segun', 'posic', 'covid', 'covri', 'viole', 'pobla']"
      ]
     },
     "execution_count": 120,
     "metadata": {},
     "output_type": "execute_result"
    }
   ],
   "source": [
    "re.findall(r'[\\w]{5}',text)"
   ]
  },
  {
   "cell_type": "code",
   "execution_count": null,
   "metadata": {
    "colab": {},
    "colab_type": "code",
    "id": "h3roiPnBWZry"
   },
   "outputs": [],
   "source": []
  },
  {
   "cell_type": "markdown",
   "metadata": {
    "colab_type": "text",
    "id": "1j3hiA7MWf5G"
   },
   "source": [
    "###### 8. Metacharacter(\\\\)\n",
    "\n",
    "1. Escapes a metacharacter of its special meaning\n",
    "2. Introduces a special character class\n",
    "3. Introduces a grouping backreference"
   ]
  },
  {
   "cell_type": "code",
   "execution_count": 121,
   "metadata": {
    "colab": {
     "base_uri": "https://localhost:8080/",
     "height": 34
    },
    "colab_type": "code",
    "id": "kGefIc2UWnzD",
    "outputId": "fb4e2182-cba2-4db2-a358-4329909902d1"
   },
   "outputs": [
    {
     "data": {
      "text/plain": [
       "[' 20', ' 50']"
      ]
     },
     "execution_count": 121,
     "metadata": {},
     "output_type": "execute_result"
    }
   ],
   "source": [
    "re.findall(r'\\s[\\d]{2}',text)"
   ]
  },
  {
   "cell_type": "markdown",
   "metadata": {
    "colab_type": "text",
    "id": "3k1tQLCfW-zC"
   },
   "source": [
    "###### 9. Specifies a character class []\n"
   ]
  },
  {
   "cell_type": "code",
   "execution_count": 122,
   "metadata": {
    "colab": {
     "base_uri": "https://localhost:8080/",
     "height": 34
    },
    "colab_type": "code",
    "id": "USt9mVlGXGBt",
    "outputId": "33ce5ad8-b082-4cdf-da12-9cb3f75cdb48"
   },
   "outputs": [
    {
     "data": {
      "text/plain": [
       "['osicion', 'covid', 'covriance', 'violencia', 'oblacion', 'oy']"
      ]
     },
     "execution_count": 122,
     "metadata": {},
     "output_type": "execute_result"
    }
   ],
   "source": [
    "re.findall(r'[cov][\\w]+',text)"
   ]
  },
  {
   "cell_type": "markdown",
   "metadata": {
    "colab_type": "text",
    "id": "AqM0dY1EXxbR"
   },
   "source": [
    "###### 10. Creates a group"
   ]
  },
  {
   "cell_type": "code",
   "execution_count": 123,
   "metadata": {
    "colab": {
     "base_uri": "https://localhost:8080/",
     "height": 34
    },
    "colab_type": "code",
    "id": "-GWXe1TIX3_8",
    "outputId": "d6233d75-346f-420b-b276-3387d43f4374"
   },
   "outputs": [
    {
     "data": {
      "text/plain": [
       "['cov', 'cov', 'ho']"
      ]
     },
     "execution_count": 123,
     "metadata": {},
     "output_type": "execute_result"
    }
   ],
   "source": [
    "re.findall(r'(cov|ho)',text)"
   ]
  },
  {
   "cell_type": "markdown",
   "metadata": {
    "colab_type": "text",
    "id": "wAg3t563YU05"
   },
   "source": [
    "### 3. Examples"
   ]
  },
  {
   "cell_type": "code",
   "execution_count": 124,
   "metadata": {
    "colab": {
     "base_uri": "https://localhost:8080/",
     "height": 34
    },
    "colab_type": "code",
    "id": "gQ5E00axYYCd",
    "outputId": "6b0b9882-97c2-48f5-e065-ee995dcdee63"
   },
   "outputs": [
    {
     "data": {
      "text/plain": [
       "['cova']"
      ]
     },
     "execution_count": 124,
     "metadata": {},
     "output_type": "execute_result"
    }
   ],
   "source": [
    "re.findall(r'cov[aeiou]','covariance')"
   ]
  },
  {
   "cell_type": "code",
   "execution_count": 125,
   "metadata": {
    "colab": {
     "base_uri": "https://localhost:8080/",
     "height": 34
    },
    "colab_type": "code",
    "id": "txTlNd3eYy6r",
    "outputId": "2c47aa56-69e7-48dd-ef52-c899a561ca97"
   },
   "outputs": [
    {
     "data": {
      "text/plain": [
       "['1', '0', 'A', 'B', 'C']"
      ]
     },
     "execution_count": 125,
     "metadata": {},
     "output_type": "execute_result"
    }
   ],
   "source": [
    "re.findall(r'[0-9a-fA-F]','10 A B C X')"
   ]
  },
  {
   "cell_type": "code",
   "execution_count": 126,
   "metadata": {
    "colab": {
     "base_uri": "https://localhost:8080/",
     "height": 34
    },
    "colab_type": "code",
    "id": "ORwCP4PuZgaD",
    "outputId": "7ab60805-ccea-4501-87fe-f6f926b74f40"
   },
   "outputs": [
    {
     "data": {
      "text/plain": [
       "['c', 'o', 'm', 'o']"
      ]
     },
     "execution_count": 126,
     "metadata": {},
     "output_type": "execute_result"
    }
   ],
   "source": [
    "re.findall('[^0-9]','2020como')"
   ]
  },
  {
   "cell_type": "code",
   "execution_count": 127,
   "metadata": {
    "colab": {
     "base_uri": "https://localhost:8080/",
     "height": 34
    },
    "colab_type": "code",
    "id": "o3SJ9rvxaKdn",
    "outputId": "594fdd67-c53d-4085-9c48-3a6d66319394"
   },
   "outputs": [
    {
     "data": {
      "text/plain": [
       "['-', '1', '2', '3']"
      ]
     },
     "execution_count": 127,
     "metadata": {},
     "output_type": "execute_result"
    }
   ],
   "source": [
    "re.findall(r'[\\-123]','mall-123')"
   ]
  },
  {
   "cell_type": "code",
   "execution_count": 128,
   "metadata": {
    "colab": {
     "base_uri": "https://localhost:8080/",
     "height": 34
    },
    "colab_type": "code",
    "id": "hm5Uu4pSdpV3",
    "outputId": "8fc71e03-945f-4dfd-9ab4-ac277ee2080f"
   },
   "outputs": [
    {
     "data": {
      "text/plain": [
       "<re.Match object; span=(2, 3), match='-'>"
      ]
     },
     "execution_count": 128,
     "metadata": {},
     "output_type": "execute_result"
    }
   ],
   "source": [
    "re.search(r'[\\-c]','ma-c')"
   ]
  },
  {
   "cell_type": "code",
   "execution_count": 129,
   "metadata": {
    "colab": {
     "base_uri": "https://localhost:8080/",
     "height": 34
    },
    "colab_type": "code",
    "id": "xpkqNGahd-K2",
    "outputId": "37a5e19f-ae95-43c0-c06e-7138523c1d04"
   },
   "outputs": [
    {
     "data": {
      "text/plain": [
       "['123]']"
      ]
     },
     "execution_count": 129,
     "metadata": {},
     "output_type": "execute_result"
    }
   ],
   "source": [
    "re.findall(r'123\\]','mallesh 123]')"
   ]
  },
  {
   "cell_type": "code",
   "execution_count": 130,
   "metadata": {
    "colab": {
     "base_uri": "https://localhost:8080/",
     "height": 34
    },
    "colab_type": "code",
    "id": "xEYdIbhHeQ4o",
    "outputId": "956f078b-d9a8-4dfa-b529-e9ca46f3ea6a"
   },
   "outputs": [
    {
     "data": {
      "text/plain": [
       "['hoy', 'hay']"
      ]
     },
     "execution_count": 130,
     "metadata": {},
     "output_type": "execute_result"
    }
   ],
   "source": [
    "re.findall(r'h.y','hoy o hay')"
   ]
  },
  {
   "cell_type": "code",
   "execution_count": 131,
   "metadata": {
    "colab": {
     "base_uri": "https://localhost:8080/",
     "height": 34
    },
    "colab_type": "code",
    "id": "RqtMS49AelWt",
    "outputId": "396098a2-b83e-40dc-b724-933e6d8d03cb"
   },
   "outputs": [
    {
     "data": {
      "text/plain": [
       "[]"
      ]
     },
     "execution_count": 131,
     "metadata": {},
     "output_type": "execute_result"
    }
   ],
   "source": [
    "re.findall(r'h.y','h\\ny')"
   ]
  },
  {
   "cell_type": "code",
   "execution_count": 132,
   "metadata": {
    "colab": {
     "base_uri": "https://localhost:8080/",
     "height": 34
    },
    "colab_type": "code",
    "id": "kvW4zOVnexba",
    "outputId": "75429ff4-ce50-4fbc-ba7c-ccab691aed90"
   },
   "outputs": [
    {
     "data": {
      "text/plain": [
       "<re.Match object; span=(4, 5), match='a'>"
      ]
     },
     "execution_count": 132,
     "metadata": {},
     "output_type": "execute_result"
    }
   ],
   "source": [
    "re.search(r'[\\w]','$%@#a*&')"
   ]
  },
  {
   "cell_type": "code",
   "execution_count": 133,
   "metadata": {
    "colab": {
     "base_uri": "https://localhost:8080/",
     "height": 34
    },
    "colab_type": "code",
    "id": "nWFOxoizfUNm",
    "outputId": "03c5100e-7588-4e65-c56a-6fa04e0abd2a"
   },
   "outputs": [
    {
     "data": {
      "text/plain": [
       "<re.Match object; span=(0, 1), match='$'>"
      ]
     },
     "execution_count": 133,
     "metadata": {},
     "output_type": "execute_result"
    }
   ],
   "source": [
    "re.search(r'[\\W]','$%@#a*&')"
   ]
  },
  {
   "cell_type": "code",
   "execution_count": 134,
   "metadata": {
    "colab": {
     "base_uri": "https://localhost:8080/",
     "height": 34
    },
    "colab_type": "code",
    "id": "7TsAyuL-fXzE",
    "outputId": "5144ca6f-14c2-4797-8456-a6cfa0f84eb5"
   },
   "outputs": [
    {
     "data": {
      "text/plain": [
       "['$', '%', '@', '#', '*', '&']"
      ]
     },
     "execution_count": 134,
     "metadata": {},
     "output_type": "execute_result"
    }
   ],
   "source": [
    "re.findall(r'[\\W]','$%@#a*&')"
   ]
  },
  {
   "cell_type": "code",
   "execution_count": 135,
   "metadata": {
    "colab": {
     "base_uri": "https://localhost:8080/",
     "height": 34
    },
    "colab_type": "code",
    "id": "twcAliyZffUe",
    "outputId": "993d529c-0c21-4ad4-ffe7-85f15dc6873f"
   },
   "outputs": [
    {
     "data": {
      "text/plain": [
       "['201', '500']"
      ]
     },
     "execution_count": 135,
     "metadata": {},
     "output_type": "execute_result"
    }
   ],
   "source": [
    "re.findall(r'\\d{3}',text)"
   ]
  },
  {
   "cell_type": "code",
   "execution_count": 136,
   "metadata": {
    "colab": {
     "base_uri": "https://localhost:8080/",
     "height": 34
    },
    "colab_type": "code",
    "id": "hNmctXByfyTD",
    "outputId": "1f818301-cae4-4b62-a0b2-ff306ce4e877"
   },
   "outputs": [
    {
     "data": {
      "text/plain": [
       "<re.Match object; span=(2, 4), match=' v'>"
      ]
     },
     "execution_count": 136,
     "metadata": {},
     "output_type": "execute_result"
    }
   ],
   "source": [
    "re.search(r'\\D{2}','20 viente')"
   ]
  },
  {
   "cell_type": "code",
   "execution_count": 137,
   "metadata": {
    "colab": {
     "base_uri": "https://localhost:8080/",
     "height": 34
    },
    "colab_type": "code",
    "id": "DC4mE_Oof8vn",
    "outputId": "545c140e-197b-4664-849a-7b1f7e53b8c7"
   },
   "outputs": [
    {
     "data": {
      "text/plain": [
       "[]"
      ]
     },
     "execution_count": 137,
     "metadata": {},
     "output_type": "execute_result"
    }
   ],
   "source": [
    "re.findall(r'\\s{2}','espanol como')"
   ]
  },
  {
   "cell_type": "code",
   "execution_count": 138,
   "metadata": {
    "colab": {
     "base_uri": "https://localhost:8080/",
     "height": 34
    },
    "colab_type": "code",
    "id": "9_QTGDWAgtA-",
    "outputId": "2742f7a6-061c-4bb4-d823-64dc07b09407"
   },
   "outputs": [
    {
     "data": {
      "text/plain": [
       "['h.y']"
      ]
     },
     "execution_count": 138,
     "metadata": {},
     "output_type": "execute_result"
    }
   ],
   "source": [
    "re.findall(r'h\\.y','h.y')"
   ]
  },
  {
   "cell_type": "code",
   "execution_count": 139,
   "metadata": {
    "colab": {
     "base_uri": "https://localhost:8080/",
     "height": 34
    },
    "colab_type": "code",
    "id": "CgBbg-oykI7o",
    "outputId": "af0c1adf-a19b-49cd-c34d-7822f9fdbff6"
   },
   "outputs": [
    {
     "data": {
      "text/plain": [
       "<re.Match object; span=(27, 31), match='word'>"
      ]
     },
     "execution_count": 139,
     "metadata": {},
     "output_type": "execute_result"
    }
   ],
   "source": [
    "re.search(r'word\\b','do you have words to speak word')"
   ]
  },
  {
   "cell_type": "code",
   "execution_count": 140,
   "metadata": {
    "colab": {
     "base_uri": "https://localhost:8080/",
     "height": 34
    },
    "colab_type": "code",
    "id": "38U1mxFykXmo",
    "outputId": "c7d746a1-7c0f-4776-bbe4-246d032d1fdb"
   },
   "outputs": [
    {
     "data": {
      "text/plain": [
       "['word']"
      ]
     },
     "execution_count": 140,
     "metadata": {},
     "output_type": "execute_result"
    }
   ],
   "source": [
    "re.findall(r'word\\b','do you have word to speak words')"
   ]
  },
  {
   "cell_type": "code",
   "execution_count": 141,
   "metadata": {
    "colab": {
     "base_uri": "https://localhost:8080/",
     "height": 34
    },
    "colab_type": "code",
    "id": "IqNSp1k9kuKu",
    "outputId": "7c64f4b9-52bc-445c-affa-2ee110eed8d5"
   },
   "outputs": [
    {
     "data": {
      "text/plain": [
       "['word']"
      ]
     },
     "execution_count": 141,
     "metadata": {},
     "output_type": "execute_result"
    }
   ],
   "source": [
    "re.findall(r'\\bword\\b','do you have word to speak words')"
   ]
  },
  {
   "cell_type": "code",
   "execution_count": 142,
   "metadata": {
    "colab": {
     "base_uri": "https://localhost:8080/",
     "height": 34
    },
    "colab_type": "code",
    "id": "2oEaM-0klJCA",
    "outputId": "3817c5a3-0107-4980-cfc0-0ebf46f24ebe"
   },
   "outputs": [
    {
     "data": {
      "text/plain": [
       "<re.Match object; span=(2, 5), match='zip'>"
      ]
     },
     "execution_count": 142,
     "metadata": {},
     "output_type": "execute_result"
    }
   ],
   "source": [
    "re.search(r'\\Bzip\\B','EEzipRR')"
   ]
  },
  {
   "cell_type": "code",
   "execution_count": 143,
   "metadata": {
    "colab": {
     "base_uri": "https://localhost:8080/",
     "height": 34
    },
    "colab_type": "code",
    "id": "WjUkzjaLm9Ad",
    "outputId": "d3a4715d-5da6-4c75-d995-22b875330958"
   },
   "outputs": [
    {
     "data": {
      "text/plain": [
       "<re.Match object; span=(0, 3), match='yup'>"
      ]
     },
     "execution_count": 143,
     "metadata": {},
     "output_type": "execute_result"
    }
   ],
   "source": [
    "re.search(r'(yup)*','yup yup hurr')"
   ]
  },
  {
   "cell_type": "code",
   "execution_count": 144,
   "metadata": {
    "colab": {
     "base_uri": "https://localhost:8080/",
     "height": 34
    },
    "colab_type": "code",
    "id": "C_AynbGMnci6",
    "outputId": "56a787b2-b3b2-49c3-8b16-d467cfa2d2b8"
   },
   "outputs": [
    {
     "data": {
      "text/plain": [
       "<re.Match object; span=(0, 3), match='2-3'>"
      ]
     },
     "execution_count": 144,
     "metadata": {},
     "output_type": "execute_result"
    }
   ],
   "source": [
    "re.search(r'[0-9]-*[0-9]','2-3')"
   ]
  },
  {
   "cell_type": "code",
   "execution_count": 145,
   "metadata": {
    "colab": {
     "base_uri": "https://localhost:8080/",
     "height": 34
    },
    "colab_type": "code",
    "id": "VyPTOB0MoY1l",
    "outputId": "b2e53950-db74-40b9-9c94-b365692f9918"
   },
   "outputs": [
    {
     "data": {
      "text/plain": [
       "<re.Match object; span=(0, 7), match='foo.bar'>"
      ]
     },
     "execution_count": 145,
     "metadata": {},
     "output_type": "execute_result"
    }
   ],
   "source": [
    "re.search('foo\\.*bar', 'foo.bar')"
   ]
  },
  {
   "cell_type": "code",
   "execution_count": 146,
   "metadata": {
    "colab": {
     "base_uri": "https://localhost:8080/",
     "height": 34
    },
    "colab_type": "code",
    "id": "PwWxfdLrobOr",
    "outputId": "a2617bbe-3df1-438c-f7f3-01f2ebaf9ec9"
   },
   "outputs": [
    {
     "data": {
      "text/plain": [
       "<re.Match object; span=(0, 7), match='foo.bar'>"
      ]
     },
     "execution_count": 146,
     "metadata": {},
     "output_type": "execute_result"
    }
   ],
   "source": [
    "re.search('foo\\.?bar','foo.bar')"
   ]
  },
  {
   "cell_type": "code",
   "execution_count": 147,
   "metadata": {
    "colab": {
     "base_uri": "https://localhost:8080/",
     "height": 34
    },
    "colab_type": "code",
    "id": "-crMOQeWrlmR",
    "outputId": "924a258b-2a46-478a-a414-a0a8f3ea951f"
   },
   "outputs": [
    {
     "data": {
      "text/plain": [
       "<re.Match object; span=(0, 3), match='aaa'>"
      ]
     },
     "execution_count": 147,
     "metadata": {},
     "output_type": "execute_result"
    }
   ],
   "source": [
    "re.search('a{3,5}?', 'aaaaaaaa')"
   ]
  },
  {
   "cell_type": "code",
   "execution_count": 148,
   "metadata": {
    "colab": {
     "base_uri": "https://localhost:8080/",
     "height": 34
    },
    "colab_type": "code",
    "id": "FsJgCMVDs3Ci",
    "outputId": "8e62eece-c1a5-428d-fdc4-61b01d488aba"
   },
   "outputs": [
    {
     "data": {
      "text/plain": [
       "['aaa', 'aaa']"
      ]
     },
     "execution_count": 148,
     "metadata": {},
     "output_type": "execute_result"
    }
   ],
   "source": [
    "re.findall('a{3,5}?','aaaaaaaa')"
   ]
  },
  {
   "cell_type": "code",
   "execution_count": 149,
   "metadata": {
    "colab": {
     "base_uri": "https://localhost:8080/",
     "height": 34
    },
    "colab_type": "code",
    "id": "SgUXjJi7tAoF",
    "outputId": "39d88a6b-3c5d-4758-f718-f735283b8c6e"
   },
   "outputs": [
    {
     "data": {
      "text/plain": [
       "['covid', 'covid']"
      ]
     },
     "execution_count": 149,
     "metadata": {},
     "output_type": "execute_result"
    }
   ],
   "source": [
    "re.findall(r'(covid)+','covid covid 2019 es una pandemica')"
   ]
  },
  {
   "cell_type": "code",
   "execution_count": 150,
   "metadata": {
    "colab": {
     "base_uri": "https://localhost:8080/",
     "height": 34
    },
    "colab_type": "code",
    "id": "-LXdkkSptrEM",
    "outputId": "1a83d90a-c218-4e9e-a3f0-ef275b3d5285"
   },
   "outputs": [
    {
     "data": {
      "text/plain": [
       "['covid', 'covid']"
      ]
     },
     "execution_count": 150,
     "metadata": {},
     "output_type": "execute_result"
    }
   ],
   "source": [
    "re.findall(r'covid','covid covid 2019 es una pandemica')"
   ]
  },
  {
   "cell_type": "code",
   "execution_count": 151,
   "metadata": {
    "colab": {
     "base_uri": "https://localhost:8080/",
     "height": 34
    },
    "colab_type": "code",
    "id": "rUP1hHbpt8K9",
    "outputId": "085352af-b08e-45ba-b1e6-ac0ab0d37c54"
   },
   "outputs": [
    {
     "data": {
      "text/plain": [
       "['covvvvvvvv']"
      ]
     },
     "execution_count": 151,
     "metadata": {},
     "output_type": "execute_result"
    }
   ],
   "source": [
    "re.findall(r'cov+','covvvvvvvvriance')"
   ]
  },
  {
   "cell_type": "code",
   "execution_count": 152,
   "metadata": {
    "colab": {
     "base_uri": "https://localhost:8080/",
     "height": 34
    },
    "colab_type": "code",
    "id": "svoZ1_MguFCy",
    "outputId": "714939c1-53f9-4aed-845b-214bd94fa1fe"
   },
   "outputs": [
    {
     "data": {
      "text/plain": [
       "['cov']"
      ]
     },
     "execution_count": 152,
     "metadata": {},
     "output_type": "execute_result"
    }
   ],
   "source": [
    "re.findall(r'(cov)+','covcovcov')"
   ]
  },
  {
   "cell_type": "code",
   "execution_count": 153,
   "metadata": {
    "colab": {
     "base_uri": "https://localhost:8080/",
     "height": 34
    },
    "colab_type": "code",
    "id": "f8N2HQpZujJw",
    "outputId": "b813c11a-5dda-492e-e252-fa1c8bc1dd98"
   },
   "outputs": [
    {
     "data": {
      "text/plain": [
       "<re.Match object; span=(0, 3), match='foo'>"
      ]
     },
     "execution_count": 153,
     "metadata": {},
     "output_type": "execute_result"
    }
   ],
   "source": [
    "re.search(r'foo(bar)?','foo')"
   ]
  },
  {
   "cell_type": "code",
   "execution_count": 154,
   "metadata": {
    "colab": {
     "base_uri": "https://localhost:8080/",
     "height": 34
    },
    "colab_type": "code",
    "id": "2vuG1Klvunqs",
    "outputId": "2e0a8cd1-057b-4728-b707-4e2f2b95f4af"
   },
   "outputs": [
    {
     "data": {
      "text/plain": [
       "<re.Match object; span=(0, 9), match='foofoobar'>"
      ]
     },
     "execution_count": 154,
     "metadata": {},
     "output_type": "execute_result"
    }
   ],
   "source": [
    "re.search(r'(foo(bar)?)+','foofoobarbarfoobarfoobar')"
   ]
  },
  {
   "cell_type": "code",
   "execution_count": 155,
   "metadata": {
    "colab": {
     "base_uri": "https://localhost:8080/",
     "height": 34
    },
    "colab_type": "code",
    "id": "CjYfETYvvIqj",
    "outputId": "96b2431d-03e5-476c-8ffa-1d83b9c75f6b"
   },
   "outputs": [
    {
     "data": {
      "text/plain": [
       "['', '', '']"
      ]
     },
     "execution_count": 155,
     "metadata": {},
     "output_type": "execute_result"
    }
   ],
   "source": [
    "re.findall(r'(\\d\\d\\d)?','23')"
   ]
  },
  {
   "cell_type": "code",
   "execution_count": 156,
   "metadata": {
    "colab": {},
    "colab_type": "code",
    "id": "UMMSrmkiwZzI"
   },
   "outputs": [],
   "source": [
    "regex = r'(\\w+),(\\d+),\\2'"
   ]
  },
  {
   "cell_type": "code",
   "execution_count": 157,
   "metadata": {
    "colab": {},
    "colab_type": "code",
    "id": "2cLLHCgLwbzq"
   },
   "outputs": [],
   "source": [
    "m = re.search(regex,'foo,1,1,foo')"
   ]
  },
  {
   "cell_type": "markdown",
   "metadata": {
    "colab_type": "text",
    "id": "pB84vpGg0cFB"
   },
   "source": [
    "### 5. Lookahead and Lookbehinds"
   ]
  },
  {
   "cell_type": "code",
   "execution_count": 158,
   "metadata": {
    "colab": {},
    "colab_type": "code",
    "id": "D8znbg4n0gI8"
   },
   "outputs": [],
   "source": [
    "# look aheads\n",
    "rgx_positive_ahead = r'espanol(?=[\\#]{2})'\n",
    "rgx_negative_ahead = r'espanol(?![\\#]{2})'"
   ]
  },
  {
   "cell_type": "code",
   "execution_count": 159,
   "metadata": {
    "colab": {
     "base_uri": "https://localhost:8080/",
     "height": 34
    },
    "colab_type": "code",
    "id": "qL2p5U2Q0o4s",
    "outputId": "f839e569-5f79-4958-f1ba-e36feef01a0d"
   },
   "outputs": [
    {
     "data": {
      "text/plain": [
       "<re.Match object; span=(0, 7), match='espanol'>"
      ]
     },
     "execution_count": 159,
     "metadata": {},
     "output_type": "execute_result"
    }
   ],
   "source": [
    "re.search(rgx_positive_ahead,'espanol##')"
   ]
  },
  {
   "cell_type": "code",
   "execution_count": 160,
   "metadata": {
    "colab": {
     "base_uri": "https://localhost:8080/",
     "height": 34
    },
    "colab_type": "code",
    "id": "GUn9NuUm02oF",
    "outputId": "f045c663-1626-433c-b707-a798eff63393"
   },
   "outputs": [
    {
     "data": {
      "text/plain": [
       "<re.Match object; span=(0, 7), match='espanol'>"
      ]
     },
     "execution_count": 160,
     "metadata": {},
     "output_type": "execute_result"
    }
   ],
   "source": [
    "re.search(rgx_negative_ahead,'espanol')"
   ]
  },
  {
   "cell_type": "code",
   "execution_count": 161,
   "metadata": {
    "colab": {},
    "colab_type": "code",
    "id": "2fl_H0gT1XAw"
   },
   "outputs": [],
   "source": [
    "# look behinds\n",
    "rgx_positive_behind = r'(?<=[\\#])[\\w]+'\n",
    "rgx_negative_behind = r'(?<![\\#]{1})\\d+'"
   ]
  },
  {
   "cell_type": "code",
   "execution_count": 162,
   "metadata": {
    "colab": {
     "base_uri": "https://localhost:8080/",
     "height": 34
    },
    "colab_type": "code",
    "id": "H1SF02ri1ykh",
    "outputId": "906fd1cd-3fec-489d-91ec-eaba0a7073ff"
   },
   "outputs": [
    {
     "data": {
      "text/plain": [
       "<re.Match object; span=(1, 9), match='myamulla'>"
      ]
     },
     "execution_count": 162,
     "metadata": {},
     "output_type": "execute_result"
    }
   ],
   "source": [
    "re.search(rgx_positive_behind,'#myamulla')"
   ]
  },
  {
   "cell_type": "code",
   "execution_count": 163,
   "metadata": {
    "colab": {
     "base_uri": "https://localhost:8080/",
     "height": 34
    },
    "colab_type": "code",
    "id": "pbWd65XN146A",
    "outputId": "de55a673-90f3-421b-b86a-994f06ba6ebe"
   },
   "outputs": [
    {
     "data": {
      "text/plain": [
       "['5']"
      ]
     },
     "execution_count": 163,
     "metadata": {},
     "output_type": "execute_result"
    }
   ],
   "source": [
    "re.findall(rgx_negative_behind,'####4#4#5#95')"
   ]
  },
  {
   "cell_type": "code",
   "execution_count": 164,
   "metadata": {
    "colab": {
     "base_uri": "https://localhost:8080/",
     "height": 34
    },
    "colab_type": "code",
    "id": "3RddUVWx27mC",
    "outputId": "564da814-e695-440a-a947-2975b6903922"
   },
   "outputs": [
    {
     "data": {
      "text/plain": [
       "<re.Match object; span=(0, 7), match='espanol'>"
      ]
     },
     "execution_count": 164,
     "metadata": {},
     "output_type": "execute_result"
    }
   ],
   "source": [
    "# pos ahead\n",
    "re.search(r'espanol(?=spanish)','espanolspanish')"
   ]
  },
  {
   "cell_type": "code",
   "execution_count": 165,
   "metadata": {
    "colab": {
     "base_uri": "https://localhost:8080/",
     "height": 34
    },
    "colab_type": "code",
    "id": "MQPPDAMc3FRD",
    "outputId": "96511dc2-7146-4908-f90f-595d8bca793b"
   },
   "outputs": [
    {
     "data": {
      "text/plain": [
       "<re.Match object; span=(0, 7), match='espanol'>"
      ]
     },
     "execution_count": 165,
     "metadata": {},
     "output_type": "execute_result"
    }
   ],
   "source": [
    "# neg ahead\n",
    "re.search(r'espanol(?!english)','espanolspanish')"
   ]
  },
  {
   "cell_type": "code",
   "execution_count": 166,
   "metadata": {
    "colab": {
     "base_uri": "https://localhost:8080/",
     "height": 34
    },
    "colab_type": "code",
    "id": "vFKj0UJQ30vu",
    "outputId": "181ad6c5-2424-4dfa-8b06-b4009c1db0b8"
   },
   "outputs": [
    {
     "data": {
      "text/plain": [
       "<re.Match object; span=(3, 12), match='Mallesham'>"
      ]
     },
     "execution_count": 166,
     "metadata": {},
     "output_type": "execute_result"
    }
   ],
   "source": [
    "# pos behind\n",
    "re.search(r'(?<=Mr\\.)[\\w]+','Mr.Mallesham')"
   ]
  },
  {
   "cell_type": "code",
   "execution_count": 167,
   "metadata": {
    "colab": {
     "base_uri": "https://localhost:8080/",
     "height": 34
    },
    "colab_type": "code",
    "id": "3ygHgPIM4Nbr",
    "outputId": "cce5f417-5717-4d55-9dc0-61bf22109ec7"
   },
   "outputs": [
    {
     "data": {
      "text/plain": [
       "<re.Match object; span=(5, 8), match='bar'>"
      ]
     },
     "execution_count": 167,
     "metadata": {},
     "output_type": "execute_result"
    }
   ],
   "source": [
    "# neg behind\n",
    "re.search('(?<!Sr\\.)bar', 'Srta.bar')"
   ]
  },
  {
   "cell_type": "markdown",
   "metadata": {},
   "source": [
    "### 6. String splitting and  substitutes"
   ]
  },
  {
   "cell_type": "code",
   "execution_count": 168,
   "metadata": {},
   "outputs": [
    {
     "data": {
      "text/plain": [
       "'myamulla***'"
      ]
     },
     "execution_count": 168,
     "metadata": {},
     "output_type": "execute_result"
    }
   ],
   "source": [
    "re.sub(r'[0-9]','*','myamulla234')"
   ]
  },
  {
   "cell_type": "code",
   "execution_count": 169,
   "metadata": {},
   "outputs": [
    {
     "data": {
      "text/plain": [
       "'ams--10tiu'"
      ]
     },
     "execution_count": 169,
     "metadata": {},
     "output_type": "execute_result"
    }
   ],
   "source": [
    "re.sub(r'[0-9]','-','ams8910tiu',count=2)"
   ]
  },
  {
   "cell_type": "code",
   "execution_count": 170,
   "metadata": {},
   "outputs": [
    {
     "data": {
      "text/plain": [
       "'SrcieXnXcXa'"
      ]
     },
     "execution_count": 170,
     "metadata": {},
     "output_type": "execute_result"
    }
   ],
   "source": [
    "re.sub(r'[\\W]','X','Srcie#n%c&a')"
   ]
  },
  {
   "cell_type": "code",
   "execution_count": 171,
   "metadata": {},
   "outputs": [
    {
     "data": {
      "text/plain": [
       "('ciencia_datos_intelligencia_artificial', 3)"
      ]
     },
     "execution_count": 171,
     "metadata": {},
     "output_type": "execute_result"
    }
   ],
   "source": [
    "re.subn(r'[\\s|\\,]','_','ciencia datos,intelligencia artificial')"
   ]
  },
  {
   "cell_type": "code",
   "execution_count": 172,
   "metadata": {},
   "outputs": [
    {
     "data": {
      "text/plain": [
       "['ciencia', 'datos', 'intelligencia', 'artificial']"
      ]
     },
     "execution_count": 172,
     "metadata": {},
     "output_type": "execute_result"
    }
   ],
   "source": [
    "re.split(r'[\\s]','ciencia datos intelligencia artificial')"
   ]
  },
  {
   "cell_type": "code",
   "execution_count": 173,
   "metadata": {},
   "outputs": [
    {
     "data": {
      "text/plain": [
       "['', 'pydatatable', '', 'machinelearning', '', '', 'ciencia']"
      ]
     },
     "execution_count": 173,
     "metadata": {},
     "output_type": "execute_result"
    }
   ],
   "source": [
    "re.split(r'[\\W]','#pydatatable $machinelearning & ciencia')"
   ]
  },
  {
   "cell_type": "code",
   "execution_count": 174,
   "metadata": {},
   "outputs": [
    {
     "data": {
      "text/plain": [
       "['', 'pydatatable', '', 'machinelearning & ciencia']"
      ]
     },
     "execution_count": 174,
     "metadata": {},
     "output_type": "execute_result"
    }
   ],
   "source": [
    "re.split(r'[\\W]','#pydatatable $machinelearning & ciencia',maxsplit=3)"
   ]
  },
  {
   "cell_type": "markdown",
   "metadata": {},
   "source": [
    "### 7. Compiled regex"
   ]
  },
  {
   "cell_type": "code",
   "execution_count": 175,
   "metadata": {},
   "outputs": [],
   "source": [
    "# a regex pattern to catch an email with only 4 letters of gmail domain\n",
    "reg_email = re.compile(r'\\b[a-z]{4}\\@gmail\\.com')"
   ]
  },
  {
   "cell_type": "code",
   "execution_count": 176,
   "metadata": {},
   "outputs": [
    {
     "data": {
      "text/plain": [
       "<re.Match object; span=(0, 14), match='mall@gmail.com'>"
      ]
     },
     "execution_count": 176,
     "metadata": {},
     "output_type": "execute_result"
    }
   ],
   "source": [
    "# case - 1\n",
    "reg_email.search('mall@gmail.com')"
   ]
  },
  {
   "cell_type": "code",
   "execution_count": 177,
   "metadata": {},
   "outputs": [
    {
     "data": {
      "text/plain": [
       "<re.Match object; span=(0, 14), match='otta@gmail.com'>"
      ]
     },
     "execution_count": 177,
     "metadata": {},
     "output_type": "execute_result"
    }
   ],
   "source": [
    "# case - 2\n",
    "reg_email.match('otta@gmail.com')"
   ]
  },
  {
   "cell_type": "code",
   "execution_count": 178,
   "metadata": {},
   "outputs": [
    {
     "data": {
      "text/plain": [
       "<callable_iterator at 0x7f0e05039b20>"
      ]
     },
     "execution_count": 178,
     "metadata": {},
     "output_type": "execute_result"
    }
   ],
   "source": [
    "# case - 3\n",
    "reg_email.finditer('cien@gmail.com')"
   ]
  },
  {
   "cell_type": "code",
   "execution_count": 179,
   "metadata": {},
   "outputs": [
    {
     "data": {
      "text/plain": [
       "<re.Match object; span=(0, 14), match='tius@gmail.com'>"
      ]
     },
     "execution_count": 179,
     "metadata": {},
     "output_type": "execute_result"
    }
   ],
   "source": [
    "# case - 4\n",
    "reg_email.fullmatch('tius@gmail.com')"
   ]
  }
 ],
 "metadata": {
  "colab": {
   "collapsed_sections": [
    "FnkGi19fLd9A",
    "3LJli1klOqgj"
   ],
   "name": "python_regex_part_1.ipynb",
   "provenance": []
  },
  "kernelspec": {
   "display_name": "Python 3",
   "language": "python",
   "name": "python3"
  },
  "language_info": {
   "codemirror_mode": {
    "name": "ipython",
    "version": 3
   },
   "file_extension": ".py",
   "mimetype": "text/x-python",
   "name": "python",
   "nbconvert_exporter": "python",
   "pygments_lexer": "ipython3",
   "version": "3.8.3"
  }
 },
 "nbformat": 4,
 "nbformat_minor": 4
}
