{
 "cells": [
  {
   "cell_type": "code",
   "execution_count": 2,
   "metadata": {},
   "outputs": [],
   "source": [
    "import datatable as dt\n",
    "from datatable import f,by,count,update,sort\n",
    "import altair as alt\n",
    "import pandas as pd\n",
    "import numpy as np"
   ]
  },
  {
   "cell_type": "code",
   "execution_count": 8,
   "metadata": {},
   "outputs": [
    {
     "data": {
      "text/html": [
       "<style type='text/css'>\n",
       ".datatable table.frame { margin-bottom: 0; }\n",
       ".datatable table.frame thead { border-bottom: none; }\n",
       ".datatable table.frame tr.coltypes td {  color: #FFFFFF;  line-height: 6px;  padding: 0 0.5em;}\n",
       ".datatable .bool    { background: #DDDD99; }\n",
       ".datatable .object  { background: #565656; }\n",
       ".datatable .int     { background: #5D9E5D; }\n",
       ".datatable .float   { background: #4040CC; }\n",
       ".datatable .str     { background: #CC4040; }\n",
       ".datatable .row_index {  background: var(--jp-border-color3);  border-right: 1px solid var(--jp-border-color0);  color: var(--jp-ui-font-color3);  font-size: 9px;}\n",
       ".datatable .frame tr.coltypes .row_index {  background: var(--jp-border-color0);}\n",
       ".datatable th:nth-child(2) { padding-left: 12px; }\n",
       ".datatable .hellipsis {  color: var(--jp-cell-editor-border-color);}\n",
       ".datatable .vellipsis {  background: var(--jp-layout-color0);  color: var(--jp-cell-editor-border-color);}\n",
       ".datatable .na {  color: var(--jp-cell-editor-border-color);  font-size: 80%;}\n",
       ".datatable .footer { font-size: 9px; }\n",
       ".datatable .frame_dimensions {  background: var(--jp-border-color3);  border-top: 1px solid var(--jp-border-color0);  color: var(--jp-ui-font-color3);  display: inline-block;  opacity: 0.6;  padding: 1px 10px 1px 5px;}\n",
       "</style>\n"
      ],
      "text/plain": [
       "<IPython.core.display.HTML object>"
      ]
     },
     "metadata": {},
     "output_type": "display_data"
    }
   ],
   "source": [
    "dt.init_styles()\n",
    "dt.options.display.head_nrows=4\n",
    "dt.options.display.tail_nrows=4"
   ]
  },
  {
   "cell_type": "code",
   "execution_count": 7,
   "metadata": {},
   "outputs": [],
   "source": [
    "phones_dt = dt.fread('https://raw.githubusercontent.com/rfordatascience/tidytuesday/master/data/2020/2020-11-10/mobile.csv')\n",
    "landlines_dt = dt.fread('https://raw.githubusercontent.com/rfordatascience/tidytuesday/master/data/2020/2020-11-10/landline.csv')"
   ]
  },
  {
   "cell_type": "code",
   "execution_count": 9,
   "metadata": {},
   "outputs": [
    {
     "data": {
      "text/html": [
       "<div class='datatable'>\n",
       "  <table class='frame'>\n",
       "  <thead>\n",
       "    <tr class='colnames'><td class='row_index'></td><th>entity</th><th>code</th><th>year</th><th>total_pop</th><th>gdp_per_cap</th><th>mobile_subs</th><th>continent</th></tr>\n",
       "    <tr class='coltypes'><td class='row_index'></td><td class='str' title='str32'>&#x25AA;&#x25AA;&#x25AA;&#x25AA;</td><td class='str' title='str32'>&#x25AA;&#x25AA;&#x25AA;&#x25AA;</td><td class='int' title='int32'>&#x25AA;&#x25AA;&#x25AA;&#x25AA;</td><td class='int' title='int32'>&#x25AA;&#x25AA;&#x25AA;&#x25AA;</td><td class='float' title='float64'>&#x25AA;&#x25AA;&#x25AA;&#x25AA;&#x25AA;&#x25AA;&#x25AA;&#x25AA;</td><td class='float' title='float64'>&#x25AA;&#x25AA;&#x25AA;&#x25AA;&#x25AA;&#x25AA;&#x25AA;&#x25AA;</td><td class='str' title='str32'>&#x25AA;&#x25AA;&#x25AA;&#x25AA;</td></tr>\n",
       "  </thead>\n",
       "  <tbody>\n",
       "    <tr><td class='row_index'>0</td><td>Afghanistan</td><td>AFG</td><td>1990</td><td>13032161</td><td><span class=na>NA</span></td><td>0</td><td>Asia</td></tr>\n",
       "    <tr><td class='row_index'>1</td><td>Afghanistan</td><td>AFG</td><td>1991</td><td>14069854</td><td><span class=na>NA</span></td><td>0</td><td>Asia</td></tr>\n",
       "    <tr><td class='row_index'>2</td><td>Afghanistan</td><td>AFG</td><td>1992</td><td>15472076</td><td><span class=na>NA</span></td><td>0</td><td>Asia</td></tr>\n",
       "    <tr><td class='row_index'>3</td><td>Afghanistan</td><td>AFG</td><td>1993</td><td>17053213</td><td><span class=na>NA</span></td><td>0</td><td>Asia</td></tr>\n",
       "    <tr><td class='row_index'>&#x22EE;</td><td class='hellipsis'>&#x22EE;</td><td class='hellipsis'>&#x22EE;</td><td class='hellipsis'>&#x22EE;</td><td class='hellipsis'>&#x22EE;</td><td class='hellipsis'>&#x22EE;</td><td class='hellipsis'>&#x22EE;</td><td class='hellipsis'>&#x22EE;</td></tr>\n",
       "    <tr><td class='row_index'>6273</td><td>Zimbabwe</td><td>ZWE</td><td>2015</td><td><span class=na>NA</span></td><td>1912.28</td><td>80.8585</td><td>Africa</td></tr>\n",
       "    <tr><td class='row_index'>6274</td><td>Zimbabwe</td><td>ZWE</td><td>2016</td><td><span class=na>NA</span></td><td>1879.63</td><td>79.7439</td><td>Africa</td></tr>\n",
       "    <tr><td class='row_index'>6275</td><td>Zimbabwe</td><td>ZWE</td><td>2017</td><td><span class=na>NA</span></td><td>1899.77</td><td>85.2522</td><td>Africa</td></tr>\n",
       "    <tr><td class='row_index'>6276</td><td>Åland Islands</td><td>ALA</td><td>2015</td><td><span class=na>NA</span></td><td><span class=na>NA</span></td><td><span class=na>NA</span></td><td>Europe</td></tr>\n",
       "  </tbody>\n",
       "  </table>\n",
       "  <div class='footer'>\n",
       "    <div class='frame_dimensions'>6277 rows &times; 7 columns</div>\n",
       "  </div>\n",
       "</div>\n"
      ],
      "text/plain": [
       "<Frame#7f261b338a50 6277x7>"
      ]
     },
     "execution_count": 9,
     "metadata": {},
     "output_type": "execute_result"
    }
   ],
   "source": [
    "phones_dt"
   ]
  },
  {
   "cell_type": "code",
   "execution_count": 10,
   "metadata": {},
   "outputs": [
    {
     "data": {
      "text/html": [
       "<div class='datatable'>\n",
       "  <table class='frame'>\n",
       "  <thead>\n",
       "    <tr class='colnames'><td class='row_index'></td><th>entity</th><th>code</th><th>year</th><th>total_pop</th><th>gdp_per_cap</th><th>landline_subs</th><th>continent</th></tr>\n",
       "    <tr class='coltypes'><td class='row_index'></td><td class='str' title='str32'>&#x25AA;&#x25AA;&#x25AA;&#x25AA;</td><td class='str' title='str32'>&#x25AA;&#x25AA;&#x25AA;&#x25AA;</td><td class='int' title='int32'>&#x25AA;&#x25AA;&#x25AA;&#x25AA;</td><td class='int' title='int32'>&#x25AA;&#x25AA;&#x25AA;&#x25AA;</td><td class='float' title='float64'>&#x25AA;&#x25AA;&#x25AA;&#x25AA;&#x25AA;&#x25AA;&#x25AA;&#x25AA;</td><td class='float' title='float64'>&#x25AA;&#x25AA;&#x25AA;&#x25AA;&#x25AA;&#x25AA;&#x25AA;&#x25AA;</td><td class='str' title='str32'>&#x25AA;&#x25AA;&#x25AA;&#x25AA;</td></tr>\n",
       "  </thead>\n",
       "  <tbody>\n",
       "    <tr><td class='row_index'>0</td><td>Afghanistan</td><td>AFG</td><td>1990</td><td>12412000</td><td><span class=na>NA</span></td><td>0.295532</td><td>Asia</td></tr>\n",
       "    <tr><td class='row_index'>1</td><td>Afghanistan</td><td>AFG</td><td>1991</td><td>13299000</td><td><span class=na>NA</span></td><td>0.284754</td><td>Asia</td></tr>\n",
       "    <tr><td class='row_index'>2</td><td>Afghanistan</td><td>AFG</td><td>1992</td><td>14486000</td><td><span class=na>NA</span></td><td>0.207421</td><td>Asia</td></tr>\n",
       "    <tr><td class='row_index'>3</td><td>Afghanistan</td><td>AFG</td><td>1993</td><td>15817000</td><td><span class=na>NA</span></td><td>0.192115</td><td>Asia</td></tr>\n",
       "    <tr><td class='row_index'>&#x22EE;</td><td class='hellipsis'>&#x22EE;</td><td class='hellipsis'>&#x22EE;</td><td class='hellipsis'>&#x22EE;</td><td class='hellipsis'>&#x22EE;</td><td class='hellipsis'>&#x22EE;</td><td class='hellipsis'>&#x22EE;</td><td class='hellipsis'>&#x22EE;</td></tr>\n",
       "    <tr><td class='row_index'>6970</td><td>Zimbabwe</td><td>ZWE</td><td>2017</td><td>14237000</td><td>1899.77</td><td>1.59801</td><td>Africa</td></tr>\n",
       "    <tr><td class='row_index'>6971</td><td>Zimbabwe</td><td>ZWE</td><td>2018</td><td>14439000</td><td><span class=na>NA</span></td><td><span class=na>NA</span></td><td>Africa</td></tr>\n",
       "    <tr><td class='row_index'>6972</td><td>Zimbabwe</td><td>ZWE</td><td>2019</td><td>14645000</td><td><span class=na>NA</span></td><td><span class=na>NA</span></td><td>Africa</td></tr>\n",
       "    <tr><td class='row_index'>6973</td><td>Åland Islands</td><td>ALA</td><td>2015</td><td><span class=na>NA</span></td><td><span class=na>NA</span></td><td><span class=na>NA</span></td><td>Europe</td></tr>\n",
       "  </tbody>\n",
       "  </table>\n",
       "  <div class='footer'>\n",
       "    <div class='frame_dimensions'>6974 rows &times; 7 columns</div>\n",
       "  </div>\n",
       "</div>\n"
      ],
      "text/plain": [
       "<Frame#7f261b306840 6974x7>"
      ]
     },
     "execution_count": 10,
     "metadata": {},
     "output_type": "execute_result"
    }
   ],
   "source": [
    "landlines_dt"
   ]
  },
  {
   "cell_type": "code",
   "execution_count": null,
   "metadata": {},
   "outputs": [],
   "source": []
  }
 ],
 "metadata": {
  "kernelspec": {
   "display_name": "Python 3",
   "language": "python",
   "name": "python3"
  },
  "language_info": {
   "codemirror_mode": {
    "name": "ipython",
    "version": 3
   },
   "file_extension": ".py",
   "mimetype": "text/x-python",
   "name": "python",
   "nbconvert_exporter": "python",
   "pygments_lexer": "ipython3",
   "version": "3.8.3"
  }
 },
 "nbformat": 4,
 "nbformat_minor": 4
}
