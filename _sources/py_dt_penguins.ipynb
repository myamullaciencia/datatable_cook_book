{
 "cells": [
  {
   "cell_type": "markdown",
   "metadata": {},
   "source": [
    "# Py: Tidy data analysis - Penguins"
   ]
  },
  {
   "cell_type": "code",
   "execution_count": null,
   "metadata": {},
   "outputs": [],
   "source": [
    "# Loading libraries \n",
    "import datatable as dt\n",
    "from datatable import f,by,count,update,sort\n",
    "import altair as alt\n",
    "import pandas as pd\n",
    "import numpy as np"
   ]
  },
  {
   "cell_type": "code",
   "execution_count": 2,
   "metadata": {},
   "outputs": [
    {
     "data": {
      "text/html": [
       "<style type='text/css'>\n",
       ".datatable table.frame { margin-bottom: 0; }\n",
       ".datatable table.frame thead { border-bottom: none; }\n",
       ".datatable table.frame tr.coltypes td {  color: #FFFFFF;  line-height: 6px;  padding: 0 0.5em;}\n",
       ".datatable .boolean { background: #DDDD99; }\n",
       ".datatable .object  { background: #565656; }\n",
       ".datatable .integer { background: #5D9E5D; }\n",
       ".datatable .float   { background: #4040CC; }\n",
       ".datatable .string  { background: #CC4040; }\n",
       ".datatable .row_index {  background: var(--jp-border-color3);  border-right: 1px solid var(--jp-border-color0);  color: var(--jp-ui-font-color3);  font-size: 9px;}\n",
       ".datatable .frame tr.coltypes .row_index {  background: var(--jp-border-color0);}\n",
       ".datatable th:nth-child(2) { padding-left: 12px; }\n",
       ".datatable .hellipsis {  color: var(--jp-cell-editor-border-color);}\n",
       ".datatable .vellipsis {  background: var(--jp-layout-color0);  color: var(--jp-cell-editor-border-color);}\n",
       ".datatable .na {  color: var(--jp-cell-editor-border-color);  font-size: 80%;}\n",
       ".datatable .footer { font-size: 9px; }\n",
       ".datatable .frame_dimensions {  background: var(--jp-border-color3);  border-top: 1px solid var(--jp-border-color0);  color: var(--jp-ui-font-color3);  display: inline-block;  opacity: 0.6;  padding: 1px 10px 1px 5px;}\n",
       "</style>\n"
      ],
      "text/plain": [
       "<IPython.core.display.HTML object>"
      ]
     },
     "metadata": {},
     "output_type": "display_data"
    }
   ],
   "source": [
    "# Confifuring a set of DT options\n",
    "dt.init_styles()\n",
    "dt.options.display.head_nrows=4\n",
    "dt.options.display.tail_nrows=4"
   ]
  },
  {
   "cell_type": "code",
   "execution_count": 3,
   "metadata": {},
   "outputs": [],
   "source": [
    "# Importing data from a github source\n",
    "penguins_dt = dt.fread('https://raw.githubusercontent.com/rfordatascience/tidytuesday/master/data/2020/2020-07-28/penguins.csv')"
   ]
  },
  {
   "cell_type": "code",
   "execution_count": 4,
   "metadata": {},
   "outputs": [
    {
     "data": {
      "text/html": [
       "<div class='datatable'>\n",
       "  <table class='frame'>\n",
       "  <thead>\n",
       "    <tr class='colnames'><td class='row_index'></td><th>species</th><th>island</th><th>bill_length_mm</th><th>bill_depth_mm</th><th>flipper_length_mm</th><th>body_mass_g</th><th>sex</th><th>year</th></tr>\n",
       "    <tr class='coltypes'><td class='row_index'></td><td class='string' title='str32'>&#x25AA;&#x25AA;&#x25AA;&#x25AA;</td><td class='string' title='str32'>&#x25AA;&#x25AA;&#x25AA;&#x25AA;</td><td class='float' title='float64'>&#x25AA;&#x25AA;&#x25AA;&#x25AA;&#x25AA;&#x25AA;&#x25AA;&#x25AA;</td><td class='float' title='float64'>&#x25AA;&#x25AA;&#x25AA;&#x25AA;&#x25AA;&#x25AA;&#x25AA;&#x25AA;</td><td class='integer' title='int32'>&#x25AA;&#x25AA;&#x25AA;&#x25AA;</td><td class='integer' title='int32'>&#x25AA;&#x25AA;&#x25AA;&#x25AA;</td><td class='string' title='str32'>&#x25AA;&#x25AA;&#x25AA;&#x25AA;</td><td class='integer' title='int32'>&#x25AA;&#x25AA;&#x25AA;&#x25AA;</td></tr>\n",
       "  </thead>\n",
       "  <tbody>\n",
       "    <tr><td class='row_index'>0</td><td>Adelie</td><td>Torgersen</td><td>39.1</td><td>18.7</td><td>181</td><td>3750</td><td>male</td><td>2007</td></tr>\n",
       "    <tr><td class='row_index'>1</td><td>Adelie</td><td>Torgersen</td><td>39.5</td><td>17.4</td><td>186</td><td>3800</td><td>female</td><td>2007</td></tr>\n",
       "    <tr><td class='row_index'>2</td><td>Adelie</td><td>Torgersen</td><td>40.3</td><td>18</td><td>195</td><td>3250</td><td>female</td><td>2007</td></tr>\n",
       "    <tr><td class='row_index'>3</td><td>Adelie</td><td>Torgersen</td><td><span class=na>NA</span></td><td><span class=na>NA</span></td><td><span class=na>NA</span></td><td><span class=na>NA</span></td><td><span class=na>NA</span></td><td>2007</td></tr>\n",
       "    <tr><td class='row_index'>&#x22EE;</td><td class='hellipsis'>&#x22EE;</td><td class='hellipsis'>&#x22EE;</td><td class='hellipsis'>&#x22EE;</td><td class='hellipsis'>&#x22EE;</td><td class='hellipsis'>&#x22EE;</td><td class='hellipsis'>&#x22EE;</td><td class='hellipsis'>&#x22EE;</td><td class='hellipsis'>&#x22EE;</td></tr>\n",
       "    <tr><td class='row_index'>340</td><td>Chinstrap</td><td>Dream</td><td>43.5</td><td>18.1</td><td>202</td><td>3400</td><td>female</td><td>2009</td></tr>\n",
       "    <tr><td class='row_index'>341</td><td>Chinstrap</td><td>Dream</td><td>49.6</td><td>18.2</td><td>193</td><td>3775</td><td>male</td><td>2009</td></tr>\n",
       "    <tr><td class='row_index'>342</td><td>Chinstrap</td><td>Dream</td><td>50.8</td><td>19</td><td>210</td><td>4100</td><td>male</td><td>2009</td></tr>\n",
       "    <tr><td class='row_index'>343</td><td>Chinstrap</td><td>Dream</td><td>50.2</td><td>18.7</td><td>198</td><td>3775</td><td>female</td><td>2009</td></tr>\n",
       "  </tbody>\n",
       "  </table>\n",
       "  <div class='footer'>\n",
       "    <div class='frame_dimensions'>344 rows &times; 8 columns</div>\n",
       "  </div>\n",
       "</div>\n"
      ],
      "text/plain": [
       "<Frame [344 rows x 8 cols]>"
      ]
     },
     "execution_count": 4,
     "metadata": {},
     "output_type": "execute_result"
    }
   ],
   "source": [
    "# Glance at data\n",
    "penguins_dt"
   ]
  },
  {
   "cell_type": "code",
   "execution_count": 5,
   "metadata": {},
   "outputs": [
    {
     "data": {
      "text/plain": [
       "(stype.str32,\n",
       " stype.str32,\n",
       " stype.float64,\n",
       " stype.float64,\n",
       " stype.int32,\n",
       " stype.int32,\n",
       " stype.str32,\n",
       " stype.int32)"
      ]
     },
     "execution_count": 5,
     "metadata": {},
     "output_type": "execute_result"
    }
   ],
   "source": [
    "# Check datatypes of DT columns\n",
    "penguins_dt.stypes"
   ]
  },
  {
   "cell_type": "code",
   "execution_count": 6,
   "metadata": {},
   "outputs": [
    {
     "data": {
      "text/html": [
       "<div class='datatable'>\n",
       "  <table class='frame'>\n",
       "  <thead>\n",
       "    <tr class='colnames'><td class='row_index'></td><th>species</th><th>island</th><th>bill_length_mm</th><th>bill_depth_mm</th><th>flipper_length_mm</th><th>body_mass_g</th><th>sex</th><th>year</th></tr>\n",
       "    <tr class='coltypes'><td class='row_index'></td><td class='integer' title='int64'>&#x25AA;&#x25AA;&#x25AA;&#x25AA;&#x25AA;&#x25AA;&#x25AA;&#x25AA;</td><td class='integer' title='int64'>&#x25AA;&#x25AA;&#x25AA;&#x25AA;&#x25AA;&#x25AA;&#x25AA;&#x25AA;</td><td class='integer' title='int64'>&#x25AA;&#x25AA;&#x25AA;&#x25AA;&#x25AA;&#x25AA;&#x25AA;&#x25AA;</td><td class='integer' title='int64'>&#x25AA;&#x25AA;&#x25AA;&#x25AA;&#x25AA;&#x25AA;&#x25AA;&#x25AA;</td><td class='integer' title='int64'>&#x25AA;&#x25AA;&#x25AA;&#x25AA;&#x25AA;&#x25AA;&#x25AA;&#x25AA;</td><td class='integer' title='int64'>&#x25AA;&#x25AA;&#x25AA;&#x25AA;&#x25AA;&#x25AA;&#x25AA;&#x25AA;</td><td class='integer' title='int64'>&#x25AA;&#x25AA;&#x25AA;&#x25AA;&#x25AA;&#x25AA;&#x25AA;&#x25AA;</td><td class='integer' title='int64'>&#x25AA;&#x25AA;&#x25AA;&#x25AA;&#x25AA;&#x25AA;&#x25AA;&#x25AA;</td></tr>\n",
       "  </thead>\n",
       "  <tbody>\n",
       "    <tr><td class='row_index'>0</td><td>0</td><td>0</td><td>2</td><td>2</td><td>2</td><td>2</td><td>11</td><td>0</td></tr>\n",
       "  </tbody>\n",
       "  </table>\n",
       "  <div class='footer'>\n",
       "    <div class='frame_dimensions'>1 row &times; 8 columns</div>\n",
       "  </div>\n",
       "</div>\n"
      ],
      "text/plain": [
       "<Frame [1 row x 8 cols]>"
      ]
     },
     "execution_count": 6,
     "metadata": {},
     "output_type": "execute_result"
    }
   ],
   "source": [
    "# Check any NA's acroos all columns\n",
    "penguins_dt.countna()"
   ]
  },
  {
   "cell_type": "code",
   "execution_count": 7,
   "metadata": {},
   "outputs": [
    {
     "data": {
      "text/html": [
       "<div class='datatable'>\n",
       "  <table class='frame'>\n",
       "  <thead>\n",
       "    <tr class='colnames'><td class='row_index'></td><th>species</th><th>island</th><th>bill_length_mm</th><th>bill_depth_mm</th><th>flipper_length_mm</th><th>body_mass_g</th><th>sex</th><th>year</th></tr>\n",
       "    <tr class='coltypes'><td class='row_index'></td><td class='integer' title='int64'>&#x25AA;&#x25AA;&#x25AA;&#x25AA;&#x25AA;&#x25AA;&#x25AA;&#x25AA;</td><td class='integer' title='int64'>&#x25AA;&#x25AA;&#x25AA;&#x25AA;&#x25AA;&#x25AA;&#x25AA;&#x25AA;</td><td class='integer' title='int64'>&#x25AA;&#x25AA;&#x25AA;&#x25AA;&#x25AA;&#x25AA;&#x25AA;&#x25AA;</td><td class='integer' title='int64'>&#x25AA;&#x25AA;&#x25AA;&#x25AA;&#x25AA;&#x25AA;&#x25AA;&#x25AA;</td><td class='integer' title='int64'>&#x25AA;&#x25AA;&#x25AA;&#x25AA;&#x25AA;&#x25AA;&#x25AA;&#x25AA;</td><td class='integer' title='int64'>&#x25AA;&#x25AA;&#x25AA;&#x25AA;&#x25AA;&#x25AA;&#x25AA;&#x25AA;</td><td class='integer' title='int64'>&#x25AA;&#x25AA;&#x25AA;&#x25AA;&#x25AA;&#x25AA;&#x25AA;&#x25AA;</td><td class='integer' title='int64'>&#x25AA;&#x25AA;&#x25AA;&#x25AA;&#x25AA;&#x25AA;&#x25AA;&#x25AA;</td></tr>\n",
       "  </thead>\n",
       "  <tbody>\n",
       "    <tr><td class='row_index'>0</td><td>3</td><td>3</td><td>164</td><td>80</td><td>55</td><td>94</td><td>2</td><td>3</td></tr>\n",
       "  </tbody>\n",
       "  </table>\n",
       "  <div class='footer'>\n",
       "    <div class='frame_dimensions'>1 row &times; 8 columns</div>\n",
       "  </div>\n",
       "</div>\n"
      ],
      "text/plain": [
       "<Frame [1 row x 8 cols]>"
      ]
     },
     "execution_count": 7,
     "metadata": {},
     "output_type": "execute_result"
    }
   ],
   "source": [
    "# Look at the number of unique values per column\n",
    "penguins_dt.nunique()"
   ]
  },
  {
   "cell_type": "code",
   "execution_count": 8,
   "metadata": {},
   "outputs": [
    {
     "name": "stdout",
     "output_type": "stream",
     "text": [
      "species- is a type of: stype.str32 \n",
      "island- is a type of: stype.str32 \n",
      "bill_length_mm- is a type of: stype.float64 \n",
      "bill_depth_mm- is a type of: stype.float64 \n",
      "flipper_length_mm- is a type of: stype.int32 \n",
      "body_mass_g- is a type of: stype.int32 \n",
      "sex- is a type of: stype.str32 \n",
      "year- is a type of: stype.int32 \n"
     ]
    }
   ],
   "source": [
    "# Displaying DT  names and their types\n",
    "for cname,ctype in zip(penguins_dt.names,penguins_dt.stypes):\n",
    "    print(f'{cname}- is a type of: {ctype} ')"
   ]
  },
  {
   "cell_type": "code",
   "execution_count": 9,
   "metadata": {},
   "outputs": [
    {
     "data": {
      "text/html": [
       "<div class='datatable'>\n",
       "  <table class='frame'>\n",
       "  <thead>\n",
       "    <tr class='colnames'><td class='row_index'></td><th>bill_length_mm</th><th>bill_depth_mm</th><th>flipper_length_mm</th><th>body_mass_g</th></tr>\n",
       "    <tr class='coltypes'><td class='row_index'></td><td class='float' title='float64'>&#x25AA;&#x25AA;&#x25AA;&#x25AA;&#x25AA;&#x25AA;&#x25AA;&#x25AA;</td><td class='float' title='float64'>&#x25AA;&#x25AA;&#x25AA;&#x25AA;&#x25AA;&#x25AA;&#x25AA;&#x25AA;</td><td class='integer' title='int32'>&#x25AA;&#x25AA;&#x25AA;&#x25AA;</td><td class='integer' title='int32'>&#x25AA;&#x25AA;&#x25AA;&#x25AA;</td></tr>\n",
       "  </thead>\n",
       "  <tbody>\n",
       "    <tr><td class='row_index'>0</td><td>39.1</td><td>18.7</td><td>181</td><td>3750</td></tr>\n",
       "    <tr><td class='row_index'>1</td><td>39.5</td><td>17.4</td><td>186</td><td>3800</td></tr>\n",
       "    <tr><td class='row_index'>2</td><td>40.3</td><td>18</td><td>195</td><td>3250</td></tr>\n",
       "    <tr><td class='row_index'>3</td><td><span class=na>NA</span></td><td><span class=na>NA</span></td><td><span class=na>NA</span></td><td><span class=na>NA</span></td></tr>\n",
       "    <tr><td class='row_index'>4</td><td>36.7</td><td>19.3</td><td>193</td><td>3450</td></tr>\n",
       "  </tbody>\n",
       "  </table>\n",
       "  <div class='footer'>\n",
       "    <div class='frame_dimensions'>5 rows &times; 4 columns</div>\n",
       "  </div>\n",
       "</div>\n"
      ],
      "text/plain": [
       "<Frame [5 rows x 4 cols]>"
      ]
     },
     "execution_count": 9,
     "metadata": {},
     "output_type": "execute_result"
    }
   ],
   "source": [
    "# First five observations from 2 to 5 columns in DT\n",
    "penguins_dt[:5,2:6]"
   ]
  },
  {
   "cell_type": "code",
   "execution_count": 10,
   "metadata": {},
   "outputs": [
    {
     "data": {
      "text/html": [
       "<div class='datatable'>\n",
       "  <table class='frame'>\n",
       "  <thead>\n",
       "    <tr class='colnames'><td class='row_index'></td><th>species</th><th>island</th><th>bill_length_mm</th><th>bill_depth_mm</th><th>flipper_length_mm</th><th>body_mass_g</th><th>sex</th><th>year</th></tr>\n",
       "    <tr class='coltypes'><td class='row_index'></td><td class='string' title='str32'>&#x25AA;&#x25AA;&#x25AA;&#x25AA;</td><td class='string' title='str32'>&#x25AA;&#x25AA;&#x25AA;&#x25AA;</td><td class='float' title='float64'>&#x25AA;&#x25AA;&#x25AA;&#x25AA;&#x25AA;&#x25AA;&#x25AA;&#x25AA;</td><td class='float' title='float64'>&#x25AA;&#x25AA;&#x25AA;&#x25AA;&#x25AA;&#x25AA;&#x25AA;&#x25AA;</td><td class='integer' title='int32'>&#x25AA;&#x25AA;&#x25AA;&#x25AA;</td><td class='integer' title='int32'>&#x25AA;&#x25AA;&#x25AA;&#x25AA;</td><td class='string' title='str32'>&#x25AA;&#x25AA;&#x25AA;&#x25AA;</td><td class='integer' title='int32'>&#x25AA;&#x25AA;&#x25AA;&#x25AA;</td></tr>\n",
       "  </thead>\n",
       "  <tbody>\n",
       "    <tr><td class='row_index'>0</td><td>Chinstrap</td><td>Dream</td><td>55.8</td><td>19.8</td><td>207</td><td>4000</td><td>male</td><td>2009</td></tr>\n",
       "    <tr><td class='row_index'>1</td><td>Chinstrap</td><td>Dream</td><td>43.5</td><td>18.1</td><td>202</td><td>3400</td><td>female</td><td>2009</td></tr>\n",
       "    <tr><td class='row_index'>2</td><td>Chinstrap</td><td>Dream</td><td>49.6</td><td>18.2</td><td>193</td><td>3775</td><td>male</td><td>2009</td></tr>\n",
       "    <tr><td class='row_index'>3</td><td>Chinstrap</td><td>Dream</td><td>50.8</td><td>19</td><td>210</td><td>4100</td><td>male</td><td>2009</td></tr>\n",
       "    <tr><td class='row_index'>4</td><td>Chinstrap</td><td>Dream</td><td>50.2</td><td>18.7</td><td>198</td><td>3775</td><td>female</td><td>2009</td></tr>\n",
       "  </tbody>\n",
       "  </table>\n",
       "  <div class='footer'>\n",
       "    <div class='frame_dimensions'>5 rows &times; 8 columns</div>\n",
       "  </div>\n",
       "</div>\n"
      ],
      "text/plain": [
       "<Frame [5 rows x 8 cols]>"
      ]
     },
     "execution_count": 10,
     "metadata": {},
     "output_type": "execute_result"
    }
   ],
   "source": [
    "# Last five observations from DT\n",
    "penguins_dt[-5:,:]"
   ]
  },
  {
   "cell_type": "code",
   "execution_count": 11,
   "metadata": {},
   "outputs": [
    {
     "data": {
      "text/html": [
       "<div class='datatable'>\n",
       "  <table class='frame'>\n",
       "  <thead>\n",
       "    <tr class='colnames'><td class='row_index'></td><th>body_mass_g</th><th>sex</th><th>year</th></tr>\n",
       "    <tr class='coltypes'><td class='row_index'></td><td class='integer' title='int32'>&#x25AA;&#x25AA;&#x25AA;&#x25AA;</td><td class='string' title='str32'>&#x25AA;&#x25AA;&#x25AA;&#x25AA;</td><td class='integer' title='int32'>&#x25AA;&#x25AA;&#x25AA;&#x25AA;</td></tr>\n",
       "  </thead>\n",
       "  <tbody>\n",
       "    <tr><td class='row_index'>0</td><td>3750</td><td>male</td><td>2007</td></tr>\n",
       "    <tr><td class='row_index'>1</td><td>3800</td><td>female</td><td>2007</td></tr>\n",
       "    <tr><td class='row_index'>2</td><td>3250</td><td>female</td><td>2007</td></tr>\n",
       "    <tr><td class='row_index'>3</td><td><span class=na>NA</span></td><td><span class=na>NA</span></td><td>2007</td></tr>\n",
       "    <tr><td class='row_index'>&#x22EE;</td><td class='hellipsis'>&#x22EE;</td><td class='hellipsis'>&#x22EE;</td><td class='hellipsis'>&#x22EE;</td></tr>\n",
       "    <tr><td class='row_index'>340</td><td>3400</td><td>female</td><td>2009</td></tr>\n",
       "    <tr><td class='row_index'>341</td><td>3775</td><td>male</td><td>2009</td></tr>\n",
       "    <tr><td class='row_index'>342</td><td>4100</td><td>male</td><td>2009</td></tr>\n",
       "    <tr><td class='row_index'>343</td><td>3775</td><td>female</td><td>2009</td></tr>\n",
       "  </tbody>\n",
       "  </table>\n",
       "  <div class='footer'>\n",
       "    <div class='frame_dimensions'>344 rows &times; 3 columns</div>\n",
       "  </div>\n",
       "</div>\n"
      ],
      "text/plain": [
       "<Frame [344 rows x 3 cols]>"
      ]
     },
     "execution_count": 11,
     "metadata": {},
     "output_type": "execute_result"
    }
   ],
   "source": [
    "# All observations for last 3 columns\n",
    "penguins_dt[:,-3:]"
   ]
  },
  {
   "cell_type": "code",
   "execution_count": 12,
   "metadata": {},
   "outputs": [
    {
     "data": {
      "text/html": [
       "<div class='datatable'>\n",
       "  <table class='frame'>\n",
       "  <thead>\n",
       "    <tr class='colnames'><td class='row_index'></td><th>species</th><th>island</th><th>bill_length_mm</th><th>bill_depth_mm</th><th>flipper_length_mm</th><th>body_mass_g</th><th>sex</th><th>year</th></tr>\n",
       "    <tr class='coltypes'><td class='row_index'></td><td class='string' title='str32'>&#x25AA;&#x25AA;&#x25AA;&#x25AA;</td><td class='string' title='str32'>&#x25AA;&#x25AA;&#x25AA;&#x25AA;</td><td class='float' title='float64'>&#x25AA;&#x25AA;&#x25AA;&#x25AA;&#x25AA;&#x25AA;&#x25AA;&#x25AA;</td><td class='float' title='float64'>&#x25AA;&#x25AA;&#x25AA;&#x25AA;&#x25AA;&#x25AA;&#x25AA;&#x25AA;</td><td class='integer' title='int32'>&#x25AA;&#x25AA;&#x25AA;&#x25AA;</td><td class='integer' title='int32'>&#x25AA;&#x25AA;&#x25AA;&#x25AA;</td><td class='string' title='str32'>&#x25AA;&#x25AA;&#x25AA;&#x25AA;</td><td class='integer' title='int32'>&#x25AA;&#x25AA;&#x25AA;&#x25AA;</td></tr>\n",
       "  </thead>\n",
       "  <tbody>\n",
       "    <tr><td class='row_index'>0</td><td>Adelie</td><td>Torgersen</td><td>34.1</td><td>18.1</td><td>193</td><td>3475</td><td><span class=na>NA</span></td><td>2007</td></tr>\n",
       "    <tr><td class='row_index'>1</td><td>Adelie</td><td>Torgersen</td><td>42</td><td>20.2</td><td>190</td><td>4250</td><td><span class=na>NA</span></td><td>2007</td></tr>\n",
       "    <tr><td class='row_index'>2</td><td>Adelie</td><td>Torgersen</td><td>37.8</td><td>17.1</td><td>186</td><td>3300</td><td><span class=na>NA</span></td><td>2007</td></tr>\n",
       "    <tr><td class='row_index'>3</td><td>Adelie</td><td>Torgersen</td><td>37.8</td><td>17.3</td><td>180</td><td>3700</td><td><span class=na>NA</span></td><td>2007</td></tr>\n",
       "    <tr><td class='row_index'>4</td><td>Adelie</td><td>Dream</td><td>37.5</td><td>18.9</td><td>179</td><td>2975</td><td><span class=na>NA</span></td><td>2007</td></tr>\n",
       "    <tr><td class='row_index'>5</td><td>Gentoo</td><td>Biscoe</td><td>44.5</td><td>14.3</td><td>216</td><td>4100</td><td><span class=na>NA</span></td><td>2007</td></tr>\n",
       "    <tr><td class='row_index'>6</td><td>Gentoo</td><td>Biscoe</td><td>46.2</td><td>14.4</td><td>214</td><td>4650</td><td><span class=na>NA</span></td><td>2008</td></tr>\n",
       "    <tr><td class='row_index'>7</td><td>Gentoo</td><td>Biscoe</td><td>47.3</td><td>13.8</td><td>216</td><td>4725</td><td><span class=na>NA</span></td><td>2009</td></tr>\n",
       "    <tr><td class='row_index'>8</td><td>Gentoo</td><td>Biscoe</td><td>44.5</td><td>15.7</td><td>217</td><td>4875</td><td><span class=na>NA</span></td><td>2009</td></tr>\n",
       "  </tbody>\n",
       "  </table>\n",
       "  <div class='footer'>\n",
       "    <div class='frame_dimensions'>9 rows &times; 8 columns</div>\n",
       "  </div>\n",
       "</div>\n"
      ],
      "text/plain": [
       "<Frame [9 rows x 8 cols]>"
      ]
     },
     "execution_count": 12,
     "metadata": {},
     "output_type": "execute_result"
    }
   ],
   "source": [
    "# Filter out NA's from sex and body mass g columns\n",
    "penguins_dt[(dt.isna(f.sex) & ~dt.isna(f.body_mass_g)),:]"
   ]
  },
  {
   "cell_type": "code",
   "execution_count": 146,
   "metadata": {},
   "outputs": [
    {
     "data": {
      "text/html": [
       "<div class='datatable'>\n",
       "  <table class='frame'>\n",
       "  <thead>\n",
       "    <tr class='colnames'><td class='row_index'></td><th>sex</th><th>flipper_length_mm</th><th>body_mass_g</th><th>bill_length_mm</th><th>bill_depth_mm</th></tr>\n",
       "    <tr class='coltypes'><td class='row_index'></td><td class='string' title='str32'>&#x25AA;&#x25AA;&#x25AA;&#x25AA;</td><td class='float' title='float64'>&#x25AA;&#x25AA;&#x25AA;&#x25AA;&#x25AA;&#x25AA;&#x25AA;&#x25AA;</td><td class='float' title='float64'>&#x25AA;&#x25AA;&#x25AA;&#x25AA;&#x25AA;&#x25AA;&#x25AA;&#x25AA;</td><td class='float' title='float64'>&#x25AA;&#x25AA;&#x25AA;&#x25AA;&#x25AA;&#x25AA;&#x25AA;&#x25AA;</td><td class='float' title='float64'>&#x25AA;&#x25AA;&#x25AA;&#x25AA;&#x25AA;&#x25AA;&#x25AA;&#x25AA;</td></tr>\n",
       "  </thead>\n",
       "  <tbody>\n",
       "    <tr><td class='row_index'>0</td><td>female</td><td>197.364</td><td>3862.27</td><td>42.097</td><td>16.4255</td></tr>\n",
       "    <tr><td class='row_index'>1</td><td>male</td><td>204.506</td><td>4545.68</td><td>45.8548</td><td>17.8911</td></tr>\n",
       "  </tbody>\n",
       "  </table>\n",
       "  <div class='footer'>\n",
       "    <div class='frame_dimensions'>2 rows &times; 5 columns</div>\n",
       "  </div>\n",
       "</div>\n"
      ],
      "text/plain": [
       "<Frame [2 rows x 5 cols]>"
      ]
     },
     "execution_count": 146,
     "metadata": {},
     "output_type": "execute_result"
    }
   ],
   "source": [
    "# mean of all numerics columns per different penguin sex categories\n",
    "penguins_dt[~dt.isna(f.sex),:\n",
    "           ][:,dt.mean((f[dt.int32].remove(f.year),f[dt.float64])),by(f.sex)]"
   ]
  },
  {
   "cell_type": "code",
   "execution_count": 14,
   "metadata": {},
   "outputs": [],
   "source": [
    "# step - 1 : finding a max value of body_mass of penguins per sex\n",
    "penguins_dt[:,update(temp=f.body_mass_g==dt.max(f.body_mass_g)),by(f.sex)]"
   ]
  },
  {
   "cell_type": "code",
   "execution_count": 15,
   "metadata": {},
   "outputs": [
    {
     "data": {
      "text/html": [
       "<div class='datatable'>\n",
       "  <table class='frame'>\n",
       "  <thead>\n",
       "    <tr class='colnames'><td class='row_index'></td><th>species</th><th>island</th><th>bill_length_mm</th><th>bill_depth_mm</th><th>flipper_length_mm</th><th>body_mass_g</th><th>sex</th><th>year</th></tr>\n",
       "    <tr class='coltypes'><td class='row_index'></td><td class='string' title='str32'>&#x25AA;&#x25AA;&#x25AA;&#x25AA;</td><td class='string' title='str32'>&#x25AA;&#x25AA;&#x25AA;&#x25AA;</td><td class='float' title='float64'>&#x25AA;&#x25AA;&#x25AA;&#x25AA;&#x25AA;&#x25AA;&#x25AA;&#x25AA;</td><td class='float' title='float64'>&#x25AA;&#x25AA;&#x25AA;&#x25AA;&#x25AA;&#x25AA;&#x25AA;&#x25AA;</td><td class='integer' title='int32'>&#x25AA;&#x25AA;&#x25AA;&#x25AA;</td><td class='integer' title='int32'>&#x25AA;&#x25AA;&#x25AA;&#x25AA;</td><td class='string' title='str32'>&#x25AA;&#x25AA;&#x25AA;&#x25AA;</td><td class='integer' title='int32'>&#x25AA;&#x25AA;&#x25AA;&#x25AA;</td></tr>\n",
       "  </thead>\n",
       "  <tbody>\n",
       "    <tr><td class='row_index'>0</td><td>Gentoo</td><td>Biscoe</td><td>49.2</td><td>15.2</td><td>221</td><td>6300</td><td>male</td><td>2007</td></tr>\n",
       "    <tr><td class='row_index'>1</td><td>Gentoo</td><td>Biscoe</td><td>46.5</td><td>14.8</td><td>217</td><td>5200</td><td>female</td><td>2008</td></tr>\n",
       "    <tr><td class='row_index'>2</td><td>Gentoo</td><td>Biscoe</td><td>44.5</td><td>15.7</td><td>217</td><td>4875</td><td><span class=na>NA</span></td><td>2009</td></tr>\n",
       "    <tr><td class='row_index'>3</td><td>Gentoo</td><td>Biscoe</td><td>45.2</td><td>14.8</td><td>212</td><td>5200</td><td>female</td><td>2009</td></tr>\n",
       "  </tbody>\n",
       "  </table>\n",
       "  <div class='footer'>\n",
       "    <div class='frame_dimensions'>4 rows &times; 8 columns</div>\n",
       "  </div>\n",
       "</div>\n"
      ],
      "text/plain": [
       "<Frame [4 rows x 8 cols]>"
      ]
     },
     "execution_count": 15,
     "metadata": {},
     "output_type": "execute_result"
    }
   ],
   "source": [
    "# step - 2 : finding a max value of body_mass of penguins per sex\n",
    "penguins_dt[f.temp==1,f[:].remove(f.temp)]"
   ]
  },
  {
   "cell_type": "code",
   "execution_count": 16,
   "metadata": {},
   "outputs": [],
   "source": [
    "# step - 1 : finding a min value of body_mass of penguins per sex\n",
    "penguins_dt[:,update(temp=f.body_mass_g==dt.min(f.body_mass_g)),by(f.sex)]"
   ]
  },
  {
   "cell_type": "code",
   "execution_count": 17,
   "metadata": {},
   "outputs": [
    {
     "data": {
      "text/html": [
       "<div class='datatable'>\n",
       "  <table class='frame'>\n",
       "  <thead>\n",
       "    <tr class='colnames'><td class='row_index'></td><th>species</th><th>island</th><th>bill_length_mm</th><th>bill_depth_mm</th><th>flipper_length_mm</th><th>body_mass_g</th><th>sex</th><th>year</th></tr>\n",
       "    <tr class='coltypes'><td class='row_index'></td><td class='string' title='str32'>&#x25AA;&#x25AA;&#x25AA;&#x25AA;</td><td class='string' title='str32'>&#x25AA;&#x25AA;&#x25AA;&#x25AA;</td><td class='float' title='float64'>&#x25AA;&#x25AA;&#x25AA;&#x25AA;&#x25AA;&#x25AA;&#x25AA;&#x25AA;</td><td class='float' title='float64'>&#x25AA;&#x25AA;&#x25AA;&#x25AA;&#x25AA;&#x25AA;&#x25AA;&#x25AA;</td><td class='integer' title='int32'>&#x25AA;&#x25AA;&#x25AA;&#x25AA;</td><td class='integer' title='int32'>&#x25AA;&#x25AA;&#x25AA;&#x25AA;</td><td class='string' title='str32'>&#x25AA;&#x25AA;&#x25AA;&#x25AA;</td><td class='integer' title='int32'>&#x25AA;&#x25AA;&#x25AA;&#x25AA;</td></tr>\n",
       "  </thead>\n",
       "  <tbody>\n",
       "    <tr><td class='row_index'>0</td><td>Adelie</td><td>Dream</td><td>37.5</td><td>18.9</td><td>179</td><td>2975</td><td><span class=na>NA</span></td><td>2007</td></tr>\n",
       "    <tr><td class='row_index'>1</td><td>Chinstrap</td><td>Dream</td><td>46.9</td><td>16.6</td><td>192</td><td>2700</td><td>female</td><td>2008</td></tr>\n",
       "    <tr><td class='row_index'>2</td><td>Chinstrap</td><td>Dream</td><td>51.5</td><td>18.7</td><td>187</td><td>3250</td><td>male</td><td>2009</td></tr>\n",
       "  </tbody>\n",
       "  </table>\n",
       "  <div class='footer'>\n",
       "    <div class='frame_dimensions'>3 rows &times; 8 columns</div>\n",
       "  </div>\n",
       "</div>\n"
      ],
      "text/plain": [
       "<Frame [3 rows x 8 cols]>"
      ]
     },
     "execution_count": 17,
     "metadata": {},
     "output_type": "execute_result"
    }
   ],
   "source": [
    "\n",
    "penguins_dt[f.temp==1,f[:].remove(f.temp)]"
   ]
  },
  {
   "cell_type": "code",
   "execution_count": 18,
   "metadata": {},
   "outputs": [],
   "source": [
    "del penguins_dt[\"temp\"]"
   ]
  },
  {
   "cell_type": "code",
   "execution_count": 19,
   "metadata": {},
   "outputs": [],
   "source": [
    "penguins_tidy_dt = penguins_dt[~dt.isna(f.sex),:]"
   ]
  },
  {
   "cell_type": "code",
   "execution_count": 20,
   "metadata": {},
   "outputs": [],
   "source": [
    "penguins_year_island = penguins_tidy_dt[:,{'total':count()},by(f.year,f.island)]"
   ]
  },
  {
   "cell_type": "code",
   "execution_count": 21,
   "metadata": {},
   "outputs": [],
   "source": [
    "penguins_year = penguins_year_island[:,{'gr_total':dt.sum(f.total)},by(f.year)]"
   ]
  },
  {
   "cell_type": "code",
   "execution_count": 22,
   "metadata": {},
   "outputs": [
    {
     "data": {
      "text/html": [
       "<div class='datatable'>\n",
       "  <table class='frame'>\n",
       "  <thead>\n",
       "    <tr class='colnames'><td class='row_index'></td><th>year</th><th>gr_total</th></tr>\n",
       "    <tr class='coltypes'><td class='row_index'></td><td class='integer' title='int32'>&#x25AA;&#x25AA;&#x25AA;&#x25AA;</td><td class='integer' title='int64'>&#x25AA;&#x25AA;&#x25AA;&#x25AA;&#x25AA;&#x25AA;&#x25AA;&#x25AA;</td></tr>\n",
       "  </thead>\n",
       "  <tbody>\n",
       "    <tr><td class='row_index'>0</td><td>2007</td><td>103</td></tr>\n",
       "    <tr><td class='row_index'>1</td><td>2008</td><td>113</td></tr>\n",
       "    <tr><td class='row_index'>2</td><td>2009</td><td>117</td></tr>\n",
       "  </tbody>\n",
       "  </table>\n",
       "  <div class='footer'>\n",
       "    <div class='frame_dimensions'>3 rows &times; 2 columns</div>\n",
       "  </div>\n",
       "</div>\n"
      ],
      "text/plain": [
       "<Frame [3 rows x 2 cols]>"
      ]
     },
     "execution_count": 22,
     "metadata": {},
     "output_type": "execute_result"
    }
   ],
   "source": [
    "penguins_year"
   ]
  },
  {
   "cell_type": "code",
   "execution_count": 23,
   "metadata": {},
   "outputs": [],
   "source": [
    "penguins_year.key=\"year\""
   ]
  },
  {
   "cell_type": "code",
   "execution_count": 24,
   "metadata": {},
   "outputs": [],
   "source": [
    "penguins_year_island = penguins_year_island[:,:,dt.join(penguins_year)]"
   ]
  },
  {
   "cell_type": "code",
   "execution_count": 25,
   "metadata": {},
   "outputs": [],
   "source": [
    "penguins_year_island[:,update(perc=f.total/f.gr_total)]"
   ]
  },
  {
   "cell_type": "code",
   "execution_count": 26,
   "metadata": {},
   "outputs": [
    {
     "data": {
      "text/html": [
       "<div class='datatable'>\n",
       "  <table class='frame'>\n",
       "  <thead>\n",
       "    <tr class='colnames'><td class='row_index'></td><th>year</th><th>island</th><th>total</th><th>gr_total</th><th>perc</th></tr>\n",
       "    <tr class='coltypes'><td class='row_index'></td><td class='integer' title='int32'>&#x25AA;&#x25AA;&#x25AA;&#x25AA;</td><td class='string' title='str32'>&#x25AA;&#x25AA;&#x25AA;&#x25AA;</td><td class='integer' title='int64'>&#x25AA;&#x25AA;&#x25AA;&#x25AA;&#x25AA;&#x25AA;&#x25AA;&#x25AA;</td><td class='integer' title='int64'>&#x25AA;&#x25AA;&#x25AA;&#x25AA;&#x25AA;&#x25AA;&#x25AA;&#x25AA;</td><td class='float' title='float64'>&#x25AA;&#x25AA;&#x25AA;&#x25AA;&#x25AA;&#x25AA;&#x25AA;&#x25AA;</td></tr>\n",
       "  </thead>\n",
       "  <tbody>\n",
       "    <tr><td class='row_index'>0</td><td>2007</td><td>Biscoe</td><td>43</td><td>103</td><td>0.417476</td></tr>\n",
       "    <tr><td class='row_index'>1</td><td>2007</td><td>Dream</td><td>45</td><td>103</td><td>0.436893</td></tr>\n",
       "    <tr><td class='row_index'>2</td><td>2007</td><td>Torgersen</td><td>15</td><td>103</td><td>0.145631</td></tr>\n",
       "    <tr><td class='row_index'>3</td><td>2008</td><td>Biscoe</td><td>63</td><td>113</td><td>0.557522</td></tr>\n",
       "    <tr><td class='row_index'>4</td><td>2008</td><td>Dream</td><td>34</td><td>113</td><td>0.300885</td></tr>\n",
       "    <tr><td class='row_index'>5</td><td>2008</td><td>Torgersen</td><td>16</td><td>113</td><td>0.141593</td></tr>\n",
       "    <tr><td class='row_index'>6</td><td>2009</td><td>Biscoe</td><td>57</td><td>117</td><td>0.487179</td></tr>\n",
       "    <tr><td class='row_index'>7</td><td>2009</td><td>Dream</td><td>44</td><td>117</td><td>0.376068</td></tr>\n",
       "    <tr><td class='row_index'>8</td><td>2009</td><td>Torgersen</td><td>16</td><td>117</td><td>0.136752</td></tr>\n",
       "  </tbody>\n",
       "  </table>\n",
       "  <div class='footer'>\n",
       "    <div class='frame_dimensions'>9 rows &times; 5 columns</div>\n",
       "  </div>\n",
       "</div>\n"
      ],
      "text/plain": [
       "<Frame [9 rows x 5 cols]>"
      ]
     },
     "execution_count": 26,
     "metadata": {},
     "output_type": "execute_result"
    }
   ],
   "source": [
    "penguins_year_island"
   ]
  },
  {
   "cell_type": "code",
   "execution_count": 27,
   "metadata": {},
   "outputs": [
    {
     "data": {
      "text/html": [
       "\n",
       "<div id=\"altair-viz-75d2d3813d6c487ea2b066997cbd5fe9\"></div>\n",
       "<script type=\"text/javascript\">\n",
       "  (function(spec, embedOpt){\n",
       "    let outputDiv = document.currentScript.previousElementSibling;\n",
       "    if (outputDiv.id !== \"altair-viz-75d2d3813d6c487ea2b066997cbd5fe9\") {\n",
       "      outputDiv = document.getElementById(\"altair-viz-75d2d3813d6c487ea2b066997cbd5fe9\");\n",
       "    }\n",
       "    const paths = {\n",
       "      \"vega\": \"https://cdn.jsdelivr.net/npm//vega@5?noext\",\n",
       "      \"vega-lib\": \"https://cdn.jsdelivr.net/npm//vega-lib?noext\",\n",
       "      \"vega-lite\": \"https://cdn.jsdelivr.net/npm//vega-lite@4.8.1?noext\",\n",
       "      \"vega-embed\": \"https://cdn.jsdelivr.net/npm//vega-embed@6?noext\",\n",
       "    };\n",
       "\n",
       "    function loadScript(lib) {\n",
       "      return new Promise(function(resolve, reject) {\n",
       "        var s = document.createElement('script');\n",
       "        s.src = paths[lib];\n",
       "        s.async = true;\n",
       "        s.onload = () => resolve(paths[lib]);\n",
       "        s.onerror = () => reject(`Error loading script: ${paths[lib]}`);\n",
       "        document.getElementsByTagName(\"head\")[0].appendChild(s);\n",
       "      });\n",
       "    }\n",
       "\n",
       "    function showError(err) {\n",
       "      outputDiv.innerHTML = `<div class=\"error\" style=\"color:red;\">${err}</div>`;\n",
       "      throw err;\n",
       "    }\n",
       "\n",
       "    function displayChart(vegaEmbed) {\n",
       "      vegaEmbed(outputDiv, spec, embedOpt)\n",
       "        .catch(err => showError(`Javascript Error: ${err.message}<br>This usually means there's a typo in your chart specification. See the javascript console for the full traceback.`));\n",
       "    }\n",
       "\n",
       "    if(typeof define === \"function\" && define.amd) {\n",
       "      requirejs.config({paths});\n",
       "      require([\"vega-embed\"], displayChart, err => showError(`Error loading script: ${err.message}`));\n",
       "    } else if (typeof vegaEmbed === \"function\") {\n",
       "      displayChart(vegaEmbed);\n",
       "    } else {\n",
       "      loadScript(\"vega\")\n",
       "        .then(() => loadScript(\"vega-lite\"))\n",
       "        .then(() => loadScript(\"vega-embed\"))\n",
       "        .catch(showError)\n",
       "        .then(() => displayChart(vegaEmbed));\n",
       "    }\n",
       "  })({\"config\": {\"view\": {\"continuousWidth\": 400, \"continuousHeight\": 300}}, \"data\": {\"name\": \"data-0c6ff64e9c40157f6d870bc247d22f42\"}, \"mark\": \"bar\", \"encoding\": {\"color\": {\"type\": \"nominal\", \"field\": \"island\"}, \"x\": {\"type\": \"quantitative\", \"field\": \"total\"}, \"y\": {\"type\": \"ordinal\", \"field\": \"year\"}}, \"title\": \"Island existance over the years\", \"$schema\": \"https://vega.github.io/schema/vega-lite/v4.8.1.json\", \"datasets\": {\"data-0c6ff64e9c40157f6d870bc247d22f42\": [{\"year\": 2007, \"island\": \"Biscoe\", \"total\": 43, \"gr_total\": 103, \"perc\": 0.4174757281553398}, {\"year\": 2007, \"island\": \"Dream\", \"total\": 45, \"gr_total\": 103, \"perc\": 0.4368932038834951}, {\"year\": 2007, \"island\": \"Torgersen\", \"total\": 15, \"gr_total\": 103, \"perc\": 0.14563106796116504}, {\"year\": 2008, \"island\": \"Biscoe\", \"total\": 63, \"gr_total\": 113, \"perc\": 0.5575221238938053}, {\"year\": 2008, \"island\": \"Dream\", \"total\": 34, \"gr_total\": 113, \"perc\": 0.3008849557522124}, {\"year\": 2008, \"island\": \"Torgersen\", \"total\": 16, \"gr_total\": 113, \"perc\": 0.1415929203539823}, {\"year\": 2009, \"island\": \"Biscoe\", \"total\": 57, \"gr_total\": 117, \"perc\": 0.48717948717948717}, {\"year\": 2009, \"island\": \"Dream\", \"total\": 44, \"gr_total\": 117, \"perc\": 0.37606837606837606}, {\"year\": 2009, \"island\": \"Torgersen\", \"total\": 16, \"gr_total\": 117, \"perc\": 0.13675213675213677}]}}, {\"mode\": \"vega-lite\"});\n",
       "</script>"
      ],
      "text/plain": [
       "alt.Chart(...)"
      ]
     },
     "execution_count": 27,
     "metadata": {},
     "output_type": "execute_result"
    }
   ],
   "source": [
    "alt.Chart(penguins_year_island.to_pandas()).mark_bar(\n",
    ").encode(\n",
    "    alt.Y('year:O'),\n",
    "    alt.X('total'),\n",
    "    alt.Color('island')\n",
    ").properties(title='Island existance over the years'\n",
    "            )"
   ]
  },
  {
   "cell_type": "code",
   "execution_count": 28,
   "metadata": {},
   "outputs": [],
   "source": [
    "penguins_island_spec_summary = penguins_tidy_dt[:,{'total':count()},by(f.year,f.island,f.species)]"
   ]
  },
  {
   "cell_type": "code",
   "execution_count": 29,
   "metadata": {},
   "outputs": [
    {
     "data": {
      "text/html": [
       "\n",
       "<div id=\"altair-viz-eb4a70f03fb1488e8eb59d2c882d1e3a\"></div>\n",
       "<script type=\"text/javascript\">\n",
       "  (function(spec, embedOpt){\n",
       "    let outputDiv = document.currentScript.previousElementSibling;\n",
       "    if (outputDiv.id !== \"altair-viz-eb4a70f03fb1488e8eb59d2c882d1e3a\") {\n",
       "      outputDiv = document.getElementById(\"altair-viz-eb4a70f03fb1488e8eb59d2c882d1e3a\");\n",
       "    }\n",
       "    const paths = {\n",
       "      \"vega\": \"https://cdn.jsdelivr.net/npm//vega@5?noext\",\n",
       "      \"vega-lib\": \"https://cdn.jsdelivr.net/npm//vega-lib?noext\",\n",
       "      \"vega-lite\": \"https://cdn.jsdelivr.net/npm//vega-lite@4.8.1?noext\",\n",
       "      \"vega-embed\": \"https://cdn.jsdelivr.net/npm//vega-embed@6?noext\",\n",
       "    };\n",
       "\n",
       "    function loadScript(lib) {\n",
       "      return new Promise(function(resolve, reject) {\n",
       "        var s = document.createElement('script');\n",
       "        s.src = paths[lib];\n",
       "        s.async = true;\n",
       "        s.onload = () => resolve(paths[lib]);\n",
       "        s.onerror = () => reject(`Error loading script: ${paths[lib]}`);\n",
       "        document.getElementsByTagName(\"head\")[0].appendChild(s);\n",
       "      });\n",
       "    }\n",
       "\n",
       "    function showError(err) {\n",
       "      outputDiv.innerHTML = `<div class=\"error\" style=\"color:red;\">${err}</div>`;\n",
       "      throw err;\n",
       "    }\n",
       "\n",
       "    function displayChart(vegaEmbed) {\n",
       "      vegaEmbed(outputDiv, spec, embedOpt)\n",
       "        .catch(err => showError(`Javascript Error: ${err.message}<br>This usually means there's a typo in your chart specification. See the javascript console for the full traceback.`));\n",
       "    }\n",
       "\n",
       "    if(typeof define === \"function\" && define.amd) {\n",
       "      requirejs.config({paths});\n",
       "      require([\"vega-embed\"], displayChart, err => showError(`Error loading script: ${err.message}`));\n",
       "    } else if (typeof vegaEmbed === \"function\") {\n",
       "      displayChart(vegaEmbed);\n",
       "    } else {\n",
       "      loadScript(\"vega\")\n",
       "        .then(() => loadScript(\"vega-lite\"))\n",
       "        .then(() => loadScript(\"vega-embed\"))\n",
       "        .catch(showError)\n",
       "        .then(() => displayChart(vegaEmbed));\n",
       "    }\n",
       "  })({\"config\": {\"view\": {\"continuousWidth\": 400, \"continuousHeight\": 300}}, \"data\": {\"name\": \"data-a4c2725d415170975736c6ff24369041\"}, \"facet\": {\"type\": \"nominal\", \"field\": \"species\"}, \"spec\": {\"mark\": \"bar\", \"encoding\": {\"color\": {\"type\": \"nominal\", \"field\": \"island\"}, \"x\": {\"type\": \"quantitative\", \"field\": \"total\"}, \"y\": {\"type\": \"ordinal\", \"field\": \"year\"}}}, \"columns\": 2, \"$schema\": \"https://vega.github.io/schema/vega-lite/v4.8.1.json\", \"datasets\": {\"data-a4c2725d415170975736c6ff24369041\": [{\"year\": 2007, \"island\": \"Biscoe\", \"species\": \"Adelie\", \"total\": 10}, {\"year\": 2007, \"island\": \"Biscoe\", \"species\": \"Gentoo\", \"total\": 33}, {\"year\": 2007, \"island\": \"Dream\", \"species\": \"Adelie\", \"total\": 19}, {\"year\": 2007, \"island\": \"Dream\", \"species\": \"Chinstrap\", \"total\": 26}, {\"year\": 2007, \"island\": \"Torgersen\", \"species\": \"Adelie\", \"total\": 15}, {\"year\": 2008, \"island\": \"Biscoe\", \"species\": \"Adelie\", \"total\": 18}, {\"year\": 2008, \"island\": \"Biscoe\", \"species\": \"Gentoo\", \"total\": 45}, {\"year\": 2008, \"island\": \"Dream\", \"species\": \"Adelie\", \"total\": 16}, {\"year\": 2008, \"island\": \"Dream\", \"species\": \"Chinstrap\", \"total\": 18}, {\"year\": 2008, \"island\": \"Torgersen\", \"species\": \"Adelie\", \"total\": 16}, {\"year\": 2009, \"island\": \"Biscoe\", \"species\": \"Adelie\", \"total\": 16}, {\"year\": 2009, \"island\": \"Biscoe\", \"species\": \"Gentoo\", \"total\": 41}, {\"year\": 2009, \"island\": \"Dream\", \"species\": \"Adelie\", \"total\": 20}, {\"year\": 2009, \"island\": \"Dream\", \"species\": \"Chinstrap\", \"total\": 24}, {\"year\": 2009, \"island\": \"Torgersen\", \"species\": \"Adelie\", \"total\": 16}]}}, {\"mode\": \"vega-lite\"});\n",
       "</script>"
      ],
      "text/plain": [
       "alt.FacetChart(...)"
      ]
     },
     "execution_count": 29,
     "metadata": {},
     "output_type": "execute_result"
    }
   ],
   "source": [
    "alt.Chart(penguins_island_spec_summary.to_pandas()).mark_bar(\n",
    ").encode(\n",
    "    alt.Y('year:O'),\n",
    "    alt.X('total'),\n",
    "    alt.Color('island')\n",
    ").facet('species',columns=2)"
   ]
  },
  {
   "cell_type": "code",
   "execution_count": 33,
   "metadata": {},
   "outputs": [],
   "source": [
    "penguins_gender_species_summary = penguins_tidy_dt[:,{'total':count()},by(f.sex,f.island,f.species)]"
   ]
  },
  {
   "cell_type": "code",
   "execution_count": 71,
   "metadata": {},
   "outputs": [
    {
     "data": {
      "text/html": [
       "\n",
       "<div id=\"altair-viz-cc9ad407dc5a4824a0bfb0c28392b4db\"></div>\n",
       "<script type=\"text/javascript\">\n",
       "  (function(spec, embedOpt){\n",
       "    let outputDiv = document.currentScript.previousElementSibling;\n",
       "    if (outputDiv.id !== \"altair-viz-cc9ad407dc5a4824a0bfb0c28392b4db\") {\n",
       "      outputDiv = document.getElementById(\"altair-viz-cc9ad407dc5a4824a0bfb0c28392b4db\");\n",
       "    }\n",
       "    const paths = {\n",
       "      \"vega\": \"https://cdn.jsdelivr.net/npm//vega@5?noext\",\n",
       "      \"vega-lib\": \"https://cdn.jsdelivr.net/npm//vega-lib?noext\",\n",
       "      \"vega-lite\": \"https://cdn.jsdelivr.net/npm//vega-lite@4.8.1?noext\",\n",
       "      \"vega-embed\": \"https://cdn.jsdelivr.net/npm//vega-embed@6?noext\",\n",
       "    };\n",
       "\n",
       "    function loadScript(lib) {\n",
       "      return new Promise(function(resolve, reject) {\n",
       "        var s = document.createElement('script');\n",
       "        s.src = paths[lib];\n",
       "        s.async = true;\n",
       "        s.onload = () => resolve(paths[lib]);\n",
       "        s.onerror = () => reject(`Error loading script: ${paths[lib]}`);\n",
       "        document.getElementsByTagName(\"head\")[0].appendChild(s);\n",
       "      });\n",
       "    }\n",
       "\n",
       "    function showError(err) {\n",
       "      outputDiv.innerHTML = `<div class=\"error\" style=\"color:red;\">${err}</div>`;\n",
       "      throw err;\n",
       "    }\n",
       "\n",
       "    function displayChart(vegaEmbed) {\n",
       "      vegaEmbed(outputDiv, spec, embedOpt)\n",
       "        .catch(err => showError(`Javascript Error: ${err.message}<br>This usually means there's a typo in your chart specification. See the javascript console for the full traceback.`));\n",
       "    }\n",
       "\n",
       "    if(typeof define === \"function\" && define.amd) {\n",
       "      requirejs.config({paths});\n",
       "      require([\"vega-embed\"], displayChart, err => showError(`Error loading script: ${err.message}`));\n",
       "    } else if (typeof vegaEmbed === \"function\") {\n",
       "      displayChart(vegaEmbed);\n",
       "    } else {\n",
       "      loadScript(\"vega\")\n",
       "        .then(() => loadScript(\"vega-lite\"))\n",
       "        .then(() => loadScript(\"vega-embed\"))\n",
       "        .catch(showError)\n",
       "        .then(() => displayChart(vegaEmbed));\n",
       "    }\n",
       "  })({\"config\": {\"view\": {\"continuousWidth\": 400, \"continuousHeight\": 300}}, \"data\": {\"name\": \"data-941e06c7d96bce91ae4880b9bba6cdce\"}, \"facet\": {\"type\": \"nominal\", \"field\": \"island\"}, \"spec\": {\"mark\": \"bar\", \"encoding\": {\"color\": {\"type\": \"nominal\", \"field\": \"sex\"}, \"x\": {\"type\": \"nominal\", \"field\": \"species\"}, \"y\": {\"type\": \"quantitative\", \"field\": \"total\"}}, \"height\": 300, \"title\": \"Penguins over different Islands\", \"width\": 350}, \"columns\": 3, \"$schema\": \"https://vega.github.io/schema/vega-lite/v4.8.1.json\", \"datasets\": {\"data-941e06c7d96bce91ae4880b9bba6cdce\": [{\"sex\": \"female\", \"island\": \"Biscoe\", \"species\": \"Adelie\", \"total\": 22}, {\"sex\": \"female\", \"island\": \"Biscoe\", \"species\": \"Gentoo\", \"total\": 58}, {\"sex\": \"female\", \"island\": \"Dream\", \"species\": \"Adelie\", \"total\": 27}, {\"sex\": \"female\", \"island\": \"Dream\", \"species\": \"Chinstrap\", \"total\": 34}, {\"sex\": \"female\", \"island\": \"Torgersen\", \"species\": \"Adelie\", \"total\": 24}, {\"sex\": \"male\", \"island\": \"Biscoe\", \"species\": \"Adelie\", \"total\": 22}, {\"sex\": \"male\", \"island\": \"Biscoe\", \"species\": \"Gentoo\", \"total\": 61}, {\"sex\": \"male\", \"island\": \"Dream\", \"species\": \"Adelie\", \"total\": 28}, {\"sex\": \"male\", \"island\": \"Dream\", \"species\": \"Chinstrap\", \"total\": 34}, {\"sex\": \"male\", \"island\": \"Torgersen\", \"species\": \"Adelie\", \"total\": 23}]}}, {\"mode\": \"vega-lite\"});\n",
       "</script>"
      ],
      "text/plain": [
       "alt.FacetChart(...)"
      ]
     },
     "execution_count": 71,
     "metadata": {},
     "output_type": "execute_result"
    }
   ],
   "source": [
    "alt.Chart(penguins_gender_species_summary.to_pandas()).mark_bar().encode(\n",
    "    alt.X('species'),\n",
    "    alt.Y('total'),\n",
    "    alt.Color('sex')\n",
    ").properties(\n",
    "    height=300,width=350,title='Penguins over different Islands'\n",
    ").facet('island',columns=3)"
   ]
  },
  {
   "cell_type": "code",
   "execution_count": 63,
   "metadata": {},
   "outputs": [],
   "source": [
    "penguins_sel_dt_1 = penguins_tidy_dt[:,[f.flipper_length_mm,\n",
    "                              f.bill_length_mm,\n",
    "                              f.sex,\n",
    "                              f.body_mass_g,\n",
    "                              f.species]].to_pandas()"
   ]
  },
  {
   "cell_type": "code",
   "execution_count": 72,
   "metadata": {},
   "outputs": [
    {
     "data": {
      "text/html": [
       "\n",
       "<div id=\"altair-viz-d3fe713ddaf24d87bf24bc3cadf575e1\"></div>\n",
       "<script type=\"text/javascript\">\n",
       "  (function(spec, embedOpt){\n",
       "    let outputDiv = document.currentScript.previousElementSibling;\n",
       "    if (outputDiv.id !== \"altair-viz-d3fe713ddaf24d87bf24bc3cadf575e1\") {\n",
       "      outputDiv = document.getElementById(\"altair-viz-d3fe713ddaf24d87bf24bc3cadf575e1\");\n",
       "    }\n",
       "    const paths = {\n",
       "      \"vega\": \"https://cdn.jsdelivr.net/npm//vega@5?noext\",\n",
       "      \"vega-lib\": \"https://cdn.jsdelivr.net/npm//vega-lib?noext\",\n",
       "      \"vega-lite\": \"https://cdn.jsdelivr.net/npm//vega-lite@4.8.1?noext\",\n",
       "      \"vega-embed\": \"https://cdn.jsdelivr.net/npm//vega-embed@6?noext\",\n",
       "    };\n",
       "\n",
       "    function loadScript(lib) {\n",
       "      return new Promise(function(resolve, reject) {\n",
       "        var s = document.createElement('script');\n",
       "        s.src = paths[lib];\n",
       "        s.async = true;\n",
       "        s.onload = () => resolve(paths[lib]);\n",
       "        s.onerror = () => reject(`Error loading script: ${paths[lib]}`);\n",
       "        document.getElementsByTagName(\"head\")[0].appendChild(s);\n",
       "      });\n",
       "    }\n",
       "\n",
       "    function showError(err) {\n",
       "      outputDiv.innerHTML = `<div class=\"error\" style=\"color:red;\">${err}</div>`;\n",
       "      throw err;\n",
       "    }\n",
       "\n",
       "    function displayChart(vegaEmbed) {\n",
       "      vegaEmbed(outputDiv, spec, embedOpt)\n",
       "        .catch(err => showError(`Javascript Error: ${err.message}<br>This usually means there's a typo in your chart specification. See the javascript console for the full traceback.`));\n",
       "    }\n",
       "\n",
       "    if(typeof define === \"function\" && define.amd) {\n",
       "      requirejs.config({paths});\n",
       "      require([\"vega-embed\"], displayChart, err => showError(`Error loading script: ${err.message}`));\n",
       "    } else if (typeof vegaEmbed === \"function\") {\n",
       "      displayChart(vegaEmbed);\n",
       "    } else {\n",
       "      loadScript(\"vega\")\n",
       "        .then(() => loadScript(\"vega-lite\"))\n",
       "        .then(() => loadScript(\"vega-embed\"))\n",
       "        .catch(showError)\n",
       "        .then(() => displayChart(vegaEmbed));\n",
       "    }\n",
       "  })({\"config\": {\"view\": {\"continuousWidth\": 400, \"continuousHeight\": 300}, \"mark\": {\"opacity\": 0.6}}, \"data\": {\"name\": \"data-329cb5aec0a72ad6b193a00c0bd79fe8\"}, \"facet\": {\"type\": \"nominal\", \"field\": \"species\"}, \"spec\": {\"mark\": \"point\", \"encoding\": {\"color\": {\"type\": \"nominal\", \"field\": \"sex\"}, \"x\": {\"type\": \"quantitative\", \"field\": \"flipper_length_mm\"}, \"y\": {\"type\": \"quantitative\", \"field\": \"bill_length_mm\"}}, \"height\": 200, \"width\": 250}, \"$schema\": \"https://vega.github.io/schema/vega-lite/v4.8.1.json\", \"datasets\": {\"data-329cb5aec0a72ad6b193a00c0bd79fe8\": [{\"flipper_length_mm\": 181, \"bill_length_mm\": 39.1, \"sex\": \"male\", \"body_mass_g\": 3750, \"species\": \"Adelie\"}, {\"flipper_length_mm\": 186, \"bill_length_mm\": 39.5, \"sex\": \"female\", \"body_mass_g\": 3800, \"species\": \"Adelie\"}, {\"flipper_length_mm\": 195, \"bill_length_mm\": 40.3, \"sex\": \"female\", \"body_mass_g\": 3250, \"species\": \"Adelie\"}, {\"flipper_length_mm\": 193, \"bill_length_mm\": 36.7, \"sex\": \"female\", \"body_mass_g\": 3450, \"species\": \"Adelie\"}, {\"flipper_length_mm\": 190, \"bill_length_mm\": 39.3, \"sex\": \"male\", \"body_mass_g\": 3650, \"species\": \"Adelie\"}, {\"flipper_length_mm\": 181, \"bill_length_mm\": 38.9, \"sex\": \"female\", \"body_mass_g\": 3625, \"species\": \"Adelie\"}, {\"flipper_length_mm\": 195, \"bill_length_mm\": 39.2, \"sex\": \"male\", \"body_mass_g\": 4675, \"species\": \"Adelie\"}, {\"flipper_length_mm\": 182, \"bill_length_mm\": 41.1, \"sex\": \"female\", \"body_mass_g\": 3200, \"species\": \"Adelie\"}, {\"flipper_length_mm\": 191, \"bill_length_mm\": 38.6, \"sex\": \"male\", \"body_mass_g\": 3800, \"species\": \"Adelie\"}, {\"flipper_length_mm\": 198, \"bill_length_mm\": 34.6, \"sex\": \"male\", \"body_mass_g\": 4400, \"species\": \"Adelie\"}, {\"flipper_length_mm\": 185, \"bill_length_mm\": 36.6, \"sex\": \"female\", \"body_mass_g\": 3700, \"species\": \"Adelie\"}, {\"flipper_length_mm\": 195, \"bill_length_mm\": 38.7, \"sex\": \"female\", \"body_mass_g\": 3450, \"species\": \"Adelie\"}, {\"flipper_length_mm\": 197, \"bill_length_mm\": 42.5, \"sex\": \"male\", \"body_mass_g\": 4500, \"species\": \"Adelie\"}, {\"flipper_length_mm\": 184, \"bill_length_mm\": 34.4, \"sex\": \"female\", \"body_mass_g\": 3325, \"species\": \"Adelie\"}, {\"flipper_length_mm\": 194, \"bill_length_mm\": 46.0, \"sex\": \"male\", \"body_mass_g\": 4200, \"species\": \"Adelie\"}, {\"flipper_length_mm\": 174, \"bill_length_mm\": 37.8, \"sex\": \"female\", \"body_mass_g\": 3400, \"species\": \"Adelie\"}, {\"flipper_length_mm\": 180, \"bill_length_mm\": 37.7, \"sex\": \"male\", \"body_mass_g\": 3600, \"species\": \"Adelie\"}, {\"flipper_length_mm\": 189, \"bill_length_mm\": 35.9, \"sex\": \"female\", \"body_mass_g\": 3800, \"species\": \"Adelie\"}, {\"flipper_length_mm\": 185, \"bill_length_mm\": 38.2, \"sex\": \"male\", \"body_mass_g\": 3950, \"species\": \"Adelie\"}, {\"flipper_length_mm\": 180, \"bill_length_mm\": 38.8, \"sex\": \"male\", \"body_mass_g\": 3800, \"species\": \"Adelie\"}, {\"flipper_length_mm\": 187, \"bill_length_mm\": 35.3, \"sex\": \"female\", \"body_mass_g\": 3800, \"species\": \"Adelie\"}, {\"flipper_length_mm\": 183, \"bill_length_mm\": 40.6, \"sex\": \"male\", \"body_mass_g\": 3550, \"species\": \"Adelie\"}, {\"flipper_length_mm\": 187, \"bill_length_mm\": 40.5, \"sex\": \"female\", \"body_mass_g\": 3200, \"species\": \"Adelie\"}, {\"flipper_length_mm\": 172, \"bill_length_mm\": 37.9, \"sex\": \"female\", \"body_mass_g\": 3150, \"species\": \"Adelie\"}, {\"flipper_length_mm\": 180, \"bill_length_mm\": 40.5, \"sex\": \"male\", \"body_mass_g\": 3950, \"species\": \"Adelie\"}, {\"flipper_length_mm\": 178, \"bill_length_mm\": 39.5, \"sex\": \"female\", \"body_mass_g\": 3250, \"species\": \"Adelie\"}, {\"flipper_length_mm\": 178, \"bill_length_mm\": 37.2, \"sex\": \"male\", \"body_mass_g\": 3900, \"species\": \"Adelie\"}, {\"flipper_length_mm\": 188, \"bill_length_mm\": 39.5, \"sex\": \"female\", \"body_mass_g\": 3300, \"species\": \"Adelie\"}, {\"flipper_length_mm\": 184, \"bill_length_mm\": 40.9, \"sex\": \"male\", \"body_mass_g\": 3900, \"species\": \"Adelie\"}, {\"flipper_length_mm\": 195, \"bill_length_mm\": 36.4, \"sex\": \"female\", \"body_mass_g\": 3325, \"species\": \"Adelie\"}, {\"flipper_length_mm\": 196, \"bill_length_mm\": 39.2, \"sex\": \"male\", \"body_mass_g\": 4150, \"species\": \"Adelie\"}, {\"flipper_length_mm\": 190, \"bill_length_mm\": 38.8, \"sex\": \"male\", \"body_mass_g\": 3950, \"species\": \"Adelie\"}, {\"flipper_length_mm\": 180, \"bill_length_mm\": 42.2, \"sex\": \"female\", \"body_mass_g\": 3550, \"species\": \"Adelie\"}, {\"flipper_length_mm\": 181, \"bill_length_mm\": 37.6, \"sex\": \"female\", \"body_mass_g\": 3300, \"species\": \"Adelie\"}, {\"flipper_length_mm\": 184, \"bill_length_mm\": 39.8, \"sex\": \"male\", \"body_mass_g\": 4650, \"species\": \"Adelie\"}, {\"flipper_length_mm\": 182, \"bill_length_mm\": 36.5, \"sex\": \"female\", \"body_mass_g\": 3150, \"species\": \"Adelie\"}, {\"flipper_length_mm\": 195, \"bill_length_mm\": 40.8, \"sex\": \"male\", \"body_mass_g\": 3900, \"species\": \"Adelie\"}, {\"flipper_length_mm\": 186, \"bill_length_mm\": 36.0, \"sex\": \"female\", \"body_mass_g\": 3100, \"species\": \"Adelie\"}, {\"flipper_length_mm\": 196, \"bill_length_mm\": 44.1, \"sex\": \"male\", \"body_mass_g\": 4400, \"species\": \"Adelie\"}, {\"flipper_length_mm\": 185, \"bill_length_mm\": 37.0, \"sex\": \"female\", \"body_mass_g\": 3000, \"species\": \"Adelie\"}, {\"flipper_length_mm\": 190, \"bill_length_mm\": 39.6, \"sex\": \"male\", \"body_mass_g\": 4600, \"species\": \"Adelie\"}, {\"flipper_length_mm\": 182, \"bill_length_mm\": 41.1, \"sex\": \"male\", \"body_mass_g\": 3425, \"species\": \"Adelie\"}, {\"flipper_length_mm\": 190, \"bill_length_mm\": 36.0, \"sex\": \"female\", \"body_mass_g\": 3450, \"species\": \"Adelie\"}, {\"flipper_length_mm\": 191, \"bill_length_mm\": 42.3, \"sex\": \"male\", \"body_mass_g\": 4150, \"species\": \"Adelie\"}, {\"flipper_length_mm\": 186, \"bill_length_mm\": 39.6, \"sex\": \"female\", \"body_mass_g\": 3500, \"species\": \"Adelie\"}, {\"flipper_length_mm\": 188, \"bill_length_mm\": 40.1, \"sex\": \"male\", \"body_mass_g\": 4300, \"species\": \"Adelie\"}, {\"flipper_length_mm\": 190, \"bill_length_mm\": 35.0, \"sex\": \"female\", \"body_mass_g\": 3450, \"species\": \"Adelie\"}, {\"flipper_length_mm\": 200, \"bill_length_mm\": 42.0, \"sex\": \"male\", \"body_mass_g\": 4050, \"species\": \"Adelie\"}, {\"flipper_length_mm\": 187, \"bill_length_mm\": 34.5, \"sex\": \"female\", \"body_mass_g\": 2900, \"species\": \"Adelie\"}, {\"flipper_length_mm\": 191, \"bill_length_mm\": 41.4, \"sex\": \"male\", \"body_mass_g\": 3700, \"species\": \"Adelie\"}, {\"flipper_length_mm\": 186, \"bill_length_mm\": 39.0, \"sex\": \"female\", \"body_mass_g\": 3550, \"species\": \"Adelie\"}, {\"flipper_length_mm\": 193, \"bill_length_mm\": 40.6, \"sex\": \"male\", \"body_mass_g\": 3800, \"species\": \"Adelie\"}, {\"flipper_length_mm\": 181, \"bill_length_mm\": 36.5, \"sex\": \"female\", \"body_mass_g\": 2850, \"species\": \"Adelie\"}, {\"flipper_length_mm\": 194, \"bill_length_mm\": 37.6, \"sex\": \"male\", \"body_mass_g\": 3750, \"species\": \"Adelie\"}, {\"flipper_length_mm\": 185, \"bill_length_mm\": 35.7, \"sex\": \"female\", \"body_mass_g\": 3150, \"species\": \"Adelie\"}, {\"flipper_length_mm\": 195, \"bill_length_mm\": 41.3, \"sex\": \"male\", \"body_mass_g\": 4400, \"species\": \"Adelie\"}, {\"flipper_length_mm\": 185, \"bill_length_mm\": 37.6, \"sex\": \"female\", \"body_mass_g\": 3600, \"species\": \"Adelie\"}, {\"flipper_length_mm\": 192, \"bill_length_mm\": 41.1, \"sex\": \"male\", \"body_mass_g\": 4050, \"species\": \"Adelie\"}, {\"flipper_length_mm\": 184, \"bill_length_mm\": 36.4, \"sex\": \"female\", \"body_mass_g\": 2850, \"species\": \"Adelie\"}, {\"flipper_length_mm\": 192, \"bill_length_mm\": 41.6, \"sex\": \"male\", \"body_mass_g\": 3950, \"species\": \"Adelie\"}, {\"flipper_length_mm\": 195, \"bill_length_mm\": 35.5, \"sex\": \"female\", \"body_mass_g\": 3350, \"species\": \"Adelie\"}, {\"flipper_length_mm\": 188, \"bill_length_mm\": 41.1, \"sex\": \"male\", \"body_mass_g\": 4100, \"species\": \"Adelie\"}, {\"flipper_length_mm\": 190, \"bill_length_mm\": 35.9, \"sex\": \"female\", \"body_mass_g\": 3050, \"species\": \"Adelie\"}, {\"flipper_length_mm\": 198, \"bill_length_mm\": 41.8, \"sex\": \"male\", \"body_mass_g\": 4450, \"species\": \"Adelie\"}, {\"flipper_length_mm\": 190, \"bill_length_mm\": 33.5, \"sex\": \"female\", \"body_mass_g\": 3600, \"species\": \"Adelie\"}, {\"flipper_length_mm\": 190, \"bill_length_mm\": 39.7, \"sex\": \"male\", \"body_mass_g\": 3900, \"species\": \"Adelie\"}, {\"flipper_length_mm\": 196, \"bill_length_mm\": 39.6, \"sex\": \"female\", \"body_mass_g\": 3550, \"species\": \"Adelie\"}, {\"flipper_length_mm\": 197, \"bill_length_mm\": 45.8, \"sex\": \"male\", \"body_mass_g\": 4150, \"species\": \"Adelie\"}, {\"flipper_length_mm\": 190, \"bill_length_mm\": 35.5, \"sex\": \"female\", \"body_mass_g\": 3700, \"species\": \"Adelie\"}, {\"flipper_length_mm\": 195, \"bill_length_mm\": 42.8, \"sex\": \"male\", \"body_mass_g\": 4250, \"species\": \"Adelie\"}, {\"flipper_length_mm\": 191, \"bill_length_mm\": 40.9, \"sex\": \"female\", \"body_mass_g\": 3700, \"species\": \"Adelie\"}, {\"flipper_length_mm\": 184, \"bill_length_mm\": 37.2, \"sex\": \"male\", \"body_mass_g\": 3900, \"species\": \"Adelie\"}, {\"flipper_length_mm\": 187, \"bill_length_mm\": 36.2, \"sex\": \"female\", \"body_mass_g\": 3550, \"species\": \"Adelie\"}, {\"flipper_length_mm\": 195, \"bill_length_mm\": 42.1, \"sex\": \"male\", \"body_mass_g\": 4000, \"species\": \"Adelie\"}, {\"flipper_length_mm\": 189, \"bill_length_mm\": 34.6, \"sex\": \"female\", \"body_mass_g\": 3200, \"species\": \"Adelie\"}, {\"flipper_length_mm\": 196, \"bill_length_mm\": 42.9, \"sex\": \"male\", \"body_mass_g\": 4700, \"species\": \"Adelie\"}, {\"flipper_length_mm\": 187, \"bill_length_mm\": 36.7, \"sex\": \"female\", \"body_mass_g\": 3800, \"species\": \"Adelie\"}, {\"flipper_length_mm\": 193, \"bill_length_mm\": 35.1, \"sex\": \"male\", \"body_mass_g\": 4200, \"species\": \"Adelie\"}, {\"flipper_length_mm\": 191, \"bill_length_mm\": 37.3, \"sex\": \"female\", \"body_mass_g\": 3350, \"species\": \"Adelie\"}, {\"flipper_length_mm\": 194, \"bill_length_mm\": 41.3, \"sex\": \"male\", \"body_mass_g\": 3550, \"species\": \"Adelie\"}, {\"flipper_length_mm\": 190, \"bill_length_mm\": 36.3, \"sex\": \"male\", \"body_mass_g\": 3800, \"species\": \"Adelie\"}, {\"flipper_length_mm\": 189, \"bill_length_mm\": 36.9, \"sex\": \"female\", \"body_mass_g\": 3500, \"species\": \"Adelie\"}, {\"flipper_length_mm\": 189, \"bill_length_mm\": 38.3, \"sex\": \"male\", \"body_mass_g\": 3950, \"species\": \"Adelie\"}, {\"flipper_length_mm\": 190, \"bill_length_mm\": 38.9, \"sex\": \"female\", \"body_mass_g\": 3600, \"species\": \"Adelie\"}, {\"flipper_length_mm\": 202, \"bill_length_mm\": 35.7, \"sex\": \"female\", \"body_mass_g\": 3550, \"species\": \"Adelie\"}, {\"flipper_length_mm\": 205, \"bill_length_mm\": 41.1, \"sex\": \"male\", \"body_mass_g\": 4300, \"species\": \"Adelie\"}, {\"flipper_length_mm\": 185, \"bill_length_mm\": 34.0, \"sex\": \"female\", \"body_mass_g\": 3400, \"species\": \"Adelie\"}, {\"flipper_length_mm\": 186, \"bill_length_mm\": 39.6, \"sex\": \"male\", \"body_mass_g\": 4450, \"species\": \"Adelie\"}, {\"flipper_length_mm\": 187, \"bill_length_mm\": 36.2, \"sex\": \"female\", \"body_mass_g\": 3300, \"species\": \"Adelie\"}, {\"flipper_length_mm\": 208, \"bill_length_mm\": 40.8, \"sex\": \"male\", \"body_mass_g\": 4300, \"species\": \"Adelie\"}, {\"flipper_length_mm\": 190, \"bill_length_mm\": 38.1, \"sex\": \"female\", \"body_mass_g\": 3700, \"species\": \"Adelie\"}, {\"flipper_length_mm\": 196, \"bill_length_mm\": 40.3, \"sex\": \"male\", \"body_mass_g\": 4350, \"species\": \"Adelie\"}, {\"flipper_length_mm\": 178, \"bill_length_mm\": 33.1, \"sex\": \"female\", \"body_mass_g\": 2900, \"species\": \"Adelie\"}, {\"flipper_length_mm\": 192, \"bill_length_mm\": 43.2, \"sex\": \"male\", \"body_mass_g\": 4100, \"species\": \"Adelie\"}, {\"flipper_length_mm\": 192, \"bill_length_mm\": 35.0, \"sex\": \"female\", \"body_mass_g\": 3725, \"species\": \"Adelie\"}, {\"flipper_length_mm\": 203, \"bill_length_mm\": 41.0, \"sex\": \"male\", \"body_mass_g\": 4725, \"species\": \"Adelie\"}, {\"flipper_length_mm\": 183, \"bill_length_mm\": 37.7, \"sex\": \"female\", \"body_mass_g\": 3075, \"species\": \"Adelie\"}, {\"flipper_length_mm\": 190, \"bill_length_mm\": 37.8, \"sex\": \"male\", \"body_mass_g\": 4250, \"species\": \"Adelie\"}, {\"flipper_length_mm\": 193, \"bill_length_mm\": 37.9, \"sex\": \"female\", \"body_mass_g\": 2925, \"species\": \"Adelie\"}, {\"flipper_length_mm\": 184, \"bill_length_mm\": 39.7, \"sex\": \"male\", \"body_mass_g\": 3550, \"species\": \"Adelie\"}, {\"flipper_length_mm\": 199, \"bill_length_mm\": 38.6, \"sex\": \"female\", \"body_mass_g\": 3750, \"species\": \"Adelie\"}, {\"flipper_length_mm\": 190, \"bill_length_mm\": 38.2, \"sex\": \"male\", \"body_mass_g\": 3900, \"species\": \"Adelie\"}, {\"flipper_length_mm\": 181, \"bill_length_mm\": 38.1, \"sex\": \"female\", \"body_mass_g\": 3175, \"species\": \"Adelie\"}, {\"flipper_length_mm\": 197, \"bill_length_mm\": 43.2, \"sex\": \"male\", \"body_mass_g\": 4775, \"species\": \"Adelie\"}, {\"flipper_length_mm\": 198, \"bill_length_mm\": 38.1, \"sex\": \"female\", \"body_mass_g\": 3825, \"species\": \"Adelie\"}, {\"flipper_length_mm\": 191, \"bill_length_mm\": 45.6, \"sex\": \"male\", \"body_mass_g\": 4600, \"species\": \"Adelie\"}, {\"flipper_length_mm\": 193, \"bill_length_mm\": 39.7, \"sex\": \"female\", \"body_mass_g\": 3200, \"species\": \"Adelie\"}, {\"flipper_length_mm\": 197, \"bill_length_mm\": 42.2, \"sex\": \"male\", \"body_mass_g\": 4275, \"species\": \"Adelie\"}, {\"flipper_length_mm\": 191, \"bill_length_mm\": 39.6, \"sex\": \"female\", \"body_mass_g\": 3900, \"species\": \"Adelie\"}, {\"flipper_length_mm\": 196, \"bill_length_mm\": 42.7, \"sex\": \"male\", \"body_mass_g\": 4075, \"species\": \"Adelie\"}, {\"flipper_length_mm\": 188, \"bill_length_mm\": 38.6, \"sex\": \"female\", \"body_mass_g\": 2900, \"species\": \"Adelie\"}, {\"flipper_length_mm\": 199, \"bill_length_mm\": 37.3, \"sex\": \"male\", \"body_mass_g\": 3775, \"species\": \"Adelie\"}, {\"flipper_length_mm\": 189, \"bill_length_mm\": 35.7, \"sex\": \"female\", \"body_mass_g\": 3350, \"species\": \"Adelie\"}, {\"flipper_length_mm\": 189, \"bill_length_mm\": 41.1, \"sex\": \"male\", \"body_mass_g\": 3325, \"species\": \"Adelie\"}, {\"flipper_length_mm\": 187, \"bill_length_mm\": 36.2, \"sex\": \"female\", \"body_mass_g\": 3150, \"species\": \"Adelie\"}, {\"flipper_length_mm\": 198, \"bill_length_mm\": 37.7, \"sex\": \"male\", \"body_mass_g\": 3500, \"species\": \"Adelie\"}, {\"flipper_length_mm\": 176, \"bill_length_mm\": 40.2, \"sex\": \"female\", \"body_mass_g\": 3450, \"species\": \"Adelie\"}, {\"flipper_length_mm\": 202, \"bill_length_mm\": 41.4, \"sex\": \"male\", \"body_mass_g\": 3875, \"species\": \"Adelie\"}, {\"flipper_length_mm\": 186, \"bill_length_mm\": 35.2, \"sex\": \"female\", \"body_mass_g\": 3050, \"species\": \"Adelie\"}, {\"flipper_length_mm\": 199, \"bill_length_mm\": 40.6, \"sex\": \"male\", \"body_mass_g\": 4000, \"species\": \"Adelie\"}, {\"flipper_length_mm\": 191, \"bill_length_mm\": 38.8, \"sex\": \"female\", \"body_mass_g\": 3275, \"species\": \"Adelie\"}, {\"flipper_length_mm\": 195, \"bill_length_mm\": 41.5, \"sex\": \"male\", \"body_mass_g\": 4300, \"species\": \"Adelie\"}, {\"flipper_length_mm\": 191, \"bill_length_mm\": 39.0, \"sex\": \"female\", \"body_mass_g\": 3050, \"species\": \"Adelie\"}, {\"flipper_length_mm\": 210, \"bill_length_mm\": 44.1, \"sex\": \"male\", \"body_mass_g\": 4000, \"species\": \"Adelie\"}, {\"flipper_length_mm\": 190, \"bill_length_mm\": 38.5, \"sex\": \"female\", \"body_mass_g\": 3325, \"species\": \"Adelie\"}, {\"flipper_length_mm\": 197, \"bill_length_mm\": 43.1, \"sex\": \"male\", \"body_mass_g\": 3500, \"species\": \"Adelie\"}, {\"flipper_length_mm\": 193, \"bill_length_mm\": 36.8, \"sex\": \"female\", \"body_mass_g\": 3500, \"species\": \"Adelie\"}, {\"flipper_length_mm\": 199, \"bill_length_mm\": 37.5, \"sex\": \"male\", \"body_mass_g\": 4475, \"species\": \"Adelie\"}, {\"flipper_length_mm\": 187, \"bill_length_mm\": 38.1, \"sex\": \"female\", \"body_mass_g\": 3425, \"species\": \"Adelie\"}, {\"flipper_length_mm\": 190, \"bill_length_mm\": 41.1, \"sex\": \"male\", \"body_mass_g\": 3900, \"species\": \"Adelie\"}, {\"flipper_length_mm\": 191, \"bill_length_mm\": 35.6, \"sex\": \"female\", \"body_mass_g\": 3175, \"species\": \"Adelie\"}, {\"flipper_length_mm\": 200, \"bill_length_mm\": 40.2, \"sex\": \"male\", \"body_mass_g\": 3975, \"species\": \"Adelie\"}, {\"flipper_length_mm\": 185, \"bill_length_mm\": 37.0, \"sex\": \"female\", \"body_mass_g\": 3400, \"species\": \"Adelie\"}, {\"flipper_length_mm\": 193, \"bill_length_mm\": 39.7, \"sex\": \"male\", \"body_mass_g\": 4250, \"species\": \"Adelie\"}, {\"flipper_length_mm\": 193, \"bill_length_mm\": 40.2, \"sex\": \"female\", \"body_mass_g\": 3400, \"species\": \"Adelie\"}, {\"flipper_length_mm\": 187, \"bill_length_mm\": 40.6, \"sex\": \"male\", \"body_mass_g\": 3475, \"species\": \"Adelie\"}, {\"flipper_length_mm\": 188, \"bill_length_mm\": 32.1, \"sex\": \"female\", \"body_mass_g\": 3050, \"species\": \"Adelie\"}, {\"flipper_length_mm\": 190, \"bill_length_mm\": 40.7, \"sex\": \"male\", \"body_mass_g\": 3725, \"species\": \"Adelie\"}, {\"flipper_length_mm\": 192, \"bill_length_mm\": 37.3, \"sex\": \"female\", \"body_mass_g\": 3000, \"species\": \"Adelie\"}, {\"flipper_length_mm\": 185, \"bill_length_mm\": 39.0, \"sex\": \"male\", \"body_mass_g\": 3650, \"species\": \"Adelie\"}, {\"flipper_length_mm\": 190, \"bill_length_mm\": 39.2, \"sex\": \"male\", \"body_mass_g\": 4250, \"species\": \"Adelie\"}, {\"flipper_length_mm\": 184, \"bill_length_mm\": 36.6, \"sex\": \"female\", \"body_mass_g\": 3475, \"species\": \"Adelie\"}, {\"flipper_length_mm\": 195, \"bill_length_mm\": 36.0, \"sex\": \"female\", \"body_mass_g\": 3450, \"species\": \"Adelie\"}, {\"flipper_length_mm\": 193, \"bill_length_mm\": 37.8, \"sex\": \"male\", \"body_mass_g\": 3750, \"species\": \"Adelie\"}, {\"flipper_length_mm\": 187, \"bill_length_mm\": 36.0, \"sex\": \"female\", \"body_mass_g\": 3700, \"species\": \"Adelie\"}, {\"flipper_length_mm\": 201, \"bill_length_mm\": 41.5, \"sex\": \"male\", \"body_mass_g\": 4000, \"species\": \"Adelie\"}, {\"flipper_length_mm\": 211, \"bill_length_mm\": 46.1, \"sex\": \"female\", \"body_mass_g\": 4500, \"species\": \"Gentoo\"}, {\"flipper_length_mm\": 230, \"bill_length_mm\": 50.0, \"sex\": \"male\", \"body_mass_g\": 5700, \"species\": \"Gentoo\"}, {\"flipper_length_mm\": 210, \"bill_length_mm\": 48.7, \"sex\": \"female\", \"body_mass_g\": 4450, \"species\": \"Gentoo\"}, {\"flipper_length_mm\": 218, \"bill_length_mm\": 50.0, \"sex\": \"male\", \"body_mass_g\": 5700, \"species\": \"Gentoo\"}, {\"flipper_length_mm\": 215, \"bill_length_mm\": 47.6, \"sex\": \"male\", \"body_mass_g\": 5400, \"species\": \"Gentoo\"}, {\"flipper_length_mm\": 210, \"bill_length_mm\": 46.5, \"sex\": \"female\", \"body_mass_g\": 4550, \"species\": \"Gentoo\"}, {\"flipper_length_mm\": 211, \"bill_length_mm\": 45.4, \"sex\": \"female\", \"body_mass_g\": 4800, \"species\": \"Gentoo\"}, {\"flipper_length_mm\": 219, \"bill_length_mm\": 46.7, \"sex\": \"male\", \"body_mass_g\": 5200, \"species\": \"Gentoo\"}, {\"flipper_length_mm\": 209, \"bill_length_mm\": 43.3, \"sex\": \"female\", \"body_mass_g\": 4400, \"species\": \"Gentoo\"}, {\"flipper_length_mm\": 215, \"bill_length_mm\": 46.8, \"sex\": \"male\", \"body_mass_g\": 5150, \"species\": \"Gentoo\"}, {\"flipper_length_mm\": 214, \"bill_length_mm\": 40.9, \"sex\": \"female\", \"body_mass_g\": 4650, \"species\": \"Gentoo\"}, {\"flipper_length_mm\": 216, \"bill_length_mm\": 49.0, \"sex\": \"male\", \"body_mass_g\": 5550, \"species\": \"Gentoo\"}, {\"flipper_length_mm\": 214, \"bill_length_mm\": 45.5, \"sex\": \"female\", \"body_mass_g\": 4650, \"species\": \"Gentoo\"}, {\"flipper_length_mm\": 213, \"bill_length_mm\": 48.4, \"sex\": \"male\", \"body_mass_g\": 5850, \"species\": \"Gentoo\"}, {\"flipper_length_mm\": 210, \"bill_length_mm\": 45.8, \"sex\": \"female\", \"body_mass_g\": 4200, \"species\": \"Gentoo\"}, {\"flipper_length_mm\": 217, \"bill_length_mm\": 49.3, \"sex\": \"male\", \"body_mass_g\": 5850, \"species\": \"Gentoo\"}, {\"flipper_length_mm\": 210, \"bill_length_mm\": 42.0, \"sex\": \"female\", \"body_mass_g\": 4150, \"species\": \"Gentoo\"}, {\"flipper_length_mm\": 221, \"bill_length_mm\": 49.2, \"sex\": \"male\", \"body_mass_g\": 6300, \"species\": \"Gentoo\"}, {\"flipper_length_mm\": 209, \"bill_length_mm\": 46.2, \"sex\": \"female\", \"body_mass_g\": 4800, \"species\": \"Gentoo\"}, {\"flipper_length_mm\": 222, \"bill_length_mm\": 48.7, \"sex\": \"male\", \"body_mass_g\": 5350, \"species\": \"Gentoo\"}, {\"flipper_length_mm\": 218, \"bill_length_mm\": 50.2, \"sex\": \"male\", \"body_mass_g\": 5700, \"species\": \"Gentoo\"}, {\"flipper_length_mm\": 215, \"bill_length_mm\": 45.1, \"sex\": \"female\", \"body_mass_g\": 5000, \"species\": \"Gentoo\"}, {\"flipper_length_mm\": 213, \"bill_length_mm\": 46.5, \"sex\": \"female\", \"body_mass_g\": 4400, \"species\": \"Gentoo\"}, {\"flipper_length_mm\": 215, \"bill_length_mm\": 46.3, \"sex\": \"male\", \"body_mass_g\": 5050, \"species\": \"Gentoo\"}, {\"flipper_length_mm\": 215, \"bill_length_mm\": 42.9, \"sex\": \"female\", \"body_mass_g\": 5000, \"species\": \"Gentoo\"}, {\"flipper_length_mm\": 215, \"bill_length_mm\": 46.1, \"sex\": \"male\", \"body_mass_g\": 5100, \"species\": \"Gentoo\"}, {\"flipper_length_mm\": 215, \"bill_length_mm\": 47.8, \"sex\": \"male\", \"body_mass_g\": 5650, \"species\": \"Gentoo\"}, {\"flipper_length_mm\": 210, \"bill_length_mm\": 48.2, \"sex\": \"female\", \"body_mass_g\": 4600, \"species\": \"Gentoo\"}, {\"flipper_length_mm\": 220, \"bill_length_mm\": 50.0, \"sex\": \"male\", \"body_mass_g\": 5550, \"species\": \"Gentoo\"}, {\"flipper_length_mm\": 222, \"bill_length_mm\": 47.3, \"sex\": \"male\", \"body_mass_g\": 5250, \"species\": \"Gentoo\"}, {\"flipper_length_mm\": 209, \"bill_length_mm\": 42.8, \"sex\": \"female\", \"body_mass_g\": 4700, \"species\": \"Gentoo\"}, {\"flipper_length_mm\": 207, \"bill_length_mm\": 45.1, \"sex\": \"female\", \"body_mass_g\": 5050, \"species\": \"Gentoo\"}, {\"flipper_length_mm\": 230, \"bill_length_mm\": 59.6, \"sex\": \"male\", \"body_mass_g\": 6050, \"species\": \"Gentoo\"}, {\"flipper_length_mm\": 220, \"bill_length_mm\": 49.1, \"sex\": \"female\", \"body_mass_g\": 5150, \"species\": \"Gentoo\"}, {\"flipper_length_mm\": 220, \"bill_length_mm\": 48.4, \"sex\": \"male\", \"body_mass_g\": 5400, \"species\": \"Gentoo\"}, {\"flipper_length_mm\": 213, \"bill_length_mm\": 42.6, \"sex\": \"female\", \"body_mass_g\": 4950, \"species\": \"Gentoo\"}, {\"flipper_length_mm\": 219, \"bill_length_mm\": 44.4, \"sex\": \"male\", \"body_mass_g\": 5250, \"species\": \"Gentoo\"}, {\"flipper_length_mm\": 208, \"bill_length_mm\": 44.0, \"sex\": \"female\", \"body_mass_g\": 4350, \"species\": \"Gentoo\"}, {\"flipper_length_mm\": 208, \"bill_length_mm\": 48.7, \"sex\": \"male\", \"body_mass_g\": 5350, \"species\": \"Gentoo\"}, {\"flipper_length_mm\": 208, \"bill_length_mm\": 42.7, \"sex\": \"female\", \"body_mass_g\": 3950, \"species\": \"Gentoo\"}, {\"flipper_length_mm\": 225, \"bill_length_mm\": 49.6, \"sex\": \"male\", \"body_mass_g\": 5700, \"species\": \"Gentoo\"}, {\"flipper_length_mm\": 210, \"bill_length_mm\": 45.3, \"sex\": \"female\", \"body_mass_g\": 4300, \"species\": \"Gentoo\"}, {\"flipper_length_mm\": 216, \"bill_length_mm\": 49.6, \"sex\": \"male\", \"body_mass_g\": 4750, \"species\": \"Gentoo\"}, {\"flipper_length_mm\": 222, \"bill_length_mm\": 50.5, \"sex\": \"male\", \"body_mass_g\": 5550, \"species\": \"Gentoo\"}, {\"flipper_length_mm\": 217, \"bill_length_mm\": 43.6, \"sex\": \"female\", \"body_mass_g\": 4900, \"species\": \"Gentoo\"}, {\"flipper_length_mm\": 210, \"bill_length_mm\": 45.5, \"sex\": \"female\", \"body_mass_g\": 4200, \"species\": \"Gentoo\"}, {\"flipper_length_mm\": 225, \"bill_length_mm\": 50.5, \"sex\": \"male\", \"body_mass_g\": 5400, \"species\": \"Gentoo\"}, {\"flipper_length_mm\": 213, \"bill_length_mm\": 44.9, \"sex\": \"female\", \"body_mass_g\": 5100, \"species\": \"Gentoo\"}, {\"flipper_length_mm\": 215, \"bill_length_mm\": 45.2, \"sex\": \"male\", \"body_mass_g\": 5300, \"species\": \"Gentoo\"}, {\"flipper_length_mm\": 210, \"bill_length_mm\": 46.6, \"sex\": \"female\", \"body_mass_g\": 4850, \"species\": \"Gentoo\"}, {\"flipper_length_mm\": 220, \"bill_length_mm\": 48.5, \"sex\": \"male\", \"body_mass_g\": 5300, \"species\": \"Gentoo\"}, {\"flipper_length_mm\": 210, \"bill_length_mm\": 45.1, \"sex\": \"female\", \"body_mass_g\": 4400, \"species\": \"Gentoo\"}, {\"flipper_length_mm\": 225, \"bill_length_mm\": 50.1, \"sex\": \"male\", \"body_mass_g\": 5000, \"species\": \"Gentoo\"}, {\"flipper_length_mm\": 217, \"bill_length_mm\": 46.5, \"sex\": \"female\", \"body_mass_g\": 4900, \"species\": \"Gentoo\"}, {\"flipper_length_mm\": 220, \"bill_length_mm\": 45.0, \"sex\": \"male\", \"body_mass_g\": 5050, \"species\": \"Gentoo\"}, {\"flipper_length_mm\": 208, \"bill_length_mm\": 43.8, \"sex\": \"female\", \"body_mass_g\": 4300, \"species\": \"Gentoo\"}, {\"flipper_length_mm\": 220, \"bill_length_mm\": 45.5, \"sex\": \"male\", \"body_mass_g\": 5000, \"species\": \"Gentoo\"}, {\"flipper_length_mm\": 208, \"bill_length_mm\": 43.2, \"sex\": \"female\", \"body_mass_g\": 4450, \"species\": \"Gentoo\"}, {\"flipper_length_mm\": 224, \"bill_length_mm\": 50.4, \"sex\": \"male\", \"body_mass_g\": 5550, \"species\": \"Gentoo\"}, {\"flipper_length_mm\": 208, \"bill_length_mm\": 45.3, \"sex\": \"female\", \"body_mass_g\": 4200, \"species\": \"Gentoo\"}, {\"flipper_length_mm\": 221, \"bill_length_mm\": 46.2, \"sex\": \"male\", \"body_mass_g\": 5300, \"species\": \"Gentoo\"}, {\"flipper_length_mm\": 214, \"bill_length_mm\": 45.7, \"sex\": \"female\", \"body_mass_g\": 4400, \"species\": \"Gentoo\"}, {\"flipper_length_mm\": 231, \"bill_length_mm\": 54.3, \"sex\": \"male\", \"body_mass_g\": 5650, \"species\": \"Gentoo\"}, {\"flipper_length_mm\": 219, \"bill_length_mm\": 45.8, \"sex\": \"female\", \"body_mass_g\": 4700, \"species\": \"Gentoo\"}, {\"flipper_length_mm\": 230, \"bill_length_mm\": 49.8, \"sex\": \"male\", \"body_mass_g\": 5700, \"species\": \"Gentoo\"}, {\"flipper_length_mm\": 229, \"bill_length_mm\": 49.5, \"sex\": \"male\", \"body_mass_g\": 5800, \"species\": \"Gentoo\"}, {\"flipper_length_mm\": 220, \"bill_length_mm\": 43.5, \"sex\": \"female\", \"body_mass_g\": 4700, \"species\": \"Gentoo\"}, {\"flipper_length_mm\": 223, \"bill_length_mm\": 50.7, \"sex\": \"male\", \"body_mass_g\": 5550, \"species\": \"Gentoo\"}, {\"flipper_length_mm\": 216, \"bill_length_mm\": 47.7, \"sex\": \"female\", \"body_mass_g\": 4750, \"species\": \"Gentoo\"}, {\"flipper_length_mm\": 221, \"bill_length_mm\": 46.4, \"sex\": \"male\", \"body_mass_g\": 5000, \"species\": \"Gentoo\"}, {\"flipper_length_mm\": 221, \"bill_length_mm\": 48.2, \"sex\": \"male\", \"body_mass_g\": 5100, \"species\": \"Gentoo\"}, {\"flipper_length_mm\": 217, \"bill_length_mm\": 46.5, \"sex\": \"female\", \"body_mass_g\": 5200, \"species\": \"Gentoo\"}, {\"flipper_length_mm\": 216, \"bill_length_mm\": 46.4, \"sex\": \"female\", \"body_mass_g\": 4700, \"species\": \"Gentoo\"}, {\"flipper_length_mm\": 230, \"bill_length_mm\": 48.6, \"sex\": \"male\", \"body_mass_g\": 5800, \"species\": \"Gentoo\"}, {\"flipper_length_mm\": 209, \"bill_length_mm\": 47.5, \"sex\": \"female\", \"body_mass_g\": 4600, \"species\": \"Gentoo\"}, {\"flipper_length_mm\": 220, \"bill_length_mm\": 51.1, \"sex\": \"male\", \"body_mass_g\": 6000, \"species\": \"Gentoo\"}, {\"flipper_length_mm\": 215, \"bill_length_mm\": 45.2, \"sex\": \"female\", \"body_mass_g\": 4750, \"species\": \"Gentoo\"}, {\"flipper_length_mm\": 223, \"bill_length_mm\": 45.2, \"sex\": \"male\", \"body_mass_g\": 5950, \"species\": \"Gentoo\"}, {\"flipper_length_mm\": 212, \"bill_length_mm\": 49.1, \"sex\": \"female\", \"body_mass_g\": 4625, \"species\": \"Gentoo\"}, {\"flipper_length_mm\": 221, \"bill_length_mm\": 52.5, \"sex\": \"male\", \"body_mass_g\": 5450, \"species\": \"Gentoo\"}, {\"flipper_length_mm\": 212, \"bill_length_mm\": 47.4, \"sex\": \"female\", \"body_mass_g\": 4725, \"species\": \"Gentoo\"}, {\"flipper_length_mm\": 224, \"bill_length_mm\": 50.0, \"sex\": \"male\", \"body_mass_g\": 5350, \"species\": \"Gentoo\"}, {\"flipper_length_mm\": 212, \"bill_length_mm\": 44.9, \"sex\": \"female\", \"body_mass_g\": 4750, \"species\": \"Gentoo\"}, {\"flipper_length_mm\": 228, \"bill_length_mm\": 50.8, \"sex\": \"male\", \"body_mass_g\": 5600, \"species\": \"Gentoo\"}, {\"flipper_length_mm\": 218, \"bill_length_mm\": 43.4, \"sex\": \"female\", \"body_mass_g\": 4600, \"species\": \"Gentoo\"}, {\"flipper_length_mm\": 218, \"bill_length_mm\": 51.3, \"sex\": \"male\", \"body_mass_g\": 5300, \"species\": \"Gentoo\"}, {\"flipper_length_mm\": 212, \"bill_length_mm\": 47.5, \"sex\": \"female\", \"body_mass_g\": 4875, \"species\": \"Gentoo\"}, {\"flipper_length_mm\": 230, \"bill_length_mm\": 52.1, \"sex\": \"male\", \"body_mass_g\": 5550, \"species\": \"Gentoo\"}, {\"flipper_length_mm\": 218, \"bill_length_mm\": 47.5, \"sex\": \"female\", \"body_mass_g\": 4950, \"species\": \"Gentoo\"}, {\"flipper_length_mm\": 228, \"bill_length_mm\": 52.2, \"sex\": \"male\", \"body_mass_g\": 5400, \"species\": \"Gentoo\"}, {\"flipper_length_mm\": 212, \"bill_length_mm\": 45.5, \"sex\": \"female\", \"body_mass_g\": 4750, \"species\": \"Gentoo\"}, {\"flipper_length_mm\": 224, \"bill_length_mm\": 49.5, \"sex\": \"male\", \"body_mass_g\": 5650, \"species\": \"Gentoo\"}, {\"flipper_length_mm\": 214, \"bill_length_mm\": 44.5, \"sex\": \"female\", \"body_mass_g\": 4850, \"species\": \"Gentoo\"}, {\"flipper_length_mm\": 226, \"bill_length_mm\": 50.8, \"sex\": \"male\", \"body_mass_g\": 5200, \"species\": \"Gentoo\"}, {\"flipper_length_mm\": 216, \"bill_length_mm\": 49.4, \"sex\": \"male\", \"body_mass_g\": 4925, \"species\": \"Gentoo\"}, {\"flipper_length_mm\": 222, \"bill_length_mm\": 46.9, \"sex\": \"female\", \"body_mass_g\": 4875, \"species\": \"Gentoo\"}, {\"flipper_length_mm\": 203, \"bill_length_mm\": 48.4, \"sex\": \"female\", \"body_mass_g\": 4625, \"species\": \"Gentoo\"}, {\"flipper_length_mm\": 225, \"bill_length_mm\": 51.1, \"sex\": \"male\", \"body_mass_g\": 5250, \"species\": \"Gentoo\"}, {\"flipper_length_mm\": 219, \"bill_length_mm\": 48.5, \"sex\": \"female\", \"body_mass_g\": 4850, \"species\": \"Gentoo\"}, {\"flipper_length_mm\": 228, \"bill_length_mm\": 55.9, \"sex\": \"male\", \"body_mass_g\": 5600, \"species\": \"Gentoo\"}, {\"flipper_length_mm\": 215, \"bill_length_mm\": 47.2, \"sex\": \"female\", \"body_mass_g\": 4975, \"species\": \"Gentoo\"}, {\"flipper_length_mm\": 228, \"bill_length_mm\": 49.1, \"sex\": \"male\", \"body_mass_g\": 5500, \"species\": \"Gentoo\"}, {\"flipper_length_mm\": 215, \"bill_length_mm\": 46.8, \"sex\": \"male\", \"body_mass_g\": 5500, \"species\": \"Gentoo\"}, {\"flipper_length_mm\": 210, \"bill_length_mm\": 41.7, \"sex\": \"female\", \"body_mass_g\": 4700, \"species\": \"Gentoo\"}, {\"flipper_length_mm\": 219, \"bill_length_mm\": 53.4, \"sex\": \"male\", \"body_mass_g\": 5500, \"species\": \"Gentoo\"}, {\"flipper_length_mm\": 208, \"bill_length_mm\": 43.3, \"sex\": \"female\", \"body_mass_g\": 4575, \"species\": \"Gentoo\"}, {\"flipper_length_mm\": 209, \"bill_length_mm\": 48.1, \"sex\": \"male\", \"body_mass_g\": 5500, \"species\": \"Gentoo\"}, {\"flipper_length_mm\": 216, \"bill_length_mm\": 50.5, \"sex\": \"female\", \"body_mass_g\": 5000, \"species\": \"Gentoo\"}, {\"flipper_length_mm\": 229, \"bill_length_mm\": 49.8, \"sex\": \"male\", \"body_mass_g\": 5950, \"species\": \"Gentoo\"}, {\"flipper_length_mm\": 213, \"bill_length_mm\": 43.5, \"sex\": \"female\", \"body_mass_g\": 4650, \"species\": \"Gentoo\"}, {\"flipper_length_mm\": 230, \"bill_length_mm\": 51.5, \"sex\": \"male\", \"body_mass_g\": 5500, \"species\": \"Gentoo\"}, {\"flipper_length_mm\": 217, \"bill_length_mm\": 46.2, \"sex\": \"female\", \"body_mass_g\": 4375, \"species\": \"Gentoo\"}, {\"flipper_length_mm\": 230, \"bill_length_mm\": 55.1, \"sex\": \"male\", \"body_mass_g\": 5850, \"species\": \"Gentoo\"}, {\"flipper_length_mm\": 222, \"bill_length_mm\": 48.8, \"sex\": \"male\", \"body_mass_g\": 6000, \"species\": \"Gentoo\"}, {\"flipper_length_mm\": 214, \"bill_length_mm\": 47.2, \"sex\": \"female\", \"body_mass_g\": 4925, \"species\": \"Gentoo\"}, {\"flipper_length_mm\": 215, \"bill_length_mm\": 46.8, \"sex\": \"female\", \"body_mass_g\": 4850, \"species\": \"Gentoo\"}, {\"flipper_length_mm\": 222, \"bill_length_mm\": 50.4, \"sex\": \"male\", \"body_mass_g\": 5750, \"species\": \"Gentoo\"}, {\"flipper_length_mm\": 212, \"bill_length_mm\": 45.2, \"sex\": \"female\", \"body_mass_g\": 5200, \"species\": \"Gentoo\"}, {\"flipper_length_mm\": 213, \"bill_length_mm\": 49.9, \"sex\": \"male\", \"body_mass_g\": 5400, \"species\": \"Gentoo\"}, {\"flipper_length_mm\": 192, \"bill_length_mm\": 46.5, \"sex\": \"female\", \"body_mass_g\": 3500, \"species\": \"Chinstrap\"}, {\"flipper_length_mm\": 196, \"bill_length_mm\": 50.0, \"sex\": \"male\", \"body_mass_g\": 3900, \"species\": \"Chinstrap\"}, {\"flipper_length_mm\": 193, \"bill_length_mm\": 51.3, \"sex\": \"male\", \"body_mass_g\": 3650, \"species\": \"Chinstrap\"}, {\"flipper_length_mm\": 188, \"bill_length_mm\": 45.4, \"sex\": \"female\", \"body_mass_g\": 3525, \"species\": \"Chinstrap\"}, {\"flipper_length_mm\": 197, \"bill_length_mm\": 52.7, \"sex\": \"male\", \"body_mass_g\": 3725, \"species\": \"Chinstrap\"}, {\"flipper_length_mm\": 198, \"bill_length_mm\": 45.2, \"sex\": \"female\", \"body_mass_g\": 3950, \"species\": \"Chinstrap\"}, {\"flipper_length_mm\": 178, \"bill_length_mm\": 46.1, \"sex\": \"female\", \"body_mass_g\": 3250, \"species\": \"Chinstrap\"}, {\"flipper_length_mm\": 197, \"bill_length_mm\": 51.3, \"sex\": \"male\", \"body_mass_g\": 3750, \"species\": \"Chinstrap\"}, {\"flipper_length_mm\": 195, \"bill_length_mm\": 46.0, \"sex\": \"female\", \"body_mass_g\": 4150, \"species\": \"Chinstrap\"}, {\"flipper_length_mm\": 198, \"bill_length_mm\": 51.3, \"sex\": \"male\", \"body_mass_g\": 3700, \"species\": \"Chinstrap\"}, {\"flipper_length_mm\": 193, \"bill_length_mm\": 46.6, \"sex\": \"female\", \"body_mass_g\": 3800, \"species\": \"Chinstrap\"}, {\"flipper_length_mm\": 194, \"bill_length_mm\": 51.7, \"sex\": \"male\", \"body_mass_g\": 3775, \"species\": \"Chinstrap\"}, {\"flipper_length_mm\": 185, \"bill_length_mm\": 47.0, \"sex\": \"female\", \"body_mass_g\": 3700, \"species\": \"Chinstrap\"}, {\"flipper_length_mm\": 201, \"bill_length_mm\": 52.0, \"sex\": \"male\", \"body_mass_g\": 4050, \"species\": \"Chinstrap\"}, {\"flipper_length_mm\": 190, \"bill_length_mm\": 45.9, \"sex\": \"female\", \"body_mass_g\": 3575, \"species\": \"Chinstrap\"}, {\"flipper_length_mm\": 201, \"bill_length_mm\": 50.5, \"sex\": \"male\", \"body_mass_g\": 4050, \"species\": \"Chinstrap\"}, {\"flipper_length_mm\": 197, \"bill_length_mm\": 50.3, \"sex\": \"male\", \"body_mass_g\": 3300, \"species\": \"Chinstrap\"}, {\"flipper_length_mm\": 181, \"bill_length_mm\": 58.0, \"sex\": \"female\", \"body_mass_g\": 3700, \"species\": \"Chinstrap\"}, {\"flipper_length_mm\": 190, \"bill_length_mm\": 46.4, \"sex\": \"female\", \"body_mass_g\": 3450, \"species\": \"Chinstrap\"}, {\"flipper_length_mm\": 195, \"bill_length_mm\": 49.2, \"sex\": \"male\", \"body_mass_g\": 4400, \"species\": \"Chinstrap\"}, {\"flipper_length_mm\": 181, \"bill_length_mm\": 42.4, \"sex\": \"female\", \"body_mass_g\": 3600, \"species\": \"Chinstrap\"}, {\"flipper_length_mm\": 191, \"bill_length_mm\": 48.5, \"sex\": \"male\", \"body_mass_g\": 3400, \"species\": \"Chinstrap\"}, {\"flipper_length_mm\": 187, \"bill_length_mm\": 43.2, \"sex\": \"female\", \"body_mass_g\": 2900, \"species\": \"Chinstrap\"}, {\"flipper_length_mm\": 193, \"bill_length_mm\": 50.6, \"sex\": \"male\", \"body_mass_g\": 3800, \"species\": \"Chinstrap\"}, {\"flipper_length_mm\": 195, \"bill_length_mm\": 46.7, \"sex\": \"female\", \"body_mass_g\": 3300, \"species\": \"Chinstrap\"}, {\"flipper_length_mm\": 197, \"bill_length_mm\": 52.0, \"sex\": \"male\", \"body_mass_g\": 4150, \"species\": \"Chinstrap\"}, {\"flipper_length_mm\": 200, \"bill_length_mm\": 50.5, \"sex\": \"female\", \"body_mass_g\": 3400, \"species\": \"Chinstrap\"}, {\"flipper_length_mm\": 200, \"bill_length_mm\": 49.5, \"sex\": \"male\", \"body_mass_g\": 3800, \"species\": \"Chinstrap\"}, {\"flipper_length_mm\": 191, \"bill_length_mm\": 46.4, \"sex\": \"female\", \"body_mass_g\": 3700, \"species\": \"Chinstrap\"}, {\"flipper_length_mm\": 205, \"bill_length_mm\": 52.8, \"sex\": \"male\", \"body_mass_g\": 4550, \"species\": \"Chinstrap\"}, {\"flipper_length_mm\": 187, \"bill_length_mm\": 40.9, \"sex\": \"female\", \"body_mass_g\": 3200, \"species\": \"Chinstrap\"}, {\"flipper_length_mm\": 201, \"bill_length_mm\": 54.2, \"sex\": \"male\", \"body_mass_g\": 4300, \"species\": \"Chinstrap\"}, {\"flipper_length_mm\": 187, \"bill_length_mm\": 42.5, \"sex\": \"female\", \"body_mass_g\": 3350, \"species\": \"Chinstrap\"}, {\"flipper_length_mm\": 203, \"bill_length_mm\": 51.0, \"sex\": \"male\", \"body_mass_g\": 4100, \"species\": \"Chinstrap\"}, {\"flipper_length_mm\": 195, \"bill_length_mm\": 49.7, \"sex\": \"male\", \"body_mass_g\": 3600, \"species\": \"Chinstrap\"}, {\"flipper_length_mm\": 199, \"bill_length_mm\": 47.5, \"sex\": \"female\", \"body_mass_g\": 3900, \"species\": \"Chinstrap\"}, {\"flipper_length_mm\": 195, \"bill_length_mm\": 47.6, \"sex\": \"female\", \"body_mass_g\": 3850, \"species\": \"Chinstrap\"}, {\"flipper_length_mm\": 210, \"bill_length_mm\": 52.0, \"sex\": \"male\", \"body_mass_g\": 4800, \"species\": \"Chinstrap\"}, {\"flipper_length_mm\": 192, \"bill_length_mm\": 46.9, \"sex\": \"female\", \"body_mass_g\": 2700, \"species\": \"Chinstrap\"}, {\"flipper_length_mm\": 205, \"bill_length_mm\": 53.5, \"sex\": \"male\", \"body_mass_g\": 4500, \"species\": \"Chinstrap\"}, {\"flipper_length_mm\": 210, \"bill_length_mm\": 49.0, \"sex\": \"male\", \"body_mass_g\": 3950, \"species\": \"Chinstrap\"}, {\"flipper_length_mm\": 187, \"bill_length_mm\": 46.2, \"sex\": \"female\", \"body_mass_g\": 3650, \"species\": \"Chinstrap\"}, {\"flipper_length_mm\": 196, \"bill_length_mm\": 50.9, \"sex\": \"male\", \"body_mass_g\": 3550, \"species\": \"Chinstrap\"}, {\"flipper_length_mm\": 196, \"bill_length_mm\": 45.5, \"sex\": \"female\", \"body_mass_g\": 3500, \"species\": \"Chinstrap\"}, {\"flipper_length_mm\": 196, \"bill_length_mm\": 50.9, \"sex\": \"female\", \"body_mass_g\": 3675, \"species\": \"Chinstrap\"}, {\"flipper_length_mm\": 201, \"bill_length_mm\": 50.8, \"sex\": \"male\", \"body_mass_g\": 4450, \"species\": \"Chinstrap\"}, {\"flipper_length_mm\": 190, \"bill_length_mm\": 50.1, \"sex\": \"female\", \"body_mass_g\": 3400, \"species\": \"Chinstrap\"}, {\"flipper_length_mm\": 212, \"bill_length_mm\": 49.0, \"sex\": \"male\", \"body_mass_g\": 4300, \"species\": \"Chinstrap\"}, {\"flipper_length_mm\": 187, \"bill_length_mm\": 51.5, \"sex\": \"male\", \"body_mass_g\": 3250, \"species\": \"Chinstrap\"}, {\"flipper_length_mm\": 198, \"bill_length_mm\": 49.8, \"sex\": \"female\", \"body_mass_g\": 3675, \"species\": \"Chinstrap\"}, {\"flipper_length_mm\": 199, \"bill_length_mm\": 48.1, \"sex\": \"female\", \"body_mass_g\": 3325, \"species\": \"Chinstrap\"}, {\"flipper_length_mm\": 201, \"bill_length_mm\": 51.4, \"sex\": \"male\", \"body_mass_g\": 3950, \"species\": \"Chinstrap\"}, {\"flipper_length_mm\": 193, \"bill_length_mm\": 45.7, \"sex\": \"female\", \"body_mass_g\": 3600, \"species\": \"Chinstrap\"}, {\"flipper_length_mm\": 203, \"bill_length_mm\": 50.7, \"sex\": \"male\", \"body_mass_g\": 4050, \"species\": \"Chinstrap\"}, {\"flipper_length_mm\": 187, \"bill_length_mm\": 42.5, \"sex\": \"female\", \"body_mass_g\": 3350, \"species\": \"Chinstrap\"}, {\"flipper_length_mm\": 197, \"bill_length_mm\": 52.2, \"sex\": \"male\", \"body_mass_g\": 3450, \"species\": \"Chinstrap\"}, {\"flipper_length_mm\": 191, \"bill_length_mm\": 45.2, \"sex\": \"female\", \"body_mass_g\": 3250, \"species\": \"Chinstrap\"}, {\"flipper_length_mm\": 203, \"bill_length_mm\": 49.3, \"sex\": \"male\", \"body_mass_g\": 4050, \"species\": \"Chinstrap\"}, {\"flipper_length_mm\": 202, \"bill_length_mm\": 50.2, \"sex\": \"male\", \"body_mass_g\": 3800, \"species\": \"Chinstrap\"}, {\"flipper_length_mm\": 194, \"bill_length_mm\": 45.6, \"sex\": \"female\", \"body_mass_g\": 3525, \"species\": \"Chinstrap\"}, {\"flipper_length_mm\": 206, \"bill_length_mm\": 51.9, \"sex\": \"male\", \"body_mass_g\": 3950, \"species\": \"Chinstrap\"}, {\"flipper_length_mm\": 189, \"bill_length_mm\": 46.8, \"sex\": \"female\", \"body_mass_g\": 3650, \"species\": \"Chinstrap\"}, {\"flipper_length_mm\": 195, \"bill_length_mm\": 45.7, \"sex\": \"female\", \"body_mass_g\": 3650, \"species\": \"Chinstrap\"}, {\"flipper_length_mm\": 207, \"bill_length_mm\": 55.8, \"sex\": \"male\", \"body_mass_g\": 4000, \"species\": \"Chinstrap\"}, {\"flipper_length_mm\": 202, \"bill_length_mm\": 43.5, \"sex\": \"female\", \"body_mass_g\": 3400, \"species\": \"Chinstrap\"}, {\"flipper_length_mm\": 193, \"bill_length_mm\": 49.6, \"sex\": \"male\", \"body_mass_g\": 3775, \"species\": \"Chinstrap\"}, {\"flipper_length_mm\": 210, \"bill_length_mm\": 50.8, \"sex\": \"male\", \"body_mass_g\": 4100, \"species\": \"Chinstrap\"}, {\"flipper_length_mm\": 198, \"bill_length_mm\": 50.2, \"sex\": \"female\", \"body_mass_g\": 3775, \"species\": \"Chinstrap\"}]}}, {\"mode\": \"vega-lite\"});\n",
       "</script>"
      ],
      "text/plain": [
       "alt.FacetChart(...)"
      ]
     },
     "execution_count": 72,
     "metadata": {},
     "output_type": "execute_result"
    }
   ],
   "source": [
    "alt.Chart(penguins_sel_dt_1).mark_point(\n",
    ").encode(\n",
    "    alt.X('flipper_length_mm'),\n",
    "    alt.Y('bill_length_mm'),\n",
    "    alt.Color('sex')\n",
    ").properties(\n",
    "    height=200,\n",
    "    width=250\n",
    ").facet('species').configure_mark(opacity=0.6)"
   ]
  },
  {
   "cell_type": "code",
   "execution_count": 89,
   "metadata": {},
   "outputs": [],
   "source": [
    "# select only numeric columns from DT\n",
    "penguins_numericos_dt = penguins_tidy_dt[:,(f[dt.int32].remove(f.year),f[dt.float64])]"
   ]
  },
  {
   "cell_type": "code",
   "execution_count": 94,
   "metadata": {},
   "outputs": [
    {
     "data": {
      "text/html": [
       "<div class='datatable'>\n",
       "  <table class='frame'>\n",
       "  <thead>\n",
       "    <tr class='colnames'><td class='row_index'></td><th>flipper_length_mm</th><th>body_mass_g</th><th>bill_length_mm</th><th>bill_depth_mm</th></tr>\n",
       "    <tr class='coltypes'><td class='row_index'></td><td class='integer' title='int32'>&#x25AA;&#x25AA;&#x25AA;&#x25AA;</td><td class='integer' title='int32'>&#x25AA;&#x25AA;&#x25AA;&#x25AA;</td><td class='float' title='float64'>&#x25AA;&#x25AA;&#x25AA;&#x25AA;&#x25AA;&#x25AA;&#x25AA;&#x25AA;</td><td class='float' title='float64'>&#x25AA;&#x25AA;&#x25AA;&#x25AA;&#x25AA;&#x25AA;&#x25AA;&#x25AA;</td></tr>\n",
       "  </thead>\n",
       "  <tbody>\n",
       "    <tr><td class='row_index'>0</td><td>181</td><td>3750</td><td>39.1</td><td>18.7</td></tr>\n",
       "    <tr><td class='row_index'>1</td><td>186</td><td>3800</td><td>39.5</td><td>17.4</td></tr>\n",
       "    <tr><td class='row_index'>2</td><td>195</td><td>3250</td><td>40.3</td><td>18</td></tr>\n",
       "    <tr><td class='row_index'>3</td><td>193</td><td>3450</td><td>36.7</td><td>19.3</td></tr>\n",
       "    <tr><td class='row_index'>&#x22EE;</td><td class='hellipsis'>&#x22EE;</td><td class='hellipsis'>&#x22EE;</td><td class='hellipsis'>&#x22EE;</td><td class='hellipsis'>&#x22EE;</td></tr>\n",
       "    <tr><td class='row_index'>329</td><td>202</td><td>3400</td><td>43.5</td><td>18.1</td></tr>\n",
       "    <tr><td class='row_index'>330</td><td>193</td><td>3775</td><td>49.6</td><td>18.2</td></tr>\n",
       "    <tr><td class='row_index'>331</td><td>210</td><td>4100</td><td>50.8</td><td>19</td></tr>\n",
       "    <tr><td class='row_index'>332</td><td>198</td><td>3775</td><td>50.2</td><td>18.7</td></tr>\n",
       "  </tbody>\n",
       "  </table>\n",
       "  <div class='footer'>\n",
       "    <div class='frame_dimensions'>333 rows &times; 4 columns</div>\n",
       "  </div>\n",
       "</div>\n"
      ],
      "text/plain": [
       "<Frame [333 rows x 4 cols]>"
      ]
     },
     "execution_count": 94,
     "metadata": {},
     "output_type": "execute_result"
    }
   ],
   "source": [
    "penguins_numericos_dt"
   ]
  },
  {
   "cell_type": "code",
   "execution_count": 91,
   "metadata": {},
   "outputs": [
    {
     "data": {
      "text/html": [
       "\n",
       "<div id=\"altair-viz-db3fb939810843af8c72e7e7fe559782\"></div>\n",
       "<script type=\"text/javascript\">\n",
       "  (function(spec, embedOpt){\n",
       "    let outputDiv = document.currentScript.previousElementSibling;\n",
       "    if (outputDiv.id !== \"altair-viz-db3fb939810843af8c72e7e7fe559782\") {\n",
       "      outputDiv = document.getElementById(\"altair-viz-db3fb939810843af8c72e7e7fe559782\");\n",
       "    }\n",
       "    const paths = {\n",
       "      \"vega\": \"https://cdn.jsdelivr.net/npm//vega@5?noext\",\n",
       "      \"vega-lib\": \"https://cdn.jsdelivr.net/npm//vega-lib?noext\",\n",
       "      \"vega-lite\": \"https://cdn.jsdelivr.net/npm//vega-lite@4.8.1?noext\",\n",
       "      \"vega-embed\": \"https://cdn.jsdelivr.net/npm//vega-embed@6?noext\",\n",
       "    };\n",
       "\n",
       "    function loadScript(lib) {\n",
       "      return new Promise(function(resolve, reject) {\n",
       "        var s = document.createElement('script');\n",
       "        s.src = paths[lib];\n",
       "        s.async = true;\n",
       "        s.onload = () => resolve(paths[lib]);\n",
       "        s.onerror = () => reject(`Error loading script: ${paths[lib]}`);\n",
       "        document.getElementsByTagName(\"head\")[0].appendChild(s);\n",
       "      });\n",
       "    }\n",
       "\n",
       "    function showError(err) {\n",
       "      outputDiv.innerHTML = `<div class=\"error\" style=\"color:red;\">${err}</div>`;\n",
       "      throw err;\n",
       "    }\n",
       "\n",
       "    function displayChart(vegaEmbed) {\n",
       "      vegaEmbed(outputDiv, spec, embedOpt)\n",
       "        .catch(err => showError(`Javascript Error: ${err.message}<br>This usually means there's a typo in your chart specification. See the javascript console for the full traceback.`));\n",
       "    }\n",
       "\n",
       "    if(typeof define === \"function\" && define.amd) {\n",
       "      requirejs.config({paths});\n",
       "      require([\"vega-embed\"], displayChart, err => showError(`Error loading script: ${err.message}`));\n",
       "    } else if (typeof vegaEmbed === \"function\") {\n",
       "      displayChart(vegaEmbed);\n",
       "    } else {\n",
       "      loadScript(\"vega\")\n",
       "        .then(() => loadScript(\"vega-lite\"))\n",
       "        .then(() => loadScript(\"vega-embed\"))\n",
       "        .catch(showError)\n",
       "        .then(() => displayChart(vegaEmbed));\n",
       "    }\n",
       "  })({\"config\": {\"view\": {\"continuousWidth\": 400, \"continuousHeight\": 300}}, \"data\": {\"name\": \"data-e00b5f4cde0836f6b158e38dbae65c94\"}, \"mark\": \"point\", \"encoding\": {\"x\": {\"type\": \"quantitative\", \"field\": \"bill_length_mm\"}, \"y\": {\"type\": \"quantitative\", \"field\": \"bill_depth_mm\"}}, \"$schema\": \"https://vega.github.io/schema/vega-lite/v4.8.1.json\", \"datasets\": {\"data-e00b5f4cde0836f6b158e38dbae65c94\": [{\"flipper_length_mm\": 181, \"body_mass_g\": 3750, \"bill_length_mm\": 39.1, \"bill_depth_mm\": 18.7}, {\"flipper_length_mm\": 186, \"body_mass_g\": 3800, \"bill_length_mm\": 39.5, \"bill_depth_mm\": 17.4}, {\"flipper_length_mm\": 195, \"body_mass_g\": 3250, \"bill_length_mm\": 40.3, \"bill_depth_mm\": 18.0}, {\"flipper_length_mm\": 193, \"body_mass_g\": 3450, \"bill_length_mm\": 36.7, \"bill_depth_mm\": 19.3}, {\"flipper_length_mm\": 190, \"body_mass_g\": 3650, \"bill_length_mm\": 39.3, \"bill_depth_mm\": 20.6}, {\"flipper_length_mm\": 181, \"body_mass_g\": 3625, \"bill_length_mm\": 38.9, \"bill_depth_mm\": 17.8}, {\"flipper_length_mm\": 195, \"body_mass_g\": 4675, \"bill_length_mm\": 39.2, \"bill_depth_mm\": 19.6}, {\"flipper_length_mm\": 182, \"body_mass_g\": 3200, \"bill_length_mm\": 41.1, \"bill_depth_mm\": 17.6}, {\"flipper_length_mm\": 191, \"body_mass_g\": 3800, \"bill_length_mm\": 38.6, \"bill_depth_mm\": 21.2}, {\"flipper_length_mm\": 198, \"body_mass_g\": 4400, \"bill_length_mm\": 34.6, \"bill_depth_mm\": 21.1}, {\"flipper_length_mm\": 185, \"body_mass_g\": 3700, \"bill_length_mm\": 36.6, \"bill_depth_mm\": 17.8}, {\"flipper_length_mm\": 195, \"body_mass_g\": 3450, \"bill_length_mm\": 38.7, \"bill_depth_mm\": 19.0}, {\"flipper_length_mm\": 197, \"body_mass_g\": 4500, \"bill_length_mm\": 42.5, \"bill_depth_mm\": 20.7}, {\"flipper_length_mm\": 184, \"body_mass_g\": 3325, \"bill_length_mm\": 34.4, \"bill_depth_mm\": 18.4}, {\"flipper_length_mm\": 194, \"body_mass_g\": 4200, \"bill_length_mm\": 46.0, \"bill_depth_mm\": 21.5}, {\"flipper_length_mm\": 174, \"body_mass_g\": 3400, \"bill_length_mm\": 37.8, \"bill_depth_mm\": 18.3}, {\"flipper_length_mm\": 180, \"body_mass_g\": 3600, \"bill_length_mm\": 37.7, \"bill_depth_mm\": 18.7}, {\"flipper_length_mm\": 189, \"body_mass_g\": 3800, \"bill_length_mm\": 35.9, \"bill_depth_mm\": 19.2}, {\"flipper_length_mm\": 185, \"body_mass_g\": 3950, \"bill_length_mm\": 38.2, \"bill_depth_mm\": 18.1}, {\"flipper_length_mm\": 180, \"body_mass_g\": 3800, \"bill_length_mm\": 38.8, \"bill_depth_mm\": 17.2}, {\"flipper_length_mm\": 187, \"body_mass_g\": 3800, \"bill_length_mm\": 35.3, \"bill_depth_mm\": 18.9}, {\"flipper_length_mm\": 183, \"body_mass_g\": 3550, \"bill_length_mm\": 40.6, \"bill_depth_mm\": 18.6}, {\"flipper_length_mm\": 187, \"body_mass_g\": 3200, \"bill_length_mm\": 40.5, \"bill_depth_mm\": 17.9}, {\"flipper_length_mm\": 172, \"body_mass_g\": 3150, \"bill_length_mm\": 37.9, \"bill_depth_mm\": 18.6}, {\"flipper_length_mm\": 180, \"body_mass_g\": 3950, \"bill_length_mm\": 40.5, \"bill_depth_mm\": 18.9}, {\"flipper_length_mm\": 178, \"body_mass_g\": 3250, \"bill_length_mm\": 39.5, \"bill_depth_mm\": 16.7}, {\"flipper_length_mm\": 178, \"body_mass_g\": 3900, \"bill_length_mm\": 37.2, \"bill_depth_mm\": 18.1}, {\"flipper_length_mm\": 188, \"body_mass_g\": 3300, \"bill_length_mm\": 39.5, \"bill_depth_mm\": 17.8}, {\"flipper_length_mm\": 184, \"body_mass_g\": 3900, \"bill_length_mm\": 40.9, \"bill_depth_mm\": 18.9}, {\"flipper_length_mm\": 195, \"body_mass_g\": 3325, \"bill_length_mm\": 36.4, \"bill_depth_mm\": 17.0}, {\"flipper_length_mm\": 196, \"body_mass_g\": 4150, \"bill_length_mm\": 39.2, \"bill_depth_mm\": 21.1}, {\"flipper_length_mm\": 190, \"body_mass_g\": 3950, \"bill_length_mm\": 38.8, \"bill_depth_mm\": 20.0}, {\"flipper_length_mm\": 180, \"body_mass_g\": 3550, \"bill_length_mm\": 42.2, \"bill_depth_mm\": 18.5}, {\"flipper_length_mm\": 181, \"body_mass_g\": 3300, \"bill_length_mm\": 37.6, \"bill_depth_mm\": 19.3}, {\"flipper_length_mm\": 184, \"body_mass_g\": 4650, \"bill_length_mm\": 39.8, \"bill_depth_mm\": 19.1}, {\"flipper_length_mm\": 182, \"body_mass_g\": 3150, \"bill_length_mm\": 36.5, \"bill_depth_mm\": 18.0}, {\"flipper_length_mm\": 195, \"body_mass_g\": 3900, \"bill_length_mm\": 40.8, \"bill_depth_mm\": 18.4}, {\"flipper_length_mm\": 186, \"body_mass_g\": 3100, \"bill_length_mm\": 36.0, \"bill_depth_mm\": 18.5}, {\"flipper_length_mm\": 196, \"body_mass_g\": 4400, \"bill_length_mm\": 44.1, \"bill_depth_mm\": 19.7}, {\"flipper_length_mm\": 185, \"body_mass_g\": 3000, \"bill_length_mm\": 37.0, \"bill_depth_mm\": 16.9}, {\"flipper_length_mm\": 190, \"body_mass_g\": 4600, \"bill_length_mm\": 39.6, \"bill_depth_mm\": 18.8}, {\"flipper_length_mm\": 182, \"body_mass_g\": 3425, \"bill_length_mm\": 41.1, \"bill_depth_mm\": 19.0}, {\"flipper_length_mm\": 190, \"body_mass_g\": 3450, \"bill_length_mm\": 36.0, \"bill_depth_mm\": 17.9}, {\"flipper_length_mm\": 191, \"body_mass_g\": 4150, \"bill_length_mm\": 42.3, \"bill_depth_mm\": 21.2}, {\"flipper_length_mm\": 186, \"body_mass_g\": 3500, \"bill_length_mm\": 39.6, \"bill_depth_mm\": 17.7}, {\"flipper_length_mm\": 188, \"body_mass_g\": 4300, \"bill_length_mm\": 40.1, \"bill_depth_mm\": 18.9}, {\"flipper_length_mm\": 190, \"body_mass_g\": 3450, \"bill_length_mm\": 35.0, \"bill_depth_mm\": 17.9}, {\"flipper_length_mm\": 200, \"body_mass_g\": 4050, \"bill_length_mm\": 42.0, \"bill_depth_mm\": 19.5}, {\"flipper_length_mm\": 187, \"body_mass_g\": 2900, \"bill_length_mm\": 34.5, \"bill_depth_mm\": 18.1}, {\"flipper_length_mm\": 191, \"body_mass_g\": 3700, \"bill_length_mm\": 41.4, \"bill_depth_mm\": 18.6}, {\"flipper_length_mm\": 186, \"body_mass_g\": 3550, \"bill_length_mm\": 39.0, \"bill_depth_mm\": 17.5}, {\"flipper_length_mm\": 193, \"body_mass_g\": 3800, \"bill_length_mm\": 40.6, \"bill_depth_mm\": 18.8}, {\"flipper_length_mm\": 181, \"body_mass_g\": 2850, \"bill_length_mm\": 36.5, \"bill_depth_mm\": 16.6}, {\"flipper_length_mm\": 194, \"body_mass_g\": 3750, \"bill_length_mm\": 37.6, \"bill_depth_mm\": 19.1}, {\"flipper_length_mm\": 185, \"body_mass_g\": 3150, \"bill_length_mm\": 35.7, \"bill_depth_mm\": 16.9}, {\"flipper_length_mm\": 195, \"body_mass_g\": 4400, \"bill_length_mm\": 41.3, \"bill_depth_mm\": 21.1}, {\"flipper_length_mm\": 185, \"body_mass_g\": 3600, \"bill_length_mm\": 37.6, \"bill_depth_mm\": 17.0}, {\"flipper_length_mm\": 192, \"body_mass_g\": 4050, \"bill_length_mm\": 41.1, \"bill_depth_mm\": 18.2}, {\"flipper_length_mm\": 184, \"body_mass_g\": 2850, \"bill_length_mm\": 36.4, \"bill_depth_mm\": 17.1}, {\"flipper_length_mm\": 192, \"body_mass_g\": 3950, \"bill_length_mm\": 41.6, \"bill_depth_mm\": 18.0}, {\"flipper_length_mm\": 195, \"body_mass_g\": 3350, \"bill_length_mm\": 35.5, \"bill_depth_mm\": 16.2}, {\"flipper_length_mm\": 188, \"body_mass_g\": 4100, \"bill_length_mm\": 41.1, \"bill_depth_mm\": 19.1}, {\"flipper_length_mm\": 190, \"body_mass_g\": 3050, \"bill_length_mm\": 35.9, \"bill_depth_mm\": 16.6}, {\"flipper_length_mm\": 198, \"body_mass_g\": 4450, \"bill_length_mm\": 41.8, \"bill_depth_mm\": 19.4}, {\"flipper_length_mm\": 190, \"body_mass_g\": 3600, \"bill_length_mm\": 33.5, \"bill_depth_mm\": 19.0}, {\"flipper_length_mm\": 190, \"body_mass_g\": 3900, \"bill_length_mm\": 39.7, \"bill_depth_mm\": 18.4}, {\"flipper_length_mm\": 196, \"body_mass_g\": 3550, \"bill_length_mm\": 39.6, \"bill_depth_mm\": 17.2}, {\"flipper_length_mm\": 197, \"body_mass_g\": 4150, \"bill_length_mm\": 45.8, \"bill_depth_mm\": 18.9}, {\"flipper_length_mm\": 190, \"body_mass_g\": 3700, \"bill_length_mm\": 35.5, \"bill_depth_mm\": 17.5}, {\"flipper_length_mm\": 195, \"body_mass_g\": 4250, \"bill_length_mm\": 42.8, \"bill_depth_mm\": 18.5}, {\"flipper_length_mm\": 191, \"body_mass_g\": 3700, \"bill_length_mm\": 40.9, \"bill_depth_mm\": 16.8}, {\"flipper_length_mm\": 184, \"body_mass_g\": 3900, \"bill_length_mm\": 37.2, \"bill_depth_mm\": 19.4}, {\"flipper_length_mm\": 187, \"body_mass_g\": 3550, \"bill_length_mm\": 36.2, \"bill_depth_mm\": 16.1}, {\"flipper_length_mm\": 195, \"body_mass_g\": 4000, \"bill_length_mm\": 42.1, \"bill_depth_mm\": 19.1}, {\"flipper_length_mm\": 189, \"body_mass_g\": 3200, \"bill_length_mm\": 34.6, \"bill_depth_mm\": 17.2}, {\"flipper_length_mm\": 196, \"body_mass_g\": 4700, \"bill_length_mm\": 42.9, \"bill_depth_mm\": 17.6}, {\"flipper_length_mm\": 187, \"body_mass_g\": 3800, \"bill_length_mm\": 36.7, \"bill_depth_mm\": 18.8}, {\"flipper_length_mm\": 193, \"body_mass_g\": 4200, \"bill_length_mm\": 35.1, \"bill_depth_mm\": 19.4}, {\"flipper_length_mm\": 191, \"body_mass_g\": 3350, \"bill_length_mm\": 37.3, \"bill_depth_mm\": 17.8}, {\"flipper_length_mm\": 194, \"body_mass_g\": 3550, \"bill_length_mm\": 41.3, \"bill_depth_mm\": 20.3}, {\"flipper_length_mm\": 190, \"body_mass_g\": 3800, \"bill_length_mm\": 36.3, \"bill_depth_mm\": 19.5}, {\"flipper_length_mm\": 189, \"body_mass_g\": 3500, \"bill_length_mm\": 36.9, \"bill_depth_mm\": 18.6}, {\"flipper_length_mm\": 189, \"body_mass_g\": 3950, \"bill_length_mm\": 38.3, \"bill_depth_mm\": 19.2}, {\"flipper_length_mm\": 190, \"body_mass_g\": 3600, \"bill_length_mm\": 38.9, \"bill_depth_mm\": 18.8}, {\"flipper_length_mm\": 202, \"body_mass_g\": 3550, \"bill_length_mm\": 35.7, \"bill_depth_mm\": 18.0}, {\"flipper_length_mm\": 205, \"body_mass_g\": 4300, \"bill_length_mm\": 41.1, \"bill_depth_mm\": 18.1}, {\"flipper_length_mm\": 185, \"body_mass_g\": 3400, \"bill_length_mm\": 34.0, \"bill_depth_mm\": 17.1}, {\"flipper_length_mm\": 186, \"body_mass_g\": 4450, \"bill_length_mm\": 39.6, \"bill_depth_mm\": 18.1}, {\"flipper_length_mm\": 187, \"body_mass_g\": 3300, \"bill_length_mm\": 36.2, \"bill_depth_mm\": 17.3}, {\"flipper_length_mm\": 208, \"body_mass_g\": 4300, \"bill_length_mm\": 40.8, \"bill_depth_mm\": 18.9}, {\"flipper_length_mm\": 190, \"body_mass_g\": 3700, \"bill_length_mm\": 38.1, \"bill_depth_mm\": 18.6}, {\"flipper_length_mm\": 196, \"body_mass_g\": 4350, \"bill_length_mm\": 40.3, \"bill_depth_mm\": 18.5}, {\"flipper_length_mm\": 178, \"body_mass_g\": 2900, \"bill_length_mm\": 33.1, \"bill_depth_mm\": 16.1}, {\"flipper_length_mm\": 192, \"body_mass_g\": 4100, \"bill_length_mm\": 43.2, \"bill_depth_mm\": 18.5}, {\"flipper_length_mm\": 192, \"body_mass_g\": 3725, \"bill_length_mm\": 35.0, \"bill_depth_mm\": 17.9}, {\"flipper_length_mm\": 203, \"body_mass_g\": 4725, \"bill_length_mm\": 41.0, \"bill_depth_mm\": 20.0}, {\"flipper_length_mm\": 183, \"body_mass_g\": 3075, \"bill_length_mm\": 37.7, \"bill_depth_mm\": 16.0}, {\"flipper_length_mm\": 190, \"body_mass_g\": 4250, \"bill_length_mm\": 37.8, \"bill_depth_mm\": 20.0}, {\"flipper_length_mm\": 193, \"body_mass_g\": 2925, \"bill_length_mm\": 37.9, \"bill_depth_mm\": 18.6}, {\"flipper_length_mm\": 184, \"body_mass_g\": 3550, \"bill_length_mm\": 39.7, \"bill_depth_mm\": 18.9}, {\"flipper_length_mm\": 199, \"body_mass_g\": 3750, \"bill_length_mm\": 38.6, \"bill_depth_mm\": 17.2}, {\"flipper_length_mm\": 190, \"body_mass_g\": 3900, \"bill_length_mm\": 38.2, \"bill_depth_mm\": 20.0}, {\"flipper_length_mm\": 181, \"body_mass_g\": 3175, \"bill_length_mm\": 38.1, \"bill_depth_mm\": 17.0}, {\"flipper_length_mm\": 197, \"body_mass_g\": 4775, \"bill_length_mm\": 43.2, \"bill_depth_mm\": 19.0}, {\"flipper_length_mm\": 198, \"body_mass_g\": 3825, \"bill_length_mm\": 38.1, \"bill_depth_mm\": 16.5}, {\"flipper_length_mm\": 191, \"body_mass_g\": 4600, \"bill_length_mm\": 45.6, \"bill_depth_mm\": 20.3}, {\"flipper_length_mm\": 193, \"body_mass_g\": 3200, \"bill_length_mm\": 39.7, \"bill_depth_mm\": 17.7}, {\"flipper_length_mm\": 197, \"body_mass_g\": 4275, \"bill_length_mm\": 42.2, \"bill_depth_mm\": 19.5}, {\"flipper_length_mm\": 191, \"body_mass_g\": 3900, \"bill_length_mm\": 39.6, \"bill_depth_mm\": 20.7}, {\"flipper_length_mm\": 196, \"body_mass_g\": 4075, \"bill_length_mm\": 42.7, \"bill_depth_mm\": 18.3}, {\"flipper_length_mm\": 188, \"body_mass_g\": 2900, \"bill_length_mm\": 38.6, \"bill_depth_mm\": 17.0}, {\"flipper_length_mm\": 199, \"body_mass_g\": 3775, \"bill_length_mm\": 37.3, \"bill_depth_mm\": 20.5}, {\"flipper_length_mm\": 189, \"body_mass_g\": 3350, \"bill_length_mm\": 35.7, \"bill_depth_mm\": 17.0}, {\"flipper_length_mm\": 189, \"body_mass_g\": 3325, \"bill_length_mm\": 41.1, \"bill_depth_mm\": 18.6}, {\"flipper_length_mm\": 187, \"body_mass_g\": 3150, \"bill_length_mm\": 36.2, \"bill_depth_mm\": 17.2}, {\"flipper_length_mm\": 198, \"body_mass_g\": 3500, \"bill_length_mm\": 37.7, \"bill_depth_mm\": 19.8}, {\"flipper_length_mm\": 176, \"body_mass_g\": 3450, \"bill_length_mm\": 40.2, \"bill_depth_mm\": 17.0}, {\"flipper_length_mm\": 202, \"body_mass_g\": 3875, \"bill_length_mm\": 41.4, \"bill_depth_mm\": 18.5}, {\"flipper_length_mm\": 186, \"body_mass_g\": 3050, \"bill_length_mm\": 35.2, \"bill_depth_mm\": 15.9}, {\"flipper_length_mm\": 199, \"body_mass_g\": 4000, \"bill_length_mm\": 40.6, \"bill_depth_mm\": 19.0}, {\"flipper_length_mm\": 191, \"body_mass_g\": 3275, \"bill_length_mm\": 38.8, \"bill_depth_mm\": 17.6}, {\"flipper_length_mm\": 195, \"body_mass_g\": 4300, \"bill_length_mm\": 41.5, \"bill_depth_mm\": 18.3}, {\"flipper_length_mm\": 191, \"body_mass_g\": 3050, \"bill_length_mm\": 39.0, \"bill_depth_mm\": 17.1}, {\"flipper_length_mm\": 210, \"body_mass_g\": 4000, \"bill_length_mm\": 44.1, \"bill_depth_mm\": 18.0}, {\"flipper_length_mm\": 190, \"body_mass_g\": 3325, \"bill_length_mm\": 38.5, \"bill_depth_mm\": 17.9}, {\"flipper_length_mm\": 197, \"body_mass_g\": 3500, \"bill_length_mm\": 43.1, \"bill_depth_mm\": 19.2}, {\"flipper_length_mm\": 193, \"body_mass_g\": 3500, \"bill_length_mm\": 36.8, \"bill_depth_mm\": 18.5}, {\"flipper_length_mm\": 199, \"body_mass_g\": 4475, \"bill_length_mm\": 37.5, \"bill_depth_mm\": 18.5}, {\"flipper_length_mm\": 187, \"body_mass_g\": 3425, \"bill_length_mm\": 38.1, \"bill_depth_mm\": 17.6}, {\"flipper_length_mm\": 190, \"body_mass_g\": 3900, \"bill_length_mm\": 41.1, \"bill_depth_mm\": 17.5}, {\"flipper_length_mm\": 191, \"body_mass_g\": 3175, \"bill_length_mm\": 35.6, \"bill_depth_mm\": 17.5}, {\"flipper_length_mm\": 200, \"body_mass_g\": 3975, \"bill_length_mm\": 40.2, \"bill_depth_mm\": 20.1}, {\"flipper_length_mm\": 185, \"body_mass_g\": 3400, \"bill_length_mm\": 37.0, \"bill_depth_mm\": 16.5}, {\"flipper_length_mm\": 193, \"body_mass_g\": 4250, \"bill_length_mm\": 39.7, \"bill_depth_mm\": 17.9}, {\"flipper_length_mm\": 193, \"body_mass_g\": 3400, \"bill_length_mm\": 40.2, \"bill_depth_mm\": 17.1}, {\"flipper_length_mm\": 187, \"body_mass_g\": 3475, \"bill_length_mm\": 40.6, \"bill_depth_mm\": 17.2}, {\"flipper_length_mm\": 188, \"body_mass_g\": 3050, \"bill_length_mm\": 32.1, \"bill_depth_mm\": 15.5}, {\"flipper_length_mm\": 190, \"body_mass_g\": 3725, \"bill_length_mm\": 40.7, \"bill_depth_mm\": 17.0}, {\"flipper_length_mm\": 192, \"body_mass_g\": 3000, \"bill_length_mm\": 37.3, \"bill_depth_mm\": 16.8}, {\"flipper_length_mm\": 185, \"body_mass_g\": 3650, \"bill_length_mm\": 39.0, \"bill_depth_mm\": 18.7}, {\"flipper_length_mm\": 190, \"body_mass_g\": 4250, \"bill_length_mm\": 39.2, \"bill_depth_mm\": 18.6}, {\"flipper_length_mm\": 184, \"body_mass_g\": 3475, \"bill_length_mm\": 36.6, \"bill_depth_mm\": 18.4}, {\"flipper_length_mm\": 195, \"body_mass_g\": 3450, \"bill_length_mm\": 36.0, \"bill_depth_mm\": 17.8}, {\"flipper_length_mm\": 193, \"body_mass_g\": 3750, \"bill_length_mm\": 37.8, \"bill_depth_mm\": 18.1}, {\"flipper_length_mm\": 187, \"body_mass_g\": 3700, \"bill_length_mm\": 36.0, \"bill_depth_mm\": 17.1}, {\"flipper_length_mm\": 201, \"body_mass_g\": 4000, \"bill_length_mm\": 41.5, \"bill_depth_mm\": 18.5}, {\"flipper_length_mm\": 211, \"body_mass_g\": 4500, \"bill_length_mm\": 46.1, \"bill_depth_mm\": 13.2}, {\"flipper_length_mm\": 230, \"body_mass_g\": 5700, \"bill_length_mm\": 50.0, \"bill_depth_mm\": 16.3}, {\"flipper_length_mm\": 210, \"body_mass_g\": 4450, \"bill_length_mm\": 48.7, \"bill_depth_mm\": 14.1}, {\"flipper_length_mm\": 218, \"body_mass_g\": 5700, \"bill_length_mm\": 50.0, \"bill_depth_mm\": 15.2}, {\"flipper_length_mm\": 215, \"body_mass_g\": 5400, \"bill_length_mm\": 47.6, \"bill_depth_mm\": 14.5}, {\"flipper_length_mm\": 210, \"body_mass_g\": 4550, \"bill_length_mm\": 46.5, \"bill_depth_mm\": 13.5}, {\"flipper_length_mm\": 211, \"body_mass_g\": 4800, \"bill_length_mm\": 45.4, \"bill_depth_mm\": 14.6}, {\"flipper_length_mm\": 219, \"body_mass_g\": 5200, \"bill_length_mm\": 46.7, \"bill_depth_mm\": 15.3}, {\"flipper_length_mm\": 209, \"body_mass_g\": 4400, \"bill_length_mm\": 43.3, \"bill_depth_mm\": 13.4}, {\"flipper_length_mm\": 215, \"body_mass_g\": 5150, \"bill_length_mm\": 46.8, \"bill_depth_mm\": 15.4}, {\"flipper_length_mm\": 214, \"body_mass_g\": 4650, \"bill_length_mm\": 40.9, \"bill_depth_mm\": 13.7}, {\"flipper_length_mm\": 216, \"body_mass_g\": 5550, \"bill_length_mm\": 49.0, \"bill_depth_mm\": 16.1}, {\"flipper_length_mm\": 214, \"body_mass_g\": 4650, \"bill_length_mm\": 45.5, \"bill_depth_mm\": 13.7}, {\"flipper_length_mm\": 213, \"body_mass_g\": 5850, \"bill_length_mm\": 48.4, \"bill_depth_mm\": 14.6}, {\"flipper_length_mm\": 210, \"body_mass_g\": 4200, \"bill_length_mm\": 45.8, \"bill_depth_mm\": 14.6}, {\"flipper_length_mm\": 217, \"body_mass_g\": 5850, \"bill_length_mm\": 49.3, \"bill_depth_mm\": 15.7}, {\"flipper_length_mm\": 210, \"body_mass_g\": 4150, \"bill_length_mm\": 42.0, \"bill_depth_mm\": 13.5}, {\"flipper_length_mm\": 221, \"body_mass_g\": 6300, \"bill_length_mm\": 49.2, \"bill_depth_mm\": 15.2}, {\"flipper_length_mm\": 209, \"body_mass_g\": 4800, \"bill_length_mm\": 46.2, \"bill_depth_mm\": 14.5}, {\"flipper_length_mm\": 222, \"body_mass_g\": 5350, \"bill_length_mm\": 48.7, \"bill_depth_mm\": 15.1}, {\"flipper_length_mm\": 218, \"body_mass_g\": 5700, \"bill_length_mm\": 50.2, \"bill_depth_mm\": 14.3}, {\"flipper_length_mm\": 215, \"body_mass_g\": 5000, \"bill_length_mm\": 45.1, \"bill_depth_mm\": 14.5}, {\"flipper_length_mm\": 213, \"body_mass_g\": 4400, \"bill_length_mm\": 46.5, \"bill_depth_mm\": 14.5}, {\"flipper_length_mm\": 215, \"body_mass_g\": 5050, \"bill_length_mm\": 46.3, \"bill_depth_mm\": 15.8}, {\"flipper_length_mm\": 215, \"body_mass_g\": 5000, \"bill_length_mm\": 42.9, \"bill_depth_mm\": 13.1}, {\"flipper_length_mm\": 215, \"body_mass_g\": 5100, \"bill_length_mm\": 46.1, \"bill_depth_mm\": 15.1}, {\"flipper_length_mm\": 215, \"body_mass_g\": 5650, \"bill_length_mm\": 47.8, \"bill_depth_mm\": 15.0}, {\"flipper_length_mm\": 210, \"body_mass_g\": 4600, \"bill_length_mm\": 48.2, \"bill_depth_mm\": 14.3}, {\"flipper_length_mm\": 220, \"body_mass_g\": 5550, \"bill_length_mm\": 50.0, \"bill_depth_mm\": 15.3}, {\"flipper_length_mm\": 222, \"body_mass_g\": 5250, \"bill_length_mm\": 47.3, \"bill_depth_mm\": 15.3}, {\"flipper_length_mm\": 209, \"body_mass_g\": 4700, \"bill_length_mm\": 42.8, \"bill_depth_mm\": 14.2}, {\"flipper_length_mm\": 207, \"body_mass_g\": 5050, \"bill_length_mm\": 45.1, \"bill_depth_mm\": 14.5}, {\"flipper_length_mm\": 230, \"body_mass_g\": 6050, \"bill_length_mm\": 59.6, \"bill_depth_mm\": 17.0}, {\"flipper_length_mm\": 220, \"body_mass_g\": 5150, \"bill_length_mm\": 49.1, \"bill_depth_mm\": 14.8}, {\"flipper_length_mm\": 220, \"body_mass_g\": 5400, \"bill_length_mm\": 48.4, \"bill_depth_mm\": 16.3}, {\"flipper_length_mm\": 213, \"body_mass_g\": 4950, \"bill_length_mm\": 42.6, \"bill_depth_mm\": 13.7}, {\"flipper_length_mm\": 219, \"body_mass_g\": 5250, \"bill_length_mm\": 44.4, \"bill_depth_mm\": 17.3}, {\"flipper_length_mm\": 208, \"body_mass_g\": 4350, \"bill_length_mm\": 44.0, \"bill_depth_mm\": 13.6}, {\"flipper_length_mm\": 208, \"body_mass_g\": 5350, \"bill_length_mm\": 48.7, \"bill_depth_mm\": 15.7}, {\"flipper_length_mm\": 208, \"body_mass_g\": 3950, \"bill_length_mm\": 42.7, \"bill_depth_mm\": 13.7}, {\"flipper_length_mm\": 225, \"body_mass_g\": 5700, \"bill_length_mm\": 49.6, \"bill_depth_mm\": 16.0}, {\"flipper_length_mm\": 210, \"body_mass_g\": 4300, \"bill_length_mm\": 45.3, \"bill_depth_mm\": 13.7}, {\"flipper_length_mm\": 216, \"body_mass_g\": 4750, \"bill_length_mm\": 49.6, \"bill_depth_mm\": 15.0}, {\"flipper_length_mm\": 222, \"body_mass_g\": 5550, \"bill_length_mm\": 50.5, \"bill_depth_mm\": 15.9}, {\"flipper_length_mm\": 217, \"body_mass_g\": 4900, \"bill_length_mm\": 43.6, \"bill_depth_mm\": 13.9}, {\"flipper_length_mm\": 210, \"body_mass_g\": 4200, \"bill_length_mm\": 45.5, \"bill_depth_mm\": 13.9}, {\"flipper_length_mm\": 225, \"body_mass_g\": 5400, \"bill_length_mm\": 50.5, \"bill_depth_mm\": 15.9}, {\"flipper_length_mm\": 213, \"body_mass_g\": 5100, \"bill_length_mm\": 44.9, \"bill_depth_mm\": 13.3}, {\"flipper_length_mm\": 215, \"body_mass_g\": 5300, \"bill_length_mm\": 45.2, \"bill_depth_mm\": 15.8}, {\"flipper_length_mm\": 210, \"body_mass_g\": 4850, \"bill_length_mm\": 46.6, \"bill_depth_mm\": 14.2}, {\"flipper_length_mm\": 220, \"body_mass_g\": 5300, \"bill_length_mm\": 48.5, \"bill_depth_mm\": 14.1}, {\"flipper_length_mm\": 210, \"body_mass_g\": 4400, \"bill_length_mm\": 45.1, \"bill_depth_mm\": 14.4}, {\"flipper_length_mm\": 225, \"body_mass_g\": 5000, \"bill_length_mm\": 50.1, \"bill_depth_mm\": 15.0}, {\"flipper_length_mm\": 217, \"body_mass_g\": 4900, \"bill_length_mm\": 46.5, \"bill_depth_mm\": 14.4}, {\"flipper_length_mm\": 220, \"body_mass_g\": 5050, \"bill_length_mm\": 45.0, \"bill_depth_mm\": 15.4}, {\"flipper_length_mm\": 208, \"body_mass_g\": 4300, \"bill_length_mm\": 43.8, \"bill_depth_mm\": 13.9}, {\"flipper_length_mm\": 220, \"body_mass_g\": 5000, \"bill_length_mm\": 45.5, \"bill_depth_mm\": 15.0}, {\"flipper_length_mm\": 208, \"body_mass_g\": 4450, \"bill_length_mm\": 43.2, \"bill_depth_mm\": 14.5}, {\"flipper_length_mm\": 224, \"body_mass_g\": 5550, \"bill_length_mm\": 50.4, \"bill_depth_mm\": 15.3}, {\"flipper_length_mm\": 208, \"body_mass_g\": 4200, \"bill_length_mm\": 45.3, \"bill_depth_mm\": 13.8}, {\"flipper_length_mm\": 221, \"body_mass_g\": 5300, \"bill_length_mm\": 46.2, \"bill_depth_mm\": 14.9}, {\"flipper_length_mm\": 214, \"body_mass_g\": 4400, \"bill_length_mm\": 45.7, \"bill_depth_mm\": 13.9}, {\"flipper_length_mm\": 231, \"body_mass_g\": 5650, \"bill_length_mm\": 54.3, \"bill_depth_mm\": 15.7}, {\"flipper_length_mm\": 219, \"body_mass_g\": 4700, \"bill_length_mm\": 45.8, \"bill_depth_mm\": 14.2}, {\"flipper_length_mm\": 230, \"body_mass_g\": 5700, \"bill_length_mm\": 49.8, \"bill_depth_mm\": 16.8}, {\"flipper_length_mm\": 229, \"body_mass_g\": 5800, \"bill_length_mm\": 49.5, \"bill_depth_mm\": 16.2}, {\"flipper_length_mm\": 220, \"body_mass_g\": 4700, \"bill_length_mm\": 43.5, \"bill_depth_mm\": 14.2}, {\"flipper_length_mm\": 223, \"body_mass_g\": 5550, \"bill_length_mm\": 50.7, \"bill_depth_mm\": 15.0}, {\"flipper_length_mm\": 216, \"body_mass_g\": 4750, \"bill_length_mm\": 47.7, \"bill_depth_mm\": 15.0}, {\"flipper_length_mm\": 221, \"body_mass_g\": 5000, \"bill_length_mm\": 46.4, \"bill_depth_mm\": 15.6}, {\"flipper_length_mm\": 221, \"body_mass_g\": 5100, \"bill_length_mm\": 48.2, \"bill_depth_mm\": 15.6}, {\"flipper_length_mm\": 217, \"body_mass_g\": 5200, \"bill_length_mm\": 46.5, \"bill_depth_mm\": 14.8}, {\"flipper_length_mm\": 216, \"body_mass_g\": 4700, \"bill_length_mm\": 46.4, \"bill_depth_mm\": 15.0}, {\"flipper_length_mm\": 230, \"body_mass_g\": 5800, \"bill_length_mm\": 48.6, \"bill_depth_mm\": 16.0}, {\"flipper_length_mm\": 209, \"body_mass_g\": 4600, \"bill_length_mm\": 47.5, \"bill_depth_mm\": 14.2}, {\"flipper_length_mm\": 220, \"body_mass_g\": 6000, \"bill_length_mm\": 51.1, \"bill_depth_mm\": 16.3}, {\"flipper_length_mm\": 215, \"body_mass_g\": 4750, \"bill_length_mm\": 45.2, \"bill_depth_mm\": 13.8}, {\"flipper_length_mm\": 223, \"body_mass_g\": 5950, \"bill_length_mm\": 45.2, \"bill_depth_mm\": 16.4}, {\"flipper_length_mm\": 212, \"body_mass_g\": 4625, \"bill_length_mm\": 49.1, \"bill_depth_mm\": 14.5}, {\"flipper_length_mm\": 221, \"body_mass_g\": 5450, \"bill_length_mm\": 52.5, \"bill_depth_mm\": 15.6}, {\"flipper_length_mm\": 212, \"body_mass_g\": 4725, \"bill_length_mm\": 47.4, \"bill_depth_mm\": 14.6}, {\"flipper_length_mm\": 224, \"body_mass_g\": 5350, \"bill_length_mm\": 50.0, \"bill_depth_mm\": 15.9}, {\"flipper_length_mm\": 212, \"body_mass_g\": 4750, \"bill_length_mm\": 44.9, \"bill_depth_mm\": 13.8}, {\"flipper_length_mm\": 228, \"body_mass_g\": 5600, \"bill_length_mm\": 50.8, \"bill_depth_mm\": 17.3}, {\"flipper_length_mm\": 218, \"body_mass_g\": 4600, \"bill_length_mm\": 43.4, \"bill_depth_mm\": 14.4}, {\"flipper_length_mm\": 218, \"body_mass_g\": 5300, \"bill_length_mm\": 51.3, \"bill_depth_mm\": 14.2}, {\"flipper_length_mm\": 212, \"body_mass_g\": 4875, \"bill_length_mm\": 47.5, \"bill_depth_mm\": 14.0}, {\"flipper_length_mm\": 230, \"body_mass_g\": 5550, \"bill_length_mm\": 52.1, \"bill_depth_mm\": 17.0}, {\"flipper_length_mm\": 218, \"body_mass_g\": 4950, \"bill_length_mm\": 47.5, \"bill_depth_mm\": 15.0}, {\"flipper_length_mm\": 228, \"body_mass_g\": 5400, \"bill_length_mm\": 52.2, \"bill_depth_mm\": 17.1}, {\"flipper_length_mm\": 212, \"body_mass_g\": 4750, \"bill_length_mm\": 45.5, \"bill_depth_mm\": 14.5}, {\"flipper_length_mm\": 224, \"body_mass_g\": 5650, \"bill_length_mm\": 49.5, \"bill_depth_mm\": 16.1}, {\"flipper_length_mm\": 214, \"body_mass_g\": 4850, \"bill_length_mm\": 44.5, \"bill_depth_mm\": 14.7}, {\"flipper_length_mm\": 226, \"body_mass_g\": 5200, \"bill_length_mm\": 50.8, \"bill_depth_mm\": 15.7}, {\"flipper_length_mm\": 216, \"body_mass_g\": 4925, \"bill_length_mm\": 49.4, \"bill_depth_mm\": 15.8}, {\"flipper_length_mm\": 222, \"body_mass_g\": 4875, \"bill_length_mm\": 46.9, \"bill_depth_mm\": 14.6}, {\"flipper_length_mm\": 203, \"body_mass_g\": 4625, \"bill_length_mm\": 48.4, \"bill_depth_mm\": 14.4}, {\"flipper_length_mm\": 225, \"body_mass_g\": 5250, \"bill_length_mm\": 51.1, \"bill_depth_mm\": 16.5}, {\"flipper_length_mm\": 219, \"body_mass_g\": 4850, \"bill_length_mm\": 48.5, \"bill_depth_mm\": 15.0}, {\"flipper_length_mm\": 228, \"body_mass_g\": 5600, \"bill_length_mm\": 55.9, \"bill_depth_mm\": 17.0}, {\"flipper_length_mm\": 215, \"body_mass_g\": 4975, \"bill_length_mm\": 47.2, \"bill_depth_mm\": 15.5}, {\"flipper_length_mm\": 228, \"body_mass_g\": 5500, \"bill_length_mm\": 49.1, \"bill_depth_mm\": 15.0}, {\"flipper_length_mm\": 215, \"body_mass_g\": 5500, \"bill_length_mm\": 46.8, \"bill_depth_mm\": 16.1}, {\"flipper_length_mm\": 210, \"body_mass_g\": 4700, \"bill_length_mm\": 41.7, \"bill_depth_mm\": 14.7}, {\"flipper_length_mm\": 219, \"body_mass_g\": 5500, \"bill_length_mm\": 53.4, \"bill_depth_mm\": 15.8}, {\"flipper_length_mm\": 208, \"body_mass_g\": 4575, \"bill_length_mm\": 43.3, \"bill_depth_mm\": 14.0}, {\"flipper_length_mm\": 209, \"body_mass_g\": 5500, \"bill_length_mm\": 48.1, \"bill_depth_mm\": 15.1}, {\"flipper_length_mm\": 216, \"body_mass_g\": 5000, \"bill_length_mm\": 50.5, \"bill_depth_mm\": 15.2}, {\"flipper_length_mm\": 229, \"body_mass_g\": 5950, \"bill_length_mm\": 49.8, \"bill_depth_mm\": 15.9}, {\"flipper_length_mm\": 213, \"body_mass_g\": 4650, \"bill_length_mm\": 43.5, \"bill_depth_mm\": 15.2}, {\"flipper_length_mm\": 230, \"body_mass_g\": 5500, \"bill_length_mm\": 51.5, \"bill_depth_mm\": 16.3}, {\"flipper_length_mm\": 217, \"body_mass_g\": 4375, \"bill_length_mm\": 46.2, \"bill_depth_mm\": 14.1}, {\"flipper_length_mm\": 230, \"body_mass_g\": 5850, \"bill_length_mm\": 55.1, \"bill_depth_mm\": 16.0}, {\"flipper_length_mm\": 222, \"body_mass_g\": 6000, \"bill_length_mm\": 48.8, \"bill_depth_mm\": 16.2}, {\"flipper_length_mm\": 214, \"body_mass_g\": 4925, \"bill_length_mm\": 47.2, \"bill_depth_mm\": 13.7}, {\"flipper_length_mm\": 215, \"body_mass_g\": 4850, \"bill_length_mm\": 46.8, \"bill_depth_mm\": 14.3}, {\"flipper_length_mm\": 222, \"body_mass_g\": 5750, \"bill_length_mm\": 50.4, \"bill_depth_mm\": 15.7}, {\"flipper_length_mm\": 212, \"body_mass_g\": 5200, \"bill_length_mm\": 45.2, \"bill_depth_mm\": 14.8}, {\"flipper_length_mm\": 213, \"body_mass_g\": 5400, \"bill_length_mm\": 49.9, \"bill_depth_mm\": 16.1}, {\"flipper_length_mm\": 192, \"body_mass_g\": 3500, \"bill_length_mm\": 46.5, \"bill_depth_mm\": 17.9}, {\"flipper_length_mm\": 196, \"body_mass_g\": 3900, \"bill_length_mm\": 50.0, \"bill_depth_mm\": 19.5}, {\"flipper_length_mm\": 193, \"body_mass_g\": 3650, \"bill_length_mm\": 51.3, \"bill_depth_mm\": 19.2}, {\"flipper_length_mm\": 188, \"body_mass_g\": 3525, \"bill_length_mm\": 45.4, \"bill_depth_mm\": 18.7}, {\"flipper_length_mm\": 197, \"body_mass_g\": 3725, \"bill_length_mm\": 52.7, \"bill_depth_mm\": 19.8}, {\"flipper_length_mm\": 198, \"body_mass_g\": 3950, \"bill_length_mm\": 45.2, \"bill_depth_mm\": 17.8}, {\"flipper_length_mm\": 178, \"body_mass_g\": 3250, \"bill_length_mm\": 46.1, \"bill_depth_mm\": 18.2}, {\"flipper_length_mm\": 197, \"body_mass_g\": 3750, \"bill_length_mm\": 51.3, \"bill_depth_mm\": 18.2}, {\"flipper_length_mm\": 195, \"body_mass_g\": 4150, \"bill_length_mm\": 46.0, \"bill_depth_mm\": 18.9}, {\"flipper_length_mm\": 198, \"body_mass_g\": 3700, \"bill_length_mm\": 51.3, \"bill_depth_mm\": 19.9}, {\"flipper_length_mm\": 193, \"body_mass_g\": 3800, \"bill_length_mm\": 46.6, \"bill_depth_mm\": 17.8}, {\"flipper_length_mm\": 194, \"body_mass_g\": 3775, \"bill_length_mm\": 51.7, \"bill_depth_mm\": 20.3}, {\"flipper_length_mm\": 185, \"body_mass_g\": 3700, \"bill_length_mm\": 47.0, \"bill_depth_mm\": 17.3}, {\"flipper_length_mm\": 201, \"body_mass_g\": 4050, \"bill_length_mm\": 52.0, \"bill_depth_mm\": 18.1}, {\"flipper_length_mm\": 190, \"body_mass_g\": 3575, \"bill_length_mm\": 45.9, \"bill_depth_mm\": 17.1}, {\"flipper_length_mm\": 201, \"body_mass_g\": 4050, \"bill_length_mm\": 50.5, \"bill_depth_mm\": 19.6}, {\"flipper_length_mm\": 197, \"body_mass_g\": 3300, \"bill_length_mm\": 50.3, \"bill_depth_mm\": 20.0}, {\"flipper_length_mm\": 181, \"body_mass_g\": 3700, \"bill_length_mm\": 58.0, \"bill_depth_mm\": 17.8}, {\"flipper_length_mm\": 190, \"body_mass_g\": 3450, \"bill_length_mm\": 46.4, \"bill_depth_mm\": 18.6}, {\"flipper_length_mm\": 195, \"body_mass_g\": 4400, \"bill_length_mm\": 49.2, \"bill_depth_mm\": 18.2}, {\"flipper_length_mm\": 181, \"body_mass_g\": 3600, \"bill_length_mm\": 42.4, \"bill_depth_mm\": 17.3}, {\"flipper_length_mm\": 191, \"body_mass_g\": 3400, \"bill_length_mm\": 48.5, \"bill_depth_mm\": 17.5}, {\"flipper_length_mm\": 187, \"body_mass_g\": 2900, \"bill_length_mm\": 43.2, \"bill_depth_mm\": 16.6}, {\"flipper_length_mm\": 193, \"body_mass_g\": 3800, \"bill_length_mm\": 50.6, \"bill_depth_mm\": 19.4}, {\"flipper_length_mm\": 195, \"body_mass_g\": 3300, \"bill_length_mm\": 46.7, \"bill_depth_mm\": 17.9}, {\"flipper_length_mm\": 197, \"body_mass_g\": 4150, \"bill_length_mm\": 52.0, \"bill_depth_mm\": 19.0}, {\"flipper_length_mm\": 200, \"body_mass_g\": 3400, \"bill_length_mm\": 50.5, \"bill_depth_mm\": 18.4}, {\"flipper_length_mm\": 200, \"body_mass_g\": 3800, \"bill_length_mm\": 49.5, \"bill_depth_mm\": 19.0}, {\"flipper_length_mm\": 191, \"body_mass_g\": 3700, \"bill_length_mm\": 46.4, \"bill_depth_mm\": 17.8}, {\"flipper_length_mm\": 205, \"body_mass_g\": 4550, \"bill_length_mm\": 52.8, \"bill_depth_mm\": 20.0}, {\"flipper_length_mm\": 187, \"body_mass_g\": 3200, \"bill_length_mm\": 40.9, \"bill_depth_mm\": 16.6}, {\"flipper_length_mm\": 201, \"body_mass_g\": 4300, \"bill_length_mm\": 54.2, \"bill_depth_mm\": 20.8}, {\"flipper_length_mm\": 187, \"body_mass_g\": 3350, \"bill_length_mm\": 42.5, \"bill_depth_mm\": 16.7}, {\"flipper_length_mm\": 203, \"body_mass_g\": 4100, \"bill_length_mm\": 51.0, \"bill_depth_mm\": 18.8}, {\"flipper_length_mm\": 195, \"body_mass_g\": 3600, \"bill_length_mm\": 49.7, \"bill_depth_mm\": 18.6}, {\"flipper_length_mm\": 199, \"body_mass_g\": 3900, \"bill_length_mm\": 47.5, \"bill_depth_mm\": 16.8}, {\"flipper_length_mm\": 195, \"body_mass_g\": 3850, \"bill_length_mm\": 47.6, \"bill_depth_mm\": 18.3}, {\"flipper_length_mm\": 210, \"body_mass_g\": 4800, \"bill_length_mm\": 52.0, \"bill_depth_mm\": 20.7}, {\"flipper_length_mm\": 192, \"body_mass_g\": 2700, \"bill_length_mm\": 46.9, \"bill_depth_mm\": 16.6}, {\"flipper_length_mm\": 205, \"body_mass_g\": 4500, \"bill_length_mm\": 53.5, \"bill_depth_mm\": 19.9}, {\"flipper_length_mm\": 210, \"body_mass_g\": 3950, \"bill_length_mm\": 49.0, \"bill_depth_mm\": 19.5}, {\"flipper_length_mm\": 187, \"body_mass_g\": 3650, \"bill_length_mm\": 46.2, \"bill_depth_mm\": 17.5}, {\"flipper_length_mm\": 196, \"body_mass_g\": 3550, \"bill_length_mm\": 50.9, \"bill_depth_mm\": 19.1}, {\"flipper_length_mm\": 196, \"body_mass_g\": 3500, \"bill_length_mm\": 45.5, \"bill_depth_mm\": 17.0}, {\"flipper_length_mm\": 196, \"body_mass_g\": 3675, \"bill_length_mm\": 50.9, \"bill_depth_mm\": 17.9}, {\"flipper_length_mm\": 201, \"body_mass_g\": 4450, \"bill_length_mm\": 50.8, \"bill_depth_mm\": 18.5}, {\"flipper_length_mm\": 190, \"body_mass_g\": 3400, \"bill_length_mm\": 50.1, \"bill_depth_mm\": 17.9}, {\"flipper_length_mm\": 212, \"body_mass_g\": 4300, \"bill_length_mm\": 49.0, \"bill_depth_mm\": 19.6}, {\"flipper_length_mm\": 187, \"body_mass_g\": 3250, \"bill_length_mm\": 51.5, \"bill_depth_mm\": 18.7}, {\"flipper_length_mm\": 198, \"body_mass_g\": 3675, \"bill_length_mm\": 49.8, \"bill_depth_mm\": 17.3}, {\"flipper_length_mm\": 199, \"body_mass_g\": 3325, \"bill_length_mm\": 48.1, \"bill_depth_mm\": 16.4}, {\"flipper_length_mm\": 201, \"body_mass_g\": 3950, \"bill_length_mm\": 51.4, \"bill_depth_mm\": 19.0}, {\"flipper_length_mm\": 193, \"body_mass_g\": 3600, \"bill_length_mm\": 45.7, \"bill_depth_mm\": 17.3}, {\"flipper_length_mm\": 203, \"body_mass_g\": 4050, \"bill_length_mm\": 50.7, \"bill_depth_mm\": 19.7}, {\"flipper_length_mm\": 187, \"body_mass_g\": 3350, \"bill_length_mm\": 42.5, \"bill_depth_mm\": 17.3}, {\"flipper_length_mm\": 197, \"body_mass_g\": 3450, \"bill_length_mm\": 52.2, \"bill_depth_mm\": 18.8}, {\"flipper_length_mm\": 191, \"body_mass_g\": 3250, \"bill_length_mm\": 45.2, \"bill_depth_mm\": 16.6}, {\"flipper_length_mm\": 203, \"body_mass_g\": 4050, \"bill_length_mm\": 49.3, \"bill_depth_mm\": 19.9}, {\"flipper_length_mm\": 202, \"body_mass_g\": 3800, \"bill_length_mm\": 50.2, \"bill_depth_mm\": 18.8}, {\"flipper_length_mm\": 194, \"body_mass_g\": 3525, \"bill_length_mm\": 45.6, \"bill_depth_mm\": 19.4}, {\"flipper_length_mm\": 206, \"body_mass_g\": 3950, \"bill_length_mm\": 51.9, \"bill_depth_mm\": 19.5}, {\"flipper_length_mm\": 189, \"body_mass_g\": 3650, \"bill_length_mm\": 46.8, \"bill_depth_mm\": 16.5}, {\"flipper_length_mm\": 195, \"body_mass_g\": 3650, \"bill_length_mm\": 45.7, \"bill_depth_mm\": 17.0}, {\"flipper_length_mm\": 207, \"body_mass_g\": 4000, \"bill_length_mm\": 55.8, \"bill_depth_mm\": 19.8}, {\"flipper_length_mm\": 202, \"body_mass_g\": 3400, \"bill_length_mm\": 43.5, \"bill_depth_mm\": 18.1}, {\"flipper_length_mm\": 193, \"body_mass_g\": 3775, \"bill_length_mm\": 49.6, \"bill_depth_mm\": 18.2}, {\"flipper_length_mm\": 210, \"body_mass_g\": 4100, \"bill_length_mm\": 50.8, \"bill_depth_mm\": 19.0}, {\"flipper_length_mm\": 198, \"body_mass_g\": 3775, \"bill_length_mm\": 50.2, \"bill_depth_mm\": 18.7}]}}, {\"mode\": \"vega-lite\"});\n",
       "</script>"
      ],
      "text/plain": [
       "alt.Chart(...)"
      ]
     },
     "execution_count": 91,
     "metadata": {},
     "output_type": "execute_result"
    }
   ],
   "source": [
    "alt.Chart(penguins_numericos_dt.to_pandas()).mark_point().encode(alt.X('bill_length_mm'),alt.Y('bill_depth_mm'))"
   ]
  },
  {
   "cell_type": "code",
   "execution_count": 111,
   "metadata": {},
   "outputs": [
    {
     "data": {
      "text/html": [
       "\n",
       "<div id=\"altair-viz-32956a259515446ca1c166a135d62faa\"></div>\n",
       "<script type=\"text/javascript\">\n",
       "  (function(spec, embedOpt){\n",
       "    let outputDiv = document.currentScript.previousElementSibling;\n",
       "    if (outputDiv.id !== \"altair-viz-32956a259515446ca1c166a135d62faa\") {\n",
       "      outputDiv = document.getElementById(\"altair-viz-32956a259515446ca1c166a135d62faa\");\n",
       "    }\n",
       "    const paths = {\n",
       "      \"vega\": \"https://cdn.jsdelivr.net/npm//vega@5?noext\",\n",
       "      \"vega-lib\": \"https://cdn.jsdelivr.net/npm//vega-lib?noext\",\n",
       "      \"vega-lite\": \"https://cdn.jsdelivr.net/npm//vega-lite@4.8.1?noext\",\n",
       "      \"vega-embed\": \"https://cdn.jsdelivr.net/npm//vega-embed@6?noext\",\n",
       "    };\n",
       "\n",
       "    function loadScript(lib) {\n",
       "      return new Promise(function(resolve, reject) {\n",
       "        var s = document.createElement('script');\n",
       "        s.src = paths[lib];\n",
       "        s.async = true;\n",
       "        s.onload = () => resolve(paths[lib]);\n",
       "        s.onerror = () => reject(`Error loading script: ${paths[lib]}`);\n",
       "        document.getElementsByTagName(\"head\")[0].appendChild(s);\n",
       "      });\n",
       "    }\n",
       "\n",
       "    function showError(err) {\n",
       "      outputDiv.innerHTML = `<div class=\"error\" style=\"color:red;\">${err}</div>`;\n",
       "      throw err;\n",
       "    }\n",
       "\n",
       "    function displayChart(vegaEmbed) {\n",
       "      vegaEmbed(outputDiv, spec, embedOpt)\n",
       "        .catch(err => showError(`Javascript Error: ${err.message}<br>This usually means there's a typo in your chart specification. See the javascript console for the full traceback.`));\n",
       "    }\n",
       "\n",
       "    if(typeof define === \"function\" && define.amd) {\n",
       "      requirejs.config({paths});\n",
       "      require([\"vega-embed\"], displayChart, err => showError(`Error loading script: ${err.message}`));\n",
       "    } else if (typeof vegaEmbed === \"function\") {\n",
       "      displayChart(vegaEmbed);\n",
       "    } else {\n",
       "      loadScript(\"vega\")\n",
       "        .then(() => loadScript(\"vega-lite\"))\n",
       "        .then(() => loadScript(\"vega-embed\"))\n",
       "        .catch(showError)\n",
       "        .then(() => displayChart(vegaEmbed));\n",
       "    }\n",
       "  })({\"config\": {\"view\": {\"continuousWidth\": 400, \"continuousHeight\": 300}}, \"repeat\": {\"column\": [\"body_mass_g\", \"flipper_length_mm\", \"bill_depth_mm\", \"bill_length_mm\"], \"row\": [\"bill_length_mm\", \"bill_depth_mm\", \"flipper_length_mm\", \"body_mass_g\"]}, \"spec\": {\"data\": {\"name\": \"data-e00b5f4cde0836f6b158e38dbae65c94\"}, \"mark\": \"circle\", \"encoding\": {\"x\": {\"type\": \"quantitative\", \"field\": {\"repeat\": \"column\"}}, \"y\": {\"type\": \"quantitative\", \"field\": {\"repeat\": \"row\"}}}, \"height\": 200, \"selection\": {\"selector008\": {\"type\": \"interval\", \"bind\": \"scales\", \"encodings\": [\"x\", \"y\"]}}, \"width\": 200}, \"$schema\": \"https://vega.github.io/schema/vega-lite/v4.8.1.json\", \"datasets\": {\"data-e00b5f4cde0836f6b158e38dbae65c94\": [{\"flipper_length_mm\": 181, \"body_mass_g\": 3750, \"bill_length_mm\": 39.1, \"bill_depth_mm\": 18.7}, {\"flipper_length_mm\": 186, \"body_mass_g\": 3800, \"bill_length_mm\": 39.5, \"bill_depth_mm\": 17.4}, {\"flipper_length_mm\": 195, \"body_mass_g\": 3250, \"bill_length_mm\": 40.3, \"bill_depth_mm\": 18.0}, {\"flipper_length_mm\": 193, \"body_mass_g\": 3450, \"bill_length_mm\": 36.7, \"bill_depth_mm\": 19.3}, {\"flipper_length_mm\": 190, \"body_mass_g\": 3650, \"bill_length_mm\": 39.3, \"bill_depth_mm\": 20.6}, {\"flipper_length_mm\": 181, \"body_mass_g\": 3625, \"bill_length_mm\": 38.9, \"bill_depth_mm\": 17.8}, {\"flipper_length_mm\": 195, \"body_mass_g\": 4675, \"bill_length_mm\": 39.2, \"bill_depth_mm\": 19.6}, {\"flipper_length_mm\": 182, \"body_mass_g\": 3200, \"bill_length_mm\": 41.1, \"bill_depth_mm\": 17.6}, {\"flipper_length_mm\": 191, \"body_mass_g\": 3800, \"bill_length_mm\": 38.6, \"bill_depth_mm\": 21.2}, {\"flipper_length_mm\": 198, \"body_mass_g\": 4400, \"bill_length_mm\": 34.6, \"bill_depth_mm\": 21.1}, {\"flipper_length_mm\": 185, \"body_mass_g\": 3700, \"bill_length_mm\": 36.6, \"bill_depth_mm\": 17.8}, {\"flipper_length_mm\": 195, \"body_mass_g\": 3450, \"bill_length_mm\": 38.7, \"bill_depth_mm\": 19.0}, {\"flipper_length_mm\": 197, \"body_mass_g\": 4500, \"bill_length_mm\": 42.5, \"bill_depth_mm\": 20.7}, {\"flipper_length_mm\": 184, \"body_mass_g\": 3325, \"bill_length_mm\": 34.4, \"bill_depth_mm\": 18.4}, {\"flipper_length_mm\": 194, \"body_mass_g\": 4200, \"bill_length_mm\": 46.0, \"bill_depth_mm\": 21.5}, {\"flipper_length_mm\": 174, \"body_mass_g\": 3400, \"bill_length_mm\": 37.8, \"bill_depth_mm\": 18.3}, {\"flipper_length_mm\": 180, \"body_mass_g\": 3600, \"bill_length_mm\": 37.7, \"bill_depth_mm\": 18.7}, {\"flipper_length_mm\": 189, \"body_mass_g\": 3800, \"bill_length_mm\": 35.9, \"bill_depth_mm\": 19.2}, {\"flipper_length_mm\": 185, \"body_mass_g\": 3950, \"bill_length_mm\": 38.2, \"bill_depth_mm\": 18.1}, {\"flipper_length_mm\": 180, \"body_mass_g\": 3800, \"bill_length_mm\": 38.8, \"bill_depth_mm\": 17.2}, {\"flipper_length_mm\": 187, \"body_mass_g\": 3800, \"bill_length_mm\": 35.3, \"bill_depth_mm\": 18.9}, {\"flipper_length_mm\": 183, \"body_mass_g\": 3550, \"bill_length_mm\": 40.6, \"bill_depth_mm\": 18.6}, {\"flipper_length_mm\": 187, \"body_mass_g\": 3200, \"bill_length_mm\": 40.5, \"bill_depth_mm\": 17.9}, {\"flipper_length_mm\": 172, \"body_mass_g\": 3150, \"bill_length_mm\": 37.9, \"bill_depth_mm\": 18.6}, {\"flipper_length_mm\": 180, \"body_mass_g\": 3950, \"bill_length_mm\": 40.5, \"bill_depth_mm\": 18.9}, {\"flipper_length_mm\": 178, \"body_mass_g\": 3250, \"bill_length_mm\": 39.5, \"bill_depth_mm\": 16.7}, {\"flipper_length_mm\": 178, \"body_mass_g\": 3900, \"bill_length_mm\": 37.2, \"bill_depth_mm\": 18.1}, {\"flipper_length_mm\": 188, \"body_mass_g\": 3300, \"bill_length_mm\": 39.5, \"bill_depth_mm\": 17.8}, {\"flipper_length_mm\": 184, \"body_mass_g\": 3900, \"bill_length_mm\": 40.9, \"bill_depth_mm\": 18.9}, {\"flipper_length_mm\": 195, \"body_mass_g\": 3325, \"bill_length_mm\": 36.4, \"bill_depth_mm\": 17.0}, {\"flipper_length_mm\": 196, \"body_mass_g\": 4150, \"bill_length_mm\": 39.2, \"bill_depth_mm\": 21.1}, {\"flipper_length_mm\": 190, \"body_mass_g\": 3950, \"bill_length_mm\": 38.8, \"bill_depth_mm\": 20.0}, {\"flipper_length_mm\": 180, \"body_mass_g\": 3550, \"bill_length_mm\": 42.2, \"bill_depth_mm\": 18.5}, {\"flipper_length_mm\": 181, \"body_mass_g\": 3300, \"bill_length_mm\": 37.6, \"bill_depth_mm\": 19.3}, {\"flipper_length_mm\": 184, \"body_mass_g\": 4650, \"bill_length_mm\": 39.8, \"bill_depth_mm\": 19.1}, {\"flipper_length_mm\": 182, \"body_mass_g\": 3150, \"bill_length_mm\": 36.5, \"bill_depth_mm\": 18.0}, {\"flipper_length_mm\": 195, \"body_mass_g\": 3900, \"bill_length_mm\": 40.8, \"bill_depth_mm\": 18.4}, {\"flipper_length_mm\": 186, \"body_mass_g\": 3100, \"bill_length_mm\": 36.0, \"bill_depth_mm\": 18.5}, {\"flipper_length_mm\": 196, \"body_mass_g\": 4400, \"bill_length_mm\": 44.1, \"bill_depth_mm\": 19.7}, {\"flipper_length_mm\": 185, \"body_mass_g\": 3000, \"bill_length_mm\": 37.0, \"bill_depth_mm\": 16.9}, {\"flipper_length_mm\": 190, \"body_mass_g\": 4600, \"bill_length_mm\": 39.6, \"bill_depth_mm\": 18.8}, {\"flipper_length_mm\": 182, \"body_mass_g\": 3425, \"bill_length_mm\": 41.1, \"bill_depth_mm\": 19.0}, {\"flipper_length_mm\": 190, \"body_mass_g\": 3450, \"bill_length_mm\": 36.0, \"bill_depth_mm\": 17.9}, {\"flipper_length_mm\": 191, \"body_mass_g\": 4150, \"bill_length_mm\": 42.3, \"bill_depth_mm\": 21.2}, {\"flipper_length_mm\": 186, \"body_mass_g\": 3500, \"bill_length_mm\": 39.6, \"bill_depth_mm\": 17.7}, {\"flipper_length_mm\": 188, \"body_mass_g\": 4300, \"bill_length_mm\": 40.1, \"bill_depth_mm\": 18.9}, {\"flipper_length_mm\": 190, \"body_mass_g\": 3450, \"bill_length_mm\": 35.0, \"bill_depth_mm\": 17.9}, {\"flipper_length_mm\": 200, \"body_mass_g\": 4050, \"bill_length_mm\": 42.0, \"bill_depth_mm\": 19.5}, {\"flipper_length_mm\": 187, \"body_mass_g\": 2900, \"bill_length_mm\": 34.5, \"bill_depth_mm\": 18.1}, {\"flipper_length_mm\": 191, \"body_mass_g\": 3700, \"bill_length_mm\": 41.4, \"bill_depth_mm\": 18.6}, {\"flipper_length_mm\": 186, \"body_mass_g\": 3550, \"bill_length_mm\": 39.0, \"bill_depth_mm\": 17.5}, {\"flipper_length_mm\": 193, \"body_mass_g\": 3800, \"bill_length_mm\": 40.6, \"bill_depth_mm\": 18.8}, {\"flipper_length_mm\": 181, \"body_mass_g\": 2850, \"bill_length_mm\": 36.5, \"bill_depth_mm\": 16.6}, {\"flipper_length_mm\": 194, \"body_mass_g\": 3750, \"bill_length_mm\": 37.6, \"bill_depth_mm\": 19.1}, {\"flipper_length_mm\": 185, \"body_mass_g\": 3150, \"bill_length_mm\": 35.7, \"bill_depth_mm\": 16.9}, {\"flipper_length_mm\": 195, \"body_mass_g\": 4400, \"bill_length_mm\": 41.3, \"bill_depth_mm\": 21.1}, {\"flipper_length_mm\": 185, \"body_mass_g\": 3600, \"bill_length_mm\": 37.6, \"bill_depth_mm\": 17.0}, {\"flipper_length_mm\": 192, \"body_mass_g\": 4050, \"bill_length_mm\": 41.1, \"bill_depth_mm\": 18.2}, {\"flipper_length_mm\": 184, \"body_mass_g\": 2850, \"bill_length_mm\": 36.4, \"bill_depth_mm\": 17.1}, {\"flipper_length_mm\": 192, \"body_mass_g\": 3950, \"bill_length_mm\": 41.6, \"bill_depth_mm\": 18.0}, {\"flipper_length_mm\": 195, \"body_mass_g\": 3350, \"bill_length_mm\": 35.5, \"bill_depth_mm\": 16.2}, {\"flipper_length_mm\": 188, \"body_mass_g\": 4100, \"bill_length_mm\": 41.1, \"bill_depth_mm\": 19.1}, {\"flipper_length_mm\": 190, \"body_mass_g\": 3050, \"bill_length_mm\": 35.9, \"bill_depth_mm\": 16.6}, {\"flipper_length_mm\": 198, \"body_mass_g\": 4450, \"bill_length_mm\": 41.8, \"bill_depth_mm\": 19.4}, {\"flipper_length_mm\": 190, \"body_mass_g\": 3600, \"bill_length_mm\": 33.5, \"bill_depth_mm\": 19.0}, {\"flipper_length_mm\": 190, \"body_mass_g\": 3900, \"bill_length_mm\": 39.7, \"bill_depth_mm\": 18.4}, {\"flipper_length_mm\": 196, \"body_mass_g\": 3550, \"bill_length_mm\": 39.6, \"bill_depth_mm\": 17.2}, {\"flipper_length_mm\": 197, \"body_mass_g\": 4150, \"bill_length_mm\": 45.8, \"bill_depth_mm\": 18.9}, {\"flipper_length_mm\": 190, \"body_mass_g\": 3700, \"bill_length_mm\": 35.5, \"bill_depth_mm\": 17.5}, {\"flipper_length_mm\": 195, \"body_mass_g\": 4250, \"bill_length_mm\": 42.8, \"bill_depth_mm\": 18.5}, {\"flipper_length_mm\": 191, \"body_mass_g\": 3700, \"bill_length_mm\": 40.9, \"bill_depth_mm\": 16.8}, {\"flipper_length_mm\": 184, \"body_mass_g\": 3900, \"bill_length_mm\": 37.2, \"bill_depth_mm\": 19.4}, {\"flipper_length_mm\": 187, \"body_mass_g\": 3550, \"bill_length_mm\": 36.2, \"bill_depth_mm\": 16.1}, {\"flipper_length_mm\": 195, \"body_mass_g\": 4000, \"bill_length_mm\": 42.1, \"bill_depth_mm\": 19.1}, {\"flipper_length_mm\": 189, \"body_mass_g\": 3200, \"bill_length_mm\": 34.6, \"bill_depth_mm\": 17.2}, {\"flipper_length_mm\": 196, \"body_mass_g\": 4700, \"bill_length_mm\": 42.9, \"bill_depth_mm\": 17.6}, {\"flipper_length_mm\": 187, \"body_mass_g\": 3800, \"bill_length_mm\": 36.7, \"bill_depth_mm\": 18.8}, {\"flipper_length_mm\": 193, \"body_mass_g\": 4200, \"bill_length_mm\": 35.1, \"bill_depth_mm\": 19.4}, {\"flipper_length_mm\": 191, \"body_mass_g\": 3350, \"bill_length_mm\": 37.3, \"bill_depth_mm\": 17.8}, {\"flipper_length_mm\": 194, \"body_mass_g\": 3550, \"bill_length_mm\": 41.3, \"bill_depth_mm\": 20.3}, {\"flipper_length_mm\": 190, \"body_mass_g\": 3800, \"bill_length_mm\": 36.3, \"bill_depth_mm\": 19.5}, {\"flipper_length_mm\": 189, \"body_mass_g\": 3500, \"bill_length_mm\": 36.9, \"bill_depth_mm\": 18.6}, {\"flipper_length_mm\": 189, \"body_mass_g\": 3950, \"bill_length_mm\": 38.3, \"bill_depth_mm\": 19.2}, {\"flipper_length_mm\": 190, \"body_mass_g\": 3600, \"bill_length_mm\": 38.9, \"bill_depth_mm\": 18.8}, {\"flipper_length_mm\": 202, \"body_mass_g\": 3550, \"bill_length_mm\": 35.7, \"bill_depth_mm\": 18.0}, {\"flipper_length_mm\": 205, \"body_mass_g\": 4300, \"bill_length_mm\": 41.1, \"bill_depth_mm\": 18.1}, {\"flipper_length_mm\": 185, \"body_mass_g\": 3400, \"bill_length_mm\": 34.0, \"bill_depth_mm\": 17.1}, {\"flipper_length_mm\": 186, \"body_mass_g\": 4450, \"bill_length_mm\": 39.6, \"bill_depth_mm\": 18.1}, {\"flipper_length_mm\": 187, \"body_mass_g\": 3300, \"bill_length_mm\": 36.2, \"bill_depth_mm\": 17.3}, {\"flipper_length_mm\": 208, \"body_mass_g\": 4300, \"bill_length_mm\": 40.8, \"bill_depth_mm\": 18.9}, {\"flipper_length_mm\": 190, \"body_mass_g\": 3700, \"bill_length_mm\": 38.1, \"bill_depth_mm\": 18.6}, {\"flipper_length_mm\": 196, \"body_mass_g\": 4350, \"bill_length_mm\": 40.3, \"bill_depth_mm\": 18.5}, {\"flipper_length_mm\": 178, \"body_mass_g\": 2900, \"bill_length_mm\": 33.1, \"bill_depth_mm\": 16.1}, {\"flipper_length_mm\": 192, \"body_mass_g\": 4100, \"bill_length_mm\": 43.2, \"bill_depth_mm\": 18.5}, {\"flipper_length_mm\": 192, \"body_mass_g\": 3725, \"bill_length_mm\": 35.0, \"bill_depth_mm\": 17.9}, {\"flipper_length_mm\": 203, \"body_mass_g\": 4725, \"bill_length_mm\": 41.0, \"bill_depth_mm\": 20.0}, {\"flipper_length_mm\": 183, \"body_mass_g\": 3075, \"bill_length_mm\": 37.7, \"bill_depth_mm\": 16.0}, {\"flipper_length_mm\": 190, \"body_mass_g\": 4250, \"bill_length_mm\": 37.8, \"bill_depth_mm\": 20.0}, {\"flipper_length_mm\": 193, \"body_mass_g\": 2925, \"bill_length_mm\": 37.9, \"bill_depth_mm\": 18.6}, {\"flipper_length_mm\": 184, \"body_mass_g\": 3550, \"bill_length_mm\": 39.7, \"bill_depth_mm\": 18.9}, {\"flipper_length_mm\": 199, \"body_mass_g\": 3750, \"bill_length_mm\": 38.6, \"bill_depth_mm\": 17.2}, {\"flipper_length_mm\": 190, \"body_mass_g\": 3900, \"bill_length_mm\": 38.2, \"bill_depth_mm\": 20.0}, {\"flipper_length_mm\": 181, \"body_mass_g\": 3175, \"bill_length_mm\": 38.1, \"bill_depth_mm\": 17.0}, {\"flipper_length_mm\": 197, \"body_mass_g\": 4775, \"bill_length_mm\": 43.2, \"bill_depth_mm\": 19.0}, {\"flipper_length_mm\": 198, \"body_mass_g\": 3825, \"bill_length_mm\": 38.1, \"bill_depth_mm\": 16.5}, {\"flipper_length_mm\": 191, \"body_mass_g\": 4600, \"bill_length_mm\": 45.6, \"bill_depth_mm\": 20.3}, {\"flipper_length_mm\": 193, \"body_mass_g\": 3200, \"bill_length_mm\": 39.7, \"bill_depth_mm\": 17.7}, {\"flipper_length_mm\": 197, \"body_mass_g\": 4275, \"bill_length_mm\": 42.2, \"bill_depth_mm\": 19.5}, {\"flipper_length_mm\": 191, \"body_mass_g\": 3900, \"bill_length_mm\": 39.6, \"bill_depth_mm\": 20.7}, {\"flipper_length_mm\": 196, \"body_mass_g\": 4075, \"bill_length_mm\": 42.7, \"bill_depth_mm\": 18.3}, {\"flipper_length_mm\": 188, \"body_mass_g\": 2900, \"bill_length_mm\": 38.6, \"bill_depth_mm\": 17.0}, {\"flipper_length_mm\": 199, \"body_mass_g\": 3775, \"bill_length_mm\": 37.3, \"bill_depth_mm\": 20.5}, {\"flipper_length_mm\": 189, \"body_mass_g\": 3350, \"bill_length_mm\": 35.7, \"bill_depth_mm\": 17.0}, {\"flipper_length_mm\": 189, \"body_mass_g\": 3325, \"bill_length_mm\": 41.1, \"bill_depth_mm\": 18.6}, {\"flipper_length_mm\": 187, \"body_mass_g\": 3150, \"bill_length_mm\": 36.2, \"bill_depth_mm\": 17.2}, {\"flipper_length_mm\": 198, \"body_mass_g\": 3500, \"bill_length_mm\": 37.7, \"bill_depth_mm\": 19.8}, {\"flipper_length_mm\": 176, \"body_mass_g\": 3450, \"bill_length_mm\": 40.2, \"bill_depth_mm\": 17.0}, {\"flipper_length_mm\": 202, \"body_mass_g\": 3875, \"bill_length_mm\": 41.4, \"bill_depth_mm\": 18.5}, {\"flipper_length_mm\": 186, \"body_mass_g\": 3050, \"bill_length_mm\": 35.2, \"bill_depth_mm\": 15.9}, {\"flipper_length_mm\": 199, \"body_mass_g\": 4000, \"bill_length_mm\": 40.6, \"bill_depth_mm\": 19.0}, {\"flipper_length_mm\": 191, \"body_mass_g\": 3275, \"bill_length_mm\": 38.8, \"bill_depth_mm\": 17.6}, {\"flipper_length_mm\": 195, \"body_mass_g\": 4300, \"bill_length_mm\": 41.5, \"bill_depth_mm\": 18.3}, {\"flipper_length_mm\": 191, \"body_mass_g\": 3050, \"bill_length_mm\": 39.0, \"bill_depth_mm\": 17.1}, {\"flipper_length_mm\": 210, \"body_mass_g\": 4000, \"bill_length_mm\": 44.1, \"bill_depth_mm\": 18.0}, {\"flipper_length_mm\": 190, \"body_mass_g\": 3325, \"bill_length_mm\": 38.5, \"bill_depth_mm\": 17.9}, {\"flipper_length_mm\": 197, \"body_mass_g\": 3500, \"bill_length_mm\": 43.1, \"bill_depth_mm\": 19.2}, {\"flipper_length_mm\": 193, \"body_mass_g\": 3500, \"bill_length_mm\": 36.8, \"bill_depth_mm\": 18.5}, {\"flipper_length_mm\": 199, \"body_mass_g\": 4475, \"bill_length_mm\": 37.5, \"bill_depth_mm\": 18.5}, {\"flipper_length_mm\": 187, \"body_mass_g\": 3425, \"bill_length_mm\": 38.1, \"bill_depth_mm\": 17.6}, {\"flipper_length_mm\": 190, \"body_mass_g\": 3900, \"bill_length_mm\": 41.1, \"bill_depth_mm\": 17.5}, {\"flipper_length_mm\": 191, \"body_mass_g\": 3175, \"bill_length_mm\": 35.6, \"bill_depth_mm\": 17.5}, {\"flipper_length_mm\": 200, \"body_mass_g\": 3975, \"bill_length_mm\": 40.2, \"bill_depth_mm\": 20.1}, {\"flipper_length_mm\": 185, \"body_mass_g\": 3400, \"bill_length_mm\": 37.0, \"bill_depth_mm\": 16.5}, {\"flipper_length_mm\": 193, \"body_mass_g\": 4250, \"bill_length_mm\": 39.7, \"bill_depth_mm\": 17.9}, {\"flipper_length_mm\": 193, \"body_mass_g\": 3400, \"bill_length_mm\": 40.2, \"bill_depth_mm\": 17.1}, {\"flipper_length_mm\": 187, \"body_mass_g\": 3475, \"bill_length_mm\": 40.6, \"bill_depth_mm\": 17.2}, {\"flipper_length_mm\": 188, \"body_mass_g\": 3050, \"bill_length_mm\": 32.1, \"bill_depth_mm\": 15.5}, {\"flipper_length_mm\": 190, \"body_mass_g\": 3725, \"bill_length_mm\": 40.7, \"bill_depth_mm\": 17.0}, {\"flipper_length_mm\": 192, \"body_mass_g\": 3000, \"bill_length_mm\": 37.3, \"bill_depth_mm\": 16.8}, {\"flipper_length_mm\": 185, \"body_mass_g\": 3650, \"bill_length_mm\": 39.0, \"bill_depth_mm\": 18.7}, {\"flipper_length_mm\": 190, \"body_mass_g\": 4250, \"bill_length_mm\": 39.2, \"bill_depth_mm\": 18.6}, {\"flipper_length_mm\": 184, \"body_mass_g\": 3475, \"bill_length_mm\": 36.6, \"bill_depth_mm\": 18.4}, {\"flipper_length_mm\": 195, \"body_mass_g\": 3450, \"bill_length_mm\": 36.0, \"bill_depth_mm\": 17.8}, {\"flipper_length_mm\": 193, \"body_mass_g\": 3750, \"bill_length_mm\": 37.8, \"bill_depth_mm\": 18.1}, {\"flipper_length_mm\": 187, \"body_mass_g\": 3700, \"bill_length_mm\": 36.0, \"bill_depth_mm\": 17.1}, {\"flipper_length_mm\": 201, \"body_mass_g\": 4000, \"bill_length_mm\": 41.5, \"bill_depth_mm\": 18.5}, {\"flipper_length_mm\": 211, \"body_mass_g\": 4500, \"bill_length_mm\": 46.1, \"bill_depth_mm\": 13.2}, {\"flipper_length_mm\": 230, \"body_mass_g\": 5700, \"bill_length_mm\": 50.0, \"bill_depth_mm\": 16.3}, {\"flipper_length_mm\": 210, \"body_mass_g\": 4450, \"bill_length_mm\": 48.7, \"bill_depth_mm\": 14.1}, {\"flipper_length_mm\": 218, \"body_mass_g\": 5700, \"bill_length_mm\": 50.0, \"bill_depth_mm\": 15.2}, {\"flipper_length_mm\": 215, \"body_mass_g\": 5400, \"bill_length_mm\": 47.6, \"bill_depth_mm\": 14.5}, {\"flipper_length_mm\": 210, \"body_mass_g\": 4550, \"bill_length_mm\": 46.5, \"bill_depth_mm\": 13.5}, {\"flipper_length_mm\": 211, \"body_mass_g\": 4800, \"bill_length_mm\": 45.4, \"bill_depth_mm\": 14.6}, {\"flipper_length_mm\": 219, \"body_mass_g\": 5200, \"bill_length_mm\": 46.7, \"bill_depth_mm\": 15.3}, {\"flipper_length_mm\": 209, \"body_mass_g\": 4400, \"bill_length_mm\": 43.3, \"bill_depth_mm\": 13.4}, {\"flipper_length_mm\": 215, \"body_mass_g\": 5150, \"bill_length_mm\": 46.8, \"bill_depth_mm\": 15.4}, {\"flipper_length_mm\": 214, \"body_mass_g\": 4650, \"bill_length_mm\": 40.9, \"bill_depth_mm\": 13.7}, {\"flipper_length_mm\": 216, \"body_mass_g\": 5550, \"bill_length_mm\": 49.0, \"bill_depth_mm\": 16.1}, {\"flipper_length_mm\": 214, \"body_mass_g\": 4650, \"bill_length_mm\": 45.5, \"bill_depth_mm\": 13.7}, {\"flipper_length_mm\": 213, \"body_mass_g\": 5850, \"bill_length_mm\": 48.4, \"bill_depth_mm\": 14.6}, {\"flipper_length_mm\": 210, \"body_mass_g\": 4200, \"bill_length_mm\": 45.8, \"bill_depth_mm\": 14.6}, {\"flipper_length_mm\": 217, \"body_mass_g\": 5850, \"bill_length_mm\": 49.3, \"bill_depth_mm\": 15.7}, {\"flipper_length_mm\": 210, \"body_mass_g\": 4150, \"bill_length_mm\": 42.0, \"bill_depth_mm\": 13.5}, {\"flipper_length_mm\": 221, \"body_mass_g\": 6300, \"bill_length_mm\": 49.2, \"bill_depth_mm\": 15.2}, {\"flipper_length_mm\": 209, \"body_mass_g\": 4800, \"bill_length_mm\": 46.2, \"bill_depth_mm\": 14.5}, {\"flipper_length_mm\": 222, \"body_mass_g\": 5350, \"bill_length_mm\": 48.7, \"bill_depth_mm\": 15.1}, {\"flipper_length_mm\": 218, \"body_mass_g\": 5700, \"bill_length_mm\": 50.2, \"bill_depth_mm\": 14.3}, {\"flipper_length_mm\": 215, \"body_mass_g\": 5000, \"bill_length_mm\": 45.1, \"bill_depth_mm\": 14.5}, {\"flipper_length_mm\": 213, \"body_mass_g\": 4400, \"bill_length_mm\": 46.5, \"bill_depth_mm\": 14.5}, {\"flipper_length_mm\": 215, \"body_mass_g\": 5050, \"bill_length_mm\": 46.3, \"bill_depth_mm\": 15.8}, {\"flipper_length_mm\": 215, \"body_mass_g\": 5000, \"bill_length_mm\": 42.9, \"bill_depth_mm\": 13.1}, {\"flipper_length_mm\": 215, \"body_mass_g\": 5100, \"bill_length_mm\": 46.1, \"bill_depth_mm\": 15.1}, {\"flipper_length_mm\": 215, \"body_mass_g\": 5650, \"bill_length_mm\": 47.8, \"bill_depth_mm\": 15.0}, {\"flipper_length_mm\": 210, \"body_mass_g\": 4600, \"bill_length_mm\": 48.2, \"bill_depth_mm\": 14.3}, {\"flipper_length_mm\": 220, \"body_mass_g\": 5550, \"bill_length_mm\": 50.0, \"bill_depth_mm\": 15.3}, {\"flipper_length_mm\": 222, \"body_mass_g\": 5250, \"bill_length_mm\": 47.3, \"bill_depth_mm\": 15.3}, {\"flipper_length_mm\": 209, \"body_mass_g\": 4700, \"bill_length_mm\": 42.8, \"bill_depth_mm\": 14.2}, {\"flipper_length_mm\": 207, \"body_mass_g\": 5050, \"bill_length_mm\": 45.1, \"bill_depth_mm\": 14.5}, {\"flipper_length_mm\": 230, \"body_mass_g\": 6050, \"bill_length_mm\": 59.6, \"bill_depth_mm\": 17.0}, {\"flipper_length_mm\": 220, \"body_mass_g\": 5150, \"bill_length_mm\": 49.1, \"bill_depth_mm\": 14.8}, {\"flipper_length_mm\": 220, \"body_mass_g\": 5400, \"bill_length_mm\": 48.4, \"bill_depth_mm\": 16.3}, {\"flipper_length_mm\": 213, \"body_mass_g\": 4950, \"bill_length_mm\": 42.6, \"bill_depth_mm\": 13.7}, {\"flipper_length_mm\": 219, \"body_mass_g\": 5250, \"bill_length_mm\": 44.4, \"bill_depth_mm\": 17.3}, {\"flipper_length_mm\": 208, \"body_mass_g\": 4350, \"bill_length_mm\": 44.0, \"bill_depth_mm\": 13.6}, {\"flipper_length_mm\": 208, \"body_mass_g\": 5350, \"bill_length_mm\": 48.7, \"bill_depth_mm\": 15.7}, {\"flipper_length_mm\": 208, \"body_mass_g\": 3950, \"bill_length_mm\": 42.7, \"bill_depth_mm\": 13.7}, {\"flipper_length_mm\": 225, \"body_mass_g\": 5700, \"bill_length_mm\": 49.6, \"bill_depth_mm\": 16.0}, {\"flipper_length_mm\": 210, \"body_mass_g\": 4300, \"bill_length_mm\": 45.3, \"bill_depth_mm\": 13.7}, {\"flipper_length_mm\": 216, \"body_mass_g\": 4750, \"bill_length_mm\": 49.6, \"bill_depth_mm\": 15.0}, {\"flipper_length_mm\": 222, \"body_mass_g\": 5550, \"bill_length_mm\": 50.5, \"bill_depth_mm\": 15.9}, {\"flipper_length_mm\": 217, \"body_mass_g\": 4900, \"bill_length_mm\": 43.6, \"bill_depth_mm\": 13.9}, {\"flipper_length_mm\": 210, \"body_mass_g\": 4200, \"bill_length_mm\": 45.5, \"bill_depth_mm\": 13.9}, {\"flipper_length_mm\": 225, \"body_mass_g\": 5400, \"bill_length_mm\": 50.5, \"bill_depth_mm\": 15.9}, {\"flipper_length_mm\": 213, \"body_mass_g\": 5100, \"bill_length_mm\": 44.9, \"bill_depth_mm\": 13.3}, {\"flipper_length_mm\": 215, \"body_mass_g\": 5300, \"bill_length_mm\": 45.2, \"bill_depth_mm\": 15.8}, {\"flipper_length_mm\": 210, \"body_mass_g\": 4850, \"bill_length_mm\": 46.6, \"bill_depth_mm\": 14.2}, {\"flipper_length_mm\": 220, \"body_mass_g\": 5300, \"bill_length_mm\": 48.5, \"bill_depth_mm\": 14.1}, {\"flipper_length_mm\": 210, \"body_mass_g\": 4400, \"bill_length_mm\": 45.1, \"bill_depth_mm\": 14.4}, {\"flipper_length_mm\": 225, \"body_mass_g\": 5000, \"bill_length_mm\": 50.1, \"bill_depth_mm\": 15.0}, {\"flipper_length_mm\": 217, \"body_mass_g\": 4900, \"bill_length_mm\": 46.5, \"bill_depth_mm\": 14.4}, {\"flipper_length_mm\": 220, \"body_mass_g\": 5050, \"bill_length_mm\": 45.0, \"bill_depth_mm\": 15.4}, {\"flipper_length_mm\": 208, \"body_mass_g\": 4300, \"bill_length_mm\": 43.8, \"bill_depth_mm\": 13.9}, {\"flipper_length_mm\": 220, \"body_mass_g\": 5000, \"bill_length_mm\": 45.5, \"bill_depth_mm\": 15.0}, {\"flipper_length_mm\": 208, \"body_mass_g\": 4450, \"bill_length_mm\": 43.2, \"bill_depth_mm\": 14.5}, {\"flipper_length_mm\": 224, \"body_mass_g\": 5550, \"bill_length_mm\": 50.4, \"bill_depth_mm\": 15.3}, {\"flipper_length_mm\": 208, \"body_mass_g\": 4200, \"bill_length_mm\": 45.3, \"bill_depth_mm\": 13.8}, {\"flipper_length_mm\": 221, \"body_mass_g\": 5300, \"bill_length_mm\": 46.2, \"bill_depth_mm\": 14.9}, {\"flipper_length_mm\": 214, \"body_mass_g\": 4400, \"bill_length_mm\": 45.7, \"bill_depth_mm\": 13.9}, {\"flipper_length_mm\": 231, \"body_mass_g\": 5650, \"bill_length_mm\": 54.3, \"bill_depth_mm\": 15.7}, {\"flipper_length_mm\": 219, \"body_mass_g\": 4700, \"bill_length_mm\": 45.8, \"bill_depth_mm\": 14.2}, {\"flipper_length_mm\": 230, \"body_mass_g\": 5700, \"bill_length_mm\": 49.8, \"bill_depth_mm\": 16.8}, {\"flipper_length_mm\": 229, \"body_mass_g\": 5800, \"bill_length_mm\": 49.5, \"bill_depth_mm\": 16.2}, {\"flipper_length_mm\": 220, \"body_mass_g\": 4700, \"bill_length_mm\": 43.5, \"bill_depth_mm\": 14.2}, {\"flipper_length_mm\": 223, \"body_mass_g\": 5550, \"bill_length_mm\": 50.7, \"bill_depth_mm\": 15.0}, {\"flipper_length_mm\": 216, \"body_mass_g\": 4750, \"bill_length_mm\": 47.7, \"bill_depth_mm\": 15.0}, {\"flipper_length_mm\": 221, \"body_mass_g\": 5000, \"bill_length_mm\": 46.4, \"bill_depth_mm\": 15.6}, {\"flipper_length_mm\": 221, \"body_mass_g\": 5100, \"bill_length_mm\": 48.2, \"bill_depth_mm\": 15.6}, {\"flipper_length_mm\": 217, \"body_mass_g\": 5200, \"bill_length_mm\": 46.5, \"bill_depth_mm\": 14.8}, {\"flipper_length_mm\": 216, \"body_mass_g\": 4700, \"bill_length_mm\": 46.4, \"bill_depth_mm\": 15.0}, {\"flipper_length_mm\": 230, \"body_mass_g\": 5800, \"bill_length_mm\": 48.6, \"bill_depth_mm\": 16.0}, {\"flipper_length_mm\": 209, \"body_mass_g\": 4600, \"bill_length_mm\": 47.5, \"bill_depth_mm\": 14.2}, {\"flipper_length_mm\": 220, \"body_mass_g\": 6000, \"bill_length_mm\": 51.1, \"bill_depth_mm\": 16.3}, {\"flipper_length_mm\": 215, \"body_mass_g\": 4750, \"bill_length_mm\": 45.2, \"bill_depth_mm\": 13.8}, {\"flipper_length_mm\": 223, \"body_mass_g\": 5950, \"bill_length_mm\": 45.2, \"bill_depth_mm\": 16.4}, {\"flipper_length_mm\": 212, \"body_mass_g\": 4625, \"bill_length_mm\": 49.1, \"bill_depth_mm\": 14.5}, {\"flipper_length_mm\": 221, \"body_mass_g\": 5450, \"bill_length_mm\": 52.5, \"bill_depth_mm\": 15.6}, {\"flipper_length_mm\": 212, \"body_mass_g\": 4725, \"bill_length_mm\": 47.4, \"bill_depth_mm\": 14.6}, {\"flipper_length_mm\": 224, \"body_mass_g\": 5350, \"bill_length_mm\": 50.0, \"bill_depth_mm\": 15.9}, {\"flipper_length_mm\": 212, \"body_mass_g\": 4750, \"bill_length_mm\": 44.9, \"bill_depth_mm\": 13.8}, {\"flipper_length_mm\": 228, \"body_mass_g\": 5600, \"bill_length_mm\": 50.8, \"bill_depth_mm\": 17.3}, {\"flipper_length_mm\": 218, \"body_mass_g\": 4600, \"bill_length_mm\": 43.4, \"bill_depth_mm\": 14.4}, {\"flipper_length_mm\": 218, \"body_mass_g\": 5300, \"bill_length_mm\": 51.3, \"bill_depth_mm\": 14.2}, {\"flipper_length_mm\": 212, \"body_mass_g\": 4875, \"bill_length_mm\": 47.5, \"bill_depth_mm\": 14.0}, {\"flipper_length_mm\": 230, \"body_mass_g\": 5550, \"bill_length_mm\": 52.1, \"bill_depth_mm\": 17.0}, {\"flipper_length_mm\": 218, \"body_mass_g\": 4950, \"bill_length_mm\": 47.5, \"bill_depth_mm\": 15.0}, {\"flipper_length_mm\": 228, \"body_mass_g\": 5400, \"bill_length_mm\": 52.2, \"bill_depth_mm\": 17.1}, {\"flipper_length_mm\": 212, \"body_mass_g\": 4750, \"bill_length_mm\": 45.5, \"bill_depth_mm\": 14.5}, {\"flipper_length_mm\": 224, \"body_mass_g\": 5650, \"bill_length_mm\": 49.5, \"bill_depth_mm\": 16.1}, {\"flipper_length_mm\": 214, \"body_mass_g\": 4850, \"bill_length_mm\": 44.5, \"bill_depth_mm\": 14.7}, {\"flipper_length_mm\": 226, \"body_mass_g\": 5200, \"bill_length_mm\": 50.8, \"bill_depth_mm\": 15.7}, {\"flipper_length_mm\": 216, \"body_mass_g\": 4925, \"bill_length_mm\": 49.4, \"bill_depth_mm\": 15.8}, {\"flipper_length_mm\": 222, \"body_mass_g\": 4875, \"bill_length_mm\": 46.9, \"bill_depth_mm\": 14.6}, {\"flipper_length_mm\": 203, \"body_mass_g\": 4625, \"bill_length_mm\": 48.4, \"bill_depth_mm\": 14.4}, {\"flipper_length_mm\": 225, \"body_mass_g\": 5250, \"bill_length_mm\": 51.1, \"bill_depth_mm\": 16.5}, {\"flipper_length_mm\": 219, \"body_mass_g\": 4850, \"bill_length_mm\": 48.5, \"bill_depth_mm\": 15.0}, {\"flipper_length_mm\": 228, \"body_mass_g\": 5600, \"bill_length_mm\": 55.9, \"bill_depth_mm\": 17.0}, {\"flipper_length_mm\": 215, \"body_mass_g\": 4975, \"bill_length_mm\": 47.2, \"bill_depth_mm\": 15.5}, {\"flipper_length_mm\": 228, \"body_mass_g\": 5500, \"bill_length_mm\": 49.1, \"bill_depth_mm\": 15.0}, {\"flipper_length_mm\": 215, \"body_mass_g\": 5500, \"bill_length_mm\": 46.8, \"bill_depth_mm\": 16.1}, {\"flipper_length_mm\": 210, \"body_mass_g\": 4700, \"bill_length_mm\": 41.7, \"bill_depth_mm\": 14.7}, {\"flipper_length_mm\": 219, \"body_mass_g\": 5500, \"bill_length_mm\": 53.4, \"bill_depth_mm\": 15.8}, {\"flipper_length_mm\": 208, \"body_mass_g\": 4575, \"bill_length_mm\": 43.3, \"bill_depth_mm\": 14.0}, {\"flipper_length_mm\": 209, \"body_mass_g\": 5500, \"bill_length_mm\": 48.1, \"bill_depth_mm\": 15.1}, {\"flipper_length_mm\": 216, \"body_mass_g\": 5000, \"bill_length_mm\": 50.5, \"bill_depth_mm\": 15.2}, {\"flipper_length_mm\": 229, \"body_mass_g\": 5950, \"bill_length_mm\": 49.8, \"bill_depth_mm\": 15.9}, {\"flipper_length_mm\": 213, \"body_mass_g\": 4650, \"bill_length_mm\": 43.5, \"bill_depth_mm\": 15.2}, {\"flipper_length_mm\": 230, \"body_mass_g\": 5500, \"bill_length_mm\": 51.5, \"bill_depth_mm\": 16.3}, {\"flipper_length_mm\": 217, \"body_mass_g\": 4375, \"bill_length_mm\": 46.2, \"bill_depth_mm\": 14.1}, {\"flipper_length_mm\": 230, \"body_mass_g\": 5850, \"bill_length_mm\": 55.1, \"bill_depth_mm\": 16.0}, {\"flipper_length_mm\": 222, \"body_mass_g\": 6000, \"bill_length_mm\": 48.8, \"bill_depth_mm\": 16.2}, {\"flipper_length_mm\": 214, \"body_mass_g\": 4925, \"bill_length_mm\": 47.2, \"bill_depth_mm\": 13.7}, {\"flipper_length_mm\": 215, \"body_mass_g\": 4850, \"bill_length_mm\": 46.8, \"bill_depth_mm\": 14.3}, {\"flipper_length_mm\": 222, \"body_mass_g\": 5750, \"bill_length_mm\": 50.4, \"bill_depth_mm\": 15.7}, {\"flipper_length_mm\": 212, \"body_mass_g\": 5200, \"bill_length_mm\": 45.2, \"bill_depth_mm\": 14.8}, {\"flipper_length_mm\": 213, \"body_mass_g\": 5400, \"bill_length_mm\": 49.9, \"bill_depth_mm\": 16.1}, {\"flipper_length_mm\": 192, \"body_mass_g\": 3500, \"bill_length_mm\": 46.5, \"bill_depth_mm\": 17.9}, {\"flipper_length_mm\": 196, \"body_mass_g\": 3900, \"bill_length_mm\": 50.0, \"bill_depth_mm\": 19.5}, {\"flipper_length_mm\": 193, \"body_mass_g\": 3650, \"bill_length_mm\": 51.3, \"bill_depth_mm\": 19.2}, {\"flipper_length_mm\": 188, \"body_mass_g\": 3525, \"bill_length_mm\": 45.4, \"bill_depth_mm\": 18.7}, {\"flipper_length_mm\": 197, \"body_mass_g\": 3725, \"bill_length_mm\": 52.7, \"bill_depth_mm\": 19.8}, {\"flipper_length_mm\": 198, \"body_mass_g\": 3950, \"bill_length_mm\": 45.2, \"bill_depth_mm\": 17.8}, {\"flipper_length_mm\": 178, \"body_mass_g\": 3250, \"bill_length_mm\": 46.1, \"bill_depth_mm\": 18.2}, {\"flipper_length_mm\": 197, \"body_mass_g\": 3750, \"bill_length_mm\": 51.3, \"bill_depth_mm\": 18.2}, {\"flipper_length_mm\": 195, \"body_mass_g\": 4150, \"bill_length_mm\": 46.0, \"bill_depth_mm\": 18.9}, {\"flipper_length_mm\": 198, \"body_mass_g\": 3700, \"bill_length_mm\": 51.3, \"bill_depth_mm\": 19.9}, {\"flipper_length_mm\": 193, \"body_mass_g\": 3800, \"bill_length_mm\": 46.6, \"bill_depth_mm\": 17.8}, {\"flipper_length_mm\": 194, \"body_mass_g\": 3775, \"bill_length_mm\": 51.7, \"bill_depth_mm\": 20.3}, {\"flipper_length_mm\": 185, \"body_mass_g\": 3700, \"bill_length_mm\": 47.0, \"bill_depth_mm\": 17.3}, {\"flipper_length_mm\": 201, \"body_mass_g\": 4050, \"bill_length_mm\": 52.0, \"bill_depth_mm\": 18.1}, {\"flipper_length_mm\": 190, \"body_mass_g\": 3575, \"bill_length_mm\": 45.9, \"bill_depth_mm\": 17.1}, {\"flipper_length_mm\": 201, \"body_mass_g\": 4050, \"bill_length_mm\": 50.5, \"bill_depth_mm\": 19.6}, {\"flipper_length_mm\": 197, \"body_mass_g\": 3300, \"bill_length_mm\": 50.3, \"bill_depth_mm\": 20.0}, {\"flipper_length_mm\": 181, \"body_mass_g\": 3700, \"bill_length_mm\": 58.0, \"bill_depth_mm\": 17.8}, {\"flipper_length_mm\": 190, \"body_mass_g\": 3450, \"bill_length_mm\": 46.4, \"bill_depth_mm\": 18.6}, {\"flipper_length_mm\": 195, \"body_mass_g\": 4400, \"bill_length_mm\": 49.2, \"bill_depth_mm\": 18.2}, {\"flipper_length_mm\": 181, \"body_mass_g\": 3600, \"bill_length_mm\": 42.4, \"bill_depth_mm\": 17.3}, {\"flipper_length_mm\": 191, \"body_mass_g\": 3400, \"bill_length_mm\": 48.5, \"bill_depth_mm\": 17.5}, {\"flipper_length_mm\": 187, \"body_mass_g\": 2900, \"bill_length_mm\": 43.2, \"bill_depth_mm\": 16.6}, {\"flipper_length_mm\": 193, \"body_mass_g\": 3800, \"bill_length_mm\": 50.6, \"bill_depth_mm\": 19.4}, {\"flipper_length_mm\": 195, \"body_mass_g\": 3300, \"bill_length_mm\": 46.7, \"bill_depth_mm\": 17.9}, {\"flipper_length_mm\": 197, \"body_mass_g\": 4150, \"bill_length_mm\": 52.0, \"bill_depth_mm\": 19.0}, {\"flipper_length_mm\": 200, \"body_mass_g\": 3400, \"bill_length_mm\": 50.5, \"bill_depth_mm\": 18.4}, {\"flipper_length_mm\": 200, \"body_mass_g\": 3800, \"bill_length_mm\": 49.5, \"bill_depth_mm\": 19.0}, {\"flipper_length_mm\": 191, \"body_mass_g\": 3700, \"bill_length_mm\": 46.4, \"bill_depth_mm\": 17.8}, {\"flipper_length_mm\": 205, \"body_mass_g\": 4550, \"bill_length_mm\": 52.8, \"bill_depth_mm\": 20.0}, {\"flipper_length_mm\": 187, \"body_mass_g\": 3200, \"bill_length_mm\": 40.9, \"bill_depth_mm\": 16.6}, {\"flipper_length_mm\": 201, \"body_mass_g\": 4300, \"bill_length_mm\": 54.2, \"bill_depth_mm\": 20.8}, {\"flipper_length_mm\": 187, \"body_mass_g\": 3350, \"bill_length_mm\": 42.5, \"bill_depth_mm\": 16.7}, {\"flipper_length_mm\": 203, \"body_mass_g\": 4100, \"bill_length_mm\": 51.0, \"bill_depth_mm\": 18.8}, {\"flipper_length_mm\": 195, \"body_mass_g\": 3600, \"bill_length_mm\": 49.7, \"bill_depth_mm\": 18.6}, {\"flipper_length_mm\": 199, \"body_mass_g\": 3900, \"bill_length_mm\": 47.5, \"bill_depth_mm\": 16.8}, {\"flipper_length_mm\": 195, \"body_mass_g\": 3850, \"bill_length_mm\": 47.6, \"bill_depth_mm\": 18.3}, {\"flipper_length_mm\": 210, \"body_mass_g\": 4800, \"bill_length_mm\": 52.0, \"bill_depth_mm\": 20.7}, {\"flipper_length_mm\": 192, \"body_mass_g\": 2700, \"bill_length_mm\": 46.9, \"bill_depth_mm\": 16.6}, {\"flipper_length_mm\": 205, \"body_mass_g\": 4500, \"bill_length_mm\": 53.5, \"bill_depth_mm\": 19.9}, {\"flipper_length_mm\": 210, \"body_mass_g\": 3950, \"bill_length_mm\": 49.0, \"bill_depth_mm\": 19.5}, {\"flipper_length_mm\": 187, \"body_mass_g\": 3650, \"bill_length_mm\": 46.2, \"bill_depth_mm\": 17.5}, {\"flipper_length_mm\": 196, \"body_mass_g\": 3550, \"bill_length_mm\": 50.9, \"bill_depth_mm\": 19.1}, {\"flipper_length_mm\": 196, \"body_mass_g\": 3500, \"bill_length_mm\": 45.5, \"bill_depth_mm\": 17.0}, {\"flipper_length_mm\": 196, \"body_mass_g\": 3675, \"bill_length_mm\": 50.9, \"bill_depth_mm\": 17.9}, {\"flipper_length_mm\": 201, \"body_mass_g\": 4450, \"bill_length_mm\": 50.8, \"bill_depth_mm\": 18.5}, {\"flipper_length_mm\": 190, \"body_mass_g\": 3400, \"bill_length_mm\": 50.1, \"bill_depth_mm\": 17.9}, {\"flipper_length_mm\": 212, \"body_mass_g\": 4300, \"bill_length_mm\": 49.0, \"bill_depth_mm\": 19.6}, {\"flipper_length_mm\": 187, \"body_mass_g\": 3250, \"bill_length_mm\": 51.5, \"bill_depth_mm\": 18.7}, {\"flipper_length_mm\": 198, \"body_mass_g\": 3675, \"bill_length_mm\": 49.8, \"bill_depth_mm\": 17.3}, {\"flipper_length_mm\": 199, \"body_mass_g\": 3325, \"bill_length_mm\": 48.1, \"bill_depth_mm\": 16.4}, {\"flipper_length_mm\": 201, \"body_mass_g\": 3950, \"bill_length_mm\": 51.4, \"bill_depth_mm\": 19.0}, {\"flipper_length_mm\": 193, \"body_mass_g\": 3600, \"bill_length_mm\": 45.7, \"bill_depth_mm\": 17.3}, {\"flipper_length_mm\": 203, \"body_mass_g\": 4050, \"bill_length_mm\": 50.7, \"bill_depth_mm\": 19.7}, {\"flipper_length_mm\": 187, \"body_mass_g\": 3350, \"bill_length_mm\": 42.5, \"bill_depth_mm\": 17.3}, {\"flipper_length_mm\": 197, \"body_mass_g\": 3450, \"bill_length_mm\": 52.2, \"bill_depth_mm\": 18.8}, {\"flipper_length_mm\": 191, \"body_mass_g\": 3250, \"bill_length_mm\": 45.2, \"bill_depth_mm\": 16.6}, {\"flipper_length_mm\": 203, \"body_mass_g\": 4050, \"bill_length_mm\": 49.3, \"bill_depth_mm\": 19.9}, {\"flipper_length_mm\": 202, \"body_mass_g\": 3800, \"bill_length_mm\": 50.2, \"bill_depth_mm\": 18.8}, {\"flipper_length_mm\": 194, \"body_mass_g\": 3525, \"bill_length_mm\": 45.6, \"bill_depth_mm\": 19.4}, {\"flipper_length_mm\": 206, \"body_mass_g\": 3950, \"bill_length_mm\": 51.9, \"bill_depth_mm\": 19.5}, {\"flipper_length_mm\": 189, \"body_mass_g\": 3650, \"bill_length_mm\": 46.8, \"bill_depth_mm\": 16.5}, {\"flipper_length_mm\": 195, \"body_mass_g\": 3650, \"bill_length_mm\": 45.7, \"bill_depth_mm\": 17.0}, {\"flipper_length_mm\": 207, \"body_mass_g\": 4000, \"bill_length_mm\": 55.8, \"bill_depth_mm\": 19.8}, {\"flipper_length_mm\": 202, \"body_mass_g\": 3400, \"bill_length_mm\": 43.5, \"bill_depth_mm\": 18.1}, {\"flipper_length_mm\": 193, \"body_mass_g\": 3775, \"bill_length_mm\": 49.6, \"bill_depth_mm\": 18.2}, {\"flipper_length_mm\": 210, \"body_mass_g\": 4100, \"bill_length_mm\": 50.8, \"bill_depth_mm\": 19.0}, {\"flipper_length_mm\": 198, \"body_mass_g\": 3775, \"bill_length_mm\": 50.2, \"bill_depth_mm\": 18.7}]}}, {\"mode\": \"vega-lite\"});\n",
       "</script>"
      ],
      "text/plain": [
       "alt.RepeatChart(...)"
      ]
     },
     "execution_count": 111,
     "metadata": {},
     "output_type": "execute_result"
    }
   ],
   "source": [
    "peng_names = ['bill_length_mm', 'bill_depth_mm', 'flipper_length_mm','body_mass_g']\n",
    "\n",
    "alt.Chart(penguins_numericos_dt.to_pandas()).mark_circle().encode(\n",
    "    alt.X(alt.repeat(\"column\"), type='quantitative'),\n",
    "    alt.Y(alt.repeat(\"row\"),type=\"quantitative\")\n",
    ").properties(width=200,height=200).repeat(\n",
    "    row=peng_names,\n",
    "    column=peng_names[::-1]\n",
    ").interactive()"
   ]
  },
  {
   "cell_type": "code",
   "execution_count": 112,
   "metadata": {},
   "outputs": [
    {
     "data": {
      "text/html": [
       "<div class='datatable'>\n",
       "  <table class='frame'>\n",
       "  <thead>\n",
       "    <tr class='colnames'><td class='row_index'></td><th>species</th><th>island</th><th>bill_length_mm</th><th>bill_depth_mm</th><th>flipper_length_mm</th><th>body_mass_g</th><th>sex</th><th>year</th></tr>\n",
       "    <tr class='coltypes'><td class='row_index'></td><td class='string' title='str32'>&#x25AA;&#x25AA;&#x25AA;&#x25AA;</td><td class='string' title='str32'>&#x25AA;&#x25AA;&#x25AA;&#x25AA;</td><td class='float' title='float64'>&#x25AA;&#x25AA;&#x25AA;&#x25AA;&#x25AA;&#x25AA;&#x25AA;&#x25AA;</td><td class='float' title='float64'>&#x25AA;&#x25AA;&#x25AA;&#x25AA;&#x25AA;&#x25AA;&#x25AA;&#x25AA;</td><td class='integer' title='int32'>&#x25AA;&#x25AA;&#x25AA;&#x25AA;</td><td class='integer' title='int32'>&#x25AA;&#x25AA;&#x25AA;&#x25AA;</td><td class='string' title='str32'>&#x25AA;&#x25AA;&#x25AA;&#x25AA;</td><td class='integer' title='int32'>&#x25AA;&#x25AA;&#x25AA;&#x25AA;</td></tr>\n",
       "  </thead>\n",
       "  <tbody>\n",
       "    <tr><td class='row_index'>0</td><td>Adelie</td><td>Torgersen</td><td>39.1</td><td>18.7</td><td>181</td><td>3750</td><td>male</td><td>2007</td></tr>\n",
       "    <tr><td class='row_index'>1</td><td>Adelie</td><td>Torgersen</td><td>39.5</td><td>17.4</td><td>186</td><td>3800</td><td>female</td><td>2007</td></tr>\n",
       "    <tr><td class='row_index'>2</td><td>Adelie</td><td>Torgersen</td><td>40.3</td><td>18</td><td>195</td><td>3250</td><td>female</td><td>2007</td></tr>\n",
       "    <tr><td class='row_index'>3</td><td>Adelie</td><td>Torgersen</td><td>36.7</td><td>19.3</td><td>193</td><td>3450</td><td>female</td><td>2007</td></tr>\n",
       "    <tr><td class='row_index'>&#x22EE;</td><td class='hellipsis'>&#x22EE;</td><td class='hellipsis'>&#x22EE;</td><td class='hellipsis'>&#x22EE;</td><td class='hellipsis'>&#x22EE;</td><td class='hellipsis'>&#x22EE;</td><td class='hellipsis'>&#x22EE;</td><td class='hellipsis'>&#x22EE;</td><td class='hellipsis'>&#x22EE;</td></tr>\n",
       "    <tr><td class='row_index'>329</td><td>Chinstrap</td><td>Dream</td><td>43.5</td><td>18.1</td><td>202</td><td>3400</td><td>female</td><td>2009</td></tr>\n",
       "    <tr><td class='row_index'>330</td><td>Chinstrap</td><td>Dream</td><td>49.6</td><td>18.2</td><td>193</td><td>3775</td><td>male</td><td>2009</td></tr>\n",
       "    <tr><td class='row_index'>331</td><td>Chinstrap</td><td>Dream</td><td>50.8</td><td>19</td><td>210</td><td>4100</td><td>male</td><td>2009</td></tr>\n",
       "    <tr><td class='row_index'>332</td><td>Chinstrap</td><td>Dream</td><td>50.2</td><td>18.7</td><td>198</td><td>3775</td><td>female</td><td>2009</td></tr>\n",
       "  </tbody>\n",
       "  </table>\n",
       "  <div class='footer'>\n",
       "    <div class='frame_dimensions'>333 rows &times; 8 columns</div>\n",
       "  </div>\n",
       "</div>\n"
      ],
      "text/plain": [
       "<Frame [333 rows x 8 cols]>"
      ]
     },
     "execution_count": 112,
     "metadata": {},
     "output_type": "execute_result"
    }
   ],
   "source": [
    "penguins_tidy_dt"
   ]
  },
  {
   "cell_type": "code",
   "execution_count": 116,
   "metadata": {},
   "outputs": [],
   "source": [
    "def py_tidy_descriptive_stats(DT):\n",
    "    \"\"\"Generate summary statistics of datatable\"\"\"\n",
    "    datos_dict = DT.to_dict()\n",
    "    summary_stats_of_dict = { k:[np.nanmean(v),\n",
    "                                 np.nanmedian(v),\n",
    "                                 np.nanmin(v),\n",
    "                                 np.nanmax(v),\n",
    "                                 np.nanstd(v),\n",
    "                                 np.percentile(v,25,interpolation='midpoint'),\n",
    "                                 np.percentile(v,75,interpolation='midpoint'),\n",
    "                                 np.percentile(v,75,interpolation='midpoint')-np.percentile(v,25,interpolation='midpoint'),\n",
    "                                 np.nanstd(v)/np.sqrt(np.shape(v)[0])] for k,v in datos_dict.items() }\n",
    "    summary_dict_names = dt.Frame({'descriptive_stats':['Mean','Median','Min','Max','Std','Q1','Q3','IQR','SE']})\n",
    "    summary_stats_of_dict_prep = {k:list(map(lambda x:np.round(x,3),v)) for k,v in summary_stats_of_dict.items()}\n",
    "    summary_stat_dt = dt.Frame(summary_stats_of_dict_prep)\n",
    "    return dt.cbind(summary_dict_names,summary_stat_dt)"
   ]
  },
  {
   "cell_type": "code",
   "execution_count": 117,
   "metadata": {},
   "outputs": [
    {
     "data": {
      "text/html": [
       "<div class='datatable'>\n",
       "  <table class='frame'>\n",
       "  <thead>\n",
       "    <tr class='colnames'><td class='row_index'></td><th>descriptive_stats</th><th>flipper_length_mm</th><th>body_mass_g</th><th>bill_length_mm</th><th>bill_depth_mm</th></tr>\n",
       "    <tr class='coltypes'><td class='row_index'></td><td class='string' title='str32'>&#x25AA;&#x25AA;&#x25AA;&#x25AA;</td><td class='object' title='obj64'>&#x25AA;&#x25AA;&#x25AA;&#x25AA;&#x25AA;&#x25AA;&#x25AA;&#x25AA;</td><td class='object' title='obj64'>&#x25AA;&#x25AA;&#x25AA;&#x25AA;&#x25AA;&#x25AA;&#x25AA;&#x25AA;</td><td class='float' title='float64'>&#x25AA;&#x25AA;&#x25AA;&#x25AA;&#x25AA;&#x25AA;&#x25AA;&#x25AA;</td><td class='float' title='float64'>&#x25AA;&#x25AA;&#x25AA;&#x25AA;&#x25AA;&#x25AA;&#x25AA;&#x25AA;</td></tr>\n",
       "  </thead>\n",
       "  <tbody>\n",
       "    <tr><td class='row_index'>0</td><td>Mean</td><td>200.967</td><td>4207.057</td><td>43.993</td><td>17.165</td></tr>\n",
       "    <tr><td class='row_index'>1</td><td>Median</td><td>197.0</td><td>4050.0</td><td>44.5</td><td>17.3</td></tr>\n",
       "    <tr><td class='row_index'>2</td><td>Min</td><td>172</td><td>2700</td><td>32.1</td><td>13.1</td></tr>\n",
       "    <tr><td class='row_index'>3</td><td>Max</td><td>231</td><td>6300</td><td>59.6</td><td>21.5</td></tr>\n",
       "    <tr><td class='row_index'>4</td><td>Std</td><td>13.995</td><td>804.006</td><td>5.46</td><td>1.966</td></tr>\n",
       "    <tr><td class='row_index'>5</td><td>Q1</td><td>190.0</td><td>3550.0</td><td>39.5</td><td>15.6</td></tr>\n",
       "    <tr><td class='row_index'>6</td><td>Q3</td><td>213.0</td><td>4775.0</td><td>48.6</td><td>18.7</td></tr>\n",
       "    <tr><td class='row_index'>7</td><td>IQR</td><td>23.0</td><td>1225.0</td><td>9.1</td><td>3.1</td></tr>\n",
       "    <tr><td class='row_index'>8</td><td>SE</td><td>0.767</td><td>44.059</td><td>0.299</td><td>0.108</td></tr>\n",
       "  </tbody>\n",
       "  </table>\n",
       "  <div class='footer'>\n",
       "    <div class='frame_dimensions'>9 rows &times; 5 columns</div>\n",
       "  </div>\n",
       "</div>\n"
      ],
      "text/plain": [
       "<Frame [9 rows x 5 cols]>"
      ]
     },
     "execution_count": 117,
     "metadata": {},
     "output_type": "execute_result"
    }
   ],
   "source": [
    "py_tidy_descriptive_stats(penguins_numericos_dt)"
   ]
  },
  {
   "cell_type": "code",
   "execution_count": 122,
   "metadata": {},
   "outputs": [],
   "source": [
    "penguins_sex_num = dt.cbind(penguins_numericos_dt,penguins_tidy_dt[:,f.sex])"
   ]
  },
  {
   "cell_type": "code",
   "execution_count": 133,
   "metadata": {},
   "outputs": [],
   "source": [
    "alt.Chart(penguins_sex_num[:,(f.flipper_length_mm,f.sex)].to_pandas()).mark_bar().encode(alt.X('flipper_length_mm',bin=True),y='count()').facet('sex')"
   ]
  },
  {
   "cell_type": "code",
   "execution_count": 140,
   "metadata": {},
   "outputs": [
    {
     "data": {
      "text/html": [
       "\n",
       "<div id=\"altair-viz-835dedf6d5eb410cab5ebddaf24b5d9b\"></div>\n",
       "<script type=\"text/javascript\">\n",
       "  (function(spec, embedOpt){\n",
       "    let outputDiv = document.currentScript.previousElementSibling;\n",
       "    if (outputDiv.id !== \"altair-viz-835dedf6d5eb410cab5ebddaf24b5d9b\") {\n",
       "      outputDiv = document.getElementById(\"altair-viz-835dedf6d5eb410cab5ebddaf24b5d9b\");\n",
       "    }\n",
       "    const paths = {\n",
       "      \"vega\": \"https://cdn.jsdelivr.net/npm//vega@5?noext\",\n",
       "      \"vega-lib\": \"https://cdn.jsdelivr.net/npm//vega-lib?noext\",\n",
       "      \"vega-lite\": \"https://cdn.jsdelivr.net/npm//vega-lite@4.8.1?noext\",\n",
       "      \"vega-embed\": \"https://cdn.jsdelivr.net/npm//vega-embed@6?noext\",\n",
       "    };\n",
       "\n",
       "    function loadScript(lib) {\n",
       "      return new Promise(function(resolve, reject) {\n",
       "        var s = document.createElement('script');\n",
       "        s.src = paths[lib];\n",
       "        s.async = true;\n",
       "        s.onload = () => resolve(paths[lib]);\n",
       "        s.onerror = () => reject(`Error loading script: ${paths[lib]}`);\n",
       "        document.getElementsByTagName(\"head\")[0].appendChild(s);\n",
       "      });\n",
       "    }\n",
       "\n",
       "    function showError(err) {\n",
       "      outputDiv.innerHTML = `<div class=\"error\" style=\"color:red;\">${err}</div>`;\n",
       "      throw err;\n",
       "    }\n",
       "\n",
       "    function displayChart(vegaEmbed) {\n",
       "      vegaEmbed(outputDiv, spec, embedOpt)\n",
       "        .catch(err => showError(`Javascript Error: ${err.message}<br>This usually means there's a typo in your chart specification. See the javascript console for the full traceback.`));\n",
       "    }\n",
       "\n",
       "    if(typeof define === \"function\" && define.amd) {\n",
       "      requirejs.config({paths});\n",
       "      require([\"vega-embed\"], displayChart, err => showError(`Error loading script: ${err.message}`));\n",
       "    } else if (typeof vegaEmbed === \"function\") {\n",
       "      displayChart(vegaEmbed);\n",
       "    } else {\n",
       "      loadScript(\"vega\")\n",
       "        .then(() => loadScript(\"vega-lite\"))\n",
       "        .then(() => loadScript(\"vega-embed\"))\n",
       "        .catch(showError)\n",
       "        .then(() => displayChart(vegaEmbed));\n",
       "    }\n",
       "  })({\"config\": {\"view\": {\"continuousWidth\": 400, \"continuousHeight\": 300}}, \"data\": {\"name\": \"data-29012acb213b87d9be8c14c5b0e2cbad\"}, \"facet\": {\"type\": \"nominal\", \"field\": \"sex\"}, \"spec\": {\"mark\": \"bar\", \"encoding\": {\"x\": {\"type\": \"quantitative\", \"bin\": true, \"field\": \"bill_length_mm\"}, \"y\": {\"type\": \"quantitative\", \"aggregate\": \"count\"}}}, \"$schema\": \"https://vega.github.io/schema/vega-lite/v4.8.1.json\", \"datasets\": {\"data-29012acb213b87d9be8c14c5b0e2cbad\": [{\"bill_length_mm\": 39.1, \"sex\": \"male\"}, {\"bill_length_mm\": 39.5, \"sex\": \"female\"}, {\"bill_length_mm\": 40.3, \"sex\": \"female\"}, {\"bill_length_mm\": 36.7, \"sex\": \"female\"}, {\"bill_length_mm\": 39.3, \"sex\": \"male\"}, {\"bill_length_mm\": 38.9, \"sex\": \"female\"}, {\"bill_length_mm\": 39.2, \"sex\": \"male\"}, {\"bill_length_mm\": 41.1, \"sex\": \"female\"}, {\"bill_length_mm\": 38.6, \"sex\": \"male\"}, {\"bill_length_mm\": 34.6, \"sex\": \"male\"}, {\"bill_length_mm\": 36.6, \"sex\": \"female\"}, {\"bill_length_mm\": 38.7, \"sex\": \"female\"}, {\"bill_length_mm\": 42.5, \"sex\": \"male\"}, {\"bill_length_mm\": 34.4, \"sex\": \"female\"}, {\"bill_length_mm\": 46.0, \"sex\": \"male\"}, {\"bill_length_mm\": 37.8, \"sex\": \"female\"}, {\"bill_length_mm\": 37.7, \"sex\": \"male\"}, {\"bill_length_mm\": 35.9, \"sex\": \"female\"}, {\"bill_length_mm\": 38.2, \"sex\": \"male\"}, {\"bill_length_mm\": 38.8, \"sex\": \"male\"}, {\"bill_length_mm\": 35.3, \"sex\": \"female\"}, {\"bill_length_mm\": 40.6, \"sex\": \"male\"}, {\"bill_length_mm\": 40.5, \"sex\": \"female\"}, {\"bill_length_mm\": 37.9, \"sex\": \"female\"}, {\"bill_length_mm\": 40.5, \"sex\": \"male\"}, {\"bill_length_mm\": 39.5, \"sex\": \"female\"}, {\"bill_length_mm\": 37.2, \"sex\": \"male\"}, {\"bill_length_mm\": 39.5, \"sex\": \"female\"}, {\"bill_length_mm\": 40.9, \"sex\": \"male\"}, {\"bill_length_mm\": 36.4, \"sex\": \"female\"}, {\"bill_length_mm\": 39.2, \"sex\": \"male\"}, {\"bill_length_mm\": 38.8, \"sex\": \"male\"}, {\"bill_length_mm\": 42.2, \"sex\": \"female\"}, {\"bill_length_mm\": 37.6, \"sex\": \"female\"}, {\"bill_length_mm\": 39.8, \"sex\": \"male\"}, {\"bill_length_mm\": 36.5, \"sex\": \"female\"}, {\"bill_length_mm\": 40.8, \"sex\": \"male\"}, {\"bill_length_mm\": 36.0, \"sex\": \"female\"}, {\"bill_length_mm\": 44.1, \"sex\": \"male\"}, {\"bill_length_mm\": 37.0, \"sex\": \"female\"}, {\"bill_length_mm\": 39.6, \"sex\": \"male\"}, {\"bill_length_mm\": 41.1, \"sex\": \"male\"}, {\"bill_length_mm\": 36.0, \"sex\": \"female\"}, {\"bill_length_mm\": 42.3, \"sex\": \"male\"}, {\"bill_length_mm\": 39.6, \"sex\": \"female\"}, {\"bill_length_mm\": 40.1, \"sex\": \"male\"}, {\"bill_length_mm\": 35.0, \"sex\": \"female\"}, {\"bill_length_mm\": 42.0, \"sex\": \"male\"}, {\"bill_length_mm\": 34.5, \"sex\": \"female\"}, {\"bill_length_mm\": 41.4, \"sex\": \"male\"}, {\"bill_length_mm\": 39.0, \"sex\": \"female\"}, {\"bill_length_mm\": 40.6, \"sex\": \"male\"}, {\"bill_length_mm\": 36.5, \"sex\": \"female\"}, {\"bill_length_mm\": 37.6, \"sex\": \"male\"}, {\"bill_length_mm\": 35.7, \"sex\": \"female\"}, {\"bill_length_mm\": 41.3, \"sex\": \"male\"}, {\"bill_length_mm\": 37.6, \"sex\": \"female\"}, {\"bill_length_mm\": 41.1, \"sex\": \"male\"}, {\"bill_length_mm\": 36.4, \"sex\": \"female\"}, {\"bill_length_mm\": 41.6, \"sex\": \"male\"}, {\"bill_length_mm\": 35.5, \"sex\": \"female\"}, {\"bill_length_mm\": 41.1, \"sex\": \"male\"}, {\"bill_length_mm\": 35.9, \"sex\": \"female\"}, {\"bill_length_mm\": 41.8, \"sex\": \"male\"}, {\"bill_length_mm\": 33.5, \"sex\": \"female\"}, {\"bill_length_mm\": 39.7, \"sex\": \"male\"}, {\"bill_length_mm\": 39.6, \"sex\": \"female\"}, {\"bill_length_mm\": 45.8, \"sex\": \"male\"}, {\"bill_length_mm\": 35.5, \"sex\": \"female\"}, {\"bill_length_mm\": 42.8, \"sex\": \"male\"}, {\"bill_length_mm\": 40.9, \"sex\": \"female\"}, {\"bill_length_mm\": 37.2, \"sex\": \"male\"}, {\"bill_length_mm\": 36.2, \"sex\": \"female\"}, {\"bill_length_mm\": 42.1, \"sex\": \"male\"}, {\"bill_length_mm\": 34.6, \"sex\": \"female\"}, {\"bill_length_mm\": 42.9, \"sex\": \"male\"}, {\"bill_length_mm\": 36.7, \"sex\": \"female\"}, {\"bill_length_mm\": 35.1, \"sex\": \"male\"}, {\"bill_length_mm\": 37.3, \"sex\": \"female\"}, {\"bill_length_mm\": 41.3, \"sex\": \"male\"}, {\"bill_length_mm\": 36.3, \"sex\": \"male\"}, {\"bill_length_mm\": 36.9, \"sex\": \"female\"}, {\"bill_length_mm\": 38.3, \"sex\": \"male\"}, {\"bill_length_mm\": 38.9, \"sex\": \"female\"}, {\"bill_length_mm\": 35.7, \"sex\": \"female\"}, {\"bill_length_mm\": 41.1, \"sex\": \"male\"}, {\"bill_length_mm\": 34.0, \"sex\": \"female\"}, {\"bill_length_mm\": 39.6, \"sex\": \"male\"}, {\"bill_length_mm\": 36.2, \"sex\": \"female\"}, {\"bill_length_mm\": 40.8, \"sex\": \"male\"}, {\"bill_length_mm\": 38.1, \"sex\": \"female\"}, {\"bill_length_mm\": 40.3, \"sex\": \"male\"}, {\"bill_length_mm\": 33.1, \"sex\": \"female\"}, {\"bill_length_mm\": 43.2, \"sex\": \"male\"}, {\"bill_length_mm\": 35.0, \"sex\": \"female\"}, {\"bill_length_mm\": 41.0, \"sex\": \"male\"}, {\"bill_length_mm\": 37.7, \"sex\": \"female\"}, {\"bill_length_mm\": 37.8, \"sex\": \"male\"}, {\"bill_length_mm\": 37.9, \"sex\": \"female\"}, {\"bill_length_mm\": 39.7, \"sex\": \"male\"}, {\"bill_length_mm\": 38.6, \"sex\": \"female\"}, {\"bill_length_mm\": 38.2, \"sex\": \"male\"}, {\"bill_length_mm\": 38.1, \"sex\": \"female\"}, {\"bill_length_mm\": 43.2, \"sex\": \"male\"}, {\"bill_length_mm\": 38.1, \"sex\": \"female\"}, {\"bill_length_mm\": 45.6, \"sex\": \"male\"}, {\"bill_length_mm\": 39.7, \"sex\": \"female\"}, {\"bill_length_mm\": 42.2, \"sex\": \"male\"}, {\"bill_length_mm\": 39.6, \"sex\": \"female\"}, {\"bill_length_mm\": 42.7, \"sex\": \"male\"}, {\"bill_length_mm\": 38.6, \"sex\": \"female\"}, {\"bill_length_mm\": 37.3, \"sex\": \"male\"}, {\"bill_length_mm\": 35.7, \"sex\": \"female\"}, {\"bill_length_mm\": 41.1, \"sex\": \"male\"}, {\"bill_length_mm\": 36.2, \"sex\": \"female\"}, {\"bill_length_mm\": 37.7, \"sex\": \"male\"}, {\"bill_length_mm\": 40.2, \"sex\": \"female\"}, {\"bill_length_mm\": 41.4, \"sex\": \"male\"}, {\"bill_length_mm\": 35.2, \"sex\": \"female\"}, {\"bill_length_mm\": 40.6, \"sex\": \"male\"}, {\"bill_length_mm\": 38.8, \"sex\": \"female\"}, {\"bill_length_mm\": 41.5, \"sex\": \"male\"}, {\"bill_length_mm\": 39.0, \"sex\": \"female\"}, {\"bill_length_mm\": 44.1, \"sex\": \"male\"}, {\"bill_length_mm\": 38.5, \"sex\": \"female\"}, {\"bill_length_mm\": 43.1, \"sex\": \"male\"}, {\"bill_length_mm\": 36.8, \"sex\": \"female\"}, {\"bill_length_mm\": 37.5, \"sex\": \"male\"}, {\"bill_length_mm\": 38.1, \"sex\": \"female\"}, {\"bill_length_mm\": 41.1, \"sex\": \"male\"}, {\"bill_length_mm\": 35.6, \"sex\": \"female\"}, {\"bill_length_mm\": 40.2, \"sex\": \"male\"}, {\"bill_length_mm\": 37.0, \"sex\": \"female\"}, {\"bill_length_mm\": 39.7, \"sex\": \"male\"}, {\"bill_length_mm\": 40.2, \"sex\": \"female\"}, {\"bill_length_mm\": 40.6, \"sex\": \"male\"}, {\"bill_length_mm\": 32.1, \"sex\": \"female\"}, {\"bill_length_mm\": 40.7, \"sex\": \"male\"}, {\"bill_length_mm\": 37.3, \"sex\": \"female\"}, {\"bill_length_mm\": 39.0, \"sex\": \"male\"}, {\"bill_length_mm\": 39.2, \"sex\": \"male\"}, {\"bill_length_mm\": 36.6, \"sex\": \"female\"}, {\"bill_length_mm\": 36.0, \"sex\": \"female\"}, {\"bill_length_mm\": 37.8, \"sex\": \"male\"}, {\"bill_length_mm\": 36.0, \"sex\": \"female\"}, {\"bill_length_mm\": 41.5, \"sex\": \"male\"}, {\"bill_length_mm\": 46.1, \"sex\": \"female\"}, {\"bill_length_mm\": 50.0, \"sex\": \"male\"}, {\"bill_length_mm\": 48.7, \"sex\": \"female\"}, {\"bill_length_mm\": 50.0, \"sex\": \"male\"}, {\"bill_length_mm\": 47.6, \"sex\": \"male\"}, {\"bill_length_mm\": 46.5, \"sex\": \"female\"}, {\"bill_length_mm\": 45.4, \"sex\": \"female\"}, {\"bill_length_mm\": 46.7, \"sex\": \"male\"}, {\"bill_length_mm\": 43.3, \"sex\": \"female\"}, {\"bill_length_mm\": 46.8, \"sex\": \"male\"}, {\"bill_length_mm\": 40.9, \"sex\": \"female\"}, {\"bill_length_mm\": 49.0, \"sex\": \"male\"}, {\"bill_length_mm\": 45.5, \"sex\": \"female\"}, {\"bill_length_mm\": 48.4, \"sex\": \"male\"}, {\"bill_length_mm\": 45.8, \"sex\": \"female\"}, {\"bill_length_mm\": 49.3, \"sex\": \"male\"}, {\"bill_length_mm\": 42.0, \"sex\": \"female\"}, {\"bill_length_mm\": 49.2, \"sex\": \"male\"}, {\"bill_length_mm\": 46.2, \"sex\": \"female\"}, {\"bill_length_mm\": 48.7, \"sex\": \"male\"}, {\"bill_length_mm\": 50.2, \"sex\": \"male\"}, {\"bill_length_mm\": 45.1, \"sex\": \"female\"}, {\"bill_length_mm\": 46.5, \"sex\": \"female\"}, {\"bill_length_mm\": 46.3, \"sex\": \"male\"}, {\"bill_length_mm\": 42.9, \"sex\": \"female\"}, {\"bill_length_mm\": 46.1, \"sex\": \"male\"}, {\"bill_length_mm\": 47.8, \"sex\": \"male\"}, {\"bill_length_mm\": 48.2, \"sex\": \"female\"}, {\"bill_length_mm\": 50.0, \"sex\": \"male\"}, {\"bill_length_mm\": 47.3, \"sex\": \"male\"}, {\"bill_length_mm\": 42.8, \"sex\": \"female\"}, {\"bill_length_mm\": 45.1, \"sex\": \"female\"}, {\"bill_length_mm\": 59.6, \"sex\": \"male\"}, {\"bill_length_mm\": 49.1, \"sex\": \"female\"}, {\"bill_length_mm\": 48.4, \"sex\": \"male\"}, {\"bill_length_mm\": 42.6, \"sex\": \"female\"}, {\"bill_length_mm\": 44.4, \"sex\": \"male\"}, {\"bill_length_mm\": 44.0, \"sex\": \"female\"}, {\"bill_length_mm\": 48.7, \"sex\": \"male\"}, {\"bill_length_mm\": 42.7, \"sex\": \"female\"}, {\"bill_length_mm\": 49.6, \"sex\": \"male\"}, {\"bill_length_mm\": 45.3, \"sex\": \"female\"}, {\"bill_length_mm\": 49.6, \"sex\": \"male\"}, {\"bill_length_mm\": 50.5, \"sex\": \"male\"}, {\"bill_length_mm\": 43.6, \"sex\": \"female\"}, {\"bill_length_mm\": 45.5, \"sex\": \"female\"}, {\"bill_length_mm\": 50.5, \"sex\": \"male\"}, {\"bill_length_mm\": 44.9, \"sex\": \"female\"}, {\"bill_length_mm\": 45.2, \"sex\": \"male\"}, {\"bill_length_mm\": 46.6, \"sex\": \"female\"}, {\"bill_length_mm\": 48.5, \"sex\": \"male\"}, {\"bill_length_mm\": 45.1, \"sex\": \"female\"}, {\"bill_length_mm\": 50.1, \"sex\": \"male\"}, {\"bill_length_mm\": 46.5, \"sex\": \"female\"}, {\"bill_length_mm\": 45.0, \"sex\": \"male\"}, {\"bill_length_mm\": 43.8, \"sex\": \"female\"}, {\"bill_length_mm\": 45.5, \"sex\": \"male\"}, {\"bill_length_mm\": 43.2, \"sex\": \"female\"}, {\"bill_length_mm\": 50.4, \"sex\": \"male\"}, {\"bill_length_mm\": 45.3, \"sex\": \"female\"}, {\"bill_length_mm\": 46.2, \"sex\": \"male\"}, {\"bill_length_mm\": 45.7, \"sex\": \"female\"}, {\"bill_length_mm\": 54.3, \"sex\": \"male\"}, {\"bill_length_mm\": 45.8, \"sex\": \"female\"}, {\"bill_length_mm\": 49.8, \"sex\": \"male\"}, {\"bill_length_mm\": 49.5, \"sex\": \"male\"}, {\"bill_length_mm\": 43.5, \"sex\": \"female\"}, {\"bill_length_mm\": 50.7, \"sex\": \"male\"}, {\"bill_length_mm\": 47.7, \"sex\": \"female\"}, {\"bill_length_mm\": 46.4, \"sex\": \"male\"}, {\"bill_length_mm\": 48.2, \"sex\": \"male\"}, {\"bill_length_mm\": 46.5, \"sex\": \"female\"}, {\"bill_length_mm\": 46.4, \"sex\": \"female\"}, {\"bill_length_mm\": 48.6, \"sex\": \"male\"}, {\"bill_length_mm\": 47.5, \"sex\": \"female\"}, {\"bill_length_mm\": 51.1, \"sex\": \"male\"}, {\"bill_length_mm\": 45.2, \"sex\": \"female\"}, {\"bill_length_mm\": 45.2, \"sex\": \"male\"}, {\"bill_length_mm\": 49.1, \"sex\": \"female\"}, {\"bill_length_mm\": 52.5, \"sex\": \"male\"}, {\"bill_length_mm\": 47.4, \"sex\": \"female\"}, {\"bill_length_mm\": 50.0, \"sex\": \"male\"}, {\"bill_length_mm\": 44.9, \"sex\": \"female\"}, {\"bill_length_mm\": 50.8, \"sex\": \"male\"}, {\"bill_length_mm\": 43.4, \"sex\": \"female\"}, {\"bill_length_mm\": 51.3, \"sex\": \"male\"}, {\"bill_length_mm\": 47.5, \"sex\": \"female\"}, {\"bill_length_mm\": 52.1, \"sex\": \"male\"}, {\"bill_length_mm\": 47.5, \"sex\": \"female\"}, {\"bill_length_mm\": 52.2, \"sex\": \"male\"}, {\"bill_length_mm\": 45.5, \"sex\": \"female\"}, {\"bill_length_mm\": 49.5, \"sex\": \"male\"}, {\"bill_length_mm\": 44.5, \"sex\": \"female\"}, {\"bill_length_mm\": 50.8, \"sex\": \"male\"}, {\"bill_length_mm\": 49.4, \"sex\": \"male\"}, {\"bill_length_mm\": 46.9, \"sex\": \"female\"}, {\"bill_length_mm\": 48.4, \"sex\": \"female\"}, {\"bill_length_mm\": 51.1, \"sex\": \"male\"}, {\"bill_length_mm\": 48.5, \"sex\": \"female\"}, {\"bill_length_mm\": 55.9, \"sex\": \"male\"}, {\"bill_length_mm\": 47.2, \"sex\": \"female\"}, {\"bill_length_mm\": 49.1, \"sex\": \"male\"}, {\"bill_length_mm\": 46.8, \"sex\": \"male\"}, {\"bill_length_mm\": 41.7, \"sex\": \"female\"}, {\"bill_length_mm\": 53.4, \"sex\": \"male\"}, {\"bill_length_mm\": 43.3, \"sex\": \"female\"}, {\"bill_length_mm\": 48.1, \"sex\": \"male\"}, {\"bill_length_mm\": 50.5, \"sex\": \"female\"}, {\"bill_length_mm\": 49.8, \"sex\": \"male\"}, {\"bill_length_mm\": 43.5, \"sex\": \"female\"}, {\"bill_length_mm\": 51.5, \"sex\": \"male\"}, {\"bill_length_mm\": 46.2, \"sex\": \"female\"}, {\"bill_length_mm\": 55.1, \"sex\": \"male\"}, {\"bill_length_mm\": 48.8, \"sex\": \"male\"}, {\"bill_length_mm\": 47.2, \"sex\": \"female\"}, {\"bill_length_mm\": 46.8, \"sex\": \"female\"}, {\"bill_length_mm\": 50.4, \"sex\": \"male\"}, {\"bill_length_mm\": 45.2, \"sex\": \"female\"}, {\"bill_length_mm\": 49.9, \"sex\": \"male\"}, {\"bill_length_mm\": 46.5, \"sex\": \"female\"}, {\"bill_length_mm\": 50.0, \"sex\": \"male\"}, {\"bill_length_mm\": 51.3, \"sex\": \"male\"}, {\"bill_length_mm\": 45.4, \"sex\": \"female\"}, {\"bill_length_mm\": 52.7, \"sex\": \"male\"}, {\"bill_length_mm\": 45.2, \"sex\": \"female\"}, {\"bill_length_mm\": 46.1, \"sex\": \"female\"}, {\"bill_length_mm\": 51.3, \"sex\": \"male\"}, {\"bill_length_mm\": 46.0, \"sex\": \"female\"}, {\"bill_length_mm\": 51.3, \"sex\": \"male\"}, {\"bill_length_mm\": 46.6, \"sex\": \"female\"}, {\"bill_length_mm\": 51.7, \"sex\": \"male\"}, {\"bill_length_mm\": 47.0, \"sex\": \"female\"}, {\"bill_length_mm\": 52.0, \"sex\": \"male\"}, {\"bill_length_mm\": 45.9, \"sex\": \"female\"}, {\"bill_length_mm\": 50.5, \"sex\": \"male\"}, {\"bill_length_mm\": 50.3, \"sex\": \"male\"}, {\"bill_length_mm\": 58.0, \"sex\": \"female\"}, {\"bill_length_mm\": 46.4, \"sex\": \"female\"}, {\"bill_length_mm\": 49.2, \"sex\": \"male\"}, {\"bill_length_mm\": 42.4, \"sex\": \"female\"}, {\"bill_length_mm\": 48.5, \"sex\": \"male\"}, {\"bill_length_mm\": 43.2, \"sex\": \"female\"}, {\"bill_length_mm\": 50.6, \"sex\": \"male\"}, {\"bill_length_mm\": 46.7, \"sex\": \"female\"}, {\"bill_length_mm\": 52.0, \"sex\": \"male\"}, {\"bill_length_mm\": 50.5, \"sex\": \"female\"}, {\"bill_length_mm\": 49.5, \"sex\": \"male\"}, {\"bill_length_mm\": 46.4, \"sex\": \"female\"}, {\"bill_length_mm\": 52.8, \"sex\": \"male\"}, {\"bill_length_mm\": 40.9, \"sex\": \"female\"}, {\"bill_length_mm\": 54.2, \"sex\": \"male\"}, {\"bill_length_mm\": 42.5, \"sex\": \"female\"}, {\"bill_length_mm\": 51.0, \"sex\": \"male\"}, {\"bill_length_mm\": 49.7, \"sex\": \"male\"}, {\"bill_length_mm\": 47.5, \"sex\": \"female\"}, {\"bill_length_mm\": 47.6, \"sex\": \"female\"}, {\"bill_length_mm\": 52.0, \"sex\": \"male\"}, {\"bill_length_mm\": 46.9, \"sex\": \"female\"}, {\"bill_length_mm\": 53.5, \"sex\": \"male\"}, {\"bill_length_mm\": 49.0, \"sex\": \"male\"}, {\"bill_length_mm\": 46.2, \"sex\": \"female\"}, {\"bill_length_mm\": 50.9, \"sex\": \"male\"}, {\"bill_length_mm\": 45.5, \"sex\": \"female\"}, {\"bill_length_mm\": 50.9, \"sex\": \"female\"}, {\"bill_length_mm\": 50.8, \"sex\": \"male\"}, {\"bill_length_mm\": 50.1, \"sex\": \"female\"}, {\"bill_length_mm\": 49.0, \"sex\": \"male\"}, {\"bill_length_mm\": 51.5, \"sex\": \"male\"}, {\"bill_length_mm\": 49.8, \"sex\": \"female\"}, {\"bill_length_mm\": 48.1, \"sex\": \"female\"}, {\"bill_length_mm\": 51.4, \"sex\": \"male\"}, {\"bill_length_mm\": 45.7, \"sex\": \"female\"}, {\"bill_length_mm\": 50.7, \"sex\": \"male\"}, {\"bill_length_mm\": 42.5, \"sex\": \"female\"}, {\"bill_length_mm\": 52.2, \"sex\": \"male\"}, {\"bill_length_mm\": 45.2, \"sex\": \"female\"}, {\"bill_length_mm\": 49.3, \"sex\": \"male\"}, {\"bill_length_mm\": 50.2, \"sex\": \"male\"}, {\"bill_length_mm\": 45.6, \"sex\": \"female\"}, {\"bill_length_mm\": 51.9, \"sex\": \"male\"}, {\"bill_length_mm\": 46.8, \"sex\": \"female\"}, {\"bill_length_mm\": 45.7, \"sex\": \"female\"}, {\"bill_length_mm\": 55.8, \"sex\": \"male\"}, {\"bill_length_mm\": 43.5, \"sex\": \"female\"}, {\"bill_length_mm\": 49.6, \"sex\": \"male\"}, {\"bill_length_mm\": 50.8, \"sex\": \"male\"}, {\"bill_length_mm\": 50.2, \"sex\": \"female\"}]}}, {\"mode\": \"vega-lite\"});\n",
       "</script>"
      ],
      "text/plain": [
       "alt.FacetChart(...)"
      ]
     },
     "execution_count": 140,
     "metadata": {},
     "output_type": "execute_result"
    }
   ],
   "source": [
    "alt.Chart(penguins_sex_num[:,(f.bill_length_mm,f.sex)].to_pandas()).mark_bar().encode(alt.X('bill_length_mm',bin=True),y='count()').facet('sex')"
   ]
  },
  {
   "cell_type": "code",
   "execution_count": 141,
   "metadata": {},
   "outputs": [
    {
     "data": {
      "text/html": [
       "\n",
       "<div id=\"altair-viz-5e07f8c15f394d04b6c177000f586163\"></div>\n",
       "<script type=\"text/javascript\">\n",
       "  (function(spec, embedOpt){\n",
       "    let outputDiv = document.currentScript.previousElementSibling;\n",
       "    if (outputDiv.id !== \"altair-viz-5e07f8c15f394d04b6c177000f586163\") {\n",
       "      outputDiv = document.getElementById(\"altair-viz-5e07f8c15f394d04b6c177000f586163\");\n",
       "    }\n",
       "    const paths = {\n",
       "      \"vega\": \"https://cdn.jsdelivr.net/npm//vega@5?noext\",\n",
       "      \"vega-lib\": \"https://cdn.jsdelivr.net/npm//vega-lib?noext\",\n",
       "      \"vega-lite\": \"https://cdn.jsdelivr.net/npm//vega-lite@4.8.1?noext\",\n",
       "      \"vega-embed\": \"https://cdn.jsdelivr.net/npm//vega-embed@6?noext\",\n",
       "    };\n",
       "\n",
       "    function loadScript(lib) {\n",
       "      return new Promise(function(resolve, reject) {\n",
       "        var s = document.createElement('script');\n",
       "        s.src = paths[lib];\n",
       "        s.async = true;\n",
       "        s.onload = () => resolve(paths[lib]);\n",
       "        s.onerror = () => reject(`Error loading script: ${paths[lib]}`);\n",
       "        document.getElementsByTagName(\"head\")[0].appendChild(s);\n",
       "      });\n",
       "    }\n",
       "\n",
       "    function showError(err) {\n",
       "      outputDiv.innerHTML = `<div class=\"error\" style=\"color:red;\">${err}</div>`;\n",
       "      throw err;\n",
       "    }\n",
       "\n",
       "    function displayChart(vegaEmbed) {\n",
       "      vegaEmbed(outputDiv, spec, embedOpt)\n",
       "        .catch(err => showError(`Javascript Error: ${err.message}<br>This usually means there's a typo in your chart specification. See the javascript console for the full traceback.`));\n",
       "    }\n",
       "\n",
       "    if(typeof define === \"function\" && define.amd) {\n",
       "      requirejs.config({paths});\n",
       "      require([\"vega-embed\"], displayChart, err => showError(`Error loading script: ${err.message}`));\n",
       "    } else if (typeof vegaEmbed === \"function\") {\n",
       "      displayChart(vegaEmbed);\n",
       "    } else {\n",
       "      loadScript(\"vega\")\n",
       "        .then(() => loadScript(\"vega-lite\"))\n",
       "        .then(() => loadScript(\"vega-embed\"))\n",
       "        .catch(showError)\n",
       "        .then(() => displayChart(vegaEmbed));\n",
       "    }\n",
       "  })({\"config\": {\"view\": {\"continuousWidth\": 400, \"continuousHeight\": 300}}, \"data\": {\"name\": \"data-1f5e9918e6570ae71d49dc69250ff17f\"}, \"facet\": {\"type\": \"nominal\", \"field\": \"sex\"}, \"spec\": {\"mark\": \"bar\", \"encoding\": {\"x\": {\"type\": \"quantitative\", \"bin\": true, \"field\": \"body_mass_g\"}, \"y\": {\"type\": \"quantitative\", \"aggregate\": \"count\"}}}, \"$schema\": \"https://vega.github.io/schema/vega-lite/v4.8.1.json\", \"datasets\": {\"data-1f5e9918e6570ae71d49dc69250ff17f\": [{\"body_mass_g\": 3750, \"sex\": \"male\"}, {\"body_mass_g\": 3800, \"sex\": \"female\"}, {\"body_mass_g\": 3250, \"sex\": \"female\"}, {\"body_mass_g\": 3450, \"sex\": \"female\"}, {\"body_mass_g\": 3650, \"sex\": \"male\"}, {\"body_mass_g\": 3625, \"sex\": \"female\"}, {\"body_mass_g\": 4675, \"sex\": \"male\"}, {\"body_mass_g\": 3200, \"sex\": \"female\"}, {\"body_mass_g\": 3800, \"sex\": \"male\"}, {\"body_mass_g\": 4400, \"sex\": \"male\"}, {\"body_mass_g\": 3700, \"sex\": \"female\"}, {\"body_mass_g\": 3450, \"sex\": \"female\"}, {\"body_mass_g\": 4500, \"sex\": \"male\"}, {\"body_mass_g\": 3325, \"sex\": \"female\"}, {\"body_mass_g\": 4200, \"sex\": \"male\"}, {\"body_mass_g\": 3400, \"sex\": \"female\"}, {\"body_mass_g\": 3600, \"sex\": \"male\"}, {\"body_mass_g\": 3800, \"sex\": \"female\"}, {\"body_mass_g\": 3950, \"sex\": \"male\"}, {\"body_mass_g\": 3800, \"sex\": \"male\"}, {\"body_mass_g\": 3800, \"sex\": \"female\"}, {\"body_mass_g\": 3550, \"sex\": \"male\"}, {\"body_mass_g\": 3200, \"sex\": \"female\"}, {\"body_mass_g\": 3150, \"sex\": \"female\"}, {\"body_mass_g\": 3950, \"sex\": \"male\"}, {\"body_mass_g\": 3250, \"sex\": \"female\"}, {\"body_mass_g\": 3900, \"sex\": \"male\"}, {\"body_mass_g\": 3300, \"sex\": \"female\"}, {\"body_mass_g\": 3900, \"sex\": \"male\"}, {\"body_mass_g\": 3325, \"sex\": \"female\"}, {\"body_mass_g\": 4150, \"sex\": \"male\"}, {\"body_mass_g\": 3950, \"sex\": \"male\"}, {\"body_mass_g\": 3550, \"sex\": \"female\"}, {\"body_mass_g\": 3300, \"sex\": \"female\"}, {\"body_mass_g\": 4650, \"sex\": \"male\"}, {\"body_mass_g\": 3150, \"sex\": \"female\"}, {\"body_mass_g\": 3900, \"sex\": \"male\"}, {\"body_mass_g\": 3100, \"sex\": \"female\"}, {\"body_mass_g\": 4400, \"sex\": \"male\"}, {\"body_mass_g\": 3000, \"sex\": \"female\"}, {\"body_mass_g\": 4600, \"sex\": \"male\"}, {\"body_mass_g\": 3425, \"sex\": \"male\"}, {\"body_mass_g\": 3450, \"sex\": \"female\"}, {\"body_mass_g\": 4150, \"sex\": \"male\"}, {\"body_mass_g\": 3500, \"sex\": \"female\"}, {\"body_mass_g\": 4300, \"sex\": \"male\"}, {\"body_mass_g\": 3450, \"sex\": \"female\"}, {\"body_mass_g\": 4050, \"sex\": \"male\"}, {\"body_mass_g\": 2900, \"sex\": \"female\"}, {\"body_mass_g\": 3700, \"sex\": \"male\"}, {\"body_mass_g\": 3550, \"sex\": \"female\"}, {\"body_mass_g\": 3800, \"sex\": \"male\"}, {\"body_mass_g\": 2850, \"sex\": \"female\"}, {\"body_mass_g\": 3750, \"sex\": \"male\"}, {\"body_mass_g\": 3150, \"sex\": \"female\"}, {\"body_mass_g\": 4400, \"sex\": \"male\"}, {\"body_mass_g\": 3600, \"sex\": \"female\"}, {\"body_mass_g\": 4050, \"sex\": \"male\"}, {\"body_mass_g\": 2850, \"sex\": \"female\"}, {\"body_mass_g\": 3950, \"sex\": \"male\"}, {\"body_mass_g\": 3350, \"sex\": \"female\"}, {\"body_mass_g\": 4100, \"sex\": \"male\"}, {\"body_mass_g\": 3050, \"sex\": \"female\"}, {\"body_mass_g\": 4450, \"sex\": \"male\"}, {\"body_mass_g\": 3600, \"sex\": \"female\"}, {\"body_mass_g\": 3900, \"sex\": \"male\"}, {\"body_mass_g\": 3550, \"sex\": \"female\"}, {\"body_mass_g\": 4150, \"sex\": \"male\"}, {\"body_mass_g\": 3700, \"sex\": \"female\"}, {\"body_mass_g\": 4250, \"sex\": \"male\"}, {\"body_mass_g\": 3700, \"sex\": \"female\"}, {\"body_mass_g\": 3900, \"sex\": \"male\"}, {\"body_mass_g\": 3550, \"sex\": \"female\"}, {\"body_mass_g\": 4000, \"sex\": \"male\"}, {\"body_mass_g\": 3200, \"sex\": \"female\"}, {\"body_mass_g\": 4700, \"sex\": \"male\"}, {\"body_mass_g\": 3800, \"sex\": \"female\"}, {\"body_mass_g\": 4200, \"sex\": \"male\"}, {\"body_mass_g\": 3350, \"sex\": \"female\"}, {\"body_mass_g\": 3550, \"sex\": \"male\"}, {\"body_mass_g\": 3800, \"sex\": \"male\"}, {\"body_mass_g\": 3500, \"sex\": \"female\"}, {\"body_mass_g\": 3950, \"sex\": \"male\"}, {\"body_mass_g\": 3600, \"sex\": \"female\"}, {\"body_mass_g\": 3550, \"sex\": \"female\"}, {\"body_mass_g\": 4300, \"sex\": \"male\"}, {\"body_mass_g\": 3400, \"sex\": \"female\"}, {\"body_mass_g\": 4450, \"sex\": \"male\"}, {\"body_mass_g\": 3300, \"sex\": \"female\"}, {\"body_mass_g\": 4300, \"sex\": \"male\"}, {\"body_mass_g\": 3700, \"sex\": \"female\"}, {\"body_mass_g\": 4350, \"sex\": \"male\"}, {\"body_mass_g\": 2900, \"sex\": \"female\"}, {\"body_mass_g\": 4100, \"sex\": \"male\"}, {\"body_mass_g\": 3725, \"sex\": \"female\"}, {\"body_mass_g\": 4725, \"sex\": \"male\"}, {\"body_mass_g\": 3075, \"sex\": \"female\"}, {\"body_mass_g\": 4250, \"sex\": \"male\"}, {\"body_mass_g\": 2925, \"sex\": \"female\"}, {\"body_mass_g\": 3550, \"sex\": \"male\"}, {\"body_mass_g\": 3750, \"sex\": \"female\"}, {\"body_mass_g\": 3900, \"sex\": \"male\"}, {\"body_mass_g\": 3175, \"sex\": \"female\"}, {\"body_mass_g\": 4775, \"sex\": \"male\"}, {\"body_mass_g\": 3825, \"sex\": \"female\"}, {\"body_mass_g\": 4600, \"sex\": \"male\"}, {\"body_mass_g\": 3200, \"sex\": \"female\"}, {\"body_mass_g\": 4275, \"sex\": \"male\"}, {\"body_mass_g\": 3900, \"sex\": \"female\"}, {\"body_mass_g\": 4075, \"sex\": \"male\"}, {\"body_mass_g\": 2900, \"sex\": \"female\"}, {\"body_mass_g\": 3775, \"sex\": \"male\"}, {\"body_mass_g\": 3350, \"sex\": \"female\"}, {\"body_mass_g\": 3325, \"sex\": \"male\"}, {\"body_mass_g\": 3150, \"sex\": \"female\"}, {\"body_mass_g\": 3500, \"sex\": \"male\"}, {\"body_mass_g\": 3450, \"sex\": \"female\"}, {\"body_mass_g\": 3875, \"sex\": \"male\"}, {\"body_mass_g\": 3050, \"sex\": \"female\"}, {\"body_mass_g\": 4000, \"sex\": \"male\"}, {\"body_mass_g\": 3275, \"sex\": \"female\"}, {\"body_mass_g\": 4300, \"sex\": \"male\"}, {\"body_mass_g\": 3050, \"sex\": \"female\"}, {\"body_mass_g\": 4000, \"sex\": \"male\"}, {\"body_mass_g\": 3325, \"sex\": \"female\"}, {\"body_mass_g\": 3500, \"sex\": \"male\"}, {\"body_mass_g\": 3500, \"sex\": \"female\"}, {\"body_mass_g\": 4475, \"sex\": \"male\"}, {\"body_mass_g\": 3425, \"sex\": \"female\"}, {\"body_mass_g\": 3900, \"sex\": \"male\"}, {\"body_mass_g\": 3175, \"sex\": \"female\"}, {\"body_mass_g\": 3975, \"sex\": \"male\"}, {\"body_mass_g\": 3400, \"sex\": \"female\"}, {\"body_mass_g\": 4250, \"sex\": \"male\"}, {\"body_mass_g\": 3400, \"sex\": \"female\"}, {\"body_mass_g\": 3475, \"sex\": \"male\"}, {\"body_mass_g\": 3050, \"sex\": \"female\"}, {\"body_mass_g\": 3725, \"sex\": \"male\"}, {\"body_mass_g\": 3000, \"sex\": \"female\"}, {\"body_mass_g\": 3650, \"sex\": \"male\"}, {\"body_mass_g\": 4250, \"sex\": \"male\"}, {\"body_mass_g\": 3475, \"sex\": \"female\"}, {\"body_mass_g\": 3450, \"sex\": \"female\"}, {\"body_mass_g\": 3750, \"sex\": \"male\"}, {\"body_mass_g\": 3700, \"sex\": \"female\"}, {\"body_mass_g\": 4000, \"sex\": \"male\"}, {\"body_mass_g\": 4500, \"sex\": \"female\"}, {\"body_mass_g\": 5700, \"sex\": \"male\"}, {\"body_mass_g\": 4450, \"sex\": \"female\"}, {\"body_mass_g\": 5700, \"sex\": \"male\"}, {\"body_mass_g\": 5400, \"sex\": \"male\"}, {\"body_mass_g\": 4550, \"sex\": \"female\"}, {\"body_mass_g\": 4800, \"sex\": \"female\"}, {\"body_mass_g\": 5200, \"sex\": \"male\"}, {\"body_mass_g\": 4400, \"sex\": \"female\"}, {\"body_mass_g\": 5150, \"sex\": \"male\"}, {\"body_mass_g\": 4650, \"sex\": \"female\"}, {\"body_mass_g\": 5550, \"sex\": \"male\"}, {\"body_mass_g\": 4650, \"sex\": \"female\"}, {\"body_mass_g\": 5850, \"sex\": \"male\"}, {\"body_mass_g\": 4200, \"sex\": \"female\"}, {\"body_mass_g\": 5850, \"sex\": \"male\"}, {\"body_mass_g\": 4150, \"sex\": \"female\"}, {\"body_mass_g\": 6300, \"sex\": \"male\"}, {\"body_mass_g\": 4800, \"sex\": \"female\"}, {\"body_mass_g\": 5350, \"sex\": \"male\"}, {\"body_mass_g\": 5700, \"sex\": \"male\"}, {\"body_mass_g\": 5000, \"sex\": \"female\"}, {\"body_mass_g\": 4400, \"sex\": \"female\"}, {\"body_mass_g\": 5050, \"sex\": \"male\"}, {\"body_mass_g\": 5000, \"sex\": \"female\"}, {\"body_mass_g\": 5100, \"sex\": \"male\"}, {\"body_mass_g\": 5650, \"sex\": \"male\"}, {\"body_mass_g\": 4600, \"sex\": \"female\"}, {\"body_mass_g\": 5550, \"sex\": \"male\"}, {\"body_mass_g\": 5250, \"sex\": \"male\"}, {\"body_mass_g\": 4700, \"sex\": \"female\"}, {\"body_mass_g\": 5050, \"sex\": \"female\"}, {\"body_mass_g\": 6050, \"sex\": \"male\"}, {\"body_mass_g\": 5150, \"sex\": \"female\"}, {\"body_mass_g\": 5400, \"sex\": \"male\"}, {\"body_mass_g\": 4950, \"sex\": \"female\"}, {\"body_mass_g\": 5250, \"sex\": \"male\"}, {\"body_mass_g\": 4350, \"sex\": \"female\"}, {\"body_mass_g\": 5350, \"sex\": \"male\"}, {\"body_mass_g\": 3950, \"sex\": \"female\"}, {\"body_mass_g\": 5700, \"sex\": \"male\"}, {\"body_mass_g\": 4300, \"sex\": \"female\"}, {\"body_mass_g\": 4750, \"sex\": \"male\"}, {\"body_mass_g\": 5550, \"sex\": \"male\"}, {\"body_mass_g\": 4900, \"sex\": \"female\"}, {\"body_mass_g\": 4200, \"sex\": \"female\"}, {\"body_mass_g\": 5400, \"sex\": \"male\"}, {\"body_mass_g\": 5100, \"sex\": \"female\"}, {\"body_mass_g\": 5300, \"sex\": \"male\"}, {\"body_mass_g\": 4850, \"sex\": \"female\"}, {\"body_mass_g\": 5300, \"sex\": \"male\"}, {\"body_mass_g\": 4400, \"sex\": \"female\"}, {\"body_mass_g\": 5000, \"sex\": \"male\"}, {\"body_mass_g\": 4900, \"sex\": \"female\"}, {\"body_mass_g\": 5050, \"sex\": \"male\"}, {\"body_mass_g\": 4300, \"sex\": \"female\"}, {\"body_mass_g\": 5000, \"sex\": \"male\"}, {\"body_mass_g\": 4450, \"sex\": \"female\"}, {\"body_mass_g\": 5550, \"sex\": \"male\"}, {\"body_mass_g\": 4200, \"sex\": \"female\"}, {\"body_mass_g\": 5300, \"sex\": \"male\"}, {\"body_mass_g\": 4400, \"sex\": \"female\"}, {\"body_mass_g\": 5650, \"sex\": \"male\"}, {\"body_mass_g\": 4700, \"sex\": \"female\"}, {\"body_mass_g\": 5700, \"sex\": \"male\"}, {\"body_mass_g\": 5800, \"sex\": \"male\"}, {\"body_mass_g\": 4700, \"sex\": \"female\"}, {\"body_mass_g\": 5550, \"sex\": \"male\"}, {\"body_mass_g\": 4750, \"sex\": \"female\"}, {\"body_mass_g\": 5000, \"sex\": \"male\"}, {\"body_mass_g\": 5100, \"sex\": \"male\"}, {\"body_mass_g\": 5200, \"sex\": \"female\"}, {\"body_mass_g\": 4700, \"sex\": \"female\"}, {\"body_mass_g\": 5800, \"sex\": \"male\"}, {\"body_mass_g\": 4600, \"sex\": \"female\"}, {\"body_mass_g\": 6000, \"sex\": \"male\"}, {\"body_mass_g\": 4750, \"sex\": \"female\"}, {\"body_mass_g\": 5950, \"sex\": \"male\"}, {\"body_mass_g\": 4625, \"sex\": \"female\"}, {\"body_mass_g\": 5450, \"sex\": \"male\"}, {\"body_mass_g\": 4725, \"sex\": \"female\"}, {\"body_mass_g\": 5350, \"sex\": \"male\"}, {\"body_mass_g\": 4750, \"sex\": \"female\"}, {\"body_mass_g\": 5600, \"sex\": \"male\"}, {\"body_mass_g\": 4600, \"sex\": \"female\"}, {\"body_mass_g\": 5300, \"sex\": \"male\"}, {\"body_mass_g\": 4875, \"sex\": \"female\"}, {\"body_mass_g\": 5550, \"sex\": \"male\"}, {\"body_mass_g\": 4950, \"sex\": \"female\"}, {\"body_mass_g\": 5400, \"sex\": \"male\"}, {\"body_mass_g\": 4750, \"sex\": \"female\"}, {\"body_mass_g\": 5650, \"sex\": \"male\"}, {\"body_mass_g\": 4850, \"sex\": \"female\"}, {\"body_mass_g\": 5200, \"sex\": \"male\"}, {\"body_mass_g\": 4925, \"sex\": \"male\"}, {\"body_mass_g\": 4875, \"sex\": \"female\"}, {\"body_mass_g\": 4625, \"sex\": \"female\"}, {\"body_mass_g\": 5250, \"sex\": \"male\"}, {\"body_mass_g\": 4850, \"sex\": \"female\"}, {\"body_mass_g\": 5600, \"sex\": \"male\"}, {\"body_mass_g\": 4975, \"sex\": \"female\"}, {\"body_mass_g\": 5500, \"sex\": \"male\"}, {\"body_mass_g\": 5500, \"sex\": \"male\"}, {\"body_mass_g\": 4700, \"sex\": \"female\"}, {\"body_mass_g\": 5500, \"sex\": \"male\"}, {\"body_mass_g\": 4575, \"sex\": \"female\"}, {\"body_mass_g\": 5500, \"sex\": \"male\"}, {\"body_mass_g\": 5000, \"sex\": \"female\"}, {\"body_mass_g\": 5950, \"sex\": \"male\"}, {\"body_mass_g\": 4650, \"sex\": \"female\"}, {\"body_mass_g\": 5500, \"sex\": \"male\"}, {\"body_mass_g\": 4375, \"sex\": \"female\"}, {\"body_mass_g\": 5850, \"sex\": \"male\"}, {\"body_mass_g\": 6000, \"sex\": \"male\"}, {\"body_mass_g\": 4925, \"sex\": \"female\"}, {\"body_mass_g\": 4850, \"sex\": \"female\"}, {\"body_mass_g\": 5750, \"sex\": \"male\"}, {\"body_mass_g\": 5200, \"sex\": \"female\"}, {\"body_mass_g\": 5400, \"sex\": \"male\"}, {\"body_mass_g\": 3500, \"sex\": \"female\"}, {\"body_mass_g\": 3900, \"sex\": \"male\"}, {\"body_mass_g\": 3650, \"sex\": \"male\"}, {\"body_mass_g\": 3525, \"sex\": \"female\"}, {\"body_mass_g\": 3725, \"sex\": \"male\"}, {\"body_mass_g\": 3950, \"sex\": \"female\"}, {\"body_mass_g\": 3250, \"sex\": \"female\"}, {\"body_mass_g\": 3750, \"sex\": \"male\"}, {\"body_mass_g\": 4150, \"sex\": \"female\"}, {\"body_mass_g\": 3700, \"sex\": \"male\"}, {\"body_mass_g\": 3800, \"sex\": \"female\"}, {\"body_mass_g\": 3775, \"sex\": \"male\"}, {\"body_mass_g\": 3700, \"sex\": \"female\"}, {\"body_mass_g\": 4050, \"sex\": \"male\"}, {\"body_mass_g\": 3575, \"sex\": \"female\"}, {\"body_mass_g\": 4050, \"sex\": \"male\"}, {\"body_mass_g\": 3300, \"sex\": \"male\"}, {\"body_mass_g\": 3700, \"sex\": \"female\"}, {\"body_mass_g\": 3450, \"sex\": \"female\"}, {\"body_mass_g\": 4400, \"sex\": \"male\"}, {\"body_mass_g\": 3600, \"sex\": \"female\"}, {\"body_mass_g\": 3400, \"sex\": \"male\"}, {\"body_mass_g\": 2900, \"sex\": \"female\"}, {\"body_mass_g\": 3800, \"sex\": \"male\"}, {\"body_mass_g\": 3300, \"sex\": \"female\"}, {\"body_mass_g\": 4150, \"sex\": \"male\"}, {\"body_mass_g\": 3400, \"sex\": \"female\"}, {\"body_mass_g\": 3800, \"sex\": \"male\"}, {\"body_mass_g\": 3700, \"sex\": \"female\"}, {\"body_mass_g\": 4550, \"sex\": \"male\"}, {\"body_mass_g\": 3200, \"sex\": \"female\"}, {\"body_mass_g\": 4300, \"sex\": \"male\"}, {\"body_mass_g\": 3350, \"sex\": \"female\"}, {\"body_mass_g\": 4100, \"sex\": \"male\"}, {\"body_mass_g\": 3600, \"sex\": \"male\"}, {\"body_mass_g\": 3900, \"sex\": \"female\"}, {\"body_mass_g\": 3850, \"sex\": \"female\"}, {\"body_mass_g\": 4800, \"sex\": \"male\"}, {\"body_mass_g\": 2700, \"sex\": \"female\"}, {\"body_mass_g\": 4500, \"sex\": \"male\"}, {\"body_mass_g\": 3950, \"sex\": \"male\"}, {\"body_mass_g\": 3650, \"sex\": \"female\"}, {\"body_mass_g\": 3550, \"sex\": \"male\"}, {\"body_mass_g\": 3500, \"sex\": \"female\"}, {\"body_mass_g\": 3675, \"sex\": \"female\"}, {\"body_mass_g\": 4450, \"sex\": \"male\"}, {\"body_mass_g\": 3400, \"sex\": \"female\"}, {\"body_mass_g\": 4300, \"sex\": \"male\"}, {\"body_mass_g\": 3250, \"sex\": \"male\"}, {\"body_mass_g\": 3675, \"sex\": \"female\"}, {\"body_mass_g\": 3325, \"sex\": \"female\"}, {\"body_mass_g\": 3950, \"sex\": \"male\"}, {\"body_mass_g\": 3600, \"sex\": \"female\"}, {\"body_mass_g\": 4050, \"sex\": \"male\"}, {\"body_mass_g\": 3350, \"sex\": \"female\"}, {\"body_mass_g\": 3450, \"sex\": \"male\"}, {\"body_mass_g\": 3250, \"sex\": \"female\"}, {\"body_mass_g\": 4050, \"sex\": \"male\"}, {\"body_mass_g\": 3800, \"sex\": \"male\"}, {\"body_mass_g\": 3525, \"sex\": \"female\"}, {\"body_mass_g\": 3950, \"sex\": \"male\"}, {\"body_mass_g\": 3650, \"sex\": \"female\"}, {\"body_mass_g\": 3650, \"sex\": \"female\"}, {\"body_mass_g\": 4000, \"sex\": \"male\"}, {\"body_mass_g\": 3400, \"sex\": \"female\"}, {\"body_mass_g\": 3775, \"sex\": \"male\"}, {\"body_mass_g\": 4100, \"sex\": \"male\"}, {\"body_mass_g\": 3775, \"sex\": \"female\"}]}}, {\"mode\": \"vega-lite\"});\n",
       "</script>"
      ],
      "text/plain": [
       "alt.FacetChart(...)"
      ]
     },
     "execution_count": 141,
     "metadata": {},
     "output_type": "execute_result"
    }
   ],
   "source": [
    "alt.Chart(penguins_sex_num[:,(f.body_mass_g,f.sex)].to_pandas()).mark_bar().encode(alt.X('body_mass_g',bin=True),y='count()').facet('sex')"
   ]
  },
  {
   "cell_type": "code",
   "execution_count": null,
   "metadata": {},
   "outputs": [],
   "source": []
  }
 ],
 "metadata": {
  "kernelspec": {
   "display_name": "Python 3",
   "language": "python",
   "name": "python3"
  },
  "language_info": {
   "codemirror_mode": {
    "name": "ipython",
    "version": 3
   },
   "file_extension": ".py",
   "mimetype": "text/x-python",
   "name": "python",
   "nbconvert_exporter": "python",
   "pygments_lexer": "ipython3",
   "version": "3.8.3"
  }
 },
 "nbformat": 4,
 "nbformat_minor": 4
}
