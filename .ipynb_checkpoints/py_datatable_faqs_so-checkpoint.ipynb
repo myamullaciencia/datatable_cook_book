{
 "cells": [
  {
   "cell_type": "markdown",
   "metadata": {},
   "source": [
    "# py_datatable Q & A Notebook"
   ]
  },
  {
   "cell_type": "code",
   "execution_count": 41,
   "metadata": {},
   "outputs": [
    {
     "data": {
      "text/html": [
       "<style type='text/css'>\n",
       ".datatable table.frame { margin-bottom: 0; }\n",
       ".datatable table.frame thead { border-bottom: none; }\n",
       ".datatable table.frame tr.coltypes td {  color: #FFFFFF;  line-height: 6px;  padding: 0 0.5em;}\n",
       ".datatable .boolean { background: #DDDD99; }\n",
       ".datatable .object  { background: #565656; }\n",
       ".datatable .integer { background: #5D9E5D; }\n",
       ".datatable .float   { background: #4040CC; }\n",
       ".datatable .string  { background: #CC4040; }\n",
       ".datatable .row_index {  background: var(--jp-border-color3);  border-right: 1px solid var(--jp-border-color0);  color: var(--jp-ui-font-color3);  font-size: 9px;}\n",
       ".datatable .frame tr.coltypes .row_index {  background: var(--jp-border-color0);}\n",
       ".datatable th:nth-child(2) { padding-left: 12px; }\n",
       ".datatable .hellipsis {  color: var(--jp-cell-editor-border-color);}\n",
       ".datatable .vellipsis {  background: var(--jp-layout-color0);  color: var(--jp-cell-editor-border-color);}\n",
       ".datatable .na {  color: var(--jp-cell-editor-border-color);  font-size: 80%;}\n",
       ".datatable .footer { font-size: 9px; }\n",
       ".datatable .frame_dimensions {  background: var(--jp-border-color3);  border-top: 1px solid var(--jp-border-color0);  color: var(--jp-ui-font-color3);  display: inline-block;  opacity: 0.6;  padding: 1px 10px 1px 5px;}\n",
       "</style>\n"
      ],
      "text/plain": [
       "<IPython.core.display.HTML object>"
      ]
     },
     "metadata": {},
     "output_type": "display_data"
    }
   ],
   "source": [
    "# Importing the necessary libraries\n",
    "import datatable as dt\n",
    "from datatable import f,by,count,sum,update,sort\n",
    "dt.init_styles()\n",
    "dt.options.display.head_nrows=4\n",
    "dt.options.display.tail_nrows=4"
   ]
  },
  {
   "cell_type": "markdown",
   "metadata": {},
   "source": [
    "## 1. Data Manipulations"
   ]
  },
  {
   "cell_type": "markdown",
   "metadata": {},
   "source": [
    "### 1. 1 How to sort a datatable frame in descending order.?"
   ]
  },
  {
   "cell_type": "markdown",
   "metadata": {},
   "source": [
    "We have created a sample dataframe with two columns such as product(character type) and totals(numeric type) using a frame object from dt and assigned it to a variable called X."
   ]
  },
  {
   "cell_type": "code",
   "execution_count": 2,
   "metadata": {},
   "outputs": [],
   "source": [
    "X = dt.Frame(product=[\"apples\", \"spam\", \"goo\", \"bobcat\", \"gold\"], \n",
    "                 totals=[5.4, 2.777, 0.1, 2.9, 11.1])"
   ]
  },
  {
   "cell_type": "code",
   "execution_count": 3,
   "metadata": {},
   "outputs": [
    {
     "data": {
      "text/html": [
       "<div class='datatable'>\n",
       "  <table class='frame'>\n",
       "  <thead>\n",
       "    <tr class='colnames'><td class='row_index'></td><th>product</th><th>totals</th></tr>\n",
       "    <tr class='coltypes'><td class='row_index'></td><td class='string' title='str32'>&#x25AA;&#x25AA;&#x25AA;&#x25AA;</td><td class='float' title='float64'>&#x25AA;&#x25AA;&#x25AA;&#x25AA;&#x25AA;&#x25AA;&#x25AA;&#x25AA;</td></tr>\n",
       "  </thead>\n",
       "  <tbody>\n",
       "    <tr><td class='row_index'>0</td><td>apples</td><td>5.4</td></tr>\n",
       "    <tr><td class='row_index'>1</td><td>spam</td><td>2.777</td></tr>\n",
       "    <tr><td class='row_index'>2</td><td>goo</td><td>0.1</td></tr>\n",
       "    <tr><td class='row_index'>3</td><td>bobcat</td><td>2.9</td></tr>\n",
       "    <tr><td class='row_index'>4</td><td>gold</td><td>11.1</td></tr>\n",
       "  </tbody>\n",
       "  </table>\n",
       "  <div class='footer'>\n",
       "    <div class='frame_dimensions'>5 rows &times; 2 columns</div>\n",
       "  </div>\n",
       "</div>\n"
      ],
      "text/plain": [
       "<Frame [5 rows x 2 cols]>"
      ]
     },
     "execution_count": 3,
     "metadata": {},
     "output_type": "execute_result"
    }
   ],
   "source": [
    "X"
   ]
  },
  {
   "cell_type": "markdown",
   "metadata": {},
   "source": [
    "As you might have already know about the datatable syntax as below \n",
    "\n",
    "\n",
    "\n",
    "                                        DT[I,J,BY|SORT|JOIN]\n",
    "                                        \n",
    "                                       \n",
    "                                       \n",
    "                                       \n",
    "                                       \n",
    "For now look at the sort function, it takes eigther a single column or multiple columns in, and it would be applicable for character and numeric type fields\n",
    "\n",
    "\n",
    "1. In below code chunk case-1 we have passed a column totals in sort so that it arranges the data frame in ascending order considering the column(total).\n",
    "\n",
    "2. In code chunk case-2 the same column is given with appending a symbol(-) so that it arranges the data frame in descending order considering the column(total).\n",
    "\n",
    "3. In code chunk case - 3 we are trying to arrange the dataframe in ascending order of the products column"
   ]
  },
  {
   "cell_type": "code",
   "execution_count": 4,
   "metadata": {},
   "outputs": [
    {
     "data": {
      "text/html": [
       "<div class='datatable'>\n",
       "  <table class='frame'>\n",
       "  <thead>\n",
       "    <tr class='colnames'><td class='row_index'></td><th>product</th><th>totals</th></tr>\n",
       "    <tr class='coltypes'><td class='row_index'></td><td class='string' title='str32'>&#x25AA;&#x25AA;&#x25AA;&#x25AA;</td><td class='float' title='float64'>&#x25AA;&#x25AA;&#x25AA;&#x25AA;&#x25AA;&#x25AA;&#x25AA;&#x25AA;</td></tr>\n",
       "  </thead>\n",
       "  <tbody>\n",
       "    <tr><td class='row_index'>0</td><td>goo</td><td>0.1</td></tr>\n",
       "    <tr><td class='row_index'>1</td><td>spam</td><td>2.777</td></tr>\n",
       "    <tr><td class='row_index'>2</td><td>bobcat</td><td>2.9</td></tr>\n",
       "    <tr><td class='row_index'>3</td><td>apples</td><td>5.4</td></tr>\n",
       "    <tr><td class='row_index'>4</td><td>gold</td><td>11.1</td></tr>\n",
       "  </tbody>\n",
       "  </table>\n",
       "  <div class='footer'>\n",
       "    <div class='frame_dimensions'>5 rows &times; 2 columns</div>\n",
       "  </div>\n",
       "</div>\n"
      ],
      "text/plain": [
       "<Frame [5 rows x 2 cols]>"
      ]
     },
     "execution_count": 4,
     "metadata": {},
     "output_type": "execute_result"
    }
   ],
   "source": [
    "# case - 1\n",
    "X[:,:,sort(f.totals)]"
   ]
  },
  {
   "cell_type": "code",
   "execution_count": 5,
   "metadata": {},
   "outputs": [
    {
     "data": {
      "text/html": [
       "<div class='datatable'>\n",
       "  <table class='frame'>\n",
       "  <thead>\n",
       "    <tr class='colnames'><td class='row_index'></td><th>product</th><th>totals</th></tr>\n",
       "    <tr class='coltypes'><td class='row_index'></td><td class='string' title='str32'>&#x25AA;&#x25AA;&#x25AA;&#x25AA;</td><td class='float' title='float64'>&#x25AA;&#x25AA;&#x25AA;&#x25AA;&#x25AA;&#x25AA;&#x25AA;&#x25AA;</td></tr>\n",
       "  </thead>\n",
       "  <tbody>\n",
       "    <tr><td class='row_index'>0</td><td>gold</td><td>11.1</td></tr>\n",
       "    <tr><td class='row_index'>1</td><td>apples</td><td>5.4</td></tr>\n",
       "    <tr><td class='row_index'>2</td><td>bobcat</td><td>2.9</td></tr>\n",
       "    <tr><td class='row_index'>3</td><td>spam</td><td>2.777</td></tr>\n",
       "    <tr><td class='row_index'>4</td><td>goo</td><td>0.1</td></tr>\n",
       "  </tbody>\n",
       "  </table>\n",
       "  <div class='footer'>\n",
       "    <div class='frame_dimensions'>5 rows &times; 2 columns</div>\n",
       "  </div>\n",
       "</div>\n"
      ],
      "text/plain": [
       "<Frame [5 rows x 2 cols]>"
      ]
     },
     "execution_count": 5,
     "metadata": {},
     "output_type": "execute_result"
    }
   ],
   "source": [
    "# case - 2 \n",
    "X[:,:,sort(-f.totals)]"
   ]
  },
  {
   "cell_type": "code",
   "execution_count": 6,
   "metadata": {},
   "outputs": [
    {
     "data": {
      "text/html": [
       "<div class='datatable'>\n",
       "  <table class='frame'>\n",
       "  <thead>\n",
       "    <tr class='colnames'><td class='row_index'></td><th>product</th><th>totals</th></tr>\n",
       "    <tr class='coltypes'><td class='row_index'></td><td class='string' title='str32'>&#x25AA;&#x25AA;&#x25AA;&#x25AA;</td><td class='float' title='float64'>&#x25AA;&#x25AA;&#x25AA;&#x25AA;&#x25AA;&#x25AA;&#x25AA;&#x25AA;</td></tr>\n",
       "  </thead>\n",
       "  <tbody>\n",
       "    <tr><td class='row_index'>0</td><td>apples</td><td>5.4</td></tr>\n",
       "    <tr><td class='row_index'>1</td><td>bobcat</td><td>2.9</td></tr>\n",
       "    <tr><td class='row_index'>2</td><td>gold</td><td>11.1</td></tr>\n",
       "    <tr><td class='row_index'>3</td><td>goo</td><td>0.1</td></tr>\n",
       "    <tr><td class='row_index'>4</td><td>spam</td><td>2.777</td></tr>\n",
       "  </tbody>\n",
       "  </table>\n",
       "  <div class='footer'>\n",
       "    <div class='frame_dimensions'>5 rows &times; 2 columns</div>\n",
       "  </div>\n",
       "</div>\n"
      ],
      "text/plain": [
       "<Frame [5 rows x 2 cols]>"
      ]
     },
     "execution_count": 6,
     "metadata": {},
     "output_type": "execute_result"
    }
   ],
   "source": [
    "# case - 3\n",
    "X[:,:,sort(f.product)]"
   ]
  },
  {
   "cell_type": "markdown",
   "metadata": {},
   "source": [
    "Let us create a one more dataframe with repeated values of products as below"
   ]
  },
  {
   "cell_type": "code",
   "execution_count": 7,
   "metadata": {},
   "outputs": [],
   "source": [
    "X = dt.Frame(products=['apples','spam','apples','gold','spam'],\n",
    "             totals=[20,40,35,10,5])"
   ]
  },
  {
   "cell_type": "markdown",
   "metadata": {},
   "source": [
    "We are now summing off the totals per each category of products and arrange it in descending order of newly created column tot_sum"
   ]
  },
  {
   "cell_type": "code",
   "execution_count": 8,
   "metadata": {},
   "outputs": [
    {
     "data": {
      "text/html": [
       "<div class='datatable'>\n",
       "  <table class='frame'>\n",
       "  <thead>\n",
       "    <tr class='colnames'><td class='row_index'></td><th>products</th><th>tot_sum</th></tr>\n",
       "    <tr class='coltypes'><td class='row_index'></td><td class='string' title='str32'>&#x25AA;&#x25AA;&#x25AA;&#x25AA;</td><td class='integer' title='int64'>&#x25AA;&#x25AA;&#x25AA;&#x25AA;&#x25AA;&#x25AA;&#x25AA;&#x25AA;</td></tr>\n",
       "  </thead>\n",
       "  <tbody>\n",
       "    <tr><td class='row_index'>0</td><td>apples</td><td>55</td></tr>\n",
       "    <tr><td class='row_index'>1</td><td>spam</td><td>45</td></tr>\n",
       "    <tr><td class='row_index'>2</td><td>gold</td><td>10</td></tr>\n",
       "  </tbody>\n",
       "  </table>\n",
       "  <div class='footer'>\n",
       "    <div class='frame_dimensions'>3 rows &times; 2 columns</div>\n",
       "  </div>\n",
       "</div>\n"
      ],
      "text/plain": [
       "<Frame [3 rows x 2 cols]>"
      ]
     },
     "execution_count": 8,
     "metadata": {},
     "output_type": "execute_result"
    }
   ],
   "source": [
    "X[:,{'tot_sum':sum(f.totals)},by(f.products)\n",
    " ][:,:,sort(-f.tot_sum)\n",
    "  ]"
   ]
  },
  {
   "cell_type": "markdown",
   "metadata": {},
   "source": [
    "### 1.2 How to count the number of instances for each category using group by in pydatadable?"
   ]
  },
  {
   "cell_type": "markdown",
   "metadata": {},
   "source": [
    "Here is our basic syntax representation of datatable frame- \n",
    "\n",
    "\n",
    "                                        DT[I,J,BY|SORT|JOIN]"
   ]
  },
  {
   "cell_type": "markdown",
   "metadata": {},
   "source": [
    "A sample dataframe created with the column name **languages** and would like to count how many of students are interested in learning each language category using aggregations such as by along with count,min,max,mean etc etc..\n",
    "\n",
    "Yes, its correct we should use a function called **count** to caluclate the number of observations and let us see how it works below. "
   ]
  },
  {
   "cell_type": "code",
   "execution_count": 9,
   "metadata": {},
   "outputs": [],
   "source": [
    "prog_lang_dt = dt.Frame(languages= ['html', 'R', 'R', 'html', 'R', 'javascript',\n",
    "                                    'R', 'javascript', 'html'])"
   ]
  },
  {
   "cell_type": "code",
   "execution_count": 10,
   "metadata": {},
   "outputs": [
    {
     "data": {
      "text/html": [
       "<div class='datatable'>\n",
       "  <table class='frame'>\n",
       "  <thead>\n",
       "    <tr class='colnames'><td class='row_index'></td><th>languages</th></tr>\n",
       "    <tr class='coltypes'><td class='row_index'></td><td class='string' title='str32'>&#x25AA;&#x25AA;&#x25AA;&#x25AA;</td></tr>\n",
       "  </thead>\n",
       "  <tbody>\n",
       "    <tr><td class='row_index'>0</td><td>html</td></tr>\n",
       "    <tr><td class='row_index'>1</td><td>R</td></tr>\n",
       "    <tr><td class='row_index'>2</td><td>R</td></tr>\n",
       "    <tr><td class='row_index'>3</td><td>html</td></tr>\n",
       "    <tr><td class='row_index'>4</td><td>R</td></tr>\n",
       "    <tr><td class='row_index'>5</td><td>javascript</td></tr>\n",
       "    <tr><td class='row_index'>6</td><td>R</td></tr>\n",
       "    <tr><td class='row_index'>7</td><td>javascript</td></tr>\n",
       "    <tr><td class='row_index'>8</td><td>html</td></tr>\n",
       "  </tbody>\n",
       "  </table>\n",
       "  <div class='footer'>\n",
       "    <div class='frame_dimensions'>9 rows &times; 1 column</div>\n",
       "  </div>\n",
       "</div>\n"
      ],
      "text/plain": [
       "<Frame [9 rows x 1 col]>"
      ]
     },
     "execution_count": 10,
     "metadata": {},
     "output_type": "execute_result"
    }
   ],
   "source": [
    "prog_lang_dt"
   ]
  },
  {
   "cell_type": "code",
   "execution_count": 11,
   "metadata": {},
   "outputs": [
    {
     "data": {
      "text/html": [
       "<div class='datatable'>\n",
       "  <table class='frame'>\n",
       "  <thead>\n",
       "    <tr class='colnames'><td class='row_index'></td><th>languages</th><th>count</th></tr>\n",
       "    <tr class='coltypes'><td class='row_index'></td><td class='string' title='str32'>&#x25AA;&#x25AA;&#x25AA;&#x25AA;</td><td class='integer' title='int64'>&#x25AA;&#x25AA;&#x25AA;&#x25AA;&#x25AA;&#x25AA;&#x25AA;&#x25AA;</td></tr>\n",
       "  </thead>\n",
       "  <tbody>\n",
       "    <tr><td class='row_index'>0</td><td>R</td><td>4</td></tr>\n",
       "    <tr><td class='row_index'>1</td><td>html</td><td>3</td></tr>\n",
       "    <tr><td class='row_index'>2</td><td>javascript</td><td>2</td></tr>\n",
       "  </tbody>\n",
       "  </table>\n",
       "  <div class='footer'>\n",
       "    <div class='frame_dimensions'>3 rows &times; 2 columns</div>\n",
       "  </div>\n",
       "</div>\n"
      ],
      "text/plain": [
       "<Frame [3 rows x 2 cols]>"
      ]
     },
     "execution_count": 11,
     "metadata": {},
     "output_type": "execute_result"
    }
   ],
   "source": [
    "prog_lang_dt[:,count(),by(f.languages)]"
   ]
  },
  {
   "cell_type": "markdown",
   "metadata": {},
   "source": [
    "If we would like like to rename a count column as total it can be done as follows,"
   ]
  },
  {
   "cell_type": "code",
   "execution_count": 12,
   "metadata": {},
   "outputs": [
    {
     "data": {
      "text/html": [
       "<div class='datatable'>\n",
       "  <table class='frame'>\n",
       "  <thead>\n",
       "    <tr class='colnames'><td class='row_index'></td><th>languages</th><th>total</th></tr>\n",
       "    <tr class='coltypes'><td class='row_index'></td><td class='string' title='str32'>&#x25AA;&#x25AA;&#x25AA;&#x25AA;</td><td class='integer' title='int64'>&#x25AA;&#x25AA;&#x25AA;&#x25AA;&#x25AA;&#x25AA;&#x25AA;&#x25AA;</td></tr>\n",
       "  </thead>\n",
       "  <tbody>\n",
       "    <tr><td class='row_index'>0</td><td>R</td><td>4</td></tr>\n",
       "    <tr><td class='row_index'>1</td><td>html</td><td>3</td></tr>\n",
       "    <tr><td class='row_index'>2</td><td>javascript</td><td>2</td></tr>\n",
       "  </tbody>\n",
       "  </table>\n",
       "  <div class='footer'>\n",
       "    <div class='frame_dimensions'>3 rows &times; 2 columns</div>\n",
       "  </div>\n",
       "</div>\n"
      ],
      "text/plain": [
       "<Frame [3 rows x 2 cols]>"
      ]
     },
     "execution_count": 12,
     "metadata": {},
     "output_type": "execute_result"
    }
   ],
   "source": [
    "prog_lang_dt[:,{'total':count()},by(f.languages)]"
   ]
  },
  {
   "cell_type": "markdown",
   "metadata": {},
   "source": [
    "**count** can also take a column name as argument and report how many of non-missing entries in that specific column. for this example we will create a new dataframe as Y."
   ]
  },
  {
   "cell_type": "code",
   "execution_count": 13,
   "metadata": {},
   "outputs": [],
   "source": [
    "data = \"\"\"\n",
    "       id|charges|payment_method\n",
    "       634-VHG|28|Cheque\n",
    "       365-DQC|33.5|Credit card\n",
    "       264-PPR|631|--\n",
    "       845-AJO|42.3|\n",
    "       789-KPO|56.9|Bank Transfer\n",
    "       \"\"\""
   ]
  },
  {
   "cell_type": "code",
   "execution_count": 14,
   "metadata": {},
   "outputs": [],
   "source": [
    "# read the data\n",
    "Y = dt.fread(data, na_strings=['--', ''])"
   ]
  },
  {
   "cell_type": "code",
   "execution_count": 15,
   "metadata": {},
   "outputs": [
    {
     "data": {
      "text/html": [
       "<div class='datatable'>\n",
       "  <table class='frame'>\n",
       "  <thead>\n",
       "    <tr class='colnames'><td class='row_index'></td><th>payment_method</th></tr>\n",
       "    <tr class='coltypes'><td class='row_index'></td><td class='integer' title='int64'>&#x25AA;&#x25AA;&#x25AA;&#x25AA;&#x25AA;&#x25AA;&#x25AA;&#x25AA;</td></tr>\n",
       "  </thead>\n",
       "  <tbody>\n",
       "    <tr><td class='row_index'>0</td><td>3</td></tr>\n",
       "  </tbody>\n",
       "  </table>\n",
       "  <div class='footer'>\n",
       "    <div class='frame_dimensions'>1 row &times; 1 column</div>\n",
       "  </div>\n",
       "</div>\n"
      ],
      "text/plain": [
       "<Frame [1 row x 1 col]>"
      ]
     },
     "execution_count": 15,
     "metadata": {},
     "output_type": "execute_result"
    }
   ],
   "source": [
    "Y[:,count(f.payment_method)]"
   ]
  },
  {
   "cell_type": "markdown",
   "metadata": {},
   "source": [
    "Here its simpy shows the count of payment methods are 3 and the remaining 2 observations are ignored"
   ]
  },
  {
   "cell_type": "markdown",
   "metadata": {},
   "source": [
    "### 1.3 How to type cast a dataframe column in pydatatable?"
   ]
  },
  {
   "cell_type": "markdown",
   "metadata": {},
   "source": [
    "We will create a dataframe with four columns such as cust_id,sales,profit_perc, and default"
   ]
  },
  {
   "cell_type": "code",
   "execution_count": 16,
   "metadata": {},
   "outputs": [],
   "source": [
    "sales_DT = dt.Frame(\n",
    "\n",
    "    {\"cust_id\":[893232.43],\n",
    "     \n",
    "     \"sales\":[1234532],\n",
    "     \n",
    "     \"profit_perc\":['10.43'],\n",
    "     \n",
    "     \"default\":[1]\n",
    "    }\n",
    ")"
   ]
  },
  {
   "cell_type": "markdown",
   "metadata": {},
   "source": [
    "Check the each column datatype as below - "
   ]
  },
  {
   "cell_type": "code",
   "execution_count": 17,
   "metadata": {},
   "outputs": [
    {
     "data": {
      "text/plain": [
       "(stype.float64, stype.int32, stype.str32, stype.int8)"
      ]
     },
     "execution_count": 17,
     "metadata": {},
     "output_type": "execute_result"
    }
   ],
   "source": [
    "sales_DT.stypes"
   ]
  },
  {
   "cell_type": "markdown",
   "metadata": {},
   "source": [
    "Here are some key points:\n",
    "\n",
    "-  cust_id is a type of float but in general customer id should be eigther integer or string type\n",
    "\n",
    "-  sales is a type of int, it should not always be an integer and it may also be in float types\n",
    "\n",
    "-  profict_perc is a type of string, here it should be a float type\n",
    "\n",
    "-  default is a type of int and it should be a bool"
   ]
  },
  {
   "cell_type": "markdown",
   "metadata": {},
   "source": [
    "**Note** : We have a syntax to be followed when we are to converting a column datatype from one to another as below"
   ]
  },
  {
   "cell_type": "markdown",
   "metadata": {},
   "source": [
    "                           DT['Column_name']= new data type (int,floar,str,bool)"
   ]
  },
  {
   "cell_type": "markdown",
   "metadata": {},
   "source": [
    "First, we will now try to apply the above formula on conveting a column type from float(**cust_id**) to integer "
   ]
  },
  {
   "cell_type": "code",
   "execution_count": 18,
   "metadata": {},
   "outputs": [],
   "source": [
    "sales_DT['cust_id'] = int"
   ]
  },
  {
   "cell_type": "markdown",
   "metadata": {},
   "source": [
    "Here, let us verify the same whether it has become an integer type or not ?"
   ]
  },
  {
   "cell_type": "code",
   "execution_count": 19,
   "metadata": {},
   "outputs": [
    {
     "data": {
      "text/plain": [
       "(stype.int32, stype.int32, stype.str32, stype.int8)"
      ]
     },
     "execution_count": 19,
     "metadata": {},
     "output_type": "execute_result"
    }
   ],
   "source": [
    "sales_DT.stypes"
   ]
  },
  {
   "cell_type": "markdown",
   "metadata": {},
   "source": [
    "Yes, it is converted. similarily we can convert a type from int(**sales**) to float and check."
   ]
  },
  {
   "cell_type": "code",
   "execution_count": 20,
   "metadata": {},
   "outputs": [],
   "source": [
    "sales_DT['sales'] = float"
   ]
  },
  {
   "cell_type": "markdown",
   "metadata": {},
   "source": [
    "We have a column default with int type and we can have it as bool type."
   ]
  },
  {
   "cell_type": "code",
   "execution_count": 21,
   "metadata": {},
   "outputs": [],
   "source": [
    "sales_DT['default'] = bool"
   ]
  },
  {
   "cell_type": "code",
   "execution_count": 22,
   "metadata": {},
   "outputs": [
    {
     "data": {
      "text/plain": [
       "(stype.int32, stype.float64, stype.str32, stype.bool8)"
      ]
     },
     "execution_count": 22,
     "metadata": {},
     "output_type": "execute_result"
    }
   ],
   "source": [
    "sales_DT.stypes"
   ]
  },
  {
   "cell_type": "markdown",
   "metadata": {},
   "source": [
    "So far we have seen the convertions from \n",
    "\n",
    "- int to float\n",
    "- float to int \n",
    "- int to str \n",
    "- float to string \n",
    "- int to bool\n",
    "- etc etc "
   ]
  },
  {
   "cell_type": "code",
   "execution_count": 23,
   "metadata": {},
   "outputs": [
    {
     "data": {
      "text/html": [
       "<div class='datatable'>\n",
       "  <table class='frame'>\n",
       "  <thead>\n",
       "    <tr class='colnames'><td class='row_index'></td><th>cust_id</th><th>sales</th><th>profit_perc</th><th>default</th></tr>\n",
       "    <tr class='coltypes'><td class='row_index'></td><td class='integer' title='int32'>&#x25AA;&#x25AA;&#x25AA;&#x25AA;</td><td class='float' title='float64'>&#x25AA;&#x25AA;&#x25AA;&#x25AA;&#x25AA;&#x25AA;&#x25AA;&#x25AA;</td><td class='string' title='str32'>&#x25AA;&#x25AA;&#x25AA;&#x25AA;</td><td class='boolean' title='bool8'>&#x25AA;</td></tr>\n",
       "  </thead>\n",
       "  <tbody>\n",
       "    <tr><td class='row_index'>0</td><td>893232</td><td>1.23453e+06</td><td>10.43</td><td>1</td></tr>\n",
       "  </tbody>\n",
       "  </table>\n",
       "  <div class='footer'>\n",
       "    <div class='frame_dimensions'>1 row &times; 4 columns</div>\n",
       "  </div>\n",
       "</div>\n"
      ],
      "text/plain": [
       "<Frame [1 row x 4 cols]>"
      ]
     },
     "execution_count": 23,
     "metadata": {},
     "output_type": "execute_result"
    }
   ],
   "source": [
    "sales_DT"
   ]
  },
  {
   "cell_type": "markdown",
   "metadata": {},
   "source": [
    "That is OK, you have noticed or tried converting a column from string to any other types **(int,float,bool)**"
   ]
  },
  {
   "cell_type": "code",
   "execution_count": 24,
   "metadata": {},
   "outputs": [
    {
     "ename": "NotImplementedError",
     "evalue": "Unable to cast `str32` into `float64`",
     "output_type": "error",
     "traceback": [
      "\u001b[0;31m---------------------------------------------------------------------------\u001b[0m",
      "\u001b[0;31mNotImplementedError\u001b[0m                       Traceback (most recent call last)",
      "\u001b[0;32m<ipython-input-24-8ac3eb52bc29>\u001b[0m in \u001b[0;36m<module>\u001b[0;34m\u001b[0m\n\u001b[0;32m----> 1\u001b[0;31m \u001b[0msales_DT\u001b[0m\u001b[0;34m[\u001b[0m\u001b[0;34m'profit_perc'\u001b[0m\u001b[0;34m]\u001b[0m \u001b[0;34m=\u001b[0m \u001b[0mfloat\u001b[0m\u001b[0;34m\u001b[0m\u001b[0;34m\u001b[0m\u001b[0m\n\u001b[0m",
      "\u001b[0;31mNotImplementedError\u001b[0m: Unable to cast `str32` into `float64`"
     ]
    }
   ],
   "source": [
    "sales_DT['profit_perc'] = float"
   ]
  },
  {
   "cell_type": "markdown",
   "metadata": {},
   "source": [
    "**Note** : String to other type converions are not yet implemented in datatable versions till 0.10.1 and they would be surely implemented in the upcoming versions."
   ]
  },
  {
   "cell_type": "markdown",
   "metadata": {},
   "source": [
    "### 1.4 How to select columns based on their data types?"
   ]
  },
  {
   "cell_type": "markdown",
   "metadata": {},
   "source": [
    "We will import a data from a specified URL source for this example as-"
   ]
  },
  {
   "cell_type": "code",
   "execution_count": 26,
   "metadata": {},
   "outputs": [],
   "source": [
    "spotify_songs_dt = dt.fread('https://raw.githubusercontent.com/rfordatascience/tidytuesday/master/data/2020/2020-01-21/spotify_songs.csv')"
   ]
  },
  {
   "cell_type": "markdown",
   "metadata": {},
   "source": [
    "Datafram dimensions(rows,columns) can be checked as below"
   ]
  },
  {
   "cell_type": "code",
   "execution_count": 27,
   "metadata": {},
   "outputs": [
    {
     "data": {
      "text/plain": [
       "(32833, 23)"
      ]
     },
     "execution_count": 27,
     "metadata": {},
     "output_type": "execute_result"
    }
   ],
   "source": [
    "spotify_songs_dt.shape"
   ]
  },
  {
   "cell_type": "markdown",
   "metadata": {},
   "source": [
    "Spotify dataframe has come with about 32K observations and 23 columns and the columns types can be viewed as"
   ]
  },
  {
   "cell_type": "code",
   "execution_count": 28,
   "metadata": {},
   "outputs": [
    {
     "data": {
      "text/plain": [
       "(stype.str32,\n",
       " stype.str32,\n",
       " stype.str32,\n",
       " stype.int32,\n",
       " stype.str32,\n",
       " stype.str32,\n",
       " stype.str32,\n",
       " stype.str32,\n",
       " stype.str32,\n",
       " stype.str32,\n",
       " stype.str32,\n",
       " stype.float64,\n",
       " stype.float64,\n",
       " stype.int32,\n",
       " stype.float64,\n",
       " stype.bool8,\n",
       " stype.float64,\n",
       " stype.float64,\n",
       " stype.float64,\n",
       " stype.float64,\n",
       " stype.float64,\n",
       " stype.float64,\n",
       " stype.int32)"
      ]
     },
     "execution_count": 28,
     "metadata": {},
     "output_type": "execute_result"
    }
   ],
   "source": [
    "spotify_songs_dt.stypes"
   ]
  },
  {
   "cell_type": "markdown",
   "metadata": {},
   "source": [
    "We would just like to take a look at the fields which are an any  type of ( int or string or bool or float ) etc etc. let us understand how it can be achived in py-datatable. we are already familiarized with datatable I,J sytax style as below. In J would always be made use to select the columns based  on given names or indices etc etc.. The required datatypes should be entered in the J expression so that it will display the respective observations."
   ]
  },
  {
   "cell_type": "markdown",
   "metadata": {},
   "source": [
    "                                DT[:,J]"
   ]
  },
  {
   "cell_type": "markdown",
   "metadata": {},
   "source": [
    "Well, In a first attempt let us retrive the observations for all the interger columns as - "
   ]
  },
  {
   "cell_type": "code",
   "execution_count": 42,
   "metadata": {},
   "outputs": [
    {
     "data": {
      "text/html": [
       "<div class='datatable'>\n",
       "  <table class='frame'>\n",
       "  <thead>\n",
       "    <tr class='colnames'><td class='row_index'></td><th>track_popularity</th><th>key</th><th>duration_ms</th></tr>\n",
       "    <tr class='coltypes'><td class='row_index'></td><td class='integer' title='int32'>&#x25AA;&#x25AA;&#x25AA;&#x25AA;</td><td class='integer' title='int32'>&#x25AA;&#x25AA;&#x25AA;&#x25AA;</td><td class='integer' title='int32'>&#x25AA;&#x25AA;&#x25AA;&#x25AA;</td></tr>\n",
       "  </thead>\n",
       "  <tbody>\n",
       "    <tr><td class='row_index'>0</td><td>66</td><td>6</td><td>194754</td></tr>\n",
       "    <tr><td class='row_index'>1</td><td>67</td><td>11</td><td>162600</td></tr>\n",
       "    <tr><td class='row_index'>2</td><td>70</td><td>1</td><td>176616</td></tr>\n",
       "    <tr><td class='row_index'>3</td><td>60</td><td>7</td><td>169093</td></tr>\n",
       "    <tr><td class='row_index'>&#x22EE;</td><td class='hellipsis'>&#x22EE;</td><td class='hellipsis'>&#x22EE;</td><td class='hellipsis'>&#x22EE;</td></tr>\n",
       "    <tr><td class='row_index'>32,829</td><td>20</td><td>0</td><td>353120</td></tr>\n",
       "    <tr><td class='row_index'>32,830</td><td>14</td><td>6</td><td>210112</td></tr>\n",
       "    <tr><td class='row_index'>32,831</td><td>15</td><td>2</td><td>367432</td></tr>\n",
       "    <tr><td class='row_index'>32,832</td><td>27</td><td>5</td><td>337500</td></tr>\n",
       "  </tbody>\n",
       "  </table>\n",
       "  <div class='footer'>\n",
       "    <div class='frame_dimensions'>32,833 rows &times; 3 columns</div>\n",
       "  </div>\n",
       "</div>\n"
      ],
      "text/plain": [
       "<Frame [32833 rows x 3 cols]>"
      ]
     },
     "execution_count": 42,
     "metadata": {},
     "output_type": "execute_result"
    }
   ],
   "source": [
    "spotify_songs_dt[:,dt.int32]"
   ]
  },
  {
   "cell_type": "markdown",
   "metadata": {},
   "source": [
    "In a second attempt, we would like to see both float and bool type columns, and the below is the solution for it."
   ]
  },
  {
   "cell_type": "code",
   "execution_count": 43,
   "metadata": {},
   "outputs": [
    {
     "data": {
      "text/html": [
       "<div class='datatable'>\n",
       "  <table class='frame'>\n",
       "  <thead>\n",
       "    <tr class='colnames'><td class='row_index'></td><th>danceability</th><th>energy</th><th>loudness</th><th>speechiness</th><th>acousticness</th><th>instrumentalness</th><th>liveness</th><th>valence</th><th>tempo</th><th>mode</th></tr>\n",
       "    <tr class='coltypes'><td class='row_index'></td><td class='float' title='float64'>&#x25AA;&#x25AA;&#x25AA;&#x25AA;&#x25AA;&#x25AA;&#x25AA;&#x25AA;</td><td class='float' title='float64'>&#x25AA;&#x25AA;&#x25AA;&#x25AA;&#x25AA;&#x25AA;&#x25AA;&#x25AA;</td><td class='float' title='float64'>&#x25AA;&#x25AA;&#x25AA;&#x25AA;&#x25AA;&#x25AA;&#x25AA;&#x25AA;</td><td class='float' title='float64'>&#x25AA;&#x25AA;&#x25AA;&#x25AA;&#x25AA;&#x25AA;&#x25AA;&#x25AA;</td><td class='float' title='float64'>&#x25AA;&#x25AA;&#x25AA;&#x25AA;&#x25AA;&#x25AA;&#x25AA;&#x25AA;</td><td class='float' title='float64'>&#x25AA;&#x25AA;&#x25AA;&#x25AA;&#x25AA;&#x25AA;&#x25AA;&#x25AA;</td><td class='float' title='float64'>&#x25AA;&#x25AA;&#x25AA;&#x25AA;&#x25AA;&#x25AA;&#x25AA;&#x25AA;</td><td class='float' title='float64'>&#x25AA;&#x25AA;&#x25AA;&#x25AA;&#x25AA;&#x25AA;&#x25AA;&#x25AA;</td><td class='float' title='float64'>&#x25AA;&#x25AA;&#x25AA;&#x25AA;&#x25AA;&#x25AA;&#x25AA;&#x25AA;</td><td class='boolean' title='bool8'>&#x25AA;</td></tr>\n",
       "  </thead>\n",
       "  <tbody>\n",
       "    <tr><td class='row_index'>0</td><td>0.748</td><td>0.916</td><td>&minus;2.634</td><td>0.0583</td><td>0.102</td><td>0</td><td>0.0653</td><td>0.518</td><td>122.036</td><td>1</td></tr>\n",
       "    <tr><td class='row_index'>1</td><td>0.726</td><td>0.815</td><td>&minus;4.969</td><td>0.0373</td><td>0.0724</td><td>0.00421</td><td>0.357</td><td>0.693</td><td>99.972</td><td>1</td></tr>\n",
       "    <tr><td class='row_index'>2</td><td>0.675</td><td>0.931</td><td>&minus;3.432</td><td>0.0742</td><td>0.0794</td><td>2.33e-05</td><td>0.11</td><td>0.613</td><td>124.008</td><td>0</td></tr>\n",
       "    <tr><td class='row_index'>3</td><td>0.718</td><td>0.93</td><td>&minus;3.778</td><td>0.102</td><td>0.0287</td><td>9.43e-06</td><td>0.204</td><td>0.277</td><td>121.956</td><td>1</td></tr>\n",
       "    <tr><td class='row_index'>&#x22EE;</td><td class='hellipsis'>&#x22EE;</td><td class='hellipsis'>&#x22EE;</td><td class='hellipsis'>&#x22EE;</td><td class='hellipsis'>&#x22EE;</td><td class='hellipsis'>&#x22EE;</td><td class='hellipsis'>&#x22EE;</td><td class='hellipsis'>&#x22EE;</td><td class='hellipsis'>&#x22EE;</td><td class='hellipsis'>&#x22EE;</td><td class='hellipsis'>&#x22EE;</td></tr>\n",
       "    <tr><td class='row_index'>32,829</td><td>0.522</td><td>0.786</td><td>&minus;4.462</td><td>0.042</td><td>0.00171</td><td>0.00427</td><td>0.375</td><td>0.4</td><td>128.041</td><td>1</td></tr>\n",
       "    <tr><td class='row_index'>32,830</td><td>0.529</td><td>0.821</td><td>&minus;4.899</td><td>0.0481</td><td>0.108</td><td>1.11e-06</td><td>0.15</td><td>0.436</td><td>127.989</td><td>0</td></tr>\n",
       "    <tr><td class='row_index'>32,831</td><td>0.626</td><td>0.888</td><td>&minus;3.361</td><td>0.109</td><td>0.00792</td><td>0.127</td><td>0.343</td><td>0.308</td><td>128.008</td><td>1</td></tr>\n",
       "    <tr><td class='row_index'>32,832</td><td>0.603</td><td>0.884</td><td>&minus;4.571</td><td>0.0385</td><td>0.000133</td><td>0.341</td><td>0.742</td><td>0.0894</td><td>127.984</td><td>0</td></tr>\n",
       "  </tbody>\n",
       "  </table>\n",
       "  <div class='footer'>\n",
       "    <div class='frame_dimensions'>32,833 rows &times; 10 columns</div>\n",
       "  </div>\n",
       "</div>\n"
      ],
      "text/plain": [
       "<Frame [32833 rows x 10 cols]>"
      ]
     },
     "execution_count": 43,
     "metadata": {},
     "output_type": "execute_result"
    }
   ],
   "source": [
    "spotify_songs_dt[:,[dt.float64,dt.bool8]]"
   ]
  },
  {
   "cell_type": "markdown",
   "metadata": {},
   "source": [
    "So here we have learnt that if more than one type of columns are required to be selected the types should be passed in J expression using a list i.e [dt.int32,dt.str32,dt.bool8] \n",
    "\n",
    "**Note** : In above two cases we have limited the output observations for 5 only. "
   ]
  },
  {
   "cell_type": "markdown",
   "metadata": {},
   "source": [
    "### 1.5 How do deselect columns from dataframe?"
   ]
  },
  {
   "cell_type": "markdown",
   "metadata": {},
   "source": [
    "Deselecting the columns from dataframe is as important as selecting the columns. Deselection of columns can be done in J position itself specifying a function called **removed** along with the f expressions. let us look at the syntax first."
   ]
  },
  {
   "cell_type": "markdown",
   "metadata": {},
   "source": [
    "                DT[:,f[:].remove(cols to be kept a side)]"
   ]
  },
  {
   "cell_type": "markdown",
   "metadata": {},
   "source": [
    "Here is our first example - deselect a column track_id from the spotify dataframe."
   ]
  },
  {
   "cell_type": "code",
   "execution_count": 48,
   "metadata": {},
   "outputs": [
    {
     "data": {
      "text/html": [
       "<div class='datatable'>\n",
       "  <table class='frame'>\n",
       "  <thead>\n",
       "    <tr class='colnames'><td class='row_index'></td><th>track_name</th><th>track_artist</th><th>track_popularity</th><th>track_album_id</th><th>track_album_name</th><th>track_album_release_date</th><th>playlist_name</th><th>playlist_id</th><th>playlist_genre</th><th>playlist_subgenre</th><th class='vellipsis'>&hellip;</th><th>instrumentalness</th><th>liveness</th><th>valence</th><th>tempo</th><th>duration_ms</th></tr>\n",
       "    <tr class='coltypes'><td class='row_index'></td><td class='string' title='str32'>&#x25AA;&#x25AA;&#x25AA;&#x25AA;</td><td class='string' title='str32'>&#x25AA;&#x25AA;&#x25AA;&#x25AA;</td><td class='integer' title='int32'>&#x25AA;&#x25AA;&#x25AA;&#x25AA;</td><td class='string' title='str32'>&#x25AA;&#x25AA;&#x25AA;&#x25AA;</td><td class='string' title='str32'>&#x25AA;&#x25AA;&#x25AA;&#x25AA;</td><td class='string' title='str32'>&#x25AA;&#x25AA;&#x25AA;&#x25AA;</td><td class='string' title='str32'>&#x25AA;&#x25AA;&#x25AA;&#x25AA;</td><td class='string' title='str32'>&#x25AA;&#x25AA;&#x25AA;&#x25AA;</td><td class='string' title='str32'>&#x25AA;&#x25AA;&#x25AA;&#x25AA;</td><td class='string' title='str32'>&#x25AA;&#x25AA;&#x25AA;&#x25AA;</td><td></td><td class='float' title='float64'>&#x25AA;&#x25AA;&#x25AA;&#x25AA;&#x25AA;&#x25AA;&#x25AA;&#x25AA;</td><td class='float' title='float64'>&#x25AA;&#x25AA;&#x25AA;&#x25AA;&#x25AA;&#x25AA;&#x25AA;&#x25AA;</td><td class='float' title='float64'>&#x25AA;&#x25AA;&#x25AA;&#x25AA;&#x25AA;&#x25AA;&#x25AA;&#x25AA;</td><td class='float' title='float64'>&#x25AA;&#x25AA;&#x25AA;&#x25AA;&#x25AA;&#x25AA;&#x25AA;&#x25AA;</td><td class='integer' title='int32'>&#x25AA;&#x25AA;&#x25AA;&#x25AA;</td></tr>\n",
       "  </thead>\n",
       "  <tbody>\n",
       "    <tr><td class='row_index'>0</td><td>I Don't Care (with Justin Bieber) - Loud Luxury Re&#133;</td><td>Ed Sheeran</td><td>66</td><td>2oCs0DGTsRO98Gh5ZSl2Cx</td><td>I Don't Care (with Justin Bieber) [Loud Luxury Rem&#133;</td><td>2019-06-14</td><td>Pop Remix</td><td>37i9dQZF1DXcZDD7cfEKhW</td><td>pop</td><td>dance pop</td><td class=vellipsis>&hellip;</td><td>0</td><td>0.0653</td><td>0.518</td><td>122.036</td><td>194754</td></tr>\n",
       "    <tr><td class='row_index'>1</td><td>Memories - Dillon Francis Remix</td><td>Maroon 5</td><td>67</td><td>63rPSO264uRjW1X5E6cWv6</td><td>Memories (Dillon Francis Remix)</td><td>2019-12-13</td><td>Pop Remix</td><td>37i9dQZF1DXcZDD7cfEKhW</td><td>pop</td><td>dance pop</td><td class=vellipsis>&hellip;</td><td>0.00421</td><td>0.357</td><td>0.693</td><td>99.972</td><td>162600</td></tr>\n",
       "    <tr><td class='row_index'>2</td><td>All the Time - Don Diablo Remix</td><td>Zara Larsson</td><td>70</td><td>1HoSmj2eLcsrR0vE9gThr4</td><td>All the Time (Don Diablo Remix)</td><td>2019-07-05</td><td>Pop Remix</td><td>37i9dQZF1DXcZDD7cfEKhW</td><td>pop</td><td>dance pop</td><td class=vellipsis>&hellip;</td><td>2.33e-05</td><td>0.11</td><td>0.613</td><td>124.008</td><td>176616</td></tr>\n",
       "    <tr><td class='row_index'>3</td><td>Call You Mine - Keanu Silva Remix</td><td>The Chainsmokers</td><td>60</td><td>1nqYsOef1yKKuGOVchbsk6</td><td>Call You Mine - The Remixes</td><td>2019-07-19</td><td>Pop Remix</td><td>37i9dQZF1DXcZDD7cfEKhW</td><td>pop</td><td>dance pop</td><td class=vellipsis>&hellip;</td><td>9.43e-06</td><td>0.204</td><td>0.277</td><td>121.956</td><td>169093</td></tr>\n",
       "    <tr><td class='row_index'>&#x22EE;</td><td class='hellipsis'>&#x22EE;</td><td class='hellipsis'>&#x22EE;</td><td class='hellipsis'>&#x22EE;</td><td class='hellipsis'>&#x22EE;</td><td class='hellipsis'>&#x22EE;</td><td class='hellipsis'>&#x22EE;</td><td class='hellipsis'>&#x22EE;</td><td class='hellipsis'>&#x22EE;</td><td class='hellipsis'>&#x22EE;</td><td class='hellipsis'>&#x22EE;</td><td class='hellipsis'>&#x22F1;</td><td class='hellipsis'>&#x22EE;</td><td class='hellipsis'>&#x22EE;</td><td class='hellipsis'>&#x22EE;</td><td class='hellipsis'>&#x22EE;</td><td class='hellipsis'>&#x22EE;</td></tr>\n",
       "    <tr><td class='row_index'>32,829</td><td>Closer - Sultan &amp; Ned Shepard Remix</td><td>Tegan and Sara</td><td>20</td><td>6kD6KLxj7s8eCE3ABvAyf5</td><td>Closer Remixed</td><td>2013-03-08</td><td>♥ EDM LOVE 2020</td><td>6jI1gFr6ANFtT8MmTvA2Ux</td><td>edm</td><td>progressive electro house</td><td class=vellipsis>&hellip;</td><td>0.00427</td><td>0.375</td><td>0.4</td><td>128.041</td><td>353120</td></tr>\n",
       "    <tr><td class='row_index'>32,830</td><td>Sweet Surrender - Radio Edit</td><td>Starkillers</td><td>14</td><td>0ltWNSY9JgxoIZO4VzuCa6</td><td>Sweet Surrender (Radio Edit)</td><td>2014-04-21</td><td>♥ EDM LOVE 2020</td><td>6jI1gFr6ANFtT8MmTvA2Ux</td><td>edm</td><td>progressive electro house</td><td class=vellipsis>&hellip;</td><td>1.11e-06</td><td>0.15</td><td>0.436</td><td>127.989</td><td>210112</td></tr>\n",
       "    <tr><td class='row_index'>32,831</td><td>Only For You - Maor Levi Remix</td><td>Mat Zo</td><td>15</td><td>1fGrOkHnHJcStl14zNx8Jy</td><td>Only For You (Remixes)</td><td>2014-01-01</td><td>♥ EDM LOVE 2020</td><td>6jI1gFr6ANFtT8MmTvA2Ux</td><td>edm</td><td>progressive electro house</td><td class=vellipsis>&hellip;</td><td>0.127</td><td>0.343</td><td>0.308</td><td>128.008</td><td>367432</td></tr>\n",
       "    <tr><td class='row_index'>32,832</td><td>Typhoon - Original Mix</td><td>Julian Calor</td><td>27</td><td>0X3mUOm6MhxR7PzxG95rAo</td><td>Typhoon/Storm</td><td>2014-03-03</td><td>♥ EDM LOVE 2020</td><td>6jI1gFr6ANFtT8MmTvA2Ux</td><td>edm</td><td>progressive electro house</td><td class=vellipsis>&hellip;</td><td>0.341</td><td>0.742</td><td>0.0894</td><td>127.984</td><td>337500</td></tr>\n",
       "  </tbody>\n",
       "  </table>\n",
       "  <div class='footer'>\n",
       "    <div class='frame_dimensions'>32,833 rows &times; 22 columns</div>\n",
       "  </div>\n",
       "</div>\n"
      ],
      "text/plain": [
       "<Frame [32833 rows x 22 cols]>"
      ]
     },
     "execution_count": 48,
     "metadata": {},
     "output_type": "execute_result"
    }
   ],
   "source": [
    "spotify_songs_dt[:,f[:].remove(f.track_id)]"
   ]
  },
  {
   "cell_type": "markdown",
   "metadata": {},
   "source": [
    "In a second case - deselect these four columns(track_album_id,track_album_name,playlist_name,playlist_genre) from spotify dataframe - "
   ]
  },
  {
   "cell_type": "code",
   "execution_count": 47,
   "metadata": {},
   "outputs": [
    {
     "data": {
      "text/html": [
       "<div class='datatable'>\n",
       "  <table class='frame'>\n",
       "  <thead>\n",
       "    <tr class='colnames'><td class='row_index'></td><th>track_id</th><th>track_name</th><th>track_artist</th><th>track_popularity</th><th>track_album_release_date</th><th>playlist_id</th><th>playlist_subgenre</th><th>danceability</th><th>energy</th><th>key</th><th class='vellipsis'>&hellip;</th><th>instrumentalness</th><th>liveness</th><th>valence</th><th>tempo</th><th>duration_ms</th></tr>\n",
       "    <tr class='coltypes'><td class='row_index'></td><td class='string' title='str32'>&#x25AA;&#x25AA;&#x25AA;&#x25AA;</td><td class='string' title='str32'>&#x25AA;&#x25AA;&#x25AA;&#x25AA;</td><td class='string' title='str32'>&#x25AA;&#x25AA;&#x25AA;&#x25AA;</td><td class='integer' title='int32'>&#x25AA;&#x25AA;&#x25AA;&#x25AA;</td><td class='string' title='str32'>&#x25AA;&#x25AA;&#x25AA;&#x25AA;</td><td class='string' title='str32'>&#x25AA;&#x25AA;&#x25AA;&#x25AA;</td><td class='string' title='str32'>&#x25AA;&#x25AA;&#x25AA;&#x25AA;</td><td class='float' title='float64'>&#x25AA;&#x25AA;&#x25AA;&#x25AA;&#x25AA;&#x25AA;&#x25AA;&#x25AA;</td><td class='float' title='float64'>&#x25AA;&#x25AA;&#x25AA;&#x25AA;&#x25AA;&#x25AA;&#x25AA;&#x25AA;</td><td class='integer' title='int32'>&#x25AA;&#x25AA;&#x25AA;&#x25AA;</td><td></td><td class='float' title='float64'>&#x25AA;&#x25AA;&#x25AA;&#x25AA;&#x25AA;&#x25AA;&#x25AA;&#x25AA;</td><td class='float' title='float64'>&#x25AA;&#x25AA;&#x25AA;&#x25AA;&#x25AA;&#x25AA;&#x25AA;&#x25AA;</td><td class='float' title='float64'>&#x25AA;&#x25AA;&#x25AA;&#x25AA;&#x25AA;&#x25AA;&#x25AA;&#x25AA;</td><td class='float' title='float64'>&#x25AA;&#x25AA;&#x25AA;&#x25AA;&#x25AA;&#x25AA;&#x25AA;&#x25AA;</td><td class='integer' title='int32'>&#x25AA;&#x25AA;&#x25AA;&#x25AA;</td></tr>\n",
       "  </thead>\n",
       "  <tbody>\n",
       "    <tr><td class='row_index'>0</td><td>6f807x0ima9a1j3VPbc7VN</td><td>I Don't Care (with Justin Bieber) - Loud Luxury Re&#133;</td><td>Ed Sheeran</td><td>66</td><td>2019-06-14</td><td>37i9dQZF1DXcZDD7cfEKhW</td><td>dance pop</td><td>0.748</td><td>0.916</td><td>6</td><td class=vellipsis>&hellip;</td><td>0</td><td>0.0653</td><td>0.518</td><td>122.036</td><td>194754</td></tr>\n",
       "    <tr><td class='row_index'>1</td><td>0r7CVbZTWZgbTCYdfa2P31</td><td>Memories - Dillon Francis Remix</td><td>Maroon 5</td><td>67</td><td>2019-12-13</td><td>37i9dQZF1DXcZDD7cfEKhW</td><td>dance pop</td><td>0.726</td><td>0.815</td><td>11</td><td class=vellipsis>&hellip;</td><td>0.00421</td><td>0.357</td><td>0.693</td><td>99.972</td><td>162600</td></tr>\n",
       "    <tr><td class='row_index'>2</td><td>1z1Hg7Vb0AhHDiEmnDE79l</td><td>All the Time - Don Diablo Remix</td><td>Zara Larsson</td><td>70</td><td>2019-07-05</td><td>37i9dQZF1DXcZDD7cfEKhW</td><td>dance pop</td><td>0.675</td><td>0.931</td><td>1</td><td class=vellipsis>&hellip;</td><td>2.33e-05</td><td>0.11</td><td>0.613</td><td>124.008</td><td>176616</td></tr>\n",
       "    <tr><td class='row_index'>3</td><td>75FpbthrwQmzHlBJLuGdC7</td><td>Call You Mine - Keanu Silva Remix</td><td>The Chainsmokers</td><td>60</td><td>2019-07-19</td><td>37i9dQZF1DXcZDD7cfEKhW</td><td>dance pop</td><td>0.718</td><td>0.93</td><td>7</td><td class=vellipsis>&hellip;</td><td>9.43e-06</td><td>0.204</td><td>0.277</td><td>121.956</td><td>169093</td></tr>\n",
       "    <tr><td class='row_index'>&#x22EE;</td><td class='hellipsis'>&#x22EE;</td><td class='hellipsis'>&#x22EE;</td><td class='hellipsis'>&#x22EE;</td><td class='hellipsis'>&#x22EE;</td><td class='hellipsis'>&#x22EE;</td><td class='hellipsis'>&#x22EE;</td><td class='hellipsis'>&#x22EE;</td><td class='hellipsis'>&#x22EE;</td><td class='hellipsis'>&#x22EE;</td><td class='hellipsis'>&#x22EE;</td><td class='hellipsis'>&#x22F1;</td><td class='hellipsis'>&#x22EE;</td><td class='hellipsis'>&#x22EE;</td><td class='hellipsis'>&#x22EE;</td><td class='hellipsis'>&#x22EE;</td><td class='hellipsis'>&#x22EE;</td></tr>\n",
       "    <tr><td class='row_index'>32,829</td><td>5Aevni09Em4575077nkWHz</td><td>Closer - Sultan &amp; Ned Shepard Remix</td><td>Tegan and Sara</td><td>20</td><td>2013-03-08</td><td>6jI1gFr6ANFtT8MmTvA2Ux</td><td>progressive electro house</td><td>0.522</td><td>0.786</td><td>0</td><td class=vellipsis>&hellip;</td><td>0.00427</td><td>0.375</td><td>0.4</td><td>128.041</td><td>353120</td></tr>\n",
       "    <tr><td class='row_index'>32,830</td><td>7ImMqPP3Q1yfUHvsdn7wEo</td><td>Sweet Surrender - Radio Edit</td><td>Starkillers</td><td>14</td><td>2014-04-21</td><td>6jI1gFr6ANFtT8MmTvA2Ux</td><td>progressive electro house</td><td>0.529</td><td>0.821</td><td>6</td><td class=vellipsis>&hellip;</td><td>1.11e-06</td><td>0.15</td><td>0.436</td><td>127.989</td><td>210112</td></tr>\n",
       "    <tr><td class='row_index'>32,831</td><td>2m69mhnfQ1Oq6lGtXuYhgX</td><td>Only For You - Maor Levi Remix</td><td>Mat Zo</td><td>15</td><td>2014-01-01</td><td>6jI1gFr6ANFtT8MmTvA2Ux</td><td>progressive electro house</td><td>0.626</td><td>0.888</td><td>2</td><td class=vellipsis>&hellip;</td><td>0.127</td><td>0.343</td><td>0.308</td><td>128.008</td><td>367432</td></tr>\n",
       "    <tr><td class='row_index'>32,832</td><td>29zWqhca3zt5NsckZqDf6c</td><td>Typhoon - Original Mix</td><td>Julian Calor</td><td>27</td><td>2014-03-03</td><td>6jI1gFr6ANFtT8MmTvA2Ux</td><td>progressive electro house</td><td>0.603</td><td>0.884</td><td>5</td><td class=vellipsis>&hellip;</td><td>0.341</td><td>0.742</td><td>0.0894</td><td>127.984</td><td>337500</td></tr>\n",
       "  </tbody>\n",
       "  </table>\n",
       "  <div class='footer'>\n",
       "    <div class='frame_dimensions'>32,833 rows &times; 19 columns</div>\n",
       "  </div>\n",
       "</div>\n"
      ],
      "text/plain": [
       "<Frame [32833 rows x 19 cols]>"
      ]
     },
     "execution_count": 47,
     "metadata": {},
     "output_type": "execute_result"
    }
   ],
   "source": [
    "spotify_songs_dt[:,f[:].remove([f.track_album_id,f.track_album_name,f.playlist_name,f.playlist_genre])]"
   ]
  },
  {
   "cell_type": "markdown",
   "metadata": {},
   "source": [
    "Here we have given a column names in a list and let us understand the anotomy of this syntax. \n",
    "\n",
    "- f[:]: it selects all the columns\n",
    "\n",
    "- f[:].remove([f.x,f.y,f.z]) will deselect these three columns from others\n",
    "\n"
   ]
  },
  {
   "cell_type": "markdown",
   "metadata": {},
   "source": [
    "What if our requirement is based on a type of column, of course it can also be achived with the same syntax as follows. and here we are deselecting all the string type columns from spotify dataframe."
   ]
  },
  {
   "cell_type": "code",
   "execution_count": 51,
   "metadata": {},
   "outputs": [
    {
     "data": {
      "text/html": [
       "<div class='datatable'>\n",
       "  <table class='frame'>\n",
       "  <thead>\n",
       "    <tr class='colnames'><td class='row_index'></td><th>track_popularity</th><th>danceability</th><th>energy</th><th>key</th><th>loudness</th><th>mode</th><th>speechiness</th><th>acousticness</th><th>instrumentalness</th><th>liveness</th><th>valence</th><th>tempo</th><th>duration_ms</th></tr>\n",
       "    <tr class='coltypes'><td class='row_index'></td><td class='integer' title='int32'>&#x25AA;&#x25AA;&#x25AA;&#x25AA;</td><td class='float' title='float64'>&#x25AA;&#x25AA;&#x25AA;&#x25AA;&#x25AA;&#x25AA;&#x25AA;&#x25AA;</td><td class='float' title='float64'>&#x25AA;&#x25AA;&#x25AA;&#x25AA;&#x25AA;&#x25AA;&#x25AA;&#x25AA;</td><td class='integer' title='int32'>&#x25AA;&#x25AA;&#x25AA;&#x25AA;</td><td class='float' title='float64'>&#x25AA;&#x25AA;&#x25AA;&#x25AA;&#x25AA;&#x25AA;&#x25AA;&#x25AA;</td><td class='boolean' title='bool8'>&#x25AA;</td><td class='float' title='float64'>&#x25AA;&#x25AA;&#x25AA;&#x25AA;&#x25AA;&#x25AA;&#x25AA;&#x25AA;</td><td class='float' title='float64'>&#x25AA;&#x25AA;&#x25AA;&#x25AA;&#x25AA;&#x25AA;&#x25AA;&#x25AA;</td><td class='float' title='float64'>&#x25AA;&#x25AA;&#x25AA;&#x25AA;&#x25AA;&#x25AA;&#x25AA;&#x25AA;</td><td class='float' title='float64'>&#x25AA;&#x25AA;&#x25AA;&#x25AA;&#x25AA;&#x25AA;&#x25AA;&#x25AA;</td><td class='float' title='float64'>&#x25AA;&#x25AA;&#x25AA;&#x25AA;&#x25AA;&#x25AA;&#x25AA;&#x25AA;</td><td class='float' title='float64'>&#x25AA;&#x25AA;&#x25AA;&#x25AA;&#x25AA;&#x25AA;&#x25AA;&#x25AA;</td><td class='integer' title='int32'>&#x25AA;&#x25AA;&#x25AA;&#x25AA;</td></tr>\n",
       "  </thead>\n",
       "  <tbody>\n",
       "    <tr><td class='row_index'>0</td><td>66</td><td>0.748</td><td>0.916</td><td>6</td><td>&minus;2.634</td><td>1</td><td>0.0583</td><td>0.102</td><td>0</td><td>0.0653</td><td>0.518</td><td>122.036</td><td>194754</td></tr>\n",
       "    <tr><td class='row_index'>1</td><td>67</td><td>0.726</td><td>0.815</td><td>11</td><td>&minus;4.969</td><td>1</td><td>0.0373</td><td>0.0724</td><td>0.00421</td><td>0.357</td><td>0.693</td><td>99.972</td><td>162600</td></tr>\n",
       "    <tr><td class='row_index'>2</td><td>70</td><td>0.675</td><td>0.931</td><td>1</td><td>&minus;3.432</td><td>0</td><td>0.0742</td><td>0.0794</td><td>2.33e-05</td><td>0.11</td><td>0.613</td><td>124.008</td><td>176616</td></tr>\n",
       "    <tr><td class='row_index'>3</td><td>60</td><td>0.718</td><td>0.93</td><td>7</td><td>&minus;3.778</td><td>1</td><td>0.102</td><td>0.0287</td><td>9.43e-06</td><td>0.204</td><td>0.277</td><td>121.956</td><td>169093</td></tr>\n",
       "    <tr><td class='row_index'>&#x22EE;</td><td class='hellipsis'>&#x22EE;</td><td class='hellipsis'>&#x22EE;</td><td class='hellipsis'>&#x22EE;</td><td class='hellipsis'>&#x22EE;</td><td class='hellipsis'>&#x22EE;</td><td class='hellipsis'>&#x22EE;</td><td class='hellipsis'>&#x22EE;</td><td class='hellipsis'>&#x22EE;</td><td class='hellipsis'>&#x22EE;</td><td class='hellipsis'>&#x22EE;</td><td class='hellipsis'>&#x22EE;</td><td class='hellipsis'>&#x22EE;</td><td class='hellipsis'>&#x22EE;</td></tr>\n",
       "    <tr><td class='row_index'>32,829</td><td>20</td><td>0.522</td><td>0.786</td><td>0</td><td>&minus;4.462</td><td>1</td><td>0.042</td><td>0.00171</td><td>0.00427</td><td>0.375</td><td>0.4</td><td>128.041</td><td>353120</td></tr>\n",
       "    <tr><td class='row_index'>32,830</td><td>14</td><td>0.529</td><td>0.821</td><td>6</td><td>&minus;4.899</td><td>0</td><td>0.0481</td><td>0.108</td><td>1.11e-06</td><td>0.15</td><td>0.436</td><td>127.989</td><td>210112</td></tr>\n",
       "    <tr><td class='row_index'>32,831</td><td>15</td><td>0.626</td><td>0.888</td><td>2</td><td>&minus;3.361</td><td>1</td><td>0.109</td><td>0.00792</td><td>0.127</td><td>0.343</td><td>0.308</td><td>128.008</td><td>367432</td></tr>\n",
       "    <tr><td class='row_index'>32,832</td><td>27</td><td>0.603</td><td>0.884</td><td>5</td><td>&minus;4.571</td><td>0</td><td>0.0385</td><td>0.000133</td><td>0.341</td><td>0.742</td><td>0.0894</td><td>127.984</td><td>337500</td></tr>\n",
       "  </tbody>\n",
       "  </table>\n",
       "  <div class='footer'>\n",
       "    <div class='frame_dimensions'>32,833 rows &times; 13 columns</div>\n",
       "  </div>\n",
       "</div>\n"
      ],
      "text/plain": [
       "<Frame [32833 rows x 13 cols]>"
      ]
     },
     "execution_count": 51,
     "metadata": {},
     "output_type": "execute_result"
    }
   ],
   "source": [
    "spotify_songs_dt[:,f[:].remove(f[dt.str32])]"
   ]
  },
  {
   "cell_type": "code",
   "execution_count": null,
   "metadata": {},
   "outputs": [],
   "source": []
  }
 ],
 "metadata": {
  "kernelspec": {
   "display_name": "Python 3",
   "language": "python",
   "name": "python3"
  },
  "language_info": {
   "codemirror_mode": {
    "name": "ipython",
    "version": 3
   },
   "file_extension": ".py",
   "mimetype": "text/x-python",
   "name": "python",
   "nbconvert_exporter": "python",
   "pygments_lexer": "ipython3",
   "version": "3.8.3"
  }
 },
 "nbformat": 4,
 "nbformat_minor": 4
}
