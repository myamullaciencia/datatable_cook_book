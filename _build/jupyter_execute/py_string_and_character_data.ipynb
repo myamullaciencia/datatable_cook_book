{
 "cells": [
  {
   "cell_type": "markdown",
   "metadata": {
    "colab_type": "text",
    "id": "zoWqQi0lh2NF"
   },
   "source": [
    "# Python String and Character data "
   ]
  },
  {
   "cell_type": "markdown",
   "metadata": {
    "colab_type": "text",
    "id": "VNqFYFZRiB6J"
   },
   "source": [
    "### 1.1 Basic string operations"
   ]
  },
  {
   "cell_type": "code",
   "execution_count": 1,
   "metadata": {
    "colab": {},
    "colab_type": "code",
    "executionInfo": {
     "elapsed": 1322,
     "status": "ok",
     "timestamp": 1599983113361,
     "user": {
      "displayName": "mallesham yamulla",
      "photoUrl": "",
      "userId": "11771077001880697028"
     },
     "user_tz": -330
    },
    "id": "QjmCR1IThHZx"
   },
   "outputs": [],
   "source": [
    "text_1 = 'hola'\n",
    "text_2 = 'como estas'\n",
    "text_3 = 'no hay camino se hace al andar'"
   ]
  },
  {
   "cell_type": "code",
   "execution_count": 2,
   "metadata": {
    "colab": {
     "base_uri": "https://localhost:8080/",
     "height": 35
    },
    "colab_type": "code",
    "executionInfo": {
     "elapsed": 715,
     "status": "ok",
     "timestamp": 1599983141216,
     "user": {
      "displayName": "mallesham yamulla",
      "photoUrl": "",
      "userId": "11771077001880697028"
     },
     "user_tz": -330
    },
    "id": "OdUYLq9AbM8H",
    "outputId": "94e5b0ca-350c-4a6d-a716-3fa781081ad0"
   },
   "outputs": [
    {
     "data": {
      "text/plain": [
       "'holacomo estas'"
      ]
     },
     "execution_count": 2,
     "metadata": {},
     "output_type": "execute_result"
    }
   ],
   "source": [
    "# adding two strings\n",
    "text_1 + text_2"
   ]
  },
  {
   "cell_type": "code",
   "execution_count": 3,
   "metadata": {
    "colab": {
     "base_uri": "https://localhost:8080/",
     "height": 35
    },
    "colab_type": "code",
    "executionInfo": {
     "elapsed": 1104,
     "status": "ok",
     "timestamp": 1599983176643,
     "user": {
      "displayName": "mallesham yamulla",
      "photoUrl": "",
      "userId": "11771077001880697028"
     },
     "user_tz": -330
    },
    "id": "oUffsmTubTuu",
    "outputId": "07fa547d-5d96-44af-8b5e-9872b7694996"
   },
   "outputs": [
    {
     "data": {
      "text/plain": [
       "'holaholahola'"
      ]
     },
     "execution_count": 3,
     "metadata": {},
     "output_type": "execute_result"
    }
   ],
   "source": [
    "# repeat the string for a nu.of times\n",
    "text_1 * 3"
   ]
  },
  {
   "cell_type": "code",
   "execution_count": 4,
   "metadata": {
    "colab": {
     "base_uri": "https://localhost:8080/",
     "height": 35
    },
    "colab_type": "code",
    "executionInfo": {
     "elapsed": 1049,
     "status": "ok",
     "timestamp": 1599983206531,
     "user": {
      "displayName": "mallesham yamulla",
      "photoUrl": "",
      "userId": "11771077001880697028"
     },
     "user_tz": -330
    },
    "id": "z6xYBjXUbcco",
    "outputId": "d7664b1d-689b-4ab7-c1e2-1b572f914f48"
   },
   "outputs": [
    {
     "data": {
      "text/plain": [
       "''"
      ]
     },
     "execution_count": 4,
     "metadata": {},
     "output_type": "execute_result"
    }
   ],
   "source": [
    "# is is OK to give negative number?\n",
    "text_1 * -3"
   ]
  },
  {
   "cell_type": "code",
   "execution_count": 5,
   "metadata": {
    "colab": {
     "base_uri": "https://localhost:8080/",
     "height": 34
    },
    "colab_type": "code",
    "executionInfo": {
     "elapsed": 1368,
     "status": "ok",
     "timestamp": 1599983243610,
     "user": {
      "displayName": "mallesham yamulla",
      "photoUrl": "",
      "userId": "11771077001880697028"
     },
     "user_tz": -330
    },
    "id": "8OzgXnUkbjwi",
    "outputId": "0242ec86-5414-4c1c-ea96-0f58cc4898d2"
   },
   "outputs": [
    {
     "data": {
      "text/plain": [
       "True"
      ]
     },
     "execution_count": 5,
     "metadata": {},
     "output_type": "execute_result"
    }
   ],
   "source": [
    "# How to check a word in a given text\n",
    "'camino' in text_3"
   ]
  },
  {
   "cell_type": "code",
   "execution_count": 6,
   "metadata": {
    "colab": {
     "base_uri": "https://localhost:8080/",
     "height": 34
    },
    "colab_type": "code",
    "executionInfo": {
     "elapsed": 3288,
     "status": "ok",
     "timestamp": 1599983421178,
     "user": {
      "displayName": "mallesham yamulla",
      "photoUrl": "",
      "userId": "11771077001880697028"
     },
     "user_tz": -330
    },
    "id": "ZsQ1yvggcQix",
    "outputId": "45fd6226-3648-4e1d-cb79-1c36333ece96"
   },
   "outputs": [
    {
     "data": {
      "text/plain": [
       "True"
      ]
     },
     "execution_count": 6,
     "metadata": {},
     "output_type": "execute_result"
    }
   ],
   "source": [
    "# how to check a word not in text\n",
    "'caminar' not in text_3"
   ]
  },
  {
   "cell_type": "code",
   "execution_count": 7,
   "metadata": {
    "colab": {
     "base_uri": "https://localhost:8080/",
     "height": 35
    },
    "colab_type": "code",
    "executionInfo": {
     "elapsed": 2599,
     "status": "ok",
     "timestamp": 1599983337614,
     "user": {
      "displayName": "mallesham yamulla",
      "photoUrl": "",
      "userId": "11771077001880697028"
     },
     "user_tz": -330
    },
    "id": "wT4k2h4tbsvI",
    "outputId": "a4f12247-e601-48a1-e433-383064da557d"
   },
   "outputs": [
    {
     "data": {
      "text/plain": [
       "'hola,como estas'"
      ]
     },
     "execution_count": 7,
     "metadata": {},
     "output_type": "execute_result"
    }
   ],
   "source": [
    "# join two strings\n",
    "','.join([text_1,text_2])"
   ]
  },
  {
   "cell_type": "code",
   "execution_count": 8,
   "metadata": {
    "colab": {
     "base_uri": "https://localhost:8080/",
     "height": 35
    },
    "colab_type": "code",
    "executionInfo": {
     "elapsed": 908,
     "status": "ok",
     "timestamp": 1599983560509,
     "user": {
      "displayName": "mallesham yamulla",
      "photoUrl": "",
      "userId": "11771077001880697028"
     },
     "user_tz": -330
    },
    "id": "YOrvC29ucAtd",
    "outputId": "151cbdb2-15ef-4978-d1e9-2e6bfc18f852"
   },
   "outputs": [
    {
     "data": {
      "text/plain": [
       "';'"
      ]
     },
     "execution_count": 8,
     "metadata": {},
     "output_type": "execute_result"
    }
   ],
   "source": [
    "# Convert an integer to string\n",
    "num_1 = 59\n",
    "chr(num_1)"
   ]
  },
  {
   "cell_type": "code",
   "execution_count": 9,
   "metadata": {
    "colab": {
     "base_uri": "https://localhost:8080/",
     "height": 34
    },
    "colab_type": "code",
    "executionInfo": {
     "elapsed": 1069,
     "status": "ok",
     "timestamp": 1599983597363,
     "user": {
      "displayName": "mallesham yamulla",
      "photoUrl": "",
      "userId": "11771077001880697028"
     },
     "user_tz": -330
    },
    "id": "BdkE5Ih2ciU0",
    "outputId": "a553a672-9eaf-498e-a640-0dc86841c93a"
   },
   "outputs": [
    {
     "data": {
      "text/plain": [
       "59"
      ]
     },
     "execution_count": 9,
     "metadata": {},
     "output_type": "execute_result"
    }
   ],
   "source": [
    "# convert a string to integer\n",
    "ord(';')"
   ]
  },
  {
   "cell_type": "code",
   "execution_count": 10,
   "metadata": {
    "colab": {
     "base_uri": "https://localhost:8080/",
     "height": 34
    },
    "colab_type": "code",
    "executionInfo": {
     "elapsed": 1619,
     "status": "ok",
     "timestamp": 1599983630385,
     "user": {
      "displayName": "mallesham yamulla",
      "photoUrl": "",
      "userId": "11771077001880697028"
     },
     "user_tz": -330
    },
    "id": "La4FHNyCc-Ub",
    "outputId": "5b991b40-f006-4f48-a45a-f83c4657a47b"
   },
   "outputs": [
    {
     "data": {
      "text/plain": [
       "30"
      ]
     },
     "execution_count": 10,
     "metadata": {},
     "output_type": "execute_result"
    }
   ],
   "source": [
    "# length of a text\n",
    "len(text_3)"
   ]
  },
  {
   "cell_type": "code",
   "execution_count": 11,
   "metadata": {
    "colab": {
     "base_uri": "https://localhost:8080/",
     "height": 35
    },
    "colab_type": "code",
    "executionInfo": {
     "elapsed": 2642,
     "status": "ok",
     "timestamp": 1599983683849,
     "user": {
      "displayName": "mallesham yamulla",
      "photoUrl": "",
      "userId": "11771077001880697028"
     },
     "user_tz": -330
    },
    "id": "cKMqwYLKdLEF",
    "outputId": "fed9cabb-60fe-4296-f3a0-44e52aaccad9"
   },
   "outputs": [
    {
     "data": {
      "text/plain": [
       "'50'"
      ]
     },
     "execution_count": 11,
     "metadata": {},
     "output_type": "execute_result"
    }
   ],
   "source": [
    "# returns a string representation of object\n",
    "str(50)"
   ]
  },
  {
   "cell_type": "markdown",
   "metadata": {
    "colab_type": "text",
    "id": "fzjVVk-2dcm-"
   },
   "source": [
    "### 1.2 String Indexing"
   ]
  },
  {
   "cell_type": "code",
   "execution_count": 12,
   "metadata": {
    "colab": {},
    "colab_type": "code",
    "executionInfo": {
     "elapsed": 1058,
     "status": "ok",
     "timestamp": 1599983736039,
     "user": {
      "displayName": "mallesham yamulla",
      "photoUrl": "",
      "userId": "11771077001880697028"
     },
     "user_tz": -330
    },
    "id": "cwTB_wFjdX55"
   },
   "outputs": [],
   "source": [
    "# example string\n",
    "text_4 = 'realpython'"
   ]
  },
  {
   "cell_type": "code",
   "execution_count": 13,
   "metadata": {
    "colab": {
     "base_uri": "https://localhost:8080/",
     "height": 35
    },
    "colab_type": "code",
    "executionInfo": {
     "elapsed": 953,
     "status": "ok",
     "timestamp": 1599983803666,
     "user": {
      "displayName": "mallesham yamulla",
      "photoUrl": "",
      "userId": "11771077001880697028"
     },
     "user_tz": -330
    },
    "id": "6e7Z_x2ydlBw",
    "outputId": "a419b91b-caba-4916-8111-038fe5f90b96"
   },
   "outputs": [
    {
     "data": {
      "text/plain": [
       "'lpython'"
      ]
     },
     "execution_count": 13,
     "metadata": {},
     "output_type": "execute_result"
    }
   ],
   "source": [
    "# select letters from 3rd index onwards\n",
    "text_4[3:]"
   ]
  },
  {
   "cell_type": "code",
   "execution_count": 14,
   "metadata": {
    "colab": {
     "base_uri": "https://localhost:8080/",
     "height": 35
    },
    "colab_type": "code",
    "executionInfo": {
     "elapsed": 1370,
     "status": "ok",
     "timestamp": 1599983811917,
     "user": {
      "displayName": "mallesham yamulla",
      "photoUrl": "",
      "userId": "11771077001880697028"
     },
     "user_tz": -330
    },
    "id": "9lEiRWm7dn7Y",
    "outputId": "f4d60e21-b063-4434-8b0d-99790daf8a2c"
   },
   "outputs": [
    {
     "data": {
      "text/plain": [
       "'rea'"
      ]
     },
     "execution_count": 14,
     "metadata": {},
     "output_type": "execute_result"
    }
   ],
   "source": [
    "# select first 3 letters\n",
    "text_4[:3]"
   ]
  },
  {
   "cell_type": "code",
   "execution_count": 15,
   "metadata": {
    "colab": {
     "base_uri": "https://localhost:8080/",
     "height": 35
    },
    "colab_type": "code",
    "executionInfo": {
     "elapsed": 1360,
     "status": "ok",
     "timestamp": 1599984077430,
     "user": {
      "displayName": "mallesham yamulla",
      "photoUrl": "",
      "userId": "11771077001880697028"
     },
     "user_tz": -330
    },
    "id": "UnKBZFZYd3e4",
    "outputId": "64e828f1-0787-4114-aa61-b9b77c2ed6b3"
   },
   "outputs": [
    {
     "data": {
      "text/plain": [
       "'apt'"
      ]
     },
     "execution_count": 15,
     "metadata": {},
     "output_type": "execute_result"
    }
   ],
   "source": [
    "# select second letter in between of 2 and 7 letters\n",
    "text_4[2:8:2]"
   ]
  },
  {
   "cell_type": "markdown",
   "metadata": {
    "colab_type": "text",
    "id": "XgyEHJotfGWA"
   },
   "source": [
    "### 1.3 Built-in String Methods"
   ]
  },
  {
   "cell_type": "code",
   "execution_count": 16,
   "metadata": {
    "colab": {},
    "colab_type": "code",
    "executionInfo": {
     "elapsed": 1148,
     "status": "ok",
     "timestamp": 1599984244744,
     "user": {
      "displayName": "mallesham yamulla",
      "photoUrl": "",
      "userId": "11771077001880697028"
     },
     "user_tz": -330
    },
    "id": "-QFcwnYNfHgc"
   },
   "outputs": [],
   "source": [
    "# define text\n",
    "text_5 = 'cienciadedatos'\n",
    "text_6 = 'Estadistica'"
   ]
  },
  {
   "cell_type": "code",
   "execution_count": 17,
   "metadata": {
    "colab": {
     "base_uri": "https://localhost:8080/",
     "height": 35
    },
    "colab_type": "code",
    "executionInfo": {
     "elapsed": 1159,
     "status": "ok",
     "timestamp": 1599984179206,
     "user": {
      "displayName": "mallesham yamulla",
      "photoUrl": "",
      "userId": "11771077001880697028"
     },
     "user_tz": -330
    },
    "id": "1BN1sxvbfORa",
    "outputId": "d45492af-cff2-4bb3-a8a8-4f090787cd59"
   },
   "outputs": [
    {
     "data": {
      "text/plain": [
       "'Cienciadedatos'"
      ]
     },
     "execution_count": 17,
     "metadata": {},
     "output_type": "execute_result"
    }
   ],
   "source": [
    "# Make first letter to capital\n",
    "text_5.capitalize()"
   ]
  },
  {
   "cell_type": "code",
   "execution_count": 18,
   "metadata": {
    "colab": {
     "base_uri": "https://localhost:8080/",
     "height": 35
    },
    "colab_type": "code",
    "executionInfo": {
     "elapsed": 1076,
     "status": "ok",
     "timestamp": 1599984300755,
     "user": {
      "displayName": "mallesham yamulla",
      "photoUrl": "",
      "userId": "11771077001880697028"
     },
     "user_tz": -330
    },
    "id": "TByXTGl_fRNB",
    "outputId": "3ab7d8ec-67d5-4bb4-d909-94da7e27eab4"
   },
   "outputs": [
    {
     "data": {
      "text/plain": [
       "'estadistica'"
      ]
     },
     "execution_count": 18,
     "metadata": {},
     "output_type": "execute_result"
    }
   ],
   "source": [
    "# Make first letter to small\n",
    "text_6.lower()"
   ]
  },
  {
   "cell_type": "code",
   "execution_count": 19,
   "metadata": {
    "colab": {
     "base_uri": "https://localhost:8080/",
     "height": 35
    },
    "colab_type": "code",
    "executionInfo": {
     "elapsed": 1120,
     "status": "ok",
     "timestamp": 1599984367023,
     "user": {
      "displayName": "mallesham yamulla",
      "photoUrl": "",
      "userId": "11771077001880697028"
     },
     "user_tz": -330
    },
    "id": "ao_Kebcufkda",
    "outputId": "d79740b8-2372-43a6-ca2d-67a021a9a272"
   },
   "outputs": [
    {
     "data": {
      "text/plain": [
       "'CIENCIADEDATOS'"
      ]
     },
     "execution_count": 19,
     "metadata": {},
     "output_type": "execute_result"
    }
   ],
   "source": [
    "# swap from capital to small, small to capital - 1\n",
    "text_5.swapcase()"
   ]
  },
  {
   "cell_type": "code",
   "execution_count": 20,
   "metadata": {
    "colab": {
     "base_uri": "https://localhost:8080/",
     "height": 35
    },
    "colab_type": "code",
    "executionInfo": {
     "elapsed": 881,
     "status": "ok",
     "timestamp": 1599984368340,
     "user": {
      "displayName": "mallesham yamulla",
      "photoUrl": "",
      "userId": "11771077001880697028"
     },
     "user_tz": -330
    },
    "id": "y3S8r1BRf3o8",
    "outputId": "27783e95-4aef-4c5f-a487-f6621506535b"
   },
   "outputs": [
    {
     "data": {
      "text/plain": [
       "'eSTADISTICA'"
      ]
     },
     "execution_count": 20,
     "metadata": {},
     "output_type": "execute_result"
    }
   ],
   "source": [
    "# swap from capital to small, small to capital - 2\n",
    "text_6.swapcase()"
   ]
  },
  {
   "cell_type": "code",
   "execution_count": 21,
   "metadata": {
    "colab": {
     "base_uri": "https://localhost:8080/",
     "height": 35
    },
    "colab_type": "code",
    "executionInfo": {
     "elapsed": 3778,
     "status": "ok",
     "timestamp": 1599984421082,
     "user": {
      "displayName": "mallesham yamulla",
      "photoUrl": "",
      "userId": "11771077001880697028"
     },
     "user_tz": -330
    },
    "id": "wtj1_chrf7DT",
    "outputId": "4f9be490-2372-4bd2-f6d0-3843f11b4a68"
   },
   "outputs": [
    {
     "data": {
      "text/plain": [
       "'Cienciadedatos'"
      ]
     },
     "execution_count": 21,
     "metadata": {},
     "output_type": "execute_result"
    }
   ],
   "source": [
    "# make a text as title text\n",
    "text_5.title()"
   ]
  },
  {
   "cell_type": "code",
   "execution_count": 22,
   "metadata": {
    "colab": {
     "base_uri": "https://localhost:8080/",
     "height": 35
    },
    "colab_type": "code",
    "executionInfo": {
     "elapsed": 1175,
     "status": "ok",
     "timestamp": 1599984497933,
     "user": {
      "displayName": "mallesham yamulla",
      "photoUrl": "",
      "userId": "11771077001880697028"
     },
     "user_tz": -330
    },
    "id": "XTssqmE9gKPe",
    "outputId": "a5b723dc-f1d4-4d9b-9f3d-fe10e47e9c80"
   },
   "outputs": [
    {
     "data": {
      "text/plain": [
       "'ESTADISTICA'"
      ]
     },
     "execution_count": 22,
     "metadata": {},
     "output_type": "execute_result"
    }
   ],
   "source": [
    "# convert small letters to upper letter\n",
    "text_6.upper()"
   ]
  },
  {
   "cell_type": "code",
   "execution_count": 23,
   "metadata": {
    "colab": {
     "base_uri": "https://localhost:8080/",
     "height": 34
    },
    "colab_type": "code",
    "executionInfo": {
     "elapsed": 2384,
     "status": "ok",
     "timestamp": 1599984724912,
     "user": {
      "displayName": "mallesham yamulla",
      "photoUrl": "",
      "userId": "11771077001880697028"
     },
     "user_tz": -330
    },
    "id": "bFbSRcWJgW4P",
    "outputId": "0cf7965f-4213-4548-ff88-24a3f16a5a27"
   },
   "outputs": [
    {
     "data": {
      "text/plain": [
       "2"
      ]
     },
     "execution_count": 23,
     "metadata": {},
     "output_type": "execute_result"
    }
   ],
   "source": [
    "# Count how many of times a letter is appeared - 1\n",
    "text_5.count('a')"
   ]
  },
  {
   "cell_type": "code",
   "execution_count": 24,
   "metadata": {
    "colab": {
     "base_uri": "https://localhost:8080/",
     "height": 34
    },
    "colab_type": "code",
    "executionInfo": {
     "elapsed": 1289,
     "status": "ok",
     "timestamp": 1599984844587,
     "user": {
      "displayName": "mallesham yamulla",
      "photoUrl": "",
      "userId": "11771077001880697028"
     },
     "user_tz": -330
    },
    "id": "0kDhymdphKB9",
    "outputId": "c5d145e2-cc68-42ab-be19-5fff6da70dad"
   },
   "outputs": [
    {
     "data": {
      "text/plain": [
       "1"
      ]
     },
     "execution_count": 24,
     "metadata": {},
     "output_type": "execute_result"
    }
   ],
   "source": [
    "# Count how many of times a letter is appeared in the specified index - 2\n",
    "text_5.count('e',2,5)"
   ]
  },
  {
   "cell_type": "code",
   "execution_count": 25,
   "metadata": {
    "colab": {
     "base_uri": "https://localhost:8080/",
     "height": 34
    },
    "colab_type": "code",
    "executionInfo": {
     "elapsed": 1050,
     "status": "ok",
     "timestamp": 1599984890744,
     "user": {
      "displayName": "mallesham yamulla",
      "photoUrl": "",
      "userId": "11771077001880697028"
     },
     "user_tz": -330
    },
    "id": "pAA_wFvvhoeG",
    "outputId": "314ea76e-a809-4caf-939a-2b082dafd0f0"
   },
   "outputs": [
    {
     "data": {
      "text/plain": [
       "True"
      ]
     },
     "execution_count": 25,
     "metadata": {},
     "output_type": "execute_result"
    }
   ],
   "source": [
    "# check a word starts with a specific letter\n",
    "text_5.startswith('c')"
   ]
  },
  {
   "cell_type": "code",
   "execution_count": 26,
   "metadata": {
    "colab": {
     "base_uri": "https://localhost:8080/",
     "height": 34
    },
    "colab_type": "code",
    "executionInfo": {
     "elapsed": 1193,
     "status": "ok",
     "timestamp": 1599984944731,
     "user": {
      "displayName": "mallesham yamulla",
      "photoUrl": "",
      "userId": "11771077001880697028"
     },
     "user_tz": -330
    },
    "id": "kcj9x4aVh8c0",
    "outputId": "6ac4e97a-02e4-4f82-a1c4-a62be115d3ee"
   },
   "outputs": [
    {
     "data": {
      "text/plain": [
       "True"
      ]
     },
     "execution_count": 26,
     "metadata": {},
     "output_type": "execute_result"
    }
   ],
   "source": [
    "# check a word ends with a specific letter\n",
    "text_5.endswith('s')"
   ]
  },
  {
   "cell_type": "code",
   "execution_count": 27,
   "metadata": {
    "colab": {
     "base_uri": "https://localhost:8080/",
     "height": 34
    },
    "colab_type": "code",
    "executionInfo": {
     "elapsed": 1033,
     "status": "ok",
     "timestamp": 1599985024771,
     "user": {
      "displayName": "mallesham yamulla",
      "photoUrl": "",
      "userId": "11771077001880697028"
     },
     "user_tz": -330
    },
    "id": "BV57PvT1iCdO",
    "outputId": "6949e344-3490-4eb9-f116-a54dab44aa2c"
   },
   "outputs": [
    {
     "data": {
      "text/plain": [
       "4"
      ]
     },
     "execution_count": 27,
     "metadata": {},
     "output_type": "execute_result"
    }
   ],
   "source": [
    "# At which index a given letter is exist - 1\n",
    "text_6.find('di')"
   ]
  },
  {
   "cell_type": "code",
   "execution_count": 28,
   "metadata": {
    "colab": {
     "base_uri": "https://localhost:8080/",
     "height": 34
    },
    "colab_type": "code",
    "executionInfo": {
     "elapsed": 1598,
     "status": "ok",
     "timestamp": 1599985101911,
     "user": {
      "displayName": "mallesham yamulla",
      "photoUrl": "",
      "userId": "11771077001880697028"
     },
     "user_tz": -330
    },
    "id": "x9kL8VoGidNG",
    "outputId": "31f9fc04-78be-40dd-a2e8-96d96397ecfa"
   },
   "outputs": [
    {
     "data": {
      "text/plain": [
       "-1"
      ]
     },
     "execution_count": 28,
     "metadata": {},
     "output_type": "execute_result"
    }
   ],
   "source": [
    "# At which index a given letter is exist - 2\n",
    "text_6.find('de')"
   ]
  },
  {
   "cell_type": "code",
   "execution_count": 29,
   "metadata": {
    "colab": {
     "base_uri": "https://localhost:8080/",
     "height": 34
    },
    "colab_type": "code",
    "executionInfo": {
     "elapsed": 1432,
     "status": "ok",
     "timestamp": 1599985288991,
     "user": {
      "displayName": "mallesham yamulla",
      "photoUrl": "",
      "userId": "11771077001880697028"
     },
     "user_tz": -330
    },
    "id": "uS_xDRB8i1u3",
    "outputId": "9d7c2c90-3d67-4b20-a43b-07644be530eb"
   },
   "outputs": [
    {
     "data": {
      "text/plain": [
       "8"
      ]
     },
     "execution_count": 29,
     "metadata": {},
     "output_type": "execute_result"
    }
   ],
   "source": [
    "# returns an index of specified letter\n",
    "text_6.rindex('i')"
   ]
  },
  {
   "cell_type": "code",
   "execution_count": 30,
   "metadata": {
    "colab": {
     "base_uri": "https://localhost:8080/",
     "height": 35
    },
    "colab_type": "code",
    "executionInfo": {
     "elapsed": 1084,
     "status": "ok",
     "timestamp": 1599985258339,
     "user": {
      "displayName": "mallesham yamulla",
      "photoUrl": "",
      "userId": "11771077001880697028"
     },
     "user_tz": -330
    },
    "id": "ppMhjylRjGdI",
    "outputId": "23f4f494-48c4-4022-c906-27ec78f94573"
   },
   "outputs": [
    {
     "data": {
      "text/plain": [
       "'Estadistica'"
      ]
     },
     "execution_count": 30,
     "metadata": {},
     "output_type": "execute_result"
    }
   ],
   "source": [
    "text_6"
   ]
  },
  {
   "cell_type": "markdown",
   "metadata": {
    "colab_type": "text",
    "id": "YftsmS-ijsLQ"
   },
   "source": [
    "### 1.4 Character Classification"
   ]
  },
  {
   "cell_type": "code",
   "execution_count": 31,
   "metadata": {
    "colab": {},
    "colab_type": "code",
    "executionInfo": {
     "elapsed": 3065,
     "status": "ok",
     "timestamp": 1599985528702,
     "user": {
      "displayName": "mallesham yamulla",
      "photoUrl": "",
      "userId": "11771077001880697028"
     },
     "user_tz": -330
    },
    "id": "m5vYP5SHjtjq"
   },
   "outputs": [],
   "source": [
    "# define a text\n",
    "text_7 = 'Srciencia@2020'"
   ]
  },
  {
   "cell_type": "code",
   "execution_count": 32,
   "metadata": {
    "colab": {
     "base_uri": "https://localhost:8080/",
     "height": 34
    },
    "colab_type": "code",
    "executionInfo": {
     "elapsed": 2406,
     "status": "ok",
     "timestamp": 1599985531887,
     "user": {
      "displayName": "mallesham yamulla",
      "photoUrl": "",
      "userId": "11771077001880697028"
     },
     "user_tz": -330
    },
    "id": "rNcbuiNRj292",
    "outputId": "fa897c31-2db2-4a05-c8e8-76c3e6027fec"
   },
   "outputs": [
    {
     "data": {
      "text/plain": [
       "False"
      ]
     },
     "execution_count": 32,
     "metadata": {},
     "output_type": "execute_result"
    }
   ],
   "source": [
    "# check if it is an alphanumeric\n",
    "text_7.isalnum()"
   ]
  },
  {
   "cell_type": "code",
   "execution_count": 33,
   "metadata": {
    "colab": {
     "base_uri": "https://localhost:8080/",
     "height": 34
    },
    "colab_type": "code",
    "executionInfo": {
     "elapsed": 1080,
     "status": "ok",
     "timestamp": 1599985641924,
     "user": {
      "displayName": "mallesham yamulla",
      "photoUrl": "",
      "userId": "11771077001880697028"
     },
     "user_tz": -330
    },
    "id": "eQSxKFS5j5f6",
    "outputId": "586d853a-7eaf-4c47-ac3b-7f1eab27a0e5"
   },
   "outputs": [
    {
     "data": {
      "text/plain": [
       "True"
      ]
     },
     "execution_count": 33,
     "metadata": {},
     "output_type": "execute_result"
    }
   ],
   "source": [
    "# check if it is an alphanumeric\n",
    "text_7[:9].isalnum()"
   ]
  },
  {
   "cell_type": "code",
   "execution_count": 34,
   "metadata": {
    "colab": {
     "base_uri": "https://localhost:8080/",
     "height": 34
    },
    "colab_type": "code",
    "executionInfo": {
     "elapsed": 1165,
     "status": "ok",
     "timestamp": 1599985776269,
     "user": {
      "displayName": "mallesham yamulla",
      "photoUrl": "",
      "userId": "11771077001880697028"
     },
     "user_tz": -330
    },
    "id": "ouJGGiLUkhma",
    "outputId": "c11d4d4a-b630-494c-92ab-63fe2d8c000c"
   },
   "outputs": [
    {
     "data": {
      "text/plain": [
       "True"
      ]
     },
     "execution_count": 34,
     "metadata": {},
     "output_type": "execute_result"
    }
   ],
   "source": [
    "# check if it is a digit\n",
    "text_7[10:].isdigit()"
   ]
  },
  {
   "cell_type": "code",
   "execution_count": null,
   "metadata": {
    "colab": {},
    "colab_type": "code",
    "id": "w3TQ8Xvfk4jt"
   },
   "outputs": [],
   "source": []
  }
 ],
 "metadata": {
  "colab": {
   "authorship_tag": "ABX9TyMRJD23gDpuTX/lNquS0ExR",
   "collapsed_sections": [
    "VNqFYFZRiB6J",
    "fzjVVk-2dcm-",
    "XgyEHJotfGWA"
   ],
   "name": "rp_string_and_character_data.ipynb",
   "provenance": []
  },
  "kernelspec": {
   "display_name": "Python 3",
   "language": "python",
   "name": "python3"
  },
  "language_info": {
   "codemirror_mode": {
    "name": "ipython",
    "version": 3
   },
   "file_extension": ".py",
   "mimetype": "text/x-python",
   "name": "python",
   "nbconvert_exporter": "python",
   "pygments_lexer": "ipython3",
   "version": "3.8.3"
  }
 },
 "nbformat": 4,
 "nbformat_minor": 4
}