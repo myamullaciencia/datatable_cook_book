{
 "cells": [
  {
   "cell_type": "markdown",
   "metadata": {},
   "source": [
    "# Police activity data analysis "
   ]
  },
  {
   "cell_type": "code",
   "execution_count": null,
   "metadata": {},
   "outputs": [],
   "source": [
    "# Importing libraries\n",
    "import datatable as dt\n",
    "import pandas as pd\n",
    "import altair as alt\n",
    "from datatable import f,by,count,update,sort,join"
   ]
  },
  {
   "cell_type": "code",
   "execution_count": null,
   "metadata": {},
   "outputs": [],
   "source": [
    "dt.init_styles()\n",
    "dt.options.display.head_nrows=4\n",
    "dt.options.display.tail_nrows=4"
   ]
  },
  {
   "cell_type": "code",
   "execution_count": null,
   "metadata": {},
   "outputs": [],
   "source": [
    "policia_dt = dt.fread('https://assets.datacamp.com/production/repositories/1497/datasets/62bd9feef451860db02d26553613a299721882e8/police.csv',na_strings=[\"\"])"
   ]
  },
  {
   "cell_type": "code",
   "execution_count": null,
   "metadata": {},
   "outputs": [],
   "source": [
    "weather_dt = dt.fread('https://assets.datacamp.com/production/repositories/1497/datasets/02f3fb2d4416d3f6626e1117688e0386784e8e55/weather.csv',na_strings=[\"\"])"
   ]
  },
  {
   "cell_type": "code",
   "execution_count": null,
   "metadata": {},
   "outputs": [],
   "source": [
    "policia_dt"
   ]
  },
  {
   "cell_type": "code",
   "execution_count": null,
   "metadata": {},
   "outputs": [],
   "source": [
    "weather_dt"
   ]
  },
  {
   "cell_type": "code",
   "execution_count": null,
   "metadata": {},
   "outputs": [],
   "source": [
    "# count the number of missing values\n",
    "policia_dt.countna()"
   ]
  },
  {
   "cell_type": "code",
   "execution_count": null,
   "metadata": {},
   "outputs": [],
   "source": [
    "del policia_dt[:,['county_name', 'state']]"
   ]
  },
  {
   "cell_type": "code",
   "execution_count": null,
   "metadata": {},
   "outputs": [],
   "source": [
    "policia_dt"
   ]
  },
  {
   "cell_type": "code",
   "execution_count": null,
   "metadata": {},
   "outputs": [],
   "source": [
    "policia_dt[:,count(),by(f.driver_gender)]"
   ]
  },
  {
   "cell_type": "code",
   "execution_count": null,
   "metadata": {},
   "outputs": [],
   "source": [
    "policia_tidy_dt = policia_dt[~dt.isna(f.driver_gender),:]"
   ]
  },
  {
   "cell_type": "code",
   "execution_count": null,
   "metadata": {},
   "outputs": [],
   "source": [
    "policia_tidy_df = policia_tidy_dt.to_pandas()"
   ]
  },
  {
   "cell_type": "code",
   "execution_count": null,
   "metadata": {},
   "outputs": [],
   "source": [
    "policia_tidy_df.info()"
   ]
  },
  {
   "cell_type": "code",
   "execution_count": null,
   "metadata": {},
   "outputs": [],
   "source": [
    "policia_tidy_df"
   ]
  },
  {
   "cell_type": "code",
   "execution_count": null,
   "metadata": {},
   "outputs": [],
   "source": [
    "policia_tidy_dt[:,count(),by(f.violation)\n",
    "               ][:,f[:].extend({'grand_tot':dt.sum(f.count)})\n",
    "                ][:,f[:].extend({'prop':f.count/f.grand_tot})\n",
    "                 ][:,f[:].remove(f.grand_tot),sort(-f.prop)\n",
    "                  ]"
   ]
  },
  {
   "cell_type": "code",
   "execution_count": null,
   "metadata": {},
   "outputs": [],
   "source": [
    "policia_tidy_dt[:,count(),by(f.driver_gender,f.violation)\n",
    "               ][:,f[:].extend({'group_tot':dt.sum(f.count)}),by(f.driver_gender)\n",
    "                ][:,f[:].extend({'prop':f.count/f.group_tot})\n",
    "                 ][:,f[:].remove(f[1])]"
   ]
  },
  {
   "cell_type": "code",
   "execution_count": null,
   "metadata": {},
   "outputs": [],
   "source": [
    "policia_tidy_dt[f.violation==\"Speeding\",:\n",
    "               ][:,count(),by(f.driver_gender,f.stop_outcome)\n",
    "                ][:,f[:].extend({'group_total':dt.sum(f.count)}),by(f.driver_gender)\n",
    "                 ][:,f[:].extend({'prop':f.count/f.group_total})\n",
    "                  ][:,f[:].remove([f[1]])]"
   ]
  },
  {
   "cell_type": "code",
   "execution_count": null,
   "metadata": {},
   "outputs": [],
   "source": [
    "policia_tidy_dt[:,count(),by(f.search_conducted)\n",
    "               ]"
   ]
  },
  {
   "cell_type": "code",
   "execution_count": null,
   "metadata": {},
   "outputs": [],
   "source": [
    "policia_tidy_dt[:,count(),by(f.driver_gender,f.search_conducted)\n",
    "               ][:,f[:].extend({'group_total':dt.sum(f.count)}),by(f.driver_gender)\n",
    "                ][:,f[:].extend({'prop':f.count/f.group_total})\n",
    "                 ][:,f[:].remove(f[1])]"
   ]
  },
  {
   "cell_type": "code",
   "execution_count": null,
   "metadata": {},
   "outputs": [],
   "source": [
    "policia_tidy_dt[~dt.isna(f.search_type),:\n",
    "               ][:,count(),by(f.search_type)\n",
    "                ]"
   ]
  },
  {
   "cell_type": "code",
   "execution_count": null,
   "metadata": {},
   "outputs": [],
   "source": [
    "policia_tidy_dt[dt.f.search_type.re_match(\"[\\w\\s\\W]+Frisk\"),:\n",
    "               ][:,count(),by(f.driver_gender)]"
   ]
  },
  {
   "cell_type": "code",
   "execution_count": null,
   "metadata": {},
   "outputs": [],
   "source": [
    "policia_tidy_dt[:,count(),by(f.stop_duration)]"
   ]
  },
  {
   "cell_type": "code",
   "execution_count": null,
   "metadata": {},
   "outputs": [],
   "source": [
    "policia_tidy_dt[:,count(),by(f.stop_duration,f.is_arrested)\n",
    "               ][:,f[:].extend({'group_total':dt.sum(f.count)}),by(f.stop_duration)\n",
    "                ][:,f[:].extend({'prop':f.count/f.group_total})\n",
    "                 ][:,f[:].remove(f[1])]"
   ]
  },
  {
   "cell_type": "code",
   "execution_count": null,
   "metadata": {},
   "outputs": [],
   "source": [
    "policia_tidy_dt[:,count(),by(f.driver_race,f.is_arrested)]"
   ]
  },
  {
   "cell_type": "code",
   "execution_count": null,
   "metadata": {},
   "outputs": [],
   "source": []
  }
 ],
 "metadata": {
  "kernelspec": {
   "display_name": "Python 3",
   "language": "python",
   "name": "python3"
  },
  "language_info": {
   "codemirror_mode": {
    "name": "ipython",
    "version": 3
   },
   "file_extension": ".py",
   "mimetype": "text/x-python",
   "name": "python",
   "nbconvert_exporter": "python",
   "pygments_lexer": "ipython3",
   "version": "3.8.3"
  }
 },
 "nbformat": 4,
 "nbformat_minor": 4
}
